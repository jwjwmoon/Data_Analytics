{
  "nbformat": 4,
  "nbformat_minor": 0,
  "metadata": {
    "colab": {
      "provenance": []
    },
    "kernelspec": {
      "name": "python3",
      "display_name": "Python 3"
    },
    "language_info": {
      "name": "python"
    }
  },
  "cells": [
    {
      "cell_type": "markdown",
      "source": [
        "# **Funnel Analysis for Cosmetics Datasets**\n",
        "\n",
        "This project analyzes user behavior data from a cosmetics e-commerce platform to understand the purchase process and identify key opportunities for increasing sales, utilizing funnel analysis as the primary method. Funnel analysis allows for a detailed breakdown of the purchasing process—tracking how users progress from product browsing to adding items to their cart and finally making a purchase—while quantifying the drop-off rates at each stage. By identifying where the most significant drop-offs occur, the analysis highlights the main obstacles to higher conversion rates and suggests practical strategies for improvement.\n",
        "\n",
        "Insights derived from this process are intended to support sales growth, increase customer engagement, and ultimately boost the overall conversion rate for the platform."
      ],
      "metadata": {
        "id": "MlkwDl79_d3x"
      }
    },
    {
      "cell_type": "markdown",
      "source": [
        "#### **Data Description**\n",
        "\n",
        "- event_time: The time when the event occurred (in UTC)\n",
        "\n",
        "- event_type: Type of event (e.g., purchase)\n",
        "\n",
        "- product_id: Product ID\n",
        "\n",
        "- category_id: Category ID of the product\n",
        "\n",
        "- category_code: Product category code (present if the category has a meaningful label)\n",
        "\n",
        "- brand: Brand name (lowercase, may be omitted)\n",
        "\n",
        "- price: Price of the product\n",
        "\n",
        "- user_id: User ID\n",
        "\n",
        "- user_session: User session ID (temporary, changes with each session)"
      ],
      "metadata": {
        "id": "SgLz3DtnAmRJ"
      }
    },
    {
      "cell_type": "markdown",
      "source": [
        "## **I. Data Loading**"
      ],
      "metadata": {
        "id": "TVnoth7UJoSq"
      }
    },
    {
      "cell_type": "code",
      "source": [
        "import numpy as np\n",
        "import pandas as pd\n",
        "\n",
        "!apt-get -qq install fonts-nanum\n",
        "import matplotlib.pyplot as plt\n",
        "from matplotlib import rc\n",
        "import seaborn as sns\n",
        "\n",
        "plt.rc('font', family='NanumGothic')\n",
        "plt.rc('font', family='AppleGothic')\n",
        "plt.rcParams['font.family'] = 'DejaVu Sans'\n",
        "plt.rcParams['axes.unicode_minus'] = False\n",
        "# plt.rcParams['figure.figsize'] = (10, 5)\n",
        "\n",
        "import warnings\n",
        "warnings.filterwarnings('ignore')"
      ],
      "metadata": {
        "colab": {
          "base_uri": "https://localhost:8080/"
        },
        "id": "9sJ6IofWWCT0",
        "outputId": "b773748c-cc95-4cce-9f9c-e99b757403bb"
      },
      "execution_count": 1,
      "outputs": [
        {
          "output_type": "stream",
          "name": "stdout",
          "text": [
            "Selecting previously unselected package fonts-nanum.\n",
            "(Reading database ... 126281 files and directories currently installed.)\n",
            "Preparing to unpack .../fonts-nanum_20200506-1_all.deb ...\n",
            "Unpacking fonts-nanum (20200506-1) ...\n",
            "Setting up fonts-nanum (20200506-1) ...\n",
            "Processing triggers for fontconfig (2.13.1-4.2ubuntu5) ...\n"
          ]
        }
      ]
    },
    {
      "cell_type": "code",
      "source": [
        "!pip install plotly\n",
        "!pip install plotly --upgrade"
      ],
      "metadata": {
        "colab": {
          "base_uri": "https://localhost:8080/"
        },
        "id": "CPM3hlnGlXQn",
        "outputId": "b0610b46-c36a-453d-f12a-862de317112a"
      },
      "execution_count": 3,
      "outputs": [
        {
          "output_type": "stream",
          "name": "stdout",
          "text": [
            "Requirement already satisfied: plotly in /usr/local/lib/python3.11/dist-packages (6.2.0)\n",
            "Requirement already satisfied: narwhals>=1.15.1 in /usr/local/lib/python3.11/dist-packages (from plotly) (1.45.0)\n",
            "Requirement already satisfied: packaging in /usr/local/lib/python3.11/dist-packages (from plotly) (24.2)\n",
            "Requirement already satisfied: plotly in /usr/local/lib/python3.11/dist-packages (6.2.0)\n",
            "Requirement already satisfied: narwhals>=1.15.1 in /usr/local/lib/python3.11/dist-packages (from plotly) (1.45.0)\n",
            "Requirement already satisfied: packaging in /usr/local/lib/python3.11/dist-packages (from plotly) (24.2)\n"
          ]
        }
      ]
    },
    {
      "cell_type": "code",
      "source": [
        "import plotly.express as px\n",
        "import plotly.graph_objs as go\n",
        "import plotly.figure_factory as ff\n",
        "\n",
        "import cufflinks as cf\n",
        "\n",
        "from IPython.core.interactiveshell import InteractiveShell\n",
        "\n",
        "from plotly.offline import iplot\n",
        "cf.go_offline()\n",
        "\n",
        "cf.set_config_file(world_readable=True, theme='pearl', offline=True)"
      ],
      "metadata": {
        "colab": {
          "base_uri": "https://localhost:8080/",
          "height": 17
        },
        "id": "hDlYqkL4mhf8",
        "outputId": "0b1129df-2f22-4cdc-8308-fb60e40f938b"
      },
      "execution_count": 5,
      "outputs": [
        {
          "output_type": "display_data",
          "data": {
            "text/html": [
              "        <script type=\"text/javascript\">\n",
              "        window.PlotlyConfig = {MathJaxConfig: 'local'};\n",
              "        if (window.MathJax && window.MathJax.Hub && window.MathJax.Hub.Config) {window.MathJax.Hub.Config({SVG: {font: \"STIX-Web\"}});}\n",
              "        </script>\n",
              "        <script type=\"module\">import \"https://cdn.plot.ly/plotly-3.0.1.min\"</script>\n",
              "        "
            ]
          },
          "metadata": {}
        },
        {
          "output_type": "display_data",
          "data": {
            "text/html": [
              "        <script type=\"text/javascript\">\n",
              "        window.PlotlyConfig = {MathJaxConfig: 'local'};\n",
              "        if (window.MathJax && window.MathJax.Hub && window.MathJax.Hub.Config) {window.MathJax.Hub.Config({SVG: {font: \"STIX-Web\"}});}\n",
              "        </script>\n",
              "        <script type=\"module\">import \"https://cdn.plot.ly/plotly-3.0.1.min\"</script>\n",
              "        "
            ]
          },
          "metadata": {}
        }
      ]
    },
    {
      "cell_type": "code",
      "source": [
        "from google.colab import drive\n",
        "drive.mount('/content/drive')"
      ],
      "metadata": {
        "colab": {
          "base_uri": "https://localhost:8080/"
        },
        "id": "xNnfen6kWCuH",
        "outputId": "10cfc4a3-166d-48e7-fc51-7843a6373ed3"
      },
      "execution_count": 6,
      "outputs": [
        {
          "output_type": "stream",
          "name": "stdout",
          "text": [
            "Mounted at /content/drive\n"
          ]
        }
      ]
    },
    {
      "cell_type": "code",
      "source": [
        "df = pd.read_csv('/content/drive/MyDrive/DataAnalytics/cosmetic.csv')\n",
        "df.head()"
      ],
      "metadata": {
        "colab": {
          "base_uri": "https://localhost:8080/",
          "height": 400
        },
        "id": "sDCTey0TWCxm",
        "outputId": "bf823618-8482-4fe4-9a00-c2ebce1c185b"
      },
      "execution_count": 7,
      "outputs": [
        {
          "output_type": "execute_result",
          "data": {
            "text/plain": [
              "                event_time        event_type  product_id          category_id  \\\n",
              "0  2019-12-01 00:00:00 UTC  remove_from_cart     5712790  1487580005268456287   \n",
              "1  2019-12-01 00:00:00 UTC              view     5764655  1487580005411062629   \n",
              "2  2019-12-01 00:00:02 UTC              cart        4958  1487580009471148064   \n",
              "3  2019-12-01 00:00:05 UTC              view     5848413  1487580007675986893   \n",
              "4  2019-12-01 00:00:07 UTC              view     5824148  1487580005511725929   \n",
              "\n",
              "  category_code      brand  price    user_id  \\\n",
              "0           NaN      f.o.x   6.27  576802932   \n",
              "1           NaN        cnd  29.05  412120092   \n",
              "2           NaN     runail   1.19  494077766   \n",
              "3           NaN  freedecor   0.79  348405118   \n",
              "4           NaN        NaN   5.56  576005683   \n",
              "\n",
              "                           user_session  \n",
              "0  51d85cb0-897f-48d2-918b-ad63965c12dc  \n",
              "1  8adff31e-2051-4894-9758-224bfa8aec18  \n",
              "2  c99a50e8-2fac-4c4d-89ec-41c05f114554  \n",
              "3  722ffea5-73c0-4924-8e8f-371ff8031af4  \n",
              "4  28172809-7e4a-45ce-bab0-5efa90117cd5  "
            ],
            "text/html": [
              "\n",
              "  <div id=\"df-816f0a6d-5389-41b9-99da-bfbdf8f0b141\" class=\"colab-df-container\">\n",
              "    <div>\n",
              "<style scoped>\n",
              "    .dataframe tbody tr th:only-of-type {\n",
              "        vertical-align: middle;\n",
              "    }\n",
              "\n",
              "    .dataframe tbody tr th {\n",
              "        vertical-align: top;\n",
              "    }\n",
              "\n",
              "    .dataframe thead th {\n",
              "        text-align: right;\n",
              "    }\n",
              "</style>\n",
              "<table border=\"1\" class=\"dataframe\">\n",
              "  <thead>\n",
              "    <tr style=\"text-align: right;\">\n",
              "      <th></th>\n",
              "      <th>event_time</th>\n",
              "      <th>event_type</th>\n",
              "      <th>product_id</th>\n",
              "      <th>category_id</th>\n",
              "      <th>category_code</th>\n",
              "      <th>brand</th>\n",
              "      <th>price</th>\n",
              "      <th>user_id</th>\n",
              "      <th>user_session</th>\n",
              "    </tr>\n",
              "  </thead>\n",
              "  <tbody>\n",
              "    <tr>\n",
              "      <th>0</th>\n",
              "      <td>2019-12-01 00:00:00 UTC</td>\n",
              "      <td>remove_from_cart</td>\n",
              "      <td>5712790</td>\n",
              "      <td>1487580005268456287</td>\n",
              "      <td>NaN</td>\n",
              "      <td>f.o.x</td>\n",
              "      <td>6.27</td>\n",
              "      <td>576802932</td>\n",
              "      <td>51d85cb0-897f-48d2-918b-ad63965c12dc</td>\n",
              "    </tr>\n",
              "    <tr>\n",
              "      <th>1</th>\n",
              "      <td>2019-12-01 00:00:00 UTC</td>\n",
              "      <td>view</td>\n",
              "      <td>5764655</td>\n",
              "      <td>1487580005411062629</td>\n",
              "      <td>NaN</td>\n",
              "      <td>cnd</td>\n",
              "      <td>29.05</td>\n",
              "      <td>412120092</td>\n",
              "      <td>8adff31e-2051-4894-9758-224bfa8aec18</td>\n",
              "    </tr>\n",
              "    <tr>\n",
              "      <th>2</th>\n",
              "      <td>2019-12-01 00:00:02 UTC</td>\n",
              "      <td>cart</td>\n",
              "      <td>4958</td>\n",
              "      <td>1487580009471148064</td>\n",
              "      <td>NaN</td>\n",
              "      <td>runail</td>\n",
              "      <td>1.19</td>\n",
              "      <td>494077766</td>\n",
              "      <td>c99a50e8-2fac-4c4d-89ec-41c05f114554</td>\n",
              "    </tr>\n",
              "    <tr>\n",
              "      <th>3</th>\n",
              "      <td>2019-12-01 00:00:05 UTC</td>\n",
              "      <td>view</td>\n",
              "      <td>5848413</td>\n",
              "      <td>1487580007675986893</td>\n",
              "      <td>NaN</td>\n",
              "      <td>freedecor</td>\n",
              "      <td>0.79</td>\n",
              "      <td>348405118</td>\n",
              "      <td>722ffea5-73c0-4924-8e8f-371ff8031af4</td>\n",
              "    </tr>\n",
              "    <tr>\n",
              "      <th>4</th>\n",
              "      <td>2019-12-01 00:00:07 UTC</td>\n",
              "      <td>view</td>\n",
              "      <td>5824148</td>\n",
              "      <td>1487580005511725929</td>\n",
              "      <td>NaN</td>\n",
              "      <td>NaN</td>\n",
              "      <td>5.56</td>\n",
              "      <td>576005683</td>\n",
              "      <td>28172809-7e4a-45ce-bab0-5efa90117cd5</td>\n",
              "    </tr>\n",
              "  </tbody>\n",
              "</table>\n",
              "</div>\n",
              "    <div class=\"colab-df-buttons\">\n",
              "\n",
              "  <div class=\"colab-df-container\">\n",
              "    <button class=\"colab-df-convert\" onclick=\"convertToInteractive('df-816f0a6d-5389-41b9-99da-bfbdf8f0b141')\"\n",
              "            title=\"Convert this dataframe to an interactive table.\"\n",
              "            style=\"display:none;\">\n",
              "\n",
              "  <svg xmlns=\"http://www.w3.org/2000/svg\" height=\"24px\" viewBox=\"0 -960 960 960\">\n",
              "    <path d=\"M120-120v-720h720v720H120Zm60-500h600v-160H180v160Zm220 220h160v-160H400v160Zm0 220h160v-160H400v160ZM180-400h160v-160H180v160Zm440 0h160v-160H620v160ZM180-180h160v-160H180v160Zm440 0h160v-160H620v160Z\"/>\n",
              "  </svg>\n",
              "    </button>\n",
              "\n",
              "  <style>\n",
              "    .colab-df-container {\n",
              "      display:flex;\n",
              "      gap: 12px;\n",
              "    }\n",
              "\n",
              "    .colab-df-convert {\n",
              "      background-color: #E8F0FE;\n",
              "      border: none;\n",
              "      border-radius: 50%;\n",
              "      cursor: pointer;\n",
              "      display: none;\n",
              "      fill: #1967D2;\n",
              "      height: 32px;\n",
              "      padding: 0 0 0 0;\n",
              "      width: 32px;\n",
              "    }\n",
              "\n",
              "    .colab-df-convert:hover {\n",
              "      background-color: #E2EBFA;\n",
              "      box-shadow: 0px 1px 2px rgba(60, 64, 67, 0.3), 0px 1px 3px 1px rgba(60, 64, 67, 0.15);\n",
              "      fill: #174EA6;\n",
              "    }\n",
              "\n",
              "    .colab-df-buttons div {\n",
              "      margin-bottom: 4px;\n",
              "    }\n",
              "\n",
              "    [theme=dark] .colab-df-convert {\n",
              "      background-color: #3B4455;\n",
              "      fill: #D2E3FC;\n",
              "    }\n",
              "\n",
              "    [theme=dark] .colab-df-convert:hover {\n",
              "      background-color: #434B5C;\n",
              "      box-shadow: 0px 1px 3px 1px rgba(0, 0, 0, 0.15);\n",
              "      filter: drop-shadow(0px 1px 2px rgba(0, 0, 0, 0.3));\n",
              "      fill: #FFFFFF;\n",
              "    }\n",
              "  </style>\n",
              "\n",
              "    <script>\n",
              "      const buttonEl =\n",
              "        document.querySelector('#df-816f0a6d-5389-41b9-99da-bfbdf8f0b141 button.colab-df-convert');\n",
              "      buttonEl.style.display =\n",
              "        google.colab.kernel.accessAllowed ? 'block' : 'none';\n",
              "\n",
              "      async function convertToInteractive(key) {\n",
              "        const element = document.querySelector('#df-816f0a6d-5389-41b9-99da-bfbdf8f0b141');\n",
              "        const dataTable =\n",
              "          await google.colab.kernel.invokeFunction('convertToInteractive',\n",
              "                                                    [key], {});\n",
              "        if (!dataTable) return;\n",
              "\n",
              "        const docLinkHtml = 'Like what you see? Visit the ' +\n",
              "          '<a target=\"_blank\" href=https://colab.research.google.com/notebooks/data_table.ipynb>data table notebook</a>'\n",
              "          + ' to learn more about interactive tables.';\n",
              "        element.innerHTML = '';\n",
              "        dataTable['output_type'] = 'display_data';\n",
              "        await google.colab.output.renderOutput(dataTable, element);\n",
              "        const docLink = document.createElement('div');\n",
              "        docLink.innerHTML = docLinkHtml;\n",
              "        element.appendChild(docLink);\n",
              "      }\n",
              "    </script>\n",
              "  </div>\n",
              "\n",
              "\n",
              "    <div id=\"df-c00f2263-0265-4801-a02b-02ff1ead7b5d\">\n",
              "      <button class=\"colab-df-quickchart\" onclick=\"quickchart('df-c00f2263-0265-4801-a02b-02ff1ead7b5d')\"\n",
              "                title=\"Suggest charts\"\n",
              "                style=\"display:none;\">\n",
              "\n",
              "<svg xmlns=\"http://www.w3.org/2000/svg\" height=\"24px\"viewBox=\"0 0 24 24\"\n",
              "     width=\"24px\">\n",
              "    <g>\n",
              "        <path d=\"M19 3H5c-1.1 0-2 .9-2 2v14c0 1.1.9 2 2 2h14c1.1 0 2-.9 2-2V5c0-1.1-.9-2-2-2zM9 17H7v-7h2v7zm4 0h-2V7h2v10zm4 0h-2v-4h2v4z\"/>\n",
              "    </g>\n",
              "</svg>\n",
              "      </button>\n",
              "\n",
              "<style>\n",
              "  .colab-df-quickchart {\n",
              "      --bg-color: #E8F0FE;\n",
              "      --fill-color: #1967D2;\n",
              "      --hover-bg-color: #E2EBFA;\n",
              "      --hover-fill-color: #174EA6;\n",
              "      --disabled-fill-color: #AAA;\n",
              "      --disabled-bg-color: #DDD;\n",
              "  }\n",
              "\n",
              "  [theme=dark] .colab-df-quickchart {\n",
              "      --bg-color: #3B4455;\n",
              "      --fill-color: #D2E3FC;\n",
              "      --hover-bg-color: #434B5C;\n",
              "      --hover-fill-color: #FFFFFF;\n",
              "      --disabled-bg-color: #3B4455;\n",
              "      --disabled-fill-color: #666;\n",
              "  }\n",
              "\n",
              "  .colab-df-quickchart {\n",
              "    background-color: var(--bg-color);\n",
              "    border: none;\n",
              "    border-radius: 50%;\n",
              "    cursor: pointer;\n",
              "    display: none;\n",
              "    fill: var(--fill-color);\n",
              "    height: 32px;\n",
              "    padding: 0;\n",
              "    width: 32px;\n",
              "  }\n",
              "\n",
              "  .colab-df-quickchart:hover {\n",
              "    background-color: var(--hover-bg-color);\n",
              "    box-shadow: 0 1px 2px rgba(60, 64, 67, 0.3), 0 1px 3px 1px rgba(60, 64, 67, 0.15);\n",
              "    fill: var(--button-hover-fill-color);\n",
              "  }\n",
              "\n",
              "  .colab-df-quickchart-complete:disabled,\n",
              "  .colab-df-quickchart-complete:disabled:hover {\n",
              "    background-color: var(--disabled-bg-color);\n",
              "    fill: var(--disabled-fill-color);\n",
              "    box-shadow: none;\n",
              "  }\n",
              "\n",
              "  .colab-df-spinner {\n",
              "    border: 2px solid var(--fill-color);\n",
              "    border-color: transparent;\n",
              "    border-bottom-color: var(--fill-color);\n",
              "    animation:\n",
              "      spin 1s steps(1) infinite;\n",
              "  }\n",
              "\n",
              "  @keyframes spin {\n",
              "    0% {\n",
              "      border-color: transparent;\n",
              "      border-bottom-color: var(--fill-color);\n",
              "      border-left-color: var(--fill-color);\n",
              "    }\n",
              "    20% {\n",
              "      border-color: transparent;\n",
              "      border-left-color: var(--fill-color);\n",
              "      border-top-color: var(--fill-color);\n",
              "    }\n",
              "    30% {\n",
              "      border-color: transparent;\n",
              "      border-left-color: var(--fill-color);\n",
              "      border-top-color: var(--fill-color);\n",
              "      border-right-color: var(--fill-color);\n",
              "    }\n",
              "    40% {\n",
              "      border-color: transparent;\n",
              "      border-right-color: var(--fill-color);\n",
              "      border-top-color: var(--fill-color);\n",
              "    }\n",
              "    60% {\n",
              "      border-color: transparent;\n",
              "      border-right-color: var(--fill-color);\n",
              "    }\n",
              "    80% {\n",
              "      border-color: transparent;\n",
              "      border-right-color: var(--fill-color);\n",
              "      border-bottom-color: var(--fill-color);\n",
              "    }\n",
              "    90% {\n",
              "      border-color: transparent;\n",
              "      border-bottom-color: var(--fill-color);\n",
              "    }\n",
              "  }\n",
              "</style>\n",
              "\n",
              "      <script>\n",
              "        async function quickchart(key) {\n",
              "          const quickchartButtonEl =\n",
              "            document.querySelector('#' + key + ' button');\n",
              "          quickchartButtonEl.disabled = true;  // To prevent multiple clicks.\n",
              "          quickchartButtonEl.classList.add('colab-df-spinner');\n",
              "          try {\n",
              "            const charts = await google.colab.kernel.invokeFunction(\n",
              "                'suggestCharts', [key], {});\n",
              "          } catch (error) {\n",
              "            console.error('Error during call to suggestCharts:', error);\n",
              "          }\n",
              "          quickchartButtonEl.classList.remove('colab-df-spinner');\n",
              "          quickchartButtonEl.classList.add('colab-df-quickchart-complete');\n",
              "        }\n",
              "        (() => {\n",
              "          let quickchartButtonEl =\n",
              "            document.querySelector('#df-c00f2263-0265-4801-a02b-02ff1ead7b5d button');\n",
              "          quickchartButtonEl.style.display =\n",
              "            google.colab.kernel.accessAllowed ? 'block' : 'none';\n",
              "        })();\n",
              "      </script>\n",
              "    </div>\n",
              "\n",
              "    </div>\n",
              "  </div>\n"
            ],
            "application/vnd.google.colaboratory.intrinsic+json": {
              "type": "dataframe",
              "variable_name": "df"
            }
          },
          "metadata": {},
          "execution_count": 7
        }
      ]
    },
    {
      "cell_type": "markdown",
      "source": [
        "## **II. Data Preprocessing**"
      ],
      "metadata": {
        "id": "5qA7yhwZYEqt"
      }
    },
    {
      "cell_type": "code",
      "source": [
        "df.shape"
      ],
      "metadata": {
        "colab": {
          "base_uri": "https://localhost:8080/"
        },
        "id": "Pg861yBDWC0m",
        "outputId": "a76c6fd8-98bb-4e5e-8ab2-78f4e174ddb1"
      },
      "execution_count": 8,
      "outputs": [
        {
          "output_type": "execute_result",
          "data": {
            "text/plain": [
              "(3533286, 9)"
            ]
          },
          "metadata": {},
          "execution_count": 8
        }
      ]
    },
    {
      "cell_type": "code",
      "source": [
        "df.info()"
      ],
      "metadata": {
        "colab": {
          "base_uri": "https://localhost:8080/"
        },
        "id": "WGWPd9T3WC4U",
        "outputId": "84989a3a-6deb-48ed-a48e-3fce2d83b938"
      },
      "execution_count": 9,
      "outputs": [
        {
          "output_type": "stream",
          "name": "stdout",
          "text": [
            "<class 'pandas.core.frame.DataFrame'>\n",
            "RangeIndex: 3533286 entries, 0 to 3533285\n",
            "Data columns (total 9 columns):\n",
            " #   Column         Dtype  \n",
            "---  ------         -----  \n",
            " 0   event_time     object \n",
            " 1   event_type     object \n",
            " 2   product_id     int64  \n",
            " 3   category_id    int64  \n",
            " 4   category_code  object \n",
            " 5   brand          object \n",
            " 6   price          float64\n",
            " 7   user_id        int64  \n",
            " 8   user_session   object \n",
            "dtypes: float64(1), int64(3), object(5)\n",
            "memory usage: 242.6+ MB\n"
          ]
        }
      ]
    },
    {
      "cell_type": "code",
      "source": [
        "df['event_time'] = pd.to_datetime(df['event_time'])\n",
        "df['event_time']"
      ],
      "metadata": {
        "colab": {
          "base_uri": "https://localhost:8080/",
          "height": 458
        },
        "id": "y_g-Aan4Wdba",
        "outputId": "13ff0b97-5344-444c-8fe6-d2fb4f0d421c"
      },
      "execution_count": 10,
      "outputs": [
        {
          "output_type": "execute_result",
          "data": {
            "text/plain": [
              "0         2019-12-01 00:00:00+00:00\n",
              "1         2019-12-01 00:00:00+00:00\n",
              "2         2019-12-01 00:00:02+00:00\n",
              "3         2019-12-01 00:00:05+00:00\n",
              "4         2019-12-01 00:00:07+00:00\n",
              "                     ...           \n",
              "3533281   2019-12-31 23:59:39+00:00\n",
              "3533282   2019-12-31 23:59:46+00:00\n",
              "3533283   2019-12-31 23:59:51+00:00\n",
              "3533284   2019-12-31 23:59:52+00:00\n",
              "3533285   2019-12-31 23:59:57+00:00\n",
              "Name: event_time, Length: 3533286, dtype: datetime64[ns, UTC]"
            ],
            "text/html": [
              "<div>\n",
              "<style scoped>\n",
              "    .dataframe tbody tr th:only-of-type {\n",
              "        vertical-align: middle;\n",
              "    }\n",
              "\n",
              "    .dataframe tbody tr th {\n",
              "        vertical-align: top;\n",
              "    }\n",
              "\n",
              "    .dataframe thead th {\n",
              "        text-align: right;\n",
              "    }\n",
              "</style>\n",
              "<table border=\"1\" class=\"dataframe\">\n",
              "  <thead>\n",
              "    <tr style=\"text-align: right;\">\n",
              "      <th></th>\n",
              "      <th>event_time</th>\n",
              "    </tr>\n",
              "  </thead>\n",
              "  <tbody>\n",
              "    <tr>\n",
              "      <th>0</th>\n",
              "      <td>2019-12-01 00:00:00+00:00</td>\n",
              "    </tr>\n",
              "    <tr>\n",
              "      <th>1</th>\n",
              "      <td>2019-12-01 00:00:00+00:00</td>\n",
              "    </tr>\n",
              "    <tr>\n",
              "      <th>2</th>\n",
              "      <td>2019-12-01 00:00:02+00:00</td>\n",
              "    </tr>\n",
              "    <tr>\n",
              "      <th>3</th>\n",
              "      <td>2019-12-01 00:00:05+00:00</td>\n",
              "    </tr>\n",
              "    <tr>\n",
              "      <th>4</th>\n",
              "      <td>2019-12-01 00:00:07+00:00</td>\n",
              "    </tr>\n",
              "    <tr>\n",
              "      <th>...</th>\n",
              "      <td>...</td>\n",
              "    </tr>\n",
              "    <tr>\n",
              "      <th>3533281</th>\n",
              "      <td>2019-12-31 23:59:39+00:00</td>\n",
              "    </tr>\n",
              "    <tr>\n",
              "      <th>3533282</th>\n",
              "      <td>2019-12-31 23:59:46+00:00</td>\n",
              "    </tr>\n",
              "    <tr>\n",
              "      <th>3533283</th>\n",
              "      <td>2019-12-31 23:59:51+00:00</td>\n",
              "    </tr>\n",
              "    <tr>\n",
              "      <th>3533284</th>\n",
              "      <td>2019-12-31 23:59:52+00:00</td>\n",
              "    </tr>\n",
              "    <tr>\n",
              "      <th>3533285</th>\n",
              "      <td>2019-12-31 23:59:57+00:00</td>\n",
              "    </tr>\n",
              "  </tbody>\n",
              "</table>\n",
              "<p>3533286 rows × 1 columns</p>\n",
              "</div><br><label><b>dtype:</b> datetime64[ns, UTC]</label>"
            ]
          },
          "metadata": {},
          "execution_count": 10
        }
      ]
    },
    {
      "cell_type": "code",
      "source": [
        "df.isna().sum()"
      ],
      "metadata": {
        "colab": {
          "base_uri": "https://localhost:8080/",
          "height": 366
        },
        "id": "X6SAVZxTWZo3",
        "outputId": "911b776b-0e57-419f-eaa6-16c4abf17bbe"
      },
      "execution_count": 11,
      "outputs": [
        {
          "output_type": "execute_result",
          "data": {
            "text/plain": [
              "event_time             0\n",
              "event_type             0\n",
              "product_id             0\n",
              "category_id            0\n",
              "category_code    3474821\n",
              "brand            1510289\n",
              "price                  0\n",
              "user_id                0\n",
              "user_session         779\n",
              "dtype: int64"
            ],
            "text/html": [
              "<div>\n",
              "<style scoped>\n",
              "    .dataframe tbody tr th:only-of-type {\n",
              "        vertical-align: middle;\n",
              "    }\n",
              "\n",
              "    .dataframe tbody tr th {\n",
              "        vertical-align: top;\n",
              "    }\n",
              "\n",
              "    .dataframe thead th {\n",
              "        text-align: right;\n",
              "    }\n",
              "</style>\n",
              "<table border=\"1\" class=\"dataframe\">\n",
              "  <thead>\n",
              "    <tr style=\"text-align: right;\">\n",
              "      <th></th>\n",
              "      <th>0</th>\n",
              "    </tr>\n",
              "  </thead>\n",
              "  <tbody>\n",
              "    <tr>\n",
              "      <th>event_time</th>\n",
              "      <td>0</td>\n",
              "    </tr>\n",
              "    <tr>\n",
              "      <th>event_type</th>\n",
              "      <td>0</td>\n",
              "    </tr>\n",
              "    <tr>\n",
              "      <th>product_id</th>\n",
              "      <td>0</td>\n",
              "    </tr>\n",
              "    <tr>\n",
              "      <th>category_id</th>\n",
              "      <td>0</td>\n",
              "    </tr>\n",
              "    <tr>\n",
              "      <th>category_code</th>\n",
              "      <td>3474821</td>\n",
              "    </tr>\n",
              "    <tr>\n",
              "      <th>brand</th>\n",
              "      <td>1510289</td>\n",
              "    </tr>\n",
              "    <tr>\n",
              "      <th>price</th>\n",
              "      <td>0</td>\n",
              "    </tr>\n",
              "    <tr>\n",
              "      <th>user_id</th>\n",
              "      <td>0</td>\n",
              "    </tr>\n",
              "    <tr>\n",
              "      <th>user_session</th>\n",
              "      <td>779</td>\n",
              "    </tr>\n",
              "  </tbody>\n",
              "</table>\n",
              "</div><br><label><b>dtype:</b> int64</label>"
            ]
          },
          "metadata": {},
          "execution_count": 11
        }
      ]
    },
    {
      "cell_type": "markdown",
      "source": [
        "With almost 98% of its values missing, the category_code column will be dropped from the dataset."
      ],
      "metadata": {
        "id": "5l7VyS7RfUgO"
      }
    },
    {
      "cell_type": "code",
      "source": [
        "df = df.drop('category_code', axis=1)\n",
        "df.isna().sum()"
      ],
      "metadata": {
        "colab": {
          "base_uri": "https://localhost:8080/",
          "height": 335
        },
        "id": "Ckx0netrWQDJ",
        "outputId": "1092027f-cd11-4bf8-d594-d81dcc6fcce7"
      },
      "execution_count": 12,
      "outputs": [
        {
          "output_type": "execute_result",
          "data": {
            "text/plain": [
              "event_time            0\n",
              "event_type            0\n",
              "product_id            0\n",
              "category_id           0\n",
              "brand           1510289\n",
              "price                 0\n",
              "user_id               0\n",
              "user_session        779\n",
              "dtype: int64"
            ],
            "text/html": [
              "<div>\n",
              "<style scoped>\n",
              "    .dataframe tbody tr th:only-of-type {\n",
              "        vertical-align: middle;\n",
              "    }\n",
              "\n",
              "    .dataframe tbody tr th {\n",
              "        vertical-align: top;\n",
              "    }\n",
              "\n",
              "    .dataframe thead th {\n",
              "        text-align: right;\n",
              "    }\n",
              "</style>\n",
              "<table border=\"1\" class=\"dataframe\">\n",
              "  <thead>\n",
              "    <tr style=\"text-align: right;\">\n",
              "      <th></th>\n",
              "      <th>0</th>\n",
              "    </tr>\n",
              "  </thead>\n",
              "  <tbody>\n",
              "    <tr>\n",
              "      <th>event_time</th>\n",
              "      <td>0</td>\n",
              "    </tr>\n",
              "    <tr>\n",
              "      <th>event_type</th>\n",
              "      <td>0</td>\n",
              "    </tr>\n",
              "    <tr>\n",
              "      <th>product_id</th>\n",
              "      <td>0</td>\n",
              "    </tr>\n",
              "    <tr>\n",
              "      <th>category_id</th>\n",
              "      <td>0</td>\n",
              "    </tr>\n",
              "    <tr>\n",
              "      <th>brand</th>\n",
              "      <td>1510289</td>\n",
              "    </tr>\n",
              "    <tr>\n",
              "      <th>price</th>\n",
              "      <td>0</td>\n",
              "    </tr>\n",
              "    <tr>\n",
              "      <th>user_id</th>\n",
              "      <td>0</td>\n",
              "    </tr>\n",
              "    <tr>\n",
              "      <th>user_session</th>\n",
              "      <td>779</td>\n",
              "    </tr>\n",
              "  </tbody>\n",
              "</table>\n",
              "</div><br><label><b>dtype:</b> int64</label>"
            ]
          },
          "metadata": {},
          "execution_count": 12
        }
      ]
    },
    {
      "cell_type": "markdown",
      "source": [
        "Missing brand values will be filled using the product_id, since products with the same ID share the same brand."
      ],
      "metadata": {
        "id": "BTzZdousdJRK"
      }
    },
    {
      "cell_type": "code",
      "source": [
        "df.query('product_id == 5916983')"
      ],
      "metadata": {
        "colab": {
          "base_uri": "https://localhost:8080/",
          "height": 615
        },
        "id": "3pQob43t4rh8",
        "outputId": "19fb41e8-e026-4064-9b32-c1524dc6c0c0"
      },
      "execution_count": 13,
      "outputs": [
        {
          "output_type": "execute_result",
          "data": {
            "text/plain": [
              "                       event_time        event_type  product_id  \\\n",
              "3374835 2019-12-29 07:11:47+00:00              view     5916983   \n",
              "3397074 2019-12-29 13:00:50+00:00              cart     5916983   \n",
              "3397086 2019-12-29 13:00:55+00:00  remove_from_cart     5916983   \n",
              "3397087 2019-12-29 13:00:55+00:00  remove_from_cart     5916983   \n",
              "3397111 2019-12-29 13:01:02+00:00              view     5916983   \n",
              "3468885 2019-12-30 12:36:57+00:00              cart     5916983   \n",
              "3470599 2019-12-30 12:59:20+00:00              view     5916983   \n",
              "3498570 2019-12-30 21:43:54+00:00              view     5916983   \n",
              "\n",
              "                 category_id      brand  price    user_id  \\\n",
              "3374835  1783999073758478650        NaN   0.00  410144142   \n",
              "3397074  1783999073758478650        NaN   0.00  355374962   \n",
              "3397086  1783999073758478650        NaN   0.00  355374962   \n",
              "3397087  1783999073758478650        NaN   0.00  355374962   \n",
              "3397111  1783999073758478650        NaN   0.00  355374962   \n",
              "3468885  1783999073758478650  beautific  27.52  592007896   \n",
              "3470599  1783999073758478650  beautific  27.52  477270774   \n",
              "3498570  1783999073758478650  beautific  27.52  583884978   \n",
              "\n",
              "                                 user_session  \n",
              "3374835  57484fc7-f6a4-45ba-b95a-9116ead6d96f  \n",
              "3397074  de91420a-9375-4477-b44f-c072e1604f2c  \n",
              "3397086  de91420a-9375-4477-b44f-c072e1604f2c  \n",
              "3397087  de91420a-9375-4477-b44f-c072e1604f2c  \n",
              "3397111  de91420a-9375-4477-b44f-c072e1604f2c  \n",
              "3468885  84475418-083b-4a8e-ab7f-8d38994b1f12  \n",
              "3470599  e5670c53-8674-4725-86e2-dc6bfd39c04c  \n",
              "3498570  d6f873d5-7935-454c-9849-9fbf1b05fd53  "
            ],
            "text/html": [
              "\n",
              "  <div id=\"df-0c5871c4-f961-4539-854b-a19ff5030629\" class=\"colab-df-container\">\n",
              "    <div>\n",
              "<style scoped>\n",
              "    .dataframe tbody tr th:only-of-type {\n",
              "        vertical-align: middle;\n",
              "    }\n",
              "\n",
              "    .dataframe tbody tr th {\n",
              "        vertical-align: top;\n",
              "    }\n",
              "\n",
              "    .dataframe thead th {\n",
              "        text-align: right;\n",
              "    }\n",
              "</style>\n",
              "<table border=\"1\" class=\"dataframe\">\n",
              "  <thead>\n",
              "    <tr style=\"text-align: right;\">\n",
              "      <th></th>\n",
              "      <th>event_time</th>\n",
              "      <th>event_type</th>\n",
              "      <th>product_id</th>\n",
              "      <th>category_id</th>\n",
              "      <th>brand</th>\n",
              "      <th>price</th>\n",
              "      <th>user_id</th>\n",
              "      <th>user_session</th>\n",
              "    </tr>\n",
              "  </thead>\n",
              "  <tbody>\n",
              "    <tr>\n",
              "      <th>3374835</th>\n",
              "      <td>2019-12-29 07:11:47+00:00</td>\n",
              "      <td>view</td>\n",
              "      <td>5916983</td>\n",
              "      <td>1783999073758478650</td>\n",
              "      <td>NaN</td>\n",
              "      <td>0.00</td>\n",
              "      <td>410144142</td>\n",
              "      <td>57484fc7-f6a4-45ba-b95a-9116ead6d96f</td>\n",
              "    </tr>\n",
              "    <tr>\n",
              "      <th>3397074</th>\n",
              "      <td>2019-12-29 13:00:50+00:00</td>\n",
              "      <td>cart</td>\n",
              "      <td>5916983</td>\n",
              "      <td>1783999073758478650</td>\n",
              "      <td>NaN</td>\n",
              "      <td>0.00</td>\n",
              "      <td>355374962</td>\n",
              "      <td>de91420a-9375-4477-b44f-c072e1604f2c</td>\n",
              "    </tr>\n",
              "    <tr>\n",
              "      <th>3397086</th>\n",
              "      <td>2019-12-29 13:00:55+00:00</td>\n",
              "      <td>remove_from_cart</td>\n",
              "      <td>5916983</td>\n",
              "      <td>1783999073758478650</td>\n",
              "      <td>NaN</td>\n",
              "      <td>0.00</td>\n",
              "      <td>355374962</td>\n",
              "      <td>de91420a-9375-4477-b44f-c072e1604f2c</td>\n",
              "    </tr>\n",
              "    <tr>\n",
              "      <th>3397087</th>\n",
              "      <td>2019-12-29 13:00:55+00:00</td>\n",
              "      <td>remove_from_cart</td>\n",
              "      <td>5916983</td>\n",
              "      <td>1783999073758478650</td>\n",
              "      <td>NaN</td>\n",
              "      <td>0.00</td>\n",
              "      <td>355374962</td>\n",
              "      <td>de91420a-9375-4477-b44f-c072e1604f2c</td>\n",
              "    </tr>\n",
              "    <tr>\n",
              "      <th>3397111</th>\n",
              "      <td>2019-12-29 13:01:02+00:00</td>\n",
              "      <td>view</td>\n",
              "      <td>5916983</td>\n",
              "      <td>1783999073758478650</td>\n",
              "      <td>NaN</td>\n",
              "      <td>0.00</td>\n",
              "      <td>355374962</td>\n",
              "      <td>de91420a-9375-4477-b44f-c072e1604f2c</td>\n",
              "    </tr>\n",
              "    <tr>\n",
              "      <th>3468885</th>\n",
              "      <td>2019-12-30 12:36:57+00:00</td>\n",
              "      <td>cart</td>\n",
              "      <td>5916983</td>\n",
              "      <td>1783999073758478650</td>\n",
              "      <td>beautific</td>\n",
              "      <td>27.52</td>\n",
              "      <td>592007896</td>\n",
              "      <td>84475418-083b-4a8e-ab7f-8d38994b1f12</td>\n",
              "    </tr>\n",
              "    <tr>\n",
              "      <th>3470599</th>\n",
              "      <td>2019-12-30 12:59:20+00:00</td>\n",
              "      <td>view</td>\n",
              "      <td>5916983</td>\n",
              "      <td>1783999073758478650</td>\n",
              "      <td>beautific</td>\n",
              "      <td>27.52</td>\n",
              "      <td>477270774</td>\n",
              "      <td>e5670c53-8674-4725-86e2-dc6bfd39c04c</td>\n",
              "    </tr>\n",
              "    <tr>\n",
              "      <th>3498570</th>\n",
              "      <td>2019-12-30 21:43:54+00:00</td>\n",
              "      <td>view</td>\n",
              "      <td>5916983</td>\n",
              "      <td>1783999073758478650</td>\n",
              "      <td>beautific</td>\n",
              "      <td>27.52</td>\n",
              "      <td>583884978</td>\n",
              "      <td>d6f873d5-7935-454c-9849-9fbf1b05fd53</td>\n",
              "    </tr>\n",
              "  </tbody>\n",
              "</table>\n",
              "</div>\n",
              "    <div class=\"colab-df-buttons\">\n",
              "\n",
              "  <div class=\"colab-df-container\">\n",
              "    <button class=\"colab-df-convert\" onclick=\"convertToInteractive('df-0c5871c4-f961-4539-854b-a19ff5030629')\"\n",
              "            title=\"Convert this dataframe to an interactive table.\"\n",
              "            style=\"display:none;\">\n",
              "\n",
              "  <svg xmlns=\"http://www.w3.org/2000/svg\" height=\"24px\" viewBox=\"0 -960 960 960\">\n",
              "    <path d=\"M120-120v-720h720v720H120Zm60-500h600v-160H180v160Zm220 220h160v-160H400v160Zm0 220h160v-160H400v160ZM180-400h160v-160H180v160Zm440 0h160v-160H620v160ZM180-180h160v-160H180v160Zm440 0h160v-160H620v160Z\"/>\n",
              "  </svg>\n",
              "    </button>\n",
              "\n",
              "  <style>\n",
              "    .colab-df-container {\n",
              "      display:flex;\n",
              "      gap: 12px;\n",
              "    }\n",
              "\n",
              "    .colab-df-convert {\n",
              "      background-color: #E8F0FE;\n",
              "      border: none;\n",
              "      border-radius: 50%;\n",
              "      cursor: pointer;\n",
              "      display: none;\n",
              "      fill: #1967D2;\n",
              "      height: 32px;\n",
              "      padding: 0 0 0 0;\n",
              "      width: 32px;\n",
              "    }\n",
              "\n",
              "    .colab-df-convert:hover {\n",
              "      background-color: #E2EBFA;\n",
              "      box-shadow: 0px 1px 2px rgba(60, 64, 67, 0.3), 0px 1px 3px 1px rgba(60, 64, 67, 0.15);\n",
              "      fill: #174EA6;\n",
              "    }\n",
              "\n",
              "    .colab-df-buttons div {\n",
              "      margin-bottom: 4px;\n",
              "    }\n",
              "\n",
              "    [theme=dark] .colab-df-convert {\n",
              "      background-color: #3B4455;\n",
              "      fill: #D2E3FC;\n",
              "    }\n",
              "\n",
              "    [theme=dark] .colab-df-convert:hover {\n",
              "      background-color: #434B5C;\n",
              "      box-shadow: 0px 1px 3px 1px rgba(0, 0, 0, 0.15);\n",
              "      filter: drop-shadow(0px 1px 2px rgba(0, 0, 0, 0.3));\n",
              "      fill: #FFFFFF;\n",
              "    }\n",
              "  </style>\n",
              "\n",
              "    <script>\n",
              "      const buttonEl =\n",
              "        document.querySelector('#df-0c5871c4-f961-4539-854b-a19ff5030629 button.colab-df-convert');\n",
              "      buttonEl.style.display =\n",
              "        google.colab.kernel.accessAllowed ? 'block' : 'none';\n",
              "\n",
              "      async function convertToInteractive(key) {\n",
              "        const element = document.querySelector('#df-0c5871c4-f961-4539-854b-a19ff5030629');\n",
              "        const dataTable =\n",
              "          await google.colab.kernel.invokeFunction('convertToInteractive',\n",
              "                                                    [key], {});\n",
              "        if (!dataTable) return;\n",
              "\n",
              "        const docLinkHtml = 'Like what you see? Visit the ' +\n",
              "          '<a target=\"_blank\" href=https://colab.research.google.com/notebooks/data_table.ipynb>data table notebook</a>'\n",
              "          + ' to learn more about interactive tables.';\n",
              "        element.innerHTML = '';\n",
              "        dataTable['output_type'] = 'display_data';\n",
              "        await google.colab.output.renderOutput(dataTable, element);\n",
              "        const docLink = document.createElement('div');\n",
              "        docLink.innerHTML = docLinkHtml;\n",
              "        element.appendChild(docLink);\n",
              "      }\n",
              "    </script>\n",
              "  </div>\n",
              "\n",
              "\n",
              "    <div id=\"df-e895ba05-905d-4c53-b5ce-01d4de122f69\">\n",
              "      <button class=\"colab-df-quickchart\" onclick=\"quickchart('df-e895ba05-905d-4c53-b5ce-01d4de122f69')\"\n",
              "                title=\"Suggest charts\"\n",
              "                style=\"display:none;\">\n",
              "\n",
              "<svg xmlns=\"http://www.w3.org/2000/svg\" height=\"24px\"viewBox=\"0 0 24 24\"\n",
              "     width=\"24px\">\n",
              "    <g>\n",
              "        <path d=\"M19 3H5c-1.1 0-2 .9-2 2v14c0 1.1.9 2 2 2h14c1.1 0 2-.9 2-2V5c0-1.1-.9-2-2-2zM9 17H7v-7h2v7zm4 0h-2V7h2v10zm4 0h-2v-4h2v4z\"/>\n",
              "    </g>\n",
              "</svg>\n",
              "      </button>\n",
              "\n",
              "<style>\n",
              "  .colab-df-quickchart {\n",
              "      --bg-color: #E8F0FE;\n",
              "      --fill-color: #1967D2;\n",
              "      --hover-bg-color: #E2EBFA;\n",
              "      --hover-fill-color: #174EA6;\n",
              "      --disabled-fill-color: #AAA;\n",
              "      --disabled-bg-color: #DDD;\n",
              "  }\n",
              "\n",
              "  [theme=dark] .colab-df-quickchart {\n",
              "      --bg-color: #3B4455;\n",
              "      --fill-color: #D2E3FC;\n",
              "      --hover-bg-color: #434B5C;\n",
              "      --hover-fill-color: #FFFFFF;\n",
              "      --disabled-bg-color: #3B4455;\n",
              "      --disabled-fill-color: #666;\n",
              "  }\n",
              "\n",
              "  .colab-df-quickchart {\n",
              "    background-color: var(--bg-color);\n",
              "    border: none;\n",
              "    border-radius: 50%;\n",
              "    cursor: pointer;\n",
              "    display: none;\n",
              "    fill: var(--fill-color);\n",
              "    height: 32px;\n",
              "    padding: 0;\n",
              "    width: 32px;\n",
              "  }\n",
              "\n",
              "  .colab-df-quickchart:hover {\n",
              "    background-color: var(--hover-bg-color);\n",
              "    box-shadow: 0 1px 2px rgba(60, 64, 67, 0.3), 0 1px 3px 1px rgba(60, 64, 67, 0.15);\n",
              "    fill: var(--button-hover-fill-color);\n",
              "  }\n",
              "\n",
              "  .colab-df-quickchart-complete:disabled,\n",
              "  .colab-df-quickchart-complete:disabled:hover {\n",
              "    background-color: var(--disabled-bg-color);\n",
              "    fill: var(--disabled-fill-color);\n",
              "    box-shadow: none;\n",
              "  }\n",
              "\n",
              "  .colab-df-spinner {\n",
              "    border: 2px solid var(--fill-color);\n",
              "    border-color: transparent;\n",
              "    border-bottom-color: var(--fill-color);\n",
              "    animation:\n",
              "      spin 1s steps(1) infinite;\n",
              "  }\n",
              "\n",
              "  @keyframes spin {\n",
              "    0% {\n",
              "      border-color: transparent;\n",
              "      border-bottom-color: var(--fill-color);\n",
              "      border-left-color: var(--fill-color);\n",
              "    }\n",
              "    20% {\n",
              "      border-color: transparent;\n",
              "      border-left-color: var(--fill-color);\n",
              "      border-top-color: var(--fill-color);\n",
              "    }\n",
              "    30% {\n",
              "      border-color: transparent;\n",
              "      border-left-color: var(--fill-color);\n",
              "      border-top-color: var(--fill-color);\n",
              "      border-right-color: var(--fill-color);\n",
              "    }\n",
              "    40% {\n",
              "      border-color: transparent;\n",
              "      border-right-color: var(--fill-color);\n",
              "      border-top-color: var(--fill-color);\n",
              "    }\n",
              "    60% {\n",
              "      border-color: transparent;\n",
              "      border-right-color: var(--fill-color);\n",
              "    }\n",
              "    80% {\n",
              "      border-color: transparent;\n",
              "      border-right-color: var(--fill-color);\n",
              "      border-bottom-color: var(--fill-color);\n",
              "    }\n",
              "    90% {\n",
              "      border-color: transparent;\n",
              "      border-bottom-color: var(--fill-color);\n",
              "    }\n",
              "  }\n",
              "</style>\n",
              "\n",
              "      <script>\n",
              "        async function quickchart(key) {\n",
              "          const quickchartButtonEl =\n",
              "            document.querySelector('#' + key + ' button');\n",
              "          quickchartButtonEl.disabled = true;  // To prevent multiple clicks.\n",
              "          quickchartButtonEl.classList.add('colab-df-spinner');\n",
              "          try {\n",
              "            const charts = await google.colab.kernel.invokeFunction(\n",
              "                'suggestCharts', [key], {});\n",
              "          } catch (error) {\n",
              "            console.error('Error during call to suggestCharts:', error);\n",
              "          }\n",
              "          quickchartButtonEl.classList.remove('colab-df-spinner');\n",
              "          quickchartButtonEl.classList.add('colab-df-quickchart-complete');\n",
              "        }\n",
              "        (() => {\n",
              "          let quickchartButtonEl =\n",
              "            document.querySelector('#df-e895ba05-905d-4c53-b5ce-01d4de122f69 button');\n",
              "          quickchartButtonEl.style.display =\n",
              "            google.colab.kernel.accessAllowed ? 'block' : 'none';\n",
              "        })();\n",
              "      </script>\n",
              "    </div>\n",
              "\n",
              "    </div>\n",
              "  </div>\n"
            ],
            "application/vnd.google.colaboratory.intrinsic+json": {
              "type": "dataframe",
              "summary": "{\n  \"name\": \"df\",\n  \"rows\": 8,\n  \"fields\": [\n    {\n      \"column\": \"event_time\",\n      \"properties\": {\n        \"dtype\": \"date\",\n        \"min\": \"2019-12-29 07:11:47+00:00\",\n        \"max\": \"2019-12-30 21:43:54+00:00\",\n        \"num_unique_values\": 7,\n        \"samples\": [\n          \"2019-12-29 07:11:47+00:00\",\n          \"2019-12-29 13:00:50+00:00\",\n          \"2019-12-30 12:59:20+00:00\"\n        ],\n        \"semantic_type\": \"\",\n        \"description\": \"\"\n      }\n    },\n    {\n      \"column\": \"event_type\",\n      \"properties\": {\n        \"dtype\": \"category\",\n        \"num_unique_values\": 3,\n        \"samples\": [\n          \"view\",\n          \"cart\",\n          \"remove_from_cart\"\n        ],\n        \"semantic_type\": \"\",\n        \"description\": \"\"\n      }\n    },\n    {\n      \"column\": \"product_id\",\n      \"properties\": {\n        \"dtype\": \"number\",\n        \"std\": 0,\n        \"min\": 5916983,\n        \"max\": 5916983,\n        \"num_unique_values\": 1,\n        \"samples\": [\n          5916983\n        ],\n        \"semantic_type\": \"\",\n        \"description\": \"\"\n      }\n    },\n    {\n      \"column\": \"category_id\",\n      \"properties\": {\n        \"dtype\": \"number\",\n        \"std\": 0,\n        \"min\": 1783999073758478650,\n        \"max\": 1783999073758478650,\n        \"num_unique_values\": 1,\n        \"samples\": [\n          1783999073758478650\n        ],\n        \"semantic_type\": \"\",\n        \"description\": \"\"\n      }\n    },\n    {\n      \"column\": \"brand\",\n      \"properties\": {\n        \"dtype\": \"category\",\n        \"num_unique_values\": 1,\n        \"samples\": [\n          \"beautific\"\n        ],\n        \"semantic_type\": \"\",\n        \"description\": \"\"\n      }\n    },\n    {\n      \"column\": \"price\",\n      \"properties\": {\n        \"dtype\": \"number\",\n        \"std\": 14.24295314482619,\n        \"min\": 0.0,\n        \"max\": 27.52,\n        \"num_unique_values\": 2,\n        \"samples\": [\n          27.52\n        ],\n        \"semantic_type\": \"\",\n        \"description\": \"\"\n      }\n    },\n    {\n      \"column\": \"user_id\",\n      \"properties\": {\n        \"dtype\": \"number\",\n        \"std\": 103219977,\n        \"min\": 355374962,\n        \"max\": 592007896,\n        \"num_unique_values\": 5,\n        \"samples\": [\n          355374962\n        ],\n        \"semantic_type\": \"\",\n        \"description\": \"\"\n      }\n    },\n    {\n      \"column\": \"user_session\",\n      \"properties\": {\n        \"dtype\": \"string\",\n        \"num_unique_values\": 5,\n        \"samples\": [\n          \"de91420a-9375-4477-b44f-c072e1604f2c\"\n        ],\n        \"semantic_type\": \"\",\n        \"description\": \"\"\n      }\n    }\n  ]\n}"
            }
          },
          "metadata": {},
          "execution_count": 13
        }
      ]
    },
    {
      "cell_type": "code",
      "source": [
        "# Fill missing brand info within each product (forward & backward)\n",
        "df['brand'] = df.groupby('product_id')['brand'].transform(lambda x: x.ffill().bfill())"
      ],
      "metadata": {
        "id": "lI34j0FlWQMZ"
      },
      "execution_count": 14,
      "outputs": []
    },
    {
      "cell_type": "code",
      "source": [
        "df.query('product_id == 5916983')"
      ],
      "metadata": {
        "colab": {
          "base_uri": "https://localhost:8080/",
          "height": 615
        },
        "id": "FUqRDCTnW1n3",
        "outputId": "dab1a047-0856-43c4-d776-025efa91a64d"
      },
      "execution_count": 15,
      "outputs": [
        {
          "output_type": "execute_result",
          "data": {
            "text/plain": [
              "                       event_time        event_type  product_id  \\\n",
              "3374835 2019-12-29 07:11:47+00:00              view     5916983   \n",
              "3397074 2019-12-29 13:00:50+00:00              cart     5916983   \n",
              "3397086 2019-12-29 13:00:55+00:00  remove_from_cart     5916983   \n",
              "3397087 2019-12-29 13:00:55+00:00  remove_from_cart     5916983   \n",
              "3397111 2019-12-29 13:01:02+00:00              view     5916983   \n",
              "3468885 2019-12-30 12:36:57+00:00              cart     5916983   \n",
              "3470599 2019-12-30 12:59:20+00:00              view     5916983   \n",
              "3498570 2019-12-30 21:43:54+00:00              view     5916983   \n",
              "\n",
              "                 category_id      brand  price    user_id  \\\n",
              "3374835  1783999073758478650  beautific   0.00  410144142   \n",
              "3397074  1783999073758478650  beautific   0.00  355374962   \n",
              "3397086  1783999073758478650  beautific   0.00  355374962   \n",
              "3397087  1783999073758478650  beautific   0.00  355374962   \n",
              "3397111  1783999073758478650  beautific   0.00  355374962   \n",
              "3468885  1783999073758478650  beautific  27.52  592007896   \n",
              "3470599  1783999073758478650  beautific  27.52  477270774   \n",
              "3498570  1783999073758478650  beautific  27.52  583884978   \n",
              "\n",
              "                                 user_session  \n",
              "3374835  57484fc7-f6a4-45ba-b95a-9116ead6d96f  \n",
              "3397074  de91420a-9375-4477-b44f-c072e1604f2c  \n",
              "3397086  de91420a-9375-4477-b44f-c072e1604f2c  \n",
              "3397087  de91420a-9375-4477-b44f-c072e1604f2c  \n",
              "3397111  de91420a-9375-4477-b44f-c072e1604f2c  \n",
              "3468885  84475418-083b-4a8e-ab7f-8d38994b1f12  \n",
              "3470599  e5670c53-8674-4725-86e2-dc6bfd39c04c  \n",
              "3498570  d6f873d5-7935-454c-9849-9fbf1b05fd53  "
            ],
            "text/html": [
              "\n",
              "  <div id=\"df-607a8f6c-bbc8-406c-8f80-e6caf64dd2f4\" class=\"colab-df-container\">\n",
              "    <div>\n",
              "<style scoped>\n",
              "    .dataframe tbody tr th:only-of-type {\n",
              "        vertical-align: middle;\n",
              "    }\n",
              "\n",
              "    .dataframe tbody tr th {\n",
              "        vertical-align: top;\n",
              "    }\n",
              "\n",
              "    .dataframe thead th {\n",
              "        text-align: right;\n",
              "    }\n",
              "</style>\n",
              "<table border=\"1\" class=\"dataframe\">\n",
              "  <thead>\n",
              "    <tr style=\"text-align: right;\">\n",
              "      <th></th>\n",
              "      <th>event_time</th>\n",
              "      <th>event_type</th>\n",
              "      <th>product_id</th>\n",
              "      <th>category_id</th>\n",
              "      <th>brand</th>\n",
              "      <th>price</th>\n",
              "      <th>user_id</th>\n",
              "      <th>user_session</th>\n",
              "    </tr>\n",
              "  </thead>\n",
              "  <tbody>\n",
              "    <tr>\n",
              "      <th>3374835</th>\n",
              "      <td>2019-12-29 07:11:47+00:00</td>\n",
              "      <td>view</td>\n",
              "      <td>5916983</td>\n",
              "      <td>1783999073758478650</td>\n",
              "      <td>beautific</td>\n",
              "      <td>0.00</td>\n",
              "      <td>410144142</td>\n",
              "      <td>57484fc7-f6a4-45ba-b95a-9116ead6d96f</td>\n",
              "    </tr>\n",
              "    <tr>\n",
              "      <th>3397074</th>\n",
              "      <td>2019-12-29 13:00:50+00:00</td>\n",
              "      <td>cart</td>\n",
              "      <td>5916983</td>\n",
              "      <td>1783999073758478650</td>\n",
              "      <td>beautific</td>\n",
              "      <td>0.00</td>\n",
              "      <td>355374962</td>\n",
              "      <td>de91420a-9375-4477-b44f-c072e1604f2c</td>\n",
              "    </tr>\n",
              "    <tr>\n",
              "      <th>3397086</th>\n",
              "      <td>2019-12-29 13:00:55+00:00</td>\n",
              "      <td>remove_from_cart</td>\n",
              "      <td>5916983</td>\n",
              "      <td>1783999073758478650</td>\n",
              "      <td>beautific</td>\n",
              "      <td>0.00</td>\n",
              "      <td>355374962</td>\n",
              "      <td>de91420a-9375-4477-b44f-c072e1604f2c</td>\n",
              "    </tr>\n",
              "    <tr>\n",
              "      <th>3397087</th>\n",
              "      <td>2019-12-29 13:00:55+00:00</td>\n",
              "      <td>remove_from_cart</td>\n",
              "      <td>5916983</td>\n",
              "      <td>1783999073758478650</td>\n",
              "      <td>beautific</td>\n",
              "      <td>0.00</td>\n",
              "      <td>355374962</td>\n",
              "      <td>de91420a-9375-4477-b44f-c072e1604f2c</td>\n",
              "    </tr>\n",
              "    <tr>\n",
              "      <th>3397111</th>\n",
              "      <td>2019-12-29 13:01:02+00:00</td>\n",
              "      <td>view</td>\n",
              "      <td>5916983</td>\n",
              "      <td>1783999073758478650</td>\n",
              "      <td>beautific</td>\n",
              "      <td>0.00</td>\n",
              "      <td>355374962</td>\n",
              "      <td>de91420a-9375-4477-b44f-c072e1604f2c</td>\n",
              "    </tr>\n",
              "    <tr>\n",
              "      <th>3468885</th>\n",
              "      <td>2019-12-30 12:36:57+00:00</td>\n",
              "      <td>cart</td>\n",
              "      <td>5916983</td>\n",
              "      <td>1783999073758478650</td>\n",
              "      <td>beautific</td>\n",
              "      <td>27.52</td>\n",
              "      <td>592007896</td>\n",
              "      <td>84475418-083b-4a8e-ab7f-8d38994b1f12</td>\n",
              "    </tr>\n",
              "    <tr>\n",
              "      <th>3470599</th>\n",
              "      <td>2019-12-30 12:59:20+00:00</td>\n",
              "      <td>view</td>\n",
              "      <td>5916983</td>\n",
              "      <td>1783999073758478650</td>\n",
              "      <td>beautific</td>\n",
              "      <td>27.52</td>\n",
              "      <td>477270774</td>\n",
              "      <td>e5670c53-8674-4725-86e2-dc6bfd39c04c</td>\n",
              "    </tr>\n",
              "    <tr>\n",
              "      <th>3498570</th>\n",
              "      <td>2019-12-30 21:43:54+00:00</td>\n",
              "      <td>view</td>\n",
              "      <td>5916983</td>\n",
              "      <td>1783999073758478650</td>\n",
              "      <td>beautific</td>\n",
              "      <td>27.52</td>\n",
              "      <td>583884978</td>\n",
              "      <td>d6f873d5-7935-454c-9849-9fbf1b05fd53</td>\n",
              "    </tr>\n",
              "  </tbody>\n",
              "</table>\n",
              "</div>\n",
              "    <div class=\"colab-df-buttons\">\n",
              "\n",
              "  <div class=\"colab-df-container\">\n",
              "    <button class=\"colab-df-convert\" onclick=\"convertToInteractive('df-607a8f6c-bbc8-406c-8f80-e6caf64dd2f4')\"\n",
              "            title=\"Convert this dataframe to an interactive table.\"\n",
              "            style=\"display:none;\">\n",
              "\n",
              "  <svg xmlns=\"http://www.w3.org/2000/svg\" height=\"24px\" viewBox=\"0 -960 960 960\">\n",
              "    <path d=\"M120-120v-720h720v720H120Zm60-500h600v-160H180v160Zm220 220h160v-160H400v160Zm0 220h160v-160H400v160ZM180-400h160v-160H180v160Zm440 0h160v-160H620v160ZM180-180h160v-160H180v160Zm440 0h160v-160H620v160Z\"/>\n",
              "  </svg>\n",
              "    </button>\n",
              "\n",
              "  <style>\n",
              "    .colab-df-container {\n",
              "      display:flex;\n",
              "      gap: 12px;\n",
              "    }\n",
              "\n",
              "    .colab-df-convert {\n",
              "      background-color: #E8F0FE;\n",
              "      border: none;\n",
              "      border-radius: 50%;\n",
              "      cursor: pointer;\n",
              "      display: none;\n",
              "      fill: #1967D2;\n",
              "      height: 32px;\n",
              "      padding: 0 0 0 0;\n",
              "      width: 32px;\n",
              "    }\n",
              "\n",
              "    .colab-df-convert:hover {\n",
              "      background-color: #E2EBFA;\n",
              "      box-shadow: 0px 1px 2px rgba(60, 64, 67, 0.3), 0px 1px 3px 1px rgba(60, 64, 67, 0.15);\n",
              "      fill: #174EA6;\n",
              "    }\n",
              "\n",
              "    .colab-df-buttons div {\n",
              "      margin-bottom: 4px;\n",
              "    }\n",
              "\n",
              "    [theme=dark] .colab-df-convert {\n",
              "      background-color: #3B4455;\n",
              "      fill: #D2E3FC;\n",
              "    }\n",
              "\n",
              "    [theme=dark] .colab-df-convert:hover {\n",
              "      background-color: #434B5C;\n",
              "      box-shadow: 0px 1px 3px 1px rgba(0, 0, 0, 0.15);\n",
              "      filter: drop-shadow(0px 1px 2px rgba(0, 0, 0, 0.3));\n",
              "      fill: #FFFFFF;\n",
              "    }\n",
              "  </style>\n",
              "\n",
              "    <script>\n",
              "      const buttonEl =\n",
              "        document.querySelector('#df-607a8f6c-bbc8-406c-8f80-e6caf64dd2f4 button.colab-df-convert');\n",
              "      buttonEl.style.display =\n",
              "        google.colab.kernel.accessAllowed ? 'block' : 'none';\n",
              "\n",
              "      async function convertToInteractive(key) {\n",
              "        const element = document.querySelector('#df-607a8f6c-bbc8-406c-8f80-e6caf64dd2f4');\n",
              "        const dataTable =\n",
              "          await google.colab.kernel.invokeFunction('convertToInteractive',\n",
              "                                                    [key], {});\n",
              "        if (!dataTable) return;\n",
              "\n",
              "        const docLinkHtml = 'Like what you see? Visit the ' +\n",
              "          '<a target=\"_blank\" href=https://colab.research.google.com/notebooks/data_table.ipynb>data table notebook</a>'\n",
              "          + ' to learn more about interactive tables.';\n",
              "        element.innerHTML = '';\n",
              "        dataTable['output_type'] = 'display_data';\n",
              "        await google.colab.output.renderOutput(dataTable, element);\n",
              "        const docLink = document.createElement('div');\n",
              "        docLink.innerHTML = docLinkHtml;\n",
              "        element.appendChild(docLink);\n",
              "      }\n",
              "    </script>\n",
              "  </div>\n",
              "\n",
              "\n",
              "    <div id=\"df-0d3334f5-9282-4db0-985b-f15458c29257\">\n",
              "      <button class=\"colab-df-quickchart\" onclick=\"quickchart('df-0d3334f5-9282-4db0-985b-f15458c29257')\"\n",
              "                title=\"Suggest charts\"\n",
              "                style=\"display:none;\">\n",
              "\n",
              "<svg xmlns=\"http://www.w3.org/2000/svg\" height=\"24px\"viewBox=\"0 0 24 24\"\n",
              "     width=\"24px\">\n",
              "    <g>\n",
              "        <path d=\"M19 3H5c-1.1 0-2 .9-2 2v14c0 1.1.9 2 2 2h14c1.1 0 2-.9 2-2V5c0-1.1-.9-2-2-2zM9 17H7v-7h2v7zm4 0h-2V7h2v10zm4 0h-2v-4h2v4z\"/>\n",
              "    </g>\n",
              "</svg>\n",
              "      </button>\n",
              "\n",
              "<style>\n",
              "  .colab-df-quickchart {\n",
              "      --bg-color: #E8F0FE;\n",
              "      --fill-color: #1967D2;\n",
              "      --hover-bg-color: #E2EBFA;\n",
              "      --hover-fill-color: #174EA6;\n",
              "      --disabled-fill-color: #AAA;\n",
              "      --disabled-bg-color: #DDD;\n",
              "  }\n",
              "\n",
              "  [theme=dark] .colab-df-quickchart {\n",
              "      --bg-color: #3B4455;\n",
              "      --fill-color: #D2E3FC;\n",
              "      --hover-bg-color: #434B5C;\n",
              "      --hover-fill-color: #FFFFFF;\n",
              "      --disabled-bg-color: #3B4455;\n",
              "      --disabled-fill-color: #666;\n",
              "  }\n",
              "\n",
              "  .colab-df-quickchart {\n",
              "    background-color: var(--bg-color);\n",
              "    border: none;\n",
              "    border-radius: 50%;\n",
              "    cursor: pointer;\n",
              "    display: none;\n",
              "    fill: var(--fill-color);\n",
              "    height: 32px;\n",
              "    padding: 0;\n",
              "    width: 32px;\n",
              "  }\n",
              "\n",
              "  .colab-df-quickchart:hover {\n",
              "    background-color: var(--hover-bg-color);\n",
              "    box-shadow: 0 1px 2px rgba(60, 64, 67, 0.3), 0 1px 3px 1px rgba(60, 64, 67, 0.15);\n",
              "    fill: var(--button-hover-fill-color);\n",
              "  }\n",
              "\n",
              "  .colab-df-quickchart-complete:disabled,\n",
              "  .colab-df-quickchart-complete:disabled:hover {\n",
              "    background-color: var(--disabled-bg-color);\n",
              "    fill: var(--disabled-fill-color);\n",
              "    box-shadow: none;\n",
              "  }\n",
              "\n",
              "  .colab-df-spinner {\n",
              "    border: 2px solid var(--fill-color);\n",
              "    border-color: transparent;\n",
              "    border-bottom-color: var(--fill-color);\n",
              "    animation:\n",
              "      spin 1s steps(1) infinite;\n",
              "  }\n",
              "\n",
              "  @keyframes spin {\n",
              "    0% {\n",
              "      border-color: transparent;\n",
              "      border-bottom-color: var(--fill-color);\n",
              "      border-left-color: var(--fill-color);\n",
              "    }\n",
              "    20% {\n",
              "      border-color: transparent;\n",
              "      border-left-color: var(--fill-color);\n",
              "      border-top-color: var(--fill-color);\n",
              "    }\n",
              "    30% {\n",
              "      border-color: transparent;\n",
              "      border-left-color: var(--fill-color);\n",
              "      border-top-color: var(--fill-color);\n",
              "      border-right-color: var(--fill-color);\n",
              "    }\n",
              "    40% {\n",
              "      border-color: transparent;\n",
              "      border-right-color: var(--fill-color);\n",
              "      border-top-color: var(--fill-color);\n",
              "    }\n",
              "    60% {\n",
              "      border-color: transparent;\n",
              "      border-right-color: var(--fill-color);\n",
              "    }\n",
              "    80% {\n",
              "      border-color: transparent;\n",
              "      border-right-color: var(--fill-color);\n",
              "      border-bottom-color: var(--fill-color);\n",
              "    }\n",
              "    90% {\n",
              "      border-color: transparent;\n",
              "      border-bottom-color: var(--fill-color);\n",
              "    }\n",
              "  }\n",
              "</style>\n",
              "\n",
              "      <script>\n",
              "        async function quickchart(key) {\n",
              "          const quickchartButtonEl =\n",
              "            document.querySelector('#' + key + ' button');\n",
              "          quickchartButtonEl.disabled = true;  // To prevent multiple clicks.\n",
              "          quickchartButtonEl.classList.add('colab-df-spinner');\n",
              "          try {\n",
              "            const charts = await google.colab.kernel.invokeFunction(\n",
              "                'suggestCharts', [key], {});\n",
              "          } catch (error) {\n",
              "            console.error('Error during call to suggestCharts:', error);\n",
              "          }\n",
              "          quickchartButtonEl.classList.remove('colab-df-spinner');\n",
              "          quickchartButtonEl.classList.add('colab-df-quickchart-complete');\n",
              "        }\n",
              "        (() => {\n",
              "          let quickchartButtonEl =\n",
              "            document.querySelector('#df-0d3334f5-9282-4db0-985b-f15458c29257 button');\n",
              "          quickchartButtonEl.style.display =\n",
              "            google.colab.kernel.accessAllowed ? 'block' : 'none';\n",
              "        })();\n",
              "      </script>\n",
              "    </div>\n",
              "\n",
              "    </div>\n",
              "  </div>\n"
            ],
            "application/vnd.google.colaboratory.intrinsic+json": {
              "type": "dataframe",
              "summary": "{\n  \"name\": \"df\",\n  \"rows\": 8,\n  \"fields\": [\n    {\n      \"column\": \"event_time\",\n      \"properties\": {\n        \"dtype\": \"date\",\n        \"min\": \"2019-12-29 07:11:47+00:00\",\n        \"max\": \"2019-12-30 21:43:54+00:00\",\n        \"num_unique_values\": 7,\n        \"samples\": [\n          \"2019-12-29 07:11:47+00:00\",\n          \"2019-12-29 13:00:50+00:00\",\n          \"2019-12-30 12:59:20+00:00\"\n        ],\n        \"semantic_type\": \"\",\n        \"description\": \"\"\n      }\n    },\n    {\n      \"column\": \"event_type\",\n      \"properties\": {\n        \"dtype\": \"category\",\n        \"num_unique_values\": 3,\n        \"samples\": [\n          \"view\",\n          \"cart\",\n          \"remove_from_cart\"\n        ],\n        \"semantic_type\": \"\",\n        \"description\": \"\"\n      }\n    },\n    {\n      \"column\": \"product_id\",\n      \"properties\": {\n        \"dtype\": \"number\",\n        \"std\": 0,\n        \"min\": 5916983,\n        \"max\": 5916983,\n        \"num_unique_values\": 1,\n        \"samples\": [\n          5916983\n        ],\n        \"semantic_type\": \"\",\n        \"description\": \"\"\n      }\n    },\n    {\n      \"column\": \"category_id\",\n      \"properties\": {\n        \"dtype\": \"number\",\n        \"std\": 0,\n        \"min\": 1783999073758478650,\n        \"max\": 1783999073758478650,\n        \"num_unique_values\": 1,\n        \"samples\": [\n          1783999073758478650\n        ],\n        \"semantic_type\": \"\",\n        \"description\": \"\"\n      }\n    },\n    {\n      \"column\": \"brand\",\n      \"properties\": {\n        \"dtype\": \"category\",\n        \"num_unique_values\": 1,\n        \"samples\": [\n          \"beautific\"\n        ],\n        \"semantic_type\": \"\",\n        \"description\": \"\"\n      }\n    },\n    {\n      \"column\": \"price\",\n      \"properties\": {\n        \"dtype\": \"number\",\n        \"std\": 14.24295314482619,\n        \"min\": 0.0,\n        \"max\": 27.52,\n        \"num_unique_values\": 2,\n        \"samples\": [\n          27.52\n        ],\n        \"semantic_type\": \"\",\n        \"description\": \"\"\n      }\n    },\n    {\n      \"column\": \"user_id\",\n      \"properties\": {\n        \"dtype\": \"number\",\n        \"std\": 103219977,\n        \"min\": 355374962,\n        \"max\": 592007896,\n        \"num_unique_values\": 5,\n        \"samples\": [\n          355374962\n        ],\n        \"semantic_type\": \"\",\n        \"description\": \"\"\n      }\n    },\n    {\n      \"column\": \"user_session\",\n      \"properties\": {\n        \"dtype\": \"string\",\n        \"num_unique_values\": 5,\n        \"samples\": [\n          \"de91420a-9375-4477-b44f-c072e1604f2c\"\n        ],\n        \"semantic_type\": \"\",\n        \"description\": \"\"\n      }\n    }\n  ]\n}"
            }
          },
          "metadata": {},
          "execution_count": 15
        }
      ]
    },
    {
      "cell_type": "code",
      "source": [
        "df.isna().sum()"
      ],
      "metadata": {
        "colab": {
          "base_uri": "https://localhost:8080/",
          "height": 335
        },
        "id": "grvdw5kk5WZG",
        "outputId": "d8be8142-63c0-496b-be86-44e43ca4ffa3"
      },
      "execution_count": 16,
      "outputs": [
        {
          "output_type": "execute_result",
          "data": {
            "text/plain": [
              "event_time            0\n",
              "event_type            0\n",
              "product_id            0\n",
              "category_id           0\n",
              "brand           1503141\n",
              "price                 0\n",
              "user_id               0\n",
              "user_session        779\n",
              "dtype: int64"
            ],
            "text/html": [
              "<div>\n",
              "<style scoped>\n",
              "    .dataframe tbody tr th:only-of-type {\n",
              "        vertical-align: middle;\n",
              "    }\n",
              "\n",
              "    .dataframe tbody tr th {\n",
              "        vertical-align: top;\n",
              "    }\n",
              "\n",
              "    .dataframe thead th {\n",
              "        text-align: right;\n",
              "    }\n",
              "</style>\n",
              "<table border=\"1\" class=\"dataframe\">\n",
              "  <thead>\n",
              "    <tr style=\"text-align: right;\">\n",
              "      <th></th>\n",
              "      <th>0</th>\n",
              "    </tr>\n",
              "  </thead>\n",
              "  <tbody>\n",
              "    <tr>\n",
              "      <th>event_time</th>\n",
              "      <td>0</td>\n",
              "    </tr>\n",
              "    <tr>\n",
              "      <th>event_type</th>\n",
              "      <td>0</td>\n",
              "    </tr>\n",
              "    <tr>\n",
              "      <th>product_id</th>\n",
              "      <td>0</td>\n",
              "    </tr>\n",
              "    <tr>\n",
              "      <th>category_id</th>\n",
              "      <td>0</td>\n",
              "    </tr>\n",
              "    <tr>\n",
              "      <th>brand</th>\n",
              "      <td>1503141</td>\n",
              "    </tr>\n",
              "    <tr>\n",
              "      <th>price</th>\n",
              "      <td>0</td>\n",
              "    </tr>\n",
              "    <tr>\n",
              "      <th>user_id</th>\n",
              "      <td>0</td>\n",
              "    </tr>\n",
              "    <tr>\n",
              "      <th>user_session</th>\n",
              "      <td>779</td>\n",
              "    </tr>\n",
              "  </tbody>\n",
              "</table>\n",
              "</div><br><label><b>dtype:</b> int64</label>"
            ]
          },
          "metadata": {},
          "execution_count": 16
        }
      ]
    },
    {
      "cell_type": "code",
      "source": [
        "df[['brand', 'user_session']] = df[['brand', 'user_session']].fillna('N/A')\n",
        "df.isna().sum()"
      ],
      "metadata": {
        "colab": {
          "base_uri": "https://localhost:8080/",
          "height": 335
        },
        "id": "gNgmm8KqW1s0",
        "outputId": "00162a72-ff7a-4117-9201-1d74f4180ddd"
      },
      "execution_count": 17,
      "outputs": [
        {
          "output_type": "execute_result",
          "data": {
            "text/plain": [
              "event_time      0\n",
              "event_type      0\n",
              "product_id      0\n",
              "category_id     0\n",
              "brand           0\n",
              "price           0\n",
              "user_id         0\n",
              "user_session    0\n",
              "dtype: int64"
            ],
            "text/html": [
              "<div>\n",
              "<style scoped>\n",
              "    .dataframe tbody tr th:only-of-type {\n",
              "        vertical-align: middle;\n",
              "    }\n",
              "\n",
              "    .dataframe tbody tr th {\n",
              "        vertical-align: top;\n",
              "    }\n",
              "\n",
              "    .dataframe thead th {\n",
              "        text-align: right;\n",
              "    }\n",
              "</style>\n",
              "<table border=\"1\" class=\"dataframe\">\n",
              "  <thead>\n",
              "    <tr style=\"text-align: right;\">\n",
              "      <th></th>\n",
              "      <th>0</th>\n",
              "    </tr>\n",
              "  </thead>\n",
              "  <tbody>\n",
              "    <tr>\n",
              "      <th>event_time</th>\n",
              "      <td>0</td>\n",
              "    </tr>\n",
              "    <tr>\n",
              "      <th>event_type</th>\n",
              "      <td>0</td>\n",
              "    </tr>\n",
              "    <tr>\n",
              "      <th>product_id</th>\n",
              "      <td>0</td>\n",
              "    </tr>\n",
              "    <tr>\n",
              "      <th>category_id</th>\n",
              "      <td>0</td>\n",
              "    </tr>\n",
              "    <tr>\n",
              "      <th>brand</th>\n",
              "      <td>0</td>\n",
              "    </tr>\n",
              "    <tr>\n",
              "      <th>price</th>\n",
              "      <td>0</td>\n",
              "    </tr>\n",
              "    <tr>\n",
              "      <th>user_id</th>\n",
              "      <td>0</td>\n",
              "    </tr>\n",
              "    <tr>\n",
              "      <th>user_session</th>\n",
              "      <td>0</td>\n",
              "    </tr>\n",
              "  </tbody>\n",
              "</table>\n",
              "</div><br><label><b>dtype:</b> int64</label>"
            ]
          },
          "metadata": {},
          "execution_count": 17
        }
      ]
    },
    {
      "cell_type": "code",
      "source": [
        "df.describe().applymap(lambda n: '{:.2f}'.format(n))"
      ],
      "metadata": {
        "colab": {
          "base_uri": "https://localhost:8080/",
          "height": 300
        },
        "id": "U9P8AlAbW1v4",
        "outputId": "eaff8d76-7cca-497b-df67-e68d28eff721"
      },
      "execution_count": 18,
      "outputs": [
        {
          "output_type": "execute_result",
          "data": {
            "text/plain": [
              "       product_id             category_id       price       user_id\n",
              "count  3533286.00              3533286.00  3533286.00    3533286.00\n",
              "mean   5473053.80  1555023012945680128.00        8.87  522331835.07\n",
              "std    1331331.39   168926187070693152.00       19.86   84948189.60\n",
              "min       3752.00  1487580004807082752.00      -79.37    1180452.00\n",
              "25%    5726191.00  1487580006300255232.00        2.06  486682994.00\n",
              "50%    5811429.00  1487580008447738880.00        4.21  556649586.00\n",
              "75%    5859462.00  1487580013581566208.00        7.14  582801855.00\n",
              "max    5917178.00  2235524499636224256.00      327.78  595414541.00"
            ],
            "text/html": [
              "\n",
              "  <div id=\"df-aa36b3b5-c9b0-4a7b-9d60-73104753503e\" class=\"colab-df-container\">\n",
              "    <div>\n",
              "<style scoped>\n",
              "    .dataframe tbody tr th:only-of-type {\n",
              "        vertical-align: middle;\n",
              "    }\n",
              "\n",
              "    .dataframe tbody tr th {\n",
              "        vertical-align: top;\n",
              "    }\n",
              "\n",
              "    .dataframe thead th {\n",
              "        text-align: right;\n",
              "    }\n",
              "</style>\n",
              "<table border=\"1\" class=\"dataframe\">\n",
              "  <thead>\n",
              "    <tr style=\"text-align: right;\">\n",
              "      <th></th>\n",
              "      <th>product_id</th>\n",
              "      <th>category_id</th>\n",
              "      <th>price</th>\n",
              "      <th>user_id</th>\n",
              "    </tr>\n",
              "  </thead>\n",
              "  <tbody>\n",
              "    <tr>\n",
              "      <th>count</th>\n",
              "      <td>3533286.00</td>\n",
              "      <td>3533286.00</td>\n",
              "      <td>3533286.00</td>\n",
              "      <td>3533286.00</td>\n",
              "    </tr>\n",
              "    <tr>\n",
              "      <th>mean</th>\n",
              "      <td>5473053.80</td>\n",
              "      <td>1555023012945680128.00</td>\n",
              "      <td>8.87</td>\n",
              "      <td>522331835.07</td>\n",
              "    </tr>\n",
              "    <tr>\n",
              "      <th>std</th>\n",
              "      <td>1331331.39</td>\n",
              "      <td>168926187070693152.00</td>\n",
              "      <td>19.86</td>\n",
              "      <td>84948189.60</td>\n",
              "    </tr>\n",
              "    <tr>\n",
              "      <th>min</th>\n",
              "      <td>3752.00</td>\n",
              "      <td>1487580004807082752.00</td>\n",
              "      <td>-79.37</td>\n",
              "      <td>1180452.00</td>\n",
              "    </tr>\n",
              "    <tr>\n",
              "      <th>25%</th>\n",
              "      <td>5726191.00</td>\n",
              "      <td>1487580006300255232.00</td>\n",
              "      <td>2.06</td>\n",
              "      <td>486682994.00</td>\n",
              "    </tr>\n",
              "    <tr>\n",
              "      <th>50%</th>\n",
              "      <td>5811429.00</td>\n",
              "      <td>1487580008447738880.00</td>\n",
              "      <td>4.21</td>\n",
              "      <td>556649586.00</td>\n",
              "    </tr>\n",
              "    <tr>\n",
              "      <th>75%</th>\n",
              "      <td>5859462.00</td>\n",
              "      <td>1487580013581566208.00</td>\n",
              "      <td>7.14</td>\n",
              "      <td>582801855.00</td>\n",
              "    </tr>\n",
              "    <tr>\n",
              "      <th>max</th>\n",
              "      <td>5917178.00</td>\n",
              "      <td>2235524499636224256.00</td>\n",
              "      <td>327.78</td>\n",
              "      <td>595414541.00</td>\n",
              "    </tr>\n",
              "  </tbody>\n",
              "</table>\n",
              "</div>\n",
              "    <div class=\"colab-df-buttons\">\n",
              "\n",
              "  <div class=\"colab-df-container\">\n",
              "    <button class=\"colab-df-convert\" onclick=\"convertToInteractive('df-aa36b3b5-c9b0-4a7b-9d60-73104753503e')\"\n",
              "            title=\"Convert this dataframe to an interactive table.\"\n",
              "            style=\"display:none;\">\n",
              "\n",
              "  <svg xmlns=\"http://www.w3.org/2000/svg\" height=\"24px\" viewBox=\"0 -960 960 960\">\n",
              "    <path d=\"M120-120v-720h720v720H120Zm60-500h600v-160H180v160Zm220 220h160v-160H400v160Zm0 220h160v-160H400v160ZM180-400h160v-160H180v160Zm440 0h160v-160H620v160ZM180-180h160v-160H180v160Zm440 0h160v-160H620v160Z\"/>\n",
              "  </svg>\n",
              "    </button>\n",
              "\n",
              "  <style>\n",
              "    .colab-df-container {\n",
              "      display:flex;\n",
              "      gap: 12px;\n",
              "    }\n",
              "\n",
              "    .colab-df-convert {\n",
              "      background-color: #E8F0FE;\n",
              "      border: none;\n",
              "      border-radius: 50%;\n",
              "      cursor: pointer;\n",
              "      display: none;\n",
              "      fill: #1967D2;\n",
              "      height: 32px;\n",
              "      padding: 0 0 0 0;\n",
              "      width: 32px;\n",
              "    }\n",
              "\n",
              "    .colab-df-convert:hover {\n",
              "      background-color: #E2EBFA;\n",
              "      box-shadow: 0px 1px 2px rgba(60, 64, 67, 0.3), 0px 1px 3px 1px rgba(60, 64, 67, 0.15);\n",
              "      fill: #174EA6;\n",
              "    }\n",
              "\n",
              "    .colab-df-buttons div {\n",
              "      margin-bottom: 4px;\n",
              "    }\n",
              "\n",
              "    [theme=dark] .colab-df-convert {\n",
              "      background-color: #3B4455;\n",
              "      fill: #D2E3FC;\n",
              "    }\n",
              "\n",
              "    [theme=dark] .colab-df-convert:hover {\n",
              "      background-color: #434B5C;\n",
              "      box-shadow: 0px 1px 3px 1px rgba(0, 0, 0, 0.15);\n",
              "      filter: drop-shadow(0px 1px 2px rgba(0, 0, 0, 0.3));\n",
              "      fill: #FFFFFF;\n",
              "    }\n",
              "  </style>\n",
              "\n",
              "    <script>\n",
              "      const buttonEl =\n",
              "        document.querySelector('#df-aa36b3b5-c9b0-4a7b-9d60-73104753503e button.colab-df-convert');\n",
              "      buttonEl.style.display =\n",
              "        google.colab.kernel.accessAllowed ? 'block' : 'none';\n",
              "\n",
              "      async function convertToInteractive(key) {\n",
              "        const element = document.querySelector('#df-aa36b3b5-c9b0-4a7b-9d60-73104753503e');\n",
              "        const dataTable =\n",
              "          await google.colab.kernel.invokeFunction('convertToInteractive',\n",
              "                                                    [key], {});\n",
              "        if (!dataTable) return;\n",
              "\n",
              "        const docLinkHtml = 'Like what you see? Visit the ' +\n",
              "          '<a target=\"_blank\" href=https://colab.research.google.com/notebooks/data_table.ipynb>data table notebook</a>'\n",
              "          + ' to learn more about interactive tables.';\n",
              "        element.innerHTML = '';\n",
              "        dataTable['output_type'] = 'display_data';\n",
              "        await google.colab.output.renderOutput(dataTable, element);\n",
              "        const docLink = document.createElement('div');\n",
              "        docLink.innerHTML = docLinkHtml;\n",
              "        element.appendChild(docLink);\n",
              "      }\n",
              "    </script>\n",
              "  </div>\n",
              "\n",
              "\n",
              "    <div id=\"df-f9f81f10-ecb3-4689-b920-85ccc96fef58\">\n",
              "      <button class=\"colab-df-quickchart\" onclick=\"quickchart('df-f9f81f10-ecb3-4689-b920-85ccc96fef58')\"\n",
              "                title=\"Suggest charts\"\n",
              "                style=\"display:none;\">\n",
              "\n",
              "<svg xmlns=\"http://www.w3.org/2000/svg\" height=\"24px\"viewBox=\"0 0 24 24\"\n",
              "     width=\"24px\">\n",
              "    <g>\n",
              "        <path d=\"M19 3H5c-1.1 0-2 .9-2 2v14c0 1.1.9 2 2 2h14c1.1 0 2-.9 2-2V5c0-1.1-.9-2-2-2zM9 17H7v-7h2v7zm4 0h-2V7h2v10zm4 0h-2v-4h2v4z\"/>\n",
              "    </g>\n",
              "</svg>\n",
              "      </button>\n",
              "\n",
              "<style>\n",
              "  .colab-df-quickchart {\n",
              "      --bg-color: #E8F0FE;\n",
              "      --fill-color: #1967D2;\n",
              "      --hover-bg-color: #E2EBFA;\n",
              "      --hover-fill-color: #174EA6;\n",
              "      --disabled-fill-color: #AAA;\n",
              "      --disabled-bg-color: #DDD;\n",
              "  }\n",
              "\n",
              "  [theme=dark] .colab-df-quickchart {\n",
              "      --bg-color: #3B4455;\n",
              "      --fill-color: #D2E3FC;\n",
              "      --hover-bg-color: #434B5C;\n",
              "      --hover-fill-color: #FFFFFF;\n",
              "      --disabled-bg-color: #3B4455;\n",
              "      --disabled-fill-color: #666;\n",
              "  }\n",
              "\n",
              "  .colab-df-quickchart {\n",
              "    background-color: var(--bg-color);\n",
              "    border: none;\n",
              "    border-radius: 50%;\n",
              "    cursor: pointer;\n",
              "    display: none;\n",
              "    fill: var(--fill-color);\n",
              "    height: 32px;\n",
              "    padding: 0;\n",
              "    width: 32px;\n",
              "  }\n",
              "\n",
              "  .colab-df-quickchart:hover {\n",
              "    background-color: var(--hover-bg-color);\n",
              "    box-shadow: 0 1px 2px rgba(60, 64, 67, 0.3), 0 1px 3px 1px rgba(60, 64, 67, 0.15);\n",
              "    fill: var(--button-hover-fill-color);\n",
              "  }\n",
              "\n",
              "  .colab-df-quickchart-complete:disabled,\n",
              "  .colab-df-quickchart-complete:disabled:hover {\n",
              "    background-color: var(--disabled-bg-color);\n",
              "    fill: var(--disabled-fill-color);\n",
              "    box-shadow: none;\n",
              "  }\n",
              "\n",
              "  .colab-df-spinner {\n",
              "    border: 2px solid var(--fill-color);\n",
              "    border-color: transparent;\n",
              "    border-bottom-color: var(--fill-color);\n",
              "    animation:\n",
              "      spin 1s steps(1) infinite;\n",
              "  }\n",
              "\n",
              "  @keyframes spin {\n",
              "    0% {\n",
              "      border-color: transparent;\n",
              "      border-bottom-color: var(--fill-color);\n",
              "      border-left-color: var(--fill-color);\n",
              "    }\n",
              "    20% {\n",
              "      border-color: transparent;\n",
              "      border-left-color: var(--fill-color);\n",
              "      border-top-color: var(--fill-color);\n",
              "    }\n",
              "    30% {\n",
              "      border-color: transparent;\n",
              "      border-left-color: var(--fill-color);\n",
              "      border-top-color: var(--fill-color);\n",
              "      border-right-color: var(--fill-color);\n",
              "    }\n",
              "    40% {\n",
              "      border-color: transparent;\n",
              "      border-right-color: var(--fill-color);\n",
              "      border-top-color: var(--fill-color);\n",
              "    }\n",
              "    60% {\n",
              "      border-color: transparent;\n",
              "      border-right-color: var(--fill-color);\n",
              "    }\n",
              "    80% {\n",
              "      border-color: transparent;\n",
              "      border-right-color: var(--fill-color);\n",
              "      border-bottom-color: var(--fill-color);\n",
              "    }\n",
              "    90% {\n",
              "      border-color: transparent;\n",
              "      border-bottom-color: var(--fill-color);\n",
              "    }\n",
              "  }\n",
              "</style>\n",
              "\n",
              "      <script>\n",
              "        async function quickchart(key) {\n",
              "          const quickchartButtonEl =\n",
              "            document.querySelector('#' + key + ' button');\n",
              "          quickchartButtonEl.disabled = true;  // To prevent multiple clicks.\n",
              "          quickchartButtonEl.classList.add('colab-df-spinner');\n",
              "          try {\n",
              "            const charts = await google.colab.kernel.invokeFunction(\n",
              "                'suggestCharts', [key], {});\n",
              "          } catch (error) {\n",
              "            console.error('Error during call to suggestCharts:', error);\n",
              "          }\n",
              "          quickchartButtonEl.classList.remove('colab-df-spinner');\n",
              "          quickchartButtonEl.classList.add('colab-df-quickchart-complete');\n",
              "        }\n",
              "        (() => {\n",
              "          let quickchartButtonEl =\n",
              "            document.querySelector('#df-f9f81f10-ecb3-4689-b920-85ccc96fef58 button');\n",
              "          quickchartButtonEl.style.display =\n",
              "            google.colab.kernel.accessAllowed ? 'block' : 'none';\n",
              "        })();\n",
              "      </script>\n",
              "    </div>\n",
              "\n",
              "    </div>\n",
              "  </div>\n"
            ],
            "application/vnd.google.colaboratory.intrinsic+json": {
              "type": "dataframe",
              "summary": "{\n  \"name\": \"df\",\n  \"rows\": 8,\n  \"fields\": [\n    {\n      \"column\": \"product_id\",\n      \"properties\": {\n        \"dtype\": \"string\",\n        \"num_unique_values\": 8,\n        \"samples\": [\n          \"5473053.80\",\n          \"5811429.00\",\n          \"3533286.00\"\n        ],\n        \"semantic_type\": \"\",\n        \"description\": \"\"\n      }\n    },\n    {\n      \"column\": \"category_id\",\n      \"properties\": {\n        \"dtype\": \"string\",\n        \"num_unique_values\": 8,\n        \"samples\": [\n          \"1555023012945680128.00\",\n          \"1487580008447738880.00\",\n          \"3533286.00\"\n        ],\n        \"semantic_type\": \"\",\n        \"description\": \"\"\n      }\n    },\n    {\n      \"column\": \"price\",\n      \"properties\": {\n        \"dtype\": \"string\",\n        \"num_unique_values\": 8,\n        \"samples\": [\n          \"8.87\",\n          \"4.21\",\n          \"3533286.00\"\n        ],\n        \"semantic_type\": \"\",\n        \"description\": \"\"\n      }\n    },\n    {\n      \"column\": \"user_id\",\n      \"properties\": {\n        \"dtype\": \"string\",\n        \"num_unique_values\": 8,\n        \"samples\": [\n          \"522331835.07\",\n          \"556649586.00\",\n          \"3533286.00\"\n        ],\n        \"semantic_type\": \"\",\n        \"description\": \"\"\n      }\n    }\n  ]\n}"
            }
          },
          "metadata": {},
          "execution_count": 18
        }
      ]
    },
    {
      "cell_type": "code",
      "source": [
        "# Count rows where price < 0\n",
        "len(df.query('price < 0'))"
      ],
      "metadata": {
        "colab": {
          "base_uri": "https://localhost:8080/"
        },
        "id": "JpNZF46_XGbO",
        "outputId": "2fe4f20a-989a-437c-bd76-1bf5f1a69135"
      },
      "execution_count": 19,
      "outputs": [
        {
          "output_type": "execute_result",
          "data": {
            "text/plain": [
              "18"
            ]
          },
          "metadata": {},
          "execution_count": 19
        }
      ]
    },
    {
      "cell_type": "code",
      "source": [
        "df.query('price < 0').product_id.unique()"
      ],
      "metadata": {
        "colab": {
          "base_uri": "https://localhost:8080/"
        },
        "id": "INNnDJO_XGd_",
        "outputId": "17ec0a50-4091-4a51-c697-998a7cf32c09"
      },
      "execution_count": 20,
      "outputs": [
        {
          "output_type": "execute_result",
          "data": {
            "text/plain": [
              "array([5670257, 5716859, 5716857, 5716855, 5716861])"
            ]
          },
          "metadata": {},
          "execution_count": 20
        }
      ]
    },
    {
      "cell_type": "code",
      "source": [
        "df = df.query('price >= 0')"
      ],
      "metadata": {
        "id": "Hc2KAbM9XGgW"
      },
      "execution_count": 21,
      "outputs": []
    },
    {
      "cell_type": "code",
      "source": [
        "len(df.query('price == 0'))"
      ],
      "metadata": {
        "colab": {
          "base_uri": "https://localhost:8080/"
        },
        "id": "UbhUnoL-XGjD",
        "outputId": "25aceada-a7bc-4bee-d5ff-f169a02115f5"
      },
      "execution_count": 22,
      "outputs": [
        {
          "output_type": "execute_result",
          "data": {
            "text/plain": [
              "7589"
            ]
          },
          "metadata": {},
          "execution_count": 22
        }
      ]
    },
    {
      "cell_type": "code",
      "source": [
        "# Unique product_ids with price 0\n",
        "df.query('price == 0').product_id.nunique()"
      ],
      "metadata": {
        "colab": {
          "base_uri": "https://localhost:8080/"
        },
        "id": "7xrDvbdVXGle",
        "outputId": "3249c1d5-1d21-4b62-ad36-c50737f03b29"
      },
      "execution_count": 23,
      "outputs": [
        {
          "output_type": "execute_result",
          "data": {
            "text/plain": [
              "2156"
            ]
          },
          "metadata": {},
          "execution_count": 23
        }
      ]
    },
    {
      "cell_type": "code",
      "source": [
        "df.query('product_id == 5916983')"
      ],
      "metadata": {
        "colab": {
          "base_uri": "https://localhost:8080/",
          "height": 615
        },
        "id": "eUIfYtEoXUqq",
        "outputId": "c03666be-0d2a-409f-d2c4-47a099cac333"
      },
      "execution_count": 24,
      "outputs": [
        {
          "output_type": "execute_result",
          "data": {
            "text/plain": [
              "                       event_time        event_type  product_id  \\\n",
              "3374835 2019-12-29 07:11:47+00:00              view     5916983   \n",
              "3397074 2019-12-29 13:00:50+00:00              cart     5916983   \n",
              "3397086 2019-12-29 13:00:55+00:00  remove_from_cart     5916983   \n",
              "3397087 2019-12-29 13:00:55+00:00  remove_from_cart     5916983   \n",
              "3397111 2019-12-29 13:01:02+00:00              view     5916983   \n",
              "3468885 2019-12-30 12:36:57+00:00              cart     5916983   \n",
              "3470599 2019-12-30 12:59:20+00:00              view     5916983   \n",
              "3498570 2019-12-30 21:43:54+00:00              view     5916983   \n",
              "\n",
              "                 category_id      brand  price    user_id  \\\n",
              "3374835  1783999073758478650  beautific   0.00  410144142   \n",
              "3397074  1783999073758478650  beautific   0.00  355374962   \n",
              "3397086  1783999073758478650  beautific   0.00  355374962   \n",
              "3397087  1783999073758478650  beautific   0.00  355374962   \n",
              "3397111  1783999073758478650  beautific   0.00  355374962   \n",
              "3468885  1783999073758478650  beautific  27.52  592007896   \n",
              "3470599  1783999073758478650  beautific  27.52  477270774   \n",
              "3498570  1783999073758478650  beautific  27.52  583884978   \n",
              "\n",
              "                                 user_session  \n",
              "3374835  57484fc7-f6a4-45ba-b95a-9116ead6d96f  \n",
              "3397074  de91420a-9375-4477-b44f-c072e1604f2c  \n",
              "3397086  de91420a-9375-4477-b44f-c072e1604f2c  \n",
              "3397087  de91420a-9375-4477-b44f-c072e1604f2c  \n",
              "3397111  de91420a-9375-4477-b44f-c072e1604f2c  \n",
              "3468885  84475418-083b-4a8e-ab7f-8d38994b1f12  \n",
              "3470599  e5670c53-8674-4725-86e2-dc6bfd39c04c  \n",
              "3498570  d6f873d5-7935-454c-9849-9fbf1b05fd53  "
            ],
            "text/html": [
              "\n",
              "  <div id=\"df-70ad678e-a295-4433-9524-73eb8e1d16a6\" class=\"colab-df-container\">\n",
              "    <div>\n",
              "<style scoped>\n",
              "    .dataframe tbody tr th:only-of-type {\n",
              "        vertical-align: middle;\n",
              "    }\n",
              "\n",
              "    .dataframe tbody tr th {\n",
              "        vertical-align: top;\n",
              "    }\n",
              "\n",
              "    .dataframe thead th {\n",
              "        text-align: right;\n",
              "    }\n",
              "</style>\n",
              "<table border=\"1\" class=\"dataframe\">\n",
              "  <thead>\n",
              "    <tr style=\"text-align: right;\">\n",
              "      <th></th>\n",
              "      <th>event_time</th>\n",
              "      <th>event_type</th>\n",
              "      <th>product_id</th>\n",
              "      <th>category_id</th>\n",
              "      <th>brand</th>\n",
              "      <th>price</th>\n",
              "      <th>user_id</th>\n",
              "      <th>user_session</th>\n",
              "    </tr>\n",
              "  </thead>\n",
              "  <tbody>\n",
              "    <tr>\n",
              "      <th>3374835</th>\n",
              "      <td>2019-12-29 07:11:47+00:00</td>\n",
              "      <td>view</td>\n",
              "      <td>5916983</td>\n",
              "      <td>1783999073758478650</td>\n",
              "      <td>beautific</td>\n",
              "      <td>0.00</td>\n",
              "      <td>410144142</td>\n",
              "      <td>57484fc7-f6a4-45ba-b95a-9116ead6d96f</td>\n",
              "    </tr>\n",
              "    <tr>\n",
              "      <th>3397074</th>\n",
              "      <td>2019-12-29 13:00:50+00:00</td>\n",
              "      <td>cart</td>\n",
              "      <td>5916983</td>\n",
              "      <td>1783999073758478650</td>\n",
              "      <td>beautific</td>\n",
              "      <td>0.00</td>\n",
              "      <td>355374962</td>\n",
              "      <td>de91420a-9375-4477-b44f-c072e1604f2c</td>\n",
              "    </tr>\n",
              "    <tr>\n",
              "      <th>3397086</th>\n",
              "      <td>2019-12-29 13:00:55+00:00</td>\n",
              "      <td>remove_from_cart</td>\n",
              "      <td>5916983</td>\n",
              "      <td>1783999073758478650</td>\n",
              "      <td>beautific</td>\n",
              "      <td>0.00</td>\n",
              "      <td>355374962</td>\n",
              "      <td>de91420a-9375-4477-b44f-c072e1604f2c</td>\n",
              "    </tr>\n",
              "    <tr>\n",
              "      <th>3397087</th>\n",
              "      <td>2019-12-29 13:00:55+00:00</td>\n",
              "      <td>remove_from_cart</td>\n",
              "      <td>5916983</td>\n",
              "      <td>1783999073758478650</td>\n",
              "      <td>beautific</td>\n",
              "      <td>0.00</td>\n",
              "      <td>355374962</td>\n",
              "      <td>de91420a-9375-4477-b44f-c072e1604f2c</td>\n",
              "    </tr>\n",
              "    <tr>\n",
              "      <th>3397111</th>\n",
              "      <td>2019-12-29 13:01:02+00:00</td>\n",
              "      <td>view</td>\n",
              "      <td>5916983</td>\n",
              "      <td>1783999073758478650</td>\n",
              "      <td>beautific</td>\n",
              "      <td>0.00</td>\n",
              "      <td>355374962</td>\n",
              "      <td>de91420a-9375-4477-b44f-c072e1604f2c</td>\n",
              "    </tr>\n",
              "    <tr>\n",
              "      <th>3468885</th>\n",
              "      <td>2019-12-30 12:36:57+00:00</td>\n",
              "      <td>cart</td>\n",
              "      <td>5916983</td>\n",
              "      <td>1783999073758478650</td>\n",
              "      <td>beautific</td>\n",
              "      <td>27.52</td>\n",
              "      <td>592007896</td>\n",
              "      <td>84475418-083b-4a8e-ab7f-8d38994b1f12</td>\n",
              "    </tr>\n",
              "    <tr>\n",
              "      <th>3470599</th>\n",
              "      <td>2019-12-30 12:59:20+00:00</td>\n",
              "      <td>view</td>\n",
              "      <td>5916983</td>\n",
              "      <td>1783999073758478650</td>\n",
              "      <td>beautific</td>\n",
              "      <td>27.52</td>\n",
              "      <td>477270774</td>\n",
              "      <td>e5670c53-8674-4725-86e2-dc6bfd39c04c</td>\n",
              "    </tr>\n",
              "    <tr>\n",
              "      <th>3498570</th>\n",
              "      <td>2019-12-30 21:43:54+00:00</td>\n",
              "      <td>view</td>\n",
              "      <td>5916983</td>\n",
              "      <td>1783999073758478650</td>\n",
              "      <td>beautific</td>\n",
              "      <td>27.52</td>\n",
              "      <td>583884978</td>\n",
              "      <td>d6f873d5-7935-454c-9849-9fbf1b05fd53</td>\n",
              "    </tr>\n",
              "  </tbody>\n",
              "</table>\n",
              "</div>\n",
              "    <div class=\"colab-df-buttons\">\n",
              "\n",
              "  <div class=\"colab-df-container\">\n",
              "    <button class=\"colab-df-convert\" onclick=\"convertToInteractive('df-70ad678e-a295-4433-9524-73eb8e1d16a6')\"\n",
              "            title=\"Convert this dataframe to an interactive table.\"\n",
              "            style=\"display:none;\">\n",
              "\n",
              "  <svg xmlns=\"http://www.w3.org/2000/svg\" height=\"24px\" viewBox=\"0 -960 960 960\">\n",
              "    <path d=\"M120-120v-720h720v720H120Zm60-500h600v-160H180v160Zm220 220h160v-160H400v160Zm0 220h160v-160H400v160ZM180-400h160v-160H180v160Zm440 0h160v-160H620v160ZM180-180h160v-160H180v160Zm440 0h160v-160H620v160Z\"/>\n",
              "  </svg>\n",
              "    </button>\n",
              "\n",
              "  <style>\n",
              "    .colab-df-container {\n",
              "      display:flex;\n",
              "      gap: 12px;\n",
              "    }\n",
              "\n",
              "    .colab-df-convert {\n",
              "      background-color: #E8F0FE;\n",
              "      border: none;\n",
              "      border-radius: 50%;\n",
              "      cursor: pointer;\n",
              "      display: none;\n",
              "      fill: #1967D2;\n",
              "      height: 32px;\n",
              "      padding: 0 0 0 0;\n",
              "      width: 32px;\n",
              "    }\n",
              "\n",
              "    .colab-df-convert:hover {\n",
              "      background-color: #E2EBFA;\n",
              "      box-shadow: 0px 1px 2px rgba(60, 64, 67, 0.3), 0px 1px 3px 1px rgba(60, 64, 67, 0.15);\n",
              "      fill: #174EA6;\n",
              "    }\n",
              "\n",
              "    .colab-df-buttons div {\n",
              "      margin-bottom: 4px;\n",
              "    }\n",
              "\n",
              "    [theme=dark] .colab-df-convert {\n",
              "      background-color: #3B4455;\n",
              "      fill: #D2E3FC;\n",
              "    }\n",
              "\n",
              "    [theme=dark] .colab-df-convert:hover {\n",
              "      background-color: #434B5C;\n",
              "      box-shadow: 0px 1px 3px 1px rgba(0, 0, 0, 0.15);\n",
              "      filter: drop-shadow(0px 1px 2px rgba(0, 0, 0, 0.3));\n",
              "      fill: #FFFFFF;\n",
              "    }\n",
              "  </style>\n",
              "\n",
              "    <script>\n",
              "      const buttonEl =\n",
              "        document.querySelector('#df-70ad678e-a295-4433-9524-73eb8e1d16a6 button.colab-df-convert');\n",
              "      buttonEl.style.display =\n",
              "        google.colab.kernel.accessAllowed ? 'block' : 'none';\n",
              "\n",
              "      async function convertToInteractive(key) {\n",
              "        const element = document.querySelector('#df-70ad678e-a295-4433-9524-73eb8e1d16a6');\n",
              "        const dataTable =\n",
              "          await google.colab.kernel.invokeFunction('convertToInteractive',\n",
              "                                                    [key], {});\n",
              "        if (!dataTable) return;\n",
              "\n",
              "        const docLinkHtml = 'Like what you see? Visit the ' +\n",
              "          '<a target=\"_blank\" href=https://colab.research.google.com/notebooks/data_table.ipynb>data table notebook</a>'\n",
              "          + ' to learn more about interactive tables.';\n",
              "        element.innerHTML = '';\n",
              "        dataTable['output_type'] = 'display_data';\n",
              "        await google.colab.output.renderOutput(dataTable, element);\n",
              "        const docLink = document.createElement('div');\n",
              "        docLink.innerHTML = docLinkHtml;\n",
              "        element.appendChild(docLink);\n",
              "      }\n",
              "    </script>\n",
              "  </div>\n",
              "\n",
              "\n",
              "    <div id=\"df-e0105fea-8238-4d8d-a6ca-da25926aef80\">\n",
              "      <button class=\"colab-df-quickchart\" onclick=\"quickchart('df-e0105fea-8238-4d8d-a6ca-da25926aef80')\"\n",
              "                title=\"Suggest charts\"\n",
              "                style=\"display:none;\">\n",
              "\n",
              "<svg xmlns=\"http://www.w3.org/2000/svg\" height=\"24px\"viewBox=\"0 0 24 24\"\n",
              "     width=\"24px\">\n",
              "    <g>\n",
              "        <path d=\"M19 3H5c-1.1 0-2 .9-2 2v14c0 1.1.9 2 2 2h14c1.1 0 2-.9 2-2V5c0-1.1-.9-2-2-2zM9 17H7v-7h2v7zm4 0h-2V7h2v10zm4 0h-2v-4h2v4z\"/>\n",
              "    </g>\n",
              "</svg>\n",
              "      </button>\n",
              "\n",
              "<style>\n",
              "  .colab-df-quickchart {\n",
              "      --bg-color: #E8F0FE;\n",
              "      --fill-color: #1967D2;\n",
              "      --hover-bg-color: #E2EBFA;\n",
              "      --hover-fill-color: #174EA6;\n",
              "      --disabled-fill-color: #AAA;\n",
              "      --disabled-bg-color: #DDD;\n",
              "  }\n",
              "\n",
              "  [theme=dark] .colab-df-quickchart {\n",
              "      --bg-color: #3B4455;\n",
              "      --fill-color: #D2E3FC;\n",
              "      --hover-bg-color: #434B5C;\n",
              "      --hover-fill-color: #FFFFFF;\n",
              "      --disabled-bg-color: #3B4455;\n",
              "      --disabled-fill-color: #666;\n",
              "  }\n",
              "\n",
              "  .colab-df-quickchart {\n",
              "    background-color: var(--bg-color);\n",
              "    border: none;\n",
              "    border-radius: 50%;\n",
              "    cursor: pointer;\n",
              "    display: none;\n",
              "    fill: var(--fill-color);\n",
              "    height: 32px;\n",
              "    padding: 0;\n",
              "    width: 32px;\n",
              "  }\n",
              "\n",
              "  .colab-df-quickchart:hover {\n",
              "    background-color: var(--hover-bg-color);\n",
              "    box-shadow: 0 1px 2px rgba(60, 64, 67, 0.3), 0 1px 3px 1px rgba(60, 64, 67, 0.15);\n",
              "    fill: var(--button-hover-fill-color);\n",
              "  }\n",
              "\n",
              "  .colab-df-quickchart-complete:disabled,\n",
              "  .colab-df-quickchart-complete:disabled:hover {\n",
              "    background-color: var(--disabled-bg-color);\n",
              "    fill: var(--disabled-fill-color);\n",
              "    box-shadow: none;\n",
              "  }\n",
              "\n",
              "  .colab-df-spinner {\n",
              "    border: 2px solid var(--fill-color);\n",
              "    border-color: transparent;\n",
              "    border-bottom-color: var(--fill-color);\n",
              "    animation:\n",
              "      spin 1s steps(1) infinite;\n",
              "  }\n",
              "\n",
              "  @keyframes spin {\n",
              "    0% {\n",
              "      border-color: transparent;\n",
              "      border-bottom-color: var(--fill-color);\n",
              "      border-left-color: var(--fill-color);\n",
              "    }\n",
              "    20% {\n",
              "      border-color: transparent;\n",
              "      border-left-color: var(--fill-color);\n",
              "      border-top-color: var(--fill-color);\n",
              "    }\n",
              "    30% {\n",
              "      border-color: transparent;\n",
              "      border-left-color: var(--fill-color);\n",
              "      border-top-color: var(--fill-color);\n",
              "      border-right-color: var(--fill-color);\n",
              "    }\n",
              "    40% {\n",
              "      border-color: transparent;\n",
              "      border-right-color: var(--fill-color);\n",
              "      border-top-color: var(--fill-color);\n",
              "    }\n",
              "    60% {\n",
              "      border-color: transparent;\n",
              "      border-right-color: var(--fill-color);\n",
              "    }\n",
              "    80% {\n",
              "      border-color: transparent;\n",
              "      border-right-color: var(--fill-color);\n",
              "      border-bottom-color: var(--fill-color);\n",
              "    }\n",
              "    90% {\n",
              "      border-color: transparent;\n",
              "      border-bottom-color: var(--fill-color);\n",
              "    }\n",
              "  }\n",
              "</style>\n",
              "\n",
              "      <script>\n",
              "        async function quickchart(key) {\n",
              "          const quickchartButtonEl =\n",
              "            document.querySelector('#' + key + ' button');\n",
              "          quickchartButtonEl.disabled = true;  // To prevent multiple clicks.\n",
              "          quickchartButtonEl.classList.add('colab-df-spinner');\n",
              "          try {\n",
              "            const charts = await google.colab.kernel.invokeFunction(\n",
              "                'suggestCharts', [key], {});\n",
              "          } catch (error) {\n",
              "            console.error('Error during call to suggestCharts:', error);\n",
              "          }\n",
              "          quickchartButtonEl.classList.remove('colab-df-spinner');\n",
              "          quickchartButtonEl.classList.add('colab-df-quickchart-complete');\n",
              "        }\n",
              "        (() => {\n",
              "          let quickchartButtonEl =\n",
              "            document.querySelector('#df-e0105fea-8238-4d8d-a6ca-da25926aef80 button');\n",
              "          quickchartButtonEl.style.display =\n",
              "            google.colab.kernel.accessAllowed ? 'block' : 'none';\n",
              "        })();\n",
              "      </script>\n",
              "    </div>\n",
              "\n",
              "    </div>\n",
              "  </div>\n"
            ],
            "application/vnd.google.colaboratory.intrinsic+json": {
              "type": "dataframe",
              "summary": "{\n  \"name\": \"df\",\n  \"rows\": 8,\n  \"fields\": [\n    {\n      \"column\": \"event_time\",\n      \"properties\": {\n        \"dtype\": \"date\",\n        \"min\": \"2019-12-29 07:11:47+00:00\",\n        \"max\": \"2019-12-30 21:43:54+00:00\",\n        \"num_unique_values\": 7,\n        \"samples\": [\n          \"2019-12-29 07:11:47+00:00\",\n          \"2019-12-29 13:00:50+00:00\",\n          \"2019-12-30 12:59:20+00:00\"\n        ],\n        \"semantic_type\": \"\",\n        \"description\": \"\"\n      }\n    },\n    {\n      \"column\": \"event_type\",\n      \"properties\": {\n        \"dtype\": \"category\",\n        \"num_unique_values\": 3,\n        \"samples\": [\n          \"view\",\n          \"cart\",\n          \"remove_from_cart\"\n        ],\n        \"semantic_type\": \"\",\n        \"description\": \"\"\n      }\n    },\n    {\n      \"column\": \"product_id\",\n      \"properties\": {\n        \"dtype\": \"number\",\n        \"std\": 0,\n        \"min\": 5916983,\n        \"max\": 5916983,\n        \"num_unique_values\": 1,\n        \"samples\": [\n          5916983\n        ],\n        \"semantic_type\": \"\",\n        \"description\": \"\"\n      }\n    },\n    {\n      \"column\": \"category_id\",\n      \"properties\": {\n        \"dtype\": \"number\",\n        \"std\": 0,\n        \"min\": 1783999073758478650,\n        \"max\": 1783999073758478650,\n        \"num_unique_values\": 1,\n        \"samples\": [\n          1783999073758478650\n        ],\n        \"semantic_type\": \"\",\n        \"description\": \"\"\n      }\n    },\n    {\n      \"column\": \"brand\",\n      \"properties\": {\n        \"dtype\": \"category\",\n        \"num_unique_values\": 1,\n        \"samples\": [\n          \"beautific\"\n        ],\n        \"semantic_type\": \"\",\n        \"description\": \"\"\n      }\n    },\n    {\n      \"column\": \"price\",\n      \"properties\": {\n        \"dtype\": \"number\",\n        \"std\": 14.24295314482619,\n        \"min\": 0.0,\n        \"max\": 27.52,\n        \"num_unique_values\": 2,\n        \"samples\": [\n          27.52\n        ],\n        \"semantic_type\": \"\",\n        \"description\": \"\"\n      }\n    },\n    {\n      \"column\": \"user_id\",\n      \"properties\": {\n        \"dtype\": \"number\",\n        \"std\": 103219977,\n        \"min\": 355374962,\n        \"max\": 592007896,\n        \"num_unique_values\": 5,\n        \"samples\": [\n          355374962\n        ],\n        \"semantic_type\": \"\",\n        \"description\": \"\"\n      }\n    },\n    {\n      \"column\": \"user_session\",\n      \"properties\": {\n        \"dtype\": \"string\",\n        \"num_unique_values\": 5,\n        \"samples\": [\n          \"de91420a-9375-4477-b44f-c072e1604f2c\"\n        ],\n        \"semantic_type\": \"\",\n        \"description\": \"\"\n      }\n    }\n  ]\n}"
            }
          },
          "metadata": {},
          "execution_count": 24
        }
      ]
    },
    {
      "cell_type": "code",
      "source": [
        "# Replace price 0 with mean of that product (excluding 0)\n",
        "df['price'] = df.groupby('product_id')['price'].transform(lambda y: y.replace(0, y[y!=0].mean()))"
      ],
      "metadata": {
        "id": "ki-DxY3AXUvK"
      },
      "execution_count": 25,
      "outputs": []
    },
    {
      "cell_type": "code",
      "source": [
        "df.query('product_id == 5916983')"
      ],
      "metadata": {
        "colab": {
          "base_uri": "https://localhost:8080/",
          "height": 615
        },
        "id": "7y8T7z37XUxq",
        "outputId": "fc0e8d36-6c33-4597-81c0-79c40453c3e0"
      },
      "execution_count": 26,
      "outputs": [
        {
          "output_type": "execute_result",
          "data": {
            "text/plain": [
              "                       event_time        event_type  product_id  \\\n",
              "3374835 2019-12-29 07:11:47+00:00              view     5916983   \n",
              "3397074 2019-12-29 13:00:50+00:00              cart     5916983   \n",
              "3397086 2019-12-29 13:00:55+00:00  remove_from_cart     5916983   \n",
              "3397087 2019-12-29 13:00:55+00:00  remove_from_cart     5916983   \n",
              "3397111 2019-12-29 13:01:02+00:00              view     5916983   \n",
              "3468885 2019-12-30 12:36:57+00:00              cart     5916983   \n",
              "3470599 2019-12-30 12:59:20+00:00              view     5916983   \n",
              "3498570 2019-12-30 21:43:54+00:00              view     5916983   \n",
              "\n",
              "                 category_id      brand  price    user_id  \\\n",
              "3374835  1783999073758478650  beautific  27.52  410144142   \n",
              "3397074  1783999073758478650  beautific  27.52  355374962   \n",
              "3397086  1783999073758478650  beautific  27.52  355374962   \n",
              "3397087  1783999073758478650  beautific  27.52  355374962   \n",
              "3397111  1783999073758478650  beautific  27.52  355374962   \n",
              "3468885  1783999073758478650  beautific  27.52  592007896   \n",
              "3470599  1783999073758478650  beautific  27.52  477270774   \n",
              "3498570  1783999073758478650  beautific  27.52  583884978   \n",
              "\n",
              "                                 user_session  \n",
              "3374835  57484fc7-f6a4-45ba-b95a-9116ead6d96f  \n",
              "3397074  de91420a-9375-4477-b44f-c072e1604f2c  \n",
              "3397086  de91420a-9375-4477-b44f-c072e1604f2c  \n",
              "3397087  de91420a-9375-4477-b44f-c072e1604f2c  \n",
              "3397111  de91420a-9375-4477-b44f-c072e1604f2c  \n",
              "3468885  84475418-083b-4a8e-ab7f-8d38994b1f12  \n",
              "3470599  e5670c53-8674-4725-86e2-dc6bfd39c04c  \n",
              "3498570  d6f873d5-7935-454c-9849-9fbf1b05fd53  "
            ],
            "text/html": [
              "\n",
              "  <div id=\"df-31e2bbb4-e56a-40c2-82da-55a2b2667a39\" class=\"colab-df-container\">\n",
              "    <div>\n",
              "<style scoped>\n",
              "    .dataframe tbody tr th:only-of-type {\n",
              "        vertical-align: middle;\n",
              "    }\n",
              "\n",
              "    .dataframe tbody tr th {\n",
              "        vertical-align: top;\n",
              "    }\n",
              "\n",
              "    .dataframe thead th {\n",
              "        text-align: right;\n",
              "    }\n",
              "</style>\n",
              "<table border=\"1\" class=\"dataframe\">\n",
              "  <thead>\n",
              "    <tr style=\"text-align: right;\">\n",
              "      <th></th>\n",
              "      <th>event_time</th>\n",
              "      <th>event_type</th>\n",
              "      <th>product_id</th>\n",
              "      <th>category_id</th>\n",
              "      <th>brand</th>\n",
              "      <th>price</th>\n",
              "      <th>user_id</th>\n",
              "      <th>user_session</th>\n",
              "    </tr>\n",
              "  </thead>\n",
              "  <tbody>\n",
              "    <tr>\n",
              "      <th>3374835</th>\n",
              "      <td>2019-12-29 07:11:47+00:00</td>\n",
              "      <td>view</td>\n",
              "      <td>5916983</td>\n",
              "      <td>1783999073758478650</td>\n",
              "      <td>beautific</td>\n",
              "      <td>27.52</td>\n",
              "      <td>410144142</td>\n",
              "      <td>57484fc7-f6a4-45ba-b95a-9116ead6d96f</td>\n",
              "    </tr>\n",
              "    <tr>\n",
              "      <th>3397074</th>\n",
              "      <td>2019-12-29 13:00:50+00:00</td>\n",
              "      <td>cart</td>\n",
              "      <td>5916983</td>\n",
              "      <td>1783999073758478650</td>\n",
              "      <td>beautific</td>\n",
              "      <td>27.52</td>\n",
              "      <td>355374962</td>\n",
              "      <td>de91420a-9375-4477-b44f-c072e1604f2c</td>\n",
              "    </tr>\n",
              "    <tr>\n",
              "      <th>3397086</th>\n",
              "      <td>2019-12-29 13:00:55+00:00</td>\n",
              "      <td>remove_from_cart</td>\n",
              "      <td>5916983</td>\n",
              "      <td>1783999073758478650</td>\n",
              "      <td>beautific</td>\n",
              "      <td>27.52</td>\n",
              "      <td>355374962</td>\n",
              "      <td>de91420a-9375-4477-b44f-c072e1604f2c</td>\n",
              "    </tr>\n",
              "    <tr>\n",
              "      <th>3397087</th>\n",
              "      <td>2019-12-29 13:00:55+00:00</td>\n",
              "      <td>remove_from_cart</td>\n",
              "      <td>5916983</td>\n",
              "      <td>1783999073758478650</td>\n",
              "      <td>beautific</td>\n",
              "      <td>27.52</td>\n",
              "      <td>355374962</td>\n",
              "      <td>de91420a-9375-4477-b44f-c072e1604f2c</td>\n",
              "    </tr>\n",
              "    <tr>\n",
              "      <th>3397111</th>\n",
              "      <td>2019-12-29 13:01:02+00:00</td>\n",
              "      <td>view</td>\n",
              "      <td>5916983</td>\n",
              "      <td>1783999073758478650</td>\n",
              "      <td>beautific</td>\n",
              "      <td>27.52</td>\n",
              "      <td>355374962</td>\n",
              "      <td>de91420a-9375-4477-b44f-c072e1604f2c</td>\n",
              "    </tr>\n",
              "    <tr>\n",
              "      <th>3468885</th>\n",
              "      <td>2019-12-30 12:36:57+00:00</td>\n",
              "      <td>cart</td>\n",
              "      <td>5916983</td>\n",
              "      <td>1783999073758478650</td>\n",
              "      <td>beautific</td>\n",
              "      <td>27.52</td>\n",
              "      <td>592007896</td>\n",
              "      <td>84475418-083b-4a8e-ab7f-8d38994b1f12</td>\n",
              "    </tr>\n",
              "    <tr>\n",
              "      <th>3470599</th>\n",
              "      <td>2019-12-30 12:59:20+00:00</td>\n",
              "      <td>view</td>\n",
              "      <td>5916983</td>\n",
              "      <td>1783999073758478650</td>\n",
              "      <td>beautific</td>\n",
              "      <td>27.52</td>\n",
              "      <td>477270774</td>\n",
              "      <td>e5670c53-8674-4725-86e2-dc6bfd39c04c</td>\n",
              "    </tr>\n",
              "    <tr>\n",
              "      <th>3498570</th>\n",
              "      <td>2019-12-30 21:43:54+00:00</td>\n",
              "      <td>view</td>\n",
              "      <td>5916983</td>\n",
              "      <td>1783999073758478650</td>\n",
              "      <td>beautific</td>\n",
              "      <td>27.52</td>\n",
              "      <td>583884978</td>\n",
              "      <td>d6f873d5-7935-454c-9849-9fbf1b05fd53</td>\n",
              "    </tr>\n",
              "  </tbody>\n",
              "</table>\n",
              "</div>\n",
              "    <div class=\"colab-df-buttons\">\n",
              "\n",
              "  <div class=\"colab-df-container\">\n",
              "    <button class=\"colab-df-convert\" onclick=\"convertToInteractive('df-31e2bbb4-e56a-40c2-82da-55a2b2667a39')\"\n",
              "            title=\"Convert this dataframe to an interactive table.\"\n",
              "            style=\"display:none;\">\n",
              "\n",
              "  <svg xmlns=\"http://www.w3.org/2000/svg\" height=\"24px\" viewBox=\"0 -960 960 960\">\n",
              "    <path d=\"M120-120v-720h720v720H120Zm60-500h600v-160H180v160Zm220 220h160v-160H400v160Zm0 220h160v-160H400v160ZM180-400h160v-160H180v160Zm440 0h160v-160H620v160ZM180-180h160v-160H180v160Zm440 0h160v-160H620v160Z\"/>\n",
              "  </svg>\n",
              "    </button>\n",
              "\n",
              "  <style>\n",
              "    .colab-df-container {\n",
              "      display:flex;\n",
              "      gap: 12px;\n",
              "    }\n",
              "\n",
              "    .colab-df-convert {\n",
              "      background-color: #E8F0FE;\n",
              "      border: none;\n",
              "      border-radius: 50%;\n",
              "      cursor: pointer;\n",
              "      display: none;\n",
              "      fill: #1967D2;\n",
              "      height: 32px;\n",
              "      padding: 0 0 0 0;\n",
              "      width: 32px;\n",
              "    }\n",
              "\n",
              "    .colab-df-convert:hover {\n",
              "      background-color: #E2EBFA;\n",
              "      box-shadow: 0px 1px 2px rgba(60, 64, 67, 0.3), 0px 1px 3px 1px rgba(60, 64, 67, 0.15);\n",
              "      fill: #174EA6;\n",
              "    }\n",
              "\n",
              "    .colab-df-buttons div {\n",
              "      margin-bottom: 4px;\n",
              "    }\n",
              "\n",
              "    [theme=dark] .colab-df-convert {\n",
              "      background-color: #3B4455;\n",
              "      fill: #D2E3FC;\n",
              "    }\n",
              "\n",
              "    [theme=dark] .colab-df-convert:hover {\n",
              "      background-color: #434B5C;\n",
              "      box-shadow: 0px 1px 3px 1px rgba(0, 0, 0, 0.15);\n",
              "      filter: drop-shadow(0px 1px 2px rgba(0, 0, 0, 0.3));\n",
              "      fill: #FFFFFF;\n",
              "    }\n",
              "  </style>\n",
              "\n",
              "    <script>\n",
              "      const buttonEl =\n",
              "        document.querySelector('#df-31e2bbb4-e56a-40c2-82da-55a2b2667a39 button.colab-df-convert');\n",
              "      buttonEl.style.display =\n",
              "        google.colab.kernel.accessAllowed ? 'block' : 'none';\n",
              "\n",
              "      async function convertToInteractive(key) {\n",
              "        const element = document.querySelector('#df-31e2bbb4-e56a-40c2-82da-55a2b2667a39');\n",
              "        const dataTable =\n",
              "          await google.colab.kernel.invokeFunction('convertToInteractive',\n",
              "                                                    [key], {});\n",
              "        if (!dataTable) return;\n",
              "\n",
              "        const docLinkHtml = 'Like what you see? Visit the ' +\n",
              "          '<a target=\"_blank\" href=https://colab.research.google.com/notebooks/data_table.ipynb>data table notebook</a>'\n",
              "          + ' to learn more about interactive tables.';\n",
              "        element.innerHTML = '';\n",
              "        dataTable['output_type'] = 'display_data';\n",
              "        await google.colab.output.renderOutput(dataTable, element);\n",
              "        const docLink = document.createElement('div');\n",
              "        docLink.innerHTML = docLinkHtml;\n",
              "        element.appendChild(docLink);\n",
              "      }\n",
              "    </script>\n",
              "  </div>\n",
              "\n",
              "\n",
              "    <div id=\"df-62f5dd87-3667-43fa-902d-5a91901ad668\">\n",
              "      <button class=\"colab-df-quickchart\" onclick=\"quickchart('df-62f5dd87-3667-43fa-902d-5a91901ad668')\"\n",
              "                title=\"Suggest charts\"\n",
              "                style=\"display:none;\">\n",
              "\n",
              "<svg xmlns=\"http://www.w3.org/2000/svg\" height=\"24px\"viewBox=\"0 0 24 24\"\n",
              "     width=\"24px\">\n",
              "    <g>\n",
              "        <path d=\"M19 3H5c-1.1 0-2 .9-2 2v14c0 1.1.9 2 2 2h14c1.1 0 2-.9 2-2V5c0-1.1-.9-2-2-2zM9 17H7v-7h2v7zm4 0h-2V7h2v10zm4 0h-2v-4h2v4z\"/>\n",
              "    </g>\n",
              "</svg>\n",
              "      </button>\n",
              "\n",
              "<style>\n",
              "  .colab-df-quickchart {\n",
              "      --bg-color: #E8F0FE;\n",
              "      --fill-color: #1967D2;\n",
              "      --hover-bg-color: #E2EBFA;\n",
              "      --hover-fill-color: #174EA6;\n",
              "      --disabled-fill-color: #AAA;\n",
              "      --disabled-bg-color: #DDD;\n",
              "  }\n",
              "\n",
              "  [theme=dark] .colab-df-quickchart {\n",
              "      --bg-color: #3B4455;\n",
              "      --fill-color: #D2E3FC;\n",
              "      --hover-bg-color: #434B5C;\n",
              "      --hover-fill-color: #FFFFFF;\n",
              "      --disabled-bg-color: #3B4455;\n",
              "      --disabled-fill-color: #666;\n",
              "  }\n",
              "\n",
              "  .colab-df-quickchart {\n",
              "    background-color: var(--bg-color);\n",
              "    border: none;\n",
              "    border-radius: 50%;\n",
              "    cursor: pointer;\n",
              "    display: none;\n",
              "    fill: var(--fill-color);\n",
              "    height: 32px;\n",
              "    padding: 0;\n",
              "    width: 32px;\n",
              "  }\n",
              "\n",
              "  .colab-df-quickchart:hover {\n",
              "    background-color: var(--hover-bg-color);\n",
              "    box-shadow: 0 1px 2px rgba(60, 64, 67, 0.3), 0 1px 3px 1px rgba(60, 64, 67, 0.15);\n",
              "    fill: var(--button-hover-fill-color);\n",
              "  }\n",
              "\n",
              "  .colab-df-quickchart-complete:disabled,\n",
              "  .colab-df-quickchart-complete:disabled:hover {\n",
              "    background-color: var(--disabled-bg-color);\n",
              "    fill: var(--disabled-fill-color);\n",
              "    box-shadow: none;\n",
              "  }\n",
              "\n",
              "  .colab-df-spinner {\n",
              "    border: 2px solid var(--fill-color);\n",
              "    border-color: transparent;\n",
              "    border-bottom-color: var(--fill-color);\n",
              "    animation:\n",
              "      spin 1s steps(1) infinite;\n",
              "  }\n",
              "\n",
              "  @keyframes spin {\n",
              "    0% {\n",
              "      border-color: transparent;\n",
              "      border-bottom-color: var(--fill-color);\n",
              "      border-left-color: var(--fill-color);\n",
              "    }\n",
              "    20% {\n",
              "      border-color: transparent;\n",
              "      border-left-color: var(--fill-color);\n",
              "      border-top-color: var(--fill-color);\n",
              "    }\n",
              "    30% {\n",
              "      border-color: transparent;\n",
              "      border-left-color: var(--fill-color);\n",
              "      border-top-color: var(--fill-color);\n",
              "      border-right-color: var(--fill-color);\n",
              "    }\n",
              "    40% {\n",
              "      border-color: transparent;\n",
              "      border-right-color: var(--fill-color);\n",
              "      border-top-color: var(--fill-color);\n",
              "    }\n",
              "    60% {\n",
              "      border-color: transparent;\n",
              "      border-right-color: var(--fill-color);\n",
              "    }\n",
              "    80% {\n",
              "      border-color: transparent;\n",
              "      border-right-color: var(--fill-color);\n",
              "      border-bottom-color: var(--fill-color);\n",
              "    }\n",
              "    90% {\n",
              "      border-color: transparent;\n",
              "      border-bottom-color: var(--fill-color);\n",
              "    }\n",
              "  }\n",
              "</style>\n",
              "\n",
              "      <script>\n",
              "        async function quickchart(key) {\n",
              "          const quickchartButtonEl =\n",
              "            document.querySelector('#' + key + ' button');\n",
              "          quickchartButtonEl.disabled = true;  // To prevent multiple clicks.\n",
              "          quickchartButtonEl.classList.add('colab-df-spinner');\n",
              "          try {\n",
              "            const charts = await google.colab.kernel.invokeFunction(\n",
              "                'suggestCharts', [key], {});\n",
              "          } catch (error) {\n",
              "            console.error('Error during call to suggestCharts:', error);\n",
              "          }\n",
              "          quickchartButtonEl.classList.remove('colab-df-spinner');\n",
              "          quickchartButtonEl.classList.add('colab-df-quickchart-complete');\n",
              "        }\n",
              "        (() => {\n",
              "          let quickchartButtonEl =\n",
              "            document.querySelector('#df-62f5dd87-3667-43fa-902d-5a91901ad668 button');\n",
              "          quickchartButtonEl.style.display =\n",
              "            google.colab.kernel.accessAllowed ? 'block' : 'none';\n",
              "        })();\n",
              "      </script>\n",
              "    </div>\n",
              "\n",
              "    </div>\n",
              "  </div>\n"
            ],
            "application/vnd.google.colaboratory.intrinsic+json": {
              "type": "dataframe",
              "summary": "{\n  \"name\": \"df\",\n  \"rows\": 8,\n  \"fields\": [\n    {\n      \"column\": \"event_time\",\n      \"properties\": {\n        \"dtype\": \"date\",\n        \"min\": \"2019-12-29 07:11:47+00:00\",\n        \"max\": \"2019-12-30 21:43:54+00:00\",\n        \"num_unique_values\": 7,\n        \"samples\": [\n          \"2019-12-29 07:11:47+00:00\",\n          \"2019-12-29 13:00:50+00:00\",\n          \"2019-12-30 12:59:20+00:00\"\n        ],\n        \"semantic_type\": \"\",\n        \"description\": \"\"\n      }\n    },\n    {\n      \"column\": \"event_type\",\n      \"properties\": {\n        \"dtype\": \"category\",\n        \"num_unique_values\": 3,\n        \"samples\": [\n          \"view\",\n          \"cart\",\n          \"remove_from_cart\"\n        ],\n        \"semantic_type\": \"\",\n        \"description\": \"\"\n      }\n    },\n    {\n      \"column\": \"product_id\",\n      \"properties\": {\n        \"dtype\": \"number\",\n        \"std\": 0,\n        \"min\": 5916983,\n        \"max\": 5916983,\n        \"num_unique_values\": 1,\n        \"samples\": [\n          5916983\n        ],\n        \"semantic_type\": \"\",\n        \"description\": \"\"\n      }\n    },\n    {\n      \"column\": \"category_id\",\n      \"properties\": {\n        \"dtype\": \"number\",\n        \"std\": 0,\n        \"min\": 1783999073758478650,\n        \"max\": 1783999073758478650,\n        \"num_unique_values\": 1,\n        \"samples\": [\n          1783999073758478650\n        ],\n        \"semantic_type\": \"\",\n        \"description\": \"\"\n      }\n    },\n    {\n      \"column\": \"brand\",\n      \"properties\": {\n        \"dtype\": \"category\",\n        \"num_unique_values\": 1,\n        \"samples\": [\n          \"beautific\"\n        ],\n        \"semantic_type\": \"\",\n        \"description\": \"\"\n      }\n    },\n    {\n      \"column\": \"price\",\n      \"properties\": {\n        \"dtype\": \"number\",\n        \"std\": 3.79801067982192e-15,\n        \"min\": 27.52,\n        \"max\": 27.52,\n        \"num_unique_values\": 1,\n        \"samples\": [\n          27.52\n        ],\n        \"semantic_type\": \"\",\n        \"description\": \"\"\n      }\n    },\n    {\n      \"column\": \"user_id\",\n      \"properties\": {\n        \"dtype\": \"number\",\n        \"std\": 103219977,\n        \"min\": 355374962,\n        \"max\": 592007896,\n        \"num_unique_values\": 5,\n        \"samples\": [\n          355374962\n        ],\n        \"semantic_type\": \"\",\n        \"description\": \"\"\n      }\n    },\n    {\n      \"column\": \"user_session\",\n      \"properties\": {\n        \"dtype\": \"string\",\n        \"num_unique_values\": 5,\n        \"samples\": [\n          \"de91420a-9375-4477-b44f-c072e1604f2c\"\n        ],\n        \"semantic_type\": \"\",\n        \"description\": \"\"\n      }\n    }\n  ]\n}"
            }
          },
          "metadata": {},
          "execution_count": 26
        }
      ]
    },
    {
      "cell_type": "code",
      "source": [
        "len(df.query('price==0'))"
      ],
      "metadata": {
        "colab": {
          "base_uri": "https://localhost:8080/"
        },
        "id": "PIdDeM46XU0S",
        "outputId": "0fd42a97-6865-4995-e08e-6a13556260dd"
      },
      "execution_count": 27,
      "outputs": [
        {
          "output_type": "execute_result",
          "data": {
            "text/plain": [
              "0"
            ]
          },
          "metadata": {},
          "execution_count": 27
        }
      ]
    },
    {
      "cell_type": "code",
      "source": [
        "df.duplicated().sum()"
      ],
      "metadata": {
        "colab": {
          "base_uri": "https://localhost:8080/"
        },
        "id": "-bqAOooxXZL_",
        "outputId": "0842ebc0-2cf6-492c-d62b-67a7ca359673"
      },
      "execution_count": 28,
      "outputs": [
        {
          "output_type": "execute_result",
          "data": {
            "text/plain": [
              "np.int64(183859)"
            ]
          },
          "metadata": {},
          "execution_count": 28
        }
      ]
    },
    {
      "cell_type": "code",
      "source": [
        "df = df.drop_duplicates()"
      ],
      "metadata": {
        "id": "GqDRtmnjXZO_"
      },
      "execution_count": 29,
      "outputs": []
    },
    {
      "cell_type": "code",
      "source": [
        "df.duplicated().sum()"
      ],
      "metadata": {
        "colab": {
          "base_uri": "https://localhost:8080/"
        },
        "id": "O8-FL3CxXZRu",
        "outputId": "b248fb4b-540c-4b22-af1f-547b55064147"
      },
      "execution_count": 30,
      "outputs": [
        {
          "output_type": "execute_result",
          "data": {
            "text/plain": [
              "np.int64(0)"
            ]
          },
          "metadata": {},
          "execution_count": 30
        }
      ]
    },
    {
      "cell_type": "code",
      "source": [
        "df.shape"
      ],
      "metadata": {
        "colab": {
          "base_uri": "https://localhost:8080/"
        },
        "id": "eG91Zx7eXb12",
        "outputId": "67ada17f-41eb-440a-e154-fd29ac5486f2"
      },
      "execution_count": 31,
      "outputs": [
        {
          "output_type": "execute_result",
          "data": {
            "text/plain": [
              "(3349409, 8)"
            ]
          },
          "metadata": {},
          "execution_count": 31
        }
      ]
    },
    {
      "cell_type": "markdown",
      "source": [
        "## **III. Data Analysis**"
      ],
      "metadata": {
        "id": "xFbcKjtsOFUj"
      }
    },
    {
      "cell_type": "markdown",
      "source": [
        "### **3-1. Funnel Analysis**"
      ],
      "metadata": {
        "id": "lJtogcePgSPz"
      }
    },
    {
      "cell_type": "markdown",
      "source": [
        "**Preparing Data for Funnel Analysis**"
      ],
      "metadata": {
        "id": "P-VfJ3XegYX2"
      }
    },
    {
      "cell_type": "code",
      "source": [
        "df['event_type'].value_counts()"
      ],
      "metadata": {
        "colab": {
          "base_uri": "https://localhost:8080/",
          "height": 241
        },
        "id": "w7QmXLodWEQ7",
        "outputId": "35d2a4f8-48f4-4324-ddbe-deee80ee3086"
      },
      "execution_count": 32,
      "outputs": [
        {
          "output_type": "execute_result",
          "data": {
            "text/plain": [
              "event_type\n",
              "view                1728221\n",
              "cart                 911641\n",
              "remove_from_cart     496498\n",
              "purchase             213049\n",
              "Name: count, dtype: int64"
            ],
            "text/html": [
              "<div>\n",
              "<style scoped>\n",
              "    .dataframe tbody tr th:only-of-type {\n",
              "        vertical-align: middle;\n",
              "    }\n",
              "\n",
              "    .dataframe tbody tr th {\n",
              "        vertical-align: top;\n",
              "    }\n",
              "\n",
              "    .dataframe thead th {\n",
              "        text-align: right;\n",
              "    }\n",
              "</style>\n",
              "<table border=\"1\" class=\"dataframe\">\n",
              "  <thead>\n",
              "    <tr style=\"text-align: right;\">\n",
              "      <th></th>\n",
              "      <th>count</th>\n",
              "    </tr>\n",
              "    <tr>\n",
              "      <th>event_type</th>\n",
              "      <th></th>\n",
              "    </tr>\n",
              "  </thead>\n",
              "  <tbody>\n",
              "    <tr>\n",
              "      <th>view</th>\n",
              "      <td>1728221</td>\n",
              "    </tr>\n",
              "    <tr>\n",
              "      <th>cart</th>\n",
              "      <td>911641</td>\n",
              "    </tr>\n",
              "    <tr>\n",
              "      <th>remove_from_cart</th>\n",
              "      <td>496498</td>\n",
              "    </tr>\n",
              "    <tr>\n",
              "      <th>purchase</th>\n",
              "      <td>213049</td>\n",
              "    </tr>\n",
              "  </tbody>\n",
              "</table>\n",
              "</div><br><label><b>dtype:</b> int64</label>"
            ]
          },
          "metadata": {},
          "execution_count": 32
        }
      ]
    },
    {
      "cell_type": "markdown",
      "source": [
        "The data includes user actions such as view, cart, remove_from_cart, and purchase, but some funnels may not start with a view event due to the limited date range. To prevent this from distorting the funnel analysis, only user_id and product_id pairs whose first event is a view are included."
      ],
      "metadata": {
        "id": "giVmXzrogf_b"
      }
    },
    {
      "cell_type": "code",
      "source": [
        "df.query('product_id == 5629988 & user_id == 579966747')"
      ],
      "metadata": {
        "colab": {
          "base_uri": "https://localhost:8080/",
          "height": 202
        },
        "id": "58oCi05eWETf",
        "outputId": "910330d1-abfb-4f9c-84d1-b172176dc316"
      },
      "execution_count": 33,
      "outputs": [
        {
          "output_type": "execute_result",
          "data": {
            "text/plain": [
              "                      event_time event_type  product_id          category_id  \\\n",
              "6      2019-12-01 00:00:18+00:00       cart     5629988  1487580009311764506   \n",
              "478708 2019-12-04 14:37:33+00:00   purchase     5629988  1487580009311764506   \n",
              "\n",
              "       brand  price    user_id                          user_session  \n",
              "6        N/A   1.19  579966747  1512be50-d0fd-4a92-bcd8-3ea3943f2a3b  \n",
              "478708   N/A   1.19  579966747  4f7bd471-2dca-4fbf-8a7a-8fae2d0feae8  "
            ],
            "text/html": [
              "\n",
              "  <div id=\"df-6bc12d8e-8f9b-48a6-981a-3bdf30de3c87\" class=\"colab-df-container\">\n",
              "    <div>\n",
              "<style scoped>\n",
              "    .dataframe tbody tr th:only-of-type {\n",
              "        vertical-align: middle;\n",
              "    }\n",
              "\n",
              "    .dataframe tbody tr th {\n",
              "        vertical-align: top;\n",
              "    }\n",
              "\n",
              "    .dataframe thead th {\n",
              "        text-align: right;\n",
              "    }\n",
              "</style>\n",
              "<table border=\"1\" class=\"dataframe\">\n",
              "  <thead>\n",
              "    <tr style=\"text-align: right;\">\n",
              "      <th></th>\n",
              "      <th>event_time</th>\n",
              "      <th>event_type</th>\n",
              "      <th>product_id</th>\n",
              "      <th>category_id</th>\n",
              "      <th>brand</th>\n",
              "      <th>price</th>\n",
              "      <th>user_id</th>\n",
              "      <th>user_session</th>\n",
              "    </tr>\n",
              "  </thead>\n",
              "  <tbody>\n",
              "    <tr>\n",
              "      <th>6</th>\n",
              "      <td>2019-12-01 00:00:18+00:00</td>\n",
              "      <td>cart</td>\n",
              "      <td>5629988</td>\n",
              "      <td>1487580009311764506</td>\n",
              "      <td>N/A</td>\n",
              "      <td>1.19</td>\n",
              "      <td>579966747</td>\n",
              "      <td>1512be50-d0fd-4a92-bcd8-3ea3943f2a3b</td>\n",
              "    </tr>\n",
              "    <tr>\n",
              "      <th>478708</th>\n",
              "      <td>2019-12-04 14:37:33+00:00</td>\n",
              "      <td>purchase</td>\n",
              "      <td>5629988</td>\n",
              "      <td>1487580009311764506</td>\n",
              "      <td>N/A</td>\n",
              "      <td>1.19</td>\n",
              "      <td>579966747</td>\n",
              "      <td>4f7bd471-2dca-4fbf-8a7a-8fae2d0feae8</td>\n",
              "    </tr>\n",
              "  </tbody>\n",
              "</table>\n",
              "</div>\n",
              "    <div class=\"colab-df-buttons\">\n",
              "\n",
              "  <div class=\"colab-df-container\">\n",
              "    <button class=\"colab-df-convert\" onclick=\"convertToInteractive('df-6bc12d8e-8f9b-48a6-981a-3bdf30de3c87')\"\n",
              "            title=\"Convert this dataframe to an interactive table.\"\n",
              "            style=\"display:none;\">\n",
              "\n",
              "  <svg xmlns=\"http://www.w3.org/2000/svg\" height=\"24px\" viewBox=\"0 -960 960 960\">\n",
              "    <path d=\"M120-120v-720h720v720H120Zm60-500h600v-160H180v160Zm220 220h160v-160H400v160Zm0 220h160v-160H400v160ZM180-400h160v-160H180v160Zm440 0h160v-160H620v160ZM180-180h160v-160H180v160Zm440 0h160v-160H620v160Z\"/>\n",
              "  </svg>\n",
              "    </button>\n",
              "\n",
              "  <style>\n",
              "    .colab-df-container {\n",
              "      display:flex;\n",
              "      gap: 12px;\n",
              "    }\n",
              "\n",
              "    .colab-df-convert {\n",
              "      background-color: #E8F0FE;\n",
              "      border: none;\n",
              "      border-radius: 50%;\n",
              "      cursor: pointer;\n",
              "      display: none;\n",
              "      fill: #1967D2;\n",
              "      height: 32px;\n",
              "      padding: 0 0 0 0;\n",
              "      width: 32px;\n",
              "    }\n",
              "\n",
              "    .colab-df-convert:hover {\n",
              "      background-color: #E2EBFA;\n",
              "      box-shadow: 0px 1px 2px rgba(60, 64, 67, 0.3), 0px 1px 3px 1px rgba(60, 64, 67, 0.15);\n",
              "      fill: #174EA6;\n",
              "    }\n",
              "\n",
              "    .colab-df-buttons div {\n",
              "      margin-bottom: 4px;\n",
              "    }\n",
              "\n",
              "    [theme=dark] .colab-df-convert {\n",
              "      background-color: #3B4455;\n",
              "      fill: #D2E3FC;\n",
              "    }\n",
              "\n",
              "    [theme=dark] .colab-df-convert:hover {\n",
              "      background-color: #434B5C;\n",
              "      box-shadow: 0px 1px 3px 1px rgba(0, 0, 0, 0.15);\n",
              "      filter: drop-shadow(0px 1px 2px rgba(0, 0, 0, 0.3));\n",
              "      fill: #FFFFFF;\n",
              "    }\n",
              "  </style>\n",
              "\n",
              "    <script>\n",
              "      const buttonEl =\n",
              "        document.querySelector('#df-6bc12d8e-8f9b-48a6-981a-3bdf30de3c87 button.colab-df-convert');\n",
              "      buttonEl.style.display =\n",
              "        google.colab.kernel.accessAllowed ? 'block' : 'none';\n",
              "\n",
              "      async function convertToInteractive(key) {\n",
              "        const element = document.querySelector('#df-6bc12d8e-8f9b-48a6-981a-3bdf30de3c87');\n",
              "        const dataTable =\n",
              "          await google.colab.kernel.invokeFunction('convertToInteractive',\n",
              "                                                    [key], {});\n",
              "        if (!dataTable) return;\n",
              "\n",
              "        const docLinkHtml = 'Like what you see? Visit the ' +\n",
              "          '<a target=\"_blank\" href=https://colab.research.google.com/notebooks/data_table.ipynb>data table notebook</a>'\n",
              "          + ' to learn more about interactive tables.';\n",
              "        element.innerHTML = '';\n",
              "        dataTable['output_type'] = 'display_data';\n",
              "        await google.colab.output.renderOutput(dataTable, element);\n",
              "        const docLink = document.createElement('div');\n",
              "        docLink.innerHTML = docLinkHtml;\n",
              "        element.appendChild(docLink);\n",
              "      }\n",
              "    </script>\n",
              "  </div>\n",
              "\n",
              "\n",
              "    <div id=\"df-13d07274-7371-4c80-9fa7-901633a99673\">\n",
              "      <button class=\"colab-df-quickchart\" onclick=\"quickchart('df-13d07274-7371-4c80-9fa7-901633a99673')\"\n",
              "                title=\"Suggest charts\"\n",
              "                style=\"display:none;\">\n",
              "\n",
              "<svg xmlns=\"http://www.w3.org/2000/svg\" height=\"24px\"viewBox=\"0 0 24 24\"\n",
              "     width=\"24px\">\n",
              "    <g>\n",
              "        <path d=\"M19 3H5c-1.1 0-2 .9-2 2v14c0 1.1.9 2 2 2h14c1.1 0 2-.9 2-2V5c0-1.1-.9-2-2-2zM9 17H7v-7h2v7zm4 0h-2V7h2v10zm4 0h-2v-4h2v4z\"/>\n",
              "    </g>\n",
              "</svg>\n",
              "      </button>\n",
              "\n",
              "<style>\n",
              "  .colab-df-quickchart {\n",
              "      --bg-color: #E8F0FE;\n",
              "      --fill-color: #1967D2;\n",
              "      --hover-bg-color: #E2EBFA;\n",
              "      --hover-fill-color: #174EA6;\n",
              "      --disabled-fill-color: #AAA;\n",
              "      --disabled-bg-color: #DDD;\n",
              "  }\n",
              "\n",
              "  [theme=dark] .colab-df-quickchart {\n",
              "      --bg-color: #3B4455;\n",
              "      --fill-color: #D2E3FC;\n",
              "      --hover-bg-color: #434B5C;\n",
              "      --hover-fill-color: #FFFFFF;\n",
              "      --disabled-bg-color: #3B4455;\n",
              "      --disabled-fill-color: #666;\n",
              "  }\n",
              "\n",
              "  .colab-df-quickchart {\n",
              "    background-color: var(--bg-color);\n",
              "    border: none;\n",
              "    border-radius: 50%;\n",
              "    cursor: pointer;\n",
              "    display: none;\n",
              "    fill: var(--fill-color);\n",
              "    height: 32px;\n",
              "    padding: 0;\n",
              "    width: 32px;\n",
              "  }\n",
              "\n",
              "  .colab-df-quickchart:hover {\n",
              "    background-color: var(--hover-bg-color);\n",
              "    box-shadow: 0 1px 2px rgba(60, 64, 67, 0.3), 0 1px 3px 1px rgba(60, 64, 67, 0.15);\n",
              "    fill: var(--button-hover-fill-color);\n",
              "  }\n",
              "\n",
              "  .colab-df-quickchart-complete:disabled,\n",
              "  .colab-df-quickchart-complete:disabled:hover {\n",
              "    background-color: var(--disabled-bg-color);\n",
              "    fill: var(--disabled-fill-color);\n",
              "    box-shadow: none;\n",
              "  }\n",
              "\n",
              "  .colab-df-spinner {\n",
              "    border: 2px solid var(--fill-color);\n",
              "    border-color: transparent;\n",
              "    border-bottom-color: var(--fill-color);\n",
              "    animation:\n",
              "      spin 1s steps(1) infinite;\n",
              "  }\n",
              "\n",
              "  @keyframes spin {\n",
              "    0% {\n",
              "      border-color: transparent;\n",
              "      border-bottom-color: var(--fill-color);\n",
              "      border-left-color: var(--fill-color);\n",
              "    }\n",
              "    20% {\n",
              "      border-color: transparent;\n",
              "      border-left-color: var(--fill-color);\n",
              "      border-top-color: var(--fill-color);\n",
              "    }\n",
              "    30% {\n",
              "      border-color: transparent;\n",
              "      border-left-color: var(--fill-color);\n",
              "      border-top-color: var(--fill-color);\n",
              "      border-right-color: var(--fill-color);\n",
              "    }\n",
              "    40% {\n",
              "      border-color: transparent;\n",
              "      border-right-color: var(--fill-color);\n",
              "      border-top-color: var(--fill-color);\n",
              "    }\n",
              "    60% {\n",
              "      border-color: transparent;\n",
              "      border-right-color: var(--fill-color);\n",
              "    }\n",
              "    80% {\n",
              "      border-color: transparent;\n",
              "      border-right-color: var(--fill-color);\n",
              "      border-bottom-color: var(--fill-color);\n",
              "    }\n",
              "    90% {\n",
              "      border-color: transparent;\n",
              "      border-bottom-color: var(--fill-color);\n",
              "    }\n",
              "  }\n",
              "</style>\n",
              "\n",
              "      <script>\n",
              "        async function quickchart(key) {\n",
              "          const quickchartButtonEl =\n",
              "            document.querySelector('#' + key + ' button');\n",
              "          quickchartButtonEl.disabled = true;  // To prevent multiple clicks.\n",
              "          quickchartButtonEl.classList.add('colab-df-spinner');\n",
              "          try {\n",
              "            const charts = await google.colab.kernel.invokeFunction(\n",
              "                'suggestCharts', [key], {});\n",
              "          } catch (error) {\n",
              "            console.error('Error during call to suggestCharts:', error);\n",
              "          }\n",
              "          quickchartButtonEl.classList.remove('colab-df-spinner');\n",
              "          quickchartButtonEl.classList.add('colab-df-quickchart-complete');\n",
              "        }\n",
              "        (() => {\n",
              "          let quickchartButtonEl =\n",
              "            document.querySelector('#df-13d07274-7371-4c80-9fa7-901633a99673 button');\n",
              "          quickchartButtonEl.style.display =\n",
              "            google.colab.kernel.accessAllowed ? 'block' : 'none';\n",
              "        })();\n",
              "      </script>\n",
              "    </div>\n",
              "\n",
              "    </div>\n",
              "  </div>\n"
            ],
            "application/vnd.google.colaboratory.intrinsic+json": {
              "type": "dataframe",
              "summary": "{\n  \"name\": \"df\",\n  \"rows\": 2,\n  \"fields\": [\n    {\n      \"column\": \"event_time\",\n      \"properties\": {\n        \"dtype\": \"date\",\n        \"min\": \"2019-12-01 00:00:18+00:00\",\n        \"max\": \"2019-12-04 14:37:33+00:00\",\n        \"num_unique_values\": 2,\n        \"samples\": [\n          \"2019-12-04 14:37:33+00:00\",\n          \"2019-12-01 00:00:18+00:00\"\n        ],\n        \"semantic_type\": \"\",\n        \"description\": \"\"\n      }\n    },\n    {\n      \"column\": \"event_type\",\n      \"properties\": {\n        \"dtype\": \"string\",\n        \"num_unique_values\": 2,\n        \"samples\": [\n          \"purchase\",\n          \"cart\"\n        ],\n        \"semantic_type\": \"\",\n        \"description\": \"\"\n      }\n    },\n    {\n      \"column\": \"product_id\",\n      \"properties\": {\n        \"dtype\": \"number\",\n        \"std\": 0,\n        \"min\": 5629988,\n        \"max\": 5629988,\n        \"num_unique_values\": 1,\n        \"samples\": [\n          5629988\n        ],\n        \"semantic_type\": \"\",\n        \"description\": \"\"\n      }\n    },\n    {\n      \"column\": \"category_id\",\n      \"properties\": {\n        \"dtype\": \"number\",\n        \"std\": 0,\n        \"min\": 1487580009311764506,\n        \"max\": 1487580009311764506,\n        \"num_unique_values\": 1,\n        \"samples\": [\n          1487580009311764506\n        ],\n        \"semantic_type\": \"\",\n        \"description\": \"\"\n      }\n    },\n    {\n      \"column\": \"brand\",\n      \"properties\": {\n        \"dtype\": \"string\",\n        \"num_unique_values\": 1,\n        \"samples\": [\n          \"N/A\"\n        ],\n        \"semantic_type\": \"\",\n        \"description\": \"\"\n      }\n    },\n    {\n      \"column\": \"price\",\n      \"properties\": {\n        \"dtype\": \"number\",\n        \"std\": 0.0,\n        \"min\": 1.19,\n        \"max\": 1.19,\n        \"num_unique_values\": 1,\n        \"samples\": [\n          1.19\n        ],\n        \"semantic_type\": \"\",\n        \"description\": \"\"\n      }\n    },\n    {\n      \"column\": \"user_id\",\n      \"properties\": {\n        \"dtype\": \"number\",\n        \"std\": 0,\n        \"min\": 579966747,\n        \"max\": 579966747,\n        \"num_unique_values\": 1,\n        \"samples\": [\n          579966747\n        ],\n        \"semantic_type\": \"\",\n        \"description\": \"\"\n      }\n    },\n    {\n      \"column\": \"user_session\",\n      \"properties\": {\n        \"dtype\": \"string\",\n        \"num_unique_values\": 2,\n        \"samples\": [\n          \"4f7bd471-2dca-4fbf-8a7a-8fae2d0feae8\"\n        ],\n        \"semantic_type\": \"\",\n        \"description\": \"\"\n      }\n    }\n  ]\n}"
            }
          },
          "metadata": {},
          "execution_count": 33
        }
      ]
    },
    {
      "cell_type": "code",
      "source": [
        "df.head()"
      ],
      "metadata": {
        "colab": {
          "base_uri": "https://localhost:8080/",
          "height": 400
        },
        "id": "9qd0l_SyEs1O",
        "outputId": "749e661c-d150-4fdc-ffa4-20b2f5f589df"
      },
      "execution_count": 34,
      "outputs": [
        {
          "output_type": "execute_result",
          "data": {
            "text/plain": [
              "                 event_time        event_type  product_id  \\\n",
              "0 2019-12-01 00:00:00+00:00  remove_from_cart     5712790   \n",
              "1 2019-12-01 00:00:00+00:00              view     5764655   \n",
              "2 2019-12-01 00:00:02+00:00              cart        4958   \n",
              "3 2019-12-01 00:00:05+00:00              view     5848413   \n",
              "4 2019-12-01 00:00:07+00:00              view     5824148   \n",
              "\n",
              "           category_id      brand  price    user_id  \\\n",
              "0  1487580005268456287      f.o.x   6.27  576802932   \n",
              "1  1487580005411062629        cnd  29.05  412120092   \n",
              "2  1487580009471148064     runail   1.19  494077766   \n",
              "3  1487580007675986893  freedecor   0.79  348405118   \n",
              "4  1487580005511725929        N/A   5.56  576005683   \n",
              "\n",
              "                           user_session  \n",
              "0  51d85cb0-897f-48d2-918b-ad63965c12dc  \n",
              "1  8adff31e-2051-4894-9758-224bfa8aec18  \n",
              "2  c99a50e8-2fac-4c4d-89ec-41c05f114554  \n",
              "3  722ffea5-73c0-4924-8e8f-371ff8031af4  \n",
              "4  28172809-7e4a-45ce-bab0-5efa90117cd5  "
            ],
            "text/html": [
              "\n",
              "  <div id=\"df-4fe7a64f-9dd2-4ca1-80c0-da91b0560b43\" class=\"colab-df-container\">\n",
              "    <div>\n",
              "<style scoped>\n",
              "    .dataframe tbody tr th:only-of-type {\n",
              "        vertical-align: middle;\n",
              "    }\n",
              "\n",
              "    .dataframe tbody tr th {\n",
              "        vertical-align: top;\n",
              "    }\n",
              "\n",
              "    .dataframe thead th {\n",
              "        text-align: right;\n",
              "    }\n",
              "</style>\n",
              "<table border=\"1\" class=\"dataframe\">\n",
              "  <thead>\n",
              "    <tr style=\"text-align: right;\">\n",
              "      <th></th>\n",
              "      <th>event_time</th>\n",
              "      <th>event_type</th>\n",
              "      <th>product_id</th>\n",
              "      <th>category_id</th>\n",
              "      <th>brand</th>\n",
              "      <th>price</th>\n",
              "      <th>user_id</th>\n",
              "      <th>user_session</th>\n",
              "    </tr>\n",
              "  </thead>\n",
              "  <tbody>\n",
              "    <tr>\n",
              "      <th>0</th>\n",
              "      <td>2019-12-01 00:00:00+00:00</td>\n",
              "      <td>remove_from_cart</td>\n",
              "      <td>5712790</td>\n",
              "      <td>1487580005268456287</td>\n",
              "      <td>f.o.x</td>\n",
              "      <td>6.27</td>\n",
              "      <td>576802932</td>\n",
              "      <td>51d85cb0-897f-48d2-918b-ad63965c12dc</td>\n",
              "    </tr>\n",
              "    <tr>\n",
              "      <th>1</th>\n",
              "      <td>2019-12-01 00:00:00+00:00</td>\n",
              "      <td>view</td>\n",
              "      <td>5764655</td>\n",
              "      <td>1487580005411062629</td>\n",
              "      <td>cnd</td>\n",
              "      <td>29.05</td>\n",
              "      <td>412120092</td>\n",
              "      <td>8adff31e-2051-4894-9758-224bfa8aec18</td>\n",
              "    </tr>\n",
              "    <tr>\n",
              "      <th>2</th>\n",
              "      <td>2019-12-01 00:00:02+00:00</td>\n",
              "      <td>cart</td>\n",
              "      <td>4958</td>\n",
              "      <td>1487580009471148064</td>\n",
              "      <td>runail</td>\n",
              "      <td>1.19</td>\n",
              "      <td>494077766</td>\n",
              "      <td>c99a50e8-2fac-4c4d-89ec-41c05f114554</td>\n",
              "    </tr>\n",
              "    <tr>\n",
              "      <th>3</th>\n",
              "      <td>2019-12-01 00:00:05+00:00</td>\n",
              "      <td>view</td>\n",
              "      <td>5848413</td>\n",
              "      <td>1487580007675986893</td>\n",
              "      <td>freedecor</td>\n",
              "      <td>0.79</td>\n",
              "      <td>348405118</td>\n",
              "      <td>722ffea5-73c0-4924-8e8f-371ff8031af4</td>\n",
              "    </tr>\n",
              "    <tr>\n",
              "      <th>4</th>\n",
              "      <td>2019-12-01 00:00:07+00:00</td>\n",
              "      <td>view</td>\n",
              "      <td>5824148</td>\n",
              "      <td>1487580005511725929</td>\n",
              "      <td>N/A</td>\n",
              "      <td>5.56</td>\n",
              "      <td>576005683</td>\n",
              "      <td>28172809-7e4a-45ce-bab0-5efa90117cd5</td>\n",
              "    </tr>\n",
              "  </tbody>\n",
              "</table>\n",
              "</div>\n",
              "    <div class=\"colab-df-buttons\">\n",
              "\n",
              "  <div class=\"colab-df-container\">\n",
              "    <button class=\"colab-df-convert\" onclick=\"convertToInteractive('df-4fe7a64f-9dd2-4ca1-80c0-da91b0560b43')\"\n",
              "            title=\"Convert this dataframe to an interactive table.\"\n",
              "            style=\"display:none;\">\n",
              "\n",
              "  <svg xmlns=\"http://www.w3.org/2000/svg\" height=\"24px\" viewBox=\"0 -960 960 960\">\n",
              "    <path d=\"M120-120v-720h720v720H120Zm60-500h600v-160H180v160Zm220 220h160v-160H400v160Zm0 220h160v-160H400v160ZM180-400h160v-160H180v160Zm440 0h160v-160H620v160ZM180-180h160v-160H180v160Zm440 0h160v-160H620v160Z\"/>\n",
              "  </svg>\n",
              "    </button>\n",
              "\n",
              "  <style>\n",
              "    .colab-df-container {\n",
              "      display:flex;\n",
              "      gap: 12px;\n",
              "    }\n",
              "\n",
              "    .colab-df-convert {\n",
              "      background-color: #E8F0FE;\n",
              "      border: none;\n",
              "      border-radius: 50%;\n",
              "      cursor: pointer;\n",
              "      display: none;\n",
              "      fill: #1967D2;\n",
              "      height: 32px;\n",
              "      padding: 0 0 0 0;\n",
              "      width: 32px;\n",
              "    }\n",
              "\n",
              "    .colab-df-convert:hover {\n",
              "      background-color: #E2EBFA;\n",
              "      box-shadow: 0px 1px 2px rgba(60, 64, 67, 0.3), 0px 1px 3px 1px rgba(60, 64, 67, 0.15);\n",
              "      fill: #174EA6;\n",
              "    }\n",
              "\n",
              "    .colab-df-buttons div {\n",
              "      margin-bottom: 4px;\n",
              "    }\n",
              "\n",
              "    [theme=dark] .colab-df-convert {\n",
              "      background-color: #3B4455;\n",
              "      fill: #D2E3FC;\n",
              "    }\n",
              "\n",
              "    [theme=dark] .colab-df-convert:hover {\n",
              "      background-color: #434B5C;\n",
              "      box-shadow: 0px 1px 3px 1px rgba(0, 0, 0, 0.15);\n",
              "      filter: drop-shadow(0px 1px 2px rgba(0, 0, 0, 0.3));\n",
              "      fill: #FFFFFF;\n",
              "    }\n",
              "  </style>\n",
              "\n",
              "    <script>\n",
              "      const buttonEl =\n",
              "        document.querySelector('#df-4fe7a64f-9dd2-4ca1-80c0-da91b0560b43 button.colab-df-convert');\n",
              "      buttonEl.style.display =\n",
              "        google.colab.kernel.accessAllowed ? 'block' : 'none';\n",
              "\n",
              "      async function convertToInteractive(key) {\n",
              "        const element = document.querySelector('#df-4fe7a64f-9dd2-4ca1-80c0-da91b0560b43');\n",
              "        const dataTable =\n",
              "          await google.colab.kernel.invokeFunction('convertToInteractive',\n",
              "                                                    [key], {});\n",
              "        if (!dataTable) return;\n",
              "\n",
              "        const docLinkHtml = 'Like what you see? Visit the ' +\n",
              "          '<a target=\"_blank\" href=https://colab.research.google.com/notebooks/data_table.ipynb>data table notebook</a>'\n",
              "          + ' to learn more about interactive tables.';\n",
              "        element.innerHTML = '';\n",
              "        dataTable['output_type'] = 'display_data';\n",
              "        await google.colab.output.renderOutput(dataTable, element);\n",
              "        const docLink = document.createElement('div');\n",
              "        docLink.innerHTML = docLinkHtml;\n",
              "        element.appendChild(docLink);\n",
              "      }\n",
              "    </script>\n",
              "  </div>\n",
              "\n",
              "\n",
              "    <div id=\"df-74c5deac-6fde-4ef5-a74a-83809de1a0e6\">\n",
              "      <button class=\"colab-df-quickchart\" onclick=\"quickchart('df-74c5deac-6fde-4ef5-a74a-83809de1a0e6')\"\n",
              "                title=\"Suggest charts\"\n",
              "                style=\"display:none;\">\n",
              "\n",
              "<svg xmlns=\"http://www.w3.org/2000/svg\" height=\"24px\"viewBox=\"0 0 24 24\"\n",
              "     width=\"24px\">\n",
              "    <g>\n",
              "        <path d=\"M19 3H5c-1.1 0-2 .9-2 2v14c0 1.1.9 2 2 2h14c1.1 0 2-.9 2-2V5c0-1.1-.9-2-2-2zM9 17H7v-7h2v7zm4 0h-2V7h2v10zm4 0h-2v-4h2v4z\"/>\n",
              "    </g>\n",
              "</svg>\n",
              "      </button>\n",
              "\n",
              "<style>\n",
              "  .colab-df-quickchart {\n",
              "      --bg-color: #E8F0FE;\n",
              "      --fill-color: #1967D2;\n",
              "      --hover-bg-color: #E2EBFA;\n",
              "      --hover-fill-color: #174EA6;\n",
              "      --disabled-fill-color: #AAA;\n",
              "      --disabled-bg-color: #DDD;\n",
              "  }\n",
              "\n",
              "  [theme=dark] .colab-df-quickchart {\n",
              "      --bg-color: #3B4455;\n",
              "      --fill-color: #D2E3FC;\n",
              "      --hover-bg-color: #434B5C;\n",
              "      --hover-fill-color: #FFFFFF;\n",
              "      --disabled-bg-color: #3B4455;\n",
              "      --disabled-fill-color: #666;\n",
              "  }\n",
              "\n",
              "  .colab-df-quickchart {\n",
              "    background-color: var(--bg-color);\n",
              "    border: none;\n",
              "    border-radius: 50%;\n",
              "    cursor: pointer;\n",
              "    display: none;\n",
              "    fill: var(--fill-color);\n",
              "    height: 32px;\n",
              "    padding: 0;\n",
              "    width: 32px;\n",
              "  }\n",
              "\n",
              "  .colab-df-quickchart:hover {\n",
              "    background-color: var(--hover-bg-color);\n",
              "    box-shadow: 0 1px 2px rgba(60, 64, 67, 0.3), 0 1px 3px 1px rgba(60, 64, 67, 0.15);\n",
              "    fill: var(--button-hover-fill-color);\n",
              "  }\n",
              "\n",
              "  .colab-df-quickchart-complete:disabled,\n",
              "  .colab-df-quickchart-complete:disabled:hover {\n",
              "    background-color: var(--disabled-bg-color);\n",
              "    fill: var(--disabled-fill-color);\n",
              "    box-shadow: none;\n",
              "  }\n",
              "\n",
              "  .colab-df-spinner {\n",
              "    border: 2px solid var(--fill-color);\n",
              "    border-color: transparent;\n",
              "    border-bottom-color: var(--fill-color);\n",
              "    animation:\n",
              "      spin 1s steps(1) infinite;\n",
              "  }\n",
              "\n",
              "  @keyframes spin {\n",
              "    0% {\n",
              "      border-color: transparent;\n",
              "      border-bottom-color: var(--fill-color);\n",
              "      border-left-color: var(--fill-color);\n",
              "    }\n",
              "    20% {\n",
              "      border-color: transparent;\n",
              "      border-left-color: var(--fill-color);\n",
              "      border-top-color: var(--fill-color);\n",
              "    }\n",
              "    30% {\n",
              "      border-color: transparent;\n",
              "      border-left-color: var(--fill-color);\n",
              "      border-top-color: var(--fill-color);\n",
              "      border-right-color: var(--fill-color);\n",
              "    }\n",
              "    40% {\n",
              "      border-color: transparent;\n",
              "      border-right-color: var(--fill-color);\n",
              "      border-top-color: var(--fill-color);\n",
              "    }\n",
              "    60% {\n",
              "      border-color: transparent;\n",
              "      border-right-color: var(--fill-color);\n",
              "    }\n",
              "    80% {\n",
              "      border-color: transparent;\n",
              "      border-right-color: var(--fill-color);\n",
              "      border-bottom-color: var(--fill-color);\n",
              "    }\n",
              "    90% {\n",
              "      border-color: transparent;\n",
              "      border-bottom-color: var(--fill-color);\n",
              "    }\n",
              "  }\n",
              "</style>\n",
              "\n",
              "      <script>\n",
              "        async function quickchart(key) {\n",
              "          const quickchartButtonEl =\n",
              "            document.querySelector('#' + key + ' button');\n",
              "          quickchartButtonEl.disabled = true;  // To prevent multiple clicks.\n",
              "          quickchartButtonEl.classList.add('colab-df-spinner');\n",
              "          try {\n",
              "            const charts = await google.colab.kernel.invokeFunction(\n",
              "                'suggestCharts', [key], {});\n",
              "          } catch (error) {\n",
              "            console.error('Error during call to suggestCharts:', error);\n",
              "          }\n",
              "          quickchartButtonEl.classList.remove('colab-df-spinner');\n",
              "          quickchartButtonEl.classList.add('colab-df-quickchart-complete');\n",
              "        }\n",
              "        (() => {\n",
              "          let quickchartButtonEl =\n",
              "            document.querySelector('#df-74c5deac-6fde-4ef5-a74a-83809de1a0e6 button');\n",
              "          quickchartButtonEl.style.display =\n",
              "            google.colab.kernel.accessAllowed ? 'block' : 'none';\n",
              "        })();\n",
              "      </script>\n",
              "    </div>\n",
              "\n",
              "    </div>\n",
              "  </div>\n"
            ],
            "application/vnd.google.colaboratory.intrinsic+json": {
              "type": "dataframe",
              "variable_name": "df"
            }
          },
          "metadata": {},
          "execution_count": 34
        }
      ]
    },
    {
      "cell_type": "code",
      "source": [
        "# Sort by user/product/time\n",
        "df = df.sort_values(['user_id', 'product_id', 'event_time'])\n",
        "\n",
        "# Get first event per user/product combo\n",
        "first_evt = df.groupby(['user_id', 'product_id']).first()\n",
        "\n",
        "# Only those combos where first event is 'view'\n",
        "idx_keep = first_evt.query('event_type == \"view\"').index\n",
        "\n",
        "# Keep only those rows in main df\n",
        "df = df.set_index(['user_id', 'product_id']).loc[idx_keep].reset_index()"
      ],
      "metadata": {
        "id": "ME_NB7evYjfY"
      },
      "execution_count": 35,
      "outputs": []
    },
    {
      "cell_type": "code",
      "source": [
        "# Check that the filtering worked\n",
        "df.query('product_id == 5629988 & user_id == 579966747')"
      ],
      "metadata": {
        "colab": {
          "base_uri": "https://localhost:8080/",
          "height": 53
        },
        "id": "JZgWvQnWYjpd",
        "outputId": "758710cc-25f1-4cbb-950f-28a88205f804"
      },
      "execution_count": 36,
      "outputs": [
        {
          "output_type": "execute_result",
          "data": {
            "text/plain": [
              "Empty DataFrame\n",
              "Columns: [user_id, product_id, event_time, event_type, category_id, brand, price, user_session]\n",
              "Index: []"
            ],
            "text/html": [
              "\n",
              "  <div id=\"df-488fd925-b9cd-449f-8138-7c86c5c3f8e6\" class=\"colab-df-container\">\n",
              "    <div>\n",
              "<style scoped>\n",
              "    .dataframe tbody tr th:only-of-type {\n",
              "        vertical-align: middle;\n",
              "    }\n",
              "\n",
              "    .dataframe tbody tr th {\n",
              "        vertical-align: top;\n",
              "    }\n",
              "\n",
              "    .dataframe thead th {\n",
              "        text-align: right;\n",
              "    }\n",
              "</style>\n",
              "<table border=\"1\" class=\"dataframe\">\n",
              "  <thead>\n",
              "    <tr style=\"text-align: right;\">\n",
              "      <th></th>\n",
              "      <th>user_id</th>\n",
              "      <th>product_id</th>\n",
              "      <th>event_time</th>\n",
              "      <th>event_type</th>\n",
              "      <th>category_id</th>\n",
              "      <th>brand</th>\n",
              "      <th>price</th>\n",
              "      <th>user_session</th>\n",
              "    </tr>\n",
              "  </thead>\n",
              "  <tbody>\n",
              "  </tbody>\n",
              "</table>\n",
              "</div>\n",
              "    <div class=\"colab-df-buttons\">\n",
              "\n",
              "  <div class=\"colab-df-container\">\n",
              "    <button class=\"colab-df-convert\" onclick=\"convertToInteractive('df-488fd925-b9cd-449f-8138-7c86c5c3f8e6')\"\n",
              "            title=\"Convert this dataframe to an interactive table.\"\n",
              "            style=\"display:none;\">\n",
              "\n",
              "  <svg xmlns=\"http://www.w3.org/2000/svg\" height=\"24px\" viewBox=\"0 -960 960 960\">\n",
              "    <path d=\"M120-120v-720h720v720H120Zm60-500h600v-160H180v160Zm220 220h160v-160H400v160Zm0 220h160v-160H400v160ZM180-400h160v-160H180v160Zm440 0h160v-160H620v160ZM180-180h160v-160H180v160Zm440 0h160v-160H620v160Z\"/>\n",
              "  </svg>\n",
              "    </button>\n",
              "\n",
              "  <style>\n",
              "    .colab-df-container {\n",
              "      display:flex;\n",
              "      gap: 12px;\n",
              "    }\n",
              "\n",
              "    .colab-df-convert {\n",
              "      background-color: #E8F0FE;\n",
              "      border: none;\n",
              "      border-radius: 50%;\n",
              "      cursor: pointer;\n",
              "      display: none;\n",
              "      fill: #1967D2;\n",
              "      height: 32px;\n",
              "      padding: 0 0 0 0;\n",
              "      width: 32px;\n",
              "    }\n",
              "\n",
              "    .colab-df-convert:hover {\n",
              "      background-color: #E2EBFA;\n",
              "      box-shadow: 0px 1px 2px rgba(60, 64, 67, 0.3), 0px 1px 3px 1px rgba(60, 64, 67, 0.15);\n",
              "      fill: #174EA6;\n",
              "    }\n",
              "\n",
              "    .colab-df-buttons div {\n",
              "      margin-bottom: 4px;\n",
              "    }\n",
              "\n",
              "    [theme=dark] .colab-df-convert {\n",
              "      background-color: #3B4455;\n",
              "      fill: #D2E3FC;\n",
              "    }\n",
              "\n",
              "    [theme=dark] .colab-df-convert:hover {\n",
              "      background-color: #434B5C;\n",
              "      box-shadow: 0px 1px 3px 1px rgba(0, 0, 0, 0.15);\n",
              "      filter: drop-shadow(0px 1px 2px rgba(0, 0, 0, 0.3));\n",
              "      fill: #FFFFFF;\n",
              "    }\n",
              "  </style>\n",
              "\n",
              "    <script>\n",
              "      const buttonEl =\n",
              "        document.querySelector('#df-488fd925-b9cd-449f-8138-7c86c5c3f8e6 button.colab-df-convert');\n",
              "      buttonEl.style.display =\n",
              "        google.colab.kernel.accessAllowed ? 'block' : 'none';\n",
              "\n",
              "      async function convertToInteractive(key) {\n",
              "        const element = document.querySelector('#df-488fd925-b9cd-449f-8138-7c86c5c3f8e6');\n",
              "        const dataTable =\n",
              "          await google.colab.kernel.invokeFunction('convertToInteractive',\n",
              "                                                    [key], {});\n",
              "        if (!dataTable) return;\n",
              "\n",
              "        const docLinkHtml = 'Like what you see? Visit the ' +\n",
              "          '<a target=\"_blank\" href=https://colab.research.google.com/notebooks/data_table.ipynb>data table notebook</a>'\n",
              "          + ' to learn more about interactive tables.';\n",
              "        element.innerHTML = '';\n",
              "        dataTable['output_type'] = 'display_data';\n",
              "        await google.colab.output.renderOutput(dataTable, element);\n",
              "        const docLink = document.createElement('div');\n",
              "        docLink.innerHTML = docLinkHtml;\n",
              "        element.appendChild(docLink);\n",
              "      }\n",
              "    </script>\n",
              "  </div>\n",
              "\n",
              "\n",
              "    </div>\n",
              "  </div>\n"
            ],
            "application/vnd.google.colaboratory.intrinsic+json": {
              "type": "dataframe",
              "repr_error": "Out of range float values are not JSON compliant: nan"
            }
          },
          "metadata": {},
          "execution_count": 36
        }
      ]
    },
    {
      "cell_type": "markdown",
      "source": [
        "**Measuring Drop-off Rates by User Count at Each Funnel Stage**\n",
        "\n",
        "Funnel analysis can be done using two approaches: by event count or by unique users. With event-based calculation, if a user views Product A twice and adds it to the cart once, the conversion rate is 50%. In contrast, when using unique users, that same scenario would count as a 100% conversion, since the user progressed from view to cart at least once.\n",
        "\n",
        "In this analysis, I will use the latter approach—calculating by unique user count."
      ],
      "metadata": {
        "id": "W-qVi4bWgnjE"
      }
    },
    {
      "cell_type": "code",
      "source": [
        "df.head()"
      ],
      "metadata": {
        "colab": {
          "base_uri": "https://localhost:8080/",
          "height": 400
        },
        "id": "-aSwI1kzEcsh",
        "outputId": "cdfdd5b9-6896-4461-b38e-a99fd7c0705b"
      },
      "execution_count": 37,
      "outputs": [
        {
          "output_type": "execute_result",
          "data": {
            "text/plain": [
              "   user_id  product_id                event_time event_type  \\\n",
              "0  1180452     5881337 2019-12-28 14:32:56+00:00       view   \n",
              "1  2963072     5656122 2019-12-22 13:04:49+00:00       view   \n",
              "2  2963072     5700025 2019-12-22 13:09:11+00:00       view   \n",
              "3  2963072     5707747 2019-12-22 12:50:45+00:00       view   \n",
              "4  2963072     5707747 2019-12-22 12:53:12+00:00       view   \n",
              "\n",
              "           category_id   brand  price                          user_session  \n",
              "0  1487580012096782476   fedua  25.40  a4818e6d-9069-4aa8-8731-572ac266283f  \n",
              "1  1487580009026551821     N/A  23.57  3bf2bbbb-1a32-4f06-a263-a3f49db74750  \n",
              "2  1487580010100293687  runail   1.90  3bf2bbbb-1a32-4f06-a263-a3f49db74750  \n",
              "3  1487580009051717646     N/A  73.02  3bf2bbbb-1a32-4f06-a263-a3f49db74750  \n",
              "4  1487580009051717646     N/A  73.02  3bf2bbbb-1a32-4f06-a263-a3f49db74750  "
            ],
            "text/html": [
              "\n",
              "  <div id=\"df-47af26c8-cf66-4f23-a43c-4b83d4fd6ce6\" class=\"colab-df-container\">\n",
              "    <div>\n",
              "<style scoped>\n",
              "    .dataframe tbody tr th:only-of-type {\n",
              "        vertical-align: middle;\n",
              "    }\n",
              "\n",
              "    .dataframe tbody tr th {\n",
              "        vertical-align: top;\n",
              "    }\n",
              "\n",
              "    .dataframe thead th {\n",
              "        text-align: right;\n",
              "    }\n",
              "</style>\n",
              "<table border=\"1\" class=\"dataframe\">\n",
              "  <thead>\n",
              "    <tr style=\"text-align: right;\">\n",
              "      <th></th>\n",
              "      <th>user_id</th>\n",
              "      <th>product_id</th>\n",
              "      <th>event_time</th>\n",
              "      <th>event_type</th>\n",
              "      <th>category_id</th>\n",
              "      <th>brand</th>\n",
              "      <th>price</th>\n",
              "      <th>user_session</th>\n",
              "    </tr>\n",
              "  </thead>\n",
              "  <tbody>\n",
              "    <tr>\n",
              "      <th>0</th>\n",
              "      <td>1180452</td>\n",
              "      <td>5881337</td>\n",
              "      <td>2019-12-28 14:32:56+00:00</td>\n",
              "      <td>view</td>\n",
              "      <td>1487580012096782476</td>\n",
              "      <td>fedua</td>\n",
              "      <td>25.40</td>\n",
              "      <td>a4818e6d-9069-4aa8-8731-572ac266283f</td>\n",
              "    </tr>\n",
              "    <tr>\n",
              "      <th>1</th>\n",
              "      <td>2963072</td>\n",
              "      <td>5656122</td>\n",
              "      <td>2019-12-22 13:04:49+00:00</td>\n",
              "      <td>view</td>\n",
              "      <td>1487580009026551821</td>\n",
              "      <td>N/A</td>\n",
              "      <td>23.57</td>\n",
              "      <td>3bf2bbbb-1a32-4f06-a263-a3f49db74750</td>\n",
              "    </tr>\n",
              "    <tr>\n",
              "      <th>2</th>\n",
              "      <td>2963072</td>\n",
              "      <td>5700025</td>\n",
              "      <td>2019-12-22 13:09:11+00:00</td>\n",
              "      <td>view</td>\n",
              "      <td>1487580010100293687</td>\n",
              "      <td>runail</td>\n",
              "      <td>1.90</td>\n",
              "      <td>3bf2bbbb-1a32-4f06-a263-a3f49db74750</td>\n",
              "    </tr>\n",
              "    <tr>\n",
              "      <th>3</th>\n",
              "      <td>2963072</td>\n",
              "      <td>5707747</td>\n",
              "      <td>2019-12-22 12:50:45+00:00</td>\n",
              "      <td>view</td>\n",
              "      <td>1487580009051717646</td>\n",
              "      <td>N/A</td>\n",
              "      <td>73.02</td>\n",
              "      <td>3bf2bbbb-1a32-4f06-a263-a3f49db74750</td>\n",
              "    </tr>\n",
              "    <tr>\n",
              "      <th>4</th>\n",
              "      <td>2963072</td>\n",
              "      <td>5707747</td>\n",
              "      <td>2019-12-22 12:53:12+00:00</td>\n",
              "      <td>view</td>\n",
              "      <td>1487580009051717646</td>\n",
              "      <td>N/A</td>\n",
              "      <td>73.02</td>\n",
              "      <td>3bf2bbbb-1a32-4f06-a263-a3f49db74750</td>\n",
              "    </tr>\n",
              "  </tbody>\n",
              "</table>\n",
              "</div>\n",
              "    <div class=\"colab-df-buttons\">\n",
              "\n",
              "  <div class=\"colab-df-container\">\n",
              "    <button class=\"colab-df-convert\" onclick=\"convertToInteractive('df-47af26c8-cf66-4f23-a43c-4b83d4fd6ce6')\"\n",
              "            title=\"Convert this dataframe to an interactive table.\"\n",
              "            style=\"display:none;\">\n",
              "\n",
              "  <svg xmlns=\"http://www.w3.org/2000/svg\" height=\"24px\" viewBox=\"0 -960 960 960\">\n",
              "    <path d=\"M120-120v-720h720v720H120Zm60-500h600v-160H180v160Zm220 220h160v-160H400v160Zm0 220h160v-160H400v160ZM180-400h160v-160H180v160Zm440 0h160v-160H620v160ZM180-180h160v-160H180v160Zm440 0h160v-160H620v160Z\"/>\n",
              "  </svg>\n",
              "    </button>\n",
              "\n",
              "  <style>\n",
              "    .colab-df-container {\n",
              "      display:flex;\n",
              "      gap: 12px;\n",
              "    }\n",
              "\n",
              "    .colab-df-convert {\n",
              "      background-color: #E8F0FE;\n",
              "      border: none;\n",
              "      border-radius: 50%;\n",
              "      cursor: pointer;\n",
              "      display: none;\n",
              "      fill: #1967D2;\n",
              "      height: 32px;\n",
              "      padding: 0 0 0 0;\n",
              "      width: 32px;\n",
              "    }\n",
              "\n",
              "    .colab-df-convert:hover {\n",
              "      background-color: #E2EBFA;\n",
              "      box-shadow: 0px 1px 2px rgba(60, 64, 67, 0.3), 0px 1px 3px 1px rgba(60, 64, 67, 0.15);\n",
              "      fill: #174EA6;\n",
              "    }\n",
              "\n",
              "    .colab-df-buttons div {\n",
              "      margin-bottom: 4px;\n",
              "    }\n",
              "\n",
              "    [theme=dark] .colab-df-convert {\n",
              "      background-color: #3B4455;\n",
              "      fill: #D2E3FC;\n",
              "    }\n",
              "\n",
              "    [theme=dark] .colab-df-convert:hover {\n",
              "      background-color: #434B5C;\n",
              "      box-shadow: 0px 1px 3px 1px rgba(0, 0, 0, 0.15);\n",
              "      filter: drop-shadow(0px 1px 2px rgba(0, 0, 0, 0.3));\n",
              "      fill: #FFFFFF;\n",
              "    }\n",
              "  </style>\n",
              "\n",
              "    <script>\n",
              "      const buttonEl =\n",
              "        document.querySelector('#df-47af26c8-cf66-4f23-a43c-4b83d4fd6ce6 button.colab-df-convert');\n",
              "      buttonEl.style.display =\n",
              "        google.colab.kernel.accessAllowed ? 'block' : 'none';\n",
              "\n",
              "      async function convertToInteractive(key) {\n",
              "        const element = document.querySelector('#df-47af26c8-cf66-4f23-a43c-4b83d4fd6ce6');\n",
              "        const dataTable =\n",
              "          await google.colab.kernel.invokeFunction('convertToInteractive',\n",
              "                                                    [key], {});\n",
              "        if (!dataTable) return;\n",
              "\n",
              "        const docLinkHtml = 'Like what you see? Visit the ' +\n",
              "          '<a target=\"_blank\" href=https://colab.research.google.com/notebooks/data_table.ipynb>data table notebook</a>'\n",
              "          + ' to learn more about interactive tables.';\n",
              "        element.innerHTML = '';\n",
              "        dataTable['output_type'] = 'display_data';\n",
              "        await google.colab.output.renderOutput(dataTable, element);\n",
              "        const docLink = document.createElement('div');\n",
              "        docLink.innerHTML = docLinkHtml;\n",
              "        element.appendChild(docLink);\n",
              "      }\n",
              "    </script>\n",
              "  </div>\n",
              "\n",
              "\n",
              "    <div id=\"df-39c921ea-4e3c-4dbf-a07a-16a75724b4d1\">\n",
              "      <button class=\"colab-df-quickchart\" onclick=\"quickchart('df-39c921ea-4e3c-4dbf-a07a-16a75724b4d1')\"\n",
              "                title=\"Suggest charts\"\n",
              "                style=\"display:none;\">\n",
              "\n",
              "<svg xmlns=\"http://www.w3.org/2000/svg\" height=\"24px\"viewBox=\"0 0 24 24\"\n",
              "     width=\"24px\">\n",
              "    <g>\n",
              "        <path d=\"M19 3H5c-1.1 0-2 .9-2 2v14c0 1.1.9 2 2 2h14c1.1 0 2-.9 2-2V5c0-1.1-.9-2-2-2zM9 17H7v-7h2v7zm4 0h-2V7h2v10zm4 0h-2v-4h2v4z\"/>\n",
              "    </g>\n",
              "</svg>\n",
              "      </button>\n",
              "\n",
              "<style>\n",
              "  .colab-df-quickchart {\n",
              "      --bg-color: #E8F0FE;\n",
              "      --fill-color: #1967D2;\n",
              "      --hover-bg-color: #E2EBFA;\n",
              "      --hover-fill-color: #174EA6;\n",
              "      --disabled-fill-color: #AAA;\n",
              "      --disabled-bg-color: #DDD;\n",
              "  }\n",
              "\n",
              "  [theme=dark] .colab-df-quickchart {\n",
              "      --bg-color: #3B4455;\n",
              "      --fill-color: #D2E3FC;\n",
              "      --hover-bg-color: #434B5C;\n",
              "      --hover-fill-color: #FFFFFF;\n",
              "      --disabled-bg-color: #3B4455;\n",
              "      --disabled-fill-color: #666;\n",
              "  }\n",
              "\n",
              "  .colab-df-quickchart {\n",
              "    background-color: var(--bg-color);\n",
              "    border: none;\n",
              "    border-radius: 50%;\n",
              "    cursor: pointer;\n",
              "    display: none;\n",
              "    fill: var(--fill-color);\n",
              "    height: 32px;\n",
              "    padding: 0;\n",
              "    width: 32px;\n",
              "  }\n",
              "\n",
              "  .colab-df-quickchart:hover {\n",
              "    background-color: var(--hover-bg-color);\n",
              "    box-shadow: 0 1px 2px rgba(60, 64, 67, 0.3), 0 1px 3px 1px rgba(60, 64, 67, 0.15);\n",
              "    fill: var(--button-hover-fill-color);\n",
              "  }\n",
              "\n",
              "  .colab-df-quickchart-complete:disabled,\n",
              "  .colab-df-quickchart-complete:disabled:hover {\n",
              "    background-color: var(--disabled-bg-color);\n",
              "    fill: var(--disabled-fill-color);\n",
              "    box-shadow: none;\n",
              "  }\n",
              "\n",
              "  .colab-df-spinner {\n",
              "    border: 2px solid var(--fill-color);\n",
              "    border-color: transparent;\n",
              "    border-bottom-color: var(--fill-color);\n",
              "    animation:\n",
              "      spin 1s steps(1) infinite;\n",
              "  }\n",
              "\n",
              "  @keyframes spin {\n",
              "    0% {\n",
              "      border-color: transparent;\n",
              "      border-bottom-color: var(--fill-color);\n",
              "      border-left-color: var(--fill-color);\n",
              "    }\n",
              "    20% {\n",
              "      border-color: transparent;\n",
              "      border-left-color: var(--fill-color);\n",
              "      border-top-color: var(--fill-color);\n",
              "    }\n",
              "    30% {\n",
              "      border-color: transparent;\n",
              "      border-left-color: var(--fill-color);\n",
              "      border-top-color: var(--fill-color);\n",
              "      border-right-color: var(--fill-color);\n",
              "    }\n",
              "    40% {\n",
              "      border-color: transparent;\n",
              "      border-right-color: var(--fill-color);\n",
              "      border-top-color: var(--fill-color);\n",
              "    }\n",
              "    60% {\n",
              "      border-color: transparent;\n",
              "      border-right-color: var(--fill-color);\n",
              "    }\n",
              "    80% {\n",
              "      border-color: transparent;\n",
              "      border-right-color: var(--fill-color);\n",
              "      border-bottom-color: var(--fill-color);\n",
              "    }\n",
              "    90% {\n",
              "      border-color: transparent;\n",
              "      border-bottom-color: var(--fill-color);\n",
              "    }\n",
              "  }\n",
              "</style>\n",
              "\n",
              "      <script>\n",
              "        async function quickchart(key) {\n",
              "          const quickchartButtonEl =\n",
              "            document.querySelector('#' + key + ' button');\n",
              "          quickchartButtonEl.disabled = true;  // To prevent multiple clicks.\n",
              "          quickchartButtonEl.classList.add('colab-df-spinner');\n",
              "          try {\n",
              "            const charts = await google.colab.kernel.invokeFunction(\n",
              "                'suggestCharts', [key], {});\n",
              "          } catch (error) {\n",
              "            console.error('Error during call to suggestCharts:', error);\n",
              "          }\n",
              "          quickchartButtonEl.classList.remove('colab-df-spinner');\n",
              "          quickchartButtonEl.classList.add('colab-df-quickchart-complete');\n",
              "        }\n",
              "        (() => {\n",
              "          let quickchartButtonEl =\n",
              "            document.querySelector('#df-39c921ea-4e3c-4dbf-a07a-16a75724b4d1 button');\n",
              "          quickchartButtonEl.style.display =\n",
              "            google.colab.kernel.accessAllowed ? 'block' : 'none';\n",
              "        })();\n",
              "      </script>\n",
              "    </div>\n",
              "\n",
              "    </div>\n",
              "  </div>\n"
            ],
            "application/vnd.google.colaboratory.intrinsic+json": {
              "type": "dataframe",
              "variable_name": "df"
            }
          },
          "metadata": {},
          "execution_count": 37
        }
      ]
    },
    {
      "cell_type": "code",
      "source": [
        "# Count unique users per event type & product\n",
        "user_cnt = df.groupby(['event_type', 'product_id'])['user_id'].nunique()\n",
        "user_cnt = user_cnt.groupby('event_type').sum().reset_index()\n",
        "\n",
        "# Rename for clarity\n",
        "user_cnt = user_cnt.rename(columns={'user_id': 'users'})\n",
        "user_cnt = user_cnt[user_cnt['event_type'] != 'remove_from_cart']\n",
        "\n",
        "# Sort by user count\n",
        "user_cnt = user_cnt.sort_values('users', ascending=False)\n",
        "user_cnt"
      ],
      "metadata": {
        "colab": {
          "base_uri": "https://localhost:8080/",
          "height": 143
        },
        "id": "ujhHa5bGY0Ls",
        "outputId": "6c6c8961-19a4-45d1-adab-72b1ab00ade7"
      },
      "execution_count": 38,
      "outputs": [
        {
          "output_type": "execute_result",
          "data": {
            "text/plain": [
              "  event_type    users\n",
              "3       view  1168441\n",
              "0       cart   145921\n",
              "1   purchase    53250"
            ],
            "text/html": [
              "\n",
              "  <div id=\"df-2d777282-c609-4bfb-8fc9-d5ae6062e9f6\" class=\"colab-df-container\">\n",
              "    <div>\n",
              "<style scoped>\n",
              "    .dataframe tbody tr th:only-of-type {\n",
              "        vertical-align: middle;\n",
              "    }\n",
              "\n",
              "    .dataframe tbody tr th {\n",
              "        vertical-align: top;\n",
              "    }\n",
              "\n",
              "    .dataframe thead th {\n",
              "        text-align: right;\n",
              "    }\n",
              "</style>\n",
              "<table border=\"1\" class=\"dataframe\">\n",
              "  <thead>\n",
              "    <tr style=\"text-align: right;\">\n",
              "      <th></th>\n",
              "      <th>event_type</th>\n",
              "      <th>users</th>\n",
              "    </tr>\n",
              "  </thead>\n",
              "  <tbody>\n",
              "    <tr>\n",
              "      <th>3</th>\n",
              "      <td>view</td>\n",
              "      <td>1168441</td>\n",
              "    </tr>\n",
              "    <tr>\n",
              "      <th>0</th>\n",
              "      <td>cart</td>\n",
              "      <td>145921</td>\n",
              "    </tr>\n",
              "    <tr>\n",
              "      <th>1</th>\n",
              "      <td>purchase</td>\n",
              "      <td>53250</td>\n",
              "    </tr>\n",
              "  </tbody>\n",
              "</table>\n",
              "</div>\n",
              "    <div class=\"colab-df-buttons\">\n",
              "\n",
              "  <div class=\"colab-df-container\">\n",
              "    <button class=\"colab-df-convert\" onclick=\"convertToInteractive('df-2d777282-c609-4bfb-8fc9-d5ae6062e9f6')\"\n",
              "            title=\"Convert this dataframe to an interactive table.\"\n",
              "            style=\"display:none;\">\n",
              "\n",
              "  <svg xmlns=\"http://www.w3.org/2000/svg\" height=\"24px\" viewBox=\"0 -960 960 960\">\n",
              "    <path d=\"M120-120v-720h720v720H120Zm60-500h600v-160H180v160Zm220 220h160v-160H400v160Zm0 220h160v-160H400v160ZM180-400h160v-160H180v160Zm440 0h160v-160H620v160ZM180-180h160v-160H180v160Zm440 0h160v-160H620v160Z\"/>\n",
              "  </svg>\n",
              "    </button>\n",
              "\n",
              "  <style>\n",
              "    .colab-df-container {\n",
              "      display:flex;\n",
              "      gap: 12px;\n",
              "    }\n",
              "\n",
              "    .colab-df-convert {\n",
              "      background-color: #E8F0FE;\n",
              "      border: none;\n",
              "      border-radius: 50%;\n",
              "      cursor: pointer;\n",
              "      display: none;\n",
              "      fill: #1967D2;\n",
              "      height: 32px;\n",
              "      padding: 0 0 0 0;\n",
              "      width: 32px;\n",
              "    }\n",
              "\n",
              "    .colab-df-convert:hover {\n",
              "      background-color: #E2EBFA;\n",
              "      box-shadow: 0px 1px 2px rgba(60, 64, 67, 0.3), 0px 1px 3px 1px rgba(60, 64, 67, 0.15);\n",
              "      fill: #174EA6;\n",
              "    }\n",
              "\n",
              "    .colab-df-buttons div {\n",
              "      margin-bottom: 4px;\n",
              "    }\n",
              "\n",
              "    [theme=dark] .colab-df-convert {\n",
              "      background-color: #3B4455;\n",
              "      fill: #D2E3FC;\n",
              "    }\n",
              "\n",
              "    [theme=dark] .colab-df-convert:hover {\n",
              "      background-color: #434B5C;\n",
              "      box-shadow: 0px 1px 3px 1px rgba(0, 0, 0, 0.15);\n",
              "      filter: drop-shadow(0px 1px 2px rgba(0, 0, 0, 0.3));\n",
              "      fill: #FFFFFF;\n",
              "    }\n",
              "  </style>\n",
              "\n",
              "    <script>\n",
              "      const buttonEl =\n",
              "        document.querySelector('#df-2d777282-c609-4bfb-8fc9-d5ae6062e9f6 button.colab-df-convert');\n",
              "      buttonEl.style.display =\n",
              "        google.colab.kernel.accessAllowed ? 'block' : 'none';\n",
              "\n",
              "      async function convertToInteractive(key) {\n",
              "        const element = document.querySelector('#df-2d777282-c609-4bfb-8fc9-d5ae6062e9f6');\n",
              "        const dataTable =\n",
              "          await google.colab.kernel.invokeFunction('convertToInteractive',\n",
              "                                                    [key], {});\n",
              "        if (!dataTable) return;\n",
              "\n",
              "        const docLinkHtml = 'Like what you see? Visit the ' +\n",
              "          '<a target=\"_blank\" href=https://colab.research.google.com/notebooks/data_table.ipynb>data table notebook</a>'\n",
              "          + ' to learn more about interactive tables.';\n",
              "        element.innerHTML = '';\n",
              "        dataTable['output_type'] = 'display_data';\n",
              "        await google.colab.output.renderOutput(dataTable, element);\n",
              "        const docLink = document.createElement('div');\n",
              "        docLink.innerHTML = docLinkHtml;\n",
              "        element.appendChild(docLink);\n",
              "      }\n",
              "    </script>\n",
              "  </div>\n",
              "\n",
              "\n",
              "    <div id=\"df-6beb93d5-7a7c-4b05-9671-0f4ce0f7eb96\">\n",
              "      <button class=\"colab-df-quickchart\" onclick=\"quickchart('df-6beb93d5-7a7c-4b05-9671-0f4ce0f7eb96')\"\n",
              "                title=\"Suggest charts\"\n",
              "                style=\"display:none;\">\n",
              "\n",
              "<svg xmlns=\"http://www.w3.org/2000/svg\" height=\"24px\"viewBox=\"0 0 24 24\"\n",
              "     width=\"24px\">\n",
              "    <g>\n",
              "        <path d=\"M19 3H5c-1.1 0-2 .9-2 2v14c0 1.1.9 2 2 2h14c1.1 0 2-.9 2-2V5c0-1.1-.9-2-2-2zM9 17H7v-7h2v7zm4 0h-2V7h2v10zm4 0h-2v-4h2v4z\"/>\n",
              "    </g>\n",
              "</svg>\n",
              "      </button>\n",
              "\n",
              "<style>\n",
              "  .colab-df-quickchart {\n",
              "      --bg-color: #E8F0FE;\n",
              "      --fill-color: #1967D2;\n",
              "      --hover-bg-color: #E2EBFA;\n",
              "      --hover-fill-color: #174EA6;\n",
              "      --disabled-fill-color: #AAA;\n",
              "      --disabled-bg-color: #DDD;\n",
              "  }\n",
              "\n",
              "  [theme=dark] .colab-df-quickchart {\n",
              "      --bg-color: #3B4455;\n",
              "      --fill-color: #D2E3FC;\n",
              "      --hover-bg-color: #434B5C;\n",
              "      --hover-fill-color: #FFFFFF;\n",
              "      --disabled-bg-color: #3B4455;\n",
              "      --disabled-fill-color: #666;\n",
              "  }\n",
              "\n",
              "  .colab-df-quickchart {\n",
              "    background-color: var(--bg-color);\n",
              "    border: none;\n",
              "    border-radius: 50%;\n",
              "    cursor: pointer;\n",
              "    display: none;\n",
              "    fill: var(--fill-color);\n",
              "    height: 32px;\n",
              "    padding: 0;\n",
              "    width: 32px;\n",
              "  }\n",
              "\n",
              "  .colab-df-quickchart:hover {\n",
              "    background-color: var(--hover-bg-color);\n",
              "    box-shadow: 0 1px 2px rgba(60, 64, 67, 0.3), 0 1px 3px 1px rgba(60, 64, 67, 0.15);\n",
              "    fill: var(--button-hover-fill-color);\n",
              "  }\n",
              "\n",
              "  .colab-df-quickchart-complete:disabled,\n",
              "  .colab-df-quickchart-complete:disabled:hover {\n",
              "    background-color: var(--disabled-bg-color);\n",
              "    fill: var(--disabled-fill-color);\n",
              "    box-shadow: none;\n",
              "  }\n",
              "\n",
              "  .colab-df-spinner {\n",
              "    border: 2px solid var(--fill-color);\n",
              "    border-color: transparent;\n",
              "    border-bottom-color: var(--fill-color);\n",
              "    animation:\n",
              "      spin 1s steps(1) infinite;\n",
              "  }\n",
              "\n",
              "  @keyframes spin {\n",
              "    0% {\n",
              "      border-color: transparent;\n",
              "      border-bottom-color: var(--fill-color);\n",
              "      border-left-color: var(--fill-color);\n",
              "    }\n",
              "    20% {\n",
              "      border-color: transparent;\n",
              "      border-left-color: var(--fill-color);\n",
              "      border-top-color: var(--fill-color);\n",
              "    }\n",
              "    30% {\n",
              "      border-color: transparent;\n",
              "      border-left-color: var(--fill-color);\n",
              "      border-top-color: var(--fill-color);\n",
              "      border-right-color: var(--fill-color);\n",
              "    }\n",
              "    40% {\n",
              "      border-color: transparent;\n",
              "      border-right-color: var(--fill-color);\n",
              "      border-top-color: var(--fill-color);\n",
              "    }\n",
              "    60% {\n",
              "      border-color: transparent;\n",
              "      border-right-color: var(--fill-color);\n",
              "    }\n",
              "    80% {\n",
              "      border-color: transparent;\n",
              "      border-right-color: var(--fill-color);\n",
              "      border-bottom-color: var(--fill-color);\n",
              "    }\n",
              "    90% {\n",
              "      border-color: transparent;\n",
              "      border-bottom-color: var(--fill-color);\n",
              "    }\n",
              "  }\n",
              "</style>\n",
              "\n",
              "      <script>\n",
              "        async function quickchart(key) {\n",
              "          const quickchartButtonEl =\n",
              "            document.querySelector('#' + key + ' button');\n",
              "          quickchartButtonEl.disabled = true;  // To prevent multiple clicks.\n",
              "          quickchartButtonEl.classList.add('colab-df-spinner');\n",
              "          try {\n",
              "            const charts = await google.colab.kernel.invokeFunction(\n",
              "                'suggestCharts', [key], {});\n",
              "          } catch (error) {\n",
              "            console.error('Error during call to suggestCharts:', error);\n",
              "          }\n",
              "          quickchartButtonEl.classList.remove('colab-df-spinner');\n",
              "          quickchartButtonEl.classList.add('colab-df-quickchart-complete');\n",
              "        }\n",
              "        (() => {\n",
              "          let quickchartButtonEl =\n",
              "            document.querySelector('#df-6beb93d5-7a7c-4b05-9671-0f4ce0f7eb96 button');\n",
              "          quickchartButtonEl.style.display =\n",
              "            google.colab.kernel.accessAllowed ? 'block' : 'none';\n",
              "        })();\n",
              "      </script>\n",
              "    </div>\n",
              "\n",
              "  <div id=\"id_845a4df4-709f-4c54-84d9-daed077158c6\">\n",
              "    <style>\n",
              "      .colab-df-generate {\n",
              "        background-color: #E8F0FE;\n",
              "        border: none;\n",
              "        border-radius: 50%;\n",
              "        cursor: pointer;\n",
              "        display: none;\n",
              "        fill: #1967D2;\n",
              "        height: 32px;\n",
              "        padding: 0 0 0 0;\n",
              "        width: 32px;\n",
              "      }\n",
              "\n",
              "      .colab-df-generate:hover {\n",
              "        background-color: #E2EBFA;\n",
              "        box-shadow: 0px 1px 2px rgba(60, 64, 67, 0.3), 0px 1px 3px 1px rgba(60, 64, 67, 0.15);\n",
              "        fill: #174EA6;\n",
              "      }\n",
              "\n",
              "      [theme=dark] .colab-df-generate {\n",
              "        background-color: #3B4455;\n",
              "        fill: #D2E3FC;\n",
              "      }\n",
              "\n",
              "      [theme=dark] .colab-df-generate:hover {\n",
              "        background-color: #434B5C;\n",
              "        box-shadow: 0px 1px 3px 1px rgba(0, 0, 0, 0.15);\n",
              "        filter: drop-shadow(0px 1px 2px rgba(0, 0, 0, 0.3));\n",
              "        fill: #FFFFFF;\n",
              "      }\n",
              "    </style>\n",
              "    <button class=\"colab-df-generate\" onclick=\"generateWithVariable('user_cnt')\"\n",
              "            title=\"Generate code using this dataframe.\"\n",
              "            style=\"display:none;\">\n",
              "\n",
              "  <svg xmlns=\"http://www.w3.org/2000/svg\" height=\"24px\"viewBox=\"0 0 24 24\"\n",
              "       width=\"24px\">\n",
              "    <path d=\"M7,19H8.4L18.45,9,17,7.55,7,17.6ZM5,21V16.75L18.45,3.32a2,2,0,0,1,2.83,0l1.4,1.43a1.91,1.91,0,0,1,.58,1.4,1.91,1.91,0,0,1-.58,1.4L9.25,21ZM18.45,9,17,7.55Zm-12,3A5.31,5.31,0,0,0,4.9,8.1,5.31,5.31,0,0,0,1,6.5,5.31,5.31,0,0,0,4.9,4.9,5.31,5.31,0,0,0,6.5,1,5.31,5.31,0,0,0,8.1,4.9,5.31,5.31,0,0,0,12,6.5,5.46,5.46,0,0,0,6.5,12Z\"/>\n",
              "  </svg>\n",
              "    </button>\n",
              "    <script>\n",
              "      (() => {\n",
              "      const buttonEl =\n",
              "        document.querySelector('#id_845a4df4-709f-4c54-84d9-daed077158c6 button.colab-df-generate');\n",
              "      buttonEl.style.display =\n",
              "        google.colab.kernel.accessAllowed ? 'block' : 'none';\n",
              "\n",
              "      buttonEl.onclick = () => {\n",
              "        google.colab.notebook.generateWithVariable('user_cnt');\n",
              "      }\n",
              "      })();\n",
              "    </script>\n",
              "  </div>\n",
              "\n",
              "    </div>\n",
              "  </div>\n"
            ],
            "application/vnd.google.colaboratory.intrinsic+json": {
              "type": "dataframe",
              "variable_name": "user_cnt",
              "summary": "{\n  \"name\": \"user_cnt\",\n  \"rows\": 3,\n  \"fields\": [\n    {\n      \"column\": \"event_type\",\n      \"properties\": {\n        \"dtype\": \"string\",\n        \"num_unique_values\": 3,\n        \"samples\": [\n          \"view\",\n          \"cart\",\n          \"purchase\"\n        ],\n        \"semantic_type\": \"\",\n        \"description\": \"\"\n      }\n    },\n    {\n      \"column\": \"users\",\n      \"properties\": {\n        \"dtype\": \"number\",\n        \"std\": 618841,\n        \"min\": 53250,\n        \"max\": 1168441,\n        \"num_unique_values\": 3,\n        \"samples\": [\n          1168441,\n          145921,\n          53250\n        ],\n        \"semantic_type\": \"\",\n        \"description\": \"\"\n      }\n    }\n  ]\n}"
            }
          },
          "metadata": {},
          "execution_count": 38
        }
      ]
    },
    {
      "cell_type": "code",
      "source": [
        "import plotly.express as px\n",
        "\n",
        "fig = px.funnel(user_cnt, x='users', y='event_type', color_discrete_sequence=px.colors.sequential.Plasma)\n",
        "fig.update_traces(marker_line_color='darkgray', marker_line_width=2, textinfo='label+value', opacity=0.9)\n",
        "fig.update_layout(width=800,height=500, plot_bgcolor='#fffaf0', title='Funnel Analysis', font=dict(size=13))\n",
        "fig.show()"
      ],
      "metadata": {
        "colab": {
          "base_uri": "https://localhost:8080/",
          "height": 517
        },
        "id": "pZr3aC8UFYNq",
        "outputId": "8ae59c4b-3b18-4691-f63f-a477a98aa671"
      },
      "execution_count": 39,
      "outputs": [
        {
          "output_type": "display_data",
          "data": {
            "application/vnd.plotly.v1+json": {
              "data": [
                {
                  "hovertemplate": "users=%{x}<br>event_type=%{y}<extra></extra>",
                  "legendgroup": "",
                  "marker": {
                    "color": "#0d0887",
                    "line": {
                      "color": "darkgray",
                      "width": 2
                    }
                  },
                  "name": "",
                  "orientation": "h",
                  "showlegend": false,
                  "x": {
                    "dtype": "i4",
                    "bdata": "OdQRAAE6AgAC0AAA"
                  },
                  "xaxis": "x",
                  "y": [
                    "view",
                    "cart",
                    "purchase"
                  ],
                  "yaxis": "y",
                  "type": "funnel",
                  "opacity": 0.9,
                  "textinfo": "label+value"
                }
              ],
              "layout": {
                "template": {
                  "data": {
                    "histogram2dcontour": [
                      {
                        "type": "histogram2dcontour",
                        "colorbar": {
                          "outlinewidth": 0,
                          "ticks": ""
                        },
                        "colorscale": [
                          [
                            0,
                            "#0d0887"
                          ],
                          [
                            0.1111111111111111,
                            "#46039f"
                          ],
                          [
                            0.2222222222222222,
                            "#7201a8"
                          ],
                          [
                            0.3333333333333333,
                            "#9c179e"
                          ],
                          [
                            0.4444444444444444,
                            "#bd3786"
                          ],
                          [
                            0.5555555555555556,
                            "#d8576b"
                          ],
                          [
                            0.6666666666666666,
                            "#ed7953"
                          ],
                          [
                            0.7777777777777778,
                            "#fb9f3a"
                          ],
                          [
                            0.8888888888888888,
                            "#fdca26"
                          ],
                          [
                            1,
                            "#f0f921"
                          ]
                        ]
                      }
                    ],
                    "choropleth": [
                      {
                        "type": "choropleth",
                        "colorbar": {
                          "outlinewidth": 0,
                          "ticks": ""
                        }
                      }
                    ],
                    "histogram2d": [
                      {
                        "type": "histogram2d",
                        "colorbar": {
                          "outlinewidth": 0,
                          "ticks": ""
                        },
                        "colorscale": [
                          [
                            0,
                            "#0d0887"
                          ],
                          [
                            0.1111111111111111,
                            "#46039f"
                          ],
                          [
                            0.2222222222222222,
                            "#7201a8"
                          ],
                          [
                            0.3333333333333333,
                            "#9c179e"
                          ],
                          [
                            0.4444444444444444,
                            "#bd3786"
                          ],
                          [
                            0.5555555555555556,
                            "#d8576b"
                          ],
                          [
                            0.6666666666666666,
                            "#ed7953"
                          ],
                          [
                            0.7777777777777778,
                            "#fb9f3a"
                          ],
                          [
                            0.8888888888888888,
                            "#fdca26"
                          ],
                          [
                            1,
                            "#f0f921"
                          ]
                        ]
                      }
                    ],
                    "heatmap": [
                      {
                        "type": "heatmap",
                        "colorbar": {
                          "outlinewidth": 0,
                          "ticks": ""
                        },
                        "colorscale": [
                          [
                            0,
                            "#0d0887"
                          ],
                          [
                            0.1111111111111111,
                            "#46039f"
                          ],
                          [
                            0.2222222222222222,
                            "#7201a8"
                          ],
                          [
                            0.3333333333333333,
                            "#9c179e"
                          ],
                          [
                            0.4444444444444444,
                            "#bd3786"
                          ],
                          [
                            0.5555555555555556,
                            "#d8576b"
                          ],
                          [
                            0.6666666666666666,
                            "#ed7953"
                          ],
                          [
                            0.7777777777777778,
                            "#fb9f3a"
                          ],
                          [
                            0.8888888888888888,
                            "#fdca26"
                          ],
                          [
                            1,
                            "#f0f921"
                          ]
                        ]
                      }
                    ],
                    "contourcarpet": [
                      {
                        "type": "contourcarpet",
                        "colorbar": {
                          "outlinewidth": 0,
                          "ticks": ""
                        }
                      }
                    ],
                    "contour": [
                      {
                        "type": "contour",
                        "colorbar": {
                          "outlinewidth": 0,
                          "ticks": ""
                        },
                        "colorscale": [
                          [
                            0,
                            "#0d0887"
                          ],
                          [
                            0.1111111111111111,
                            "#46039f"
                          ],
                          [
                            0.2222222222222222,
                            "#7201a8"
                          ],
                          [
                            0.3333333333333333,
                            "#9c179e"
                          ],
                          [
                            0.4444444444444444,
                            "#bd3786"
                          ],
                          [
                            0.5555555555555556,
                            "#d8576b"
                          ],
                          [
                            0.6666666666666666,
                            "#ed7953"
                          ],
                          [
                            0.7777777777777778,
                            "#fb9f3a"
                          ],
                          [
                            0.8888888888888888,
                            "#fdca26"
                          ],
                          [
                            1,
                            "#f0f921"
                          ]
                        ]
                      }
                    ],
                    "surface": [
                      {
                        "type": "surface",
                        "colorbar": {
                          "outlinewidth": 0,
                          "ticks": ""
                        },
                        "colorscale": [
                          [
                            0,
                            "#0d0887"
                          ],
                          [
                            0.1111111111111111,
                            "#46039f"
                          ],
                          [
                            0.2222222222222222,
                            "#7201a8"
                          ],
                          [
                            0.3333333333333333,
                            "#9c179e"
                          ],
                          [
                            0.4444444444444444,
                            "#bd3786"
                          ],
                          [
                            0.5555555555555556,
                            "#d8576b"
                          ],
                          [
                            0.6666666666666666,
                            "#ed7953"
                          ],
                          [
                            0.7777777777777778,
                            "#fb9f3a"
                          ],
                          [
                            0.8888888888888888,
                            "#fdca26"
                          ],
                          [
                            1,
                            "#f0f921"
                          ]
                        ]
                      }
                    ],
                    "mesh3d": [
                      {
                        "type": "mesh3d",
                        "colorbar": {
                          "outlinewidth": 0,
                          "ticks": ""
                        }
                      }
                    ],
                    "scatter": [
                      {
                        "fillpattern": {
                          "fillmode": "overlay",
                          "size": 10,
                          "solidity": 0.2
                        },
                        "type": "scatter"
                      }
                    ],
                    "parcoords": [
                      {
                        "type": "parcoords",
                        "line": {
                          "colorbar": {
                            "outlinewidth": 0,
                            "ticks": ""
                          }
                        }
                      }
                    ],
                    "scatterpolargl": [
                      {
                        "type": "scatterpolargl",
                        "marker": {
                          "colorbar": {
                            "outlinewidth": 0,
                            "ticks": ""
                          }
                        }
                      }
                    ],
                    "bar": [
                      {
                        "error_x": {
                          "color": "#2a3f5f"
                        },
                        "error_y": {
                          "color": "#2a3f5f"
                        },
                        "marker": {
                          "line": {
                            "color": "#E5ECF6",
                            "width": 0.5
                          },
                          "pattern": {
                            "fillmode": "overlay",
                            "size": 10,
                            "solidity": 0.2
                          }
                        },
                        "type": "bar"
                      }
                    ],
                    "scattergeo": [
                      {
                        "type": "scattergeo",
                        "marker": {
                          "colorbar": {
                            "outlinewidth": 0,
                            "ticks": ""
                          }
                        }
                      }
                    ],
                    "scatterpolar": [
                      {
                        "type": "scatterpolar",
                        "marker": {
                          "colorbar": {
                            "outlinewidth": 0,
                            "ticks": ""
                          }
                        }
                      }
                    ],
                    "histogram": [
                      {
                        "marker": {
                          "pattern": {
                            "fillmode": "overlay",
                            "size": 10,
                            "solidity": 0.2
                          }
                        },
                        "type": "histogram"
                      }
                    ],
                    "scattergl": [
                      {
                        "type": "scattergl",
                        "marker": {
                          "colorbar": {
                            "outlinewidth": 0,
                            "ticks": ""
                          }
                        }
                      }
                    ],
                    "scatter3d": [
                      {
                        "type": "scatter3d",
                        "line": {
                          "colorbar": {
                            "outlinewidth": 0,
                            "ticks": ""
                          }
                        },
                        "marker": {
                          "colorbar": {
                            "outlinewidth": 0,
                            "ticks": ""
                          }
                        }
                      }
                    ],
                    "scattermap": [
                      {
                        "type": "scattermap",
                        "marker": {
                          "colorbar": {
                            "outlinewidth": 0,
                            "ticks": ""
                          }
                        }
                      }
                    ],
                    "scattermapbox": [
                      {
                        "type": "scattermapbox",
                        "marker": {
                          "colorbar": {
                            "outlinewidth": 0,
                            "ticks": ""
                          }
                        }
                      }
                    ],
                    "scatterternary": [
                      {
                        "type": "scatterternary",
                        "marker": {
                          "colorbar": {
                            "outlinewidth": 0,
                            "ticks": ""
                          }
                        }
                      }
                    ],
                    "scattercarpet": [
                      {
                        "type": "scattercarpet",
                        "marker": {
                          "colorbar": {
                            "outlinewidth": 0,
                            "ticks": ""
                          }
                        }
                      }
                    ],
                    "carpet": [
                      {
                        "aaxis": {
                          "endlinecolor": "#2a3f5f",
                          "gridcolor": "white",
                          "linecolor": "white",
                          "minorgridcolor": "white",
                          "startlinecolor": "#2a3f5f"
                        },
                        "baxis": {
                          "endlinecolor": "#2a3f5f",
                          "gridcolor": "white",
                          "linecolor": "white",
                          "minorgridcolor": "white",
                          "startlinecolor": "#2a3f5f"
                        },
                        "type": "carpet"
                      }
                    ],
                    "table": [
                      {
                        "cells": {
                          "fill": {
                            "color": "#EBF0F8"
                          },
                          "line": {
                            "color": "white"
                          }
                        },
                        "header": {
                          "fill": {
                            "color": "#C8D4E3"
                          },
                          "line": {
                            "color": "white"
                          }
                        },
                        "type": "table"
                      }
                    ],
                    "barpolar": [
                      {
                        "marker": {
                          "line": {
                            "color": "#E5ECF6",
                            "width": 0.5
                          },
                          "pattern": {
                            "fillmode": "overlay",
                            "size": 10,
                            "solidity": 0.2
                          }
                        },
                        "type": "barpolar"
                      }
                    ],
                    "pie": [
                      {
                        "automargin": true,
                        "type": "pie"
                      }
                    ]
                  },
                  "layout": {
                    "autotypenumbers": "strict",
                    "colorway": [
                      "#636efa",
                      "#EF553B",
                      "#00cc96",
                      "#ab63fa",
                      "#FFA15A",
                      "#19d3f3",
                      "#FF6692",
                      "#B6E880",
                      "#FF97FF",
                      "#FECB52"
                    ],
                    "font": {
                      "color": "#2a3f5f"
                    },
                    "hovermode": "closest",
                    "hoverlabel": {
                      "align": "left"
                    },
                    "paper_bgcolor": "white",
                    "plot_bgcolor": "#E5ECF6",
                    "polar": {
                      "bgcolor": "#E5ECF6",
                      "angularaxis": {
                        "gridcolor": "white",
                        "linecolor": "white",
                        "ticks": ""
                      },
                      "radialaxis": {
                        "gridcolor": "white",
                        "linecolor": "white",
                        "ticks": ""
                      }
                    },
                    "ternary": {
                      "bgcolor": "#E5ECF6",
                      "aaxis": {
                        "gridcolor": "white",
                        "linecolor": "white",
                        "ticks": ""
                      },
                      "baxis": {
                        "gridcolor": "white",
                        "linecolor": "white",
                        "ticks": ""
                      },
                      "caxis": {
                        "gridcolor": "white",
                        "linecolor": "white",
                        "ticks": ""
                      }
                    },
                    "coloraxis": {
                      "colorbar": {
                        "outlinewidth": 0,
                        "ticks": ""
                      }
                    },
                    "colorscale": {
                      "sequential": [
                        [
                          0,
                          "#0d0887"
                        ],
                        [
                          0.1111111111111111,
                          "#46039f"
                        ],
                        [
                          0.2222222222222222,
                          "#7201a8"
                        ],
                        [
                          0.3333333333333333,
                          "#9c179e"
                        ],
                        [
                          0.4444444444444444,
                          "#bd3786"
                        ],
                        [
                          0.5555555555555556,
                          "#d8576b"
                        ],
                        [
                          0.6666666666666666,
                          "#ed7953"
                        ],
                        [
                          0.7777777777777778,
                          "#fb9f3a"
                        ],
                        [
                          0.8888888888888888,
                          "#fdca26"
                        ],
                        [
                          1,
                          "#f0f921"
                        ]
                      ],
                      "sequentialminus": [
                        [
                          0,
                          "#0d0887"
                        ],
                        [
                          0.1111111111111111,
                          "#46039f"
                        ],
                        [
                          0.2222222222222222,
                          "#7201a8"
                        ],
                        [
                          0.3333333333333333,
                          "#9c179e"
                        ],
                        [
                          0.4444444444444444,
                          "#bd3786"
                        ],
                        [
                          0.5555555555555556,
                          "#d8576b"
                        ],
                        [
                          0.6666666666666666,
                          "#ed7953"
                        ],
                        [
                          0.7777777777777778,
                          "#fb9f3a"
                        ],
                        [
                          0.8888888888888888,
                          "#fdca26"
                        ],
                        [
                          1,
                          "#f0f921"
                        ]
                      ],
                      "diverging": [
                        [
                          0,
                          "#8e0152"
                        ],
                        [
                          0.1,
                          "#c51b7d"
                        ],
                        [
                          0.2,
                          "#de77ae"
                        ],
                        [
                          0.3,
                          "#f1b6da"
                        ],
                        [
                          0.4,
                          "#fde0ef"
                        ],
                        [
                          0.5,
                          "#f7f7f7"
                        ],
                        [
                          0.6,
                          "#e6f5d0"
                        ],
                        [
                          0.7,
                          "#b8e186"
                        ],
                        [
                          0.8,
                          "#7fbc41"
                        ],
                        [
                          0.9,
                          "#4d9221"
                        ],
                        [
                          1,
                          "#276419"
                        ]
                      ]
                    },
                    "xaxis": {
                      "gridcolor": "white",
                      "linecolor": "white",
                      "ticks": "",
                      "title": {
                        "standoff": 15
                      },
                      "zerolinecolor": "white",
                      "automargin": true,
                      "zerolinewidth": 2
                    },
                    "yaxis": {
                      "gridcolor": "white",
                      "linecolor": "white",
                      "ticks": "",
                      "title": {
                        "standoff": 15
                      },
                      "zerolinecolor": "white",
                      "automargin": true,
                      "zerolinewidth": 2
                    },
                    "scene": {
                      "xaxis": {
                        "backgroundcolor": "#E5ECF6",
                        "gridcolor": "white",
                        "linecolor": "white",
                        "showbackground": true,
                        "ticks": "",
                        "zerolinecolor": "white",
                        "gridwidth": 2
                      },
                      "yaxis": {
                        "backgroundcolor": "#E5ECF6",
                        "gridcolor": "white",
                        "linecolor": "white",
                        "showbackground": true,
                        "ticks": "",
                        "zerolinecolor": "white",
                        "gridwidth": 2
                      },
                      "zaxis": {
                        "backgroundcolor": "#E5ECF6",
                        "gridcolor": "white",
                        "linecolor": "white",
                        "showbackground": true,
                        "ticks": "",
                        "zerolinecolor": "white",
                        "gridwidth": 2
                      }
                    },
                    "shapedefaults": {
                      "line": {
                        "color": "#2a3f5f"
                      }
                    },
                    "annotationdefaults": {
                      "arrowcolor": "#2a3f5f",
                      "arrowhead": 0,
                      "arrowwidth": 1
                    },
                    "geo": {
                      "bgcolor": "white",
                      "landcolor": "#E5ECF6",
                      "subunitcolor": "white",
                      "showland": true,
                      "showlakes": true,
                      "lakecolor": "white"
                    },
                    "title": {
                      "x": 0.05
                    },
                    "mapbox": {
                      "style": "light"
                    }
                  }
                },
                "xaxis": {
                  "anchor": "y",
                  "domain": [
                    0,
                    1
                  ],
                  "title": {
                    "text": "users"
                  }
                },
                "yaxis": {
                  "anchor": "x",
                  "domain": [
                    0,
                    1
                  ],
                  "title": {
                    "text": "event_type"
                  }
                },
                "legend": {
                  "tracegroupgap": 0
                },
                "margin": {
                  "t": 60
                },
                "font": {
                  "size": 13
                },
                "width": 800,
                "height": 500,
                "plot_bgcolor": "#fffaf0",
                "title": {
                  "text": "Funnel Analysis"
                }
              },
              "config": {
                "plotlyServerURL": "https://plot.ly"
              }
            },
            "text/html": [
              "<div>            <script src=\"https://cdnjs.cloudflare.com/ajax/libs/mathjax/2.7.5/MathJax.js?config=TeX-AMS-MML_SVG\"></script><script type=\"text/javascript\">if (window.MathJax && window.MathJax.Hub && window.MathJax.Hub.Config) {window.MathJax.Hub.Config({SVG: {font: \"STIX-Web\"}});}</script>                <script type=\"text/javascript\">window.PlotlyConfig = {MathJaxConfig: 'local'};</script>\n",
              "        <script charset=\"utf-8\" src=\"https://cdn.plot.ly/plotly-3.0.1.min.js\" integrity=\"sha256-oy6Be7Eh6eiQFs5M7oXuPxxm9qbJXEtTpfSI93dW16Q=\" crossorigin=\"anonymous\"></script>                <div id=\"2e258fe2-d367-4acc-b505-5263f18789f8\" class=\"plotly-graph-div\" style=\"height:500px; width:800px;\"></div>            <script type=\"text/javascript\">                window.PLOTLYENV=window.PLOTLYENV || {};                                if (document.getElementById(\"2e258fe2-d367-4acc-b505-5263f18789f8\")) {                    Plotly.newPlot(                        \"2e258fe2-d367-4acc-b505-5263f18789f8\",                        [{\"hovertemplate\":\"users=%{x}\\u003cbr\\u003eevent_type=%{y}\\u003cextra\\u003e\\u003c\\u002fextra\\u003e\",\"legendgroup\":\"\",\"marker\":{\"color\":\"#0d0887\",\"line\":{\"color\":\"darkgray\",\"width\":2}},\"name\":\"\",\"orientation\":\"h\",\"showlegend\":false,\"x\":{\"dtype\":\"i4\",\"bdata\":\"OdQRAAE6AgAC0AAA\"},\"xaxis\":\"x\",\"y\":[\"view\",\"cart\",\"purchase\"],\"yaxis\":\"y\",\"type\":\"funnel\",\"opacity\":0.9,\"textinfo\":\"label+value\"}],                        {\"template\":{\"data\":{\"histogram2dcontour\":[{\"type\":\"histogram2dcontour\",\"colorbar\":{\"outlinewidth\":0,\"ticks\":\"\"},\"colorscale\":[[0.0,\"#0d0887\"],[0.1111111111111111,\"#46039f\"],[0.2222222222222222,\"#7201a8\"],[0.3333333333333333,\"#9c179e\"],[0.4444444444444444,\"#bd3786\"],[0.5555555555555556,\"#d8576b\"],[0.6666666666666666,\"#ed7953\"],[0.7777777777777778,\"#fb9f3a\"],[0.8888888888888888,\"#fdca26\"],[1.0,\"#f0f921\"]]}],\"choropleth\":[{\"type\":\"choropleth\",\"colorbar\":{\"outlinewidth\":0,\"ticks\":\"\"}}],\"histogram2d\":[{\"type\":\"histogram2d\",\"colorbar\":{\"outlinewidth\":0,\"ticks\":\"\"},\"colorscale\":[[0.0,\"#0d0887\"],[0.1111111111111111,\"#46039f\"],[0.2222222222222222,\"#7201a8\"],[0.3333333333333333,\"#9c179e\"],[0.4444444444444444,\"#bd3786\"],[0.5555555555555556,\"#d8576b\"],[0.6666666666666666,\"#ed7953\"],[0.7777777777777778,\"#fb9f3a\"],[0.8888888888888888,\"#fdca26\"],[1.0,\"#f0f921\"]]}],\"heatmap\":[{\"type\":\"heatmap\",\"colorbar\":{\"outlinewidth\":0,\"ticks\":\"\"},\"colorscale\":[[0.0,\"#0d0887\"],[0.1111111111111111,\"#46039f\"],[0.2222222222222222,\"#7201a8\"],[0.3333333333333333,\"#9c179e\"],[0.4444444444444444,\"#bd3786\"],[0.5555555555555556,\"#d8576b\"],[0.6666666666666666,\"#ed7953\"],[0.7777777777777778,\"#fb9f3a\"],[0.8888888888888888,\"#fdca26\"],[1.0,\"#f0f921\"]]}],\"contourcarpet\":[{\"type\":\"contourcarpet\",\"colorbar\":{\"outlinewidth\":0,\"ticks\":\"\"}}],\"contour\":[{\"type\":\"contour\",\"colorbar\":{\"outlinewidth\":0,\"ticks\":\"\"},\"colorscale\":[[0.0,\"#0d0887\"],[0.1111111111111111,\"#46039f\"],[0.2222222222222222,\"#7201a8\"],[0.3333333333333333,\"#9c179e\"],[0.4444444444444444,\"#bd3786\"],[0.5555555555555556,\"#d8576b\"],[0.6666666666666666,\"#ed7953\"],[0.7777777777777778,\"#fb9f3a\"],[0.8888888888888888,\"#fdca26\"],[1.0,\"#f0f921\"]]}],\"surface\":[{\"type\":\"surface\",\"colorbar\":{\"outlinewidth\":0,\"ticks\":\"\"},\"colorscale\":[[0.0,\"#0d0887\"],[0.1111111111111111,\"#46039f\"],[0.2222222222222222,\"#7201a8\"],[0.3333333333333333,\"#9c179e\"],[0.4444444444444444,\"#bd3786\"],[0.5555555555555556,\"#d8576b\"],[0.6666666666666666,\"#ed7953\"],[0.7777777777777778,\"#fb9f3a\"],[0.8888888888888888,\"#fdca26\"],[1.0,\"#f0f921\"]]}],\"mesh3d\":[{\"type\":\"mesh3d\",\"colorbar\":{\"outlinewidth\":0,\"ticks\":\"\"}}],\"scatter\":[{\"fillpattern\":{\"fillmode\":\"overlay\",\"size\":10,\"solidity\":0.2},\"type\":\"scatter\"}],\"parcoords\":[{\"type\":\"parcoords\",\"line\":{\"colorbar\":{\"outlinewidth\":0,\"ticks\":\"\"}}}],\"scatterpolargl\":[{\"type\":\"scatterpolargl\",\"marker\":{\"colorbar\":{\"outlinewidth\":0,\"ticks\":\"\"}}}],\"bar\":[{\"error_x\":{\"color\":\"#2a3f5f\"},\"error_y\":{\"color\":\"#2a3f5f\"},\"marker\":{\"line\":{\"color\":\"#E5ECF6\",\"width\":0.5},\"pattern\":{\"fillmode\":\"overlay\",\"size\":10,\"solidity\":0.2}},\"type\":\"bar\"}],\"scattergeo\":[{\"type\":\"scattergeo\",\"marker\":{\"colorbar\":{\"outlinewidth\":0,\"ticks\":\"\"}}}],\"scatterpolar\":[{\"type\":\"scatterpolar\",\"marker\":{\"colorbar\":{\"outlinewidth\":0,\"ticks\":\"\"}}}],\"histogram\":[{\"marker\":{\"pattern\":{\"fillmode\":\"overlay\",\"size\":10,\"solidity\":0.2}},\"type\":\"histogram\"}],\"scattergl\":[{\"type\":\"scattergl\",\"marker\":{\"colorbar\":{\"outlinewidth\":0,\"ticks\":\"\"}}}],\"scatter3d\":[{\"type\":\"scatter3d\",\"line\":{\"colorbar\":{\"outlinewidth\":0,\"ticks\":\"\"}},\"marker\":{\"colorbar\":{\"outlinewidth\":0,\"ticks\":\"\"}}}],\"scattermap\":[{\"type\":\"scattermap\",\"marker\":{\"colorbar\":{\"outlinewidth\":0,\"ticks\":\"\"}}}],\"scattermapbox\":[{\"type\":\"scattermapbox\",\"marker\":{\"colorbar\":{\"outlinewidth\":0,\"ticks\":\"\"}}}],\"scatterternary\":[{\"type\":\"scatterternary\",\"marker\":{\"colorbar\":{\"outlinewidth\":0,\"ticks\":\"\"}}}],\"scattercarpet\":[{\"type\":\"scattercarpet\",\"marker\":{\"colorbar\":{\"outlinewidth\":0,\"ticks\":\"\"}}}],\"carpet\":[{\"aaxis\":{\"endlinecolor\":\"#2a3f5f\",\"gridcolor\":\"white\",\"linecolor\":\"white\",\"minorgridcolor\":\"white\",\"startlinecolor\":\"#2a3f5f\"},\"baxis\":{\"endlinecolor\":\"#2a3f5f\",\"gridcolor\":\"white\",\"linecolor\":\"white\",\"minorgridcolor\":\"white\",\"startlinecolor\":\"#2a3f5f\"},\"type\":\"carpet\"}],\"table\":[{\"cells\":{\"fill\":{\"color\":\"#EBF0F8\"},\"line\":{\"color\":\"white\"}},\"header\":{\"fill\":{\"color\":\"#C8D4E3\"},\"line\":{\"color\":\"white\"}},\"type\":\"table\"}],\"barpolar\":[{\"marker\":{\"line\":{\"color\":\"#E5ECF6\",\"width\":0.5},\"pattern\":{\"fillmode\":\"overlay\",\"size\":10,\"solidity\":0.2}},\"type\":\"barpolar\"}],\"pie\":[{\"automargin\":true,\"type\":\"pie\"}]},\"layout\":{\"autotypenumbers\":\"strict\",\"colorway\":[\"#636efa\",\"#EF553B\",\"#00cc96\",\"#ab63fa\",\"#FFA15A\",\"#19d3f3\",\"#FF6692\",\"#B6E880\",\"#FF97FF\",\"#FECB52\"],\"font\":{\"color\":\"#2a3f5f\"},\"hovermode\":\"closest\",\"hoverlabel\":{\"align\":\"left\"},\"paper_bgcolor\":\"white\",\"plot_bgcolor\":\"#E5ECF6\",\"polar\":{\"bgcolor\":\"#E5ECF6\",\"angularaxis\":{\"gridcolor\":\"white\",\"linecolor\":\"white\",\"ticks\":\"\"},\"radialaxis\":{\"gridcolor\":\"white\",\"linecolor\":\"white\",\"ticks\":\"\"}},\"ternary\":{\"bgcolor\":\"#E5ECF6\",\"aaxis\":{\"gridcolor\":\"white\",\"linecolor\":\"white\",\"ticks\":\"\"},\"baxis\":{\"gridcolor\":\"white\",\"linecolor\":\"white\",\"ticks\":\"\"},\"caxis\":{\"gridcolor\":\"white\",\"linecolor\":\"white\",\"ticks\":\"\"}},\"coloraxis\":{\"colorbar\":{\"outlinewidth\":0,\"ticks\":\"\"}},\"colorscale\":{\"sequential\":[[0.0,\"#0d0887\"],[0.1111111111111111,\"#46039f\"],[0.2222222222222222,\"#7201a8\"],[0.3333333333333333,\"#9c179e\"],[0.4444444444444444,\"#bd3786\"],[0.5555555555555556,\"#d8576b\"],[0.6666666666666666,\"#ed7953\"],[0.7777777777777778,\"#fb9f3a\"],[0.8888888888888888,\"#fdca26\"],[1.0,\"#f0f921\"]],\"sequentialminus\":[[0.0,\"#0d0887\"],[0.1111111111111111,\"#46039f\"],[0.2222222222222222,\"#7201a8\"],[0.3333333333333333,\"#9c179e\"],[0.4444444444444444,\"#bd3786\"],[0.5555555555555556,\"#d8576b\"],[0.6666666666666666,\"#ed7953\"],[0.7777777777777778,\"#fb9f3a\"],[0.8888888888888888,\"#fdca26\"],[1.0,\"#f0f921\"]],\"diverging\":[[0,\"#8e0152\"],[0.1,\"#c51b7d\"],[0.2,\"#de77ae\"],[0.3,\"#f1b6da\"],[0.4,\"#fde0ef\"],[0.5,\"#f7f7f7\"],[0.6,\"#e6f5d0\"],[0.7,\"#b8e186\"],[0.8,\"#7fbc41\"],[0.9,\"#4d9221\"],[1,\"#276419\"]]},\"xaxis\":{\"gridcolor\":\"white\",\"linecolor\":\"white\",\"ticks\":\"\",\"title\":{\"standoff\":15},\"zerolinecolor\":\"white\",\"automargin\":true,\"zerolinewidth\":2},\"yaxis\":{\"gridcolor\":\"white\",\"linecolor\":\"white\",\"ticks\":\"\",\"title\":{\"standoff\":15},\"zerolinecolor\":\"white\",\"automargin\":true,\"zerolinewidth\":2},\"scene\":{\"xaxis\":{\"backgroundcolor\":\"#E5ECF6\",\"gridcolor\":\"white\",\"linecolor\":\"white\",\"showbackground\":true,\"ticks\":\"\",\"zerolinecolor\":\"white\",\"gridwidth\":2},\"yaxis\":{\"backgroundcolor\":\"#E5ECF6\",\"gridcolor\":\"white\",\"linecolor\":\"white\",\"showbackground\":true,\"ticks\":\"\",\"zerolinecolor\":\"white\",\"gridwidth\":2},\"zaxis\":{\"backgroundcolor\":\"#E5ECF6\",\"gridcolor\":\"white\",\"linecolor\":\"white\",\"showbackground\":true,\"ticks\":\"\",\"zerolinecolor\":\"white\",\"gridwidth\":2}},\"shapedefaults\":{\"line\":{\"color\":\"#2a3f5f\"}},\"annotationdefaults\":{\"arrowcolor\":\"#2a3f5f\",\"arrowhead\":0,\"arrowwidth\":1},\"geo\":{\"bgcolor\":\"white\",\"landcolor\":\"#E5ECF6\",\"subunitcolor\":\"white\",\"showland\":true,\"showlakes\":true,\"lakecolor\":\"white\"},\"title\":{\"x\":0.05},\"mapbox\":{\"style\":\"light\"}}},\"xaxis\":{\"anchor\":\"y\",\"domain\":[0.0,1.0],\"title\":{\"text\":\"users\"}},\"yaxis\":{\"anchor\":\"x\",\"domain\":[0.0,1.0],\"title\":{\"text\":\"event_type\"}},\"legend\":{\"tracegroupgap\":0},\"margin\":{\"t\":60},\"font\":{\"size\":13},\"width\":800,\"height\":500,\"plot_bgcolor\":\"#fffaf0\",\"title\":{\"text\":\"Funnel Analysis\"}},                        {\"responsive\": true}                    ).then(function(){\n",
              "                            \n",
              "var gd = document.getElementById('2e258fe2-d367-4acc-b505-5263f18789f8');\n",
              "var x = new MutationObserver(function (mutations, observer) {{\n",
              "        var display = window.getComputedStyle(gd).display;\n",
              "        if (!display || display === 'none') {{\n",
              "            console.log([gd, 'removed!']);\n",
              "            Plotly.purge(gd);\n",
              "            observer.disconnect();\n",
              "        }}\n",
              "}});\n",
              "\n",
              "// Listen for the removal of the full notebook cells\n",
              "var notebookContainer = gd.closest('#notebook-container');\n",
              "if (notebookContainer) {{\n",
              "    x.observe(notebookContainer, {childList: true});\n",
              "}}\n",
              "\n",
              "// Listen for the clearing of the current output cell\n",
              "var outputEl = gd.closest('.output');\n",
              "if (outputEl) {{\n",
              "    x.observe(outputEl, {childList: true});\n",
              "}}\n",
              "\n",
              "                        })                };            </script>        </div>"
            ]
          },
          "metadata": {}
        }
      ]
    },
    {
      "cell_type": "code",
      "source": [
        "# Conversion %\n",
        "user_cnt['conversion_rate(%)'] = user_cnt['users'] / user_cnt['users'].shift(1)*100\n",
        "\n",
        "# Churn %\n",
        "user_cnt['churn_rate(%)'] = 100 - user_cnt['conversion_rate(%)']\n",
        "user_cnt"
      ],
      "metadata": {
        "colab": {
          "base_uri": "https://localhost:8080/",
          "height": 143
        },
        "id": "hIKS6_RiY5m4",
        "outputId": "d0bd0af0-29f9-41ba-d013-491d4881cf68"
      },
      "execution_count": 40,
      "outputs": [
        {
          "output_type": "execute_result",
          "data": {
            "text/plain": [
              "  event_type    users  conversion_rate(%)  churn_rate(%)\n",
              "3       view  1168441                 NaN            NaN\n",
              "0       cart   145921           12.488521      87.511479\n",
              "1   purchase    53250           36.492349      63.507651"
            ],
            "text/html": [
              "\n",
              "  <div id=\"df-7aa5255e-314a-49a0-9194-e1246906738c\" class=\"colab-df-container\">\n",
              "    <div>\n",
              "<style scoped>\n",
              "    .dataframe tbody tr th:only-of-type {\n",
              "        vertical-align: middle;\n",
              "    }\n",
              "\n",
              "    .dataframe tbody tr th {\n",
              "        vertical-align: top;\n",
              "    }\n",
              "\n",
              "    .dataframe thead th {\n",
              "        text-align: right;\n",
              "    }\n",
              "</style>\n",
              "<table border=\"1\" class=\"dataframe\">\n",
              "  <thead>\n",
              "    <tr style=\"text-align: right;\">\n",
              "      <th></th>\n",
              "      <th>event_type</th>\n",
              "      <th>users</th>\n",
              "      <th>conversion_rate(%)</th>\n",
              "      <th>churn_rate(%)</th>\n",
              "    </tr>\n",
              "  </thead>\n",
              "  <tbody>\n",
              "    <tr>\n",
              "      <th>3</th>\n",
              "      <td>view</td>\n",
              "      <td>1168441</td>\n",
              "      <td>NaN</td>\n",
              "      <td>NaN</td>\n",
              "    </tr>\n",
              "    <tr>\n",
              "      <th>0</th>\n",
              "      <td>cart</td>\n",
              "      <td>145921</td>\n",
              "      <td>12.488521</td>\n",
              "      <td>87.511479</td>\n",
              "    </tr>\n",
              "    <tr>\n",
              "      <th>1</th>\n",
              "      <td>purchase</td>\n",
              "      <td>53250</td>\n",
              "      <td>36.492349</td>\n",
              "      <td>63.507651</td>\n",
              "    </tr>\n",
              "  </tbody>\n",
              "</table>\n",
              "</div>\n",
              "    <div class=\"colab-df-buttons\">\n",
              "\n",
              "  <div class=\"colab-df-container\">\n",
              "    <button class=\"colab-df-convert\" onclick=\"convertToInteractive('df-7aa5255e-314a-49a0-9194-e1246906738c')\"\n",
              "            title=\"Convert this dataframe to an interactive table.\"\n",
              "            style=\"display:none;\">\n",
              "\n",
              "  <svg xmlns=\"http://www.w3.org/2000/svg\" height=\"24px\" viewBox=\"0 -960 960 960\">\n",
              "    <path d=\"M120-120v-720h720v720H120Zm60-500h600v-160H180v160Zm220 220h160v-160H400v160Zm0 220h160v-160H400v160ZM180-400h160v-160H180v160Zm440 0h160v-160H620v160ZM180-180h160v-160H180v160Zm440 0h160v-160H620v160Z\"/>\n",
              "  </svg>\n",
              "    </button>\n",
              "\n",
              "  <style>\n",
              "    .colab-df-container {\n",
              "      display:flex;\n",
              "      gap: 12px;\n",
              "    }\n",
              "\n",
              "    .colab-df-convert {\n",
              "      background-color: #E8F0FE;\n",
              "      border: none;\n",
              "      border-radius: 50%;\n",
              "      cursor: pointer;\n",
              "      display: none;\n",
              "      fill: #1967D2;\n",
              "      height: 32px;\n",
              "      padding: 0 0 0 0;\n",
              "      width: 32px;\n",
              "    }\n",
              "\n",
              "    .colab-df-convert:hover {\n",
              "      background-color: #E2EBFA;\n",
              "      box-shadow: 0px 1px 2px rgba(60, 64, 67, 0.3), 0px 1px 3px 1px rgba(60, 64, 67, 0.15);\n",
              "      fill: #174EA6;\n",
              "    }\n",
              "\n",
              "    .colab-df-buttons div {\n",
              "      margin-bottom: 4px;\n",
              "    }\n",
              "\n",
              "    [theme=dark] .colab-df-convert {\n",
              "      background-color: #3B4455;\n",
              "      fill: #D2E3FC;\n",
              "    }\n",
              "\n",
              "    [theme=dark] .colab-df-convert:hover {\n",
              "      background-color: #434B5C;\n",
              "      box-shadow: 0px 1px 3px 1px rgba(0, 0, 0, 0.15);\n",
              "      filter: drop-shadow(0px 1px 2px rgba(0, 0, 0, 0.3));\n",
              "      fill: #FFFFFF;\n",
              "    }\n",
              "  </style>\n",
              "\n",
              "    <script>\n",
              "      const buttonEl =\n",
              "        document.querySelector('#df-7aa5255e-314a-49a0-9194-e1246906738c button.colab-df-convert');\n",
              "      buttonEl.style.display =\n",
              "        google.colab.kernel.accessAllowed ? 'block' : 'none';\n",
              "\n",
              "      async function convertToInteractive(key) {\n",
              "        const element = document.querySelector('#df-7aa5255e-314a-49a0-9194-e1246906738c');\n",
              "        const dataTable =\n",
              "          await google.colab.kernel.invokeFunction('convertToInteractive',\n",
              "                                                    [key], {});\n",
              "        if (!dataTable) return;\n",
              "\n",
              "        const docLinkHtml = 'Like what you see? Visit the ' +\n",
              "          '<a target=\"_blank\" href=https://colab.research.google.com/notebooks/data_table.ipynb>data table notebook</a>'\n",
              "          + ' to learn more about interactive tables.';\n",
              "        element.innerHTML = '';\n",
              "        dataTable['output_type'] = 'display_data';\n",
              "        await google.colab.output.renderOutput(dataTable, element);\n",
              "        const docLink = document.createElement('div');\n",
              "        docLink.innerHTML = docLinkHtml;\n",
              "        element.appendChild(docLink);\n",
              "      }\n",
              "    </script>\n",
              "  </div>\n",
              "\n",
              "\n",
              "    <div id=\"df-4ef0afe1-edac-442f-89ff-370863b5f1f4\">\n",
              "      <button class=\"colab-df-quickchart\" onclick=\"quickchart('df-4ef0afe1-edac-442f-89ff-370863b5f1f4')\"\n",
              "                title=\"Suggest charts\"\n",
              "                style=\"display:none;\">\n",
              "\n",
              "<svg xmlns=\"http://www.w3.org/2000/svg\" height=\"24px\"viewBox=\"0 0 24 24\"\n",
              "     width=\"24px\">\n",
              "    <g>\n",
              "        <path d=\"M19 3H5c-1.1 0-2 .9-2 2v14c0 1.1.9 2 2 2h14c1.1 0 2-.9 2-2V5c0-1.1-.9-2-2-2zM9 17H7v-7h2v7zm4 0h-2V7h2v10zm4 0h-2v-4h2v4z\"/>\n",
              "    </g>\n",
              "</svg>\n",
              "      </button>\n",
              "\n",
              "<style>\n",
              "  .colab-df-quickchart {\n",
              "      --bg-color: #E8F0FE;\n",
              "      --fill-color: #1967D2;\n",
              "      --hover-bg-color: #E2EBFA;\n",
              "      --hover-fill-color: #174EA6;\n",
              "      --disabled-fill-color: #AAA;\n",
              "      --disabled-bg-color: #DDD;\n",
              "  }\n",
              "\n",
              "  [theme=dark] .colab-df-quickchart {\n",
              "      --bg-color: #3B4455;\n",
              "      --fill-color: #D2E3FC;\n",
              "      --hover-bg-color: #434B5C;\n",
              "      --hover-fill-color: #FFFFFF;\n",
              "      --disabled-bg-color: #3B4455;\n",
              "      --disabled-fill-color: #666;\n",
              "  }\n",
              "\n",
              "  .colab-df-quickchart {\n",
              "    background-color: var(--bg-color);\n",
              "    border: none;\n",
              "    border-radius: 50%;\n",
              "    cursor: pointer;\n",
              "    display: none;\n",
              "    fill: var(--fill-color);\n",
              "    height: 32px;\n",
              "    padding: 0;\n",
              "    width: 32px;\n",
              "  }\n",
              "\n",
              "  .colab-df-quickchart:hover {\n",
              "    background-color: var(--hover-bg-color);\n",
              "    box-shadow: 0 1px 2px rgba(60, 64, 67, 0.3), 0 1px 3px 1px rgba(60, 64, 67, 0.15);\n",
              "    fill: var(--button-hover-fill-color);\n",
              "  }\n",
              "\n",
              "  .colab-df-quickchart-complete:disabled,\n",
              "  .colab-df-quickchart-complete:disabled:hover {\n",
              "    background-color: var(--disabled-bg-color);\n",
              "    fill: var(--disabled-fill-color);\n",
              "    box-shadow: none;\n",
              "  }\n",
              "\n",
              "  .colab-df-spinner {\n",
              "    border: 2px solid var(--fill-color);\n",
              "    border-color: transparent;\n",
              "    border-bottom-color: var(--fill-color);\n",
              "    animation:\n",
              "      spin 1s steps(1) infinite;\n",
              "  }\n",
              "\n",
              "  @keyframes spin {\n",
              "    0% {\n",
              "      border-color: transparent;\n",
              "      border-bottom-color: var(--fill-color);\n",
              "      border-left-color: var(--fill-color);\n",
              "    }\n",
              "    20% {\n",
              "      border-color: transparent;\n",
              "      border-left-color: var(--fill-color);\n",
              "      border-top-color: var(--fill-color);\n",
              "    }\n",
              "    30% {\n",
              "      border-color: transparent;\n",
              "      border-left-color: var(--fill-color);\n",
              "      border-top-color: var(--fill-color);\n",
              "      border-right-color: var(--fill-color);\n",
              "    }\n",
              "    40% {\n",
              "      border-color: transparent;\n",
              "      border-right-color: var(--fill-color);\n",
              "      border-top-color: var(--fill-color);\n",
              "    }\n",
              "    60% {\n",
              "      border-color: transparent;\n",
              "      border-right-color: var(--fill-color);\n",
              "    }\n",
              "    80% {\n",
              "      border-color: transparent;\n",
              "      border-right-color: var(--fill-color);\n",
              "      border-bottom-color: var(--fill-color);\n",
              "    }\n",
              "    90% {\n",
              "      border-color: transparent;\n",
              "      border-bottom-color: var(--fill-color);\n",
              "    }\n",
              "  }\n",
              "</style>\n",
              "\n",
              "      <script>\n",
              "        async function quickchart(key) {\n",
              "          const quickchartButtonEl =\n",
              "            document.querySelector('#' + key + ' button');\n",
              "          quickchartButtonEl.disabled = true;  // To prevent multiple clicks.\n",
              "          quickchartButtonEl.classList.add('colab-df-spinner');\n",
              "          try {\n",
              "            const charts = await google.colab.kernel.invokeFunction(\n",
              "                'suggestCharts', [key], {});\n",
              "          } catch (error) {\n",
              "            console.error('Error during call to suggestCharts:', error);\n",
              "          }\n",
              "          quickchartButtonEl.classList.remove('colab-df-spinner');\n",
              "          quickchartButtonEl.classList.add('colab-df-quickchart-complete');\n",
              "        }\n",
              "        (() => {\n",
              "          let quickchartButtonEl =\n",
              "            document.querySelector('#df-4ef0afe1-edac-442f-89ff-370863b5f1f4 button');\n",
              "          quickchartButtonEl.style.display =\n",
              "            google.colab.kernel.accessAllowed ? 'block' : 'none';\n",
              "        })();\n",
              "      </script>\n",
              "    </div>\n",
              "\n",
              "  <div id=\"id_95966388-8e93-4618-b658-1fd0fd550921\">\n",
              "    <style>\n",
              "      .colab-df-generate {\n",
              "        background-color: #E8F0FE;\n",
              "        border: none;\n",
              "        border-radius: 50%;\n",
              "        cursor: pointer;\n",
              "        display: none;\n",
              "        fill: #1967D2;\n",
              "        height: 32px;\n",
              "        padding: 0 0 0 0;\n",
              "        width: 32px;\n",
              "      }\n",
              "\n",
              "      .colab-df-generate:hover {\n",
              "        background-color: #E2EBFA;\n",
              "        box-shadow: 0px 1px 2px rgba(60, 64, 67, 0.3), 0px 1px 3px 1px rgba(60, 64, 67, 0.15);\n",
              "        fill: #174EA6;\n",
              "      }\n",
              "\n",
              "      [theme=dark] .colab-df-generate {\n",
              "        background-color: #3B4455;\n",
              "        fill: #D2E3FC;\n",
              "      }\n",
              "\n",
              "      [theme=dark] .colab-df-generate:hover {\n",
              "        background-color: #434B5C;\n",
              "        box-shadow: 0px 1px 3px 1px rgba(0, 0, 0, 0.15);\n",
              "        filter: drop-shadow(0px 1px 2px rgba(0, 0, 0, 0.3));\n",
              "        fill: #FFFFFF;\n",
              "      }\n",
              "    </style>\n",
              "    <button class=\"colab-df-generate\" onclick=\"generateWithVariable('user_cnt')\"\n",
              "            title=\"Generate code using this dataframe.\"\n",
              "            style=\"display:none;\">\n",
              "\n",
              "  <svg xmlns=\"http://www.w3.org/2000/svg\" height=\"24px\"viewBox=\"0 0 24 24\"\n",
              "       width=\"24px\">\n",
              "    <path d=\"M7,19H8.4L18.45,9,17,7.55,7,17.6ZM5,21V16.75L18.45,3.32a2,2,0,0,1,2.83,0l1.4,1.43a1.91,1.91,0,0,1,.58,1.4,1.91,1.91,0,0,1-.58,1.4L9.25,21ZM18.45,9,17,7.55Zm-12,3A5.31,5.31,0,0,0,4.9,8.1,5.31,5.31,0,0,0,1,6.5,5.31,5.31,0,0,0,4.9,4.9,5.31,5.31,0,0,0,6.5,1,5.31,5.31,0,0,0,8.1,4.9,5.31,5.31,0,0,0,12,6.5,5.46,5.46,0,0,0,6.5,12Z\"/>\n",
              "  </svg>\n",
              "    </button>\n",
              "    <script>\n",
              "      (() => {\n",
              "      const buttonEl =\n",
              "        document.querySelector('#id_95966388-8e93-4618-b658-1fd0fd550921 button.colab-df-generate');\n",
              "      buttonEl.style.display =\n",
              "        google.colab.kernel.accessAllowed ? 'block' : 'none';\n",
              "\n",
              "      buttonEl.onclick = () => {\n",
              "        google.colab.notebook.generateWithVariable('user_cnt');\n",
              "      }\n",
              "      })();\n",
              "    </script>\n",
              "  </div>\n",
              "\n",
              "    </div>\n",
              "  </div>\n"
            ],
            "application/vnd.google.colaboratory.intrinsic+json": {
              "type": "dataframe",
              "variable_name": "user_cnt",
              "summary": "{\n  \"name\": \"user_cnt\",\n  \"rows\": 3,\n  \"fields\": [\n    {\n      \"column\": \"event_type\",\n      \"properties\": {\n        \"dtype\": \"string\",\n        \"num_unique_values\": 3,\n        \"samples\": [\n          \"view\",\n          \"cart\",\n          \"purchase\"\n        ],\n        \"semantic_type\": \"\",\n        \"description\": \"\"\n      }\n    },\n    {\n      \"column\": \"users\",\n      \"properties\": {\n        \"dtype\": \"number\",\n        \"std\": 618841,\n        \"min\": 53250,\n        \"max\": 1168441,\n        \"num_unique_values\": 3,\n        \"samples\": [\n          1168441,\n          145921,\n          53250\n        ],\n        \"semantic_type\": \"\",\n        \"description\": \"\"\n      }\n    },\n    {\n      \"column\": \"conversion_rate(%)\",\n      \"properties\": {\n        \"dtype\": \"number\",\n        \"std\": 16.9732692493787,\n        \"min\": 12.488521029303149,\n        \"max\": 36.49234859958471,\n        \"num_unique_values\": 2,\n        \"samples\": [\n          36.49234859958471,\n          12.488521029303149\n        ],\n        \"semantic_type\": \"\",\n        \"description\": \"\"\n      }\n    },\n    {\n      \"column\": \"churn_rate(%)\",\n      \"properties\": {\n        \"dtype\": \"number\",\n        \"std\": 16.973269249378703,\n        \"min\": 63.50765140041529,\n        \"max\": 87.51147897069686,\n        \"num_unique_values\": 2,\n        \"samples\": [\n          63.50765140041529,\n          87.51147897069686\n        ],\n        \"semantic_type\": \"\",\n        \"description\": \"\"\n      }\n    }\n  ]\n}"
            }
          },
          "metadata": {},
          "execution_count": 40
        }
      ]
    },
    {
      "cell_type": "markdown",
      "source": [
        "About 88% drop off between the view and cart steps, and roughly 64% drop off between the cart and purchase stages."
      ],
      "metadata": {
        "id": "wtTnd3PJgq5_"
      }
    },
    {
      "cell_type": "code",
      "source": [
        "# Relative conversion rate (vs. total 'view' users)\n",
        "user_cnt['conversion_rate_total'] = user_cnt['users'] / user_cnt.iloc[0, 1]\n",
        "\n",
        "# Funnel chart of total conversion\n",
        "fig = px.funnel(user_cnt, x='conversion_rate_total', y='event_type', hover_data={'conversion_rate_total': ':.2%'},\n",
        "                color_discrete_sequence=px.colors.sequential.Plasma)\n",
        "fig.update_traces(marker_line_color='darkgray', marker_line_width=2,\n",
        "                  textinfo='label+value', opacity=0.9, texttemplate=\"%{value:.2%}\")\n",
        "fig.update_layout(width=800,height=500, plot_bgcolor='#fffaf0', title='Funnel Analysis', font=dict(size=13))\n",
        "fig.show()"
      ],
      "metadata": {
        "colab": {
          "base_uri": "https://localhost:8080/",
          "height": 517
        },
        "id": "VYqfNQz2HO5T",
        "outputId": "4fdfeb20-aa49-4cdb-8422-9c2d7e7b7d6a"
      },
      "execution_count": 41,
      "outputs": [
        {
          "output_type": "display_data",
          "data": {
            "application/vnd.plotly.v1+json": {
              "data": [
                {
                  "hovertemplate": "conversion_rate_total=%{x:.2%}<br>event_type=%{y}<extra></extra>",
                  "legendgroup": "",
                  "marker": {
                    "color": "#0d0887",
                    "line": {
                      "color": "darkgray",
                      "width": 2
                    }
                  },
                  "name": "",
                  "orientation": "h",
                  "showlegend": false,
                  "x": {
                    "dtype": "f8",
                    "bdata": "AAAAAAAA8D9qcPYlevi/Pxp+wHVqVac/"
                  },
                  "xaxis": "x",
                  "y": [
                    "view",
                    "cart",
                    "purchase"
                  ],
                  "yaxis": "y",
                  "type": "funnel",
                  "opacity": 0.9,
                  "textinfo": "label+value",
                  "texttemplate": "%{value:.2%}"
                }
              ],
              "layout": {
                "template": {
                  "data": {
                    "histogram2dcontour": [
                      {
                        "type": "histogram2dcontour",
                        "colorbar": {
                          "outlinewidth": 0,
                          "ticks": ""
                        },
                        "colorscale": [
                          [
                            0,
                            "#0d0887"
                          ],
                          [
                            0.1111111111111111,
                            "#46039f"
                          ],
                          [
                            0.2222222222222222,
                            "#7201a8"
                          ],
                          [
                            0.3333333333333333,
                            "#9c179e"
                          ],
                          [
                            0.4444444444444444,
                            "#bd3786"
                          ],
                          [
                            0.5555555555555556,
                            "#d8576b"
                          ],
                          [
                            0.6666666666666666,
                            "#ed7953"
                          ],
                          [
                            0.7777777777777778,
                            "#fb9f3a"
                          ],
                          [
                            0.8888888888888888,
                            "#fdca26"
                          ],
                          [
                            1,
                            "#f0f921"
                          ]
                        ]
                      }
                    ],
                    "choropleth": [
                      {
                        "type": "choropleth",
                        "colorbar": {
                          "outlinewidth": 0,
                          "ticks": ""
                        }
                      }
                    ],
                    "histogram2d": [
                      {
                        "type": "histogram2d",
                        "colorbar": {
                          "outlinewidth": 0,
                          "ticks": ""
                        },
                        "colorscale": [
                          [
                            0,
                            "#0d0887"
                          ],
                          [
                            0.1111111111111111,
                            "#46039f"
                          ],
                          [
                            0.2222222222222222,
                            "#7201a8"
                          ],
                          [
                            0.3333333333333333,
                            "#9c179e"
                          ],
                          [
                            0.4444444444444444,
                            "#bd3786"
                          ],
                          [
                            0.5555555555555556,
                            "#d8576b"
                          ],
                          [
                            0.6666666666666666,
                            "#ed7953"
                          ],
                          [
                            0.7777777777777778,
                            "#fb9f3a"
                          ],
                          [
                            0.8888888888888888,
                            "#fdca26"
                          ],
                          [
                            1,
                            "#f0f921"
                          ]
                        ]
                      }
                    ],
                    "heatmap": [
                      {
                        "type": "heatmap",
                        "colorbar": {
                          "outlinewidth": 0,
                          "ticks": ""
                        },
                        "colorscale": [
                          [
                            0,
                            "#0d0887"
                          ],
                          [
                            0.1111111111111111,
                            "#46039f"
                          ],
                          [
                            0.2222222222222222,
                            "#7201a8"
                          ],
                          [
                            0.3333333333333333,
                            "#9c179e"
                          ],
                          [
                            0.4444444444444444,
                            "#bd3786"
                          ],
                          [
                            0.5555555555555556,
                            "#d8576b"
                          ],
                          [
                            0.6666666666666666,
                            "#ed7953"
                          ],
                          [
                            0.7777777777777778,
                            "#fb9f3a"
                          ],
                          [
                            0.8888888888888888,
                            "#fdca26"
                          ],
                          [
                            1,
                            "#f0f921"
                          ]
                        ]
                      }
                    ],
                    "contourcarpet": [
                      {
                        "type": "contourcarpet",
                        "colorbar": {
                          "outlinewidth": 0,
                          "ticks": ""
                        }
                      }
                    ],
                    "contour": [
                      {
                        "type": "contour",
                        "colorbar": {
                          "outlinewidth": 0,
                          "ticks": ""
                        },
                        "colorscale": [
                          [
                            0,
                            "#0d0887"
                          ],
                          [
                            0.1111111111111111,
                            "#46039f"
                          ],
                          [
                            0.2222222222222222,
                            "#7201a8"
                          ],
                          [
                            0.3333333333333333,
                            "#9c179e"
                          ],
                          [
                            0.4444444444444444,
                            "#bd3786"
                          ],
                          [
                            0.5555555555555556,
                            "#d8576b"
                          ],
                          [
                            0.6666666666666666,
                            "#ed7953"
                          ],
                          [
                            0.7777777777777778,
                            "#fb9f3a"
                          ],
                          [
                            0.8888888888888888,
                            "#fdca26"
                          ],
                          [
                            1,
                            "#f0f921"
                          ]
                        ]
                      }
                    ],
                    "surface": [
                      {
                        "type": "surface",
                        "colorbar": {
                          "outlinewidth": 0,
                          "ticks": ""
                        },
                        "colorscale": [
                          [
                            0,
                            "#0d0887"
                          ],
                          [
                            0.1111111111111111,
                            "#46039f"
                          ],
                          [
                            0.2222222222222222,
                            "#7201a8"
                          ],
                          [
                            0.3333333333333333,
                            "#9c179e"
                          ],
                          [
                            0.4444444444444444,
                            "#bd3786"
                          ],
                          [
                            0.5555555555555556,
                            "#d8576b"
                          ],
                          [
                            0.6666666666666666,
                            "#ed7953"
                          ],
                          [
                            0.7777777777777778,
                            "#fb9f3a"
                          ],
                          [
                            0.8888888888888888,
                            "#fdca26"
                          ],
                          [
                            1,
                            "#f0f921"
                          ]
                        ]
                      }
                    ],
                    "mesh3d": [
                      {
                        "type": "mesh3d",
                        "colorbar": {
                          "outlinewidth": 0,
                          "ticks": ""
                        }
                      }
                    ],
                    "scatter": [
                      {
                        "fillpattern": {
                          "fillmode": "overlay",
                          "size": 10,
                          "solidity": 0.2
                        },
                        "type": "scatter"
                      }
                    ],
                    "parcoords": [
                      {
                        "type": "parcoords",
                        "line": {
                          "colorbar": {
                            "outlinewidth": 0,
                            "ticks": ""
                          }
                        }
                      }
                    ],
                    "scatterpolargl": [
                      {
                        "type": "scatterpolargl",
                        "marker": {
                          "colorbar": {
                            "outlinewidth": 0,
                            "ticks": ""
                          }
                        }
                      }
                    ],
                    "bar": [
                      {
                        "error_x": {
                          "color": "#2a3f5f"
                        },
                        "error_y": {
                          "color": "#2a3f5f"
                        },
                        "marker": {
                          "line": {
                            "color": "#E5ECF6",
                            "width": 0.5
                          },
                          "pattern": {
                            "fillmode": "overlay",
                            "size": 10,
                            "solidity": 0.2
                          }
                        },
                        "type": "bar"
                      }
                    ],
                    "scattergeo": [
                      {
                        "type": "scattergeo",
                        "marker": {
                          "colorbar": {
                            "outlinewidth": 0,
                            "ticks": ""
                          }
                        }
                      }
                    ],
                    "scatterpolar": [
                      {
                        "type": "scatterpolar",
                        "marker": {
                          "colorbar": {
                            "outlinewidth": 0,
                            "ticks": ""
                          }
                        }
                      }
                    ],
                    "histogram": [
                      {
                        "marker": {
                          "pattern": {
                            "fillmode": "overlay",
                            "size": 10,
                            "solidity": 0.2
                          }
                        },
                        "type": "histogram"
                      }
                    ],
                    "scattergl": [
                      {
                        "type": "scattergl",
                        "marker": {
                          "colorbar": {
                            "outlinewidth": 0,
                            "ticks": ""
                          }
                        }
                      }
                    ],
                    "scatter3d": [
                      {
                        "type": "scatter3d",
                        "line": {
                          "colorbar": {
                            "outlinewidth": 0,
                            "ticks": ""
                          }
                        },
                        "marker": {
                          "colorbar": {
                            "outlinewidth": 0,
                            "ticks": ""
                          }
                        }
                      }
                    ],
                    "scattermap": [
                      {
                        "type": "scattermap",
                        "marker": {
                          "colorbar": {
                            "outlinewidth": 0,
                            "ticks": ""
                          }
                        }
                      }
                    ],
                    "scattermapbox": [
                      {
                        "type": "scattermapbox",
                        "marker": {
                          "colorbar": {
                            "outlinewidth": 0,
                            "ticks": ""
                          }
                        }
                      }
                    ],
                    "scatterternary": [
                      {
                        "type": "scatterternary",
                        "marker": {
                          "colorbar": {
                            "outlinewidth": 0,
                            "ticks": ""
                          }
                        }
                      }
                    ],
                    "scattercarpet": [
                      {
                        "type": "scattercarpet",
                        "marker": {
                          "colorbar": {
                            "outlinewidth": 0,
                            "ticks": ""
                          }
                        }
                      }
                    ],
                    "carpet": [
                      {
                        "aaxis": {
                          "endlinecolor": "#2a3f5f",
                          "gridcolor": "white",
                          "linecolor": "white",
                          "minorgridcolor": "white",
                          "startlinecolor": "#2a3f5f"
                        },
                        "baxis": {
                          "endlinecolor": "#2a3f5f",
                          "gridcolor": "white",
                          "linecolor": "white",
                          "minorgridcolor": "white",
                          "startlinecolor": "#2a3f5f"
                        },
                        "type": "carpet"
                      }
                    ],
                    "table": [
                      {
                        "cells": {
                          "fill": {
                            "color": "#EBF0F8"
                          },
                          "line": {
                            "color": "white"
                          }
                        },
                        "header": {
                          "fill": {
                            "color": "#C8D4E3"
                          },
                          "line": {
                            "color": "white"
                          }
                        },
                        "type": "table"
                      }
                    ],
                    "barpolar": [
                      {
                        "marker": {
                          "line": {
                            "color": "#E5ECF6",
                            "width": 0.5
                          },
                          "pattern": {
                            "fillmode": "overlay",
                            "size": 10,
                            "solidity": 0.2
                          }
                        },
                        "type": "barpolar"
                      }
                    ],
                    "pie": [
                      {
                        "automargin": true,
                        "type": "pie"
                      }
                    ]
                  },
                  "layout": {
                    "autotypenumbers": "strict",
                    "colorway": [
                      "#636efa",
                      "#EF553B",
                      "#00cc96",
                      "#ab63fa",
                      "#FFA15A",
                      "#19d3f3",
                      "#FF6692",
                      "#B6E880",
                      "#FF97FF",
                      "#FECB52"
                    ],
                    "font": {
                      "color": "#2a3f5f"
                    },
                    "hovermode": "closest",
                    "hoverlabel": {
                      "align": "left"
                    },
                    "paper_bgcolor": "white",
                    "plot_bgcolor": "#E5ECF6",
                    "polar": {
                      "bgcolor": "#E5ECF6",
                      "angularaxis": {
                        "gridcolor": "white",
                        "linecolor": "white",
                        "ticks": ""
                      },
                      "radialaxis": {
                        "gridcolor": "white",
                        "linecolor": "white",
                        "ticks": ""
                      }
                    },
                    "ternary": {
                      "bgcolor": "#E5ECF6",
                      "aaxis": {
                        "gridcolor": "white",
                        "linecolor": "white",
                        "ticks": ""
                      },
                      "baxis": {
                        "gridcolor": "white",
                        "linecolor": "white",
                        "ticks": ""
                      },
                      "caxis": {
                        "gridcolor": "white",
                        "linecolor": "white",
                        "ticks": ""
                      }
                    },
                    "coloraxis": {
                      "colorbar": {
                        "outlinewidth": 0,
                        "ticks": ""
                      }
                    },
                    "colorscale": {
                      "sequential": [
                        [
                          0,
                          "#0d0887"
                        ],
                        [
                          0.1111111111111111,
                          "#46039f"
                        ],
                        [
                          0.2222222222222222,
                          "#7201a8"
                        ],
                        [
                          0.3333333333333333,
                          "#9c179e"
                        ],
                        [
                          0.4444444444444444,
                          "#bd3786"
                        ],
                        [
                          0.5555555555555556,
                          "#d8576b"
                        ],
                        [
                          0.6666666666666666,
                          "#ed7953"
                        ],
                        [
                          0.7777777777777778,
                          "#fb9f3a"
                        ],
                        [
                          0.8888888888888888,
                          "#fdca26"
                        ],
                        [
                          1,
                          "#f0f921"
                        ]
                      ],
                      "sequentialminus": [
                        [
                          0,
                          "#0d0887"
                        ],
                        [
                          0.1111111111111111,
                          "#46039f"
                        ],
                        [
                          0.2222222222222222,
                          "#7201a8"
                        ],
                        [
                          0.3333333333333333,
                          "#9c179e"
                        ],
                        [
                          0.4444444444444444,
                          "#bd3786"
                        ],
                        [
                          0.5555555555555556,
                          "#d8576b"
                        ],
                        [
                          0.6666666666666666,
                          "#ed7953"
                        ],
                        [
                          0.7777777777777778,
                          "#fb9f3a"
                        ],
                        [
                          0.8888888888888888,
                          "#fdca26"
                        ],
                        [
                          1,
                          "#f0f921"
                        ]
                      ],
                      "diverging": [
                        [
                          0,
                          "#8e0152"
                        ],
                        [
                          0.1,
                          "#c51b7d"
                        ],
                        [
                          0.2,
                          "#de77ae"
                        ],
                        [
                          0.3,
                          "#f1b6da"
                        ],
                        [
                          0.4,
                          "#fde0ef"
                        ],
                        [
                          0.5,
                          "#f7f7f7"
                        ],
                        [
                          0.6,
                          "#e6f5d0"
                        ],
                        [
                          0.7,
                          "#b8e186"
                        ],
                        [
                          0.8,
                          "#7fbc41"
                        ],
                        [
                          0.9,
                          "#4d9221"
                        ],
                        [
                          1,
                          "#276419"
                        ]
                      ]
                    },
                    "xaxis": {
                      "gridcolor": "white",
                      "linecolor": "white",
                      "ticks": "",
                      "title": {
                        "standoff": 15
                      },
                      "zerolinecolor": "white",
                      "automargin": true,
                      "zerolinewidth": 2
                    },
                    "yaxis": {
                      "gridcolor": "white",
                      "linecolor": "white",
                      "ticks": "",
                      "title": {
                        "standoff": 15
                      },
                      "zerolinecolor": "white",
                      "automargin": true,
                      "zerolinewidth": 2
                    },
                    "scene": {
                      "xaxis": {
                        "backgroundcolor": "#E5ECF6",
                        "gridcolor": "white",
                        "linecolor": "white",
                        "showbackground": true,
                        "ticks": "",
                        "zerolinecolor": "white",
                        "gridwidth": 2
                      },
                      "yaxis": {
                        "backgroundcolor": "#E5ECF6",
                        "gridcolor": "white",
                        "linecolor": "white",
                        "showbackground": true,
                        "ticks": "",
                        "zerolinecolor": "white",
                        "gridwidth": 2
                      },
                      "zaxis": {
                        "backgroundcolor": "#E5ECF6",
                        "gridcolor": "white",
                        "linecolor": "white",
                        "showbackground": true,
                        "ticks": "",
                        "zerolinecolor": "white",
                        "gridwidth": 2
                      }
                    },
                    "shapedefaults": {
                      "line": {
                        "color": "#2a3f5f"
                      }
                    },
                    "annotationdefaults": {
                      "arrowcolor": "#2a3f5f",
                      "arrowhead": 0,
                      "arrowwidth": 1
                    },
                    "geo": {
                      "bgcolor": "white",
                      "landcolor": "#E5ECF6",
                      "subunitcolor": "white",
                      "showland": true,
                      "showlakes": true,
                      "lakecolor": "white"
                    },
                    "title": {
                      "x": 0.05
                    },
                    "mapbox": {
                      "style": "light"
                    }
                  }
                },
                "xaxis": {
                  "anchor": "y",
                  "domain": [
                    0,
                    1
                  ],
                  "title": {
                    "text": "conversion_rate_total"
                  }
                },
                "yaxis": {
                  "anchor": "x",
                  "domain": [
                    0,
                    1
                  ],
                  "title": {
                    "text": "event_type"
                  }
                },
                "legend": {
                  "tracegroupgap": 0
                },
                "margin": {
                  "t": 60
                },
                "font": {
                  "size": 13
                },
                "width": 800,
                "height": 500,
                "plot_bgcolor": "#fffaf0",
                "title": {
                  "text": "Funnel Analysis"
                }
              },
              "config": {
                "plotlyServerURL": "https://plot.ly"
              }
            },
            "text/html": [
              "<div>            <script src=\"https://cdnjs.cloudflare.com/ajax/libs/mathjax/2.7.5/MathJax.js?config=TeX-AMS-MML_SVG\"></script><script type=\"text/javascript\">if (window.MathJax && window.MathJax.Hub && window.MathJax.Hub.Config) {window.MathJax.Hub.Config({SVG: {font: \"STIX-Web\"}});}</script>                <script type=\"text/javascript\">window.PlotlyConfig = {MathJaxConfig: 'local'};</script>\n",
              "        <script charset=\"utf-8\" src=\"https://cdn.plot.ly/plotly-3.0.1.min.js\" integrity=\"sha256-oy6Be7Eh6eiQFs5M7oXuPxxm9qbJXEtTpfSI93dW16Q=\" crossorigin=\"anonymous\"></script>                <div id=\"1580a9d7-772b-4e86-9333-a601529a1db9\" class=\"plotly-graph-div\" style=\"height:500px; width:800px;\"></div>            <script type=\"text/javascript\">                window.PLOTLYENV=window.PLOTLYENV || {};                                if (document.getElementById(\"1580a9d7-772b-4e86-9333-a601529a1db9\")) {                    Plotly.newPlot(                        \"1580a9d7-772b-4e86-9333-a601529a1db9\",                        [{\"hovertemplate\":\"conversion_rate_total=%{x:.2%}\\u003cbr\\u003eevent_type=%{y}\\u003cextra\\u003e\\u003c\\u002fextra\\u003e\",\"legendgroup\":\"\",\"marker\":{\"color\":\"#0d0887\",\"line\":{\"color\":\"darkgray\",\"width\":2}},\"name\":\"\",\"orientation\":\"h\",\"showlegend\":false,\"x\":{\"dtype\":\"f8\",\"bdata\":\"AAAAAAAA8D9qcPYlevi\\u002fPxp+wHVqVac\\u002f\"},\"xaxis\":\"x\",\"y\":[\"view\",\"cart\",\"purchase\"],\"yaxis\":\"y\",\"type\":\"funnel\",\"opacity\":0.9,\"textinfo\":\"label+value\",\"texttemplate\":\"%{value:.2%}\"}],                        {\"template\":{\"data\":{\"histogram2dcontour\":[{\"type\":\"histogram2dcontour\",\"colorbar\":{\"outlinewidth\":0,\"ticks\":\"\"},\"colorscale\":[[0.0,\"#0d0887\"],[0.1111111111111111,\"#46039f\"],[0.2222222222222222,\"#7201a8\"],[0.3333333333333333,\"#9c179e\"],[0.4444444444444444,\"#bd3786\"],[0.5555555555555556,\"#d8576b\"],[0.6666666666666666,\"#ed7953\"],[0.7777777777777778,\"#fb9f3a\"],[0.8888888888888888,\"#fdca26\"],[1.0,\"#f0f921\"]]}],\"choropleth\":[{\"type\":\"choropleth\",\"colorbar\":{\"outlinewidth\":0,\"ticks\":\"\"}}],\"histogram2d\":[{\"type\":\"histogram2d\",\"colorbar\":{\"outlinewidth\":0,\"ticks\":\"\"},\"colorscale\":[[0.0,\"#0d0887\"],[0.1111111111111111,\"#46039f\"],[0.2222222222222222,\"#7201a8\"],[0.3333333333333333,\"#9c179e\"],[0.4444444444444444,\"#bd3786\"],[0.5555555555555556,\"#d8576b\"],[0.6666666666666666,\"#ed7953\"],[0.7777777777777778,\"#fb9f3a\"],[0.8888888888888888,\"#fdca26\"],[1.0,\"#f0f921\"]]}],\"heatmap\":[{\"type\":\"heatmap\",\"colorbar\":{\"outlinewidth\":0,\"ticks\":\"\"},\"colorscale\":[[0.0,\"#0d0887\"],[0.1111111111111111,\"#46039f\"],[0.2222222222222222,\"#7201a8\"],[0.3333333333333333,\"#9c179e\"],[0.4444444444444444,\"#bd3786\"],[0.5555555555555556,\"#d8576b\"],[0.6666666666666666,\"#ed7953\"],[0.7777777777777778,\"#fb9f3a\"],[0.8888888888888888,\"#fdca26\"],[1.0,\"#f0f921\"]]}],\"contourcarpet\":[{\"type\":\"contourcarpet\",\"colorbar\":{\"outlinewidth\":0,\"ticks\":\"\"}}],\"contour\":[{\"type\":\"contour\",\"colorbar\":{\"outlinewidth\":0,\"ticks\":\"\"},\"colorscale\":[[0.0,\"#0d0887\"],[0.1111111111111111,\"#46039f\"],[0.2222222222222222,\"#7201a8\"],[0.3333333333333333,\"#9c179e\"],[0.4444444444444444,\"#bd3786\"],[0.5555555555555556,\"#d8576b\"],[0.6666666666666666,\"#ed7953\"],[0.7777777777777778,\"#fb9f3a\"],[0.8888888888888888,\"#fdca26\"],[1.0,\"#f0f921\"]]}],\"surface\":[{\"type\":\"surface\",\"colorbar\":{\"outlinewidth\":0,\"ticks\":\"\"},\"colorscale\":[[0.0,\"#0d0887\"],[0.1111111111111111,\"#46039f\"],[0.2222222222222222,\"#7201a8\"],[0.3333333333333333,\"#9c179e\"],[0.4444444444444444,\"#bd3786\"],[0.5555555555555556,\"#d8576b\"],[0.6666666666666666,\"#ed7953\"],[0.7777777777777778,\"#fb9f3a\"],[0.8888888888888888,\"#fdca26\"],[1.0,\"#f0f921\"]]}],\"mesh3d\":[{\"type\":\"mesh3d\",\"colorbar\":{\"outlinewidth\":0,\"ticks\":\"\"}}],\"scatter\":[{\"fillpattern\":{\"fillmode\":\"overlay\",\"size\":10,\"solidity\":0.2},\"type\":\"scatter\"}],\"parcoords\":[{\"type\":\"parcoords\",\"line\":{\"colorbar\":{\"outlinewidth\":0,\"ticks\":\"\"}}}],\"scatterpolargl\":[{\"type\":\"scatterpolargl\",\"marker\":{\"colorbar\":{\"outlinewidth\":0,\"ticks\":\"\"}}}],\"bar\":[{\"error_x\":{\"color\":\"#2a3f5f\"},\"error_y\":{\"color\":\"#2a3f5f\"},\"marker\":{\"line\":{\"color\":\"#E5ECF6\",\"width\":0.5},\"pattern\":{\"fillmode\":\"overlay\",\"size\":10,\"solidity\":0.2}},\"type\":\"bar\"}],\"scattergeo\":[{\"type\":\"scattergeo\",\"marker\":{\"colorbar\":{\"outlinewidth\":0,\"ticks\":\"\"}}}],\"scatterpolar\":[{\"type\":\"scatterpolar\",\"marker\":{\"colorbar\":{\"outlinewidth\":0,\"ticks\":\"\"}}}],\"histogram\":[{\"marker\":{\"pattern\":{\"fillmode\":\"overlay\",\"size\":10,\"solidity\":0.2}},\"type\":\"histogram\"}],\"scattergl\":[{\"type\":\"scattergl\",\"marker\":{\"colorbar\":{\"outlinewidth\":0,\"ticks\":\"\"}}}],\"scatter3d\":[{\"type\":\"scatter3d\",\"line\":{\"colorbar\":{\"outlinewidth\":0,\"ticks\":\"\"}},\"marker\":{\"colorbar\":{\"outlinewidth\":0,\"ticks\":\"\"}}}],\"scattermap\":[{\"type\":\"scattermap\",\"marker\":{\"colorbar\":{\"outlinewidth\":0,\"ticks\":\"\"}}}],\"scattermapbox\":[{\"type\":\"scattermapbox\",\"marker\":{\"colorbar\":{\"outlinewidth\":0,\"ticks\":\"\"}}}],\"scatterternary\":[{\"type\":\"scatterternary\",\"marker\":{\"colorbar\":{\"outlinewidth\":0,\"ticks\":\"\"}}}],\"scattercarpet\":[{\"type\":\"scattercarpet\",\"marker\":{\"colorbar\":{\"outlinewidth\":0,\"ticks\":\"\"}}}],\"carpet\":[{\"aaxis\":{\"endlinecolor\":\"#2a3f5f\",\"gridcolor\":\"white\",\"linecolor\":\"white\",\"minorgridcolor\":\"white\",\"startlinecolor\":\"#2a3f5f\"},\"baxis\":{\"endlinecolor\":\"#2a3f5f\",\"gridcolor\":\"white\",\"linecolor\":\"white\",\"minorgridcolor\":\"white\",\"startlinecolor\":\"#2a3f5f\"},\"type\":\"carpet\"}],\"table\":[{\"cells\":{\"fill\":{\"color\":\"#EBF0F8\"},\"line\":{\"color\":\"white\"}},\"header\":{\"fill\":{\"color\":\"#C8D4E3\"},\"line\":{\"color\":\"white\"}},\"type\":\"table\"}],\"barpolar\":[{\"marker\":{\"line\":{\"color\":\"#E5ECF6\",\"width\":0.5},\"pattern\":{\"fillmode\":\"overlay\",\"size\":10,\"solidity\":0.2}},\"type\":\"barpolar\"}],\"pie\":[{\"automargin\":true,\"type\":\"pie\"}]},\"layout\":{\"autotypenumbers\":\"strict\",\"colorway\":[\"#636efa\",\"#EF553B\",\"#00cc96\",\"#ab63fa\",\"#FFA15A\",\"#19d3f3\",\"#FF6692\",\"#B6E880\",\"#FF97FF\",\"#FECB52\"],\"font\":{\"color\":\"#2a3f5f\"},\"hovermode\":\"closest\",\"hoverlabel\":{\"align\":\"left\"},\"paper_bgcolor\":\"white\",\"plot_bgcolor\":\"#E5ECF6\",\"polar\":{\"bgcolor\":\"#E5ECF6\",\"angularaxis\":{\"gridcolor\":\"white\",\"linecolor\":\"white\",\"ticks\":\"\"},\"radialaxis\":{\"gridcolor\":\"white\",\"linecolor\":\"white\",\"ticks\":\"\"}},\"ternary\":{\"bgcolor\":\"#E5ECF6\",\"aaxis\":{\"gridcolor\":\"white\",\"linecolor\":\"white\",\"ticks\":\"\"},\"baxis\":{\"gridcolor\":\"white\",\"linecolor\":\"white\",\"ticks\":\"\"},\"caxis\":{\"gridcolor\":\"white\",\"linecolor\":\"white\",\"ticks\":\"\"}},\"coloraxis\":{\"colorbar\":{\"outlinewidth\":0,\"ticks\":\"\"}},\"colorscale\":{\"sequential\":[[0.0,\"#0d0887\"],[0.1111111111111111,\"#46039f\"],[0.2222222222222222,\"#7201a8\"],[0.3333333333333333,\"#9c179e\"],[0.4444444444444444,\"#bd3786\"],[0.5555555555555556,\"#d8576b\"],[0.6666666666666666,\"#ed7953\"],[0.7777777777777778,\"#fb9f3a\"],[0.8888888888888888,\"#fdca26\"],[1.0,\"#f0f921\"]],\"sequentialminus\":[[0.0,\"#0d0887\"],[0.1111111111111111,\"#46039f\"],[0.2222222222222222,\"#7201a8\"],[0.3333333333333333,\"#9c179e\"],[0.4444444444444444,\"#bd3786\"],[0.5555555555555556,\"#d8576b\"],[0.6666666666666666,\"#ed7953\"],[0.7777777777777778,\"#fb9f3a\"],[0.8888888888888888,\"#fdca26\"],[1.0,\"#f0f921\"]],\"diverging\":[[0,\"#8e0152\"],[0.1,\"#c51b7d\"],[0.2,\"#de77ae\"],[0.3,\"#f1b6da\"],[0.4,\"#fde0ef\"],[0.5,\"#f7f7f7\"],[0.6,\"#e6f5d0\"],[0.7,\"#b8e186\"],[0.8,\"#7fbc41\"],[0.9,\"#4d9221\"],[1,\"#276419\"]]},\"xaxis\":{\"gridcolor\":\"white\",\"linecolor\":\"white\",\"ticks\":\"\",\"title\":{\"standoff\":15},\"zerolinecolor\":\"white\",\"automargin\":true,\"zerolinewidth\":2},\"yaxis\":{\"gridcolor\":\"white\",\"linecolor\":\"white\",\"ticks\":\"\",\"title\":{\"standoff\":15},\"zerolinecolor\":\"white\",\"automargin\":true,\"zerolinewidth\":2},\"scene\":{\"xaxis\":{\"backgroundcolor\":\"#E5ECF6\",\"gridcolor\":\"white\",\"linecolor\":\"white\",\"showbackground\":true,\"ticks\":\"\",\"zerolinecolor\":\"white\",\"gridwidth\":2},\"yaxis\":{\"backgroundcolor\":\"#E5ECF6\",\"gridcolor\":\"white\",\"linecolor\":\"white\",\"showbackground\":true,\"ticks\":\"\",\"zerolinecolor\":\"white\",\"gridwidth\":2},\"zaxis\":{\"backgroundcolor\":\"#E5ECF6\",\"gridcolor\":\"white\",\"linecolor\":\"white\",\"showbackground\":true,\"ticks\":\"\",\"zerolinecolor\":\"white\",\"gridwidth\":2}},\"shapedefaults\":{\"line\":{\"color\":\"#2a3f5f\"}},\"annotationdefaults\":{\"arrowcolor\":\"#2a3f5f\",\"arrowhead\":0,\"arrowwidth\":1},\"geo\":{\"bgcolor\":\"white\",\"landcolor\":\"#E5ECF6\",\"subunitcolor\":\"white\",\"showland\":true,\"showlakes\":true,\"lakecolor\":\"white\"},\"title\":{\"x\":0.05},\"mapbox\":{\"style\":\"light\"}}},\"xaxis\":{\"anchor\":\"y\",\"domain\":[0.0,1.0],\"title\":{\"text\":\"conversion_rate_total\"}},\"yaxis\":{\"anchor\":\"x\",\"domain\":[0.0,1.0],\"title\":{\"text\":\"event_type\"}},\"legend\":{\"tracegroupgap\":0},\"margin\":{\"t\":60},\"font\":{\"size\":13},\"width\":800,\"height\":500,\"plot_bgcolor\":\"#fffaf0\",\"title\":{\"text\":\"Funnel Analysis\"}},                        {\"responsive\": true}                    ).then(function(){\n",
              "                            \n",
              "var gd = document.getElementById('1580a9d7-772b-4e86-9333-a601529a1db9');\n",
              "var x = new MutationObserver(function (mutations, observer) {{\n",
              "        var display = window.getComputedStyle(gd).display;\n",
              "        if (!display || display === 'none') {{\n",
              "            console.log([gd, 'removed!']);\n",
              "            Plotly.purge(gd);\n",
              "            observer.disconnect();\n",
              "        }}\n",
              "}});\n",
              "\n",
              "// Listen for the removal of the full notebook cells\n",
              "var notebookContainer = gd.closest('#notebook-container');\n",
              "if (notebookContainer) {{\n",
              "    x.observe(notebookContainer, {childList: true});\n",
              "}}\n",
              "\n",
              "// Listen for the clearing of the current output cell\n",
              "var outputEl = gd.closest('.output');\n",
              "if (outputEl) {{\n",
              "    x.observe(outputEl, {childList: true});\n",
              "}}\n",
              "\n",
              "                        })                };            </script>        </div>"
            ]
          },
          "metadata": {}
        }
      ]
    },
    {
      "cell_type": "markdown",
      "source": [
        "In summary, about 12% of users who viewed a product added it to their cart, and only around 5% of product views resulted in a purchase."
      ],
      "metadata": {
        "id": "KuRUqO-Wgzw_"
      }
    },
    {
      "cell_type": "markdown",
      "source": [
        "### **3-2. Analyzing Causes of Drop-off**"
      ],
      "metadata": {
        "id": "cJZeipRbg3hT"
      }
    },
    {
      "cell_type": "markdown",
      "source": [
        "**(1) Analysis by Price Range**"
      ],
      "metadata": {
        "id": "qNg88Nhlg998"
      }
    },
    {
      "cell_type": "code",
      "source": [
        "temp = df[['product_id', 'price']].drop_duplicates()\n",
        "temp['price'].quantile([.25, .5, .75])"
      ],
      "metadata": {
        "colab": {
          "base_uri": "https://localhost:8080/",
          "height": 178
        },
        "id": "9QfTQ0hxc96a",
        "outputId": "d8656bb1-25ed-4122-95da-c0c9d4bc6f18"
      },
      "execution_count": 42,
      "outputs": [
        {
          "output_type": "execute_result",
          "data": {
            "text/plain": [
              "0.25    2.78\n",
              "0.50    4.86\n",
              "0.75    8.41\n",
              "Name: price, dtype: float64"
            ],
            "text/html": [
              "<div>\n",
              "<style scoped>\n",
              "    .dataframe tbody tr th:only-of-type {\n",
              "        vertical-align: middle;\n",
              "    }\n",
              "\n",
              "    .dataframe tbody tr th {\n",
              "        vertical-align: top;\n",
              "    }\n",
              "\n",
              "    .dataframe thead th {\n",
              "        text-align: right;\n",
              "    }\n",
              "</style>\n",
              "<table border=\"1\" class=\"dataframe\">\n",
              "  <thead>\n",
              "    <tr style=\"text-align: right;\">\n",
              "      <th></th>\n",
              "      <th>price</th>\n",
              "    </tr>\n",
              "  </thead>\n",
              "  <tbody>\n",
              "    <tr>\n",
              "      <th>0.25</th>\n",
              "      <td>2.78</td>\n",
              "    </tr>\n",
              "    <tr>\n",
              "      <th>0.50</th>\n",
              "      <td>4.86</td>\n",
              "    </tr>\n",
              "    <tr>\n",
              "      <th>0.75</th>\n",
              "      <td>8.41</td>\n",
              "    </tr>\n",
              "  </tbody>\n",
              "</table>\n",
              "</div><br><label><b>dtype:</b> float64</label>"
            ]
          },
          "metadata": {},
          "execution_count": 42
        }
      ]
    },
    {
      "cell_type": "code",
      "source": [
        "def to_price_bin(p):\n",
        "    if p <= 3: return '~3'\n",
        "    elif p <= 5: return '3~5'\n",
        "    elif p <= 8: return '5~8'\n",
        "    return '8~'\n",
        "\n",
        "df['price_range'] = df['price'].apply(to_price_bin)\n",
        "df[['price', 'price_range']].head()"
      ],
      "metadata": {
        "colab": {
          "base_uri": "https://localhost:8080/",
          "height": 206
        },
        "id": "_tsCwcbpc-D4",
        "outputId": "13f6f9b8-cffd-45c9-ee0a-e5b00d7713c5"
      },
      "execution_count": 43,
      "outputs": [
        {
          "output_type": "execute_result",
          "data": {
            "text/plain": [
              "   price price_range\n",
              "0  25.40          8~\n",
              "1  23.57          8~\n",
              "2   1.90          ~3\n",
              "3  73.02          8~\n",
              "4  73.02          8~"
            ],
            "text/html": [
              "\n",
              "  <div id=\"df-762578fb-171c-4254-b177-e3461f28e81c\" class=\"colab-df-container\">\n",
              "    <div>\n",
              "<style scoped>\n",
              "    .dataframe tbody tr th:only-of-type {\n",
              "        vertical-align: middle;\n",
              "    }\n",
              "\n",
              "    .dataframe tbody tr th {\n",
              "        vertical-align: top;\n",
              "    }\n",
              "\n",
              "    .dataframe thead th {\n",
              "        text-align: right;\n",
              "    }\n",
              "</style>\n",
              "<table border=\"1\" class=\"dataframe\">\n",
              "  <thead>\n",
              "    <tr style=\"text-align: right;\">\n",
              "      <th></th>\n",
              "      <th>price</th>\n",
              "      <th>price_range</th>\n",
              "    </tr>\n",
              "  </thead>\n",
              "  <tbody>\n",
              "    <tr>\n",
              "      <th>0</th>\n",
              "      <td>25.40</td>\n",
              "      <td>8~</td>\n",
              "    </tr>\n",
              "    <tr>\n",
              "      <th>1</th>\n",
              "      <td>23.57</td>\n",
              "      <td>8~</td>\n",
              "    </tr>\n",
              "    <tr>\n",
              "      <th>2</th>\n",
              "      <td>1.90</td>\n",
              "      <td>~3</td>\n",
              "    </tr>\n",
              "    <tr>\n",
              "      <th>3</th>\n",
              "      <td>73.02</td>\n",
              "      <td>8~</td>\n",
              "    </tr>\n",
              "    <tr>\n",
              "      <th>4</th>\n",
              "      <td>73.02</td>\n",
              "      <td>8~</td>\n",
              "    </tr>\n",
              "  </tbody>\n",
              "</table>\n",
              "</div>\n",
              "    <div class=\"colab-df-buttons\">\n",
              "\n",
              "  <div class=\"colab-df-container\">\n",
              "    <button class=\"colab-df-convert\" onclick=\"convertToInteractive('df-762578fb-171c-4254-b177-e3461f28e81c')\"\n",
              "            title=\"Convert this dataframe to an interactive table.\"\n",
              "            style=\"display:none;\">\n",
              "\n",
              "  <svg xmlns=\"http://www.w3.org/2000/svg\" height=\"24px\" viewBox=\"0 -960 960 960\">\n",
              "    <path d=\"M120-120v-720h720v720H120Zm60-500h600v-160H180v160Zm220 220h160v-160H400v160Zm0 220h160v-160H400v160ZM180-400h160v-160H180v160Zm440 0h160v-160H620v160ZM180-180h160v-160H180v160Zm440 0h160v-160H620v160Z\"/>\n",
              "  </svg>\n",
              "    </button>\n",
              "\n",
              "  <style>\n",
              "    .colab-df-container {\n",
              "      display:flex;\n",
              "      gap: 12px;\n",
              "    }\n",
              "\n",
              "    .colab-df-convert {\n",
              "      background-color: #E8F0FE;\n",
              "      border: none;\n",
              "      border-radius: 50%;\n",
              "      cursor: pointer;\n",
              "      display: none;\n",
              "      fill: #1967D2;\n",
              "      height: 32px;\n",
              "      padding: 0 0 0 0;\n",
              "      width: 32px;\n",
              "    }\n",
              "\n",
              "    .colab-df-convert:hover {\n",
              "      background-color: #E2EBFA;\n",
              "      box-shadow: 0px 1px 2px rgba(60, 64, 67, 0.3), 0px 1px 3px 1px rgba(60, 64, 67, 0.15);\n",
              "      fill: #174EA6;\n",
              "    }\n",
              "\n",
              "    .colab-df-buttons div {\n",
              "      margin-bottom: 4px;\n",
              "    }\n",
              "\n",
              "    [theme=dark] .colab-df-convert {\n",
              "      background-color: #3B4455;\n",
              "      fill: #D2E3FC;\n",
              "    }\n",
              "\n",
              "    [theme=dark] .colab-df-convert:hover {\n",
              "      background-color: #434B5C;\n",
              "      box-shadow: 0px 1px 3px 1px rgba(0, 0, 0, 0.15);\n",
              "      filter: drop-shadow(0px 1px 2px rgba(0, 0, 0, 0.3));\n",
              "      fill: #FFFFFF;\n",
              "    }\n",
              "  </style>\n",
              "\n",
              "    <script>\n",
              "      const buttonEl =\n",
              "        document.querySelector('#df-762578fb-171c-4254-b177-e3461f28e81c button.colab-df-convert');\n",
              "      buttonEl.style.display =\n",
              "        google.colab.kernel.accessAllowed ? 'block' : 'none';\n",
              "\n",
              "      async function convertToInteractive(key) {\n",
              "        const element = document.querySelector('#df-762578fb-171c-4254-b177-e3461f28e81c');\n",
              "        const dataTable =\n",
              "          await google.colab.kernel.invokeFunction('convertToInteractive',\n",
              "                                                    [key], {});\n",
              "        if (!dataTable) return;\n",
              "\n",
              "        const docLinkHtml = 'Like what you see? Visit the ' +\n",
              "          '<a target=\"_blank\" href=https://colab.research.google.com/notebooks/data_table.ipynb>data table notebook</a>'\n",
              "          + ' to learn more about interactive tables.';\n",
              "        element.innerHTML = '';\n",
              "        dataTable['output_type'] = 'display_data';\n",
              "        await google.colab.output.renderOutput(dataTable, element);\n",
              "        const docLink = document.createElement('div');\n",
              "        docLink.innerHTML = docLinkHtml;\n",
              "        element.appendChild(docLink);\n",
              "      }\n",
              "    </script>\n",
              "  </div>\n",
              "\n",
              "\n",
              "    <div id=\"df-1e8b2c2f-d1ac-4758-806b-b2ee5090f931\">\n",
              "      <button class=\"colab-df-quickchart\" onclick=\"quickchart('df-1e8b2c2f-d1ac-4758-806b-b2ee5090f931')\"\n",
              "                title=\"Suggest charts\"\n",
              "                style=\"display:none;\">\n",
              "\n",
              "<svg xmlns=\"http://www.w3.org/2000/svg\" height=\"24px\"viewBox=\"0 0 24 24\"\n",
              "     width=\"24px\">\n",
              "    <g>\n",
              "        <path d=\"M19 3H5c-1.1 0-2 .9-2 2v14c0 1.1.9 2 2 2h14c1.1 0 2-.9 2-2V5c0-1.1-.9-2-2-2zM9 17H7v-7h2v7zm4 0h-2V7h2v10zm4 0h-2v-4h2v4z\"/>\n",
              "    </g>\n",
              "</svg>\n",
              "      </button>\n",
              "\n",
              "<style>\n",
              "  .colab-df-quickchart {\n",
              "      --bg-color: #E8F0FE;\n",
              "      --fill-color: #1967D2;\n",
              "      --hover-bg-color: #E2EBFA;\n",
              "      --hover-fill-color: #174EA6;\n",
              "      --disabled-fill-color: #AAA;\n",
              "      --disabled-bg-color: #DDD;\n",
              "  }\n",
              "\n",
              "  [theme=dark] .colab-df-quickchart {\n",
              "      --bg-color: #3B4455;\n",
              "      --fill-color: #D2E3FC;\n",
              "      --hover-bg-color: #434B5C;\n",
              "      --hover-fill-color: #FFFFFF;\n",
              "      --disabled-bg-color: #3B4455;\n",
              "      --disabled-fill-color: #666;\n",
              "  }\n",
              "\n",
              "  .colab-df-quickchart {\n",
              "    background-color: var(--bg-color);\n",
              "    border: none;\n",
              "    border-radius: 50%;\n",
              "    cursor: pointer;\n",
              "    display: none;\n",
              "    fill: var(--fill-color);\n",
              "    height: 32px;\n",
              "    padding: 0;\n",
              "    width: 32px;\n",
              "  }\n",
              "\n",
              "  .colab-df-quickchart:hover {\n",
              "    background-color: var(--hover-bg-color);\n",
              "    box-shadow: 0 1px 2px rgba(60, 64, 67, 0.3), 0 1px 3px 1px rgba(60, 64, 67, 0.15);\n",
              "    fill: var(--button-hover-fill-color);\n",
              "  }\n",
              "\n",
              "  .colab-df-quickchart-complete:disabled,\n",
              "  .colab-df-quickchart-complete:disabled:hover {\n",
              "    background-color: var(--disabled-bg-color);\n",
              "    fill: var(--disabled-fill-color);\n",
              "    box-shadow: none;\n",
              "  }\n",
              "\n",
              "  .colab-df-spinner {\n",
              "    border: 2px solid var(--fill-color);\n",
              "    border-color: transparent;\n",
              "    border-bottom-color: var(--fill-color);\n",
              "    animation:\n",
              "      spin 1s steps(1) infinite;\n",
              "  }\n",
              "\n",
              "  @keyframes spin {\n",
              "    0% {\n",
              "      border-color: transparent;\n",
              "      border-bottom-color: var(--fill-color);\n",
              "      border-left-color: var(--fill-color);\n",
              "    }\n",
              "    20% {\n",
              "      border-color: transparent;\n",
              "      border-left-color: var(--fill-color);\n",
              "      border-top-color: var(--fill-color);\n",
              "    }\n",
              "    30% {\n",
              "      border-color: transparent;\n",
              "      border-left-color: var(--fill-color);\n",
              "      border-top-color: var(--fill-color);\n",
              "      border-right-color: var(--fill-color);\n",
              "    }\n",
              "    40% {\n",
              "      border-color: transparent;\n",
              "      border-right-color: var(--fill-color);\n",
              "      border-top-color: var(--fill-color);\n",
              "    }\n",
              "    60% {\n",
              "      border-color: transparent;\n",
              "      border-right-color: var(--fill-color);\n",
              "    }\n",
              "    80% {\n",
              "      border-color: transparent;\n",
              "      border-right-color: var(--fill-color);\n",
              "      border-bottom-color: var(--fill-color);\n",
              "    }\n",
              "    90% {\n",
              "      border-color: transparent;\n",
              "      border-bottom-color: var(--fill-color);\n",
              "    }\n",
              "  }\n",
              "</style>\n",
              "\n",
              "      <script>\n",
              "        async function quickchart(key) {\n",
              "          const quickchartButtonEl =\n",
              "            document.querySelector('#' + key + ' button');\n",
              "          quickchartButtonEl.disabled = true;  // To prevent multiple clicks.\n",
              "          quickchartButtonEl.classList.add('colab-df-spinner');\n",
              "          try {\n",
              "            const charts = await google.colab.kernel.invokeFunction(\n",
              "                'suggestCharts', [key], {});\n",
              "          } catch (error) {\n",
              "            console.error('Error during call to suggestCharts:', error);\n",
              "          }\n",
              "          quickchartButtonEl.classList.remove('colab-df-spinner');\n",
              "          quickchartButtonEl.classList.add('colab-df-quickchart-complete');\n",
              "        }\n",
              "        (() => {\n",
              "          let quickchartButtonEl =\n",
              "            document.querySelector('#df-1e8b2c2f-d1ac-4758-806b-b2ee5090f931 button');\n",
              "          quickchartButtonEl.style.display =\n",
              "            google.colab.kernel.accessAllowed ? 'block' : 'none';\n",
              "        })();\n",
              "      </script>\n",
              "    </div>\n",
              "\n",
              "    </div>\n",
              "  </div>\n"
            ],
            "application/vnd.google.colaboratory.intrinsic+json": {
              "type": "dataframe",
              "summary": "{\n  \"name\": \"df[['price', 'price_range']]\",\n  \"rows\": 5,\n  \"fields\": [\n    {\n      \"column\": \"price\",\n      \"properties\": {\n        \"dtype\": \"number\",\n        \"std\": 32.06807633769135,\n        \"min\": 1.9,\n        \"max\": 73.02,\n        \"num_unique_values\": 4,\n        \"samples\": [\n          23.57,\n          73.02,\n          25.4\n        ],\n        \"semantic_type\": \"\",\n        \"description\": \"\"\n      }\n    },\n    {\n      \"column\": \"price_range\",\n      \"properties\": {\n        \"dtype\": \"category\",\n        \"num_unique_values\": 2,\n        \"samples\": [\n          \"~3\",\n          \"8~\"\n        ],\n        \"semantic_type\": \"\",\n        \"description\": \"\"\n      }\n    }\n  ]\n}"
            }
          },
          "metadata": {},
          "execution_count": 43
        }
      ]
    },
    {
      "cell_type": "code",
      "source": [
        "# Unique user count by price group, event, product\n",
        "price_funnel = df.groupby(['price_range', 'event_type', 'product_id'])['user_id'].nunique()\n",
        "price_funnel = price_funnel.groupby(['price_range', 'event_type']).sum().reset_index()\n",
        "\n",
        "# Rename\n",
        "price_funnel = price_funnel.rename(columns={'user_id': 'users'})\n",
        "price_funnel = price_funnel[price_funnel['event_type'] != 'remove_from_cart']\n",
        "\n",
        "# Order steps in each price group\n",
        "price_funnel = price_funnel.groupby('price_range').apply(\n",
        "    lambda z: z.sort_values('users', ascending=False)).reset_index(drop=True)\n",
        "price_funnel"
      ],
      "metadata": {
        "colab": {
          "base_uri": "https://localhost:8080/",
          "height": 426
        },
        "id": "kdGPtYlIZBpA",
        "outputId": "c5186a5e-2a38-4132-cd95-bbb23cf8c09d"
      },
      "execution_count": 44,
      "outputs": [
        {
          "output_type": "execute_result",
          "data": {
            "text/plain": [
              "   price_range event_type   users\n",
              "0          3~5       view  237058\n",
              "1          3~5       cart   33321\n",
              "2          3~5   purchase   11685\n",
              "3          5~8       view  238430\n",
              "4          5~8       cart   31101\n",
              "5          5~8   purchase   10586\n",
              "6           8~       view  376831\n",
              "7           8~       cart   31728\n",
              "8           8~   purchase   11138\n",
              "9           ~3       view  316323\n",
              "10          ~3       cart   49778\n",
              "11          ~3   purchase   19841"
            ],
            "text/html": [
              "\n",
              "  <div id=\"df-651ebd5f-d710-4498-833d-5d6937494d8b\" class=\"colab-df-container\">\n",
              "    <div>\n",
              "<style scoped>\n",
              "    .dataframe tbody tr th:only-of-type {\n",
              "        vertical-align: middle;\n",
              "    }\n",
              "\n",
              "    .dataframe tbody tr th {\n",
              "        vertical-align: top;\n",
              "    }\n",
              "\n",
              "    .dataframe thead th {\n",
              "        text-align: right;\n",
              "    }\n",
              "</style>\n",
              "<table border=\"1\" class=\"dataframe\">\n",
              "  <thead>\n",
              "    <tr style=\"text-align: right;\">\n",
              "      <th></th>\n",
              "      <th>price_range</th>\n",
              "      <th>event_type</th>\n",
              "      <th>users</th>\n",
              "    </tr>\n",
              "  </thead>\n",
              "  <tbody>\n",
              "    <tr>\n",
              "      <th>0</th>\n",
              "      <td>3~5</td>\n",
              "      <td>view</td>\n",
              "      <td>237058</td>\n",
              "    </tr>\n",
              "    <tr>\n",
              "      <th>1</th>\n",
              "      <td>3~5</td>\n",
              "      <td>cart</td>\n",
              "      <td>33321</td>\n",
              "    </tr>\n",
              "    <tr>\n",
              "      <th>2</th>\n",
              "      <td>3~5</td>\n",
              "      <td>purchase</td>\n",
              "      <td>11685</td>\n",
              "    </tr>\n",
              "    <tr>\n",
              "      <th>3</th>\n",
              "      <td>5~8</td>\n",
              "      <td>view</td>\n",
              "      <td>238430</td>\n",
              "    </tr>\n",
              "    <tr>\n",
              "      <th>4</th>\n",
              "      <td>5~8</td>\n",
              "      <td>cart</td>\n",
              "      <td>31101</td>\n",
              "    </tr>\n",
              "    <tr>\n",
              "      <th>5</th>\n",
              "      <td>5~8</td>\n",
              "      <td>purchase</td>\n",
              "      <td>10586</td>\n",
              "    </tr>\n",
              "    <tr>\n",
              "      <th>6</th>\n",
              "      <td>8~</td>\n",
              "      <td>view</td>\n",
              "      <td>376831</td>\n",
              "    </tr>\n",
              "    <tr>\n",
              "      <th>7</th>\n",
              "      <td>8~</td>\n",
              "      <td>cart</td>\n",
              "      <td>31728</td>\n",
              "    </tr>\n",
              "    <tr>\n",
              "      <th>8</th>\n",
              "      <td>8~</td>\n",
              "      <td>purchase</td>\n",
              "      <td>11138</td>\n",
              "    </tr>\n",
              "    <tr>\n",
              "      <th>9</th>\n",
              "      <td>~3</td>\n",
              "      <td>view</td>\n",
              "      <td>316323</td>\n",
              "    </tr>\n",
              "    <tr>\n",
              "      <th>10</th>\n",
              "      <td>~3</td>\n",
              "      <td>cart</td>\n",
              "      <td>49778</td>\n",
              "    </tr>\n",
              "    <tr>\n",
              "      <th>11</th>\n",
              "      <td>~3</td>\n",
              "      <td>purchase</td>\n",
              "      <td>19841</td>\n",
              "    </tr>\n",
              "  </tbody>\n",
              "</table>\n",
              "</div>\n",
              "    <div class=\"colab-df-buttons\">\n",
              "\n",
              "  <div class=\"colab-df-container\">\n",
              "    <button class=\"colab-df-convert\" onclick=\"convertToInteractive('df-651ebd5f-d710-4498-833d-5d6937494d8b')\"\n",
              "            title=\"Convert this dataframe to an interactive table.\"\n",
              "            style=\"display:none;\">\n",
              "\n",
              "  <svg xmlns=\"http://www.w3.org/2000/svg\" height=\"24px\" viewBox=\"0 -960 960 960\">\n",
              "    <path d=\"M120-120v-720h720v720H120Zm60-500h600v-160H180v160Zm220 220h160v-160H400v160Zm0 220h160v-160H400v160ZM180-400h160v-160H180v160Zm440 0h160v-160H620v160ZM180-180h160v-160H180v160Zm440 0h160v-160H620v160Z\"/>\n",
              "  </svg>\n",
              "    </button>\n",
              "\n",
              "  <style>\n",
              "    .colab-df-container {\n",
              "      display:flex;\n",
              "      gap: 12px;\n",
              "    }\n",
              "\n",
              "    .colab-df-convert {\n",
              "      background-color: #E8F0FE;\n",
              "      border: none;\n",
              "      border-radius: 50%;\n",
              "      cursor: pointer;\n",
              "      display: none;\n",
              "      fill: #1967D2;\n",
              "      height: 32px;\n",
              "      padding: 0 0 0 0;\n",
              "      width: 32px;\n",
              "    }\n",
              "\n",
              "    .colab-df-convert:hover {\n",
              "      background-color: #E2EBFA;\n",
              "      box-shadow: 0px 1px 2px rgba(60, 64, 67, 0.3), 0px 1px 3px 1px rgba(60, 64, 67, 0.15);\n",
              "      fill: #174EA6;\n",
              "    }\n",
              "\n",
              "    .colab-df-buttons div {\n",
              "      margin-bottom: 4px;\n",
              "    }\n",
              "\n",
              "    [theme=dark] .colab-df-convert {\n",
              "      background-color: #3B4455;\n",
              "      fill: #D2E3FC;\n",
              "    }\n",
              "\n",
              "    [theme=dark] .colab-df-convert:hover {\n",
              "      background-color: #434B5C;\n",
              "      box-shadow: 0px 1px 3px 1px rgba(0, 0, 0, 0.15);\n",
              "      filter: drop-shadow(0px 1px 2px rgba(0, 0, 0, 0.3));\n",
              "      fill: #FFFFFF;\n",
              "    }\n",
              "  </style>\n",
              "\n",
              "    <script>\n",
              "      const buttonEl =\n",
              "        document.querySelector('#df-651ebd5f-d710-4498-833d-5d6937494d8b button.colab-df-convert');\n",
              "      buttonEl.style.display =\n",
              "        google.colab.kernel.accessAllowed ? 'block' : 'none';\n",
              "\n",
              "      async function convertToInteractive(key) {\n",
              "        const element = document.querySelector('#df-651ebd5f-d710-4498-833d-5d6937494d8b');\n",
              "        const dataTable =\n",
              "          await google.colab.kernel.invokeFunction('convertToInteractive',\n",
              "                                                    [key], {});\n",
              "        if (!dataTable) return;\n",
              "\n",
              "        const docLinkHtml = 'Like what you see? Visit the ' +\n",
              "          '<a target=\"_blank\" href=https://colab.research.google.com/notebooks/data_table.ipynb>data table notebook</a>'\n",
              "          + ' to learn more about interactive tables.';\n",
              "        element.innerHTML = '';\n",
              "        dataTable['output_type'] = 'display_data';\n",
              "        await google.colab.output.renderOutput(dataTable, element);\n",
              "        const docLink = document.createElement('div');\n",
              "        docLink.innerHTML = docLinkHtml;\n",
              "        element.appendChild(docLink);\n",
              "      }\n",
              "    </script>\n",
              "  </div>\n",
              "\n",
              "\n",
              "    <div id=\"df-879f6534-c4ee-44e8-ab06-7d97a126802a\">\n",
              "      <button class=\"colab-df-quickchart\" onclick=\"quickchart('df-879f6534-c4ee-44e8-ab06-7d97a126802a')\"\n",
              "                title=\"Suggest charts\"\n",
              "                style=\"display:none;\">\n",
              "\n",
              "<svg xmlns=\"http://www.w3.org/2000/svg\" height=\"24px\"viewBox=\"0 0 24 24\"\n",
              "     width=\"24px\">\n",
              "    <g>\n",
              "        <path d=\"M19 3H5c-1.1 0-2 .9-2 2v14c0 1.1.9 2 2 2h14c1.1 0 2-.9 2-2V5c0-1.1-.9-2-2-2zM9 17H7v-7h2v7zm4 0h-2V7h2v10zm4 0h-2v-4h2v4z\"/>\n",
              "    </g>\n",
              "</svg>\n",
              "      </button>\n",
              "\n",
              "<style>\n",
              "  .colab-df-quickchart {\n",
              "      --bg-color: #E8F0FE;\n",
              "      --fill-color: #1967D2;\n",
              "      --hover-bg-color: #E2EBFA;\n",
              "      --hover-fill-color: #174EA6;\n",
              "      --disabled-fill-color: #AAA;\n",
              "      --disabled-bg-color: #DDD;\n",
              "  }\n",
              "\n",
              "  [theme=dark] .colab-df-quickchart {\n",
              "      --bg-color: #3B4455;\n",
              "      --fill-color: #D2E3FC;\n",
              "      --hover-bg-color: #434B5C;\n",
              "      --hover-fill-color: #FFFFFF;\n",
              "      --disabled-bg-color: #3B4455;\n",
              "      --disabled-fill-color: #666;\n",
              "  }\n",
              "\n",
              "  .colab-df-quickchart {\n",
              "    background-color: var(--bg-color);\n",
              "    border: none;\n",
              "    border-radius: 50%;\n",
              "    cursor: pointer;\n",
              "    display: none;\n",
              "    fill: var(--fill-color);\n",
              "    height: 32px;\n",
              "    padding: 0;\n",
              "    width: 32px;\n",
              "  }\n",
              "\n",
              "  .colab-df-quickchart:hover {\n",
              "    background-color: var(--hover-bg-color);\n",
              "    box-shadow: 0 1px 2px rgba(60, 64, 67, 0.3), 0 1px 3px 1px rgba(60, 64, 67, 0.15);\n",
              "    fill: var(--button-hover-fill-color);\n",
              "  }\n",
              "\n",
              "  .colab-df-quickchart-complete:disabled,\n",
              "  .colab-df-quickchart-complete:disabled:hover {\n",
              "    background-color: var(--disabled-bg-color);\n",
              "    fill: var(--disabled-fill-color);\n",
              "    box-shadow: none;\n",
              "  }\n",
              "\n",
              "  .colab-df-spinner {\n",
              "    border: 2px solid var(--fill-color);\n",
              "    border-color: transparent;\n",
              "    border-bottom-color: var(--fill-color);\n",
              "    animation:\n",
              "      spin 1s steps(1) infinite;\n",
              "  }\n",
              "\n",
              "  @keyframes spin {\n",
              "    0% {\n",
              "      border-color: transparent;\n",
              "      border-bottom-color: var(--fill-color);\n",
              "      border-left-color: var(--fill-color);\n",
              "    }\n",
              "    20% {\n",
              "      border-color: transparent;\n",
              "      border-left-color: var(--fill-color);\n",
              "      border-top-color: var(--fill-color);\n",
              "    }\n",
              "    30% {\n",
              "      border-color: transparent;\n",
              "      border-left-color: var(--fill-color);\n",
              "      border-top-color: var(--fill-color);\n",
              "      border-right-color: var(--fill-color);\n",
              "    }\n",
              "    40% {\n",
              "      border-color: transparent;\n",
              "      border-right-color: var(--fill-color);\n",
              "      border-top-color: var(--fill-color);\n",
              "    }\n",
              "    60% {\n",
              "      border-color: transparent;\n",
              "      border-right-color: var(--fill-color);\n",
              "    }\n",
              "    80% {\n",
              "      border-color: transparent;\n",
              "      border-right-color: var(--fill-color);\n",
              "      border-bottom-color: var(--fill-color);\n",
              "    }\n",
              "    90% {\n",
              "      border-color: transparent;\n",
              "      border-bottom-color: var(--fill-color);\n",
              "    }\n",
              "  }\n",
              "</style>\n",
              "\n",
              "      <script>\n",
              "        async function quickchart(key) {\n",
              "          const quickchartButtonEl =\n",
              "            document.querySelector('#' + key + ' button');\n",
              "          quickchartButtonEl.disabled = true;  // To prevent multiple clicks.\n",
              "          quickchartButtonEl.classList.add('colab-df-spinner');\n",
              "          try {\n",
              "            const charts = await google.colab.kernel.invokeFunction(\n",
              "                'suggestCharts', [key], {});\n",
              "          } catch (error) {\n",
              "            console.error('Error during call to suggestCharts:', error);\n",
              "          }\n",
              "          quickchartButtonEl.classList.remove('colab-df-spinner');\n",
              "          quickchartButtonEl.classList.add('colab-df-quickchart-complete');\n",
              "        }\n",
              "        (() => {\n",
              "          let quickchartButtonEl =\n",
              "            document.querySelector('#df-879f6534-c4ee-44e8-ab06-7d97a126802a button');\n",
              "          quickchartButtonEl.style.display =\n",
              "            google.colab.kernel.accessAllowed ? 'block' : 'none';\n",
              "        })();\n",
              "      </script>\n",
              "    </div>\n",
              "\n",
              "  <div id=\"id_f3860a06-74a1-42f4-ac98-911fed46da49\">\n",
              "    <style>\n",
              "      .colab-df-generate {\n",
              "        background-color: #E8F0FE;\n",
              "        border: none;\n",
              "        border-radius: 50%;\n",
              "        cursor: pointer;\n",
              "        display: none;\n",
              "        fill: #1967D2;\n",
              "        height: 32px;\n",
              "        padding: 0 0 0 0;\n",
              "        width: 32px;\n",
              "      }\n",
              "\n",
              "      .colab-df-generate:hover {\n",
              "        background-color: #E2EBFA;\n",
              "        box-shadow: 0px 1px 2px rgba(60, 64, 67, 0.3), 0px 1px 3px 1px rgba(60, 64, 67, 0.15);\n",
              "        fill: #174EA6;\n",
              "      }\n",
              "\n",
              "      [theme=dark] .colab-df-generate {\n",
              "        background-color: #3B4455;\n",
              "        fill: #D2E3FC;\n",
              "      }\n",
              "\n",
              "      [theme=dark] .colab-df-generate:hover {\n",
              "        background-color: #434B5C;\n",
              "        box-shadow: 0px 1px 3px 1px rgba(0, 0, 0, 0.15);\n",
              "        filter: drop-shadow(0px 1px 2px rgba(0, 0, 0, 0.3));\n",
              "        fill: #FFFFFF;\n",
              "      }\n",
              "    </style>\n",
              "    <button class=\"colab-df-generate\" onclick=\"generateWithVariable('price_funnel')\"\n",
              "            title=\"Generate code using this dataframe.\"\n",
              "            style=\"display:none;\">\n",
              "\n",
              "  <svg xmlns=\"http://www.w3.org/2000/svg\" height=\"24px\"viewBox=\"0 0 24 24\"\n",
              "       width=\"24px\">\n",
              "    <path d=\"M7,19H8.4L18.45,9,17,7.55,7,17.6ZM5,21V16.75L18.45,3.32a2,2,0,0,1,2.83,0l1.4,1.43a1.91,1.91,0,0,1,.58,1.4,1.91,1.91,0,0,1-.58,1.4L9.25,21ZM18.45,9,17,7.55Zm-12,3A5.31,5.31,0,0,0,4.9,8.1,5.31,5.31,0,0,0,1,6.5,5.31,5.31,0,0,0,4.9,4.9,5.31,5.31,0,0,0,6.5,1,5.31,5.31,0,0,0,8.1,4.9,5.31,5.31,0,0,0,12,6.5,5.46,5.46,0,0,0,6.5,12Z\"/>\n",
              "  </svg>\n",
              "    </button>\n",
              "    <script>\n",
              "      (() => {\n",
              "      const buttonEl =\n",
              "        document.querySelector('#id_f3860a06-74a1-42f4-ac98-911fed46da49 button.colab-df-generate');\n",
              "      buttonEl.style.display =\n",
              "        google.colab.kernel.accessAllowed ? 'block' : 'none';\n",
              "\n",
              "      buttonEl.onclick = () => {\n",
              "        google.colab.notebook.generateWithVariable('price_funnel');\n",
              "      }\n",
              "      })();\n",
              "    </script>\n",
              "  </div>\n",
              "\n",
              "    </div>\n",
              "  </div>\n"
            ],
            "application/vnd.google.colaboratory.intrinsic+json": {
              "type": "dataframe",
              "variable_name": "price_funnel",
              "summary": "{\n  \"name\": \"price_funnel\",\n  \"rows\": 12,\n  \"fields\": [\n    {\n      \"column\": \"price_range\",\n      \"properties\": {\n        \"dtype\": \"category\",\n        \"num_unique_values\": 4,\n        \"samples\": [\n          \"5~8\",\n          \"~3\",\n          \"3~5\"\n        ],\n        \"semantic_type\": \"\",\n        \"description\": \"\"\n      }\n    },\n    {\n      \"column\": \"event_type\",\n      \"properties\": {\n        \"dtype\": \"category\",\n        \"num_unique_values\": 3,\n        \"samples\": [\n          \"view\",\n          \"cart\",\n          \"purchase\"\n        ],\n        \"semantic_type\": \"\",\n        \"description\": \"\"\n      }\n    },\n    {\n      \"column\": \"users\",\n      \"properties\": {\n        \"dtype\": \"number\",\n        \"std\": 136689,\n        \"min\": 10586,\n        \"max\": 376831,\n        \"num_unique_values\": 12,\n        \"samples\": [\n          49778,\n          316323,\n          237058\n        ],\n        \"semantic_type\": \"\",\n        \"description\": \"\"\n      }\n    }\n  ]\n}"
            }
          },
          "metadata": {},
          "execution_count": 44
        }
      ]
    },
    {
      "cell_type": "code",
      "source": [
        "# Conversion per price group\n",
        "price_funnel['conversion_rate'] = price_funnel['users'] / price_funnel.groupby('price_range')['users'].transform('first')\n",
        "price_funnel"
      ],
      "metadata": {
        "colab": {
          "base_uri": "https://localhost:8080/",
          "height": 426
        },
        "id": "sorHzBl0ZJeb",
        "outputId": "10bee8c9-3d9d-4e88-d8be-a5b71b1c3392"
      },
      "execution_count": 45,
      "outputs": [
        {
          "output_type": "execute_result",
          "data": {
            "text/plain": [
              "   price_range event_type   users  conversion_rate\n",
              "0          3~5       view  237058         1.000000\n",
              "1          3~5       cart   33321         0.140561\n",
              "2          3~5   purchase   11685         0.049292\n",
              "3          5~8       view  238430         1.000000\n",
              "4          5~8       cart   31101         0.130441\n",
              "5          5~8   purchase   10586         0.044399\n",
              "6           8~       view  376831         1.000000\n",
              "7           8~       cart   31728         0.084197\n",
              "8           8~   purchase   11138         0.029557\n",
              "9           ~3       view  316323         1.000000\n",
              "10          ~3       cart   49778         0.157364\n",
              "11          ~3   purchase   19841         0.062724"
            ],
            "text/html": [
              "\n",
              "  <div id=\"df-b59cf9ed-7a7c-484d-96da-58c03faeaf8b\" class=\"colab-df-container\">\n",
              "    <div>\n",
              "<style scoped>\n",
              "    .dataframe tbody tr th:only-of-type {\n",
              "        vertical-align: middle;\n",
              "    }\n",
              "\n",
              "    .dataframe tbody tr th {\n",
              "        vertical-align: top;\n",
              "    }\n",
              "\n",
              "    .dataframe thead th {\n",
              "        text-align: right;\n",
              "    }\n",
              "</style>\n",
              "<table border=\"1\" class=\"dataframe\">\n",
              "  <thead>\n",
              "    <tr style=\"text-align: right;\">\n",
              "      <th></th>\n",
              "      <th>price_range</th>\n",
              "      <th>event_type</th>\n",
              "      <th>users</th>\n",
              "      <th>conversion_rate</th>\n",
              "    </tr>\n",
              "  </thead>\n",
              "  <tbody>\n",
              "    <tr>\n",
              "      <th>0</th>\n",
              "      <td>3~5</td>\n",
              "      <td>view</td>\n",
              "      <td>237058</td>\n",
              "      <td>1.000000</td>\n",
              "    </tr>\n",
              "    <tr>\n",
              "      <th>1</th>\n",
              "      <td>3~5</td>\n",
              "      <td>cart</td>\n",
              "      <td>33321</td>\n",
              "      <td>0.140561</td>\n",
              "    </tr>\n",
              "    <tr>\n",
              "      <th>2</th>\n",
              "      <td>3~5</td>\n",
              "      <td>purchase</td>\n",
              "      <td>11685</td>\n",
              "      <td>0.049292</td>\n",
              "    </tr>\n",
              "    <tr>\n",
              "      <th>3</th>\n",
              "      <td>5~8</td>\n",
              "      <td>view</td>\n",
              "      <td>238430</td>\n",
              "      <td>1.000000</td>\n",
              "    </tr>\n",
              "    <tr>\n",
              "      <th>4</th>\n",
              "      <td>5~8</td>\n",
              "      <td>cart</td>\n",
              "      <td>31101</td>\n",
              "      <td>0.130441</td>\n",
              "    </tr>\n",
              "    <tr>\n",
              "      <th>5</th>\n",
              "      <td>5~8</td>\n",
              "      <td>purchase</td>\n",
              "      <td>10586</td>\n",
              "      <td>0.044399</td>\n",
              "    </tr>\n",
              "    <tr>\n",
              "      <th>6</th>\n",
              "      <td>8~</td>\n",
              "      <td>view</td>\n",
              "      <td>376831</td>\n",
              "      <td>1.000000</td>\n",
              "    </tr>\n",
              "    <tr>\n",
              "      <th>7</th>\n",
              "      <td>8~</td>\n",
              "      <td>cart</td>\n",
              "      <td>31728</td>\n",
              "      <td>0.084197</td>\n",
              "    </tr>\n",
              "    <tr>\n",
              "      <th>8</th>\n",
              "      <td>8~</td>\n",
              "      <td>purchase</td>\n",
              "      <td>11138</td>\n",
              "      <td>0.029557</td>\n",
              "    </tr>\n",
              "    <tr>\n",
              "      <th>9</th>\n",
              "      <td>~3</td>\n",
              "      <td>view</td>\n",
              "      <td>316323</td>\n",
              "      <td>1.000000</td>\n",
              "    </tr>\n",
              "    <tr>\n",
              "      <th>10</th>\n",
              "      <td>~3</td>\n",
              "      <td>cart</td>\n",
              "      <td>49778</td>\n",
              "      <td>0.157364</td>\n",
              "    </tr>\n",
              "    <tr>\n",
              "      <th>11</th>\n",
              "      <td>~3</td>\n",
              "      <td>purchase</td>\n",
              "      <td>19841</td>\n",
              "      <td>0.062724</td>\n",
              "    </tr>\n",
              "  </tbody>\n",
              "</table>\n",
              "</div>\n",
              "    <div class=\"colab-df-buttons\">\n",
              "\n",
              "  <div class=\"colab-df-container\">\n",
              "    <button class=\"colab-df-convert\" onclick=\"convertToInteractive('df-b59cf9ed-7a7c-484d-96da-58c03faeaf8b')\"\n",
              "            title=\"Convert this dataframe to an interactive table.\"\n",
              "            style=\"display:none;\">\n",
              "\n",
              "  <svg xmlns=\"http://www.w3.org/2000/svg\" height=\"24px\" viewBox=\"0 -960 960 960\">\n",
              "    <path d=\"M120-120v-720h720v720H120Zm60-500h600v-160H180v160Zm220 220h160v-160H400v160Zm0 220h160v-160H400v160ZM180-400h160v-160H180v160Zm440 0h160v-160H620v160ZM180-180h160v-160H180v160Zm440 0h160v-160H620v160Z\"/>\n",
              "  </svg>\n",
              "    </button>\n",
              "\n",
              "  <style>\n",
              "    .colab-df-container {\n",
              "      display:flex;\n",
              "      gap: 12px;\n",
              "    }\n",
              "\n",
              "    .colab-df-convert {\n",
              "      background-color: #E8F0FE;\n",
              "      border: none;\n",
              "      border-radius: 50%;\n",
              "      cursor: pointer;\n",
              "      display: none;\n",
              "      fill: #1967D2;\n",
              "      height: 32px;\n",
              "      padding: 0 0 0 0;\n",
              "      width: 32px;\n",
              "    }\n",
              "\n",
              "    .colab-df-convert:hover {\n",
              "      background-color: #E2EBFA;\n",
              "      box-shadow: 0px 1px 2px rgba(60, 64, 67, 0.3), 0px 1px 3px 1px rgba(60, 64, 67, 0.15);\n",
              "      fill: #174EA6;\n",
              "    }\n",
              "\n",
              "    .colab-df-buttons div {\n",
              "      margin-bottom: 4px;\n",
              "    }\n",
              "\n",
              "    [theme=dark] .colab-df-convert {\n",
              "      background-color: #3B4455;\n",
              "      fill: #D2E3FC;\n",
              "    }\n",
              "\n",
              "    [theme=dark] .colab-df-convert:hover {\n",
              "      background-color: #434B5C;\n",
              "      box-shadow: 0px 1px 3px 1px rgba(0, 0, 0, 0.15);\n",
              "      filter: drop-shadow(0px 1px 2px rgba(0, 0, 0, 0.3));\n",
              "      fill: #FFFFFF;\n",
              "    }\n",
              "  </style>\n",
              "\n",
              "    <script>\n",
              "      const buttonEl =\n",
              "        document.querySelector('#df-b59cf9ed-7a7c-484d-96da-58c03faeaf8b button.colab-df-convert');\n",
              "      buttonEl.style.display =\n",
              "        google.colab.kernel.accessAllowed ? 'block' : 'none';\n",
              "\n",
              "      async function convertToInteractive(key) {\n",
              "        const element = document.querySelector('#df-b59cf9ed-7a7c-484d-96da-58c03faeaf8b');\n",
              "        const dataTable =\n",
              "          await google.colab.kernel.invokeFunction('convertToInteractive',\n",
              "                                                    [key], {});\n",
              "        if (!dataTable) return;\n",
              "\n",
              "        const docLinkHtml = 'Like what you see? Visit the ' +\n",
              "          '<a target=\"_blank\" href=https://colab.research.google.com/notebooks/data_table.ipynb>data table notebook</a>'\n",
              "          + ' to learn more about interactive tables.';\n",
              "        element.innerHTML = '';\n",
              "        dataTable['output_type'] = 'display_data';\n",
              "        await google.colab.output.renderOutput(dataTable, element);\n",
              "        const docLink = document.createElement('div');\n",
              "        docLink.innerHTML = docLinkHtml;\n",
              "        element.appendChild(docLink);\n",
              "      }\n",
              "    </script>\n",
              "  </div>\n",
              "\n",
              "\n",
              "    <div id=\"df-3c1f95fc-6f54-451d-90e8-3d4ae457d7c7\">\n",
              "      <button class=\"colab-df-quickchart\" onclick=\"quickchart('df-3c1f95fc-6f54-451d-90e8-3d4ae457d7c7')\"\n",
              "                title=\"Suggest charts\"\n",
              "                style=\"display:none;\">\n",
              "\n",
              "<svg xmlns=\"http://www.w3.org/2000/svg\" height=\"24px\"viewBox=\"0 0 24 24\"\n",
              "     width=\"24px\">\n",
              "    <g>\n",
              "        <path d=\"M19 3H5c-1.1 0-2 .9-2 2v14c0 1.1.9 2 2 2h14c1.1 0 2-.9 2-2V5c0-1.1-.9-2-2-2zM9 17H7v-7h2v7zm4 0h-2V7h2v10zm4 0h-2v-4h2v4z\"/>\n",
              "    </g>\n",
              "</svg>\n",
              "      </button>\n",
              "\n",
              "<style>\n",
              "  .colab-df-quickchart {\n",
              "      --bg-color: #E8F0FE;\n",
              "      --fill-color: #1967D2;\n",
              "      --hover-bg-color: #E2EBFA;\n",
              "      --hover-fill-color: #174EA6;\n",
              "      --disabled-fill-color: #AAA;\n",
              "      --disabled-bg-color: #DDD;\n",
              "  }\n",
              "\n",
              "  [theme=dark] .colab-df-quickchart {\n",
              "      --bg-color: #3B4455;\n",
              "      --fill-color: #D2E3FC;\n",
              "      --hover-bg-color: #434B5C;\n",
              "      --hover-fill-color: #FFFFFF;\n",
              "      --disabled-bg-color: #3B4455;\n",
              "      --disabled-fill-color: #666;\n",
              "  }\n",
              "\n",
              "  .colab-df-quickchart {\n",
              "    background-color: var(--bg-color);\n",
              "    border: none;\n",
              "    border-radius: 50%;\n",
              "    cursor: pointer;\n",
              "    display: none;\n",
              "    fill: var(--fill-color);\n",
              "    height: 32px;\n",
              "    padding: 0;\n",
              "    width: 32px;\n",
              "  }\n",
              "\n",
              "  .colab-df-quickchart:hover {\n",
              "    background-color: var(--hover-bg-color);\n",
              "    box-shadow: 0 1px 2px rgba(60, 64, 67, 0.3), 0 1px 3px 1px rgba(60, 64, 67, 0.15);\n",
              "    fill: var(--button-hover-fill-color);\n",
              "  }\n",
              "\n",
              "  .colab-df-quickchart-complete:disabled,\n",
              "  .colab-df-quickchart-complete:disabled:hover {\n",
              "    background-color: var(--disabled-bg-color);\n",
              "    fill: var(--disabled-fill-color);\n",
              "    box-shadow: none;\n",
              "  }\n",
              "\n",
              "  .colab-df-spinner {\n",
              "    border: 2px solid var(--fill-color);\n",
              "    border-color: transparent;\n",
              "    border-bottom-color: var(--fill-color);\n",
              "    animation:\n",
              "      spin 1s steps(1) infinite;\n",
              "  }\n",
              "\n",
              "  @keyframes spin {\n",
              "    0% {\n",
              "      border-color: transparent;\n",
              "      border-bottom-color: var(--fill-color);\n",
              "      border-left-color: var(--fill-color);\n",
              "    }\n",
              "    20% {\n",
              "      border-color: transparent;\n",
              "      border-left-color: var(--fill-color);\n",
              "      border-top-color: var(--fill-color);\n",
              "    }\n",
              "    30% {\n",
              "      border-color: transparent;\n",
              "      border-left-color: var(--fill-color);\n",
              "      border-top-color: var(--fill-color);\n",
              "      border-right-color: var(--fill-color);\n",
              "    }\n",
              "    40% {\n",
              "      border-color: transparent;\n",
              "      border-right-color: var(--fill-color);\n",
              "      border-top-color: var(--fill-color);\n",
              "    }\n",
              "    60% {\n",
              "      border-color: transparent;\n",
              "      border-right-color: var(--fill-color);\n",
              "    }\n",
              "    80% {\n",
              "      border-color: transparent;\n",
              "      border-right-color: var(--fill-color);\n",
              "      border-bottom-color: var(--fill-color);\n",
              "    }\n",
              "    90% {\n",
              "      border-color: transparent;\n",
              "      border-bottom-color: var(--fill-color);\n",
              "    }\n",
              "  }\n",
              "</style>\n",
              "\n",
              "      <script>\n",
              "        async function quickchart(key) {\n",
              "          const quickchartButtonEl =\n",
              "            document.querySelector('#' + key + ' button');\n",
              "          quickchartButtonEl.disabled = true;  // To prevent multiple clicks.\n",
              "          quickchartButtonEl.classList.add('colab-df-spinner');\n",
              "          try {\n",
              "            const charts = await google.colab.kernel.invokeFunction(\n",
              "                'suggestCharts', [key], {});\n",
              "          } catch (error) {\n",
              "            console.error('Error during call to suggestCharts:', error);\n",
              "          }\n",
              "          quickchartButtonEl.classList.remove('colab-df-spinner');\n",
              "          quickchartButtonEl.classList.add('colab-df-quickchart-complete');\n",
              "        }\n",
              "        (() => {\n",
              "          let quickchartButtonEl =\n",
              "            document.querySelector('#df-3c1f95fc-6f54-451d-90e8-3d4ae457d7c7 button');\n",
              "          quickchartButtonEl.style.display =\n",
              "            google.colab.kernel.accessAllowed ? 'block' : 'none';\n",
              "        })();\n",
              "      </script>\n",
              "    </div>\n",
              "\n",
              "  <div id=\"id_578c7794-de09-412d-8575-f84cff6a283c\">\n",
              "    <style>\n",
              "      .colab-df-generate {\n",
              "        background-color: #E8F0FE;\n",
              "        border: none;\n",
              "        border-radius: 50%;\n",
              "        cursor: pointer;\n",
              "        display: none;\n",
              "        fill: #1967D2;\n",
              "        height: 32px;\n",
              "        padding: 0 0 0 0;\n",
              "        width: 32px;\n",
              "      }\n",
              "\n",
              "      .colab-df-generate:hover {\n",
              "        background-color: #E2EBFA;\n",
              "        box-shadow: 0px 1px 2px rgba(60, 64, 67, 0.3), 0px 1px 3px 1px rgba(60, 64, 67, 0.15);\n",
              "        fill: #174EA6;\n",
              "      }\n",
              "\n",
              "      [theme=dark] .colab-df-generate {\n",
              "        background-color: #3B4455;\n",
              "        fill: #D2E3FC;\n",
              "      }\n",
              "\n",
              "      [theme=dark] .colab-df-generate:hover {\n",
              "        background-color: #434B5C;\n",
              "        box-shadow: 0px 1px 3px 1px rgba(0, 0, 0, 0.15);\n",
              "        filter: drop-shadow(0px 1px 2px rgba(0, 0, 0, 0.3));\n",
              "        fill: #FFFFFF;\n",
              "      }\n",
              "    </style>\n",
              "    <button class=\"colab-df-generate\" onclick=\"generateWithVariable('price_funnel')\"\n",
              "            title=\"Generate code using this dataframe.\"\n",
              "            style=\"display:none;\">\n",
              "\n",
              "  <svg xmlns=\"http://www.w3.org/2000/svg\" height=\"24px\"viewBox=\"0 0 24 24\"\n",
              "       width=\"24px\">\n",
              "    <path d=\"M7,19H8.4L18.45,9,17,7.55,7,17.6ZM5,21V16.75L18.45,3.32a2,2,0,0,1,2.83,0l1.4,1.43a1.91,1.91,0,0,1,.58,1.4,1.91,1.91,0,0,1-.58,1.4L9.25,21ZM18.45,9,17,7.55Zm-12,3A5.31,5.31,0,0,0,4.9,8.1,5.31,5.31,0,0,0,1,6.5,5.31,5.31,0,0,0,4.9,4.9,5.31,5.31,0,0,0,6.5,1,5.31,5.31,0,0,0,8.1,4.9,5.31,5.31,0,0,0,12,6.5,5.46,5.46,0,0,0,6.5,12Z\"/>\n",
              "  </svg>\n",
              "    </button>\n",
              "    <script>\n",
              "      (() => {\n",
              "      const buttonEl =\n",
              "        document.querySelector('#id_578c7794-de09-412d-8575-f84cff6a283c button.colab-df-generate');\n",
              "      buttonEl.style.display =\n",
              "        google.colab.kernel.accessAllowed ? 'block' : 'none';\n",
              "\n",
              "      buttonEl.onclick = () => {\n",
              "        google.colab.notebook.generateWithVariable('price_funnel');\n",
              "      }\n",
              "      })();\n",
              "    </script>\n",
              "  </div>\n",
              "\n",
              "    </div>\n",
              "  </div>\n"
            ],
            "application/vnd.google.colaboratory.intrinsic+json": {
              "type": "dataframe",
              "variable_name": "price_funnel",
              "summary": "{\n  \"name\": \"price_funnel\",\n  \"rows\": 12,\n  \"fields\": [\n    {\n      \"column\": \"price_range\",\n      \"properties\": {\n        \"dtype\": \"category\",\n        \"num_unique_values\": 4,\n        \"samples\": [\n          \"5~8\",\n          \"~3\",\n          \"3~5\"\n        ],\n        \"semantic_type\": \"\",\n        \"description\": \"\"\n      }\n    },\n    {\n      \"column\": \"event_type\",\n      \"properties\": {\n        \"dtype\": \"category\",\n        \"num_unique_values\": 3,\n        \"samples\": [\n          \"view\",\n          \"cart\",\n          \"purchase\"\n        ],\n        \"semantic_type\": \"\",\n        \"description\": \"\"\n      }\n    },\n    {\n      \"column\": \"users\",\n      \"properties\": {\n        \"dtype\": \"number\",\n        \"std\": 136689,\n        \"min\": 10586,\n        \"max\": 376831,\n        \"num_unique_values\": 12,\n        \"samples\": [\n          49778,\n          316323,\n          237058\n        ],\n        \"semantic_type\": \"\",\n        \"description\": \"\"\n      }\n    },\n    {\n      \"column\": \"conversion_rate\",\n      \"properties\": {\n        \"dtype\": \"number\",\n        \"std\": 0.451074310789694,\n        \"min\": 0.029557016275200288,\n        \"max\": 1.0,\n        \"num_unique_values\": 9,\n        \"samples\": [\n          0.1573644660679116,\n          0.14056053792742704,\n          0.08419689462915737\n        ],\n        \"semantic_type\": \"\",\n        \"description\": \"\"\n      }\n    }\n  ]\n}"
            }
          },
          "metadata": {},
          "execution_count": 45
        }
      ]
    },
    {
      "cell_type": "code",
      "source": [
        "fig = px.funnel(\n",
        "    price_funnel, x='conversion_rate', y='event_type', color='price_range', facet_col='price_range',\n",
        "    category_orders={'price_range': ['~3', '3~5', '5~8', '8~']},\n",
        "    color_discrete_sequence=px.colors.qualitative.Set1,\n",
        "    hover_data={'conversion_rate': ':.2%'}\n",
        ")\n",
        "fig.update_traces(texttemplate=\"%{value:.2%}\")\n",
        "fig.update_layout(width=800, height=500)\n",
        "fig.show()"
      ],
      "metadata": {
        "colab": {
          "base_uri": "https://localhost:8080/",
          "height": 517
        },
        "id": "sZbe0hSudRnG",
        "outputId": "cf1dd0e2-5f30-47af-a060-88b6d6a4ec9f"
      },
      "execution_count": 46,
      "outputs": [
        {
          "output_type": "display_data",
          "data": {
            "application/vnd.plotly.v1+json": {
              "data": [
                {
                  "hovertemplate": "price_range=~3<br>conversion_rate=%{x:.2%}<br>event_type=%{y}<extra></extra>",
                  "legendgroup": "~3",
                  "marker": {
                    "color": "rgb(228,26,28)"
                  },
                  "name": "~3",
                  "orientation": "h",
                  "showlegend": true,
                  "x": {
                    "dtype": "f8",
                    "bdata": "AAAAAAAA8D8eN6jRhCTEP1vUQsWrDrA/"
                  },
                  "xaxis": "x",
                  "y": [
                    "view",
                    "cart",
                    "purchase"
                  ],
                  "yaxis": "y",
                  "type": "funnel",
                  "texttemplate": "%{value:.2%}"
                },
                {
                  "hovertemplate": "price_range=3~5<br>conversion_rate=%{x:.2%}<br>event_type=%{y}<extra></extra>",
                  "legendgroup": "3~5",
                  "marker": {
                    "color": "rgb(55,126,184)"
                  },
                  "name": "3~5",
                  "orientation": "h",
                  "showlegend": true,
                  "x": {
                    "dtype": "f8",
                    "bdata": "AAAAAAAA8D/n08BA4/3BPwnjYifEPKk/"
                  },
                  "xaxis": "x2",
                  "y": [
                    "view",
                    "cart",
                    "purchase"
                  ],
                  "yaxis": "y2",
                  "type": "funnel",
                  "texttemplate": "%{value:.2%}"
                },
                {
                  "hovertemplate": "price_range=5~8<br>conversion_rate=%{x:.2%}<br>event_type=%{y}<extra></extra>",
                  "legendgroup": "5~8",
                  "marker": {
                    "color": "rgb(77,175,74)"
                  },
                  "name": "5~8",
                  "orientation": "h",
                  "showlegend": true,
                  "x": {
                    "dtype": "f8",
                    "bdata": "AAAAAAAA8D+nUom9SLLAP3Lh+q9vu6Y/"
                  },
                  "xaxis": "x3",
                  "y": [
                    "view",
                    "cart",
                    "purchase"
                  ],
                  "yaxis": "y3",
                  "type": "funnel",
                  "texttemplate": "%{value:.2%}"
                },
                {
                  "hovertemplate": "price_range=8~<br>conversion_rate=%{x:.2%}<br>event_type=%{y}<extra></extra>",
                  "legendgroup": "8~",
                  "marker": {
                    "color": "rgb(152,78,163)"
                  },
                  "name": "8~",
                  "orientation": "h",
                  "showlegend": true,
                  "x": {
                    "dtype": "f8",
                    "bdata": "AAAAAAAA8D+hY9t87Y21P+3JE8kxRJ4/"
                  },
                  "xaxis": "x4",
                  "y": [
                    "view",
                    "cart",
                    "purchase"
                  ],
                  "yaxis": "y4",
                  "type": "funnel",
                  "texttemplate": "%{value:.2%}"
                }
              ],
              "layout": {
                "template": {
                  "data": {
                    "histogram2dcontour": [
                      {
                        "type": "histogram2dcontour",
                        "colorbar": {
                          "outlinewidth": 0,
                          "ticks": ""
                        },
                        "colorscale": [
                          [
                            0,
                            "#0d0887"
                          ],
                          [
                            0.1111111111111111,
                            "#46039f"
                          ],
                          [
                            0.2222222222222222,
                            "#7201a8"
                          ],
                          [
                            0.3333333333333333,
                            "#9c179e"
                          ],
                          [
                            0.4444444444444444,
                            "#bd3786"
                          ],
                          [
                            0.5555555555555556,
                            "#d8576b"
                          ],
                          [
                            0.6666666666666666,
                            "#ed7953"
                          ],
                          [
                            0.7777777777777778,
                            "#fb9f3a"
                          ],
                          [
                            0.8888888888888888,
                            "#fdca26"
                          ],
                          [
                            1,
                            "#f0f921"
                          ]
                        ]
                      }
                    ],
                    "choropleth": [
                      {
                        "type": "choropleth",
                        "colorbar": {
                          "outlinewidth": 0,
                          "ticks": ""
                        }
                      }
                    ],
                    "histogram2d": [
                      {
                        "type": "histogram2d",
                        "colorbar": {
                          "outlinewidth": 0,
                          "ticks": ""
                        },
                        "colorscale": [
                          [
                            0,
                            "#0d0887"
                          ],
                          [
                            0.1111111111111111,
                            "#46039f"
                          ],
                          [
                            0.2222222222222222,
                            "#7201a8"
                          ],
                          [
                            0.3333333333333333,
                            "#9c179e"
                          ],
                          [
                            0.4444444444444444,
                            "#bd3786"
                          ],
                          [
                            0.5555555555555556,
                            "#d8576b"
                          ],
                          [
                            0.6666666666666666,
                            "#ed7953"
                          ],
                          [
                            0.7777777777777778,
                            "#fb9f3a"
                          ],
                          [
                            0.8888888888888888,
                            "#fdca26"
                          ],
                          [
                            1,
                            "#f0f921"
                          ]
                        ]
                      }
                    ],
                    "heatmap": [
                      {
                        "type": "heatmap",
                        "colorbar": {
                          "outlinewidth": 0,
                          "ticks": ""
                        },
                        "colorscale": [
                          [
                            0,
                            "#0d0887"
                          ],
                          [
                            0.1111111111111111,
                            "#46039f"
                          ],
                          [
                            0.2222222222222222,
                            "#7201a8"
                          ],
                          [
                            0.3333333333333333,
                            "#9c179e"
                          ],
                          [
                            0.4444444444444444,
                            "#bd3786"
                          ],
                          [
                            0.5555555555555556,
                            "#d8576b"
                          ],
                          [
                            0.6666666666666666,
                            "#ed7953"
                          ],
                          [
                            0.7777777777777778,
                            "#fb9f3a"
                          ],
                          [
                            0.8888888888888888,
                            "#fdca26"
                          ],
                          [
                            1,
                            "#f0f921"
                          ]
                        ]
                      }
                    ],
                    "contourcarpet": [
                      {
                        "type": "contourcarpet",
                        "colorbar": {
                          "outlinewidth": 0,
                          "ticks": ""
                        }
                      }
                    ],
                    "contour": [
                      {
                        "type": "contour",
                        "colorbar": {
                          "outlinewidth": 0,
                          "ticks": ""
                        },
                        "colorscale": [
                          [
                            0,
                            "#0d0887"
                          ],
                          [
                            0.1111111111111111,
                            "#46039f"
                          ],
                          [
                            0.2222222222222222,
                            "#7201a8"
                          ],
                          [
                            0.3333333333333333,
                            "#9c179e"
                          ],
                          [
                            0.4444444444444444,
                            "#bd3786"
                          ],
                          [
                            0.5555555555555556,
                            "#d8576b"
                          ],
                          [
                            0.6666666666666666,
                            "#ed7953"
                          ],
                          [
                            0.7777777777777778,
                            "#fb9f3a"
                          ],
                          [
                            0.8888888888888888,
                            "#fdca26"
                          ],
                          [
                            1,
                            "#f0f921"
                          ]
                        ]
                      }
                    ],
                    "surface": [
                      {
                        "type": "surface",
                        "colorbar": {
                          "outlinewidth": 0,
                          "ticks": ""
                        },
                        "colorscale": [
                          [
                            0,
                            "#0d0887"
                          ],
                          [
                            0.1111111111111111,
                            "#46039f"
                          ],
                          [
                            0.2222222222222222,
                            "#7201a8"
                          ],
                          [
                            0.3333333333333333,
                            "#9c179e"
                          ],
                          [
                            0.4444444444444444,
                            "#bd3786"
                          ],
                          [
                            0.5555555555555556,
                            "#d8576b"
                          ],
                          [
                            0.6666666666666666,
                            "#ed7953"
                          ],
                          [
                            0.7777777777777778,
                            "#fb9f3a"
                          ],
                          [
                            0.8888888888888888,
                            "#fdca26"
                          ],
                          [
                            1,
                            "#f0f921"
                          ]
                        ]
                      }
                    ],
                    "mesh3d": [
                      {
                        "type": "mesh3d",
                        "colorbar": {
                          "outlinewidth": 0,
                          "ticks": ""
                        }
                      }
                    ],
                    "scatter": [
                      {
                        "fillpattern": {
                          "fillmode": "overlay",
                          "size": 10,
                          "solidity": 0.2
                        },
                        "type": "scatter"
                      }
                    ],
                    "parcoords": [
                      {
                        "type": "parcoords",
                        "line": {
                          "colorbar": {
                            "outlinewidth": 0,
                            "ticks": ""
                          }
                        }
                      }
                    ],
                    "scatterpolargl": [
                      {
                        "type": "scatterpolargl",
                        "marker": {
                          "colorbar": {
                            "outlinewidth": 0,
                            "ticks": ""
                          }
                        }
                      }
                    ],
                    "bar": [
                      {
                        "error_x": {
                          "color": "#2a3f5f"
                        },
                        "error_y": {
                          "color": "#2a3f5f"
                        },
                        "marker": {
                          "line": {
                            "color": "#E5ECF6",
                            "width": 0.5
                          },
                          "pattern": {
                            "fillmode": "overlay",
                            "size": 10,
                            "solidity": 0.2
                          }
                        },
                        "type": "bar"
                      }
                    ],
                    "scattergeo": [
                      {
                        "type": "scattergeo",
                        "marker": {
                          "colorbar": {
                            "outlinewidth": 0,
                            "ticks": ""
                          }
                        }
                      }
                    ],
                    "scatterpolar": [
                      {
                        "type": "scatterpolar",
                        "marker": {
                          "colorbar": {
                            "outlinewidth": 0,
                            "ticks": ""
                          }
                        }
                      }
                    ],
                    "histogram": [
                      {
                        "marker": {
                          "pattern": {
                            "fillmode": "overlay",
                            "size": 10,
                            "solidity": 0.2
                          }
                        },
                        "type": "histogram"
                      }
                    ],
                    "scattergl": [
                      {
                        "type": "scattergl",
                        "marker": {
                          "colorbar": {
                            "outlinewidth": 0,
                            "ticks": ""
                          }
                        }
                      }
                    ],
                    "scatter3d": [
                      {
                        "type": "scatter3d",
                        "line": {
                          "colorbar": {
                            "outlinewidth": 0,
                            "ticks": ""
                          }
                        },
                        "marker": {
                          "colorbar": {
                            "outlinewidth": 0,
                            "ticks": ""
                          }
                        }
                      }
                    ],
                    "scattermap": [
                      {
                        "type": "scattermap",
                        "marker": {
                          "colorbar": {
                            "outlinewidth": 0,
                            "ticks": ""
                          }
                        }
                      }
                    ],
                    "scattermapbox": [
                      {
                        "type": "scattermapbox",
                        "marker": {
                          "colorbar": {
                            "outlinewidth": 0,
                            "ticks": ""
                          }
                        }
                      }
                    ],
                    "scatterternary": [
                      {
                        "type": "scatterternary",
                        "marker": {
                          "colorbar": {
                            "outlinewidth": 0,
                            "ticks": ""
                          }
                        }
                      }
                    ],
                    "scattercarpet": [
                      {
                        "type": "scattercarpet",
                        "marker": {
                          "colorbar": {
                            "outlinewidth": 0,
                            "ticks": ""
                          }
                        }
                      }
                    ],
                    "carpet": [
                      {
                        "aaxis": {
                          "endlinecolor": "#2a3f5f",
                          "gridcolor": "white",
                          "linecolor": "white",
                          "minorgridcolor": "white",
                          "startlinecolor": "#2a3f5f"
                        },
                        "baxis": {
                          "endlinecolor": "#2a3f5f",
                          "gridcolor": "white",
                          "linecolor": "white",
                          "minorgridcolor": "white",
                          "startlinecolor": "#2a3f5f"
                        },
                        "type": "carpet"
                      }
                    ],
                    "table": [
                      {
                        "cells": {
                          "fill": {
                            "color": "#EBF0F8"
                          },
                          "line": {
                            "color": "white"
                          }
                        },
                        "header": {
                          "fill": {
                            "color": "#C8D4E3"
                          },
                          "line": {
                            "color": "white"
                          }
                        },
                        "type": "table"
                      }
                    ],
                    "barpolar": [
                      {
                        "marker": {
                          "line": {
                            "color": "#E5ECF6",
                            "width": 0.5
                          },
                          "pattern": {
                            "fillmode": "overlay",
                            "size": 10,
                            "solidity": 0.2
                          }
                        },
                        "type": "barpolar"
                      }
                    ],
                    "pie": [
                      {
                        "automargin": true,
                        "type": "pie"
                      }
                    ]
                  },
                  "layout": {
                    "autotypenumbers": "strict",
                    "colorway": [
                      "#636efa",
                      "#EF553B",
                      "#00cc96",
                      "#ab63fa",
                      "#FFA15A",
                      "#19d3f3",
                      "#FF6692",
                      "#B6E880",
                      "#FF97FF",
                      "#FECB52"
                    ],
                    "font": {
                      "color": "#2a3f5f"
                    },
                    "hovermode": "closest",
                    "hoverlabel": {
                      "align": "left"
                    },
                    "paper_bgcolor": "white",
                    "plot_bgcolor": "#E5ECF6",
                    "polar": {
                      "bgcolor": "#E5ECF6",
                      "angularaxis": {
                        "gridcolor": "white",
                        "linecolor": "white",
                        "ticks": ""
                      },
                      "radialaxis": {
                        "gridcolor": "white",
                        "linecolor": "white",
                        "ticks": ""
                      }
                    },
                    "ternary": {
                      "bgcolor": "#E5ECF6",
                      "aaxis": {
                        "gridcolor": "white",
                        "linecolor": "white",
                        "ticks": ""
                      },
                      "baxis": {
                        "gridcolor": "white",
                        "linecolor": "white",
                        "ticks": ""
                      },
                      "caxis": {
                        "gridcolor": "white",
                        "linecolor": "white",
                        "ticks": ""
                      }
                    },
                    "coloraxis": {
                      "colorbar": {
                        "outlinewidth": 0,
                        "ticks": ""
                      }
                    },
                    "colorscale": {
                      "sequential": [
                        [
                          0,
                          "#0d0887"
                        ],
                        [
                          0.1111111111111111,
                          "#46039f"
                        ],
                        [
                          0.2222222222222222,
                          "#7201a8"
                        ],
                        [
                          0.3333333333333333,
                          "#9c179e"
                        ],
                        [
                          0.4444444444444444,
                          "#bd3786"
                        ],
                        [
                          0.5555555555555556,
                          "#d8576b"
                        ],
                        [
                          0.6666666666666666,
                          "#ed7953"
                        ],
                        [
                          0.7777777777777778,
                          "#fb9f3a"
                        ],
                        [
                          0.8888888888888888,
                          "#fdca26"
                        ],
                        [
                          1,
                          "#f0f921"
                        ]
                      ],
                      "sequentialminus": [
                        [
                          0,
                          "#0d0887"
                        ],
                        [
                          0.1111111111111111,
                          "#46039f"
                        ],
                        [
                          0.2222222222222222,
                          "#7201a8"
                        ],
                        [
                          0.3333333333333333,
                          "#9c179e"
                        ],
                        [
                          0.4444444444444444,
                          "#bd3786"
                        ],
                        [
                          0.5555555555555556,
                          "#d8576b"
                        ],
                        [
                          0.6666666666666666,
                          "#ed7953"
                        ],
                        [
                          0.7777777777777778,
                          "#fb9f3a"
                        ],
                        [
                          0.8888888888888888,
                          "#fdca26"
                        ],
                        [
                          1,
                          "#f0f921"
                        ]
                      ],
                      "diverging": [
                        [
                          0,
                          "#8e0152"
                        ],
                        [
                          0.1,
                          "#c51b7d"
                        ],
                        [
                          0.2,
                          "#de77ae"
                        ],
                        [
                          0.3,
                          "#f1b6da"
                        ],
                        [
                          0.4,
                          "#fde0ef"
                        ],
                        [
                          0.5,
                          "#f7f7f7"
                        ],
                        [
                          0.6,
                          "#e6f5d0"
                        ],
                        [
                          0.7,
                          "#b8e186"
                        ],
                        [
                          0.8,
                          "#7fbc41"
                        ],
                        [
                          0.9,
                          "#4d9221"
                        ],
                        [
                          1,
                          "#276419"
                        ]
                      ]
                    },
                    "xaxis": {
                      "gridcolor": "white",
                      "linecolor": "white",
                      "ticks": "",
                      "title": {
                        "standoff": 15
                      },
                      "zerolinecolor": "white",
                      "automargin": true,
                      "zerolinewidth": 2
                    },
                    "yaxis": {
                      "gridcolor": "white",
                      "linecolor": "white",
                      "ticks": "",
                      "title": {
                        "standoff": 15
                      },
                      "zerolinecolor": "white",
                      "automargin": true,
                      "zerolinewidth": 2
                    },
                    "scene": {
                      "xaxis": {
                        "backgroundcolor": "#E5ECF6",
                        "gridcolor": "white",
                        "linecolor": "white",
                        "showbackground": true,
                        "ticks": "",
                        "zerolinecolor": "white",
                        "gridwidth": 2
                      },
                      "yaxis": {
                        "backgroundcolor": "#E5ECF6",
                        "gridcolor": "white",
                        "linecolor": "white",
                        "showbackground": true,
                        "ticks": "",
                        "zerolinecolor": "white",
                        "gridwidth": 2
                      },
                      "zaxis": {
                        "backgroundcolor": "#E5ECF6",
                        "gridcolor": "white",
                        "linecolor": "white",
                        "showbackground": true,
                        "ticks": "",
                        "zerolinecolor": "white",
                        "gridwidth": 2
                      }
                    },
                    "shapedefaults": {
                      "line": {
                        "color": "#2a3f5f"
                      }
                    },
                    "annotationdefaults": {
                      "arrowcolor": "#2a3f5f",
                      "arrowhead": 0,
                      "arrowwidth": 1
                    },
                    "geo": {
                      "bgcolor": "white",
                      "landcolor": "#E5ECF6",
                      "subunitcolor": "white",
                      "showland": true,
                      "showlakes": true,
                      "lakecolor": "white"
                    },
                    "title": {
                      "x": 0.05
                    },
                    "mapbox": {
                      "style": "light"
                    }
                  }
                },
                "xaxis": {
                  "anchor": "y",
                  "domain": [
                    0,
                    0.235
                  ],
                  "title": {
                    "text": "conversion_rate"
                  }
                },
                "yaxis": {
                  "anchor": "x",
                  "domain": [
                    0,
                    1
                  ],
                  "title": {
                    "text": "event_type"
                  }
                },
                "xaxis2": {
                  "anchor": "y2",
                  "domain": [
                    0.255,
                    0.49
                  ],
                  "matches": "x",
                  "title": {
                    "text": "conversion_rate"
                  }
                },
                "yaxis2": {
                  "anchor": "x2",
                  "domain": [
                    0,
                    1
                  ],
                  "matches": "y",
                  "showticklabels": false
                },
                "xaxis3": {
                  "anchor": "y3",
                  "domain": [
                    0.51,
                    0.745
                  ],
                  "matches": "x",
                  "title": {
                    "text": "conversion_rate"
                  }
                },
                "yaxis3": {
                  "anchor": "x3",
                  "domain": [
                    0,
                    1
                  ],
                  "matches": "y",
                  "showticklabels": false
                },
                "xaxis4": {
                  "anchor": "y4",
                  "domain": [
                    0.7649999999999999,
                    0.9999999999999999
                  ],
                  "matches": "x",
                  "title": {
                    "text": "conversion_rate"
                  }
                },
                "yaxis4": {
                  "anchor": "x4",
                  "domain": [
                    0,
                    1
                  ],
                  "matches": "y",
                  "showticklabels": false
                },
                "annotations": [
                  {
                    "font": {},
                    "showarrow": false,
                    "text": "price_range=~3",
                    "x": 0.1175,
                    "xanchor": "center",
                    "xref": "paper",
                    "y": 1,
                    "yanchor": "bottom",
                    "yref": "paper"
                  },
                  {
                    "font": {},
                    "showarrow": false,
                    "text": "price_range=3~5",
                    "x": 0.3725,
                    "xanchor": "center",
                    "xref": "paper",
                    "y": 1,
                    "yanchor": "bottom",
                    "yref": "paper"
                  },
                  {
                    "font": {},
                    "showarrow": false,
                    "text": "price_range=5~8",
                    "x": 0.6275,
                    "xanchor": "center",
                    "xref": "paper",
                    "y": 1,
                    "yanchor": "bottom",
                    "yref": "paper"
                  },
                  {
                    "font": {},
                    "showarrow": false,
                    "text": "price_range=8~",
                    "x": 0.8824999999999998,
                    "xanchor": "center",
                    "xref": "paper",
                    "y": 1,
                    "yanchor": "bottom",
                    "yref": "paper"
                  }
                ],
                "legend": {
                  "title": {
                    "text": "price_range"
                  },
                  "tracegroupgap": 0
                },
                "margin": {
                  "t": 60
                },
                "width": 800,
                "height": 500
              },
              "config": {
                "plotlyServerURL": "https://plot.ly"
              }
            },
            "text/html": [
              "<div>            <script src=\"https://cdnjs.cloudflare.com/ajax/libs/mathjax/2.7.5/MathJax.js?config=TeX-AMS-MML_SVG\"></script><script type=\"text/javascript\">if (window.MathJax && window.MathJax.Hub && window.MathJax.Hub.Config) {window.MathJax.Hub.Config({SVG: {font: \"STIX-Web\"}});}</script>                <script type=\"text/javascript\">window.PlotlyConfig = {MathJaxConfig: 'local'};</script>\n",
              "        <script charset=\"utf-8\" src=\"https://cdn.plot.ly/plotly-3.0.1.min.js\" integrity=\"sha256-oy6Be7Eh6eiQFs5M7oXuPxxm9qbJXEtTpfSI93dW16Q=\" crossorigin=\"anonymous\"></script>                <div id=\"894056aa-d652-4059-8ff3-f3dc2c6ba674\" class=\"plotly-graph-div\" style=\"height:500px; width:800px;\"></div>            <script type=\"text/javascript\">                window.PLOTLYENV=window.PLOTLYENV || {};                                if (document.getElementById(\"894056aa-d652-4059-8ff3-f3dc2c6ba674\")) {                    Plotly.newPlot(                        \"894056aa-d652-4059-8ff3-f3dc2c6ba674\",                        [{\"hovertemplate\":\"price_range=~3\\u003cbr\\u003econversion_rate=%{x:.2%}\\u003cbr\\u003eevent_type=%{y}\\u003cextra\\u003e\\u003c\\u002fextra\\u003e\",\"legendgroup\":\"~3\",\"marker\":{\"color\":\"rgb(228,26,28)\"},\"name\":\"~3\",\"orientation\":\"h\",\"showlegend\":true,\"x\":{\"dtype\":\"f8\",\"bdata\":\"AAAAAAAA8D8eN6jRhCTEP1vUQsWrDrA\\u002f\"},\"xaxis\":\"x\",\"y\":[\"view\",\"cart\",\"purchase\"],\"yaxis\":\"y\",\"type\":\"funnel\",\"texttemplate\":\"%{value:.2%}\"},{\"hovertemplate\":\"price_range=3~5\\u003cbr\\u003econversion_rate=%{x:.2%}\\u003cbr\\u003eevent_type=%{y}\\u003cextra\\u003e\\u003c\\u002fextra\\u003e\",\"legendgroup\":\"3~5\",\"marker\":{\"color\":\"rgb(55,126,184)\"},\"name\":\"3~5\",\"orientation\":\"h\",\"showlegend\":true,\"x\":{\"dtype\":\"f8\",\"bdata\":\"AAAAAAAA8D\\u002fn08BA4\\u002f3BPwnjYifEPKk\\u002f\"},\"xaxis\":\"x2\",\"y\":[\"view\",\"cart\",\"purchase\"],\"yaxis\":\"y2\",\"type\":\"funnel\",\"texttemplate\":\"%{value:.2%}\"},{\"hovertemplate\":\"price_range=5~8\\u003cbr\\u003econversion_rate=%{x:.2%}\\u003cbr\\u003eevent_type=%{y}\\u003cextra\\u003e\\u003c\\u002fextra\\u003e\",\"legendgroup\":\"5~8\",\"marker\":{\"color\":\"rgb(77,175,74)\"},\"name\":\"5~8\",\"orientation\":\"h\",\"showlegend\":true,\"x\":{\"dtype\":\"f8\",\"bdata\":\"AAAAAAAA8D+nUom9SLLAP3Lh+q9vu6Y\\u002f\"},\"xaxis\":\"x3\",\"y\":[\"view\",\"cart\",\"purchase\"],\"yaxis\":\"y3\",\"type\":\"funnel\",\"texttemplate\":\"%{value:.2%}\"},{\"hovertemplate\":\"price_range=8~\\u003cbr\\u003econversion_rate=%{x:.2%}\\u003cbr\\u003eevent_type=%{y}\\u003cextra\\u003e\\u003c\\u002fextra\\u003e\",\"legendgroup\":\"8~\",\"marker\":{\"color\":\"rgb(152,78,163)\"},\"name\":\"8~\",\"orientation\":\"h\",\"showlegend\":true,\"x\":{\"dtype\":\"f8\",\"bdata\":\"AAAAAAAA8D+hY9t87Y21P+3JE8kxRJ4\\u002f\"},\"xaxis\":\"x4\",\"y\":[\"view\",\"cart\",\"purchase\"],\"yaxis\":\"y4\",\"type\":\"funnel\",\"texttemplate\":\"%{value:.2%}\"}],                        {\"template\":{\"data\":{\"histogram2dcontour\":[{\"type\":\"histogram2dcontour\",\"colorbar\":{\"outlinewidth\":0,\"ticks\":\"\"},\"colorscale\":[[0.0,\"#0d0887\"],[0.1111111111111111,\"#46039f\"],[0.2222222222222222,\"#7201a8\"],[0.3333333333333333,\"#9c179e\"],[0.4444444444444444,\"#bd3786\"],[0.5555555555555556,\"#d8576b\"],[0.6666666666666666,\"#ed7953\"],[0.7777777777777778,\"#fb9f3a\"],[0.8888888888888888,\"#fdca26\"],[1.0,\"#f0f921\"]]}],\"choropleth\":[{\"type\":\"choropleth\",\"colorbar\":{\"outlinewidth\":0,\"ticks\":\"\"}}],\"histogram2d\":[{\"type\":\"histogram2d\",\"colorbar\":{\"outlinewidth\":0,\"ticks\":\"\"},\"colorscale\":[[0.0,\"#0d0887\"],[0.1111111111111111,\"#46039f\"],[0.2222222222222222,\"#7201a8\"],[0.3333333333333333,\"#9c179e\"],[0.4444444444444444,\"#bd3786\"],[0.5555555555555556,\"#d8576b\"],[0.6666666666666666,\"#ed7953\"],[0.7777777777777778,\"#fb9f3a\"],[0.8888888888888888,\"#fdca26\"],[1.0,\"#f0f921\"]]}],\"heatmap\":[{\"type\":\"heatmap\",\"colorbar\":{\"outlinewidth\":0,\"ticks\":\"\"},\"colorscale\":[[0.0,\"#0d0887\"],[0.1111111111111111,\"#46039f\"],[0.2222222222222222,\"#7201a8\"],[0.3333333333333333,\"#9c179e\"],[0.4444444444444444,\"#bd3786\"],[0.5555555555555556,\"#d8576b\"],[0.6666666666666666,\"#ed7953\"],[0.7777777777777778,\"#fb9f3a\"],[0.8888888888888888,\"#fdca26\"],[1.0,\"#f0f921\"]]}],\"contourcarpet\":[{\"type\":\"contourcarpet\",\"colorbar\":{\"outlinewidth\":0,\"ticks\":\"\"}}],\"contour\":[{\"type\":\"contour\",\"colorbar\":{\"outlinewidth\":0,\"ticks\":\"\"},\"colorscale\":[[0.0,\"#0d0887\"],[0.1111111111111111,\"#46039f\"],[0.2222222222222222,\"#7201a8\"],[0.3333333333333333,\"#9c179e\"],[0.4444444444444444,\"#bd3786\"],[0.5555555555555556,\"#d8576b\"],[0.6666666666666666,\"#ed7953\"],[0.7777777777777778,\"#fb9f3a\"],[0.8888888888888888,\"#fdca26\"],[1.0,\"#f0f921\"]]}],\"surface\":[{\"type\":\"surface\",\"colorbar\":{\"outlinewidth\":0,\"ticks\":\"\"},\"colorscale\":[[0.0,\"#0d0887\"],[0.1111111111111111,\"#46039f\"],[0.2222222222222222,\"#7201a8\"],[0.3333333333333333,\"#9c179e\"],[0.4444444444444444,\"#bd3786\"],[0.5555555555555556,\"#d8576b\"],[0.6666666666666666,\"#ed7953\"],[0.7777777777777778,\"#fb9f3a\"],[0.8888888888888888,\"#fdca26\"],[1.0,\"#f0f921\"]]}],\"mesh3d\":[{\"type\":\"mesh3d\",\"colorbar\":{\"outlinewidth\":0,\"ticks\":\"\"}}],\"scatter\":[{\"fillpattern\":{\"fillmode\":\"overlay\",\"size\":10,\"solidity\":0.2},\"type\":\"scatter\"}],\"parcoords\":[{\"type\":\"parcoords\",\"line\":{\"colorbar\":{\"outlinewidth\":0,\"ticks\":\"\"}}}],\"scatterpolargl\":[{\"type\":\"scatterpolargl\",\"marker\":{\"colorbar\":{\"outlinewidth\":0,\"ticks\":\"\"}}}],\"bar\":[{\"error_x\":{\"color\":\"#2a3f5f\"},\"error_y\":{\"color\":\"#2a3f5f\"},\"marker\":{\"line\":{\"color\":\"#E5ECF6\",\"width\":0.5},\"pattern\":{\"fillmode\":\"overlay\",\"size\":10,\"solidity\":0.2}},\"type\":\"bar\"}],\"scattergeo\":[{\"type\":\"scattergeo\",\"marker\":{\"colorbar\":{\"outlinewidth\":0,\"ticks\":\"\"}}}],\"scatterpolar\":[{\"type\":\"scatterpolar\",\"marker\":{\"colorbar\":{\"outlinewidth\":0,\"ticks\":\"\"}}}],\"histogram\":[{\"marker\":{\"pattern\":{\"fillmode\":\"overlay\",\"size\":10,\"solidity\":0.2}},\"type\":\"histogram\"}],\"scattergl\":[{\"type\":\"scattergl\",\"marker\":{\"colorbar\":{\"outlinewidth\":0,\"ticks\":\"\"}}}],\"scatter3d\":[{\"type\":\"scatter3d\",\"line\":{\"colorbar\":{\"outlinewidth\":0,\"ticks\":\"\"}},\"marker\":{\"colorbar\":{\"outlinewidth\":0,\"ticks\":\"\"}}}],\"scattermap\":[{\"type\":\"scattermap\",\"marker\":{\"colorbar\":{\"outlinewidth\":0,\"ticks\":\"\"}}}],\"scattermapbox\":[{\"type\":\"scattermapbox\",\"marker\":{\"colorbar\":{\"outlinewidth\":0,\"ticks\":\"\"}}}],\"scatterternary\":[{\"type\":\"scatterternary\",\"marker\":{\"colorbar\":{\"outlinewidth\":0,\"ticks\":\"\"}}}],\"scattercarpet\":[{\"type\":\"scattercarpet\",\"marker\":{\"colorbar\":{\"outlinewidth\":0,\"ticks\":\"\"}}}],\"carpet\":[{\"aaxis\":{\"endlinecolor\":\"#2a3f5f\",\"gridcolor\":\"white\",\"linecolor\":\"white\",\"minorgridcolor\":\"white\",\"startlinecolor\":\"#2a3f5f\"},\"baxis\":{\"endlinecolor\":\"#2a3f5f\",\"gridcolor\":\"white\",\"linecolor\":\"white\",\"minorgridcolor\":\"white\",\"startlinecolor\":\"#2a3f5f\"},\"type\":\"carpet\"}],\"table\":[{\"cells\":{\"fill\":{\"color\":\"#EBF0F8\"},\"line\":{\"color\":\"white\"}},\"header\":{\"fill\":{\"color\":\"#C8D4E3\"},\"line\":{\"color\":\"white\"}},\"type\":\"table\"}],\"barpolar\":[{\"marker\":{\"line\":{\"color\":\"#E5ECF6\",\"width\":0.5},\"pattern\":{\"fillmode\":\"overlay\",\"size\":10,\"solidity\":0.2}},\"type\":\"barpolar\"}],\"pie\":[{\"automargin\":true,\"type\":\"pie\"}]},\"layout\":{\"autotypenumbers\":\"strict\",\"colorway\":[\"#636efa\",\"#EF553B\",\"#00cc96\",\"#ab63fa\",\"#FFA15A\",\"#19d3f3\",\"#FF6692\",\"#B6E880\",\"#FF97FF\",\"#FECB52\"],\"font\":{\"color\":\"#2a3f5f\"},\"hovermode\":\"closest\",\"hoverlabel\":{\"align\":\"left\"},\"paper_bgcolor\":\"white\",\"plot_bgcolor\":\"#E5ECF6\",\"polar\":{\"bgcolor\":\"#E5ECF6\",\"angularaxis\":{\"gridcolor\":\"white\",\"linecolor\":\"white\",\"ticks\":\"\"},\"radialaxis\":{\"gridcolor\":\"white\",\"linecolor\":\"white\",\"ticks\":\"\"}},\"ternary\":{\"bgcolor\":\"#E5ECF6\",\"aaxis\":{\"gridcolor\":\"white\",\"linecolor\":\"white\",\"ticks\":\"\"},\"baxis\":{\"gridcolor\":\"white\",\"linecolor\":\"white\",\"ticks\":\"\"},\"caxis\":{\"gridcolor\":\"white\",\"linecolor\":\"white\",\"ticks\":\"\"}},\"coloraxis\":{\"colorbar\":{\"outlinewidth\":0,\"ticks\":\"\"}},\"colorscale\":{\"sequential\":[[0.0,\"#0d0887\"],[0.1111111111111111,\"#46039f\"],[0.2222222222222222,\"#7201a8\"],[0.3333333333333333,\"#9c179e\"],[0.4444444444444444,\"#bd3786\"],[0.5555555555555556,\"#d8576b\"],[0.6666666666666666,\"#ed7953\"],[0.7777777777777778,\"#fb9f3a\"],[0.8888888888888888,\"#fdca26\"],[1.0,\"#f0f921\"]],\"sequentialminus\":[[0.0,\"#0d0887\"],[0.1111111111111111,\"#46039f\"],[0.2222222222222222,\"#7201a8\"],[0.3333333333333333,\"#9c179e\"],[0.4444444444444444,\"#bd3786\"],[0.5555555555555556,\"#d8576b\"],[0.6666666666666666,\"#ed7953\"],[0.7777777777777778,\"#fb9f3a\"],[0.8888888888888888,\"#fdca26\"],[1.0,\"#f0f921\"]],\"diverging\":[[0,\"#8e0152\"],[0.1,\"#c51b7d\"],[0.2,\"#de77ae\"],[0.3,\"#f1b6da\"],[0.4,\"#fde0ef\"],[0.5,\"#f7f7f7\"],[0.6,\"#e6f5d0\"],[0.7,\"#b8e186\"],[0.8,\"#7fbc41\"],[0.9,\"#4d9221\"],[1,\"#276419\"]]},\"xaxis\":{\"gridcolor\":\"white\",\"linecolor\":\"white\",\"ticks\":\"\",\"title\":{\"standoff\":15},\"zerolinecolor\":\"white\",\"automargin\":true,\"zerolinewidth\":2},\"yaxis\":{\"gridcolor\":\"white\",\"linecolor\":\"white\",\"ticks\":\"\",\"title\":{\"standoff\":15},\"zerolinecolor\":\"white\",\"automargin\":true,\"zerolinewidth\":2},\"scene\":{\"xaxis\":{\"backgroundcolor\":\"#E5ECF6\",\"gridcolor\":\"white\",\"linecolor\":\"white\",\"showbackground\":true,\"ticks\":\"\",\"zerolinecolor\":\"white\",\"gridwidth\":2},\"yaxis\":{\"backgroundcolor\":\"#E5ECF6\",\"gridcolor\":\"white\",\"linecolor\":\"white\",\"showbackground\":true,\"ticks\":\"\",\"zerolinecolor\":\"white\",\"gridwidth\":2},\"zaxis\":{\"backgroundcolor\":\"#E5ECF6\",\"gridcolor\":\"white\",\"linecolor\":\"white\",\"showbackground\":true,\"ticks\":\"\",\"zerolinecolor\":\"white\",\"gridwidth\":2}},\"shapedefaults\":{\"line\":{\"color\":\"#2a3f5f\"}},\"annotationdefaults\":{\"arrowcolor\":\"#2a3f5f\",\"arrowhead\":0,\"arrowwidth\":1},\"geo\":{\"bgcolor\":\"white\",\"landcolor\":\"#E5ECF6\",\"subunitcolor\":\"white\",\"showland\":true,\"showlakes\":true,\"lakecolor\":\"white\"},\"title\":{\"x\":0.05},\"mapbox\":{\"style\":\"light\"}}},\"xaxis\":{\"anchor\":\"y\",\"domain\":[0.0,0.235],\"title\":{\"text\":\"conversion_rate\"}},\"yaxis\":{\"anchor\":\"x\",\"domain\":[0.0,1.0],\"title\":{\"text\":\"event_type\"}},\"xaxis2\":{\"anchor\":\"y2\",\"domain\":[0.255,0.49],\"matches\":\"x\",\"title\":{\"text\":\"conversion_rate\"}},\"yaxis2\":{\"anchor\":\"x2\",\"domain\":[0.0,1.0],\"matches\":\"y\",\"showticklabels\":false},\"xaxis3\":{\"anchor\":\"y3\",\"domain\":[0.51,0.745],\"matches\":\"x\",\"title\":{\"text\":\"conversion_rate\"}},\"yaxis3\":{\"anchor\":\"x3\",\"domain\":[0.0,1.0],\"matches\":\"y\",\"showticklabels\":false},\"xaxis4\":{\"anchor\":\"y4\",\"domain\":[0.7649999999999999,0.9999999999999999],\"matches\":\"x\",\"title\":{\"text\":\"conversion_rate\"}},\"yaxis4\":{\"anchor\":\"x4\",\"domain\":[0.0,1.0],\"matches\":\"y\",\"showticklabels\":false},\"annotations\":[{\"font\":{},\"showarrow\":false,\"text\":\"price_range=~3\",\"x\":0.1175,\"xanchor\":\"center\",\"xref\":\"paper\",\"y\":1.0,\"yanchor\":\"bottom\",\"yref\":\"paper\"},{\"font\":{},\"showarrow\":false,\"text\":\"price_range=3~5\",\"x\":0.3725,\"xanchor\":\"center\",\"xref\":\"paper\",\"y\":1.0,\"yanchor\":\"bottom\",\"yref\":\"paper\"},{\"font\":{},\"showarrow\":false,\"text\":\"price_range=5~8\",\"x\":0.6275,\"xanchor\":\"center\",\"xref\":\"paper\",\"y\":1.0,\"yanchor\":\"bottom\",\"yref\":\"paper\"},{\"font\":{},\"showarrow\":false,\"text\":\"price_range=8~\",\"x\":0.8824999999999998,\"xanchor\":\"center\",\"xref\":\"paper\",\"y\":1.0,\"yanchor\":\"bottom\",\"yref\":\"paper\"}],\"legend\":{\"title\":{\"text\":\"price_range\"},\"tracegroupgap\":0},\"margin\":{\"t\":60},\"width\":800,\"height\":500},                        {\"responsive\": true}                    ).then(function(){\n",
              "                            \n",
              "var gd = document.getElementById('894056aa-d652-4059-8ff3-f3dc2c6ba674');\n",
              "var x = new MutationObserver(function (mutations, observer) {{\n",
              "        var display = window.getComputedStyle(gd).display;\n",
              "        if (!display || display === 'none') {{\n",
              "            console.log([gd, 'removed!']);\n",
              "            Plotly.purge(gd);\n",
              "            observer.disconnect();\n",
              "        }}\n",
              "}});\n",
              "\n",
              "// Listen for the removal of the full notebook cells\n",
              "var notebookContainer = gd.closest('#notebook-container');\n",
              "if (notebookContainer) {{\n",
              "    x.observe(notebookContainer, {childList: true});\n",
              "}}\n",
              "\n",
              "// Listen for the clearing of the current output cell\n",
              "var outputEl = gd.closest('.output');\n",
              "if (outputEl) {{\n",
              "    x.observe(outputEl, {childList: true});\n",
              "}}\n",
              "\n",
              "                        })                };            </script>        </div>"
            ]
          },
          "metadata": {}
        }
      ]
    },
    {
      "cell_type": "markdown",
      "source": [
        "It’s clear that higher-priced products have lower conversion rates to purchase."
      ],
      "metadata": {
        "id": "OwPmKG-mhMVs"
      }
    },
    {
      "cell_type": "code",
      "source": [
        "pvt = price_funnel.pivot(index='price_range', columns='event_type', values='users')\n",
        "\n",
        "# Calculate view-to-cart and cart-to-purchase conversion rates\n",
        "pvt['view_to_cart'] = pvt['cart'] / pvt['view']*100\n",
        "pvt['cart_to_purchase'] = pvt['purchase'] / pvt['cart']*100\n",
        "\n",
        "pvt = pvt[['view', 'cart', 'purchase', 'view_to_cart', 'cart_to_purchase']]\n",
        "pvt.reindex(index=['~3', '3~5', '5~8', '8~'])"
      ],
      "metadata": {
        "colab": {
          "base_uri": "https://localhost:8080/",
          "height": 206
        },
        "id": "nLvxDWSDZJgv",
        "outputId": "39bf722d-41a0-470a-f182-d9c6f01ac50f"
      },
      "execution_count": 47,
      "outputs": [
        {
          "output_type": "execute_result",
          "data": {
            "text/plain": [
              "event_type     view   cart  purchase  view_to_cart  cart_to_purchase\n",
              "price_range                                                         \n",
              "~3           316323  49778     19841     15.736447         39.858974\n",
              "3~5          237058  33321     11685     14.056054         35.067975\n",
              "5~8          238430  31101     10586     13.044080         34.037491\n",
              "8~           376831  31728     11138      8.419689         35.104639"
            ],
            "text/html": [
              "\n",
              "  <div id=\"df-1962ffbe-e473-4deb-9274-6d56bf92d32e\" class=\"colab-df-container\">\n",
              "    <div>\n",
              "<style scoped>\n",
              "    .dataframe tbody tr th:only-of-type {\n",
              "        vertical-align: middle;\n",
              "    }\n",
              "\n",
              "    .dataframe tbody tr th {\n",
              "        vertical-align: top;\n",
              "    }\n",
              "\n",
              "    .dataframe thead th {\n",
              "        text-align: right;\n",
              "    }\n",
              "</style>\n",
              "<table border=\"1\" class=\"dataframe\">\n",
              "  <thead>\n",
              "    <tr style=\"text-align: right;\">\n",
              "      <th>event_type</th>\n",
              "      <th>view</th>\n",
              "      <th>cart</th>\n",
              "      <th>purchase</th>\n",
              "      <th>view_to_cart</th>\n",
              "      <th>cart_to_purchase</th>\n",
              "    </tr>\n",
              "    <tr>\n",
              "      <th>price_range</th>\n",
              "      <th></th>\n",
              "      <th></th>\n",
              "      <th></th>\n",
              "      <th></th>\n",
              "      <th></th>\n",
              "    </tr>\n",
              "  </thead>\n",
              "  <tbody>\n",
              "    <tr>\n",
              "      <th>~3</th>\n",
              "      <td>316323</td>\n",
              "      <td>49778</td>\n",
              "      <td>19841</td>\n",
              "      <td>15.736447</td>\n",
              "      <td>39.858974</td>\n",
              "    </tr>\n",
              "    <tr>\n",
              "      <th>3~5</th>\n",
              "      <td>237058</td>\n",
              "      <td>33321</td>\n",
              "      <td>11685</td>\n",
              "      <td>14.056054</td>\n",
              "      <td>35.067975</td>\n",
              "    </tr>\n",
              "    <tr>\n",
              "      <th>5~8</th>\n",
              "      <td>238430</td>\n",
              "      <td>31101</td>\n",
              "      <td>10586</td>\n",
              "      <td>13.044080</td>\n",
              "      <td>34.037491</td>\n",
              "    </tr>\n",
              "    <tr>\n",
              "      <th>8~</th>\n",
              "      <td>376831</td>\n",
              "      <td>31728</td>\n",
              "      <td>11138</td>\n",
              "      <td>8.419689</td>\n",
              "      <td>35.104639</td>\n",
              "    </tr>\n",
              "  </tbody>\n",
              "</table>\n",
              "</div>\n",
              "    <div class=\"colab-df-buttons\">\n",
              "\n",
              "  <div class=\"colab-df-container\">\n",
              "    <button class=\"colab-df-convert\" onclick=\"convertToInteractive('df-1962ffbe-e473-4deb-9274-6d56bf92d32e')\"\n",
              "            title=\"Convert this dataframe to an interactive table.\"\n",
              "            style=\"display:none;\">\n",
              "\n",
              "  <svg xmlns=\"http://www.w3.org/2000/svg\" height=\"24px\" viewBox=\"0 -960 960 960\">\n",
              "    <path d=\"M120-120v-720h720v720H120Zm60-500h600v-160H180v160Zm220 220h160v-160H400v160Zm0 220h160v-160H400v160ZM180-400h160v-160H180v160Zm440 0h160v-160H620v160ZM180-180h160v-160H180v160Zm440 0h160v-160H620v160Z\"/>\n",
              "  </svg>\n",
              "    </button>\n",
              "\n",
              "  <style>\n",
              "    .colab-df-container {\n",
              "      display:flex;\n",
              "      gap: 12px;\n",
              "    }\n",
              "\n",
              "    .colab-df-convert {\n",
              "      background-color: #E8F0FE;\n",
              "      border: none;\n",
              "      border-radius: 50%;\n",
              "      cursor: pointer;\n",
              "      display: none;\n",
              "      fill: #1967D2;\n",
              "      height: 32px;\n",
              "      padding: 0 0 0 0;\n",
              "      width: 32px;\n",
              "    }\n",
              "\n",
              "    .colab-df-convert:hover {\n",
              "      background-color: #E2EBFA;\n",
              "      box-shadow: 0px 1px 2px rgba(60, 64, 67, 0.3), 0px 1px 3px 1px rgba(60, 64, 67, 0.15);\n",
              "      fill: #174EA6;\n",
              "    }\n",
              "\n",
              "    .colab-df-buttons div {\n",
              "      margin-bottom: 4px;\n",
              "    }\n",
              "\n",
              "    [theme=dark] .colab-df-convert {\n",
              "      background-color: #3B4455;\n",
              "      fill: #D2E3FC;\n",
              "    }\n",
              "\n",
              "    [theme=dark] .colab-df-convert:hover {\n",
              "      background-color: #434B5C;\n",
              "      box-shadow: 0px 1px 3px 1px rgba(0, 0, 0, 0.15);\n",
              "      filter: drop-shadow(0px 1px 2px rgba(0, 0, 0, 0.3));\n",
              "      fill: #FFFFFF;\n",
              "    }\n",
              "  </style>\n",
              "\n",
              "    <script>\n",
              "      const buttonEl =\n",
              "        document.querySelector('#df-1962ffbe-e473-4deb-9274-6d56bf92d32e button.colab-df-convert');\n",
              "      buttonEl.style.display =\n",
              "        google.colab.kernel.accessAllowed ? 'block' : 'none';\n",
              "\n",
              "      async function convertToInteractive(key) {\n",
              "        const element = document.querySelector('#df-1962ffbe-e473-4deb-9274-6d56bf92d32e');\n",
              "        const dataTable =\n",
              "          await google.colab.kernel.invokeFunction('convertToInteractive',\n",
              "                                                    [key], {});\n",
              "        if (!dataTable) return;\n",
              "\n",
              "        const docLinkHtml = 'Like what you see? Visit the ' +\n",
              "          '<a target=\"_blank\" href=https://colab.research.google.com/notebooks/data_table.ipynb>data table notebook</a>'\n",
              "          + ' to learn more about interactive tables.';\n",
              "        element.innerHTML = '';\n",
              "        dataTable['output_type'] = 'display_data';\n",
              "        await google.colab.output.renderOutput(dataTable, element);\n",
              "        const docLink = document.createElement('div');\n",
              "        docLink.innerHTML = docLinkHtml;\n",
              "        element.appendChild(docLink);\n",
              "      }\n",
              "    </script>\n",
              "  </div>\n",
              "\n",
              "\n",
              "    <div id=\"df-f9e1d7a9-9def-49e2-a656-83265cd2eee2\">\n",
              "      <button class=\"colab-df-quickchart\" onclick=\"quickchart('df-f9e1d7a9-9def-49e2-a656-83265cd2eee2')\"\n",
              "                title=\"Suggest charts\"\n",
              "                style=\"display:none;\">\n",
              "\n",
              "<svg xmlns=\"http://www.w3.org/2000/svg\" height=\"24px\"viewBox=\"0 0 24 24\"\n",
              "     width=\"24px\">\n",
              "    <g>\n",
              "        <path d=\"M19 3H5c-1.1 0-2 .9-2 2v14c0 1.1.9 2 2 2h14c1.1 0 2-.9 2-2V5c0-1.1-.9-2-2-2zM9 17H7v-7h2v7zm4 0h-2V7h2v10zm4 0h-2v-4h2v4z\"/>\n",
              "    </g>\n",
              "</svg>\n",
              "      </button>\n",
              "\n",
              "<style>\n",
              "  .colab-df-quickchart {\n",
              "      --bg-color: #E8F0FE;\n",
              "      --fill-color: #1967D2;\n",
              "      --hover-bg-color: #E2EBFA;\n",
              "      --hover-fill-color: #174EA6;\n",
              "      --disabled-fill-color: #AAA;\n",
              "      --disabled-bg-color: #DDD;\n",
              "  }\n",
              "\n",
              "  [theme=dark] .colab-df-quickchart {\n",
              "      --bg-color: #3B4455;\n",
              "      --fill-color: #D2E3FC;\n",
              "      --hover-bg-color: #434B5C;\n",
              "      --hover-fill-color: #FFFFFF;\n",
              "      --disabled-bg-color: #3B4455;\n",
              "      --disabled-fill-color: #666;\n",
              "  }\n",
              "\n",
              "  .colab-df-quickchart {\n",
              "    background-color: var(--bg-color);\n",
              "    border: none;\n",
              "    border-radius: 50%;\n",
              "    cursor: pointer;\n",
              "    display: none;\n",
              "    fill: var(--fill-color);\n",
              "    height: 32px;\n",
              "    padding: 0;\n",
              "    width: 32px;\n",
              "  }\n",
              "\n",
              "  .colab-df-quickchart:hover {\n",
              "    background-color: var(--hover-bg-color);\n",
              "    box-shadow: 0 1px 2px rgba(60, 64, 67, 0.3), 0 1px 3px 1px rgba(60, 64, 67, 0.15);\n",
              "    fill: var(--button-hover-fill-color);\n",
              "  }\n",
              "\n",
              "  .colab-df-quickchart-complete:disabled,\n",
              "  .colab-df-quickchart-complete:disabled:hover {\n",
              "    background-color: var(--disabled-bg-color);\n",
              "    fill: var(--disabled-fill-color);\n",
              "    box-shadow: none;\n",
              "  }\n",
              "\n",
              "  .colab-df-spinner {\n",
              "    border: 2px solid var(--fill-color);\n",
              "    border-color: transparent;\n",
              "    border-bottom-color: var(--fill-color);\n",
              "    animation:\n",
              "      spin 1s steps(1) infinite;\n",
              "  }\n",
              "\n",
              "  @keyframes spin {\n",
              "    0% {\n",
              "      border-color: transparent;\n",
              "      border-bottom-color: var(--fill-color);\n",
              "      border-left-color: var(--fill-color);\n",
              "    }\n",
              "    20% {\n",
              "      border-color: transparent;\n",
              "      border-left-color: var(--fill-color);\n",
              "      border-top-color: var(--fill-color);\n",
              "    }\n",
              "    30% {\n",
              "      border-color: transparent;\n",
              "      border-left-color: var(--fill-color);\n",
              "      border-top-color: var(--fill-color);\n",
              "      border-right-color: var(--fill-color);\n",
              "    }\n",
              "    40% {\n",
              "      border-color: transparent;\n",
              "      border-right-color: var(--fill-color);\n",
              "      border-top-color: var(--fill-color);\n",
              "    }\n",
              "    60% {\n",
              "      border-color: transparent;\n",
              "      border-right-color: var(--fill-color);\n",
              "    }\n",
              "    80% {\n",
              "      border-color: transparent;\n",
              "      border-right-color: var(--fill-color);\n",
              "      border-bottom-color: var(--fill-color);\n",
              "    }\n",
              "    90% {\n",
              "      border-color: transparent;\n",
              "      border-bottom-color: var(--fill-color);\n",
              "    }\n",
              "  }\n",
              "</style>\n",
              "\n",
              "      <script>\n",
              "        async function quickchart(key) {\n",
              "          const quickchartButtonEl =\n",
              "            document.querySelector('#' + key + ' button');\n",
              "          quickchartButtonEl.disabled = true;  // To prevent multiple clicks.\n",
              "          quickchartButtonEl.classList.add('colab-df-spinner');\n",
              "          try {\n",
              "            const charts = await google.colab.kernel.invokeFunction(\n",
              "                'suggestCharts', [key], {});\n",
              "          } catch (error) {\n",
              "            console.error('Error during call to suggestCharts:', error);\n",
              "          }\n",
              "          quickchartButtonEl.classList.remove('colab-df-spinner');\n",
              "          quickchartButtonEl.classList.add('colab-df-quickchart-complete');\n",
              "        }\n",
              "        (() => {\n",
              "          let quickchartButtonEl =\n",
              "            document.querySelector('#df-f9e1d7a9-9def-49e2-a656-83265cd2eee2 button');\n",
              "          quickchartButtonEl.style.display =\n",
              "            google.colab.kernel.accessAllowed ? 'block' : 'none';\n",
              "        })();\n",
              "      </script>\n",
              "    </div>\n",
              "\n",
              "    </div>\n",
              "  </div>\n"
            ],
            "application/vnd.google.colaboratory.intrinsic+json": {
              "type": "dataframe",
              "summary": "{\n  \"name\": \"pvt\",\n  \"rows\": 4,\n  \"fields\": [\n    {\n      \"column\": \"price_range\",\n      \"properties\": {\n        \"dtype\": \"string\",\n        \"num_unique_values\": 4,\n        \"samples\": [\n          \"3~5\",\n          \"8~\",\n          \"~3\"\n        ],\n        \"semantic_type\": \"\",\n        \"description\": \"\"\n      }\n    },\n    {\n      \"column\": \"view\",\n      \"properties\": {\n        \"dtype\": \"number\",\n        \"std\": 67518,\n        \"min\": 237058,\n        \"max\": 376831,\n        \"num_unique_values\": 4,\n        \"samples\": [\n          237058,\n          376831,\n          316323\n        ],\n        \"semantic_type\": \"\",\n        \"description\": \"\"\n      }\n    },\n    {\n      \"column\": \"cart\",\n      \"properties\": {\n        \"dtype\": \"number\",\n        \"std\": 8913,\n        \"min\": 31101,\n        \"max\": 49778,\n        \"num_unique_values\": 4,\n        \"samples\": [\n          33321,\n          31728,\n          49778\n        ],\n        \"semantic_type\": \"\",\n        \"description\": \"\"\n      }\n    },\n    {\n      \"column\": \"purchase\",\n      \"properties\": {\n        \"dtype\": \"number\",\n        \"std\": 4375,\n        \"min\": 10586,\n        \"max\": 19841,\n        \"num_unique_values\": 4,\n        \"samples\": [\n          11685,\n          11138,\n          19841\n        ],\n        \"semantic_type\": \"\",\n        \"description\": \"\"\n      }\n    },\n    {\n      \"column\": \"view_to_cart\",\n      \"properties\": {\n        \"dtype\": \"number\",\n        \"std\": 3.1329588617864976,\n        \"min\": 8.419689462915738,\n        \"max\": 15.73644660679116,\n        \"num_unique_values\": 4,\n        \"samples\": [\n          14.056053792742704,\n          8.419689462915738,\n          15.73644660679116\n        ],\n        \"semantic_type\": \"\",\n        \"description\": \"\"\n      }\n    },\n    {\n      \"column\": \"cart_to_purchase\",\n      \"properties\": {\n        \"dtype\": \"number\",\n        \"std\": 2.6084650363619994,\n        \"min\": 34.037490755924246,\n        \"max\": 39.85897384386677,\n        \"num_unique_values\": 4,\n        \"samples\": [\n          35.06797515080579,\n          35.10463943519919,\n          39.85897384386677\n        ],\n        \"semantic_type\": \"\",\n        \"description\": \"\"\n      }\n    }\n  ]\n}"
            }
          },
          "metadata": {},
          "execution_count": 47
        }
      ]
    },
    {
      "cell_type": "markdown",
      "source": [
        "As product price increases, the view-to-cart conversion rate drops sharply, while the cart-to-purchase rate only differs significantly between products priced at 3 or less and those above that threshold. For higher price ranges, the cart-to-purchase rate remains relatively steady.\n",
        "\n",
        "Therefore, for higher-priced products, it’s important to focus on boosting the view-to-cart rate—perhaps by highlighting discounts or special offers. For products priced at 3 or less, since users are more likely to purchase after they’ve added items to their cart, sending reminders about items left in the cart could help encourage more purchases."
      ],
      "metadata": {
        "id": "iP6LUgpthQbS"
      }
    },
    {
      "cell_type": "markdown",
      "source": [
        "**(2) Brand Analysis**"
      ],
      "metadata": {
        "id": "NRH06PQahU-F"
      }
    },
    {
      "cell_type": "code",
      "source": [
        "# Exclude rows with missing brand info\n",
        "df_b = df.query('brand != \"N/A\"')\n",
        "\n",
        "# Count unique users per brand, event type, and product\n",
        "brand_funnel = df_b.groupby(['brand', 'event_type', 'product_id'])['user_id'].nunique()\n",
        "brand_funnel_df = brand_funnel.reset_index(name='user_id')\n",
        "\n",
        "# Convert to pivot table\n",
        "brand_pvt = pd.pivot_table(\n",
        "    data=brand_funnel_df, index='brand', columns='event_type', values='user_id', aggfunc='sum')\n",
        "\n",
        "# Select only the relevant funnel steps\n",
        "brand_pvt = brand_pvt[['view', 'cart', 'purchase']]\n",
        "\n",
        "# Calculate conversion rates for each step\n",
        "brand_pvt['view_to_cart'] = brand_pvt['cart'] / brand_pvt['view']*100\n",
        "brand_pvt['cart_to_purchase'] = brand_pvt['purchase'] / brand_pvt['cart']*100\n",
        "brand_pvt['view_to_purchase'] = brand_pvt['purchase'] / brand_pvt['view']*100\n",
        "\n",
        "brand_pvt.head()"
      ],
      "metadata": {
        "colab": {
          "base_uri": "https://localhost:8080/",
          "height": 238
        },
        "id": "oGDiCbuNbOob",
        "outputId": "8defee3c-a580-4b22-e315-63422162b7d8"
      },
      "execution_count": 48,
      "outputs": [
        {
          "output_type": "execute_result",
          "data": {
            "text/plain": [
              "event_type    view   cart  purchase  view_to_cart  cart_to_purchase  \\\n",
              "brand                                                                 \n",
              "airnails    3552.0  429.0     190.0     12.077703         44.289044   \n",
              "almea        475.0   43.0      20.0      9.052632         46.511628   \n",
              "andrea        61.0    5.0       1.0      8.196721         20.000000   \n",
              "ardell      2508.0  241.0      75.0      9.609250         31.120332   \n",
              "art-visage  3471.0  604.0     210.0     17.401325         34.768212   \n",
              "\n",
              "event_type  view_to_purchase  \n",
              "brand                         \n",
              "airnails            5.349099  \n",
              "almea               4.210526  \n",
              "andrea              1.639344  \n",
              "ardell              2.990431  \n",
              "art-visage          6.050130  "
            ],
            "text/html": [
              "\n",
              "  <div id=\"df-bb40ff58-e7b9-4548-a44e-c2e1aac093b6\" class=\"colab-df-container\">\n",
              "    <div>\n",
              "<style scoped>\n",
              "    .dataframe tbody tr th:only-of-type {\n",
              "        vertical-align: middle;\n",
              "    }\n",
              "\n",
              "    .dataframe tbody tr th {\n",
              "        vertical-align: top;\n",
              "    }\n",
              "\n",
              "    .dataframe thead th {\n",
              "        text-align: right;\n",
              "    }\n",
              "</style>\n",
              "<table border=\"1\" class=\"dataframe\">\n",
              "  <thead>\n",
              "    <tr style=\"text-align: right;\">\n",
              "      <th>event_type</th>\n",
              "      <th>view</th>\n",
              "      <th>cart</th>\n",
              "      <th>purchase</th>\n",
              "      <th>view_to_cart</th>\n",
              "      <th>cart_to_purchase</th>\n",
              "      <th>view_to_purchase</th>\n",
              "    </tr>\n",
              "    <tr>\n",
              "      <th>brand</th>\n",
              "      <th></th>\n",
              "      <th></th>\n",
              "      <th></th>\n",
              "      <th></th>\n",
              "      <th></th>\n",
              "      <th></th>\n",
              "    </tr>\n",
              "  </thead>\n",
              "  <tbody>\n",
              "    <tr>\n",
              "      <th>airnails</th>\n",
              "      <td>3552.0</td>\n",
              "      <td>429.0</td>\n",
              "      <td>190.0</td>\n",
              "      <td>12.077703</td>\n",
              "      <td>44.289044</td>\n",
              "      <td>5.349099</td>\n",
              "    </tr>\n",
              "    <tr>\n",
              "      <th>almea</th>\n",
              "      <td>475.0</td>\n",
              "      <td>43.0</td>\n",
              "      <td>20.0</td>\n",
              "      <td>9.052632</td>\n",
              "      <td>46.511628</td>\n",
              "      <td>4.210526</td>\n",
              "    </tr>\n",
              "    <tr>\n",
              "      <th>andrea</th>\n",
              "      <td>61.0</td>\n",
              "      <td>5.0</td>\n",
              "      <td>1.0</td>\n",
              "      <td>8.196721</td>\n",
              "      <td>20.000000</td>\n",
              "      <td>1.639344</td>\n",
              "    </tr>\n",
              "    <tr>\n",
              "      <th>ardell</th>\n",
              "      <td>2508.0</td>\n",
              "      <td>241.0</td>\n",
              "      <td>75.0</td>\n",
              "      <td>9.609250</td>\n",
              "      <td>31.120332</td>\n",
              "      <td>2.990431</td>\n",
              "    </tr>\n",
              "    <tr>\n",
              "      <th>art-visage</th>\n",
              "      <td>3471.0</td>\n",
              "      <td>604.0</td>\n",
              "      <td>210.0</td>\n",
              "      <td>17.401325</td>\n",
              "      <td>34.768212</td>\n",
              "      <td>6.050130</td>\n",
              "    </tr>\n",
              "  </tbody>\n",
              "</table>\n",
              "</div>\n",
              "    <div class=\"colab-df-buttons\">\n",
              "\n",
              "  <div class=\"colab-df-container\">\n",
              "    <button class=\"colab-df-convert\" onclick=\"convertToInteractive('df-bb40ff58-e7b9-4548-a44e-c2e1aac093b6')\"\n",
              "            title=\"Convert this dataframe to an interactive table.\"\n",
              "            style=\"display:none;\">\n",
              "\n",
              "  <svg xmlns=\"http://www.w3.org/2000/svg\" height=\"24px\" viewBox=\"0 -960 960 960\">\n",
              "    <path d=\"M120-120v-720h720v720H120Zm60-500h600v-160H180v160Zm220 220h160v-160H400v160Zm0 220h160v-160H400v160ZM180-400h160v-160H180v160Zm440 0h160v-160H620v160ZM180-180h160v-160H180v160Zm440 0h160v-160H620v160Z\"/>\n",
              "  </svg>\n",
              "    </button>\n",
              "\n",
              "  <style>\n",
              "    .colab-df-container {\n",
              "      display:flex;\n",
              "      gap: 12px;\n",
              "    }\n",
              "\n",
              "    .colab-df-convert {\n",
              "      background-color: #E8F0FE;\n",
              "      border: none;\n",
              "      border-radius: 50%;\n",
              "      cursor: pointer;\n",
              "      display: none;\n",
              "      fill: #1967D2;\n",
              "      height: 32px;\n",
              "      padding: 0 0 0 0;\n",
              "      width: 32px;\n",
              "    }\n",
              "\n",
              "    .colab-df-convert:hover {\n",
              "      background-color: #E2EBFA;\n",
              "      box-shadow: 0px 1px 2px rgba(60, 64, 67, 0.3), 0px 1px 3px 1px rgba(60, 64, 67, 0.15);\n",
              "      fill: #174EA6;\n",
              "    }\n",
              "\n",
              "    .colab-df-buttons div {\n",
              "      margin-bottom: 4px;\n",
              "    }\n",
              "\n",
              "    [theme=dark] .colab-df-convert {\n",
              "      background-color: #3B4455;\n",
              "      fill: #D2E3FC;\n",
              "    }\n",
              "\n",
              "    [theme=dark] .colab-df-convert:hover {\n",
              "      background-color: #434B5C;\n",
              "      box-shadow: 0px 1px 3px 1px rgba(0, 0, 0, 0.15);\n",
              "      filter: drop-shadow(0px 1px 2px rgba(0, 0, 0, 0.3));\n",
              "      fill: #FFFFFF;\n",
              "    }\n",
              "  </style>\n",
              "\n",
              "    <script>\n",
              "      const buttonEl =\n",
              "        document.querySelector('#df-bb40ff58-e7b9-4548-a44e-c2e1aac093b6 button.colab-df-convert');\n",
              "      buttonEl.style.display =\n",
              "        google.colab.kernel.accessAllowed ? 'block' : 'none';\n",
              "\n",
              "      async function convertToInteractive(key) {\n",
              "        const element = document.querySelector('#df-bb40ff58-e7b9-4548-a44e-c2e1aac093b6');\n",
              "        const dataTable =\n",
              "          await google.colab.kernel.invokeFunction('convertToInteractive',\n",
              "                                                    [key], {});\n",
              "        if (!dataTable) return;\n",
              "\n",
              "        const docLinkHtml = 'Like what you see? Visit the ' +\n",
              "          '<a target=\"_blank\" href=https://colab.research.google.com/notebooks/data_table.ipynb>data table notebook</a>'\n",
              "          + ' to learn more about interactive tables.';\n",
              "        element.innerHTML = '';\n",
              "        dataTable['output_type'] = 'display_data';\n",
              "        await google.colab.output.renderOutput(dataTable, element);\n",
              "        const docLink = document.createElement('div');\n",
              "        docLink.innerHTML = docLinkHtml;\n",
              "        element.appendChild(docLink);\n",
              "      }\n",
              "    </script>\n",
              "  </div>\n",
              "\n",
              "\n",
              "    <div id=\"df-8167de17-aedf-4478-8ae5-988836f9932f\">\n",
              "      <button class=\"colab-df-quickchart\" onclick=\"quickchart('df-8167de17-aedf-4478-8ae5-988836f9932f')\"\n",
              "                title=\"Suggest charts\"\n",
              "                style=\"display:none;\">\n",
              "\n",
              "<svg xmlns=\"http://www.w3.org/2000/svg\" height=\"24px\"viewBox=\"0 0 24 24\"\n",
              "     width=\"24px\">\n",
              "    <g>\n",
              "        <path d=\"M19 3H5c-1.1 0-2 .9-2 2v14c0 1.1.9 2 2 2h14c1.1 0 2-.9 2-2V5c0-1.1-.9-2-2-2zM9 17H7v-7h2v7zm4 0h-2V7h2v10zm4 0h-2v-4h2v4z\"/>\n",
              "    </g>\n",
              "</svg>\n",
              "      </button>\n",
              "\n",
              "<style>\n",
              "  .colab-df-quickchart {\n",
              "      --bg-color: #E8F0FE;\n",
              "      --fill-color: #1967D2;\n",
              "      --hover-bg-color: #E2EBFA;\n",
              "      --hover-fill-color: #174EA6;\n",
              "      --disabled-fill-color: #AAA;\n",
              "      --disabled-bg-color: #DDD;\n",
              "  }\n",
              "\n",
              "  [theme=dark] .colab-df-quickchart {\n",
              "      --bg-color: #3B4455;\n",
              "      --fill-color: #D2E3FC;\n",
              "      --hover-bg-color: #434B5C;\n",
              "      --hover-fill-color: #FFFFFF;\n",
              "      --disabled-bg-color: #3B4455;\n",
              "      --disabled-fill-color: #666;\n",
              "  }\n",
              "\n",
              "  .colab-df-quickchart {\n",
              "    background-color: var(--bg-color);\n",
              "    border: none;\n",
              "    border-radius: 50%;\n",
              "    cursor: pointer;\n",
              "    display: none;\n",
              "    fill: var(--fill-color);\n",
              "    height: 32px;\n",
              "    padding: 0;\n",
              "    width: 32px;\n",
              "  }\n",
              "\n",
              "  .colab-df-quickchart:hover {\n",
              "    background-color: var(--hover-bg-color);\n",
              "    box-shadow: 0 1px 2px rgba(60, 64, 67, 0.3), 0 1px 3px 1px rgba(60, 64, 67, 0.15);\n",
              "    fill: var(--button-hover-fill-color);\n",
              "  }\n",
              "\n",
              "  .colab-df-quickchart-complete:disabled,\n",
              "  .colab-df-quickchart-complete:disabled:hover {\n",
              "    background-color: var(--disabled-bg-color);\n",
              "    fill: var(--disabled-fill-color);\n",
              "    box-shadow: none;\n",
              "  }\n",
              "\n",
              "  .colab-df-spinner {\n",
              "    border: 2px solid var(--fill-color);\n",
              "    border-color: transparent;\n",
              "    border-bottom-color: var(--fill-color);\n",
              "    animation:\n",
              "      spin 1s steps(1) infinite;\n",
              "  }\n",
              "\n",
              "  @keyframes spin {\n",
              "    0% {\n",
              "      border-color: transparent;\n",
              "      border-bottom-color: var(--fill-color);\n",
              "      border-left-color: var(--fill-color);\n",
              "    }\n",
              "    20% {\n",
              "      border-color: transparent;\n",
              "      border-left-color: var(--fill-color);\n",
              "      border-top-color: var(--fill-color);\n",
              "    }\n",
              "    30% {\n",
              "      border-color: transparent;\n",
              "      border-left-color: var(--fill-color);\n",
              "      border-top-color: var(--fill-color);\n",
              "      border-right-color: var(--fill-color);\n",
              "    }\n",
              "    40% {\n",
              "      border-color: transparent;\n",
              "      border-right-color: var(--fill-color);\n",
              "      border-top-color: var(--fill-color);\n",
              "    }\n",
              "    60% {\n",
              "      border-color: transparent;\n",
              "      border-right-color: var(--fill-color);\n",
              "    }\n",
              "    80% {\n",
              "      border-color: transparent;\n",
              "      border-right-color: var(--fill-color);\n",
              "      border-bottom-color: var(--fill-color);\n",
              "    }\n",
              "    90% {\n",
              "      border-color: transparent;\n",
              "      border-bottom-color: var(--fill-color);\n",
              "    }\n",
              "  }\n",
              "</style>\n",
              "\n",
              "      <script>\n",
              "        async function quickchart(key) {\n",
              "          const quickchartButtonEl =\n",
              "            document.querySelector('#' + key + ' button');\n",
              "          quickchartButtonEl.disabled = true;  // To prevent multiple clicks.\n",
              "          quickchartButtonEl.classList.add('colab-df-spinner');\n",
              "          try {\n",
              "            const charts = await google.colab.kernel.invokeFunction(\n",
              "                'suggestCharts', [key], {});\n",
              "          } catch (error) {\n",
              "            console.error('Error during call to suggestCharts:', error);\n",
              "          }\n",
              "          quickchartButtonEl.classList.remove('colab-df-spinner');\n",
              "          quickchartButtonEl.classList.add('colab-df-quickchart-complete');\n",
              "        }\n",
              "        (() => {\n",
              "          let quickchartButtonEl =\n",
              "            document.querySelector('#df-8167de17-aedf-4478-8ae5-988836f9932f button');\n",
              "          quickchartButtonEl.style.display =\n",
              "            google.colab.kernel.accessAllowed ? 'block' : 'none';\n",
              "        })();\n",
              "      </script>\n",
              "    </div>\n",
              "\n",
              "    </div>\n",
              "  </div>\n"
            ],
            "application/vnd.google.colaboratory.intrinsic+json": {
              "type": "dataframe",
              "variable_name": "brand_pvt",
              "summary": "{\n  \"name\": \"brand_pvt\",\n  \"rows\": 252,\n  \"fields\": [\n    {\n      \"column\": \"brand\",\n      \"properties\": {\n        \"dtype\": \"string\",\n        \"num_unique_values\": 252,\n        \"samples\": [\n          \"matrix\",\n          \"aura\",\n          \"inoface\"\n        ],\n        \"semantic_type\": \"\",\n        \"description\": \"\"\n      }\n    },\n    {\n      \"column\": \"view\",\n      \"properties\": {\n        \"dtype\": \"number\",\n        \"std\": 7691.628679459251,\n        \"min\": 1.0,\n        \"max\": 72951.0,\n        \"num_unique_values\": 226,\n        \"samples\": [\n          931.0,\n          31.0,\n          272.0\n        ],\n        \"semantic_type\": \"\",\n        \"description\": \"\"\n      }\n    },\n    {\n      \"column\": \"cart\",\n      \"properties\": {\n        \"dtype\": \"number\",\n        \"std\": 1076.6153781589796,\n        \"min\": 1.0,\n        \"max\": 10803.0,\n        \"num_unique_values\": 144,\n        \"samples\": [\n          1875.0,\n          22.0,\n          36.0\n        ],\n        \"semantic_type\": \"\",\n        \"description\": \"\"\n      }\n    },\n    {\n      \"column\": \"purchase\",\n      \"properties\": {\n        \"dtype\": \"number\",\n        \"std\": 409.1260919954056,\n        \"min\": 1.0,\n        \"max\": 4065.0,\n        \"num_unique_values\": 108,\n        \"samples\": [\n          306.0,\n          17.0,\n          210.0\n        ],\n        \"semantic_type\": \"\",\n        \"description\": \"\"\n      }\n    },\n    {\n      \"column\": \"view_to_cart\",\n      \"properties\": {\n        \"dtype\": \"number\",\n        \"std\": 4.85941570163371,\n        \"min\": 0.7462686567164178,\n        \"max\": 28.000000000000004,\n        \"num_unique_values\": 220,\n        \"samples\": [\n          11.059551430781129,\n          14.383688600556072,\n          14.690557209698001\n        ],\n        \"semantic_type\": \"\",\n        \"description\": \"\"\n      }\n    },\n    {\n      \"column\": \"cart_to_purchase\",\n      \"properties\": {\n        \"dtype\": \"number\",\n        \"std\": 12.929841810976635,\n        \"min\": 11.11111111111111,\n        \"max\": 100.0,\n        \"num_unique_values\": 169,\n        \"samples\": [\n          40.59701492537313,\n          52.17391304347826,\n          38.656716417910445\n        ],\n        \"semantic_type\": \"\",\n        \"description\": \"\"\n      }\n    },\n    {\n      \"column\": \"view_to_purchase\",\n      \"properties\": {\n        \"dtype\": \"number\",\n        \"std\": 2.543781005240559,\n        \"min\": 0.15866719555731854,\n        \"max\": 20.0,\n        \"num_unique_values\": 207,\n        \"samples\": [\n          2.6866713189113747,\n          0.819672131147541,\n          4.288939051918736\n        ],\n        \"semantic_type\": \"\",\n        \"description\": \"\"\n      }\n    }\n  ]\n}"
            }
          },
          "metadata": {},
          "execution_count": 48
        }
      ]
    },
    {
      "cell_type": "code",
      "source": [
        "# Top brands by view count\n",
        "brand_pvt.sort_values('view', ascending=False).head(10)"
      ],
      "metadata": {
        "colab": {
          "base_uri": "https://localhost:8080/",
          "height": 394
        },
        "id": "4LqU-NbyZJjm",
        "outputId": "06eb660f-38dc-4299-d588-e6e28e41e9fe"
      },
      "execution_count": 49,
      "outputs": [
        {
          "output_type": "execute_result",
          "data": {
            "text/plain": [
              "event_type     view     cart  purchase  view_to_cart  cart_to_purchase  \\\n",
              "brand                                                                    \n",
              "runail      72951.0  10803.0    4065.0     14.808570         37.628437   \n",
              "grattol     50377.0   6947.0    2221.0     13.790023         31.970635   \n",
              "irisk       46254.0   5860.0    2246.0     12.669175         38.327645   \n",
              "estel       32444.0   3679.0    1343.0     11.339539         36.504485   \n",
              "masura      31837.0   4103.0    1401.0     12.887521         34.145747   \n",
              "kapous      31701.0   2569.0     886.0      8.103845         34.488128   \n",
              "jessnail    24051.0   1609.0     492.0      6.689951         30.577999   \n",
              "bpw.style   22161.0   3558.0    1622.0     16.055232         45.587409   \n",
              "ingarden    18808.0   2763.0     979.0     14.690557         35.432501   \n",
              "concept     16717.0   1776.0     600.0     10.623916         33.783784   \n",
              "\n",
              "event_type  view_to_purchase  \n",
              "brand                         \n",
              "runail              5.572233  \n",
              "grattol             4.408758  \n",
              "irisk               4.855796  \n",
              "estel               4.139440  \n",
              "masura              4.400540  \n",
              "kapous              2.794865  \n",
              "jessnail            2.045653  \n",
              "bpw.style           7.319164  \n",
              "ingarden            5.205232  \n",
              "concept             3.589161  "
            ],
            "text/html": [
              "\n",
              "  <div id=\"df-bf6136ea-a0d9-4076-97e5-c1e3d5f58f0b\" class=\"colab-df-container\">\n",
              "    <div>\n",
              "<style scoped>\n",
              "    .dataframe tbody tr th:only-of-type {\n",
              "        vertical-align: middle;\n",
              "    }\n",
              "\n",
              "    .dataframe tbody tr th {\n",
              "        vertical-align: top;\n",
              "    }\n",
              "\n",
              "    .dataframe thead th {\n",
              "        text-align: right;\n",
              "    }\n",
              "</style>\n",
              "<table border=\"1\" class=\"dataframe\">\n",
              "  <thead>\n",
              "    <tr style=\"text-align: right;\">\n",
              "      <th>event_type</th>\n",
              "      <th>view</th>\n",
              "      <th>cart</th>\n",
              "      <th>purchase</th>\n",
              "      <th>view_to_cart</th>\n",
              "      <th>cart_to_purchase</th>\n",
              "      <th>view_to_purchase</th>\n",
              "    </tr>\n",
              "    <tr>\n",
              "      <th>brand</th>\n",
              "      <th></th>\n",
              "      <th></th>\n",
              "      <th></th>\n",
              "      <th></th>\n",
              "      <th></th>\n",
              "      <th></th>\n",
              "    </tr>\n",
              "  </thead>\n",
              "  <tbody>\n",
              "    <tr>\n",
              "      <th>runail</th>\n",
              "      <td>72951.0</td>\n",
              "      <td>10803.0</td>\n",
              "      <td>4065.0</td>\n",
              "      <td>14.808570</td>\n",
              "      <td>37.628437</td>\n",
              "      <td>5.572233</td>\n",
              "    </tr>\n",
              "    <tr>\n",
              "      <th>grattol</th>\n",
              "      <td>50377.0</td>\n",
              "      <td>6947.0</td>\n",
              "      <td>2221.0</td>\n",
              "      <td>13.790023</td>\n",
              "      <td>31.970635</td>\n",
              "      <td>4.408758</td>\n",
              "    </tr>\n",
              "    <tr>\n",
              "      <th>irisk</th>\n",
              "      <td>46254.0</td>\n",
              "      <td>5860.0</td>\n",
              "      <td>2246.0</td>\n",
              "      <td>12.669175</td>\n",
              "      <td>38.327645</td>\n",
              "      <td>4.855796</td>\n",
              "    </tr>\n",
              "    <tr>\n",
              "      <th>estel</th>\n",
              "      <td>32444.0</td>\n",
              "      <td>3679.0</td>\n",
              "      <td>1343.0</td>\n",
              "      <td>11.339539</td>\n",
              "      <td>36.504485</td>\n",
              "      <td>4.139440</td>\n",
              "    </tr>\n",
              "    <tr>\n",
              "      <th>masura</th>\n",
              "      <td>31837.0</td>\n",
              "      <td>4103.0</td>\n",
              "      <td>1401.0</td>\n",
              "      <td>12.887521</td>\n",
              "      <td>34.145747</td>\n",
              "      <td>4.400540</td>\n",
              "    </tr>\n",
              "    <tr>\n",
              "      <th>kapous</th>\n",
              "      <td>31701.0</td>\n",
              "      <td>2569.0</td>\n",
              "      <td>886.0</td>\n",
              "      <td>8.103845</td>\n",
              "      <td>34.488128</td>\n",
              "      <td>2.794865</td>\n",
              "    </tr>\n",
              "    <tr>\n",
              "      <th>jessnail</th>\n",
              "      <td>24051.0</td>\n",
              "      <td>1609.0</td>\n",
              "      <td>492.0</td>\n",
              "      <td>6.689951</td>\n",
              "      <td>30.577999</td>\n",
              "      <td>2.045653</td>\n",
              "    </tr>\n",
              "    <tr>\n",
              "      <th>bpw.style</th>\n",
              "      <td>22161.0</td>\n",
              "      <td>3558.0</td>\n",
              "      <td>1622.0</td>\n",
              "      <td>16.055232</td>\n",
              "      <td>45.587409</td>\n",
              "      <td>7.319164</td>\n",
              "    </tr>\n",
              "    <tr>\n",
              "      <th>ingarden</th>\n",
              "      <td>18808.0</td>\n",
              "      <td>2763.0</td>\n",
              "      <td>979.0</td>\n",
              "      <td>14.690557</td>\n",
              "      <td>35.432501</td>\n",
              "      <td>5.205232</td>\n",
              "    </tr>\n",
              "    <tr>\n",
              "      <th>concept</th>\n",
              "      <td>16717.0</td>\n",
              "      <td>1776.0</td>\n",
              "      <td>600.0</td>\n",
              "      <td>10.623916</td>\n",
              "      <td>33.783784</td>\n",
              "      <td>3.589161</td>\n",
              "    </tr>\n",
              "  </tbody>\n",
              "</table>\n",
              "</div>\n",
              "    <div class=\"colab-df-buttons\">\n",
              "\n",
              "  <div class=\"colab-df-container\">\n",
              "    <button class=\"colab-df-convert\" onclick=\"convertToInteractive('df-bf6136ea-a0d9-4076-97e5-c1e3d5f58f0b')\"\n",
              "            title=\"Convert this dataframe to an interactive table.\"\n",
              "            style=\"display:none;\">\n",
              "\n",
              "  <svg xmlns=\"http://www.w3.org/2000/svg\" height=\"24px\" viewBox=\"0 -960 960 960\">\n",
              "    <path d=\"M120-120v-720h720v720H120Zm60-500h600v-160H180v160Zm220 220h160v-160H400v160Zm0 220h160v-160H400v160ZM180-400h160v-160H180v160Zm440 0h160v-160H620v160ZM180-180h160v-160H180v160Zm440 0h160v-160H620v160Z\"/>\n",
              "  </svg>\n",
              "    </button>\n",
              "\n",
              "  <style>\n",
              "    .colab-df-container {\n",
              "      display:flex;\n",
              "      gap: 12px;\n",
              "    }\n",
              "\n",
              "    .colab-df-convert {\n",
              "      background-color: #E8F0FE;\n",
              "      border: none;\n",
              "      border-radius: 50%;\n",
              "      cursor: pointer;\n",
              "      display: none;\n",
              "      fill: #1967D2;\n",
              "      height: 32px;\n",
              "      padding: 0 0 0 0;\n",
              "      width: 32px;\n",
              "    }\n",
              "\n",
              "    .colab-df-convert:hover {\n",
              "      background-color: #E2EBFA;\n",
              "      box-shadow: 0px 1px 2px rgba(60, 64, 67, 0.3), 0px 1px 3px 1px rgba(60, 64, 67, 0.15);\n",
              "      fill: #174EA6;\n",
              "    }\n",
              "\n",
              "    .colab-df-buttons div {\n",
              "      margin-bottom: 4px;\n",
              "    }\n",
              "\n",
              "    [theme=dark] .colab-df-convert {\n",
              "      background-color: #3B4455;\n",
              "      fill: #D2E3FC;\n",
              "    }\n",
              "\n",
              "    [theme=dark] .colab-df-convert:hover {\n",
              "      background-color: #434B5C;\n",
              "      box-shadow: 0px 1px 3px 1px rgba(0, 0, 0, 0.15);\n",
              "      filter: drop-shadow(0px 1px 2px rgba(0, 0, 0, 0.3));\n",
              "      fill: #FFFFFF;\n",
              "    }\n",
              "  </style>\n",
              "\n",
              "    <script>\n",
              "      const buttonEl =\n",
              "        document.querySelector('#df-bf6136ea-a0d9-4076-97e5-c1e3d5f58f0b button.colab-df-convert');\n",
              "      buttonEl.style.display =\n",
              "        google.colab.kernel.accessAllowed ? 'block' : 'none';\n",
              "\n",
              "      async function convertToInteractive(key) {\n",
              "        const element = document.querySelector('#df-bf6136ea-a0d9-4076-97e5-c1e3d5f58f0b');\n",
              "        const dataTable =\n",
              "          await google.colab.kernel.invokeFunction('convertToInteractive',\n",
              "                                                    [key], {});\n",
              "        if (!dataTable) return;\n",
              "\n",
              "        const docLinkHtml = 'Like what you see? Visit the ' +\n",
              "          '<a target=\"_blank\" href=https://colab.research.google.com/notebooks/data_table.ipynb>data table notebook</a>'\n",
              "          + ' to learn more about interactive tables.';\n",
              "        element.innerHTML = '';\n",
              "        dataTable['output_type'] = 'display_data';\n",
              "        await google.colab.output.renderOutput(dataTable, element);\n",
              "        const docLink = document.createElement('div');\n",
              "        docLink.innerHTML = docLinkHtml;\n",
              "        element.appendChild(docLink);\n",
              "      }\n",
              "    </script>\n",
              "  </div>\n",
              "\n",
              "\n",
              "    <div id=\"df-e4ef132b-9583-418c-834d-873d26b70ff1\">\n",
              "      <button class=\"colab-df-quickchart\" onclick=\"quickchart('df-e4ef132b-9583-418c-834d-873d26b70ff1')\"\n",
              "                title=\"Suggest charts\"\n",
              "                style=\"display:none;\">\n",
              "\n",
              "<svg xmlns=\"http://www.w3.org/2000/svg\" height=\"24px\"viewBox=\"0 0 24 24\"\n",
              "     width=\"24px\">\n",
              "    <g>\n",
              "        <path d=\"M19 3H5c-1.1 0-2 .9-2 2v14c0 1.1.9 2 2 2h14c1.1 0 2-.9 2-2V5c0-1.1-.9-2-2-2zM9 17H7v-7h2v7zm4 0h-2V7h2v10zm4 0h-2v-4h2v4z\"/>\n",
              "    </g>\n",
              "</svg>\n",
              "      </button>\n",
              "\n",
              "<style>\n",
              "  .colab-df-quickchart {\n",
              "      --bg-color: #E8F0FE;\n",
              "      --fill-color: #1967D2;\n",
              "      --hover-bg-color: #E2EBFA;\n",
              "      --hover-fill-color: #174EA6;\n",
              "      --disabled-fill-color: #AAA;\n",
              "      --disabled-bg-color: #DDD;\n",
              "  }\n",
              "\n",
              "  [theme=dark] .colab-df-quickchart {\n",
              "      --bg-color: #3B4455;\n",
              "      --fill-color: #D2E3FC;\n",
              "      --hover-bg-color: #434B5C;\n",
              "      --hover-fill-color: #FFFFFF;\n",
              "      --disabled-bg-color: #3B4455;\n",
              "      --disabled-fill-color: #666;\n",
              "  }\n",
              "\n",
              "  .colab-df-quickchart {\n",
              "    background-color: var(--bg-color);\n",
              "    border: none;\n",
              "    border-radius: 50%;\n",
              "    cursor: pointer;\n",
              "    display: none;\n",
              "    fill: var(--fill-color);\n",
              "    height: 32px;\n",
              "    padding: 0;\n",
              "    width: 32px;\n",
              "  }\n",
              "\n",
              "  .colab-df-quickchart:hover {\n",
              "    background-color: var(--hover-bg-color);\n",
              "    box-shadow: 0 1px 2px rgba(60, 64, 67, 0.3), 0 1px 3px 1px rgba(60, 64, 67, 0.15);\n",
              "    fill: var(--button-hover-fill-color);\n",
              "  }\n",
              "\n",
              "  .colab-df-quickchart-complete:disabled,\n",
              "  .colab-df-quickchart-complete:disabled:hover {\n",
              "    background-color: var(--disabled-bg-color);\n",
              "    fill: var(--disabled-fill-color);\n",
              "    box-shadow: none;\n",
              "  }\n",
              "\n",
              "  .colab-df-spinner {\n",
              "    border: 2px solid var(--fill-color);\n",
              "    border-color: transparent;\n",
              "    border-bottom-color: var(--fill-color);\n",
              "    animation:\n",
              "      spin 1s steps(1) infinite;\n",
              "  }\n",
              "\n",
              "  @keyframes spin {\n",
              "    0% {\n",
              "      border-color: transparent;\n",
              "      border-bottom-color: var(--fill-color);\n",
              "      border-left-color: var(--fill-color);\n",
              "    }\n",
              "    20% {\n",
              "      border-color: transparent;\n",
              "      border-left-color: var(--fill-color);\n",
              "      border-top-color: var(--fill-color);\n",
              "    }\n",
              "    30% {\n",
              "      border-color: transparent;\n",
              "      border-left-color: var(--fill-color);\n",
              "      border-top-color: var(--fill-color);\n",
              "      border-right-color: var(--fill-color);\n",
              "    }\n",
              "    40% {\n",
              "      border-color: transparent;\n",
              "      border-right-color: var(--fill-color);\n",
              "      border-top-color: var(--fill-color);\n",
              "    }\n",
              "    60% {\n",
              "      border-color: transparent;\n",
              "      border-right-color: var(--fill-color);\n",
              "    }\n",
              "    80% {\n",
              "      border-color: transparent;\n",
              "      border-right-color: var(--fill-color);\n",
              "      border-bottom-color: var(--fill-color);\n",
              "    }\n",
              "    90% {\n",
              "      border-color: transparent;\n",
              "      border-bottom-color: var(--fill-color);\n",
              "    }\n",
              "  }\n",
              "</style>\n",
              "\n",
              "      <script>\n",
              "        async function quickchart(key) {\n",
              "          const quickchartButtonEl =\n",
              "            document.querySelector('#' + key + ' button');\n",
              "          quickchartButtonEl.disabled = true;  // To prevent multiple clicks.\n",
              "          quickchartButtonEl.classList.add('colab-df-spinner');\n",
              "          try {\n",
              "            const charts = await google.colab.kernel.invokeFunction(\n",
              "                'suggestCharts', [key], {});\n",
              "          } catch (error) {\n",
              "            console.error('Error during call to suggestCharts:', error);\n",
              "          }\n",
              "          quickchartButtonEl.classList.remove('colab-df-spinner');\n",
              "          quickchartButtonEl.classList.add('colab-df-quickchart-complete');\n",
              "        }\n",
              "        (() => {\n",
              "          let quickchartButtonEl =\n",
              "            document.querySelector('#df-e4ef132b-9583-418c-834d-873d26b70ff1 button');\n",
              "          quickchartButtonEl.style.display =\n",
              "            google.colab.kernel.accessAllowed ? 'block' : 'none';\n",
              "        })();\n",
              "      </script>\n",
              "    </div>\n",
              "\n",
              "    </div>\n",
              "  </div>\n"
            ],
            "application/vnd.google.colaboratory.intrinsic+json": {
              "type": "dataframe",
              "summary": "{\n  \"name\": \"brand_pvt\",\n  \"rows\": 10,\n  \"fields\": [\n    {\n      \"column\": \"brand\",\n      \"properties\": {\n        \"dtype\": \"string\",\n        \"num_unique_values\": 10,\n        \"samples\": [\n          \"ingarden\",\n          \"grattol\",\n          \"kapous\"\n        ],\n        \"semantic_type\": \"\",\n        \"description\": \"\"\n      }\n    },\n    {\n      \"column\": \"view\",\n      \"properties\": {\n        \"dtype\": \"number\",\n        \"std\": 17356.539487723032,\n        \"min\": 16717.0,\n        \"max\": 72951.0,\n        \"num_unique_values\": 10,\n        \"samples\": [\n          18808.0,\n          50377.0,\n          31701.0\n        ],\n        \"semantic_type\": \"\",\n        \"description\": \"\"\n      }\n    },\n    {\n      \"column\": \"cart\",\n      \"properties\": {\n        \"dtype\": \"number\",\n        \"std\": 2821.16071660033,\n        \"min\": 1609.0,\n        \"max\": 10803.0,\n        \"num_unique_values\": 10,\n        \"samples\": [\n          2763.0,\n          6947.0,\n          2569.0\n        ],\n        \"semantic_type\": \"\",\n        \"description\": \"\"\n      }\n    },\n    {\n      \"column\": \"purchase\",\n      \"properties\": {\n        \"dtype\": \"number\",\n        \"std\": 1059.681005460291,\n        \"min\": 492.0,\n        \"max\": 4065.0,\n        \"num_unique_values\": 10,\n        \"samples\": [\n          979.0,\n          2221.0,\n          886.0\n        ],\n        \"semantic_type\": \"\",\n        \"description\": \"\"\n      }\n    },\n    {\n      \"column\": \"view_to_cart\",\n      \"properties\": {\n        \"dtype\": \"number\",\n        \"std\": 3.00819623507706,\n        \"min\": 6.689950521807825,\n        \"max\": 16.05523216461351,\n        \"num_unique_values\": 10,\n        \"samples\": [\n          14.690557209698001,\n          13.79002322488437,\n          8.103845304564524\n        ],\n        \"semantic_type\": \"\",\n        \"description\": \"\"\n      }\n    },\n    {\n      \"column\": \"cart_to_purchase\",\n      \"properties\": {\n        \"dtype\": \"number\",\n        \"std\": 4.171236918254686,\n        \"min\": 30.57799875699192,\n        \"max\": 45.587408656548625,\n        \"num_unique_values\": 10,\n        \"samples\": [\n          35.43250090481361,\n          31.970634806391246,\n          34.488127676138575\n        ],\n        \"semantic_type\": \"\",\n        \"description\": \"\"\n      }\n    },\n    {\n      \"column\": \"view_to_purchase\",\n      \"properties\": {\n        \"dtype\": \"number\",\n        \"std\": 1.4751908603939776,\n        \"min\": 2.0456529874017715,\n        \"max\": 7.319164297639998,\n        \"num_unique_values\": 10,\n        \"samples\": [\n          5.205231816248404,\n          4.40875796494432,\n          2.7948645153149743\n        ],\n        \"semantic_type\": \"\",\n        \"description\": \"\"\n      }\n    }\n  ]\n}"
            }
          },
          "metadata": {},
          "execution_count": 49
        }
      ]
    },
    {
      "cell_type": "code",
      "source": [
        "# Brands with highest view-to-purchase (only if view >= 100)\n",
        "brand_pvt[brand_pvt['view'] >= 100].sort_values('view_to_purchase', ascending=False).head(10)"
      ],
      "metadata": {
        "colab": {
          "base_uri": "https://localhost:8080/",
          "height": 394
        },
        "id": "g6RZNU2xZWoq",
        "outputId": "93968b3b-c4db-4caf-906a-55010008fb97"
      },
      "execution_count": 50,
      "outputs": [
        {
          "output_type": "execute_result",
          "data": {
            "text/plain": [
              "event_type    view   cart  purchase  view_to_cart  cart_to_purchase  \\\n",
              "brand                                                                 \n",
              "elskin       250.0   70.0      37.0     28.000000         52.857143   \n",
              "balbcare     515.0  106.0      51.0     20.582524         48.113208   \n",
              "inm          249.0   38.0      22.0     15.261044         57.894737   \n",
              "gehwol       493.0   77.0      41.0     15.618661         53.246753   \n",
              "benovy       915.0  154.0      76.0     16.830601         49.350649   \n",
              "tannymaxx    161.0   28.0      13.0     17.391304         46.428571   \n",
              "severina    3212.0  556.0     258.0     17.310087         46.402878   \n",
              "estelare     595.0  115.0      46.0     19.327731         40.000000   \n",
              "skinlite     881.0  175.0      68.0     19.863791         38.857143   \n",
              "levissime    960.0  185.0      74.0     19.270833         40.000000   \n",
              "\n",
              "event_type  view_to_purchase  \n",
              "brand                         \n",
              "elskin             14.800000  \n",
              "balbcare            9.902913  \n",
              "inm                 8.835341  \n",
              "gehwol              8.316430  \n",
              "benovy              8.306011  \n",
              "tannymaxx           8.074534  \n",
              "severina            8.032379  \n",
              "estelare            7.731092  \n",
              "skinlite            7.718502  \n",
              "levissime           7.708333  "
            ],
            "text/html": [
              "\n",
              "  <div id=\"df-9308e538-840b-4769-83f8-9acde9675ae1\" class=\"colab-df-container\">\n",
              "    <div>\n",
              "<style scoped>\n",
              "    .dataframe tbody tr th:only-of-type {\n",
              "        vertical-align: middle;\n",
              "    }\n",
              "\n",
              "    .dataframe tbody tr th {\n",
              "        vertical-align: top;\n",
              "    }\n",
              "\n",
              "    .dataframe thead th {\n",
              "        text-align: right;\n",
              "    }\n",
              "</style>\n",
              "<table border=\"1\" class=\"dataframe\">\n",
              "  <thead>\n",
              "    <tr style=\"text-align: right;\">\n",
              "      <th>event_type</th>\n",
              "      <th>view</th>\n",
              "      <th>cart</th>\n",
              "      <th>purchase</th>\n",
              "      <th>view_to_cart</th>\n",
              "      <th>cart_to_purchase</th>\n",
              "      <th>view_to_purchase</th>\n",
              "    </tr>\n",
              "    <tr>\n",
              "      <th>brand</th>\n",
              "      <th></th>\n",
              "      <th></th>\n",
              "      <th></th>\n",
              "      <th></th>\n",
              "      <th></th>\n",
              "      <th></th>\n",
              "    </tr>\n",
              "  </thead>\n",
              "  <tbody>\n",
              "    <tr>\n",
              "      <th>elskin</th>\n",
              "      <td>250.0</td>\n",
              "      <td>70.0</td>\n",
              "      <td>37.0</td>\n",
              "      <td>28.000000</td>\n",
              "      <td>52.857143</td>\n",
              "      <td>14.800000</td>\n",
              "    </tr>\n",
              "    <tr>\n",
              "      <th>balbcare</th>\n",
              "      <td>515.0</td>\n",
              "      <td>106.0</td>\n",
              "      <td>51.0</td>\n",
              "      <td>20.582524</td>\n",
              "      <td>48.113208</td>\n",
              "      <td>9.902913</td>\n",
              "    </tr>\n",
              "    <tr>\n",
              "      <th>inm</th>\n",
              "      <td>249.0</td>\n",
              "      <td>38.0</td>\n",
              "      <td>22.0</td>\n",
              "      <td>15.261044</td>\n",
              "      <td>57.894737</td>\n",
              "      <td>8.835341</td>\n",
              "    </tr>\n",
              "    <tr>\n",
              "      <th>gehwol</th>\n",
              "      <td>493.0</td>\n",
              "      <td>77.0</td>\n",
              "      <td>41.0</td>\n",
              "      <td>15.618661</td>\n",
              "      <td>53.246753</td>\n",
              "      <td>8.316430</td>\n",
              "    </tr>\n",
              "    <tr>\n",
              "      <th>benovy</th>\n",
              "      <td>915.0</td>\n",
              "      <td>154.0</td>\n",
              "      <td>76.0</td>\n",
              "      <td>16.830601</td>\n",
              "      <td>49.350649</td>\n",
              "      <td>8.306011</td>\n",
              "    </tr>\n",
              "    <tr>\n",
              "      <th>tannymaxx</th>\n",
              "      <td>161.0</td>\n",
              "      <td>28.0</td>\n",
              "      <td>13.0</td>\n",
              "      <td>17.391304</td>\n",
              "      <td>46.428571</td>\n",
              "      <td>8.074534</td>\n",
              "    </tr>\n",
              "    <tr>\n",
              "      <th>severina</th>\n",
              "      <td>3212.0</td>\n",
              "      <td>556.0</td>\n",
              "      <td>258.0</td>\n",
              "      <td>17.310087</td>\n",
              "      <td>46.402878</td>\n",
              "      <td>8.032379</td>\n",
              "    </tr>\n",
              "    <tr>\n",
              "      <th>estelare</th>\n",
              "      <td>595.0</td>\n",
              "      <td>115.0</td>\n",
              "      <td>46.0</td>\n",
              "      <td>19.327731</td>\n",
              "      <td>40.000000</td>\n",
              "      <td>7.731092</td>\n",
              "    </tr>\n",
              "    <tr>\n",
              "      <th>skinlite</th>\n",
              "      <td>881.0</td>\n",
              "      <td>175.0</td>\n",
              "      <td>68.0</td>\n",
              "      <td>19.863791</td>\n",
              "      <td>38.857143</td>\n",
              "      <td>7.718502</td>\n",
              "    </tr>\n",
              "    <tr>\n",
              "      <th>levissime</th>\n",
              "      <td>960.0</td>\n",
              "      <td>185.0</td>\n",
              "      <td>74.0</td>\n",
              "      <td>19.270833</td>\n",
              "      <td>40.000000</td>\n",
              "      <td>7.708333</td>\n",
              "    </tr>\n",
              "  </tbody>\n",
              "</table>\n",
              "</div>\n",
              "    <div class=\"colab-df-buttons\">\n",
              "\n",
              "  <div class=\"colab-df-container\">\n",
              "    <button class=\"colab-df-convert\" onclick=\"convertToInteractive('df-9308e538-840b-4769-83f8-9acde9675ae1')\"\n",
              "            title=\"Convert this dataframe to an interactive table.\"\n",
              "            style=\"display:none;\">\n",
              "\n",
              "  <svg xmlns=\"http://www.w3.org/2000/svg\" height=\"24px\" viewBox=\"0 -960 960 960\">\n",
              "    <path d=\"M120-120v-720h720v720H120Zm60-500h600v-160H180v160Zm220 220h160v-160H400v160Zm0 220h160v-160H400v160ZM180-400h160v-160H180v160Zm440 0h160v-160H620v160ZM180-180h160v-160H180v160Zm440 0h160v-160H620v160Z\"/>\n",
              "  </svg>\n",
              "    </button>\n",
              "\n",
              "  <style>\n",
              "    .colab-df-container {\n",
              "      display:flex;\n",
              "      gap: 12px;\n",
              "    }\n",
              "\n",
              "    .colab-df-convert {\n",
              "      background-color: #E8F0FE;\n",
              "      border: none;\n",
              "      border-radius: 50%;\n",
              "      cursor: pointer;\n",
              "      display: none;\n",
              "      fill: #1967D2;\n",
              "      height: 32px;\n",
              "      padding: 0 0 0 0;\n",
              "      width: 32px;\n",
              "    }\n",
              "\n",
              "    .colab-df-convert:hover {\n",
              "      background-color: #E2EBFA;\n",
              "      box-shadow: 0px 1px 2px rgba(60, 64, 67, 0.3), 0px 1px 3px 1px rgba(60, 64, 67, 0.15);\n",
              "      fill: #174EA6;\n",
              "    }\n",
              "\n",
              "    .colab-df-buttons div {\n",
              "      margin-bottom: 4px;\n",
              "    }\n",
              "\n",
              "    [theme=dark] .colab-df-convert {\n",
              "      background-color: #3B4455;\n",
              "      fill: #D2E3FC;\n",
              "    }\n",
              "\n",
              "    [theme=dark] .colab-df-convert:hover {\n",
              "      background-color: #434B5C;\n",
              "      box-shadow: 0px 1px 3px 1px rgba(0, 0, 0, 0.15);\n",
              "      filter: drop-shadow(0px 1px 2px rgba(0, 0, 0, 0.3));\n",
              "      fill: #FFFFFF;\n",
              "    }\n",
              "  </style>\n",
              "\n",
              "    <script>\n",
              "      const buttonEl =\n",
              "        document.querySelector('#df-9308e538-840b-4769-83f8-9acde9675ae1 button.colab-df-convert');\n",
              "      buttonEl.style.display =\n",
              "        google.colab.kernel.accessAllowed ? 'block' : 'none';\n",
              "\n",
              "      async function convertToInteractive(key) {\n",
              "        const element = document.querySelector('#df-9308e538-840b-4769-83f8-9acde9675ae1');\n",
              "        const dataTable =\n",
              "          await google.colab.kernel.invokeFunction('convertToInteractive',\n",
              "                                                    [key], {});\n",
              "        if (!dataTable) return;\n",
              "\n",
              "        const docLinkHtml = 'Like what you see? Visit the ' +\n",
              "          '<a target=\"_blank\" href=https://colab.research.google.com/notebooks/data_table.ipynb>data table notebook</a>'\n",
              "          + ' to learn more about interactive tables.';\n",
              "        element.innerHTML = '';\n",
              "        dataTable['output_type'] = 'display_data';\n",
              "        await google.colab.output.renderOutput(dataTable, element);\n",
              "        const docLink = document.createElement('div');\n",
              "        docLink.innerHTML = docLinkHtml;\n",
              "        element.appendChild(docLink);\n",
              "      }\n",
              "    </script>\n",
              "  </div>\n",
              "\n",
              "\n",
              "    <div id=\"df-9c634e12-063d-4f51-9234-6a5aa6d02978\">\n",
              "      <button class=\"colab-df-quickchart\" onclick=\"quickchart('df-9c634e12-063d-4f51-9234-6a5aa6d02978')\"\n",
              "                title=\"Suggest charts\"\n",
              "                style=\"display:none;\">\n",
              "\n",
              "<svg xmlns=\"http://www.w3.org/2000/svg\" height=\"24px\"viewBox=\"0 0 24 24\"\n",
              "     width=\"24px\">\n",
              "    <g>\n",
              "        <path d=\"M19 3H5c-1.1 0-2 .9-2 2v14c0 1.1.9 2 2 2h14c1.1 0 2-.9 2-2V5c0-1.1-.9-2-2-2zM9 17H7v-7h2v7zm4 0h-2V7h2v10zm4 0h-2v-4h2v4z\"/>\n",
              "    </g>\n",
              "</svg>\n",
              "      </button>\n",
              "\n",
              "<style>\n",
              "  .colab-df-quickchart {\n",
              "      --bg-color: #E8F0FE;\n",
              "      --fill-color: #1967D2;\n",
              "      --hover-bg-color: #E2EBFA;\n",
              "      --hover-fill-color: #174EA6;\n",
              "      --disabled-fill-color: #AAA;\n",
              "      --disabled-bg-color: #DDD;\n",
              "  }\n",
              "\n",
              "  [theme=dark] .colab-df-quickchart {\n",
              "      --bg-color: #3B4455;\n",
              "      --fill-color: #D2E3FC;\n",
              "      --hover-bg-color: #434B5C;\n",
              "      --hover-fill-color: #FFFFFF;\n",
              "      --disabled-bg-color: #3B4455;\n",
              "      --disabled-fill-color: #666;\n",
              "  }\n",
              "\n",
              "  .colab-df-quickchart {\n",
              "    background-color: var(--bg-color);\n",
              "    border: none;\n",
              "    border-radius: 50%;\n",
              "    cursor: pointer;\n",
              "    display: none;\n",
              "    fill: var(--fill-color);\n",
              "    height: 32px;\n",
              "    padding: 0;\n",
              "    width: 32px;\n",
              "  }\n",
              "\n",
              "  .colab-df-quickchart:hover {\n",
              "    background-color: var(--hover-bg-color);\n",
              "    box-shadow: 0 1px 2px rgba(60, 64, 67, 0.3), 0 1px 3px 1px rgba(60, 64, 67, 0.15);\n",
              "    fill: var(--button-hover-fill-color);\n",
              "  }\n",
              "\n",
              "  .colab-df-quickchart-complete:disabled,\n",
              "  .colab-df-quickchart-complete:disabled:hover {\n",
              "    background-color: var(--disabled-bg-color);\n",
              "    fill: var(--disabled-fill-color);\n",
              "    box-shadow: none;\n",
              "  }\n",
              "\n",
              "  .colab-df-spinner {\n",
              "    border: 2px solid var(--fill-color);\n",
              "    border-color: transparent;\n",
              "    border-bottom-color: var(--fill-color);\n",
              "    animation:\n",
              "      spin 1s steps(1) infinite;\n",
              "  }\n",
              "\n",
              "  @keyframes spin {\n",
              "    0% {\n",
              "      border-color: transparent;\n",
              "      border-bottom-color: var(--fill-color);\n",
              "      border-left-color: var(--fill-color);\n",
              "    }\n",
              "    20% {\n",
              "      border-color: transparent;\n",
              "      border-left-color: var(--fill-color);\n",
              "      border-top-color: var(--fill-color);\n",
              "    }\n",
              "    30% {\n",
              "      border-color: transparent;\n",
              "      border-left-color: var(--fill-color);\n",
              "      border-top-color: var(--fill-color);\n",
              "      border-right-color: var(--fill-color);\n",
              "    }\n",
              "    40% {\n",
              "      border-color: transparent;\n",
              "      border-right-color: var(--fill-color);\n",
              "      border-top-color: var(--fill-color);\n",
              "    }\n",
              "    60% {\n",
              "      border-color: transparent;\n",
              "      border-right-color: var(--fill-color);\n",
              "    }\n",
              "    80% {\n",
              "      border-color: transparent;\n",
              "      border-right-color: var(--fill-color);\n",
              "      border-bottom-color: var(--fill-color);\n",
              "    }\n",
              "    90% {\n",
              "      border-color: transparent;\n",
              "      border-bottom-color: var(--fill-color);\n",
              "    }\n",
              "  }\n",
              "</style>\n",
              "\n",
              "      <script>\n",
              "        async function quickchart(key) {\n",
              "          const quickchartButtonEl =\n",
              "            document.querySelector('#' + key + ' button');\n",
              "          quickchartButtonEl.disabled = true;  // To prevent multiple clicks.\n",
              "          quickchartButtonEl.classList.add('colab-df-spinner');\n",
              "          try {\n",
              "            const charts = await google.colab.kernel.invokeFunction(\n",
              "                'suggestCharts', [key], {});\n",
              "          } catch (error) {\n",
              "            console.error('Error during call to suggestCharts:', error);\n",
              "          }\n",
              "          quickchartButtonEl.classList.remove('colab-df-spinner');\n",
              "          quickchartButtonEl.classList.add('colab-df-quickchart-complete');\n",
              "        }\n",
              "        (() => {\n",
              "          let quickchartButtonEl =\n",
              "            document.querySelector('#df-9c634e12-063d-4f51-9234-6a5aa6d02978 button');\n",
              "          quickchartButtonEl.style.display =\n",
              "            google.colab.kernel.accessAllowed ? 'block' : 'none';\n",
              "        })();\n",
              "      </script>\n",
              "    </div>\n",
              "\n",
              "    </div>\n",
              "  </div>\n"
            ],
            "application/vnd.google.colaboratory.intrinsic+json": {
              "type": "dataframe",
              "summary": "{\n  \"name\": \"brand_pvt[brand_pvt['view'] >= 100]\",\n  \"rows\": 10,\n  \"fields\": [\n    {\n      \"column\": \"brand\",\n      \"properties\": {\n        \"dtype\": \"string\",\n        \"num_unique_values\": 10,\n        \"samples\": [\n          \"skinlite\",\n          \"balbcare\",\n          \"tannymaxx\"\n        ],\n        \"semantic_type\": \"\",\n        \"description\": \"\"\n      }\n    },\n    {\n      \"column\": \"view\",\n      \"properties\": {\n        \"dtype\": \"number\",\n        \"std\": 887.5506182748115,\n        \"min\": 161.0,\n        \"max\": 3212.0,\n        \"num_unique_values\": 10,\n        \"samples\": [\n          881.0,\n          515.0,\n          161.0\n        ],\n        \"semantic_type\": \"\",\n        \"description\": \"\"\n      }\n    },\n    {\n      \"column\": \"cart\",\n      \"properties\": {\n        \"dtype\": \"number\",\n        \"std\": 152.39510053366766,\n        \"min\": 28.0,\n        \"max\": 556.0,\n        \"num_unique_values\": 10,\n        \"samples\": [\n          175.0,\n          106.0,\n          28.0\n        ],\n        \"semantic_type\": \"\",\n        \"description\": \"\"\n      }\n    },\n    {\n      \"column\": \"purchase\",\n      \"properties\": {\n        \"dtype\": \"number\",\n        \"std\": 69.76181699978228,\n        \"min\": 13.0,\n        \"max\": 258.0,\n        \"num_unique_values\": 10,\n        \"samples\": [\n          68.0,\n          51.0,\n          13.0\n        ],\n        \"semantic_type\": \"\",\n        \"description\": \"\"\n      }\n    },\n    {\n      \"column\": \"view_to_cart\",\n      \"properties\": {\n        \"dtype\": \"number\",\n        \"std\": 3.650950969597131,\n        \"min\": 15.261044176706829,\n        \"max\": 28.000000000000004,\n        \"num_unique_values\": 10,\n        \"samples\": [\n          19.863791146424518,\n          20.58252427184466,\n          17.391304347826086\n        ],\n        \"semantic_type\": \"\",\n        \"description\": \"\"\n      }\n    },\n    {\n      \"column\": \"cart_to_purchase\",\n      \"properties\": {\n        \"dtype\": \"number\",\n        \"std\": 6.348966663805211,\n        \"min\": 38.857142857142854,\n        \"max\": 57.89473684210527,\n        \"num_unique_values\": 9,\n        \"samples\": [\n          40.0,\n          48.113207547169814,\n          46.42857142857143\n        ],\n        \"semantic_type\": \"\",\n        \"description\": \"\"\n      }\n    },\n    {\n      \"column\": \"view_to_purchase\",\n      \"properties\": {\n        \"dtype\": \"number\",\n        \"std\": 2.163120090334707,\n        \"min\": 7.708333333333334,\n        \"max\": 14.799999999999999,\n        \"num_unique_values\": 10,\n        \"samples\": [\n          7.71850170261067,\n          9.902912621359224,\n          8.074534161490684\n        ],\n        \"semantic_type\": \"\",\n        \"description\": \"\"\n      }\n    }\n  ]\n}"
            }
          },
          "metadata": {},
          "execution_count": 50
        }
      ]
    },
    {
      "cell_type": "code",
      "source": [
        "# Brands with lowest view-to-purchase (only if view >= 100)\n",
        "brand_pvt[brand_pvt['view'] >= 100].sort_values('view_to_purchase').head(10)"
      ],
      "metadata": {
        "colab": {
          "base_uri": "https://localhost:8080/",
          "height": 394
        },
        "id": "YkncgpUAZWrH",
        "outputId": "526a0e68-5491-43f6-9e62-b651f2413955"
      },
      "execution_count": 51,
      "outputs": [
        {
          "output_type": "execute_result",
          "data": {
            "text/plain": [
              "event_type       view  cart  purchase  view_to_cart  cart_to_purchase  \\\n",
              "brand                                                                   \n",
              "kosmekka       2521.0  29.0       4.0      1.150337         13.793103   \n",
              "s.care          461.0   7.0       1.0      1.518438         14.285714   \n",
              "kims            668.0   9.0       3.0      1.347305         33.333333   \n",
              "babyliss        931.0  32.0       5.0      3.437164         15.625000   \n",
              "enjoy           130.0   5.0       1.0      3.846154         20.000000   \n",
              "greymy          128.0   8.0       1.0      6.250000         12.500000   \n",
              "tertio          499.0  18.0       4.0      3.607214         22.222222   \n",
              "beautyblender   122.0   6.0       1.0      4.918033         16.666667   \n",
              "egomania        105.0   7.0       1.0      6.666667         14.285714   \n",
              "litaline        104.0   7.0       1.0      6.730769         14.285714   \n",
              "\n",
              "event_type     view_to_purchase  \n",
              "brand                            \n",
              "kosmekka               0.158667  \n",
              "s.care                 0.216920  \n",
              "kims                   0.449102  \n",
              "babyliss               0.537057  \n",
              "enjoy                  0.769231  \n",
              "greymy                 0.781250  \n",
              "tertio                 0.801603  \n",
              "beautyblender          0.819672  \n",
              "egomania               0.952381  \n",
              "litaline               0.961538  "
            ],
            "text/html": [
              "\n",
              "  <div id=\"df-48180ec6-ee1a-44e4-85c8-b9cd6dc56bbc\" class=\"colab-df-container\">\n",
              "    <div>\n",
              "<style scoped>\n",
              "    .dataframe tbody tr th:only-of-type {\n",
              "        vertical-align: middle;\n",
              "    }\n",
              "\n",
              "    .dataframe tbody tr th {\n",
              "        vertical-align: top;\n",
              "    }\n",
              "\n",
              "    .dataframe thead th {\n",
              "        text-align: right;\n",
              "    }\n",
              "</style>\n",
              "<table border=\"1\" class=\"dataframe\">\n",
              "  <thead>\n",
              "    <tr style=\"text-align: right;\">\n",
              "      <th>event_type</th>\n",
              "      <th>view</th>\n",
              "      <th>cart</th>\n",
              "      <th>purchase</th>\n",
              "      <th>view_to_cart</th>\n",
              "      <th>cart_to_purchase</th>\n",
              "      <th>view_to_purchase</th>\n",
              "    </tr>\n",
              "    <tr>\n",
              "      <th>brand</th>\n",
              "      <th></th>\n",
              "      <th></th>\n",
              "      <th></th>\n",
              "      <th></th>\n",
              "      <th></th>\n",
              "      <th></th>\n",
              "    </tr>\n",
              "  </thead>\n",
              "  <tbody>\n",
              "    <tr>\n",
              "      <th>kosmekka</th>\n",
              "      <td>2521.0</td>\n",
              "      <td>29.0</td>\n",
              "      <td>4.0</td>\n",
              "      <td>1.150337</td>\n",
              "      <td>13.793103</td>\n",
              "      <td>0.158667</td>\n",
              "    </tr>\n",
              "    <tr>\n",
              "      <th>s.care</th>\n",
              "      <td>461.0</td>\n",
              "      <td>7.0</td>\n",
              "      <td>1.0</td>\n",
              "      <td>1.518438</td>\n",
              "      <td>14.285714</td>\n",
              "      <td>0.216920</td>\n",
              "    </tr>\n",
              "    <tr>\n",
              "      <th>kims</th>\n",
              "      <td>668.0</td>\n",
              "      <td>9.0</td>\n",
              "      <td>3.0</td>\n",
              "      <td>1.347305</td>\n",
              "      <td>33.333333</td>\n",
              "      <td>0.449102</td>\n",
              "    </tr>\n",
              "    <tr>\n",
              "      <th>babyliss</th>\n",
              "      <td>931.0</td>\n",
              "      <td>32.0</td>\n",
              "      <td>5.0</td>\n",
              "      <td>3.437164</td>\n",
              "      <td>15.625000</td>\n",
              "      <td>0.537057</td>\n",
              "    </tr>\n",
              "    <tr>\n",
              "      <th>enjoy</th>\n",
              "      <td>130.0</td>\n",
              "      <td>5.0</td>\n",
              "      <td>1.0</td>\n",
              "      <td>3.846154</td>\n",
              "      <td>20.000000</td>\n",
              "      <td>0.769231</td>\n",
              "    </tr>\n",
              "    <tr>\n",
              "      <th>greymy</th>\n",
              "      <td>128.0</td>\n",
              "      <td>8.0</td>\n",
              "      <td>1.0</td>\n",
              "      <td>6.250000</td>\n",
              "      <td>12.500000</td>\n",
              "      <td>0.781250</td>\n",
              "    </tr>\n",
              "    <tr>\n",
              "      <th>tertio</th>\n",
              "      <td>499.0</td>\n",
              "      <td>18.0</td>\n",
              "      <td>4.0</td>\n",
              "      <td>3.607214</td>\n",
              "      <td>22.222222</td>\n",
              "      <td>0.801603</td>\n",
              "    </tr>\n",
              "    <tr>\n",
              "      <th>beautyblender</th>\n",
              "      <td>122.0</td>\n",
              "      <td>6.0</td>\n",
              "      <td>1.0</td>\n",
              "      <td>4.918033</td>\n",
              "      <td>16.666667</td>\n",
              "      <td>0.819672</td>\n",
              "    </tr>\n",
              "    <tr>\n",
              "      <th>egomania</th>\n",
              "      <td>105.0</td>\n",
              "      <td>7.0</td>\n",
              "      <td>1.0</td>\n",
              "      <td>6.666667</td>\n",
              "      <td>14.285714</td>\n",
              "      <td>0.952381</td>\n",
              "    </tr>\n",
              "    <tr>\n",
              "      <th>litaline</th>\n",
              "      <td>104.0</td>\n",
              "      <td>7.0</td>\n",
              "      <td>1.0</td>\n",
              "      <td>6.730769</td>\n",
              "      <td>14.285714</td>\n",
              "      <td>0.961538</td>\n",
              "    </tr>\n",
              "  </tbody>\n",
              "</table>\n",
              "</div>\n",
              "    <div class=\"colab-df-buttons\">\n",
              "\n",
              "  <div class=\"colab-df-container\">\n",
              "    <button class=\"colab-df-convert\" onclick=\"convertToInteractive('df-48180ec6-ee1a-44e4-85c8-b9cd6dc56bbc')\"\n",
              "            title=\"Convert this dataframe to an interactive table.\"\n",
              "            style=\"display:none;\">\n",
              "\n",
              "  <svg xmlns=\"http://www.w3.org/2000/svg\" height=\"24px\" viewBox=\"0 -960 960 960\">\n",
              "    <path d=\"M120-120v-720h720v720H120Zm60-500h600v-160H180v160Zm220 220h160v-160H400v160Zm0 220h160v-160H400v160ZM180-400h160v-160H180v160Zm440 0h160v-160H620v160ZM180-180h160v-160H180v160Zm440 0h160v-160H620v160Z\"/>\n",
              "  </svg>\n",
              "    </button>\n",
              "\n",
              "  <style>\n",
              "    .colab-df-container {\n",
              "      display:flex;\n",
              "      gap: 12px;\n",
              "    }\n",
              "\n",
              "    .colab-df-convert {\n",
              "      background-color: #E8F0FE;\n",
              "      border: none;\n",
              "      border-radius: 50%;\n",
              "      cursor: pointer;\n",
              "      display: none;\n",
              "      fill: #1967D2;\n",
              "      height: 32px;\n",
              "      padding: 0 0 0 0;\n",
              "      width: 32px;\n",
              "    }\n",
              "\n",
              "    .colab-df-convert:hover {\n",
              "      background-color: #E2EBFA;\n",
              "      box-shadow: 0px 1px 2px rgba(60, 64, 67, 0.3), 0px 1px 3px 1px rgba(60, 64, 67, 0.15);\n",
              "      fill: #174EA6;\n",
              "    }\n",
              "\n",
              "    .colab-df-buttons div {\n",
              "      margin-bottom: 4px;\n",
              "    }\n",
              "\n",
              "    [theme=dark] .colab-df-convert {\n",
              "      background-color: #3B4455;\n",
              "      fill: #D2E3FC;\n",
              "    }\n",
              "\n",
              "    [theme=dark] .colab-df-convert:hover {\n",
              "      background-color: #434B5C;\n",
              "      box-shadow: 0px 1px 3px 1px rgba(0, 0, 0, 0.15);\n",
              "      filter: drop-shadow(0px 1px 2px rgba(0, 0, 0, 0.3));\n",
              "      fill: #FFFFFF;\n",
              "    }\n",
              "  </style>\n",
              "\n",
              "    <script>\n",
              "      const buttonEl =\n",
              "        document.querySelector('#df-48180ec6-ee1a-44e4-85c8-b9cd6dc56bbc button.colab-df-convert');\n",
              "      buttonEl.style.display =\n",
              "        google.colab.kernel.accessAllowed ? 'block' : 'none';\n",
              "\n",
              "      async function convertToInteractive(key) {\n",
              "        const element = document.querySelector('#df-48180ec6-ee1a-44e4-85c8-b9cd6dc56bbc');\n",
              "        const dataTable =\n",
              "          await google.colab.kernel.invokeFunction('convertToInteractive',\n",
              "                                                    [key], {});\n",
              "        if (!dataTable) return;\n",
              "\n",
              "        const docLinkHtml = 'Like what you see? Visit the ' +\n",
              "          '<a target=\"_blank\" href=https://colab.research.google.com/notebooks/data_table.ipynb>data table notebook</a>'\n",
              "          + ' to learn more about interactive tables.';\n",
              "        element.innerHTML = '';\n",
              "        dataTable['output_type'] = 'display_data';\n",
              "        await google.colab.output.renderOutput(dataTable, element);\n",
              "        const docLink = document.createElement('div');\n",
              "        docLink.innerHTML = docLinkHtml;\n",
              "        element.appendChild(docLink);\n",
              "      }\n",
              "    </script>\n",
              "  </div>\n",
              "\n",
              "\n",
              "    <div id=\"df-7f606ff1-1e29-446e-871c-42590b35d07a\">\n",
              "      <button class=\"colab-df-quickchart\" onclick=\"quickchart('df-7f606ff1-1e29-446e-871c-42590b35d07a')\"\n",
              "                title=\"Suggest charts\"\n",
              "                style=\"display:none;\">\n",
              "\n",
              "<svg xmlns=\"http://www.w3.org/2000/svg\" height=\"24px\"viewBox=\"0 0 24 24\"\n",
              "     width=\"24px\">\n",
              "    <g>\n",
              "        <path d=\"M19 3H5c-1.1 0-2 .9-2 2v14c0 1.1.9 2 2 2h14c1.1 0 2-.9 2-2V5c0-1.1-.9-2-2-2zM9 17H7v-7h2v7zm4 0h-2V7h2v10zm4 0h-2v-4h2v4z\"/>\n",
              "    </g>\n",
              "</svg>\n",
              "      </button>\n",
              "\n",
              "<style>\n",
              "  .colab-df-quickchart {\n",
              "      --bg-color: #E8F0FE;\n",
              "      --fill-color: #1967D2;\n",
              "      --hover-bg-color: #E2EBFA;\n",
              "      --hover-fill-color: #174EA6;\n",
              "      --disabled-fill-color: #AAA;\n",
              "      --disabled-bg-color: #DDD;\n",
              "  }\n",
              "\n",
              "  [theme=dark] .colab-df-quickchart {\n",
              "      --bg-color: #3B4455;\n",
              "      --fill-color: #D2E3FC;\n",
              "      --hover-bg-color: #434B5C;\n",
              "      --hover-fill-color: #FFFFFF;\n",
              "      --disabled-bg-color: #3B4455;\n",
              "      --disabled-fill-color: #666;\n",
              "  }\n",
              "\n",
              "  .colab-df-quickchart {\n",
              "    background-color: var(--bg-color);\n",
              "    border: none;\n",
              "    border-radius: 50%;\n",
              "    cursor: pointer;\n",
              "    display: none;\n",
              "    fill: var(--fill-color);\n",
              "    height: 32px;\n",
              "    padding: 0;\n",
              "    width: 32px;\n",
              "  }\n",
              "\n",
              "  .colab-df-quickchart:hover {\n",
              "    background-color: var(--hover-bg-color);\n",
              "    box-shadow: 0 1px 2px rgba(60, 64, 67, 0.3), 0 1px 3px 1px rgba(60, 64, 67, 0.15);\n",
              "    fill: var(--button-hover-fill-color);\n",
              "  }\n",
              "\n",
              "  .colab-df-quickchart-complete:disabled,\n",
              "  .colab-df-quickchart-complete:disabled:hover {\n",
              "    background-color: var(--disabled-bg-color);\n",
              "    fill: var(--disabled-fill-color);\n",
              "    box-shadow: none;\n",
              "  }\n",
              "\n",
              "  .colab-df-spinner {\n",
              "    border: 2px solid var(--fill-color);\n",
              "    border-color: transparent;\n",
              "    border-bottom-color: var(--fill-color);\n",
              "    animation:\n",
              "      spin 1s steps(1) infinite;\n",
              "  }\n",
              "\n",
              "  @keyframes spin {\n",
              "    0% {\n",
              "      border-color: transparent;\n",
              "      border-bottom-color: var(--fill-color);\n",
              "      border-left-color: var(--fill-color);\n",
              "    }\n",
              "    20% {\n",
              "      border-color: transparent;\n",
              "      border-left-color: var(--fill-color);\n",
              "      border-top-color: var(--fill-color);\n",
              "    }\n",
              "    30% {\n",
              "      border-color: transparent;\n",
              "      border-left-color: var(--fill-color);\n",
              "      border-top-color: var(--fill-color);\n",
              "      border-right-color: var(--fill-color);\n",
              "    }\n",
              "    40% {\n",
              "      border-color: transparent;\n",
              "      border-right-color: var(--fill-color);\n",
              "      border-top-color: var(--fill-color);\n",
              "    }\n",
              "    60% {\n",
              "      border-color: transparent;\n",
              "      border-right-color: var(--fill-color);\n",
              "    }\n",
              "    80% {\n",
              "      border-color: transparent;\n",
              "      border-right-color: var(--fill-color);\n",
              "      border-bottom-color: var(--fill-color);\n",
              "    }\n",
              "    90% {\n",
              "      border-color: transparent;\n",
              "      border-bottom-color: var(--fill-color);\n",
              "    }\n",
              "  }\n",
              "</style>\n",
              "\n",
              "      <script>\n",
              "        async function quickchart(key) {\n",
              "          const quickchartButtonEl =\n",
              "            document.querySelector('#' + key + ' button');\n",
              "          quickchartButtonEl.disabled = true;  // To prevent multiple clicks.\n",
              "          quickchartButtonEl.classList.add('colab-df-spinner');\n",
              "          try {\n",
              "            const charts = await google.colab.kernel.invokeFunction(\n",
              "                'suggestCharts', [key], {});\n",
              "          } catch (error) {\n",
              "            console.error('Error during call to suggestCharts:', error);\n",
              "          }\n",
              "          quickchartButtonEl.classList.remove('colab-df-spinner');\n",
              "          quickchartButtonEl.classList.add('colab-df-quickchart-complete');\n",
              "        }\n",
              "        (() => {\n",
              "          let quickchartButtonEl =\n",
              "            document.querySelector('#df-7f606ff1-1e29-446e-871c-42590b35d07a button');\n",
              "          quickchartButtonEl.style.display =\n",
              "            google.colab.kernel.accessAllowed ? 'block' : 'none';\n",
              "        })();\n",
              "      </script>\n",
              "    </div>\n",
              "\n",
              "    </div>\n",
              "  </div>\n"
            ],
            "application/vnd.google.colaboratory.intrinsic+json": {
              "type": "dataframe",
              "summary": "{\n  \"name\": \"brand_pvt[brand_pvt['view'] >= 100]\",\n  \"rows\": 10,\n  \"fields\": [\n    {\n      \"column\": \"brand\",\n      \"properties\": {\n        \"dtype\": \"string\",\n        \"num_unique_values\": 10,\n        \"samples\": [\n          \"egomania\",\n          \"s.care\",\n          \"greymy\"\n        ],\n        \"semantic_type\": \"\",\n        \"description\": \"\"\n      }\n    },\n    {\n      \"column\": \"view\",\n      \"properties\": {\n        \"dtype\": \"number\",\n        \"std\": 744.3267576959881,\n        \"min\": 104.0,\n        \"max\": 2521.0,\n        \"num_unique_values\": 10,\n        \"samples\": [\n          105.0,\n          461.0,\n          128.0\n        ],\n        \"semantic_type\": \"\",\n        \"description\": \"\"\n      }\n    },\n    {\n      \"column\": \"cart\",\n      \"properties\": {\n        \"dtype\": \"number\",\n        \"std\": 10.019980039900279,\n        \"min\": 5.0,\n        \"max\": 32.0,\n        \"num_unique_values\": 8,\n        \"samples\": [\n          7.0,\n          8.0,\n          29.0\n        ],\n        \"semantic_type\": \"\",\n        \"description\": \"\"\n      }\n    },\n    {\n      \"column\": \"purchase\",\n      \"properties\": {\n        \"dtype\": \"number\",\n        \"std\": 1.6193277068654826,\n        \"min\": 1.0,\n        \"max\": 5.0,\n        \"num_unique_values\": 4,\n        \"samples\": [\n          1.0,\n          5.0,\n          4.0\n        ],\n        \"semantic_type\": \"\",\n        \"description\": \"\"\n      }\n    },\n    {\n      \"column\": \"view_to_cart\",\n      \"properties\": {\n        \"dtype\": \"number\",\n        \"std\": 2.1668173106562283,\n        \"min\": 1.1503371677905594,\n        \"max\": 6.730769230769231,\n        \"num_unique_values\": 10,\n        \"samples\": [\n          6.666666666666667,\n          1.5184381778741864,\n          6.25\n        ],\n        \"semantic_type\": \"\",\n        \"description\": \"\"\n      }\n    },\n    {\n      \"column\": \"cart_to_purchase\",\n      \"properties\": {\n        \"dtype\": \"number\",\n        \"std\": 6.260909488044888,\n        \"min\": 12.5,\n        \"max\": 33.33333333333333,\n        \"num_unique_values\": 8,\n        \"samples\": [\n          14.285714285714285,\n          12.5,\n          13.793103448275861\n        ],\n        \"semantic_type\": \"\",\n        \"description\": \"\"\n      }\n    },\n    {\n      \"column\": \"view_to_purchase\",\n      \"properties\": {\n        \"dtype\": \"number\",\n        \"std\": 0.28935010810930584,\n        \"min\": 0.15866719555731854,\n        \"max\": 0.9615384615384616,\n        \"num_unique_values\": 10,\n        \"samples\": [\n          0.9523809523809524,\n          0.21691973969631237,\n          0.78125\n        ],\n        \"semantic_type\": \"\",\n        \"description\": \"\"\n      }\n    }\n  ]\n}"
            }
          },
          "metadata": {},
          "execution_count": 51
        }
      ]
    },
    {
      "cell_type": "markdown",
      "source": [
        "Kosmekka is analyzed because it has a notably low purchase conversion rate and a significant gap between product views and purchases."
      ],
      "metadata": {
        "id": "w1DZERIdhd9l"
      }
    },
    {
      "cell_type": "markdown",
      "source": [
        "**Price Comparison**"
      ],
      "metadata": {
        "id": "_hA13UQqhiHq"
      }
    },
    {
      "cell_type": "code",
      "source": [
        "# Collect non-duplicate brand/product/price info\n",
        "product_df = df[['brand', 'product_id', 'price']].drop_duplicates()\n",
        "\n",
        "# Mean price overall\n",
        "print('Mean price overall:', product_df['price'].mean())\n",
        "\n",
        "# Mean price by brand (esp. kosmekka vs. elskin)\n",
        "product_df[product_df['brand'].isin(['kosmekka', 'elskin'])].groupby('brand')['price'].mean()"
      ],
      "metadata": {
        "colab": {
          "base_uri": "https://localhost:8080/",
          "height": 196
        },
        "id": "oviqyLpGZWvu",
        "outputId": "04dbb6eb-9ebd-4b36-a9b5-6db05927b0df"
      },
      "execution_count": 52,
      "outputs": [
        {
          "output_type": "stream",
          "name": "stdout",
          "text": [
            "Mean price overall: 8.029075581045227\n"
          ]
        },
        {
          "output_type": "execute_result",
          "data": {
            "text/plain": [
              "brand\n",
              "elskin       1.653571\n",
              "kosmekka    59.245000\n",
              "Name: price, dtype: float64"
            ],
            "text/html": [
              "<div>\n",
              "<style scoped>\n",
              "    .dataframe tbody tr th:only-of-type {\n",
              "        vertical-align: middle;\n",
              "    }\n",
              "\n",
              "    .dataframe tbody tr th {\n",
              "        vertical-align: top;\n",
              "    }\n",
              "\n",
              "    .dataframe thead th {\n",
              "        text-align: right;\n",
              "    }\n",
              "</style>\n",
              "<table border=\"1\" class=\"dataframe\">\n",
              "  <thead>\n",
              "    <tr style=\"text-align: right;\">\n",
              "      <th></th>\n",
              "      <th>price</th>\n",
              "    </tr>\n",
              "    <tr>\n",
              "      <th>brand</th>\n",
              "      <th></th>\n",
              "    </tr>\n",
              "  </thead>\n",
              "  <tbody>\n",
              "    <tr>\n",
              "      <th>elskin</th>\n",
              "      <td>1.653571</td>\n",
              "    </tr>\n",
              "    <tr>\n",
              "      <th>kosmekka</th>\n",
              "      <td>59.245000</td>\n",
              "    </tr>\n",
              "  </tbody>\n",
              "</table>\n",
              "</div><br><label><b>dtype:</b> float64</label>"
            ]
          },
          "metadata": {},
          "execution_count": 52
        }
      ]
    },
    {
      "cell_type": "code",
      "source": [
        "fig = px.box(product_df.query('brand in [\"kosmekka\", \"elskin\", \"runail\", \"grattol\"]'), x='brand', y='price', color='brand', color_discrete_sequence=px.colors.qualitative.Set1)\n",
        "fig.update_layout(width=1000, height=500)"
      ],
      "metadata": {
        "colab": {
          "base_uri": "https://localhost:8080/",
          "height": 537
        },
        "id": "Tyr4BHd-ZgXD",
        "outputId": "37075534-cdf4-4b74-f469-58c8eccfd216"
      },
      "execution_count": 53,
      "outputs": [
        {
          "output_type": "display_data",
          "data": {
            "application/vnd.plotly.v1+json": {
              "data": [
                {
                  "alignmentgroup": "True",
                  "hovertemplate": "brand=%{x}<br>price=%{y}<extra></extra>",
                  "legendgroup": "runail",
                  "marker": {
                    "color": "rgb(228,26,28)"
                  },
                  "name": "runail",
                  "notched": false,
                  "offsetgroup": "runail",
                  "orientation": "v",
                  "showlegend": true,
                  "x": [
                    "runail",
                    "runail",
                    "runail",
                    "runail",
                    "runail",
                    "runail",
                    "runail",
                    "runail",
                    "runail",
                    "runail",
                    "runail",
                    "runail",
                    "runail",
                    "runail",
                    "runail",
                    "runail",
                    "runail",
                    "runail",
                    "runail",
                    "runail",
                    "runail",
                    "runail",
                    "runail",
                    "runail",
                    "runail",
                    "runail",
                    "runail",
                    "runail",
                    "runail",
                    "runail",
                    "runail",
                    "runail",
                    "runail",
                    "runail",
                    "runail",
                    "runail",
                    "runail",
                    "runail",
                    "runail",
                    "runail",
                    "runail",
                    "runail",
                    "runail",
                    "runail",
                    "runail",
                    "runail",
                    "runail",
                    "runail",
                    "runail",
                    "runail",
                    "runail",
                    "runail",
                    "runail",
                    "runail",
                    "runail",
                    "runail",
                    "runail",
                    "runail",
                    "runail",
                    "runail",
                    "runail",
                    "runail",
                    "runail",
                    "runail",
                    "runail",
                    "runail",
                    "runail",
                    "runail",
                    "runail",
                    "runail",
                    "runail",
                    "runail",
                    "runail",
                    "runail",
                    "runail",
                    "runail",
                    "runail",
                    "runail",
                    "runail",
                    "runail",
                    "runail",
                    "runail",
                    "runail",
                    "runail",
                    "runail",
                    "runail",
                    "runail",
                    "runail",
                    "runail",
                    "runail",
                    "runail",
                    "runail",
                    "runail",
                    "runail",
                    "runail",
                    "runail",
                    "runail",
                    "runail",
                    "runail",
                    "runail",
                    "runail",
                    "runail",
                    "runail",
                    "runail",
                    "runail",
                    "runail",
                    "runail",
                    "runail",
                    "runail",
                    "runail",
                    "runail",
                    "runail",
                    "runail",
                    "runail",
                    "runail",
                    "runail",
                    "runail",
                    "runail",
                    "runail",
                    "runail",
                    "runail",
                    "runail",
                    "runail",
                    "runail",
                    "runail",
                    "runail",
                    "runail",
                    "runail",
                    "runail",
                    "runail",
                    "runail",
                    "runail",
                    "runail",
                    "runail",
                    "runail",
                    "runail",
                    "runail",
                    "runail",
                    "runail",
                    "runail",
                    "runail",
                    "runail",
                    "runail",
                    "runail",
                    "runail",
                    "runail",
                    "runail",
                    "runail",
                    "runail",
                    "runail",
                    "runail",
                    "runail",
                    "runail",
                    "runail",
                    "runail",
                    "runail",
                    "runail",
                    "runail",
                    "runail",
                    "runail",
                    "runail",
                    "runail",
                    "runail",
                    "runail",
                    "runail",
                    "runail",
                    "runail",
                    "runail",
                    "runail",
                    "runail",
                    "runail",
                    "runail",
                    "runail",
                    "runail",
                    "runail",
                    "runail",
                    "runail",
                    "runail",
                    "runail",
                    "runail",
                    "runail",
                    "runail",
                    "runail",
                    "runail",
                    "runail",
                    "runail",
                    "runail",
                    "runail",
                    "runail",
                    "runail",
                    "runail",
                    "runail",
                    "runail",
                    "runail",
                    "runail",
                    "runail",
                    "runail",
                    "runail",
                    "runail",
                    "runail",
                    "runail",
                    "runail",
                    "runail",
                    "runail",
                    "runail",
                    "runail",
                    "runail",
                    "runail",
                    "runail",
                    "runail",
                    "runail",
                    "runail",
                    "runail",
                    "runail",
                    "runail",
                    "runail",
                    "runail",
                    "runail",
                    "runail",
                    "runail",
                    "runail",
                    "runail",
                    "runail",
                    "runail",
                    "runail",
                    "runail",
                    "runail",
                    "runail",
                    "runail",
                    "runail",
                    "runail",
                    "runail",
                    "runail",
                    "runail",
                    "runail",
                    "runail",
                    "runail",
                    "runail",
                    "runail",
                    "runail",
                    "runail",
                    "runail",
                    "runail",
                    "runail",
                    "runail",
                    "runail",
                    "runail",
                    "runail",
                    "runail",
                    "runail",
                    "runail",
                    "runail",
                    "runail",
                    "runail",
                    "runail",
                    "runail",
                    "runail",
                    "runail",
                    "runail",
                    "runail",
                    "runail",
                    "runail",
                    "runail",
                    "runail",
                    "runail",
                    "runail",
                    "runail",
                    "runail",
                    "runail",
                    "runail",
                    "runail",
                    "runail",
                    "runail",
                    "runail",
                    "runail",
                    "runail",
                    "runail",
                    "runail",
                    "runail",
                    "runail",
                    "runail",
                    "runail",
                    "runail",
                    "runail",
                    "runail",
                    "runail",
                    "runail",
                    "runail",
                    "runail",
                    "runail",
                    "runail",
                    "runail",
                    "runail",
                    "runail",
                    "runail",
                    "runail",
                    "runail",
                    "runail",
                    "runail",
                    "runail",
                    "runail",
                    "runail",
                    "runail",
                    "runail",
                    "runail",
                    "runail",
                    "runail",
                    "runail",
                    "runail",
                    "runail",
                    "runail",
                    "runail",
                    "runail",
                    "runail",
                    "runail",
                    "runail",
                    "runail",
                    "runail",
                    "runail",
                    "runail",
                    "runail",
                    "runail",
                    "runail",
                    "runail",
                    "runail",
                    "runail",
                    "runail",
                    "runail",
                    "runail",
                    "runail",
                    "runail",
                    "runail",
                    "runail",
                    "runail",
                    "runail",
                    "runail",
                    "runail",
                    "runail",
                    "runail",
                    "runail",
                    "runail",
                    "runail",
                    "runail",
                    "runail",
                    "runail",
                    "runail",
                    "runail",
                    "runail",
                    "runail",
                    "runail",
                    "runail",
                    "runail",
                    "runail",
                    "runail",
                    "runail",
                    "runail",
                    "runail",
                    "runail",
                    "runail",
                    "runail",
                    "runail",
                    "runail",
                    "runail",
                    "runail",
                    "runail",
                    "runail",
                    "runail",
                    "runail",
                    "runail",
                    "runail",
                    "runail",
                    "runail",
                    "runail",
                    "runail",
                    "runail",
                    "runail",
                    "runail",
                    "runail",
                    "runail",
                    "runail",
                    "runail",
                    "runail",
                    "runail",
                    "runail",
                    "runail",
                    "runail",
                    "runail",
                    "runail",
                    "runail",
                    "runail",
                    "runail",
                    "runail",
                    "runail",
                    "runail",
                    "runail",
                    "runail",
                    "runail",
                    "runail",
                    "runail",
                    "runail",
                    "runail",
                    "runail",
                    "runail",
                    "runail",
                    "runail",
                    "runail",
                    "runail",
                    "runail",
                    "runail",
                    "runail",
                    "runail",
                    "runail",
                    "runail",
                    "runail",
                    "runail",
                    "runail",
                    "runail",
                    "runail",
                    "runail",
                    "runail",
                    "runail",
                    "runail",
                    "runail",
                    "runail",
                    "runail",
                    "runail",
                    "runail",
                    "runail",
                    "runail",
                    "runail",
                    "runail",
                    "runail",
                    "runail",
                    "runail",
                    "runail",
                    "runail",
                    "runail",
                    "runail",
                    "runail",
                    "runail",
                    "runail",
                    "runail",
                    "runail",
                    "runail",
                    "runail",
                    "runail",
                    "runail",
                    "runail",
                    "runail",
                    "runail",
                    "runail",
                    "runail",
                    "runail",
                    "runail",
                    "runail",
                    "runail",
                    "runail",
                    "runail",
                    "runail",
                    "runail",
                    "runail",
                    "runail",
                    "runail",
                    "runail",
                    "runail",
                    "runail",
                    "runail",
                    "runail",
                    "runail",
                    "runail",
                    "runail",
                    "runail",
                    "runail",
                    "runail",
                    "runail",
                    "runail",
                    "runail",
                    "runail",
                    "runail",
                    "runail",
                    "runail",
                    "runail",
                    "runail",
                    "runail",
                    "runail",
                    "runail",
                    "runail",
                    "runail",
                    "runail",
                    "runail",
                    "runail",
                    "runail",
                    "runail",
                    "runail",
                    "runail",
                    "runail",
                    "runail",
                    "runail",
                    "runail",
                    "runail",
                    "runail",
                    "runail",
                    "runail",
                    "runail",
                    "runail",
                    "runail",
                    "runail",
                    "runail",
                    "runail",
                    "runail",
                    "runail",
                    "runail",
                    "runail",
                    "runail",
                    "runail",
                    "runail",
                    "runail",
                    "runail",
                    "runail",
                    "runail",
                    "runail",
                    "runail",
                    "runail",
                    "runail",
                    "runail",
                    "runail",
                    "runail",
                    "runail",
                    "runail",
                    "runail",
                    "runail",
                    "runail",
                    "runail",
                    "runail",
                    "runail",
                    "runail",
                    "runail",
                    "runail",
                    "runail",
                    "runail",
                    "runail",
                    "runail",
                    "runail",
                    "runail",
                    "runail",
                    "runail",
                    "runail",
                    "runail",
                    "runail",
                    "runail",
                    "runail",
                    "runail",
                    "runail",
                    "runail",
                    "runail",
                    "runail",
                    "runail",
                    "runail",
                    "runail",
                    "runail",
                    "runail",
                    "runail",
                    "runail",
                    "runail",
                    "runail",
                    "runail",
                    "runail",
                    "runail",
                    "runail",
                    "runail",
                    "runail",
                    "runail",
                    "runail",
                    "runail",
                    "runail",
                    "runail",
                    "runail",
                    "runail",
                    "runail",
                    "runail",
                    "runail",
                    "runail",
                    "runail",
                    "runail",
                    "runail",
                    "runail",
                    "runail",
                    "runail",
                    "runail",
                    "runail",
                    "runail",
                    "runail",
                    "runail",
                    "runail",
                    "runail",
                    "runail",
                    "runail",
                    "runail",
                    "runail",
                    "runail",
                    "runail",
                    "runail",
                    "runail",
                    "runail",
                    "runail",
                    "runail",
                    "runail",
                    "runail",
                    "runail",
                    "runail",
                    "runail",
                    "runail",
                    "runail",
                    "runail",
                    "runail",
                    "runail",
                    "runail",
                    "runail",
                    "runail",
                    "runail",
                    "runail",
                    "runail",
                    "runail",
                    "runail",
                    "runail",
                    "runail",
                    "runail",
                    "runail",
                    "runail",
                    "runail",
                    "runail",
                    "runail",
                    "runail",
                    "runail",
                    "runail",
                    "runail",
                    "runail",
                    "runail",
                    "runail",
                    "runail",
                    "runail",
                    "runail",
                    "runail",
                    "runail",
                    "runail",
                    "runail",
                    "runail",
                    "runail",
                    "runail",
                    "runail",
                    "runail",
                    "runail",
                    "runail",
                    "runail",
                    "runail",
                    "runail",
                    "runail",
                    "runail",
                    "runail",
                    "runail",
                    "runail",
                    "runail",
                    "runail",
                    "runail",
                    "runail",
                    "runail",
                    "runail",
                    "runail",
                    "runail",
                    "runail",
                    "runail",
                    "runail",
                    "runail",
                    "runail",
                    "runail",
                    "runail",
                    "runail",
                    "runail",
                    "runail",
                    "runail",
                    "runail",
                    "runail",
                    "runail",
                    "runail",
                    "runail",
                    "runail",
                    "runail",
                    "runail",
                    "runail",
                    "runail",
                    "runail",
                    "runail",
                    "runail",
                    "runail",
                    "runail",
                    "runail",
                    "runail",
                    "runail",
                    "runail",
                    "runail",
                    "runail",
                    "runail",
                    "runail",
                    "runail",
                    "runail",
                    "runail",
                    "runail",
                    "runail",
                    "runail",
                    "runail",
                    "runail",
                    "runail",
                    "runail",
                    "runail",
                    "runail",
                    "runail",
                    "runail",
                    "runail",
                    "runail",
                    "runail",
                    "runail",
                    "runail",
                    "runail",
                    "runail",
                    "runail",
                    "runail",
                    "runail",
                    "runail",
                    "runail",
                    "runail",
                    "runail",
                    "runail",
                    "runail",
                    "runail",
                    "runail",
                    "runail",
                    "runail",
                    "runail",
                    "runail",
                    "runail",
                    "runail",
                    "runail",
                    "runail",
                    "runail",
                    "runail",
                    "runail",
                    "runail",
                    "runail",
                    "runail",
                    "runail",
                    "runail",
                    "runail",
                    "runail",
                    "runail",
                    "runail",
                    "runail",
                    "runail",
                    "runail",
                    "runail",
                    "runail",
                    "runail",
                    "runail",
                    "runail",
                    "runail",
                    "runail",
                    "runail",
                    "runail",
                    "runail",
                    "runail",
                    "runail",
                    "runail",
                    "runail",
                    "runail",
                    "runail",
                    "runail",
                    "runail",
                    "runail",
                    "runail",
                    "runail",
                    "runail",
                    "runail",
                    "runail",
                    "runail",
                    "runail",
                    "runail",
                    "runail",
                    "runail",
                    "runail",
                    "runail",
                    "runail",
                    "runail",
                    "runail",
                    "runail",
                    "runail",
                    "runail",
                    "runail",
                    "runail",
                    "runail",
                    "runail",
                    "runail",
                    "runail",
                    "runail",
                    "runail",
                    "runail",
                    "runail",
                    "runail",
                    "runail",
                    "runail",
                    "runail",
                    "runail",
                    "runail",
                    "runail",
                    "runail",
                    "runail",
                    "runail",
                    "runail",
                    "runail",
                    "runail",
                    "runail",
                    "runail",
                    "runail",
                    "runail",
                    "runail",
                    "runail",
                    "runail",
                    "runail",
                    "runail",
                    "runail",
                    "runail",
                    "runail",
                    "runail",
                    "runail",
                    "runail",
                    "runail",
                    "runail",
                    "runail",
                    "runail",
                    "runail",
                    "runail",
                    "runail",
                    "runail",
                    "runail",
                    "runail",
                    "runail",
                    "runail",
                    "runail",
                    "runail",
                    "runail",
                    "runail",
                    "runail",
                    "runail",
                    "runail",
                    "runail",
                    "runail",
                    "runail",
                    "runail",
                    "runail",
                    "runail",
                    "runail",
                    "runail",
                    "runail",
                    "runail",
                    "runail",
                    "runail",
                    "runail",
                    "runail",
                    "runail",
                    "runail",
                    "runail",
                    "runail",
                    "runail",
                    "runail",
                    "runail",
                    "runail",
                    "runail",
                    "runail",
                    "runail",
                    "runail",
                    "runail",
                    "runail",
                    "runail",
                    "runail",
                    "runail",
                    "runail",
                    "runail",
                    "runail",
                    "runail",
                    "runail",
                    "runail",
                    "runail",
                    "runail",
                    "runail",
                    "runail",
                    "runail",
                    "runail",
                    "runail",
                    "runail",
                    "runail",
                    "runail",
                    "runail",
                    "runail",
                    "runail",
                    "runail",
                    "runail",
                    "runail",
                    "runail",
                    "runail",
                    "runail",
                    "runail",
                    "runail",
                    "runail",
                    "runail",
                    "runail",
                    "runail",
                    "runail",
                    "runail",
                    "runail",
                    "runail",
                    "runail",
                    "runail",
                    "runail",
                    "runail",
                    "runail",
                    "runail",
                    "runail",
                    "runail",
                    "runail",
                    "runail",
                    "runail",
                    "runail",
                    "runail",
                    "runail",
                    "runail",
                    "runail",
                    "runail",
                    "runail",
                    "runail",
                    "runail",
                    "runail",
                    "runail",
                    "runail",
                    "runail",
                    "runail",
                    "runail",
                    "runail",
                    "runail",
                    "runail",
                    "runail",
                    "runail",
                    "runail",
                    "runail",
                    "runail",
                    "runail",
                    "runail",
                    "runail",
                    "runail",
                    "runail",
                    "runail",
                    "runail",
                    "runail",
                    "runail",
                    "runail",
                    "runail",
                    "runail",
                    "runail",
                    "runail",
                    "runail",
                    "runail",
                    "runail",
                    "runail",
                    "runail",
                    "runail",
                    "runail",
                    "runail",
                    "runail",
                    "runail",
                    "runail",
                    "runail",
                    "runail",
                    "runail",
                    "runail",
                    "runail",
                    "runail",
                    "runail",
                    "runail",
                    "runail",
                    "runail",
                    "runail",
                    "runail",
                    "runail",
                    "runail",
                    "runail",
                    "runail",
                    "runail",
                    "runail",
                    "runail",
                    "runail",
                    "runail",
                    "runail",
                    "runail",
                    "runail",
                    "runail",
                    "runail",
                    "runail",
                    "runail",
                    "runail",
                    "runail",
                    "runail",
                    "runail",
                    "runail",
                    "runail",
                    "runail",
                    "runail",
                    "runail",
                    "runail",
                    "runail",
                    "runail",
                    "runail",
                    "runail",
                    "runail",
                    "runail",
                    "runail",
                    "runail",
                    "runail",
                    "runail",
                    "runail",
                    "runail",
                    "runail",
                    "runail",
                    "runail",
                    "runail",
                    "runail",
                    "runail",
                    "runail",
                    "runail",
                    "runail",
                    "runail",
                    "runail",
                    "runail",
                    "runail",
                    "runail",
                    "runail",
                    "runail",
                    "runail",
                    "runail",
                    "runail",
                    "runail",
                    "runail",
                    "runail",
                    "runail",
                    "runail",
                    "runail",
                    "runail",
                    "runail",
                    "runail",
                    "runail",
                    "runail",
                    "runail",
                    "runail",
                    "runail",
                    "runail",
                    "runail",
                    "runail",
                    "runail",
                    "runail",
                    "runail",
                    "runail",
                    "runail",
                    "runail",
                    "runail",
                    "runail",
                    "runail",
                    "runail",
                    "runail",
                    "runail",
                    "runail",
                    "runail",
                    "runail",
                    "runail",
                    "runail",
                    "runail",
                    "runail",
                    "runail",
                    "runail",
                    "runail",
                    "runail",
                    "runail",
                    "runail",
                    "runail",
                    "runail",
                    "runail",
                    "runail",
                    "runail",
                    "runail",
                    "runail",
                    "runail",
                    "runail",
                    "runail",
                    "runail",
                    "runail",
                    "runail",
                    "runail",
                    "runail",
                    "runail",
                    "runail",
                    "runail",
                    "runail",
                    "runail",
                    "runail",
                    "runail",
                    "runail",
                    "runail",
                    "runail",
                    "runail",
                    "runail",
                    "runail",
                    "runail",
                    "runail",
                    "runail",
                    "runail",
                    "runail",
                    "runail",
                    "runail",
                    "runail",
                    "runail",
                    "runail",
                    "runail",
                    "runail",
                    "runail",
                    "runail",
                    "runail",
                    "runail",
                    "runail",
                    "runail",
                    "runail",
                    "runail",
                    "runail",
                    "runail",
                    "runail",
                    "runail",
                    "runail",
                    "runail",
                    "runail",
                    "runail",
                    "runail",
                    "runail",
                    "runail",
                    "runail",
                    "runail",
                    "runail",
                    "runail",
                    "runail",
                    "runail",
                    "runail",
                    "runail",
                    "runail",
                    "runail",
                    "runail",
                    "runail",
                    "runail",
                    "runail",
                    "runail",
                    "runail",
                    "runail",
                    "runail",
                    "runail",
                    "runail",
                    "runail",
                    "runail",
                    "runail",
                    "runail",
                    "runail",
                    "runail",
                    "runail",
                    "runail",
                    "runail",
                    "runail",
                    "runail",
                    "runail",
                    "runail",
                    "runail",
                    "runail",
                    "runail",
                    "runail",
                    "runail",
                    "runail",
                    "runail",
                    "runail",
                    "runail",
                    "runail",
                    "runail",
                    "runail",
                    "runail",
                    "runail",
                    "runail",
                    "runail",
                    "runail",
                    "runail",
                    "runail",
                    "runail",
                    "runail",
                    "runail",
                    "runail",
                    "runail",
                    "runail",
                    "runail",
                    "runail",
                    "runail",
                    "runail",
                    "runail",
                    "runail",
                    "runail",
                    "runail",
                    "runail",
                    "runail",
                    "runail",
                    "runail",
                    "runail",
                    "runail",
                    "runail",
                    "runail",
                    "runail",
                    "runail",
                    "runail",
                    "runail",
                    "runail",
                    "runail",
                    "runail",
                    "runail",
                    "runail",
                    "runail",
                    "runail",
                    "runail",
                    "runail",
                    "runail",
                    "runail",
                    "runail",
                    "runail",
                    "runail",
                    "runail",
                    "runail",
                    "runail",
                    "runail",
                    "runail",
                    "runail",
                    "runail",
                    "runail",
                    "runail",
                    "runail",
                    "runail",
                    "runail",
                    "runail",
                    "runail",
                    "runail",
                    "runail",
                    "runail",
                    "runail",
                    "runail",
                    "runail",
                    "runail",
                    "runail",
                    "runail",
                    "runail",
                    "runail",
                    "runail",
                    "runail",
                    "runail",
                    "runail",
                    "runail",
                    "runail",
                    "runail",
                    "runail",
                    "runail",
                    "runail",
                    "runail",
                    "runail",
                    "runail",
                    "runail",
                    "runail",
                    "runail",
                    "runail",
                    "runail",
                    "runail",
                    "runail",
                    "runail",
                    "runail",
                    "runail",
                    "runail",
                    "runail",
                    "runail",
                    "runail",
                    "runail",
                    "runail",
                    "runail",
                    "runail",
                    "runail",
                    "runail",
                    "runail",
                    "runail",
                    "runail",
                    "runail",
                    "runail",
                    "runail",
                    "runail",
                    "runail",
                    "runail",
                    "runail",
                    "runail",
                    "runail",
                    "runail",
                    "runail",
                    "runail",
                    "runail",
                    "runail",
                    "runail",
                    "runail",
                    "runail",
                    "runail",
                    "runail",
                    "runail",
                    "runail",
                    "runail",
                    "runail",
                    "runail",
                    "runail",
                    "runail",
                    "runail",
                    "runail",
                    "runail",
                    "runail",
                    "runail",
                    "runail",
                    "runail",
                    "runail",
                    "runail",
                    "runail",
                    "runail",
                    "runail",
                    "runail",
                    "runail",
                    "runail",
                    "runail",
                    "runail",
                    "runail",
                    "runail",
                    "runail",
                    "runail",
                    "runail",
                    "runail",
                    "runail",
                    "runail",
                    "runail",
                    "runail",
                    "runail",
                    "runail",
                    "runail",
                    "runail",
                    "runail",
                    "runail",
                    "runail",
                    "runail",
                    "runail",
                    "runail",
                    "runail",
                    "runail",
                    "runail",
                    "runail",
                    "runail",
                    "runail",
                    "runail",
                    "runail"
                  ],
                  "x0": " ",
                  "xaxis": "x",
                  "y": {
                    "dtype": "f8",
                    "bdata": "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"
                  },
                  "y0": " ",
                  "yaxis": "y",
                  "type": "box"
                },
                {
                  "alignmentgroup": "True",
                  "hovertemplate": "brand=%{x}<br>price=%{y}<extra></extra>",
                  "legendgroup": "grattol",
                  "marker": {
                    "color": "rgb(55,126,184)"
                  },
                  "name": "grattol",
                  "notched": false,
                  "offsetgroup": "grattol",
                  "orientation": "v",
                  "showlegend": true,
                  "x": [
                    "grattol",
                    "grattol",
                    "grattol",
                    "grattol",
                    "grattol",
                    "grattol",
                    "grattol",
                    "grattol",
                    "grattol",
                    "grattol",
                    "grattol",
                    "grattol",
                    "grattol",
                    "grattol",
                    "grattol",
                    "grattol",
                    "grattol",
                    "grattol",
                    "grattol",
                    "grattol",
                    "grattol",
                    "grattol",
                    "grattol",
                    "grattol",
                    "grattol",
                    "grattol",
                    "grattol",
                    "grattol",
                    "grattol",
                    "grattol",
                    "grattol",
                    "grattol",
                    "grattol",
                    "grattol",
                    "grattol",
                    "grattol",
                    "grattol",
                    "grattol",
                    "grattol",
                    "grattol",
                    "grattol",
                    "grattol",
                    "grattol",
                    "grattol",
                    "grattol",
                    "grattol",
                    "grattol",
                    "grattol",
                    "grattol",
                    "grattol",
                    "grattol",
                    "grattol",
                    "grattol",
                    "grattol",
                    "grattol",
                    "grattol",
                    "grattol",
                    "grattol",
                    "grattol",
                    "grattol",
                    "grattol",
                    "grattol",
                    "grattol",
                    "grattol",
                    "grattol",
                    "grattol",
                    "grattol",
                    "grattol",
                    "grattol",
                    "grattol",
                    "grattol",
                    "grattol",
                    "grattol",
                    "grattol",
                    "grattol",
                    "grattol",
                    "grattol",
                    "grattol",
                    "grattol",
                    "grattol",
                    "grattol",
                    "grattol",
                    "grattol",
                    "grattol",
                    "grattol",
                    "grattol",
                    "grattol",
                    "grattol",
                    "grattol",
                    "grattol",
                    "grattol",
                    "grattol",
                    "grattol",
                    "grattol",
                    "grattol",
                    "grattol",
                    "grattol",
                    "grattol",
                    "grattol",
                    "grattol",
                    "grattol",
                    "grattol",
                    "grattol",
                    "grattol",
                    "grattol",
                    "grattol",
                    "grattol",
                    "grattol",
                    "grattol",
                    "grattol",
                    "grattol",
                    "grattol",
                    "grattol",
                    "grattol",
                    "grattol",
                    "grattol",
                    "grattol",
                    "grattol",
                    "grattol",
                    "grattol",
                    "grattol",
                    "grattol",
                    "grattol",
                    "grattol",
                    "grattol",
                    "grattol",
                    "grattol",
                    "grattol",
                    "grattol",
                    "grattol",
                    "grattol",
                    "grattol",
                    "grattol",
                    "grattol",
                    "grattol",
                    "grattol",
                    "grattol",
                    "grattol",
                    "grattol",
                    "grattol",
                    "grattol",
                    "grattol",
                    "grattol",
                    "grattol",
                    "grattol",
                    "grattol",
                    "grattol",
                    "grattol",
                    "grattol",
                    "grattol",
                    "grattol",
                    "grattol",
                    "grattol",
                    "grattol",
                    "grattol",
                    "grattol",
                    "grattol",
                    "grattol",
                    "grattol",
                    "grattol",
                    "grattol",
                    "grattol",
                    "grattol",
                    "grattol",
                    "grattol",
                    "grattol",
                    "grattol",
                    "grattol",
                    "grattol",
                    "grattol",
                    "grattol",
                    "grattol",
                    "grattol",
                    "grattol",
                    "grattol",
                    "grattol",
                    "grattol",
                    "grattol",
                    "grattol",
                    "grattol",
                    "grattol",
                    "grattol",
                    "grattol",
                    "grattol",
                    "grattol",
                    "grattol",
                    "grattol",
                    "grattol",
                    "grattol",
                    "grattol",
                    "grattol",
                    "grattol",
                    "grattol",
                    "grattol",
                    "grattol",
                    "grattol",
                    "grattol",
                    "grattol",
                    "grattol",
                    "grattol",
                    "grattol",
                    "grattol",
                    "grattol",
                    "grattol",
                    "grattol",
                    "grattol",
                    "grattol",
                    "grattol",
                    "grattol",
                    "grattol",
                    "grattol",
                    "grattol",
                    "grattol",
                    "grattol",
                    "grattol",
                    "grattol",
                    "grattol",
                    "grattol",
                    "grattol",
                    "grattol",
                    "grattol",
                    "grattol",
                    "grattol",
                    "grattol",
                    "grattol",
                    "grattol",
                    "grattol",
                    "grattol",
                    "grattol",
                    "grattol",
                    "grattol",
                    "grattol",
                    "grattol",
                    "grattol",
                    "grattol",
                    "grattol",
                    "grattol",
                    "grattol",
                    "grattol",
                    "grattol",
                    "grattol",
                    "grattol",
                    "grattol",
                    "grattol",
                    "grattol",
                    "grattol",
                    "grattol",
                    "grattol",
                    "grattol",
                    "grattol",
                    "grattol",
                    "grattol",
                    "grattol",
                    "grattol",
                    "grattol",
                    "grattol",
                    "grattol",
                    "grattol",
                    "grattol",
                    "grattol",
                    "grattol",
                    "grattol",
                    "grattol",
                    "grattol",
                    "grattol",
                    "grattol",
                    "grattol",
                    "grattol",
                    "grattol",
                    "grattol",
                    "grattol",
                    "grattol",
                    "grattol",
                    "grattol",
                    "grattol",
                    "grattol",
                    "grattol",
                    "grattol",
                    "grattol",
                    "grattol",
                    "grattol",
                    "grattol",
                    "grattol",
                    "grattol",
                    "grattol",
                    "grattol",
                    "grattol",
                    "grattol",
                    "grattol",
                    "grattol",
                    "grattol",
                    "grattol",
                    "grattol",
                    "grattol",
                    "grattol",
                    "grattol",
                    "grattol",
                    "grattol",
                    "grattol",
                    "grattol",
                    "grattol",
                    "grattol",
                    "grattol",
                    "grattol",
                    "grattol",
                    "grattol",
                    "grattol",
                    "grattol",
                    "grattol",
                    "grattol",
                    "grattol",
                    "grattol",
                    "grattol",
                    "grattol",
                    "grattol",
                    "grattol",
                    "grattol",
                    "grattol",
                    "grattol",
                    "grattol",
                    "grattol",
                    "grattol",
                    "grattol",
                    "grattol",
                    "grattol",
                    "grattol",
                    "grattol",
                    "grattol",
                    "grattol",
                    "grattol",
                    "grattol",
                    "grattol",
                    "grattol",
                    "grattol",
                    "grattol",
                    "grattol",
                    "grattol",
                    "grattol",
                    "grattol",
                    "grattol",
                    "grattol",
                    "grattol",
                    "grattol",
                    "grattol",
                    "grattol",
                    "grattol",
                    "grattol",
                    "grattol",
                    "grattol",
                    "grattol",
                    "grattol",
                    "grattol",
                    "grattol",
                    "grattol",
                    "grattol",
                    "grattol",
                    "grattol",
                    "grattol",
                    "grattol",
                    "grattol",
                    "grattol",
                    "grattol",
                    "grattol",
                    "grattol",
                    "grattol",
                    "grattol",
                    "grattol",
                    "grattol",
                    "grattol",
                    "grattol",
                    "grattol",
                    "grattol",
                    "grattol",
                    "grattol",
                    "grattol",
                    "grattol",
                    "grattol",
                    "grattol",
                    "grattol",
                    "grattol",
                    "grattol",
                    "grattol",
                    "grattol",
                    "grattol",
                    "grattol",
                    "grattol",
                    "grattol",
                    "grattol",
                    "grattol",
                    "grattol",
                    "grattol",
                    "grattol",
                    "grattol",
                    "grattol",
                    "grattol",
                    "grattol",
                    "grattol",
                    "grattol",
                    "grattol",
                    "grattol",
                    "grattol",
                    "grattol",
                    "grattol",
                    "grattol",
                    "grattol",
                    "grattol",
                    "grattol",
                    "grattol",
                    "grattol",
                    "grattol",
                    "grattol",
                    "grattol"
                  ],
                  "x0": " ",
                  "xaxis": "x",
                  "y": {
                    "dtype": "f8",
                    "bdata": "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"
                  },
                  "y0": " ",
                  "yaxis": "y",
                  "type": "box"
                },
                {
                  "alignmentgroup": "True",
                  "hovertemplate": "brand=%{x}<br>price=%{y}<extra></extra>",
                  "legendgroup": "kosmekka",
                  "marker": {
                    "color": "rgb(77,175,74)"
                  },
                  "name": "kosmekka",
                  "notched": false,
                  "offsetgroup": "kosmekka",
                  "orientation": "v",
                  "showlegend": true,
                  "x": [
                    "kosmekka",
                    "kosmekka",
                    "kosmekka",
                    "kosmekka",
                    "kosmekka",
                    "kosmekka",
                    "kosmekka",
                    "kosmekka",
                    "kosmekka",
                    "kosmekka",
                    "kosmekka",
                    "kosmekka",
                    "kosmekka",
                    "kosmekka",
                    "kosmekka",
                    "kosmekka",
                    "kosmekka",
                    "kosmekka",
                    "kosmekka",
                    "kosmekka",
                    "kosmekka",
                    "kosmekka",
                    "kosmekka",
                    "kosmekka",
                    "kosmekka",
                    "kosmekka",
                    "kosmekka",
                    "kosmekka",
                    "kosmekka",
                    "kosmekka",
                    "kosmekka",
                    "kosmekka",
                    "kosmekka",
                    "kosmekka",
                    "kosmekka",
                    "kosmekka",
                    "kosmekka",
                    "kosmekka",
                    "kosmekka",
                    "kosmekka",
                    "kosmekka",
                    "kosmekka",
                    "kosmekka",
                    "kosmekka",
                    "kosmekka",
                    "kosmekka",
                    "kosmekka",
                    "kosmekka",
                    "kosmekka",
                    "kosmekka",
                    "kosmekka",
                    "kosmekka",
                    "kosmekka",
                    "kosmekka",
                    "kosmekka",
                    "kosmekka",
                    "kosmekka",
                    "kosmekka",
                    "kosmekka",
                    "kosmekka"
                  ],
                  "x0": " ",
                  "xaxis": "x",
                  "y": {
                    "dtype": "f8",
                    "bdata": "H4XrUbj+W0CuR+F6FG5FQOxRuB6F61hAFK5H4XoUOUDhehSuR9liQKRwPQrXA0dAFK5H4XqUJUBmZmZmZiZfQK5H4XoU/llAKVyPwvU4W0CuR+F6FA5XQFK4HoXrgVBAZmZmZmZmKUDD9Shcj5JSQKRwPQrXY1pAMzMzMzPTVUCkcD0K1wNHQOxRuB6F21FAuB6F61EIVUAK16NwPWpCQB+F61G4njtAXI/C9SicV0B7FK5H4cpZQBSuR+F6lCVArkfhehRuRUCkcD0K12NaQIXrUbgedVFA9ihcj8L1WEAAAAAAAHhgQOxRuB6F21FAexSuR+F6LkCF61G4HtVUQIXrUbge1VRApHA9CtcDR0AfhetRuJ47QK5H4XoUbjVApHA9CtcDR0BmZmZmZmY5QHsUrkfhuj9AZmZmZmamUkCF61G4HnVRQFK4HoXrUQRAexSuR+GqUEAUrkfhehQ5QBSuR+F6FDlAexSuR+F6HkCamZmZmalQQK5H4XoUbkVAFK5H4XqUJUBI4XoUrschQLgehetR+DpAuB6F61H4OkCF61G4HnVRQHsUrkfhuj9Aw/UoXI+iVEBcj8L1KAxTQLgehetR+DpAmpmZmZmpUEDD9Shcj6JUQBSuR+F6FDlA"
                  },
                  "y0": " ",
                  "yaxis": "y",
                  "type": "box"
                },
                {
                  "alignmentgroup": "True",
                  "hovertemplate": "brand=%{x}<br>price=%{y}<extra></extra>",
                  "legendgroup": "elskin",
                  "marker": {
                    "color": "rgb(152,78,163)"
                  },
                  "name": "elskin",
                  "notched": false,
                  "offsetgroup": "elskin",
                  "orientation": "v",
                  "showlegend": true,
                  "x": [
                    "elskin",
                    "elskin",
                    "elskin",
                    "elskin",
                    "elskin",
                    "elskin",
                    "elskin",
                    "elskin",
                    "elskin",
                    "elskin",
                    "elskin",
                    "elskin",
                    "elskin",
                    "elskin"
                  ],
                  "x0": " ",
                  "xaxis": "x",
                  "y": {
                    "dtype": "f8",
                    "bdata": "pHA9CtejAEDD9Shcj8LxP6RwPQrXowBAcT0K16Nw+T9xPQrXo3D5P9ejcD0K1xBAw/UoXI/C8T/D9Shcj8LxP3sUrkfheuw/w/UoXI/C8T/D9Shcj8LxP5qZmZmZmfk/cT0K16Nw+T+F61G4HoX/Pw=="
                  },
                  "y0": " ",
                  "yaxis": "y",
                  "type": "box"
                }
              ],
              "layout": {
                "template": {
                  "data": {
                    "histogram2dcontour": [
                      {
                        "type": "histogram2dcontour",
                        "colorbar": {
                          "outlinewidth": 0,
                          "ticks": ""
                        },
                        "colorscale": [
                          [
                            0,
                            "#0d0887"
                          ],
                          [
                            0.1111111111111111,
                            "#46039f"
                          ],
                          [
                            0.2222222222222222,
                            "#7201a8"
                          ],
                          [
                            0.3333333333333333,
                            "#9c179e"
                          ],
                          [
                            0.4444444444444444,
                            "#bd3786"
                          ],
                          [
                            0.5555555555555556,
                            "#d8576b"
                          ],
                          [
                            0.6666666666666666,
                            "#ed7953"
                          ],
                          [
                            0.7777777777777778,
                            "#fb9f3a"
                          ],
                          [
                            0.8888888888888888,
                            "#fdca26"
                          ],
                          [
                            1,
                            "#f0f921"
                          ]
                        ]
                      }
                    ],
                    "choropleth": [
                      {
                        "type": "choropleth",
                        "colorbar": {
                          "outlinewidth": 0,
                          "ticks": ""
                        }
                      }
                    ],
                    "histogram2d": [
                      {
                        "type": "histogram2d",
                        "colorbar": {
                          "outlinewidth": 0,
                          "ticks": ""
                        },
                        "colorscale": [
                          [
                            0,
                            "#0d0887"
                          ],
                          [
                            0.1111111111111111,
                            "#46039f"
                          ],
                          [
                            0.2222222222222222,
                            "#7201a8"
                          ],
                          [
                            0.3333333333333333,
                            "#9c179e"
                          ],
                          [
                            0.4444444444444444,
                            "#bd3786"
                          ],
                          [
                            0.5555555555555556,
                            "#d8576b"
                          ],
                          [
                            0.6666666666666666,
                            "#ed7953"
                          ],
                          [
                            0.7777777777777778,
                            "#fb9f3a"
                          ],
                          [
                            0.8888888888888888,
                            "#fdca26"
                          ],
                          [
                            1,
                            "#f0f921"
                          ]
                        ]
                      }
                    ],
                    "heatmap": [
                      {
                        "type": "heatmap",
                        "colorbar": {
                          "outlinewidth": 0,
                          "ticks": ""
                        },
                        "colorscale": [
                          [
                            0,
                            "#0d0887"
                          ],
                          [
                            0.1111111111111111,
                            "#46039f"
                          ],
                          [
                            0.2222222222222222,
                            "#7201a8"
                          ],
                          [
                            0.3333333333333333,
                            "#9c179e"
                          ],
                          [
                            0.4444444444444444,
                            "#bd3786"
                          ],
                          [
                            0.5555555555555556,
                            "#d8576b"
                          ],
                          [
                            0.6666666666666666,
                            "#ed7953"
                          ],
                          [
                            0.7777777777777778,
                            "#fb9f3a"
                          ],
                          [
                            0.8888888888888888,
                            "#fdca26"
                          ],
                          [
                            1,
                            "#f0f921"
                          ]
                        ]
                      }
                    ],
                    "contourcarpet": [
                      {
                        "type": "contourcarpet",
                        "colorbar": {
                          "outlinewidth": 0,
                          "ticks": ""
                        }
                      }
                    ],
                    "contour": [
                      {
                        "type": "contour",
                        "colorbar": {
                          "outlinewidth": 0,
                          "ticks": ""
                        },
                        "colorscale": [
                          [
                            0,
                            "#0d0887"
                          ],
                          [
                            0.1111111111111111,
                            "#46039f"
                          ],
                          [
                            0.2222222222222222,
                            "#7201a8"
                          ],
                          [
                            0.3333333333333333,
                            "#9c179e"
                          ],
                          [
                            0.4444444444444444,
                            "#bd3786"
                          ],
                          [
                            0.5555555555555556,
                            "#d8576b"
                          ],
                          [
                            0.6666666666666666,
                            "#ed7953"
                          ],
                          [
                            0.7777777777777778,
                            "#fb9f3a"
                          ],
                          [
                            0.8888888888888888,
                            "#fdca26"
                          ],
                          [
                            1,
                            "#f0f921"
                          ]
                        ]
                      }
                    ],
                    "surface": [
                      {
                        "type": "surface",
                        "colorbar": {
                          "outlinewidth": 0,
                          "ticks": ""
                        },
                        "colorscale": [
                          [
                            0,
                            "#0d0887"
                          ],
                          [
                            0.1111111111111111,
                            "#46039f"
                          ],
                          [
                            0.2222222222222222,
                            "#7201a8"
                          ],
                          [
                            0.3333333333333333,
                            "#9c179e"
                          ],
                          [
                            0.4444444444444444,
                            "#bd3786"
                          ],
                          [
                            0.5555555555555556,
                            "#d8576b"
                          ],
                          [
                            0.6666666666666666,
                            "#ed7953"
                          ],
                          [
                            0.7777777777777778,
                            "#fb9f3a"
                          ],
                          [
                            0.8888888888888888,
                            "#fdca26"
                          ],
                          [
                            1,
                            "#f0f921"
                          ]
                        ]
                      }
                    ],
                    "mesh3d": [
                      {
                        "type": "mesh3d",
                        "colorbar": {
                          "outlinewidth": 0,
                          "ticks": ""
                        }
                      }
                    ],
                    "scatter": [
                      {
                        "fillpattern": {
                          "fillmode": "overlay",
                          "size": 10,
                          "solidity": 0.2
                        },
                        "type": "scatter"
                      }
                    ],
                    "parcoords": [
                      {
                        "type": "parcoords",
                        "line": {
                          "colorbar": {
                            "outlinewidth": 0,
                            "ticks": ""
                          }
                        }
                      }
                    ],
                    "scatterpolargl": [
                      {
                        "type": "scatterpolargl",
                        "marker": {
                          "colorbar": {
                            "outlinewidth": 0,
                            "ticks": ""
                          }
                        }
                      }
                    ],
                    "bar": [
                      {
                        "error_x": {
                          "color": "#2a3f5f"
                        },
                        "error_y": {
                          "color": "#2a3f5f"
                        },
                        "marker": {
                          "line": {
                            "color": "#E5ECF6",
                            "width": 0.5
                          },
                          "pattern": {
                            "fillmode": "overlay",
                            "size": 10,
                            "solidity": 0.2
                          }
                        },
                        "type": "bar"
                      }
                    ],
                    "scattergeo": [
                      {
                        "type": "scattergeo",
                        "marker": {
                          "colorbar": {
                            "outlinewidth": 0,
                            "ticks": ""
                          }
                        }
                      }
                    ],
                    "scatterpolar": [
                      {
                        "type": "scatterpolar",
                        "marker": {
                          "colorbar": {
                            "outlinewidth": 0,
                            "ticks": ""
                          }
                        }
                      }
                    ],
                    "histogram": [
                      {
                        "marker": {
                          "pattern": {
                            "fillmode": "overlay",
                            "size": 10,
                            "solidity": 0.2
                          }
                        },
                        "type": "histogram"
                      }
                    ],
                    "scattergl": [
                      {
                        "type": "scattergl",
                        "marker": {
                          "colorbar": {
                            "outlinewidth": 0,
                            "ticks": ""
                          }
                        }
                      }
                    ],
                    "scatter3d": [
                      {
                        "type": "scatter3d",
                        "line": {
                          "colorbar": {
                            "outlinewidth": 0,
                            "ticks": ""
                          }
                        },
                        "marker": {
                          "colorbar": {
                            "outlinewidth": 0,
                            "ticks": ""
                          }
                        }
                      }
                    ],
                    "scattermap": [
                      {
                        "type": "scattermap",
                        "marker": {
                          "colorbar": {
                            "outlinewidth": 0,
                            "ticks": ""
                          }
                        }
                      }
                    ],
                    "scattermapbox": [
                      {
                        "type": "scattermapbox",
                        "marker": {
                          "colorbar": {
                            "outlinewidth": 0,
                            "ticks": ""
                          }
                        }
                      }
                    ],
                    "scatterternary": [
                      {
                        "type": "scatterternary",
                        "marker": {
                          "colorbar": {
                            "outlinewidth": 0,
                            "ticks": ""
                          }
                        }
                      }
                    ],
                    "scattercarpet": [
                      {
                        "type": "scattercarpet",
                        "marker": {
                          "colorbar": {
                            "outlinewidth": 0,
                            "ticks": ""
                          }
                        }
                      }
                    ],
                    "carpet": [
                      {
                        "aaxis": {
                          "endlinecolor": "#2a3f5f",
                          "gridcolor": "white",
                          "linecolor": "white",
                          "minorgridcolor": "white",
                          "startlinecolor": "#2a3f5f"
                        },
                        "baxis": {
                          "endlinecolor": "#2a3f5f",
                          "gridcolor": "white",
                          "linecolor": "white",
                          "minorgridcolor": "white",
                          "startlinecolor": "#2a3f5f"
                        },
                        "type": "carpet"
                      }
                    ],
                    "table": [
                      {
                        "cells": {
                          "fill": {
                            "color": "#EBF0F8"
                          },
                          "line": {
                            "color": "white"
                          }
                        },
                        "header": {
                          "fill": {
                            "color": "#C8D4E3"
                          },
                          "line": {
                            "color": "white"
                          }
                        },
                        "type": "table"
                      }
                    ],
                    "barpolar": [
                      {
                        "marker": {
                          "line": {
                            "color": "#E5ECF6",
                            "width": 0.5
                          },
                          "pattern": {
                            "fillmode": "overlay",
                            "size": 10,
                            "solidity": 0.2
                          }
                        },
                        "type": "barpolar"
                      }
                    ],
                    "pie": [
                      {
                        "automargin": true,
                        "type": "pie"
                      }
                    ]
                  },
                  "layout": {
                    "autotypenumbers": "strict",
                    "colorway": [
                      "#636efa",
                      "#EF553B",
                      "#00cc96",
                      "#ab63fa",
                      "#FFA15A",
                      "#19d3f3",
                      "#FF6692",
                      "#B6E880",
                      "#FF97FF",
                      "#FECB52"
                    ],
                    "font": {
                      "color": "#2a3f5f"
                    },
                    "hovermode": "closest",
                    "hoverlabel": {
                      "align": "left"
                    },
                    "paper_bgcolor": "white",
                    "plot_bgcolor": "#E5ECF6",
                    "polar": {
                      "bgcolor": "#E5ECF6",
                      "angularaxis": {
                        "gridcolor": "white",
                        "linecolor": "white",
                        "ticks": ""
                      },
                      "radialaxis": {
                        "gridcolor": "white",
                        "linecolor": "white",
                        "ticks": ""
                      }
                    },
                    "ternary": {
                      "bgcolor": "#E5ECF6",
                      "aaxis": {
                        "gridcolor": "white",
                        "linecolor": "white",
                        "ticks": ""
                      },
                      "baxis": {
                        "gridcolor": "white",
                        "linecolor": "white",
                        "ticks": ""
                      },
                      "caxis": {
                        "gridcolor": "white",
                        "linecolor": "white",
                        "ticks": ""
                      }
                    },
                    "coloraxis": {
                      "colorbar": {
                        "outlinewidth": 0,
                        "ticks": ""
                      }
                    },
                    "colorscale": {
                      "sequential": [
                        [
                          0,
                          "#0d0887"
                        ],
                        [
                          0.1111111111111111,
                          "#46039f"
                        ],
                        [
                          0.2222222222222222,
                          "#7201a8"
                        ],
                        [
                          0.3333333333333333,
                          "#9c179e"
                        ],
                        [
                          0.4444444444444444,
                          "#bd3786"
                        ],
                        [
                          0.5555555555555556,
                          "#d8576b"
                        ],
                        [
                          0.6666666666666666,
                          "#ed7953"
                        ],
                        [
                          0.7777777777777778,
                          "#fb9f3a"
                        ],
                        [
                          0.8888888888888888,
                          "#fdca26"
                        ],
                        [
                          1,
                          "#f0f921"
                        ]
                      ],
                      "sequentialminus": [
                        [
                          0,
                          "#0d0887"
                        ],
                        [
                          0.1111111111111111,
                          "#46039f"
                        ],
                        [
                          0.2222222222222222,
                          "#7201a8"
                        ],
                        [
                          0.3333333333333333,
                          "#9c179e"
                        ],
                        [
                          0.4444444444444444,
                          "#bd3786"
                        ],
                        [
                          0.5555555555555556,
                          "#d8576b"
                        ],
                        [
                          0.6666666666666666,
                          "#ed7953"
                        ],
                        [
                          0.7777777777777778,
                          "#fb9f3a"
                        ],
                        [
                          0.8888888888888888,
                          "#fdca26"
                        ],
                        [
                          1,
                          "#f0f921"
                        ]
                      ],
                      "diverging": [
                        [
                          0,
                          "#8e0152"
                        ],
                        [
                          0.1,
                          "#c51b7d"
                        ],
                        [
                          0.2,
                          "#de77ae"
                        ],
                        [
                          0.3,
                          "#f1b6da"
                        ],
                        [
                          0.4,
                          "#fde0ef"
                        ],
                        [
                          0.5,
                          "#f7f7f7"
                        ],
                        [
                          0.6,
                          "#e6f5d0"
                        ],
                        [
                          0.7,
                          "#b8e186"
                        ],
                        [
                          0.8,
                          "#7fbc41"
                        ],
                        [
                          0.9,
                          "#4d9221"
                        ],
                        [
                          1,
                          "#276419"
                        ]
                      ]
                    },
                    "xaxis": {
                      "gridcolor": "white",
                      "linecolor": "white",
                      "ticks": "",
                      "title": {
                        "standoff": 15
                      },
                      "zerolinecolor": "white",
                      "automargin": true,
                      "zerolinewidth": 2
                    },
                    "yaxis": {
                      "gridcolor": "white",
                      "linecolor": "white",
                      "ticks": "",
                      "title": {
                        "standoff": 15
                      },
                      "zerolinecolor": "white",
                      "automargin": true,
                      "zerolinewidth": 2
                    },
                    "scene": {
                      "xaxis": {
                        "backgroundcolor": "#E5ECF6",
                        "gridcolor": "white",
                        "linecolor": "white",
                        "showbackground": true,
                        "ticks": "",
                        "zerolinecolor": "white",
                        "gridwidth": 2
                      },
                      "yaxis": {
                        "backgroundcolor": "#E5ECF6",
                        "gridcolor": "white",
                        "linecolor": "white",
                        "showbackground": true,
                        "ticks": "",
                        "zerolinecolor": "white",
                        "gridwidth": 2
                      },
                      "zaxis": {
                        "backgroundcolor": "#E5ECF6",
                        "gridcolor": "white",
                        "linecolor": "white",
                        "showbackground": true,
                        "ticks": "",
                        "zerolinecolor": "white",
                        "gridwidth": 2
                      }
                    },
                    "shapedefaults": {
                      "line": {
                        "color": "#2a3f5f"
                      }
                    },
                    "annotationdefaults": {
                      "arrowcolor": "#2a3f5f",
                      "arrowhead": 0,
                      "arrowwidth": 1
                    },
                    "geo": {
                      "bgcolor": "white",
                      "landcolor": "#E5ECF6",
                      "subunitcolor": "white",
                      "showland": true,
                      "showlakes": true,
                      "lakecolor": "white"
                    },
                    "title": {
                      "x": 0.05
                    },
                    "mapbox": {
                      "style": "light"
                    }
                  }
                },
                "xaxis": {
                  "anchor": "y",
                  "domain": [
                    0,
                    1
                  ],
                  "title": {
                    "text": "brand"
                  },
                  "categoryorder": "array",
                  "categoryarray": [
                    "runail",
                    "grattol",
                    "kosmekka",
                    "elskin"
                  ]
                },
                "yaxis": {
                  "anchor": "x",
                  "domain": [
                    0,
                    1
                  ],
                  "title": {
                    "text": "price"
                  }
                },
                "legend": {
                  "title": {
                    "text": "brand"
                  },
                  "tracegroupgap": 0
                },
                "margin": {
                  "t": 60
                },
                "boxmode": "overlay",
                "width": 1000,
                "height": 500
              },
              "config": {
                "plotlyServerURL": "https://plot.ly"
              }
            },
            "text/html": [
              "<div>            <script src=\"https://cdnjs.cloudflare.com/ajax/libs/mathjax/2.7.5/MathJax.js?config=TeX-AMS-MML_SVG\"></script><script type=\"text/javascript\">if (window.MathJax && window.MathJax.Hub && window.MathJax.Hub.Config) {window.MathJax.Hub.Config({SVG: {font: \"STIX-Web\"}});}</script>                <script type=\"text/javascript\">window.PlotlyConfig = {MathJaxConfig: 'local'};</script>\n",
              "        <script charset=\"utf-8\" src=\"https://cdn.plot.ly/plotly-3.0.1.min.js\" integrity=\"sha256-oy6Be7Eh6eiQFs5M7oXuPxxm9qbJXEtTpfSI93dW16Q=\" crossorigin=\"anonymous\"></script>                <div id=\"61dc4744-e2ae-4996-892c-29f9f971496a\" class=\"plotly-graph-div\" style=\"height:500px; width:1000px;\"></div>            <script type=\"text/javascript\">                window.PLOTLYENV=window.PLOTLYENV || {};                                if (document.getElementById(\"61dc4744-e2ae-4996-892c-29f9f971496a\")) {                    Plotly.newPlot(                        \"61dc4744-e2ae-4996-892c-29f9f971496a\",                        [{\"alignmentgroup\":\"True\",\"hovertemplate\":\"brand=%{x}\\u003cbr\\u003eprice=%{y}\\u003cextra\\u003e\\u003c\\u002fextra\\u003e\",\"legendgroup\":\"runail\",\"marker\":{\"color\":\"rgb(228,26,28)\"},\"name\":\"runail\",\"notched\":false,\"offsetgroup\":\"runail\",\"orientation\":\"v\",\"showlegend\":true,\"x\":[\"runail\",\"runail\",\"runail\",\"runail\",\"runail\",\"runail\",\"runail\",\"runail\",\"runail\",\"runail\",\"runail\",\"runail\",\"runail\",\"runail\",\"runail\",\"runail\",\"runail\",\"runail\",\"runail\",\"runail\",\"runail\",\"runail\",\"runail\",\"runail\",\"runail\",\"runail\",\"runail\",\"runail\",\"runail\",\"runail\",\"runail\",\"runail\",\"runail\",\"runail\",\"runail\",\"runail\",\"runail\",\"runail\",\"runail\",\"runail\",\"runail\",\"runail\",\"runail\",\"runail\",\"runail\",\"runail\",\"runail\",\"runail\",\"runail\",\"runail\",\"runail\",\"runail\",\"runail\",\"runail\",\"runail\",\"runail\",\"runail\",\"runail\",\"runail\",\"runail\",\"runail\",\"runail\",\"runail\",\"runail\",\"runail\",\"runail\",\"runail\",\"runail\",\"runail\",\"runail\",\"runail\",\"runail\",\"runail\",\"runail\",\"runail\",\"runail\",\"runail\",\"runail\",\"runail\",\"runail\",\"runail\",\"runail\",\"runail\",\"runail\",\"runail\",\"runail\",\"runail\",\"runail\",\"runail\",\"runail\",\"runail\",\"runail\",\"runail\",\"runail\",\"runail\",\"runail\",\"runail\",\"runail\",\"runail\",\"runail\",\"runail\",\"runail\",\"runail\",\"runail\",\"runail\",\"runail\",\"runail\",\"runail\",\"runail\",\"runail\",\"runail\",\"runail\",\"runail\",\"runail\",\"runail\",\"runail\",\"runail\",\"runail\",\"runail\",\"runail\",\"runail\",\"runail\",\"runail\",\"runail\",\"runail\",\"runail\",\"runail\",\"runail\",\"runail\",\"runail\",\"runail\",\"runail\",\"runail\",\"runail\",\"runail\",\"runail\",\"runail\",\"runail\",\"runail\",\"runail\",\"runail\",\"runail\",\"runail\",\"runail\",\"runail\",\"runail\",\"runail\",\"runail\",\"runail\",\"runail\",\"runail\",\"runail\",\"runail\",\"runail\",\"runail\",\"runail\",\"runail\",\"runail\",\"runail\",\"runail\",\"runail\",\"runail\",\"runail\",\"runail\",\"runail\",\"runail\",\"runail\",\"runail\",\"runail\",\"runail\",\"runail\",\"runail\",\"runail\",\"runail\",\"runail\",\"runail\",\"runail\",\"runail\",\"runail\",\"runail\",\"runail\",\"runail\",\"runail\",\"runail\",\"runail\",\"runail\",\"runail\",\"runail\",\"runail\",\"runail\",\"runail\",\"runail\",\"runail\",\"runail\",\"runail\",\"runail\",\"runail\",\"runail\",\"runail\",\"runail\",\"runail\",\"runail\",\"runail\",\"runail\",\"runail\",\"runail\",\"runail\",\"runail\",\"runail\",\"runail\",\"runail\",\"runail\",\"runail\",\"runail\",\"runail\",\"runail\",\"runail\",\"runail\",\"runail\",\"runail\",\"runail\",\"runail\",\"runail\",\"runail\",\"runail\",\"runail\",\"runail\",\"runail\",\"runail\",\"runail\",\"runail\",\"runail\",\"runail\",\"runail\",\"runail\",\"runail\",\"runail\",\"runail\",\"runail\",\"runail\",\"runail\",\"runail\",\"runail\",\"runail\",\"runail\",\"runail\",\"runail\",\"runail\",\"runail\",\"runail\",\"runail\",\"runail\",\"runail\",\"runail\",\"runail\",\"runail\",\"runail\",\"runail\",\"runail\",\"runail\",\"runail\",\"runail\",\"runail\",\"runail\",\"runail\",\"runail\",\"runail\",\"runail\",\"runail\",\"runail\",\"runail\",\"runail\",\"runail\",\"runail\",\"runail\",\"runail\",\"runail\",\"runail\",\"runail\",\"runail\",\"runail\",\"runail\",\"runail\",\"runail\",\"runail\",\"runail\",\"runail\",\"runail\",\"runail\",\"runail\",\"runail\",\"runail\",\"runail\",\"runail\",\"runail\",\"runail\",\"runail\",\"runail\",\"runail\",\"runail\",\"runail\",\"runail\",\"runail\",\"runail\",\"runail\",\"runail\",\"runail\",\"runail\",\"runail\",\"runail\",\"runail\",\"runail\",\"runail\",\"runail\",\"runail\",\"runail\",\"runail\",\"runail\",\"runail\",\"runail\",\"runail\",\"runail\",\"runail\",\"runail\",\"runail\",\"runail\",\"runail\",\"runail\",\"runail\",\"runail\",\"runail\",\"runail\",\"runail\",\"runail\",\"runail\",\"runail\",\"runail\",\"runail\",\"runail\",\"runail\",\"runail\",\"runail\",\"runail\",\"runail\",\"runail\",\"runail\",\"runail\",\"runail\",\"runail\",\"runail\",\"runail\",\"runail\",\"runail\",\"runail\",\"runail\",\"runail\",\"runail\",\"runail\",\"runail\",\"runail\",\"runail\",\"runail\",\"runail\",\"runail\",\"runail\",\"runail\",\"runail\",\"runail\",\"runail\",\"runail\",\"runail\",\"runail\",\"runail\",\"runail\",\"runail\",\"runail\",\"runail\",\"runail\",\"runail\",\"runail\",\"runail\",\"runail\",\"runail\",\"runail\",\"runail\",\"runail\",\"runail\",\"runail\",\"runail\",\"runail\",\"runail\",\"runail\",\"runail\",\"runail\",\"runail\",\"runail\",\"runail\",\"runail\",\"runail\",\"runail\",\"runail\",\"runail\",\"runail\",\"runail\",\"runail\",\"runail\",\"runail\",\"runail\",\"runail\",\"runail\",\"runail\",\"runail\",\"runail\",\"runail\",\"runail\",\"runail\",\"runail\",\"runail\",\"runail\",\"runail\",\"runail\",\"runail\",\"runail\",\"runail\",\"runail\",\"runail\",\"runail\",\"runail\",\"runail\",\"runail\",\"runail\",\"runail\",\"runail\",\"runail\",\"runail\",\"runail\",\"runail\",\"runail\",\"runail\",\"runail\",\"runail\",\"runail\",\"runail\",\"runail\",\"runail\",\"runail\",\"runail\",\"runail\",\"runail\",\"runail\",\"runail\",\"runail\",\"runail\",\"runail\",\"runail\",\"runail\",\"runail\",\"runail\",\"runail\",\"runail\",\"runail\",\"runail\",\"runail\",\"runail\",\"runail\",\"runail\",\"runail\",\"runail\",\"runail\",\"runail\",\"runail\",\"runail\",\"runail\",\"runail\",\"runail\",\"runail\",\"runail\",\"runail\",\"runail\",\"runail\",\"runail\",\"runail\",\"runail\",\"runail\",\"runail\",\"runail\",\"runail\",\"runail\",\"runail\",\"runail\",\"runail\",\"runail\",\"runail\",\"runail\",\"runail\",\"runail\",\"runail\",\"runail\",\"runail\",\"runail\",\"runail\",\"runail\",\"runail\",\"runail\",\"runail\",\"runail\",\"runail\",\"runail\",\"runail\",\"runail\",\"runail\",\"runail\",\"runail\",\"runail\",\"runail\",\"runail\",\"runail\",\"runail\",\"runail\",\"runail\",\"runail\",\"runail\",\"runail\",\"runail\",\"runail\",\"runail\",\"runail\",\"runail\",\"runail\",\"runail\",\"runail\",\"runail\",\"runail\",\"runail\",\"runail\",\"runail\",\"runail\",\"runail\",\"runail\",\"runail\",\"runail\",\"runail\",\"runail\",\"runail\",\"runail\",\"runail\",\"runail\",\"runail\",\"runail\",\"runail\",\"runail\",\"runail\",\"runail\",\"runail\",\"runail\",\"runail\",\"runail\",\"runail\",\"runail\",\"runail\",\"runail\",\"runail\",\"runail\",\"runail\",\"runail\",\"runail\",\"runail\",\"runail\",\"runail\",\"runail\",\"runail\",\"runail\",\"runail\",\"runail\",\"runail\",\"runail\",\"runail\",\"runail\",\"runail\",\"runail\",\"runail\",\"runail\",\"runail\",\"runail\",\"runail\",\"runail\",\"runail\",\"runail\",\"runail\",\"runail\",\"runail\",\"runail\",\"runail\",\"runail\",\"runail\",\"runail\",\"runail\",\"runail\",\"runail\",\"runail\",\"runail\",\"runail\",\"runail\",\"runail\",\"runail\",\"runail\",\"runail\",\"runail\",\"runail\",\"runail\",\"runail\",\"runail\",\"runail\",\"runail\",\"runail\",\"runail\",\"runail\",\"runail\",\"runail\",\"runail\",\"runail\",\"runail\",\"runail\",\"runail\",\"runail\",\"runail\",\"runail\",\"runail\",\"runail\",\"runail\",\"runail\",\"runail\",\"runail\",\"runail\",\"runail\",\"runail\",\"runail\",\"runail\",\"runail\",\"runail\",\"runail\",\"runail\",\"runail\",\"runail\",\"runail\",\"runail\",\"runail\",\"runail\",\"runail\",\"runail\",\"runail\",\"runail\",\"runail\",\"runail\",\"runail\",\"runail\",\"runail\",\"runail\",\"runail\",\"runail\",\"runail\",\"runail\",\"runail\",\"runail\",\"runail\",\"runail\",\"runail\",\"runail\",\"runail\",\"runail\",\"runail\",\"runail\",\"runail\",\"runail\",\"runail\",\"runail\",\"runail\",\"runail\",\"runail\",\"runail\",\"runail\",\"runail\",\"runail\",\"runail\",\"runail\",\"runail\",\"runail\",\"runail\",\"runail\",\"runail\",\"runail\",\"runail\",\"runail\",\"runail\",\"runail\",\"runail\",\"runail\",\"runail\",\"runail\",\"runail\",\"runail\",\"runail\",\"runail\",\"runail\",\"runail\",\"runail\",\"runail\",\"runail\",\"runail\",\"runail\",\"runail\",\"runail\",\"runail\",\"runail\",\"runail\",\"runail\",\"runail\",\"runail\",\"runail\",\"runail\",\"runail\",\"runail\",\"runail\",\"runail\",\"runail\",\"runail\",\"runail\",\"runail\",\"runail\",\"runail\",\"runail\",\"runail\",\"runail\",\"runail\",\"runail\",\"runail\",\"runail\",\"runail\",\"runail\",\"runail\",\"runail\",\"runail\",\"runail\",\"runail\",\"runail\",\"runail\",\"runail\",\"runail\",\"runail\",\"runail\",\"runail\",\"runail\",\"runail\",\"runail\",\"runail\",\"runail\",\"runail\",\"runail\",\"runail\",\"runail\",\"runail\",\"runail\",\"runail\",\"runail\",\"runail\",\"runail\",\"runail\",\"runail\",\"runail\",\"runail\",\"runail\",\"runail\",\"runail\",\"runail\",\"runail\",\"runail\",\"runail\",\"runail\",\"runail\",\"runail\",\"runail\",\"runail\",\"runail\",\"runail\",\"runail\",\"runail\",\"runail\",\"runail\",\"runail\",\"runail\",\"runail\",\"runail\",\"runail\",\"runail\",\"runail\",\"runail\",\"runail\",\"runail\",\"runail\",\"runail\",\"runail\",\"runail\",\"runail\",\"runail\",\"runail\",\"runail\",\"runail\",\"runail\",\"runail\",\"runail\",\"runail\",\"runail\",\"runail\",\"runail\",\"runail\",\"runail\",\"runail\",\"runail\",\"runail\",\"runail\",\"runail\",\"runail\",\"runail\",\"runail\",\"runail\",\"runail\",\"runail\",\"runail\",\"runail\",\"runail\",\"runail\",\"runail\",\"runail\",\"runail\",\"runail\",\"runail\",\"runail\",\"runail\",\"runail\",\"runail\",\"runail\",\"runail\",\"runail\",\"runail\",\"runail\",\"runail\",\"runail\",\"runail\",\"runail\",\"runail\",\"runail\",\"runail\",\"runail\",\"runail\",\"runail\",\"runail\",\"runail\",\"runail\",\"runail\",\"runail\",\"runail\",\"runail\",\"runail\",\"runail\",\"runail\",\"runail\",\"runail\",\"runail\",\"runail\",\"runail\",\"runail\",\"runail\",\"runail\",\"runail\",\"runail\",\"runail\",\"runail\",\"runail\",\"runail\",\"runail\",\"runail\",\"runail\",\"runail\",\"runail\",\"runail\",\"runail\",\"runail\",\"runail\",\"runail\",\"runail\",\"runail\",\"runail\",\"runail\",\"runail\",\"runail\",\"runail\",\"runail\",\"runail\",\"runail\",\"runail\",\"runail\",\"runail\",\"runail\",\"runail\",\"runail\",\"runail\",\"runail\",\"runail\",\"runail\",\"runail\",\"runail\",\"runail\",\"runail\",\"runail\",\"runail\",\"runail\",\"runail\",\"runail\",\"runail\",\"runail\",\"runail\",\"runail\",\"runail\",\"runail\",\"runail\",\"runail\",\"runail\",\"runail\",\"runail\",\"runail\",\"runail\",\"runail\",\"runail\",\"runail\",\"runail\",\"runail\",\"runail\",\"runail\",\"runail\",\"runail\",\"runail\",\"runail\",\"runail\",\"runail\",\"runail\",\"runail\",\"runail\",\"runail\",\"runail\",\"runail\",\"runail\",\"runail\",\"runail\",\"runail\",\"runail\",\"runail\",\"runail\",\"runail\",\"runail\",\"runail\",\"runail\",\"runail\",\"runail\",\"runail\",\"runail\",\"runail\",\"runail\",\"runail\",\"runail\",\"runail\",\"runail\",\"runail\",\"runail\",\"runail\",\"runail\",\"runail\",\"runail\",\"runail\",\"runail\",\"runail\",\"runail\",\"runail\",\"runail\",\"runail\",\"runail\",\"runail\",\"runail\",\"runail\",\"runail\",\"runail\",\"runail\",\"runail\",\"runail\",\"runail\",\"runail\",\"runail\",\"runail\",\"runail\",\"runail\",\"runail\",\"runail\",\"runail\",\"runail\",\"runail\",\"runail\",\"runail\",\"runail\",\"runail\",\"runail\",\"runail\",\"runail\",\"runail\",\"runail\",\"runail\",\"runail\",\"runail\",\"runail\",\"runail\",\"runail\",\"runail\",\"runail\",\"runail\",\"runail\",\"runail\",\"runail\",\"runail\",\"runail\",\"runail\",\"runail\",\"runail\",\"runail\",\"runail\",\"runail\",\"runail\",\"runail\",\"runail\",\"runail\",\"runail\",\"runail\",\"runail\",\"runail\",\"runail\",\"runail\",\"runail\",\"runail\",\"runail\",\"runail\",\"runail\",\"runail\",\"runail\",\"runail\",\"runail\",\"runail\",\"runail\",\"runail\",\"runail\",\"runail\",\"runail\",\"runail\",\"runail\",\"runail\",\"runail\",\"runail\",\"runail\",\"runail\",\"runail\",\"runail\",\"runail\",\"runail\",\"runail\",\"runail\",\"runail\",\"runail\",\"runail\",\"runail\",\"runail\",\"runail\",\"runail\",\"runail\",\"runail\",\"runail\",\"runail\",\"runail\",\"runail\",\"runail\",\"runail\",\"runail\",\"runail\",\"runail\",\"runail\",\"runail\",\"runail\",\"runail\",\"runail\",\"runail\",\"runail\",\"runail\",\"runail\",\"runail\",\"runail\",\"runail\",\"runail\",\"runail\",\"runail\",\"runail\",\"runail\",\"runail\",\"runail\",\"runail\",\"runail\",\"runail\",\"runail\",\"runail\",\"runail\",\"runail\",\"runail\",\"runail\",\"runail\",\"runail\",\"runail\",\"runail\",\"runail\",\"runail\",\"runail\",\"runail\",\"runail\",\"runail\",\"runail\",\"runail\",\"runail\",\"runail\",\"runail\",\"runail\",\"runail\",\"runail\",\"runail\",\"runail\",\"runail\",\"runail\",\"runail\",\"runail\",\"runail\",\"runail\",\"runail\",\"runail\",\"runail\",\"runail\",\"runail\",\"runail\",\"runail\",\"runail\",\"runail\",\"runail\",\"runail\",\"runail\",\"runail\",\"runail\",\"runail\",\"runail\",\"runail\",\"runail\",\"runail\",\"runail\",\"runail\",\"runail\",\"runail\",\"runail\",\"runail\",\"runail\",\"runail\",\"runail\",\"runail\",\"runail\",\"runail\",\"runail\",\"runail\",\"runail\",\"runail\",\"runail\",\"runail\",\"runail\",\"runail\",\"runail\",\"runail\",\"runail\",\"runail\",\"runail\",\"runail\",\"runail\",\"runail\",\"runail\",\"runail\",\"runail\",\"runail\",\"runail\",\"runail\",\"runail\",\"runail\",\"runail\",\"runail\",\"runail\",\"runail\",\"runail\",\"runail\",\"runail\",\"runail\",\"runail\",\"runail\",\"runail\",\"runail\",\"runail\",\"runail\",\"runail\",\"runail\",\"runail\",\"runail\",\"runail\",\"runail\",\"runail\",\"runail\",\"runail\",\"runail\",\"runail\",\"runail\",\"runail\",\"runail\",\"runail\",\"runail\",\"runail\",\"runail\",\"runail\",\"runail\",\"runail\",\"runail\",\"runail\",\"runail\",\"runail\",\"runail\",\"runail\",\"runail\",\"runail\",\"runail\",\"runail\",\"runail\",\"runail\",\"runail\",\"runail\",\"runail\",\"runail\",\"runail\",\"runail\",\"runail\",\"runail\",\"runail\",\"runail\",\"runail\",\"runail\",\"runail\",\"runail\",\"runail\",\"runail\",\"runail\",\"runail\",\"runail\",\"runail\",\"runail\",\"runail\",\"runail\",\"runail\",\"runail\",\"runail\",\"runail\",\"runail\",\"runail\",\"runail\",\"runail\",\"runail\",\"runail\",\"runail\",\"runail\",\"runail\",\"runail\",\"runail\",\"runail\",\"runail\",\"runail\",\"runail\",\"runail\",\"runail\",\"runail\",\"runail\",\"runail\",\"runail\",\"runail\",\"runail\",\"runail\",\"runail\",\"runail\",\"runail\",\"runail\",\"runail\",\"runail\",\"runail\",\"runail\",\"runail\",\"runail\",\"runail\",\"runail\",\"runail\",\"runail\",\"runail\",\"runail\",\"runail\",\"runail\",\"runail\",\"runail\",\"runail\",\"runail\",\"runail\",\"runail\",\"runail\",\"runail\",\"runail\",\"runail\",\"runail\",\"runail\",\"runail\",\"runail\",\"runail\",\"runail\",\"runail\",\"runail\",\"runail\",\"runail\",\"runail\",\"runail\",\"runail\",\"runail\",\"runail\",\"runail\",\"runail\",\"runail\",\"runail\",\"runail\",\"runail\",\"runail\",\"runail\",\"runail\",\"runail\",\"runail\",\"runail\",\"runail\",\"runail\",\"runail\",\"runail\",\"runail\",\"runail\",\"runail\",\"runail\",\"runail\",\"runail\",\"runail\",\"runail\",\"runail\",\"runail\",\"runail\",\"runail\",\"runail\",\"runail\",\"runail\",\"runail\"],\"x0\":\" \",\"xaxis\":\"x\",\"y\":{\"dtype\":\"f8\",\"bdata\":\"ZmZmZmZm\\u002fj\\u002f2KFyPwnVBQArXo3A9qk9AhetRuB6FB0DD9Shcj8IRQMP1KFyPwhFAw\\u002fUoXI\\u002fCEUDsUbgehesLQMP1KFyPwhFAw\\u002fUoXI\\u002fCEUAK16NwPQoDQArXo3A9CgNACtejcD0KA0B7FK5H4XrwP4XrUbgeBTdA4XoUrkfhCECamZmZmZnZP2ZmZmZmZu4\\u002fPQrXo3A9FkAK16NwPQoDQPYoXI\\u002fC9QRA9ihcj8L1BED2KFyPwvUEQPYoXI\\u002fC9QRAuB6F61G45j+4HoXrUbgMQLgehetRuCNASOF6FK5HFUApXI\\u002fC9agnQMP1KFyPwgFAH4XrUbgeAUAzMzMzMzMQQPYoXI\\u002fCdTFA9ihcj8L1BED2KFyPwvUEQPYoXI\\u002fC9QRA9ihcj8L1BED2KFyPwvUEQPYoXI\\u002fC9QRAFK5H4XoUGUBSuB6F61EYQBSuR+F6FBlAzczMzMzMF0DNzMzMzMwXQBSuR+F6FBRAKVyPwvUo+D8AAAAAAAAKQKRwPQrXIyFAzczMzMzM7D9I4XoUrkfpP+F6FK5H4fY\\u002f4XoUrkfh9j\\u002fhehSuR+H2P2ZmZmZmZghAKVyPwvUo5D9mZmZmZmbuP3E9CtejcDhA7FG4HoXrFUCPwvUoXI8cQI\\u002fC9ShcjxxAUrgeheuRNUDXo3A9CtfrP9ejcD0K1+s\\u002fH4XrUbheM0A9CtejcH1MQFK4HoXrUdg\\u002fUrgehetREEBmZmZmZmbWP7gehetRuN4\\u002fmpmZmZmZ2T9mZmZmZmbuP4XrUbgehRBAzczMzMzMF0DNzMzMzMwXQFyPwvUoXAlA4XoUrkfhBkD2KFyPwvUEQEjhehSuRwNA9ihcj8L1BECuR+F6FG43QFyPwvUoXAlAUrgehetR2D\\u002fXo3A9CtdDQFyPwvUoXBNAw\\u002fUoXI\\u002fCD0CkcD0K16MkQFK4HoXrURtAH4XrUbgeD0D2KFyPwvUUQJqZmZmZmdk\\u002fmpmZmZmZ2T+amZmZmZnZP4XrUbgehQdAAAAAAAAAG0DNzMzMzMweQHsUrkfhegBAFK5H4XoUGUAK16NwPUo9QArXo3A9qkBA16NwPQrXQ0DXo3A9CtcSQDMzMzMzMxBAmpmZmZmZ9T8zMzMzMzMQQArXo3A9CipACtejcD0KKkBxPQrXo3A4QI\\u002fC9Shcj9I\\u002f9ihcj8L1BEA9CtejcD0GQFK4HoXrUdg\\u002fPQrXo3A9BkA9CtejcD0GQD0K16NwPQZAPQrXo3A9BkA9CtejcD0GQMP1KFyPwg9Aw\\u002fUoXI\\u002fCEUD2KFyPwvUEQPYoXI\\u002fC9QRA9ihcj8L1BED2KFyPwvUEQPYoXI\\u002fC9QRA9ihcj8L1BED2KFyPwvUEQPYoXI\\u002fC9QRAw\\u002fUoXI8SUEDD9Shcj8IPQFyPwvUoXAlAXI\\u002fC9ShcCUDD9Shcj8IPQArXo3A9ikFAXI\\u002fC9ShcCUDXo3A9CtfjP+F6FK5H4fY\\u002fZmZmZmamQkBmZmZmZqY3QIXrUbgehRRA4XoUrkfhBkDsUbgehev1P4XrUbgehRBAw\\u002fUoXI\\u002fCD0CamZmZmdlSQDMzMzMz8z5ASOF6FK4HRUCamZmZmZnZP1yPwvUoXBNAPQrXo3A9FkBSuB6F61EUQHE9CtejcBhACtejcD0KA0BxPQrXo3D5PwrXo3A9CgNACtejcD0KA0DNzMzMzMwXQJqZmZmZmfU\\u002frkfhehSu\\u002fz9mZmZmZmb+P8P1KFyPwgFArkfhehSu\\u002fz97FK5H4XrUP9ejcD0K1+s\\u002fw\\u002fUoXI\\u002fCEUBcj8L1KFwJQK5H4XoUrg1Aw\\u002fUoXI\\u002fCEUCamZmZmZkFQFK4HoXrUfQ\\u002fKVyPwvUo+D9SuB6F61EEQJqZmZmZmSRAPQrXo3A9DkDhehSuR+EGQOF6FK5H4QZA4XoUrkfhBkCuR+F6FK4FQK5H4XoUrtc\\u002fUrgehetR2D8K16NwPQrzP65H4XoUrv8\\u002fexSuR+HKWUC4HoXrUbjmPwrXo3A9CgNACtejcD0KA0D2KFyPwvUEQD0K16NwPQZAw\\u002fUoXI\\u002fCEUApXI\\u002fC9Sg+QIXrUbgehRBAhetRuB6FFECF61G4HoUQQMP1KFyPwhFAPQrXo3A9BkB7FK5H4XoMQI\\u002fC9ShcjxxA16NwPQrXFkDXo3A9CtcSQArXo3A9CgNAzczMzMzMCEBcj8L1KFwWQClcj8L1KPg\\u002fzczMzMwMQ0BxPQrXo3AYQJqZmZmZmdk\\u002fPQrXo3A9BkB7FK5H4XoAQClcj8L1KPg\\u002fpHA9CtejCkBSuB6F61HYP\\u002fYoXI\\u002fC9QRAj8L1KFyPHEBcj8L1KFwJQK5H4XoUrv8\\u002fw\\u002fUoXI\\u002fCEUA9CtejcD0GQFyPwvUoXAlAw\\u002fUoXI\\u002fCD0D2KFyPwvUEQMP1KFyPwg9A4XoUrkfh9j97FK5H4XrwP1K4HoXrUfQ\\u002fmpmZmZmZ2T\\u002f2KFyPwvUEQPYoXI\\u002fC9QRACtejcD0KA0BSuB6F61HYPylcj8L1KNw\\u002fZmZmZmZm\\u002fj\\u002fhehSuR+H2P4XrUbgehRRAw\\u002fUoXI\\u002fCEUCamZmZmZkFQJqZmZmZmdk\\u002f16NwPQrXEkBSuB6F61H0P\\u002fYoXI\\u002fC9QRA16NwPQrX8z8K16NwPQoDQI\\u002fC9ShczzdAmpmZmZmZ2T97FK5H4XoAQMP1KFyPwgFAj8L1KFyPHEAK16NwPQoDQArXo3A9CgNA9ihcj8L1BEBmZmZmZmbuP7gehetRuOY\\u002f4XoUrkfh9j8K16NwPQoDQClcj8L1KOQ\\u002fKVyPwvUo+D8pXI\\u002fC9SgIQLgehetRuBJACtejcD0KA0D2KFyPwvUEQOF6FK5H4QZAw\\u002fUoXI\\u002fCEUDD9Shcj8IRQM3MzMzMzAhAFK5H4XoUGUAUrkfhehQZQHsUrkfhetQ\\u002fXI\\u002fC9ShcE0CamZmZmZn1P3sUrkfheg5Aw\\u002fUoXI+iVEBcj8L1KFwJQMP1KFyP6mZAPQrXo3A9BkA9CtejcD0GQArXo3A9CgNAXI\\u002fC9ShcCUD2KFyPwvUEQOF6FK5H4fY\\u002fUrgehetR2D\\u002f2KFyPwvUEQArXo3A9CgNA7FG4HoXrC0BmZmZmZmb+P2ZmZmZmZv4\\u002fKVyPwvUo5D8K16NwPWpHQHsUrkfhetQ\\u002fZmZmZmZm\\u002fj97FK5H4XrUPwAAAAAAABtACtejcD2KJkApXI\\u002fC9Sj4P2ZmZmZmZv4\\u002fw\\u002fUoXI\\u002fCD0AAAAAAAAAKQGZmZmZmZv4\\u002frkfhehSu\\u002fz8K16NwPQrzP5qZmZmZmQVA9ihcj8L1JEDsUbgehWsvQClcj8L1KBFAXI\\u002fC9ShcCUCF61G4HoUtQGZmZmZmZhJAPQrXo3A9BkD2KFyPwvUEQB+F61G4Hg9A9ihcj8L1BEA9CtejcD0GQD0K16NwPQZAXI\\u002fC9ShcCUDD9Shcj8LFPxSuR+F6FE5A9ihcj8J1IUCF61G4HoUQQNejcD0K1zNAAAAAAAAgSEBcj8L1KARnQOxRuB6Fay9A7FG4HoVrL0BI4XoUrkfpP2ZmZmZmZv4\\u002fZmZmZmZm\\u002fj9mZmZmZmb+P\\u002fYoXI\\u002fCdUFAZmZmZmamQkBcj8L1KFwJQFyPwvUo3DFA9ihcj8L1BEBcj8L1KFwJQOF6FK5H4QZAXI\\u002fC9ShcCUDNzMzMzMwCQI\\u002fC9ShcjxxAZmZmZmZmAkCkcD0K16MGQD0K16NwvSBAuB6F61G4DECamZmZmZnZP+F6FK5H4fY\\u002fw\\u002fUoXI\\u002fCD0CF61G4HoX\\u002fP1yPwvUoXAlAj8L1KFyPHEBmZmZmZmbuP+F6FK5H4fY\\u002fwfUoXI\\u002fCD0D2KFyPwvUEQHsUrkfhevA\\u002fhetRuB6FFEB7FK5H4XoOQAAAAAAAABRApHA9CtejBkBcj8L1KFwTQPYoXI\\u002fC9QRAUrgehetR9D+amZmZmZnZP8P1KFyPwg9AexSuR+F61D+uR+F6FK7\\u002fP\\u002fYoXI\\u002fC9QRAUrgehetR2D\\u002fD9Shcj8IBQJqZmZmZmdk\\u002fuB6F61G45j89CtejcD0GQFyPwvUoXAlA9ihcj8L1BEBcj8L1KFwJQPYoXI\\u002fC9QRA9ihcj8L1BED2KFyPwvUEQPYoXI\\u002fC9QRAmpmZmZmZBUBSuB6F69EgQMP1KFyPwhFAXI\\u002fC9SjcIkBSuB6F61E7QHsUrkfhegBArkfhehSuA0D2KFyPwvUEQK5H4XoUrtc\\u002fpHA9CtejAkCamZmZmZkFQOF6FK5H4Q5AMzMzMzMzIEDD9Shcj8IRQD0K16NwPQZAH4XrUbgeD0AK16NwPQoDQFyPwvUoXAlAXI\\u002fC9ShcCUD2KFyPwvUEQDMzMzMzMyBAUrgehetRFEDD9Shcj8LxP0jhehSuR+k\\u002fUrgehetR2D\\u002fXo3A9CtcrQLgehetRuCNAXI\\u002fC9ShcCUD2KFyPwvUUQHsUrkfhegBAZmZmZmZm\\u002fj+PwvUoXI\\u002fqP+F6FK5H4SJASOF6FK5H9T89CtejcD0GQMP1KFyPwgFAw\\u002fUoXI\\u002fCEUBSuB6F61H0PwAAAAAAAApAAAAAAAAACkDD9Shcj8LxP8P1KFyPwvE\\u002fZmZmZmZm7j9SuB6F61EEQIXrUbgehRBAXI\\u002fC9ShcCUD2KFyPwvUEQLgehetROEZA9ihcj8L1BEBSuB6F61HYPwrXo3A9CgNACtejcD0KA0A9CtejcD0GQOF6FK5H4fY\\u002fH4XrUbgeAUBSuB6F61EUQB+F61G4Xj1AUrgehetR2D9SuB6F61HYP8P1KFyPwhFA9ihcj8L1BECuR+F6FG5FQPYoXI\\u002fC9QRA9ihcj8L1FEBSuB6F61HYP+F6FK5H4fY\\u002fUrgehetR2D9I4XoUrkfpP+F6FK5H4QZAw\\u002fUoXI\\u002fCEUBSuB6F61HYPwrXo3A9CgNACtejcD0KA0AK16NwPQoDQArXo3A9CgNAexSuR+F61D+uR+F6FK4DQNejcD0K1xBAUrgehetR9D\\u002fNzMzMzMwIQJqZmZmZmdk\\u002fXI\\u002fC9ShcCUBSuB6F61HYPylcj8L1KOQ\\u002frkfhehSu\\u002fz9cj8L1KFwJQIXrUbgehRRArkfhehSu1z9SuB6F61HYP65H4XoUrtc\\u002fSOF6FK5H6T+PwvUoXI\\u002fqP4\\u002fC9Shcj+o\\u002f9ihcj8J1QUD2KFyPwvUEQPYoXI\\u002fC9QRA9ihcj8L1BED2KFyPwvUEQAAAAAAAAAhArkfhehSuGkDD9Shcj8IPQMP1KFyPwg9Aw\\u002fUoXI\\u002fCD0D2KFyPwvUEQAAAAAAAAAhAw\\u002fUoXI\\u002fCEUDD9Shcj8IPQPYoXI\\u002fC9QRAPQrXo3A9BkCuR+F6FK7XP1K4HoXrUdg\\u002frkfhehSu1z9cj8L1KFwJQHE9CtejcPk\\u002fH4XrUbgeAUAK16NwPQoDQK5H4XoUrv8\\u002frkfhehSu\\u002fz+PwvUoXI8MQNejcD0K1+s\\u002fXI\\u002fC9ShcCUCuR+F6FK7\\u002fP3sUrkfheg5AFK5H4XoUGUCuR+F6FK4TQFK4HoXrUfQ\\u002fw\\u002fUoXI\\u002fCAUBcj8L1KFwJQLgehetRuPo\\u002fFK5H4XoUGUBmZmZmZmb+P+xRuB6F6wtA7FG4HoXrC0DD9Shcj8IPQD0K16NwPQZAw\\u002fUoXI\\u002fCD0AK16NwPQoDQPYoXI\\u002fC9QRA9ihcj8L1BED2KFyPwvUEQPYoXI\\u002fC9QRA9ihcj8L1BEDD9Shcj8IPQFyPwvUoXAlAXI\\u002fC9ShcCUBcj8L1KFwJQPYoXI\\u002fC9QRA9ihcj8L1BED2KFyPwvUEQD0K16NwPQZAPQrXo3A9BkA9CtejcD0GQD0K16NwPQZAPQrXo3A9BkBcj8L1KFwJQFyPwvUoXAlAXI\\u002fC9ShcCUAAAAAAAEAyQBSuR+F6FBlAMzMzMzMzEEA9CtejcD0GQArXo3A9CgNACtejcD0KA0DhehSuR2FLQFK4HoXrUdg\\u002frkfhehSu1z9mZmZmZmb+P+xRuB6F6wtAZmZmZmZm7j+amZmZmZnZP1K4HoXrUdg\\u002fj8L1KFyPHECkcD0K16MkQMP1KFyPwgFAAAAAAAAAE0DhehSuR+EGQLgehetRuBJAZmZmZmZmEkDhehSuR+H2P\\u002fYoXI\\u002fC9QRACtejcD0KA0AK16NwPQoDQD0K16NwPQZAPQrXo3A9BkDD9Shcj8IRQPYoXI\\u002fC9QRAw\\u002fUoXI\\u002fCD0DXo3A9CtcSQClcj8L1KOQ\\u002fuB6F61G43j89CtejcD0GQClcj8L1KPg\\u002fXI\\u002fC9Shc9z9SuB6F61H0P+F6FK5H4QZA9ihcj8L1BEBSuB6F61HYPwrXo3A9CgNA16NwPQrXEkCuR+F6FK4TQFyPwvUoXAlAmpmZmZmZ2T9I4XoUrkfpP83MzMzMzAhAuB6F61G4+j9xPQrXo3AYQHE9CtejcBhA9ihcj8L1BEApXI\\u002fC9Sj4P2ZmZmZmZv4\\u002fuB6F61EIVUD2KFyPwvUEQFyPwvUoXAlAzczMzMzMF0D2KFyPwvUEQArXo3A9CipAmpmZmZkZIkDhehSuR+EGQPYoXI\\u002fC9SdA9ihcj8L1J0D2KFyPwvUnQArXo3A9CgNACtejcD0KA0A9CtejcD0GQEjhehSuR+k\\u002fAAAAAAAACkAAAAAAAAAKQIXrUbgehRBAw\\u002fUoXI\\u002fCEUAK16NwPQrzP6RwPQrXIyFAKVyPwvUo5D\\u002f2KFyPwvUEQArXo3A9CgNA9ihcj8L1BED2KFyPwvUEQK5H4XoUrhpAXI\\u002fC9ShcCUBxPQrXo3D5P5qZmZmZmdk\\u002fw\\u002fUoXI\\u002fCD0DD9Shcj8IPQOxRuB6F6wtAUrgehetR2D\\u002fXo3A9CtfrP65H4XoUrgNApHA9CtfjQkAK16NwPQoDQFyPwvUoXAlA9ihcj8L1BEAoXI\\u002fC9Sg+QArXo3A9CgNAexSuR+F6DkDD9Shcj8IRQI\\u002fC9ShcjwxASOF6FK5HCUCamZmZmZn1PwrXo3A9CgNA9ihcj8L1BEBSuB6F61HYP\\u002fYoXI\\u002fC9QRAAAAAAAAA\\u002fD9cj8L1KFwJQFyPwvUoXAlAXI\\u002fC9ShcCUB7FK5H4XoOQMP1KFyPwvE\\u002fKVyPwvUo+D9xPQrXo3D5P3E9CtejcPk\\u002f7FG4HoXrC0AfhetRuB4PQIXrUbgehfM\\u002f9ihcj8L1BED2KFyPwvUEQFyPwvUoXAlAhetRuB6FEECuR+F6FK7\\u002fPwrXo3A9CvM\\u002fUrgehetR2D\\u002fXo3A9CjdHQHE9CtejcB9AZmZmZmZmAkB7FK5H4XoOQI\\u002fC9ShcjxxAmpmZmZmZ2T9I4XoUrudAQNejcD0K1wNAw\\u002fUoXI\\u002fC8T8pXI\\u002fC9Sj4PxSuR+F6FBlAUrgehetR2D\\u002f2KFyPwvUEQAAAAAAAAAhAPQrXo3C9IED2KFyPwvUEQK5H4XoUrv8\\u002frkfhehSu\\u002fz+uR+F6FK7\\u002fP2ZmZmZmZv4\\u002f4XoUrkfh9j\\u002f2KFyPwvUEQPYoXI\\u002fC9QRAXI\\u002fC9ShcCUC4HoXrUbgjQLgehetRuOY\\u002f4XoUrkfhBkCamZmZmZn1P5qZmZmZGSJA4XoUrkfhBkD2KFyPwvUEQPYoXI\\u002fC9QRApHA9CtcjPkD2KFyPwvUEQB+F61G4Hvk\\u002f4XoUrkfhBkDD9Shcj8IRQArXo3A9CgNAw\\u002fUoXI\\u002fCEUBcj8L1KFwJQPYoXI\\u002fC9QRAPQrXo3A9BkDD9Shcj8IPQNejcD0K1x1AAAAAAAAA\\u002fD\\u002f2KFyPwvUEQLgehetRuN4\\u002fuB6F61G43j8AAAAAAAAIQOF6FK5H4fY\\u002f9ihcj8L1BED2KFyPwvUEQOF6FK5HQUJAzczMzMzMAECamZmZmZnZP8P1KFyPwhFAw\\u002fUoXI\\u002fCEUBcj8L1KFwJQPYoXI\\u002fC9QRA9ihcj8L1BEBxPQrXo3D5P83MzMzMzB5AAAAAAAAACECF61G4HoUQQPYoXI\\u002fC9RVAZmZmZmZm\\u002fj9SuB6F61HYPwAAAAAAAApASOF6FK5H6T\\u002f2KFyPwvUEQFyPwvUoXAlACtejcD0KA0AK16NwPQoDQLgehetRuK4\\u002fcT0K16Nw+T9xPQrXo3D5P\\u002fYoXI\\u002fC9QRA9ihcj8L1BED2KFyPwvUEQArXo3A9CiNAAAAAAAAACkB7FK5H4XoAQArXo3A9CgNAzczMzMzMAkBSuB6F61EGQPYoXI\\u002fC9QRA9ihcj8L1BED2KFyPwvUEQFyPwvUoXAlAXI\\u002fC9ShcCUA9CtejcD3yP8P1KFyPwg9A9ihcj8L1BEBcj8L1KFz7P\\u002fYoXI\\u002fC9QRAZmZmZmZmCkD2KFyPwvUEQAAAAAAAAAhA9ihcj8L1BEDD9Shcj8IBQD0K16NwPQZAAAAAAAAA+H8AAAAAAAD4fwAAAAAAAPh\\u002f9ihcj8L1BEAK16NwPQoqQEjhehSuR+k\\u002f9ihcj8L1BEBSuB6F61EbQK5H4XoUrv8\\u002fw\\u002fUoXI\\u002fCAUD2KFyPwvUEQPgoXI\\u002fCdUFAuB6F61G45j\\u002fhehSuR+H2P8P1KFyPwvE\\u002fUrgehetR2D9cj8L1KFwJQOxRuB6F6wtA7FG4HoXrC0BmZmZmZmb+P1yPwvUoXAlA7FG4HoXbUUAK16NwPQoDQPYoXI\\u002fC9QRA9ihcj8L1BEC4HoXrUbj+PwrXo3A9CgNAzczMzMzMF0DhehSuR+EGQK5H4XoUrgNA9ihcj8L1BED2KFyPwvUEQGZmZmZmZv4\\u002fUrgehetR2D\\u002f2KFyPwvUEQPYoXI\\u002fC9QRACtejcD0KA0AK16NwPQoDQNejcD0K1+s\\u002fAAAAAAAAEUD2KFyPwvUEQPYoXI\\u002fC9QRAXI\\u002fC9ShcCUBcj8L1KFwJQFyPwvUoXAlASOF6FK5H6T9cj8L1KFwJQPYoXI\\u002fCdSFA9ihcj8J1IUD2KFyPwvUEQPYoXI\\u002fC9QRA9ihcj8L1BED2KFyPwvUEQArXo3A9CgNAXI\\u002fC9ShcCUCamZmZmZnZP\\u002fYoXI\\u002fCdSFAj8L1KFyPDEDD9Shcj8IPQFyPwvUoXAlA9ihcj8L1BED2KFyPwvUEQOF6FK5H4QZAexSuR+F68D\\u002f2KFyPwvUEQIXrUbgehRBAUrgehetR2D\\u002fXo3A9CtfrP3E9CtejcPk\\u002f4noUrkfh9j8UrkfheqRjQArXo3A9CgNACtejcD0KA0D2KFyPwvUEQFyPwvUoXAlAXI\\u002fC9ShcCUBmZmZmZmb+P\\u002fYoXI\\u002fC9QRACdejcD2qQEB7FK5H4XoeQFyPwvUoXAlAUrgehetR2D\\u002f2KFyPwvUEQMP1KFyPwg9AXI\\u002fC9ShcCUBmZmZmZmb+PzMzMzMzMxBAhetRuB4lQUBmZmZmZmb+P\\u002fYoXI\\u002fC9QRAmpmZmZmZ2T9SuB6F61HYPwAAAAAAAAhAAAAAAAAACEAAAAAAAAAIQFK4HoXrUdg\\u002fUrgehetR2D9cj8L1KFwJQB+F61G4HgFAPQrXo3A9BkCamZmZmZnZP4XrUbgehRRA16NwPQrX6z8AAAAAAAAKQFK4HoXrUfQ\\u002fCtejcD0KA0Bcj8L1KFwJQClcj8L1KPg\\u002f9ihcj8L1BED2KFyPwvUEQPYoXI\\u002fC9QRAzczMzMzMHkD2KFyPwvUEQPYoXI\\u002fC9QRAw\\u002fUoXI\\u002fCEUD2KFyPwvUEQI\\u002fC9ShcjxxACtejcD0KA0D2KFyPwvUEQPYoXI\\u002fC9QRA4XoUrkfh9j9mZmZmZmb+P9ejcD0KN1dAmpmZmZmZ2T\\u002fhehSuR+H2P7gehetRuPo\\u002fXI\\u002fC9ShcCUAUrkfhehQSQGZmZmZmZu4\\u002fH4XrUbgeAUDsUbgehesLQPYoXI\\u002fC9QRAKVyPwvUo5D97FK5H4XoeQIXrUbgehRBA9ihcj8L1BED2KFyPwvUEQLgehetRuAZAXI\\u002fC9ShcCUDNzMzMzMweQGZmZmZmZhJA9ihcj8L1BED2KFyPwvUEQFyPwvUoXAlASOF6FK5H6T+uR+F6FK7\\u002fPwrXo3A9CgNA9ihcj8L1BED2KFyPwvUEQPYoXI\\u002fC9QRACtejcD0KA0DhehSuR+H2P\\u002fYoXI\\u002fC9QRAAAAAAAAACEAK16NwPQoDQFyPwvUoXAlAw\\u002fUoXI\\u002fCD0C4HoXrUbj6PwrXo3A9CgNAXI\\u002fC9ShcCUAzMzMzMzMNQMP1KFyPwgFAcT0K16NwC0D2KFyPwvUEQPYoXI\\u002fC9QRA9ihcj8L1BED2KFyPwvUEQPYoXI\\u002fC9QRA9ihcj8L1BEBcj8L1KFwJQFyPwvUoXAlAXI\\u002fC9ShcCUBcj8L1KFwJQFK4HoXrUdg\\u002fZmZmZmZm\\u002fj9xPQrXo3D5P\\u002fYoXI\\u002fC9QRAuB6F61G45j9xPQrXo3D5P9ejcD0K1+s\\u002fZmZmZmZm\\u002fj\\u002f2KFyPwvUEQPYoXI\\u002fC9QRAUrgehetR2D\\u002f2KFyPwvUEQPYoXI\\u002fC9QRAXI\\u002fC9ShcBUCamZmZmZnZP8P1KFyPwgFAXI\\u002fC9ShcCUBcj8L1KFwJQHE9CtejcAtAXI\\u002fC9ShcCUBmZmZmZmbWP3E9CtejcPk\\u002fzczMzMzMF0AK16NwPQoDQPYoXI\\u002fC9QRAuB6F61G45j89CtejcD0WQJqZmZmZmShAKVyPwvUo5D8K16NwPQoDQFK4HoXrUdg\\u002fhetRuB6F\\u002fz9I4XoUrkfpPwrXo3A9CgNAXI\\u002fC9ShcCUBI4XoUrkfpP\\u002fYoXI\\u002fC9QRA9ihcj8L1BED2KFyPwvUEQBSuR+F6FPY\\u002fZmZmZmZm\\u002fj9mZmZmZmYCQK5H4XoUrtc\\u002fuB6F61G43j9SuB6F61EUQFK4HoXrUdg\\u002fw\\u002fUoXI\\u002fCAUDD9Shcj8IRQPYoXI\\u002fC9QRA9ihcj8L1BED2KFyPwvUEQPYoXI\\u002fC9QRA9ihcj8L1BED2KFyPwvUEQFK4HoXrUdg\\u002f9ihcj8L1BED2KFyPwvUEQPYoXI\\u002fC9QRA9ihcj8L1BEBcj8L1KFwJQFyPwvUoXAlA9ihcj8L1BEA9CtejcD0GQOxRuB6F6wNA9ihcj8L1BECuR+F6FK7\\u002fP65H4XoUrv8\\u002frkfhehSu\\u002fz\\u002f2KFyPwvUEQLgehetRuOY\\u002f9ihcj8L1BEBcj8L1KFwJQPYoXI\\u002fCdSFAj8L1KFyP6j\\u002f2KFyPwvUEQPYoXI\\u002fC9QRA9ihcj8L1BEAAAAAAAAAKQOF6FK5H4fY\\u002fuB6F61E4NkAK16NwPQojQFK4HoXrUdg\\u002fUrgehetR2D9mZmZmZmb+P\\u002fYoXI\\u002fC9QRAzczMzMzMHkAK16NwPQoqQFyPwvUoXAlAXI\\u002fC9ShcCUD2KFyPwvUEQD0K16NwPQZAZmZmZmZmCEDD9Shcj8IRQFyPwvUoXAlAMzMzMzMzD0AK16NwPQoDQPYoXI\\u002fC9QRA9ihcj8L1BED2KFyPwvUEQPYoXI\\u002fC9QRA9ihcj8J1IUD2KFyPwvUEQArXo3A9CgNAXI\\u002fC9ShcCUBcj8L1KFwJQFyPwvUoXAlA9ihcj8L1BED2KFyPwvUEQFyPwvUoXAlA9ihcj8L1BED2KFyPwvUEQFK4HoXrUdg\\u002fSOF6FK5H6T8AAAAAAADwP1K4HoXrUfA\\u002fmpmZmZmZ2T\\u002f2KFyPwvUEQNejcD0Kt0lACtejcD0KA0D2KFyPwvUEQPYoXI\\u002fC9QRACtejcD0KA0D2KFyPwvUEQHE9CtejcBhAmpmZmZmZ2T9cj8L1KFwJQLgehetRuCNA9ihcj8J1IUD2KFyPwvUEQAAAAAAAAAhA9ihcj8L1BED2KFyPwvUEQFK4HoXrUdg\\u002fcT0K16Nw+T9xPQrXo3D5PwrXo3A9CgNACtejcD0KA0B7FK5H4XoXQMP1KFyPwgFA4XoUrkfh9j9xPQrXo3ADQMP1KFyPwgFACtejcD0KA0D2KFyPwvUEQPYoXI\\u002fC9QRA9ihcj8L1BED2KFyPwvUEQFyPwvUoXAlAuB6F61G45j\\u002f2KFyPwvUEQOxRuB6F6xtArkfhehSu\\u002fz+uR+F6FK7XP\\u002fYoXI\\u002fC9QRAXI\\u002fC9ShcCUCamZmZmZkVQBSuR+F6FPY\\u002fUrgehetR2D89CtejcD0GQPYoXI\\u002fC9QRAPQrXo3A9BkCuR+F6FK7\\u002fPwrXo3A9CgNA9ihcj8L1BEB7FK5H4XoeQD0K16NwPQZAPQrXo3A9BkBSuB6F61H0P+xRuB6F6wtAAAAAAAAA\\u002fD\\u002f2KFyPwvUEQClcj8L1KE5A7FG4HoXrG0AUrkfhehQUQAAAAAAAAApAcT0K16Nw+T8K16NwPQoDQFyPwvUoXAlA9ihcj8L1BED2KFyPwvUEQPYoXI\\u002fC9QRA9ihcj8L1BED2KFyPwvUEQFyPwvUoXAlAJ1yPwvUoCED2KFyPwvUEQPYoXI\\u002fC9QRAXI\\u002fC9ShcCUCF61G4HoX\\u002fP8L1KFyPwg9AXI\\u002fC9ShcCUBcj8L1KFwJQFyPwvUoXAlA9ihcj8L1BEB7FK5H4XoOQArXo3A9CgNACtejcD0KE0DD9Shcj8IBQClcj8L1KOQ\\u002fuB6F61G4EkBSuB6F61HYP\\u002fYoXI\\u002fC9QRA4XoUrkfhBkAAAAAAAAAKQLgehetRuOY\\u002fXI\\u002fC9ShcCUAK16NwPQoDQIXrUbgehRBAmpmZmZmZ2T\\u002f2KFyPwvUEQFyPwvUoXAlAUrgehetR2D9SuB6F69EgQPYoXI\\u002fC9QRAXI\\u002fC9ShcCUD2KFyPwnUhQK5H4XoUrv8\\u002f9ihcj8L1BEC4HoXrUTg2QNejcD0K1+s\\u002f9ihcj8L1BEBcj8L1KNw1QArXo3A9CgNA9ihcj8L1BED2KFyPwvUEQFyPwvUoXAlAwvUoXI\\u002fCEUBSuB6F61H0PwrXo3A9CgNAmpmZmZmZG0DsUbgehevhP1yPwvUoXAlA7FG4HoXLRkBSuB6F61HYPwrXo3A9CgNA9ihcj8L1BEDXo3A9CtcDQHsUrkfhetQ\\u002fCtejcD0KA0DhehSuR+EAQMP1KFyPwhFAmpmZmZkZIkCamZmZmZnZP3E9CtejcAtA9ihcj8L1BEAAAAAAAAAIQJqZmZmZmdk\\u002f9ihcj8L1BED2KFyPwvUEQOF6FK5H4fY\\u002fH4XrUbgeAUD2KFyPwvUEQIXrUbgehf8\\u002f9ihcj8L1BED2KFyPwvUEQFyPwvUoXAlA9ihcj8L1BEA9CtejcD0GQArXo3A9CgNAexSuR+H6KkD2KFyPwvUEQPYoXI\\u002fC9QRAH4XrUbge1T9SuB6F61HYP1yPwvUoXAlAXY\\u002fC9ShcCUBZj8L1KFwJQF2PwvUoXAlAXY\\u002fC9ShcCUBaj8L1KFwJQF2PwvUoXAlAWY\\u002fC9ShcCUBej8L1KFwJQFmPwvUoXAlAwvUoXI\\u002fCEUDC9Shcj8IRQML1KFyPwhFAwvUoXI\\u002fCEUDC9Shcj8IRQMb1KFyPwhFAwvUoXI\\u002fCEUDiehSuR+H2P+J6FK5H4fY\\u002fUrgehetR4D+amZmZmZkWQArXo3A9CgNAj8L1KFyP6j+F61G4HoX\\u002fP1K4HoXrUfQ\\u002f7FG4HoXr4T\\u002f2KFyPwvUEQPYoXI\\u002fC9QRAUrgehetR2D\\u002fhehSuR+H2P1yPwvUoXPM\\u002f9ihcj8L1BEDD9Shcj8IRQFK4HoXrUdg\\u002fexSuR+F6DECF61G4HoUQQFK4HoXrUdg\\u002fZmZmZmZm7j\\u002fD9Shcj8IRQI\\u002fC9ShcjwRArkfhehSu\\u002fz\\u002fXo3A9CtcHQJqZmZmZmdk\\u002fPQrXo3A94j+F61G4HoX\\u002fP8P1KFyPwgFA4XoUrkfhBkDhehSuR+EGQPYoXI\\u002fCdSFA9ihcj8L1BED2KFyPwvUEQD0K16NwPQZAXI\\u002fC9ShcB0DNzMzMzMxHQPYoXI\\u002fC9QRA9ihcj8L1BEApXI\\u002fC9SgRQPYoXI\\u002fC9QRAuB6F61G45j9I4XoUrkcRQFK4HoXrUdg\\u002fXI\\u002fC9ShcCUBcj8L1KFwJQFK4HoXrUdg\\u002fmpmZmZmZ2T+PwvUoXI8MQPYoXI\\u002fC9QRA16NwPQrX6z89CtejcD0GQB+F61G4HgFACtejcD0KA0D2KFyPwvUEQHE9CtejcOU\\u002fPQrXo3A9BkD2KFyPwvUEQArXo3A9ChdA9ihcj8L1BEAK16NwPQojQPYoXI\\u002fC9QRAw\\u002fUoXI\\u002fCAUB7FK5H4XoMQFK4HoXrUdg\\u002f9ihcj8L1BEAAAAAAAADQPylcj8L1KOQ\\u002fexSuR+F6DEDhehSuR+H2P8P1KFyPwg9A16NwPQrX8z9cj8L1KFwPQHsUrkfhetQ\\u002fw\\u002fUoXI\\u002fCKECamZmZmZnZPwAAAAAAAABAXI\\u002fC9ShcCUBcj8L1KFwJQFyPwvUoXAlA7FG4HoXrG0DsUbgehesDQM3MzMzMzAJAw\\u002fUoXI\\u002fCAUAUrkfhehQVQAAAAAAAANA\\u002f4XoUrkfh9j\\u002f2KFyPwvUEQJqZmZmZmQVA9ihcj8L1BED2KFyPwvUEQPYoXI\\u002fC9QRAexSuR+F61D\\u002f2KFyPwvUEQPYoXI\\u002fC9QRAXI\\u002fC9ShcCUD2KFyPwvUEQPYoXI\\u002fC9QRA9ihcj8L1BEDNzMzMzMwAQPYoXI\\u002fC9QRAXI\\u002fC9ShcCUD2KFyPwvUEQPYoXI\\u002fC9QRAZmZmZmZm+j\\u002fD9Shcj8LlP3sUrkfhetQ\\u002fexSuR+F61D\\u002f2KFyPwvUEQK5H4XoUrhNACtejcD0KA0D2KFyPwvUEQGZmZmZmZvo\\u002fw\\u002fUoXI\\u002fCEUCuR+F6FK7\\u002fP\\u002fYoXI\\u002fC9QRAKVyPwvUo5D9mZmZmZmbuP1K4HoXrUQRAw\\u002fUoXI\\u002fCD0Bcj8L1KFwJQGZmZmZmZv4\\u002f9ihcj8L1BED2KFyPwvUEQMP1KFyPwg9Aw\\u002fUoXI\\u002fCD0DXo3A9CtcDQFyPwvUoXAlAXI\\u002fC9ShcCUAUrkfhepQsQK5H4XoUrvc\\u002fXI\\u002fC9ShcCUDhehSuR+EGQJqZmZmZmfU\\u002fPQrXo3A9EEBcj8L1KFwJQNejcD0K1xZAXI\\u002fC9ShcCUDD9Shcj8IPQJqZmZmZmQdA4XoUrkfhBkCamZmZmZnZPx+F61G4HglAAAAAAAAACECamZmZmflLQOxRuB6F6xpASOF6FK5H6T8K16NwPQoDQB+F61G4HgFAw\\u002fUoXI\\u002fCEUDD9Shcj8IPQM3MzMzMzAJAXI\\u002fC9Sj8QkDNzMzMzMwAQOxRuB6Fay9A16NwPQrX6z+F61G4HmVJQOxRuB6Fay9ASOF6FK5H6T8AAAAAAAAIQHsUrkfhetQ\\u002fw\\u002fUoXI\\u002fCH0D2KFyPwvUnQMP1KFyPwgFA\"},\"y0\":\" \",\"yaxis\":\"y\",\"type\":\"box\"},{\"alignmentgroup\":\"True\",\"hovertemplate\":\"brand=%{x}\\u003cbr\\u003eprice=%{y}\\u003cextra\\u003e\\u003c\\u002fextra\\u003e\",\"legendgroup\":\"grattol\",\"marker\":{\"color\":\"rgb(55,126,184)\"},\"name\":\"grattol\",\"notched\":false,\"offsetgroup\":\"grattol\",\"orientation\":\"v\",\"showlegend\":true,\"x\":[\"grattol\",\"grattol\",\"grattol\",\"grattol\",\"grattol\",\"grattol\",\"grattol\",\"grattol\",\"grattol\",\"grattol\",\"grattol\",\"grattol\",\"grattol\",\"grattol\",\"grattol\",\"grattol\",\"grattol\",\"grattol\",\"grattol\",\"grattol\",\"grattol\",\"grattol\",\"grattol\",\"grattol\",\"grattol\",\"grattol\",\"grattol\",\"grattol\",\"grattol\",\"grattol\",\"grattol\",\"grattol\",\"grattol\",\"grattol\",\"grattol\",\"grattol\",\"grattol\",\"grattol\",\"grattol\",\"grattol\",\"grattol\",\"grattol\",\"grattol\",\"grattol\",\"grattol\",\"grattol\",\"grattol\",\"grattol\",\"grattol\",\"grattol\",\"grattol\",\"grattol\",\"grattol\",\"grattol\",\"grattol\",\"grattol\",\"grattol\",\"grattol\",\"grattol\",\"grattol\",\"grattol\",\"grattol\",\"grattol\",\"grattol\",\"grattol\",\"grattol\",\"grattol\",\"grattol\",\"grattol\",\"grattol\",\"grattol\",\"grattol\",\"grattol\",\"grattol\",\"grattol\",\"grattol\",\"grattol\",\"grattol\",\"grattol\",\"grattol\",\"grattol\",\"grattol\",\"grattol\",\"grattol\",\"grattol\",\"grattol\",\"grattol\",\"grattol\",\"grattol\",\"grattol\",\"grattol\",\"grattol\",\"grattol\",\"grattol\",\"grattol\",\"grattol\",\"grattol\",\"grattol\",\"grattol\",\"grattol\",\"grattol\",\"grattol\",\"grattol\",\"grattol\",\"grattol\",\"grattol\",\"grattol\",\"grattol\",\"grattol\",\"grattol\",\"grattol\",\"grattol\",\"grattol\",\"grattol\",\"grattol\",\"grattol\",\"grattol\",\"grattol\",\"grattol\",\"grattol\",\"grattol\",\"grattol\",\"grattol\",\"grattol\",\"grattol\",\"grattol\",\"grattol\",\"grattol\",\"grattol\",\"grattol\",\"grattol\",\"grattol\",\"grattol\",\"grattol\",\"grattol\",\"grattol\",\"grattol\",\"grattol\",\"grattol\",\"grattol\",\"grattol\",\"grattol\",\"grattol\",\"grattol\",\"grattol\",\"grattol\",\"grattol\",\"grattol\",\"grattol\",\"grattol\",\"grattol\",\"grattol\",\"grattol\",\"grattol\",\"grattol\",\"grattol\",\"grattol\",\"grattol\",\"grattol\",\"grattol\",\"grattol\",\"grattol\",\"grattol\",\"grattol\",\"grattol\",\"grattol\",\"grattol\",\"grattol\",\"grattol\",\"grattol\",\"grattol\",\"grattol\",\"grattol\",\"grattol\",\"grattol\",\"grattol\",\"grattol\",\"grattol\",\"grattol\",\"grattol\",\"grattol\",\"grattol\",\"grattol\",\"grattol\",\"grattol\",\"grattol\",\"grattol\",\"grattol\",\"grattol\",\"grattol\",\"grattol\",\"grattol\",\"grattol\",\"grattol\",\"grattol\",\"grattol\",\"grattol\",\"grattol\",\"grattol\",\"grattol\",\"grattol\",\"grattol\",\"grattol\",\"grattol\",\"grattol\",\"grattol\",\"grattol\",\"grattol\",\"grattol\",\"grattol\",\"grattol\",\"grattol\",\"grattol\",\"grattol\",\"grattol\",\"grattol\",\"grattol\",\"grattol\",\"grattol\",\"grattol\",\"grattol\",\"grattol\",\"grattol\",\"grattol\",\"grattol\",\"grattol\",\"grattol\",\"grattol\",\"grattol\",\"grattol\",\"grattol\",\"grattol\",\"grattol\",\"grattol\",\"grattol\",\"grattol\",\"grattol\",\"grattol\",\"grattol\",\"grattol\",\"grattol\",\"grattol\",\"grattol\",\"grattol\",\"grattol\",\"grattol\",\"grattol\",\"grattol\",\"grattol\",\"grattol\",\"grattol\",\"grattol\",\"grattol\",\"grattol\",\"grattol\",\"grattol\",\"grattol\",\"grattol\",\"grattol\",\"grattol\",\"grattol\",\"grattol\",\"grattol\",\"grattol\",\"grattol\",\"grattol\",\"grattol\",\"grattol\",\"grattol\",\"grattol\",\"grattol\",\"grattol\",\"grattol\",\"grattol\",\"grattol\",\"grattol\",\"grattol\",\"grattol\",\"grattol\",\"grattol\",\"grattol\",\"grattol\",\"grattol\",\"grattol\",\"grattol\",\"grattol\",\"grattol\",\"grattol\",\"grattol\",\"grattol\",\"grattol\",\"grattol\",\"grattol\",\"grattol\",\"grattol\",\"grattol\",\"grattol\",\"grattol\",\"grattol\",\"grattol\",\"grattol\",\"grattol\",\"grattol\",\"grattol\",\"grattol\",\"grattol\",\"grattol\",\"grattol\",\"grattol\",\"grattol\",\"grattol\",\"grattol\",\"grattol\",\"grattol\",\"grattol\",\"grattol\",\"grattol\",\"grattol\",\"grattol\",\"grattol\",\"grattol\",\"grattol\",\"grattol\",\"grattol\",\"grattol\",\"grattol\",\"grattol\",\"grattol\",\"grattol\",\"grattol\",\"grattol\",\"grattol\",\"grattol\",\"grattol\",\"grattol\",\"grattol\",\"grattol\",\"grattol\",\"grattol\",\"grattol\",\"grattol\",\"grattol\",\"grattol\",\"grattol\",\"grattol\",\"grattol\",\"grattol\",\"grattol\",\"grattol\",\"grattol\",\"grattol\",\"grattol\",\"grattol\",\"grattol\",\"grattol\",\"grattol\",\"grattol\",\"grattol\",\"grattol\",\"grattol\",\"grattol\",\"grattol\",\"grattol\",\"grattol\",\"grattol\",\"grattol\",\"grattol\",\"grattol\",\"grattol\",\"grattol\",\"grattol\",\"grattol\",\"grattol\",\"grattol\",\"grattol\",\"grattol\",\"grattol\",\"grattol\",\"grattol\",\"grattol\",\"grattol\",\"grattol\",\"grattol\",\"grattol\",\"grattol\",\"grattol\",\"grattol\",\"grattol\",\"grattol\",\"grattol\",\"grattol\",\"grattol\",\"grattol\",\"grattol\",\"grattol\",\"grattol\",\"grattol\",\"grattol\",\"grattol\",\"grattol\",\"grattol\",\"grattol\",\"grattol\",\"grattol\",\"grattol\",\"grattol\",\"grattol\",\"grattol\",\"grattol\",\"grattol\",\"grattol\",\"grattol\"],\"x0\":\" \",\"xaxis\":\"x\",\"y\":{\"dtype\":\"f8\",\"bdata\":\"9ihcj8L1FED2KFyPwvUUQPYoXI\\u002fC9RRA9ihcj8L1FEAUrkfhehQZQBSuR+F6FBlAFK5H4XoUGUAUrkfhehQZQPYoXI\\u002fC9RRA9ihcj8L1FED2KFyPwvUUQPYoXI\\u002fC9RRAFK5H4XoUGUBSuB6F61EUQPYoXI\\u002fC9RRACtejcD0KE0AK16NwPQoTQArXo3A9ChNACtejcD0KE0D2KFyPwvUUQPYoXI\\u002fC9RRAH4XrUbgeGEAK16NwPQoTQKRwPQrXoyRApHA9CtejJEBmZmZmZmYCQPYoXI\\u002fC9RRA9ihcj8L1FEAUrkfhehQZQArXo3A9ChNACtejcD0KE0AUrkfhehQZQBSuR+F6FBlAFK5H4XoUGUAUrkfhehQZQArXo3A9ChNAFK5H4XoUGUD2KFyPwvUUQPYoXI\\u002fC9RRApHA9CtejJED2KFyPwvUUQIXrUbgeBTdACtejcD0KE0D2KFyPwvUUQPYoXI\\u002fC9RRA9ihcj8L1FEApXI\\u002fC9SguQFyPwvUoXAlA9ihcj8L1FEAUrkfhehQZQBSuR+F6FBlAFK5H4XoUGUD2KFyPwvUUQPYoXI\\u002fC9RRAFK5H4XoUGUB7FK5H4XoAQArXo3A9ChNAFK5H4XoUGUD2KFyPwvUUQD0K16NwPRZACtejcD0KE0AK16NwPQoTQPYoXI\\u002fC9RRAUrgehetRFEBSuB6F61EUQNejcD0K1zNAFK5H4XoUGUAK16NwPQoTQArXo3A9ChNAFK5H4XoUGUD2KFyPwvUUQArXo3A9ChNAFK5H4XoUGUBSuB6F61EUQArXo3A9ChNAexSuR+F6AEAK16NwPQoTQArXo3A9ChNAw\\u002fUoXI\\u002fCEUBxPQrXo3ATQB+F61G4HhhAH4XrUbgeKEDXo3A9CtcWQNejcD0K1xZACtejcD0KE0AK16NwPQoTQArXo3A9ChNAH4XrUbgeGEAK16NwPQoTQArXo3A9ChNACtejcD0KE0D2KFyPwvUUQPYoXI\\u002fC9RRACtejcD0KE0ApXI\\u002fC9SgIQBSuR+F6FBlAKVyPwvUoLkCamZmZmZkVQJqZmZmZmRVACtejcD0KE0D2KFyPwvUUQPYoXI\\u002fC9RRACtejcD0KE0AK16NwPQoTQPYoXI\\u002fC9RRA9ihcj8L1FECkcD0K16MkQArXo3A9ChNA9ihcj8L1FEAK16NwPQoTQKRwPQrXoyRApHA9CtejJEBxPQrXo3AoQArXo3A9ChNACtejcD0KE0AK16NwPQoTQI\\u002fC9ShcjxxApHA9CtejJED2KFyPwvUUQPYoXI\\u002fC9RRACtejcD0KE0D2KFyPwvUUQKRwPQrXoyRAmpmZmZmZFUD2KFyPwvUUQPYoXI\\u002fC9RRA9ihcj8L1FEAUrkfhehQZQHE9CtejcBNAPQrXo3A9OUD2KFyPwvUUQArXo3A9ChNA9ihcj8L1FEDXo3A9CtcWQArXo3A9ChNACtejcD0KE0AK16NwPQoTQJqZmZmZmQVA16NwPQrXEkDD9Shcj8IPQNejcD0K1xZAw\\u002fUoXI\\u002fCD0AUrkfhehQZQPYoXI\\u002fC9RRAZmZmZmZmFkD2KFyPwvUUQPYoXI\\u002fC9RRAH4XrUbgeGED2KFyPwvUUQArXo3A9ChNAPQrXo3A9FkAK16NwPQoTQArXo3A9ChNACtejcD0KE0AK16NwPQoTQArXo3A9ChNAKVyPwvUoEUAK16NwPQoTQArXo3A9ChNACtejcD0KE0CkcD0K16MkQJqZmZmZmRVAH4XrUbgeGEAK16NwPQoTQArXo3A9ChNA9ihcj8L1FED2KFyPwvUUQArXo3A9ChNACtejcD0KE0D2KFyPwvUUQPYoXI\\u002fC9RRACtejcD0KE0DXo3A9CtcWQClcj8L1KC5A9ihcj8L1FEApXI\\u002fC9SguQArXo3A9ChNACtejcD0KE0D2KFyPwvUUQPYoXI\\u002fC9RRA9ihcj8L1FED2KFyPwvUUQHsUrkfhehJACtejcD0KE0D2KFyPwvUUQArXo3A9ChNA16NwPQrXEkD2KFyPwvUUQHE9CtejcBNAH4XrUbgeGEAK16NwPQoTQArXo3A9ChNACtejcD0KE0AK16NwPQoTQPYoXI\\u002fC9RRACtejcD0KE0D2KFyPwvUUQClcj8L1KAhA9ihcj8L1FED2KFyPwvUUQAAAAAAAACRAXI\\u002fC9ShcCUB7FK5H4XoAQFK4HoXrURRAexSuR+F6EkAfhetRuB4YQArXo3A9ChNAH4XrUbgeGEBSuB6F61EYQB+F61G4HhhAH4XrUbgeGED2KFyPwvUUQOF6FK5H4RNAmpmZmZmZFUCamZmZmZkVQArXo3A9ChNAcT0K16NwKEAfhetRuB4YQB+F61G4HhhAH4XrUbgeGEAK16NwPQoTQArXo3A9ChNA16NwPQrXEkD2KFyPwvUUQMP1KFyPwhFAw\\u002fUoXI\\u002fCEUAfhetRuB4YQArXo3A9ChNA9ihcj8L1FECPwvUoXI8QQMP1KFyPwhFACtejcD0KE0AK16NwPQoTQArXo3A9ChNAcT0K16NwE0AK16NwPQoTQFK4HoXrURhAUrgehetRFEAK16NwPQoTQArXo3A9ChNACtejcD0KE0AfhetRuB4YQClcj8L1KC5ACtejcD0KE0AK16NwPQoTQArXo3A9ChNAH4XrUbgeGEAK16NwPQoTQArXo3A9ChNA9ihcj8L1FEAK16NwPQoTQArXo3A9ChNAw\\u002fUoXI\\u002fCD0BSuB6F61EYQBSuR+F6FBJAzczMzMzMF0ApXI\\u002fC9SgIQArXo3A9ChNACtejcD0KE0AfhetRuB4YQB+F61G4HhhAH4XrUbgeGEAfhetRuB4YQHsUrkfhehJAcT0K16NwE0BSuB6F61EUQArXo3A9ChNA9ihcj8L1FED2KFyPwvUUQI\\u002fC9ShcjxxACtejcD0KE0AK16NwPQoTQNejcD0K1xZAPQrXo3A9FkAK16NwPQoTQArXo3A9ChNA9ihcj8L1FEAK16NwPQoTQArXo3A9ChNACtejcD0KE0BSuB6F61EUQArXo3A9ChNACtejcD0KE0BSuB6F61EUQArXo3A9ChNACtejcD0KE0BSuB6F61EUQPYoXI\\u002fCdSFAH4XrUbgeGEBcj8L1KFwXQArXo3A9ChNACtejcD0KE0AK16NwPQoTQArXo3A9ChNACtejcD0KE0AK16NwPQoTQNejcD0K1zNAexSuR+F6EkDhehSuR+ETQOxRuB6F6xZACtejcD0KE0AK16NwPQoTQD0K16NwPTNACtejcD0KE0AK16NwPQoTQArXo3A9ChNAuB6F61G4EUAK16NwPQoTQPYoXI\\u002fC9RRAw\\u002fUoXI\\u002fCEUBSuB6F61EUQOF6FK5H4RNACtejcD0KE0A9CtejcD0WQArXo3A9ChNACtejcD0KE0AK16NwPQoTQPYoXI\\u002fC9RRACtejcD0KE0CkcD0K16MkQFK4HoXrURhA9ihcj8L1FEAUrkfhehQSQArXo3A9ChNA9ihcj8L1FED2KFyPwvUUQArXo3A9ChNAexSuR+F6EkAK16NwPQoTQArXo3A9ChNAXI\\u002fC9ShcF0D2KFyPwvUUQArXo3A9ChNAXI\\u002fC9ShcF0DXo3A9CtcSQBSuR+F6FBlAKVyPwvUoCEAK16NwPQoTQArXo3A9ChNAKVyPwvUoEUDNzMzMzMwXQArXo3A9ChNACtejcD0KE0AUrkfhepQiQArXo3A9ChNAexSuR+F6EkBmZmZmZmYWQPYoXI\\u002fC9RRA4XoUrkfhE0D2KFyPwvUUQArXo3A9ChNAXI\\u002fC9ShcCUA9CtejcD0WQArXo3A9ChNAexSuR+F6HkC4HoXrUbgRQNejcD0K1xJAKVyPwvUoEUApXI\\u002fC9SgRQI\\u002fC9ShcjwxACtejcD0KE0B7FK5H4XoSQFK4HoXrURRA4XoUrkfhE0BxPQrXo3ATQHsUrkfhehJACtejcD0KE0AK16NwPQoTQArXo3A9ChNACtejcD0KE0DD9Shcj8IRQArXo3A9ChNA9ihcj8L1FEAK16NwPQoTQLgehetRuBVAexSuR+F6EkAUrkfhepQgQFK4HoXrURRAPQrXo3A9FkAK16NwPQoTQFyPwvUoXBdApHA9CtejLECPwvUoXI8QQIXrUbgehRBACtejcD0KE0AK16NwPQoTQHsUrkfhehdAcT0K16NwE0Bcj8L1KFwXQOxRuB6F6xZAAAAAAAAAJEDXo3A9CtcSQLgehetRuBFAexSuR+F6EkCuR+F6FG41QArXo3A9ChNA4XoUrkfhE0AK16NwPQoTQHsUrkfhehJAexSuR+F6EkB7FK5H4XoSQArXo3A9ChNAexSuR+F6DkBI4XoUrkcRQB+F61G4HihASOF6FK5HEUC4HoXrUbgRQFyPwvUo3DFAexSuR+F6EkB7FK5H4XoAQHsUrkfhehJACtejcD0KE0A=\"},\"y0\":\" \",\"yaxis\":\"y\",\"type\":\"box\"},{\"alignmentgroup\":\"True\",\"hovertemplate\":\"brand=%{x}\\u003cbr\\u003eprice=%{y}\\u003cextra\\u003e\\u003c\\u002fextra\\u003e\",\"legendgroup\":\"kosmekka\",\"marker\":{\"color\":\"rgb(77,175,74)\"},\"name\":\"kosmekka\",\"notched\":false,\"offsetgroup\":\"kosmekka\",\"orientation\":\"v\",\"showlegend\":true,\"x\":[\"kosmekka\",\"kosmekka\",\"kosmekka\",\"kosmekka\",\"kosmekka\",\"kosmekka\",\"kosmekka\",\"kosmekka\",\"kosmekka\",\"kosmekka\",\"kosmekka\",\"kosmekka\",\"kosmekka\",\"kosmekka\",\"kosmekka\",\"kosmekka\",\"kosmekka\",\"kosmekka\",\"kosmekka\",\"kosmekka\",\"kosmekka\",\"kosmekka\",\"kosmekka\",\"kosmekka\",\"kosmekka\",\"kosmekka\",\"kosmekka\",\"kosmekka\",\"kosmekka\",\"kosmekka\",\"kosmekka\",\"kosmekka\",\"kosmekka\",\"kosmekka\",\"kosmekka\",\"kosmekka\",\"kosmekka\",\"kosmekka\",\"kosmekka\",\"kosmekka\",\"kosmekka\",\"kosmekka\",\"kosmekka\",\"kosmekka\",\"kosmekka\",\"kosmekka\",\"kosmekka\",\"kosmekka\",\"kosmekka\",\"kosmekka\",\"kosmekka\",\"kosmekka\",\"kosmekka\",\"kosmekka\",\"kosmekka\",\"kosmekka\",\"kosmekka\",\"kosmekka\",\"kosmekka\",\"kosmekka\"],\"x0\":\" \",\"xaxis\":\"x\",\"y\":{\"dtype\":\"f8\",\"bdata\":\"H4XrUbj+W0CuR+F6FG5FQOxRuB6F61hAFK5H4XoUOUDhehSuR9liQKRwPQrXA0dAFK5H4XqUJUBmZmZmZiZfQK5H4XoU\\u002fllAKVyPwvU4W0CuR+F6FA5XQFK4HoXrgVBAZmZmZmZmKUDD9Shcj5JSQKRwPQrXY1pAMzMzMzPTVUCkcD0K1wNHQOxRuB6F21FAuB6F61EIVUAK16NwPWpCQB+F61G4njtAXI\\u002fC9SicV0B7FK5H4cpZQBSuR+F6lCVArkfhehRuRUCkcD0K12NaQIXrUbgedVFA9ihcj8L1WEAAAAAAAHhgQOxRuB6F21FAexSuR+F6LkCF61G4HtVUQIXrUbge1VRApHA9CtcDR0AfhetRuJ47QK5H4XoUbjVApHA9CtcDR0BmZmZmZmY5QHsUrkfhuj9AZmZmZmamUkCF61G4HnVRQFK4HoXrUQRAexSuR+GqUEAUrkfhehQ5QBSuR+F6FDlAexSuR+F6HkCamZmZmalQQK5H4XoUbkVAFK5H4XqUJUBI4XoUrschQLgehetR+DpAuB6F61H4OkCF61G4HnVRQHsUrkfhuj9Aw\\u002fUoXI+iVEBcj8L1KAxTQLgehetR+DpAmpmZmZmpUEDD9Shcj6JUQBSuR+F6FDlA\"},\"y0\":\" \",\"yaxis\":\"y\",\"type\":\"box\"},{\"alignmentgroup\":\"True\",\"hovertemplate\":\"brand=%{x}\\u003cbr\\u003eprice=%{y}\\u003cextra\\u003e\\u003c\\u002fextra\\u003e\",\"legendgroup\":\"elskin\",\"marker\":{\"color\":\"rgb(152,78,163)\"},\"name\":\"elskin\",\"notched\":false,\"offsetgroup\":\"elskin\",\"orientation\":\"v\",\"showlegend\":true,\"x\":[\"elskin\",\"elskin\",\"elskin\",\"elskin\",\"elskin\",\"elskin\",\"elskin\",\"elskin\",\"elskin\",\"elskin\",\"elskin\",\"elskin\",\"elskin\",\"elskin\"],\"x0\":\" \",\"xaxis\":\"x\",\"y\":{\"dtype\":\"f8\",\"bdata\":\"pHA9CtejAEDD9Shcj8LxP6RwPQrXowBAcT0K16Nw+T9xPQrXo3D5P9ejcD0K1xBAw\\u002fUoXI\\u002fC8T\\u002fD9Shcj8LxP3sUrkfheuw\\u002fw\\u002fUoXI\\u002fC8T\\u002fD9Shcj8LxP5qZmZmZmfk\\u002fcT0K16Nw+T+F61G4HoX\\u002fPw==\"},\"y0\":\" \",\"yaxis\":\"y\",\"type\":\"box\"}],                        {\"template\":{\"data\":{\"histogram2dcontour\":[{\"type\":\"histogram2dcontour\",\"colorbar\":{\"outlinewidth\":0,\"ticks\":\"\"},\"colorscale\":[[0.0,\"#0d0887\"],[0.1111111111111111,\"#46039f\"],[0.2222222222222222,\"#7201a8\"],[0.3333333333333333,\"#9c179e\"],[0.4444444444444444,\"#bd3786\"],[0.5555555555555556,\"#d8576b\"],[0.6666666666666666,\"#ed7953\"],[0.7777777777777778,\"#fb9f3a\"],[0.8888888888888888,\"#fdca26\"],[1.0,\"#f0f921\"]]}],\"choropleth\":[{\"type\":\"choropleth\",\"colorbar\":{\"outlinewidth\":0,\"ticks\":\"\"}}],\"histogram2d\":[{\"type\":\"histogram2d\",\"colorbar\":{\"outlinewidth\":0,\"ticks\":\"\"},\"colorscale\":[[0.0,\"#0d0887\"],[0.1111111111111111,\"#46039f\"],[0.2222222222222222,\"#7201a8\"],[0.3333333333333333,\"#9c179e\"],[0.4444444444444444,\"#bd3786\"],[0.5555555555555556,\"#d8576b\"],[0.6666666666666666,\"#ed7953\"],[0.7777777777777778,\"#fb9f3a\"],[0.8888888888888888,\"#fdca26\"],[1.0,\"#f0f921\"]]}],\"heatmap\":[{\"type\":\"heatmap\",\"colorbar\":{\"outlinewidth\":0,\"ticks\":\"\"},\"colorscale\":[[0.0,\"#0d0887\"],[0.1111111111111111,\"#46039f\"],[0.2222222222222222,\"#7201a8\"],[0.3333333333333333,\"#9c179e\"],[0.4444444444444444,\"#bd3786\"],[0.5555555555555556,\"#d8576b\"],[0.6666666666666666,\"#ed7953\"],[0.7777777777777778,\"#fb9f3a\"],[0.8888888888888888,\"#fdca26\"],[1.0,\"#f0f921\"]]}],\"contourcarpet\":[{\"type\":\"contourcarpet\",\"colorbar\":{\"outlinewidth\":0,\"ticks\":\"\"}}],\"contour\":[{\"type\":\"contour\",\"colorbar\":{\"outlinewidth\":0,\"ticks\":\"\"},\"colorscale\":[[0.0,\"#0d0887\"],[0.1111111111111111,\"#46039f\"],[0.2222222222222222,\"#7201a8\"],[0.3333333333333333,\"#9c179e\"],[0.4444444444444444,\"#bd3786\"],[0.5555555555555556,\"#d8576b\"],[0.6666666666666666,\"#ed7953\"],[0.7777777777777778,\"#fb9f3a\"],[0.8888888888888888,\"#fdca26\"],[1.0,\"#f0f921\"]]}],\"surface\":[{\"type\":\"surface\",\"colorbar\":{\"outlinewidth\":0,\"ticks\":\"\"},\"colorscale\":[[0.0,\"#0d0887\"],[0.1111111111111111,\"#46039f\"],[0.2222222222222222,\"#7201a8\"],[0.3333333333333333,\"#9c179e\"],[0.4444444444444444,\"#bd3786\"],[0.5555555555555556,\"#d8576b\"],[0.6666666666666666,\"#ed7953\"],[0.7777777777777778,\"#fb9f3a\"],[0.8888888888888888,\"#fdca26\"],[1.0,\"#f0f921\"]]}],\"mesh3d\":[{\"type\":\"mesh3d\",\"colorbar\":{\"outlinewidth\":0,\"ticks\":\"\"}}],\"scatter\":[{\"fillpattern\":{\"fillmode\":\"overlay\",\"size\":10,\"solidity\":0.2},\"type\":\"scatter\"}],\"parcoords\":[{\"type\":\"parcoords\",\"line\":{\"colorbar\":{\"outlinewidth\":0,\"ticks\":\"\"}}}],\"scatterpolargl\":[{\"type\":\"scatterpolargl\",\"marker\":{\"colorbar\":{\"outlinewidth\":0,\"ticks\":\"\"}}}],\"bar\":[{\"error_x\":{\"color\":\"#2a3f5f\"},\"error_y\":{\"color\":\"#2a3f5f\"},\"marker\":{\"line\":{\"color\":\"#E5ECF6\",\"width\":0.5},\"pattern\":{\"fillmode\":\"overlay\",\"size\":10,\"solidity\":0.2}},\"type\":\"bar\"}],\"scattergeo\":[{\"type\":\"scattergeo\",\"marker\":{\"colorbar\":{\"outlinewidth\":0,\"ticks\":\"\"}}}],\"scatterpolar\":[{\"type\":\"scatterpolar\",\"marker\":{\"colorbar\":{\"outlinewidth\":0,\"ticks\":\"\"}}}],\"histogram\":[{\"marker\":{\"pattern\":{\"fillmode\":\"overlay\",\"size\":10,\"solidity\":0.2}},\"type\":\"histogram\"}],\"scattergl\":[{\"type\":\"scattergl\",\"marker\":{\"colorbar\":{\"outlinewidth\":0,\"ticks\":\"\"}}}],\"scatter3d\":[{\"type\":\"scatter3d\",\"line\":{\"colorbar\":{\"outlinewidth\":0,\"ticks\":\"\"}},\"marker\":{\"colorbar\":{\"outlinewidth\":0,\"ticks\":\"\"}}}],\"scattermap\":[{\"type\":\"scattermap\",\"marker\":{\"colorbar\":{\"outlinewidth\":0,\"ticks\":\"\"}}}],\"scattermapbox\":[{\"type\":\"scattermapbox\",\"marker\":{\"colorbar\":{\"outlinewidth\":0,\"ticks\":\"\"}}}],\"scatterternary\":[{\"type\":\"scatterternary\",\"marker\":{\"colorbar\":{\"outlinewidth\":0,\"ticks\":\"\"}}}],\"scattercarpet\":[{\"type\":\"scattercarpet\",\"marker\":{\"colorbar\":{\"outlinewidth\":0,\"ticks\":\"\"}}}],\"carpet\":[{\"aaxis\":{\"endlinecolor\":\"#2a3f5f\",\"gridcolor\":\"white\",\"linecolor\":\"white\",\"minorgridcolor\":\"white\",\"startlinecolor\":\"#2a3f5f\"},\"baxis\":{\"endlinecolor\":\"#2a3f5f\",\"gridcolor\":\"white\",\"linecolor\":\"white\",\"minorgridcolor\":\"white\",\"startlinecolor\":\"#2a3f5f\"},\"type\":\"carpet\"}],\"table\":[{\"cells\":{\"fill\":{\"color\":\"#EBF0F8\"},\"line\":{\"color\":\"white\"}},\"header\":{\"fill\":{\"color\":\"#C8D4E3\"},\"line\":{\"color\":\"white\"}},\"type\":\"table\"}],\"barpolar\":[{\"marker\":{\"line\":{\"color\":\"#E5ECF6\",\"width\":0.5},\"pattern\":{\"fillmode\":\"overlay\",\"size\":10,\"solidity\":0.2}},\"type\":\"barpolar\"}],\"pie\":[{\"automargin\":true,\"type\":\"pie\"}]},\"layout\":{\"autotypenumbers\":\"strict\",\"colorway\":[\"#636efa\",\"#EF553B\",\"#00cc96\",\"#ab63fa\",\"#FFA15A\",\"#19d3f3\",\"#FF6692\",\"#B6E880\",\"#FF97FF\",\"#FECB52\"],\"font\":{\"color\":\"#2a3f5f\"},\"hovermode\":\"closest\",\"hoverlabel\":{\"align\":\"left\"},\"paper_bgcolor\":\"white\",\"plot_bgcolor\":\"#E5ECF6\",\"polar\":{\"bgcolor\":\"#E5ECF6\",\"angularaxis\":{\"gridcolor\":\"white\",\"linecolor\":\"white\",\"ticks\":\"\"},\"radialaxis\":{\"gridcolor\":\"white\",\"linecolor\":\"white\",\"ticks\":\"\"}},\"ternary\":{\"bgcolor\":\"#E5ECF6\",\"aaxis\":{\"gridcolor\":\"white\",\"linecolor\":\"white\",\"ticks\":\"\"},\"baxis\":{\"gridcolor\":\"white\",\"linecolor\":\"white\",\"ticks\":\"\"},\"caxis\":{\"gridcolor\":\"white\",\"linecolor\":\"white\",\"ticks\":\"\"}},\"coloraxis\":{\"colorbar\":{\"outlinewidth\":0,\"ticks\":\"\"}},\"colorscale\":{\"sequential\":[[0.0,\"#0d0887\"],[0.1111111111111111,\"#46039f\"],[0.2222222222222222,\"#7201a8\"],[0.3333333333333333,\"#9c179e\"],[0.4444444444444444,\"#bd3786\"],[0.5555555555555556,\"#d8576b\"],[0.6666666666666666,\"#ed7953\"],[0.7777777777777778,\"#fb9f3a\"],[0.8888888888888888,\"#fdca26\"],[1.0,\"#f0f921\"]],\"sequentialminus\":[[0.0,\"#0d0887\"],[0.1111111111111111,\"#46039f\"],[0.2222222222222222,\"#7201a8\"],[0.3333333333333333,\"#9c179e\"],[0.4444444444444444,\"#bd3786\"],[0.5555555555555556,\"#d8576b\"],[0.6666666666666666,\"#ed7953\"],[0.7777777777777778,\"#fb9f3a\"],[0.8888888888888888,\"#fdca26\"],[1.0,\"#f0f921\"]],\"diverging\":[[0,\"#8e0152\"],[0.1,\"#c51b7d\"],[0.2,\"#de77ae\"],[0.3,\"#f1b6da\"],[0.4,\"#fde0ef\"],[0.5,\"#f7f7f7\"],[0.6,\"#e6f5d0\"],[0.7,\"#b8e186\"],[0.8,\"#7fbc41\"],[0.9,\"#4d9221\"],[1,\"#276419\"]]},\"xaxis\":{\"gridcolor\":\"white\",\"linecolor\":\"white\",\"ticks\":\"\",\"title\":{\"standoff\":15},\"zerolinecolor\":\"white\",\"automargin\":true,\"zerolinewidth\":2},\"yaxis\":{\"gridcolor\":\"white\",\"linecolor\":\"white\",\"ticks\":\"\",\"title\":{\"standoff\":15},\"zerolinecolor\":\"white\",\"automargin\":true,\"zerolinewidth\":2},\"scene\":{\"xaxis\":{\"backgroundcolor\":\"#E5ECF6\",\"gridcolor\":\"white\",\"linecolor\":\"white\",\"showbackground\":true,\"ticks\":\"\",\"zerolinecolor\":\"white\",\"gridwidth\":2},\"yaxis\":{\"backgroundcolor\":\"#E5ECF6\",\"gridcolor\":\"white\",\"linecolor\":\"white\",\"showbackground\":true,\"ticks\":\"\",\"zerolinecolor\":\"white\",\"gridwidth\":2},\"zaxis\":{\"backgroundcolor\":\"#E5ECF6\",\"gridcolor\":\"white\",\"linecolor\":\"white\",\"showbackground\":true,\"ticks\":\"\",\"zerolinecolor\":\"white\",\"gridwidth\":2}},\"shapedefaults\":{\"line\":{\"color\":\"#2a3f5f\"}},\"annotationdefaults\":{\"arrowcolor\":\"#2a3f5f\",\"arrowhead\":0,\"arrowwidth\":1},\"geo\":{\"bgcolor\":\"white\",\"landcolor\":\"#E5ECF6\",\"subunitcolor\":\"white\",\"showland\":true,\"showlakes\":true,\"lakecolor\":\"white\"},\"title\":{\"x\":0.05},\"mapbox\":{\"style\":\"light\"}}},\"xaxis\":{\"anchor\":\"y\",\"domain\":[0.0,1.0],\"title\":{\"text\":\"brand\"},\"categoryorder\":\"array\",\"categoryarray\":[\"runail\",\"grattol\",\"kosmekka\",\"elskin\"]},\"yaxis\":{\"anchor\":\"x\",\"domain\":[0.0,1.0],\"title\":{\"text\":\"price\"}},\"legend\":{\"title\":{\"text\":\"brand\"},\"tracegroupgap\":0},\"margin\":{\"t\":60},\"boxmode\":\"overlay\",\"width\":1000,\"height\":500},                        {\"responsive\": true}                    ).then(function(){\n",
              "                            \n",
              "var gd = document.getElementById('61dc4744-e2ae-4996-892c-29f9f971496a');\n",
              "var x = new MutationObserver(function (mutations, observer) {{\n",
              "        var display = window.getComputedStyle(gd).display;\n",
              "        if (!display || display === 'none') {{\n",
              "            console.log([gd, 'removed!']);\n",
              "            Plotly.purge(gd);\n",
              "            observer.disconnect();\n",
              "        }}\n",
              "}});\n",
              "\n",
              "// Listen for the removal of the full notebook cells\n",
              "var notebookContainer = gd.closest('#notebook-container');\n",
              "if (notebookContainer) {{\n",
              "    x.observe(notebookContainer, {childList: true});\n",
              "}}\n",
              "\n",
              "// Listen for the clearing of the current output cell\n",
              "var outputEl = gd.closest('.output');\n",
              "if (outputEl) {{\n",
              "    x.observe(outputEl, {childList: true});\n",
              "}}\n",
              "\n",
              "                        })                };            </script>        </div>"
            ]
          },
          "metadata": {}
        }
      ]
    },
    {
      "cell_type": "markdown",
      "source": [
        "Kosmekka’s high prices likely contribute to its low conversion rates, as customers on this platform are price sensitive."
      ],
      "metadata": {
        "id": "a805edmjhlOW"
      }
    },
    {
      "cell_type": "markdown",
      "source": [
        "**Time-of-Day Analysis**"
      ],
      "metadata": {
        "id": "l72rDXR8hpnq"
      }
    },
    {
      "cell_type": "code",
      "source": [
        "# Extract event hour\n",
        "df['event_hour'] = df['event_time'].dt.hour\n",
        "df[['event_time', 'event_hour']].head()"
      ],
      "metadata": {
        "colab": {
          "base_uri": "https://localhost:8080/",
          "height": 206
        },
        "id": "-bc2WOsJZgYw",
        "outputId": "81e34bb2-5a9b-4223-ad9e-be55470d6c01"
      },
      "execution_count": 54,
      "outputs": [
        {
          "output_type": "execute_result",
          "data": {
            "text/plain": [
              "                 event_time  event_hour\n",
              "0 2019-12-28 14:32:56+00:00          14\n",
              "1 2019-12-22 13:04:49+00:00          13\n",
              "2 2019-12-22 13:09:11+00:00          13\n",
              "3 2019-12-22 12:50:45+00:00          12\n",
              "4 2019-12-22 12:53:12+00:00          12"
            ],
            "text/html": [
              "\n",
              "  <div id=\"df-54d13211-c5bc-4c55-8eb6-6558763a3e3f\" class=\"colab-df-container\">\n",
              "    <div>\n",
              "<style scoped>\n",
              "    .dataframe tbody tr th:only-of-type {\n",
              "        vertical-align: middle;\n",
              "    }\n",
              "\n",
              "    .dataframe tbody tr th {\n",
              "        vertical-align: top;\n",
              "    }\n",
              "\n",
              "    .dataframe thead th {\n",
              "        text-align: right;\n",
              "    }\n",
              "</style>\n",
              "<table border=\"1\" class=\"dataframe\">\n",
              "  <thead>\n",
              "    <tr style=\"text-align: right;\">\n",
              "      <th></th>\n",
              "      <th>event_time</th>\n",
              "      <th>event_hour</th>\n",
              "    </tr>\n",
              "  </thead>\n",
              "  <tbody>\n",
              "    <tr>\n",
              "      <th>0</th>\n",
              "      <td>2019-12-28 14:32:56+00:00</td>\n",
              "      <td>14</td>\n",
              "    </tr>\n",
              "    <tr>\n",
              "      <th>1</th>\n",
              "      <td>2019-12-22 13:04:49+00:00</td>\n",
              "      <td>13</td>\n",
              "    </tr>\n",
              "    <tr>\n",
              "      <th>2</th>\n",
              "      <td>2019-12-22 13:09:11+00:00</td>\n",
              "      <td>13</td>\n",
              "    </tr>\n",
              "    <tr>\n",
              "      <th>3</th>\n",
              "      <td>2019-12-22 12:50:45+00:00</td>\n",
              "      <td>12</td>\n",
              "    </tr>\n",
              "    <tr>\n",
              "      <th>4</th>\n",
              "      <td>2019-12-22 12:53:12+00:00</td>\n",
              "      <td>12</td>\n",
              "    </tr>\n",
              "  </tbody>\n",
              "</table>\n",
              "</div>\n",
              "    <div class=\"colab-df-buttons\">\n",
              "\n",
              "  <div class=\"colab-df-container\">\n",
              "    <button class=\"colab-df-convert\" onclick=\"convertToInteractive('df-54d13211-c5bc-4c55-8eb6-6558763a3e3f')\"\n",
              "            title=\"Convert this dataframe to an interactive table.\"\n",
              "            style=\"display:none;\">\n",
              "\n",
              "  <svg xmlns=\"http://www.w3.org/2000/svg\" height=\"24px\" viewBox=\"0 -960 960 960\">\n",
              "    <path d=\"M120-120v-720h720v720H120Zm60-500h600v-160H180v160Zm220 220h160v-160H400v160Zm0 220h160v-160H400v160ZM180-400h160v-160H180v160Zm440 0h160v-160H620v160ZM180-180h160v-160H180v160Zm440 0h160v-160H620v160Z\"/>\n",
              "  </svg>\n",
              "    </button>\n",
              "\n",
              "  <style>\n",
              "    .colab-df-container {\n",
              "      display:flex;\n",
              "      gap: 12px;\n",
              "    }\n",
              "\n",
              "    .colab-df-convert {\n",
              "      background-color: #E8F0FE;\n",
              "      border: none;\n",
              "      border-radius: 50%;\n",
              "      cursor: pointer;\n",
              "      display: none;\n",
              "      fill: #1967D2;\n",
              "      height: 32px;\n",
              "      padding: 0 0 0 0;\n",
              "      width: 32px;\n",
              "    }\n",
              "\n",
              "    .colab-df-convert:hover {\n",
              "      background-color: #E2EBFA;\n",
              "      box-shadow: 0px 1px 2px rgba(60, 64, 67, 0.3), 0px 1px 3px 1px rgba(60, 64, 67, 0.15);\n",
              "      fill: #174EA6;\n",
              "    }\n",
              "\n",
              "    .colab-df-buttons div {\n",
              "      margin-bottom: 4px;\n",
              "    }\n",
              "\n",
              "    [theme=dark] .colab-df-convert {\n",
              "      background-color: #3B4455;\n",
              "      fill: #D2E3FC;\n",
              "    }\n",
              "\n",
              "    [theme=dark] .colab-df-convert:hover {\n",
              "      background-color: #434B5C;\n",
              "      box-shadow: 0px 1px 3px 1px rgba(0, 0, 0, 0.15);\n",
              "      filter: drop-shadow(0px 1px 2px rgba(0, 0, 0, 0.3));\n",
              "      fill: #FFFFFF;\n",
              "    }\n",
              "  </style>\n",
              "\n",
              "    <script>\n",
              "      const buttonEl =\n",
              "        document.querySelector('#df-54d13211-c5bc-4c55-8eb6-6558763a3e3f button.colab-df-convert');\n",
              "      buttonEl.style.display =\n",
              "        google.colab.kernel.accessAllowed ? 'block' : 'none';\n",
              "\n",
              "      async function convertToInteractive(key) {\n",
              "        const element = document.querySelector('#df-54d13211-c5bc-4c55-8eb6-6558763a3e3f');\n",
              "        const dataTable =\n",
              "          await google.colab.kernel.invokeFunction('convertToInteractive',\n",
              "                                                    [key], {});\n",
              "        if (!dataTable) return;\n",
              "\n",
              "        const docLinkHtml = 'Like what you see? Visit the ' +\n",
              "          '<a target=\"_blank\" href=https://colab.research.google.com/notebooks/data_table.ipynb>data table notebook</a>'\n",
              "          + ' to learn more about interactive tables.';\n",
              "        element.innerHTML = '';\n",
              "        dataTable['output_type'] = 'display_data';\n",
              "        await google.colab.output.renderOutput(dataTable, element);\n",
              "        const docLink = document.createElement('div');\n",
              "        docLink.innerHTML = docLinkHtml;\n",
              "        element.appendChild(docLink);\n",
              "      }\n",
              "    </script>\n",
              "  </div>\n",
              "\n",
              "\n",
              "    <div id=\"df-adec491e-19b6-4051-a5c1-c2208dab7c8d\">\n",
              "      <button class=\"colab-df-quickchart\" onclick=\"quickchart('df-adec491e-19b6-4051-a5c1-c2208dab7c8d')\"\n",
              "                title=\"Suggest charts\"\n",
              "                style=\"display:none;\">\n",
              "\n",
              "<svg xmlns=\"http://www.w3.org/2000/svg\" height=\"24px\"viewBox=\"0 0 24 24\"\n",
              "     width=\"24px\">\n",
              "    <g>\n",
              "        <path d=\"M19 3H5c-1.1 0-2 .9-2 2v14c0 1.1.9 2 2 2h14c1.1 0 2-.9 2-2V5c0-1.1-.9-2-2-2zM9 17H7v-7h2v7zm4 0h-2V7h2v10zm4 0h-2v-4h2v4z\"/>\n",
              "    </g>\n",
              "</svg>\n",
              "      </button>\n",
              "\n",
              "<style>\n",
              "  .colab-df-quickchart {\n",
              "      --bg-color: #E8F0FE;\n",
              "      --fill-color: #1967D2;\n",
              "      --hover-bg-color: #E2EBFA;\n",
              "      --hover-fill-color: #174EA6;\n",
              "      --disabled-fill-color: #AAA;\n",
              "      --disabled-bg-color: #DDD;\n",
              "  }\n",
              "\n",
              "  [theme=dark] .colab-df-quickchart {\n",
              "      --bg-color: #3B4455;\n",
              "      --fill-color: #D2E3FC;\n",
              "      --hover-bg-color: #434B5C;\n",
              "      --hover-fill-color: #FFFFFF;\n",
              "      --disabled-bg-color: #3B4455;\n",
              "      --disabled-fill-color: #666;\n",
              "  }\n",
              "\n",
              "  .colab-df-quickchart {\n",
              "    background-color: var(--bg-color);\n",
              "    border: none;\n",
              "    border-radius: 50%;\n",
              "    cursor: pointer;\n",
              "    display: none;\n",
              "    fill: var(--fill-color);\n",
              "    height: 32px;\n",
              "    padding: 0;\n",
              "    width: 32px;\n",
              "  }\n",
              "\n",
              "  .colab-df-quickchart:hover {\n",
              "    background-color: var(--hover-bg-color);\n",
              "    box-shadow: 0 1px 2px rgba(60, 64, 67, 0.3), 0 1px 3px 1px rgba(60, 64, 67, 0.15);\n",
              "    fill: var(--button-hover-fill-color);\n",
              "  }\n",
              "\n",
              "  .colab-df-quickchart-complete:disabled,\n",
              "  .colab-df-quickchart-complete:disabled:hover {\n",
              "    background-color: var(--disabled-bg-color);\n",
              "    fill: var(--disabled-fill-color);\n",
              "    box-shadow: none;\n",
              "  }\n",
              "\n",
              "  .colab-df-spinner {\n",
              "    border: 2px solid var(--fill-color);\n",
              "    border-color: transparent;\n",
              "    border-bottom-color: var(--fill-color);\n",
              "    animation:\n",
              "      spin 1s steps(1) infinite;\n",
              "  }\n",
              "\n",
              "  @keyframes spin {\n",
              "    0% {\n",
              "      border-color: transparent;\n",
              "      border-bottom-color: var(--fill-color);\n",
              "      border-left-color: var(--fill-color);\n",
              "    }\n",
              "    20% {\n",
              "      border-color: transparent;\n",
              "      border-left-color: var(--fill-color);\n",
              "      border-top-color: var(--fill-color);\n",
              "    }\n",
              "    30% {\n",
              "      border-color: transparent;\n",
              "      border-left-color: var(--fill-color);\n",
              "      border-top-color: var(--fill-color);\n",
              "      border-right-color: var(--fill-color);\n",
              "    }\n",
              "    40% {\n",
              "      border-color: transparent;\n",
              "      border-right-color: var(--fill-color);\n",
              "      border-top-color: var(--fill-color);\n",
              "    }\n",
              "    60% {\n",
              "      border-color: transparent;\n",
              "      border-right-color: var(--fill-color);\n",
              "    }\n",
              "    80% {\n",
              "      border-color: transparent;\n",
              "      border-right-color: var(--fill-color);\n",
              "      border-bottom-color: var(--fill-color);\n",
              "    }\n",
              "    90% {\n",
              "      border-color: transparent;\n",
              "      border-bottom-color: var(--fill-color);\n",
              "    }\n",
              "  }\n",
              "</style>\n",
              "\n",
              "      <script>\n",
              "        async function quickchart(key) {\n",
              "          const quickchartButtonEl =\n",
              "            document.querySelector('#' + key + ' button');\n",
              "          quickchartButtonEl.disabled = true;  // To prevent multiple clicks.\n",
              "          quickchartButtonEl.classList.add('colab-df-spinner');\n",
              "          try {\n",
              "            const charts = await google.colab.kernel.invokeFunction(\n",
              "                'suggestCharts', [key], {});\n",
              "          } catch (error) {\n",
              "            console.error('Error during call to suggestCharts:', error);\n",
              "          }\n",
              "          quickchartButtonEl.classList.remove('colab-df-spinner');\n",
              "          quickchartButtonEl.classList.add('colab-df-quickchart-complete');\n",
              "        }\n",
              "        (() => {\n",
              "          let quickchartButtonEl =\n",
              "            document.querySelector('#df-adec491e-19b6-4051-a5c1-c2208dab7c8d button');\n",
              "          quickchartButtonEl.style.display =\n",
              "            google.colab.kernel.accessAllowed ? 'block' : 'none';\n",
              "        })();\n",
              "      </script>\n",
              "    </div>\n",
              "\n",
              "    </div>\n",
              "  </div>\n"
            ],
            "application/vnd.google.colaboratory.intrinsic+json": {
              "type": "dataframe",
              "summary": "{\n  \"name\": \"df[['event_time', 'event_hour']]\",\n  \"rows\": 5,\n  \"fields\": [\n    {\n      \"column\": \"event_time\",\n      \"properties\": {\n        \"dtype\": \"date\",\n        \"min\": \"2019-12-22 12:50:45+00:00\",\n        \"max\": \"2019-12-28 14:32:56+00:00\",\n        \"num_unique_values\": 5,\n        \"samples\": [\n          \"2019-12-22 13:04:49+00:00\",\n          \"2019-12-22 12:53:12+00:00\",\n          \"2019-12-22 13:09:11+00:00\"\n        ],\n        \"semantic_type\": \"\",\n        \"description\": \"\"\n      }\n    },\n    {\n      \"column\": \"event_hour\",\n      \"properties\": {\n        \"dtype\": \"int32\",\n        \"num_unique_values\": 3,\n        \"samples\": [\n          14,\n          13,\n          12\n        ],\n        \"semantic_type\": \"\",\n        \"description\": \"\"\n      }\n    }\n  ]\n}"
            }
          },
          "metadata": {},
          "execution_count": 54
        }
      ]
    },
    {
      "cell_type": "code",
      "source": [
        "# Unique user count by hour/event/product\n",
        "hourly_funnel = df.groupby(['event_hour', 'event_type', 'product_id'])['user_id'].nunique()\n",
        "hourly_funnel_df = hourly_funnel.reset_index(name='user_id')\n",
        "hourly_pvt = pd.pivot_table(\n",
        "    data=hourly_funnel_df, index='event_hour', columns='event_type', values='user_id', aggfunc='sum'\n",
        ")\n",
        "\n",
        "# Keep funnel steps and order\n",
        "hourly_pvt = hourly_pvt[['view', 'cart', 'purchase']]\n",
        "\n",
        "# Calc conversion by hour\n",
        "hourly_pvt['view_to_purchase'] = hourly_pvt['purchase'] / hourly_pvt['view'] * 100\n",
        "hourly_pvt['view_to_cart'] = hourly_pvt['cart'] / hourly_pvt['view'] * 100\n",
        "hourly_pvt['cart_to_purchase'] = hourly_pvt['purchase'] / hourly_pvt['cart'] * 100\n",
        "\n",
        "hourly_pvt.head()"
      ],
      "metadata": {
        "colab": {
          "base_uri": "https://localhost:8080/",
          "height": 238
        },
        "id": "xJihAoi2Zgad",
        "outputId": "6049198d-b414-4762-81ab-f373a69e4877"
      },
      "execution_count": 55,
      "outputs": [
        {
          "output_type": "execute_result",
          "data": {
            "text/plain": [
              "event_type   view  cart  purchase  view_to_purchase  view_to_cart  \\\n",
              "event_hour                                                          \n",
              "0           13875  1455       460          3.315315     10.486486   \n",
              "1           11360  1251       408          3.591549     11.012324   \n",
              "2           12126  1318       353          2.911100     10.869207   \n",
              "3           17018  1797       485          2.849924     10.559408   \n",
              "4           25739  2739       739          2.871129     10.641439   \n",
              "\n",
              "event_type  cart_to_purchase  \n",
              "event_hour                    \n",
              "0                  31.615120  \n",
              "1                  32.613909  \n",
              "2                  26.783005  \n",
              "3                  26.989427  \n",
              "4                  26.980650  "
            ],
            "text/html": [
              "\n",
              "  <div id=\"df-3334a02b-a527-4825-afa1-9dd00d87485e\" class=\"colab-df-container\">\n",
              "    <div>\n",
              "<style scoped>\n",
              "    .dataframe tbody tr th:only-of-type {\n",
              "        vertical-align: middle;\n",
              "    }\n",
              "\n",
              "    .dataframe tbody tr th {\n",
              "        vertical-align: top;\n",
              "    }\n",
              "\n",
              "    .dataframe thead th {\n",
              "        text-align: right;\n",
              "    }\n",
              "</style>\n",
              "<table border=\"1\" class=\"dataframe\">\n",
              "  <thead>\n",
              "    <tr style=\"text-align: right;\">\n",
              "      <th>event_type</th>\n",
              "      <th>view</th>\n",
              "      <th>cart</th>\n",
              "      <th>purchase</th>\n",
              "      <th>view_to_purchase</th>\n",
              "      <th>view_to_cart</th>\n",
              "      <th>cart_to_purchase</th>\n",
              "    </tr>\n",
              "    <tr>\n",
              "      <th>event_hour</th>\n",
              "      <th></th>\n",
              "      <th></th>\n",
              "      <th></th>\n",
              "      <th></th>\n",
              "      <th></th>\n",
              "      <th></th>\n",
              "    </tr>\n",
              "  </thead>\n",
              "  <tbody>\n",
              "    <tr>\n",
              "      <th>0</th>\n",
              "      <td>13875</td>\n",
              "      <td>1455</td>\n",
              "      <td>460</td>\n",
              "      <td>3.315315</td>\n",
              "      <td>10.486486</td>\n",
              "      <td>31.615120</td>\n",
              "    </tr>\n",
              "    <tr>\n",
              "      <th>1</th>\n",
              "      <td>11360</td>\n",
              "      <td>1251</td>\n",
              "      <td>408</td>\n",
              "      <td>3.591549</td>\n",
              "      <td>11.012324</td>\n",
              "      <td>32.613909</td>\n",
              "    </tr>\n",
              "    <tr>\n",
              "      <th>2</th>\n",
              "      <td>12126</td>\n",
              "      <td>1318</td>\n",
              "      <td>353</td>\n",
              "      <td>2.911100</td>\n",
              "      <td>10.869207</td>\n",
              "      <td>26.783005</td>\n",
              "    </tr>\n",
              "    <tr>\n",
              "      <th>3</th>\n",
              "      <td>17018</td>\n",
              "      <td>1797</td>\n",
              "      <td>485</td>\n",
              "      <td>2.849924</td>\n",
              "      <td>10.559408</td>\n",
              "      <td>26.989427</td>\n",
              "    </tr>\n",
              "    <tr>\n",
              "      <th>4</th>\n",
              "      <td>25739</td>\n",
              "      <td>2739</td>\n",
              "      <td>739</td>\n",
              "      <td>2.871129</td>\n",
              "      <td>10.641439</td>\n",
              "      <td>26.980650</td>\n",
              "    </tr>\n",
              "  </tbody>\n",
              "</table>\n",
              "</div>\n",
              "    <div class=\"colab-df-buttons\">\n",
              "\n",
              "  <div class=\"colab-df-container\">\n",
              "    <button class=\"colab-df-convert\" onclick=\"convertToInteractive('df-3334a02b-a527-4825-afa1-9dd00d87485e')\"\n",
              "            title=\"Convert this dataframe to an interactive table.\"\n",
              "            style=\"display:none;\">\n",
              "\n",
              "  <svg xmlns=\"http://www.w3.org/2000/svg\" height=\"24px\" viewBox=\"0 -960 960 960\">\n",
              "    <path d=\"M120-120v-720h720v720H120Zm60-500h600v-160H180v160Zm220 220h160v-160H400v160Zm0 220h160v-160H400v160ZM180-400h160v-160H180v160Zm440 0h160v-160H620v160ZM180-180h160v-160H180v160Zm440 0h160v-160H620v160Z\"/>\n",
              "  </svg>\n",
              "    </button>\n",
              "\n",
              "  <style>\n",
              "    .colab-df-container {\n",
              "      display:flex;\n",
              "      gap: 12px;\n",
              "    }\n",
              "\n",
              "    .colab-df-convert {\n",
              "      background-color: #E8F0FE;\n",
              "      border: none;\n",
              "      border-radius: 50%;\n",
              "      cursor: pointer;\n",
              "      display: none;\n",
              "      fill: #1967D2;\n",
              "      height: 32px;\n",
              "      padding: 0 0 0 0;\n",
              "      width: 32px;\n",
              "    }\n",
              "\n",
              "    .colab-df-convert:hover {\n",
              "      background-color: #E2EBFA;\n",
              "      box-shadow: 0px 1px 2px rgba(60, 64, 67, 0.3), 0px 1px 3px 1px rgba(60, 64, 67, 0.15);\n",
              "      fill: #174EA6;\n",
              "    }\n",
              "\n",
              "    .colab-df-buttons div {\n",
              "      margin-bottom: 4px;\n",
              "    }\n",
              "\n",
              "    [theme=dark] .colab-df-convert {\n",
              "      background-color: #3B4455;\n",
              "      fill: #D2E3FC;\n",
              "    }\n",
              "\n",
              "    [theme=dark] .colab-df-convert:hover {\n",
              "      background-color: #434B5C;\n",
              "      box-shadow: 0px 1px 3px 1px rgba(0, 0, 0, 0.15);\n",
              "      filter: drop-shadow(0px 1px 2px rgba(0, 0, 0, 0.3));\n",
              "      fill: #FFFFFF;\n",
              "    }\n",
              "  </style>\n",
              "\n",
              "    <script>\n",
              "      const buttonEl =\n",
              "        document.querySelector('#df-3334a02b-a527-4825-afa1-9dd00d87485e button.colab-df-convert');\n",
              "      buttonEl.style.display =\n",
              "        google.colab.kernel.accessAllowed ? 'block' : 'none';\n",
              "\n",
              "      async function convertToInteractive(key) {\n",
              "        const element = document.querySelector('#df-3334a02b-a527-4825-afa1-9dd00d87485e');\n",
              "        const dataTable =\n",
              "          await google.colab.kernel.invokeFunction('convertToInteractive',\n",
              "                                                    [key], {});\n",
              "        if (!dataTable) return;\n",
              "\n",
              "        const docLinkHtml = 'Like what you see? Visit the ' +\n",
              "          '<a target=\"_blank\" href=https://colab.research.google.com/notebooks/data_table.ipynb>data table notebook</a>'\n",
              "          + ' to learn more about interactive tables.';\n",
              "        element.innerHTML = '';\n",
              "        dataTable['output_type'] = 'display_data';\n",
              "        await google.colab.output.renderOutput(dataTable, element);\n",
              "        const docLink = document.createElement('div');\n",
              "        docLink.innerHTML = docLinkHtml;\n",
              "        element.appendChild(docLink);\n",
              "      }\n",
              "    </script>\n",
              "  </div>\n",
              "\n",
              "\n",
              "    <div id=\"df-160c8f21-3434-4e24-9a47-0e483af1ad88\">\n",
              "      <button class=\"colab-df-quickchart\" onclick=\"quickchart('df-160c8f21-3434-4e24-9a47-0e483af1ad88')\"\n",
              "                title=\"Suggest charts\"\n",
              "                style=\"display:none;\">\n",
              "\n",
              "<svg xmlns=\"http://www.w3.org/2000/svg\" height=\"24px\"viewBox=\"0 0 24 24\"\n",
              "     width=\"24px\">\n",
              "    <g>\n",
              "        <path d=\"M19 3H5c-1.1 0-2 .9-2 2v14c0 1.1.9 2 2 2h14c1.1 0 2-.9 2-2V5c0-1.1-.9-2-2-2zM9 17H7v-7h2v7zm4 0h-2V7h2v10zm4 0h-2v-4h2v4z\"/>\n",
              "    </g>\n",
              "</svg>\n",
              "      </button>\n",
              "\n",
              "<style>\n",
              "  .colab-df-quickchart {\n",
              "      --bg-color: #E8F0FE;\n",
              "      --fill-color: #1967D2;\n",
              "      --hover-bg-color: #E2EBFA;\n",
              "      --hover-fill-color: #174EA6;\n",
              "      --disabled-fill-color: #AAA;\n",
              "      --disabled-bg-color: #DDD;\n",
              "  }\n",
              "\n",
              "  [theme=dark] .colab-df-quickchart {\n",
              "      --bg-color: #3B4455;\n",
              "      --fill-color: #D2E3FC;\n",
              "      --hover-bg-color: #434B5C;\n",
              "      --hover-fill-color: #FFFFFF;\n",
              "      --disabled-bg-color: #3B4455;\n",
              "      --disabled-fill-color: #666;\n",
              "  }\n",
              "\n",
              "  .colab-df-quickchart {\n",
              "    background-color: var(--bg-color);\n",
              "    border: none;\n",
              "    border-radius: 50%;\n",
              "    cursor: pointer;\n",
              "    display: none;\n",
              "    fill: var(--fill-color);\n",
              "    height: 32px;\n",
              "    padding: 0;\n",
              "    width: 32px;\n",
              "  }\n",
              "\n",
              "  .colab-df-quickchart:hover {\n",
              "    background-color: var(--hover-bg-color);\n",
              "    box-shadow: 0 1px 2px rgba(60, 64, 67, 0.3), 0 1px 3px 1px rgba(60, 64, 67, 0.15);\n",
              "    fill: var(--button-hover-fill-color);\n",
              "  }\n",
              "\n",
              "  .colab-df-quickchart-complete:disabled,\n",
              "  .colab-df-quickchart-complete:disabled:hover {\n",
              "    background-color: var(--disabled-bg-color);\n",
              "    fill: var(--disabled-fill-color);\n",
              "    box-shadow: none;\n",
              "  }\n",
              "\n",
              "  .colab-df-spinner {\n",
              "    border: 2px solid var(--fill-color);\n",
              "    border-color: transparent;\n",
              "    border-bottom-color: var(--fill-color);\n",
              "    animation:\n",
              "      spin 1s steps(1) infinite;\n",
              "  }\n",
              "\n",
              "  @keyframes spin {\n",
              "    0% {\n",
              "      border-color: transparent;\n",
              "      border-bottom-color: var(--fill-color);\n",
              "      border-left-color: var(--fill-color);\n",
              "    }\n",
              "    20% {\n",
              "      border-color: transparent;\n",
              "      border-left-color: var(--fill-color);\n",
              "      border-top-color: var(--fill-color);\n",
              "    }\n",
              "    30% {\n",
              "      border-color: transparent;\n",
              "      border-left-color: var(--fill-color);\n",
              "      border-top-color: var(--fill-color);\n",
              "      border-right-color: var(--fill-color);\n",
              "    }\n",
              "    40% {\n",
              "      border-color: transparent;\n",
              "      border-right-color: var(--fill-color);\n",
              "      border-top-color: var(--fill-color);\n",
              "    }\n",
              "    60% {\n",
              "      border-color: transparent;\n",
              "      border-right-color: var(--fill-color);\n",
              "    }\n",
              "    80% {\n",
              "      border-color: transparent;\n",
              "      border-right-color: var(--fill-color);\n",
              "      border-bottom-color: var(--fill-color);\n",
              "    }\n",
              "    90% {\n",
              "      border-color: transparent;\n",
              "      border-bottom-color: var(--fill-color);\n",
              "    }\n",
              "  }\n",
              "</style>\n",
              "\n",
              "      <script>\n",
              "        async function quickchart(key) {\n",
              "          const quickchartButtonEl =\n",
              "            document.querySelector('#' + key + ' button');\n",
              "          quickchartButtonEl.disabled = true;  // To prevent multiple clicks.\n",
              "          quickchartButtonEl.classList.add('colab-df-spinner');\n",
              "          try {\n",
              "            const charts = await google.colab.kernel.invokeFunction(\n",
              "                'suggestCharts', [key], {});\n",
              "          } catch (error) {\n",
              "            console.error('Error during call to suggestCharts:', error);\n",
              "          }\n",
              "          quickchartButtonEl.classList.remove('colab-df-spinner');\n",
              "          quickchartButtonEl.classList.add('colab-df-quickchart-complete');\n",
              "        }\n",
              "        (() => {\n",
              "          let quickchartButtonEl =\n",
              "            document.querySelector('#df-160c8f21-3434-4e24-9a47-0e483af1ad88 button');\n",
              "          quickchartButtonEl.style.display =\n",
              "            google.colab.kernel.accessAllowed ? 'block' : 'none';\n",
              "        })();\n",
              "      </script>\n",
              "    </div>\n",
              "\n",
              "    </div>\n",
              "  </div>\n"
            ],
            "application/vnd.google.colaboratory.intrinsic+json": {
              "type": "dataframe",
              "variable_name": "hourly_pvt",
              "summary": "{\n  \"name\": \"hourly_pvt\",\n  \"rows\": 24,\n  \"fields\": [\n    {\n      \"column\": \"event_hour\",\n      \"properties\": {\n        \"dtype\": \"int32\",\n        \"num_unique_values\": 24,\n        \"samples\": [\n          8,\n          16,\n          0\n        ],\n        \"semantic_type\": \"\",\n        \"description\": \"\"\n      }\n    },\n    {\n      \"column\": \"view\",\n      \"properties\": {\n        \"dtype\": \"number\",\n        \"std\": 26451,\n        \"min\": 11360,\n        \"max\": 87940,\n        \"num_unique_values\": 24,\n        \"samples\": [\n          69661,\n          71184,\n          13875\n        ],\n        \"semantic_type\": \"\",\n        \"description\": \"\"\n      }\n    },\n    {\n      \"column\": \"cart\",\n      \"properties\": {\n        \"dtype\": \"number\",\n        \"std\": 3147,\n        \"min\": 1251,\n        \"max\": 10459,\n        \"num_unique_values\": 24,\n        \"samples\": [\n          7966,\n          8037,\n          1455\n        ],\n        \"semantic_type\": \"\",\n        \"description\": \"\"\n      }\n    },\n    {\n      \"column\": \"purchase\",\n      \"properties\": {\n        \"dtype\": \"number\",\n        \"std\": 1173,\n        \"min\": 353,\n        \"max\": 3806,\n        \"num_unique_values\": 24,\n        \"samples\": [\n          3131,\n          2762,\n          460\n        ],\n        \"semantic_type\": \"\",\n        \"description\": \"\"\n      }\n    },\n    {\n      \"column\": \"view_to_purchase\",\n      \"properties\": {\n        \"dtype\": \"number\",\n        \"std\": 0.546494407392058,\n        \"min\": 2.849923610294982,\n        \"max\": 4.8622821810005625,\n        \"num_unique_values\": 24,\n        \"samples\": [\n          4.494623964628701,\n          3.8800854124522366,\n          3.3153153153153156\n        ],\n        \"semantic_type\": \"\",\n        \"description\": \"\"\n      }\n    },\n    {\n      \"column\": \"view_to_cart\",\n      \"properties\": {\n        \"dtype\": \"number\",\n        \"std\": 0.5635859275259277,\n        \"min\": 10.486486486486486,\n        \"max\": 12.45654794137684,\n        \"num_unique_values\": 24,\n        \"samples\": [\n          11.43537991128465,\n          11.290458530006743,\n          10.486486486486486\n        ],\n        \"semantic_type\": \"\",\n        \"description\": \"\"\n      }\n    },\n    {\n      \"column\": \"cart_to_purchase\",\n      \"properties\": {\n        \"dtype\": \"number\",\n        \"std\": 3.894473474398819,\n        \"min\": 26.783004552352047,\n        \"max\": 40.867604423923545,\n        \"num_unique_values\": 24,\n        \"samples\": [\n          39.30454431333166,\n          34.36605698643773,\n          31.615120274914087\n        ],\n        \"semantic_type\": \"\",\n        \"description\": \"\"\n      }\n    }\n  ]\n}"
            }
          },
          "metadata": {},
          "execution_count": 55
        }
      ]
    },
    {
      "cell_type": "code",
      "source": [
        "# Hourly trends - number of views\n",
        "fig = px.line(hourly_pvt.reset_index(), x='event_hour', y='view', line_shape='spline', color_discrete_sequence=px.colors.sequential.Plasma)\n",
        "fig.update_layout(width=700, height=400)"
      ],
      "metadata": {
        "colab": {
          "base_uri": "https://localhost:8080/",
          "height": 417
        },
        "id": "s4ehEKPRZmEj",
        "outputId": "b89c42e0-166f-43fe-af7c-dba917456ffe"
      },
      "execution_count": 56,
      "outputs": [
        {
          "output_type": "display_data",
          "data": {
            "application/vnd.plotly.v1+json": {
              "data": [
                {
                  "hovertemplate": "event_hour=%{x}<br>view=%{y}<extra></extra>",
                  "legendgroup": "",
                  "line": {
                    "color": "#0d0887",
                    "dash": "solid",
                    "shape": "spline"
                  },
                  "marker": {
                    "symbol": "circle"
                  },
                  "mode": "lines",
                  "name": "",
                  "orientation": "v",
                  "showlegend": false,
                  "x": {
                    "dtype": "i4",
                    "bdata": "AAAAAAEAAAACAAAAAwAAAAQAAAAFAAAABgAAAAcAAAAIAAAACQAAAAoAAAALAAAADAAAAA0AAAAOAAAADwAAABAAAAARAAAAEgAAABMAAAAUAAAAFQAAABYAAAAXAAAA"
                  },
                  "xaxis": "x",
                  "y": {
                    "dtype": "i4",
                    "bdata": "MzYAAGAsAABeLwAAekIAAItkAAC6lAAAvskAAMnzAAAdEAEA4h0BANgrAQDEMQEAmDQBAH8yAQBdHgEAJBYBABAWAQA3JAEA1TsBAIRXAQCkOQEAn98AAP6EAAAMTQAA"
                  },
                  "yaxis": "y",
                  "type": "scatter"
                }
              ],
              "layout": {
                "template": {
                  "data": {
                    "histogram2dcontour": [
                      {
                        "type": "histogram2dcontour",
                        "colorbar": {
                          "outlinewidth": 0,
                          "ticks": ""
                        },
                        "colorscale": [
                          [
                            0,
                            "#0d0887"
                          ],
                          [
                            0.1111111111111111,
                            "#46039f"
                          ],
                          [
                            0.2222222222222222,
                            "#7201a8"
                          ],
                          [
                            0.3333333333333333,
                            "#9c179e"
                          ],
                          [
                            0.4444444444444444,
                            "#bd3786"
                          ],
                          [
                            0.5555555555555556,
                            "#d8576b"
                          ],
                          [
                            0.6666666666666666,
                            "#ed7953"
                          ],
                          [
                            0.7777777777777778,
                            "#fb9f3a"
                          ],
                          [
                            0.8888888888888888,
                            "#fdca26"
                          ],
                          [
                            1,
                            "#f0f921"
                          ]
                        ]
                      }
                    ],
                    "choropleth": [
                      {
                        "type": "choropleth",
                        "colorbar": {
                          "outlinewidth": 0,
                          "ticks": ""
                        }
                      }
                    ],
                    "histogram2d": [
                      {
                        "type": "histogram2d",
                        "colorbar": {
                          "outlinewidth": 0,
                          "ticks": ""
                        },
                        "colorscale": [
                          [
                            0,
                            "#0d0887"
                          ],
                          [
                            0.1111111111111111,
                            "#46039f"
                          ],
                          [
                            0.2222222222222222,
                            "#7201a8"
                          ],
                          [
                            0.3333333333333333,
                            "#9c179e"
                          ],
                          [
                            0.4444444444444444,
                            "#bd3786"
                          ],
                          [
                            0.5555555555555556,
                            "#d8576b"
                          ],
                          [
                            0.6666666666666666,
                            "#ed7953"
                          ],
                          [
                            0.7777777777777778,
                            "#fb9f3a"
                          ],
                          [
                            0.8888888888888888,
                            "#fdca26"
                          ],
                          [
                            1,
                            "#f0f921"
                          ]
                        ]
                      }
                    ],
                    "heatmap": [
                      {
                        "type": "heatmap",
                        "colorbar": {
                          "outlinewidth": 0,
                          "ticks": ""
                        },
                        "colorscale": [
                          [
                            0,
                            "#0d0887"
                          ],
                          [
                            0.1111111111111111,
                            "#46039f"
                          ],
                          [
                            0.2222222222222222,
                            "#7201a8"
                          ],
                          [
                            0.3333333333333333,
                            "#9c179e"
                          ],
                          [
                            0.4444444444444444,
                            "#bd3786"
                          ],
                          [
                            0.5555555555555556,
                            "#d8576b"
                          ],
                          [
                            0.6666666666666666,
                            "#ed7953"
                          ],
                          [
                            0.7777777777777778,
                            "#fb9f3a"
                          ],
                          [
                            0.8888888888888888,
                            "#fdca26"
                          ],
                          [
                            1,
                            "#f0f921"
                          ]
                        ]
                      }
                    ],
                    "contourcarpet": [
                      {
                        "type": "contourcarpet",
                        "colorbar": {
                          "outlinewidth": 0,
                          "ticks": ""
                        }
                      }
                    ],
                    "contour": [
                      {
                        "type": "contour",
                        "colorbar": {
                          "outlinewidth": 0,
                          "ticks": ""
                        },
                        "colorscale": [
                          [
                            0,
                            "#0d0887"
                          ],
                          [
                            0.1111111111111111,
                            "#46039f"
                          ],
                          [
                            0.2222222222222222,
                            "#7201a8"
                          ],
                          [
                            0.3333333333333333,
                            "#9c179e"
                          ],
                          [
                            0.4444444444444444,
                            "#bd3786"
                          ],
                          [
                            0.5555555555555556,
                            "#d8576b"
                          ],
                          [
                            0.6666666666666666,
                            "#ed7953"
                          ],
                          [
                            0.7777777777777778,
                            "#fb9f3a"
                          ],
                          [
                            0.8888888888888888,
                            "#fdca26"
                          ],
                          [
                            1,
                            "#f0f921"
                          ]
                        ]
                      }
                    ],
                    "surface": [
                      {
                        "type": "surface",
                        "colorbar": {
                          "outlinewidth": 0,
                          "ticks": ""
                        },
                        "colorscale": [
                          [
                            0,
                            "#0d0887"
                          ],
                          [
                            0.1111111111111111,
                            "#46039f"
                          ],
                          [
                            0.2222222222222222,
                            "#7201a8"
                          ],
                          [
                            0.3333333333333333,
                            "#9c179e"
                          ],
                          [
                            0.4444444444444444,
                            "#bd3786"
                          ],
                          [
                            0.5555555555555556,
                            "#d8576b"
                          ],
                          [
                            0.6666666666666666,
                            "#ed7953"
                          ],
                          [
                            0.7777777777777778,
                            "#fb9f3a"
                          ],
                          [
                            0.8888888888888888,
                            "#fdca26"
                          ],
                          [
                            1,
                            "#f0f921"
                          ]
                        ]
                      }
                    ],
                    "mesh3d": [
                      {
                        "type": "mesh3d",
                        "colorbar": {
                          "outlinewidth": 0,
                          "ticks": ""
                        }
                      }
                    ],
                    "scatter": [
                      {
                        "fillpattern": {
                          "fillmode": "overlay",
                          "size": 10,
                          "solidity": 0.2
                        },
                        "type": "scatter"
                      }
                    ],
                    "parcoords": [
                      {
                        "type": "parcoords",
                        "line": {
                          "colorbar": {
                            "outlinewidth": 0,
                            "ticks": ""
                          }
                        }
                      }
                    ],
                    "scatterpolargl": [
                      {
                        "type": "scatterpolargl",
                        "marker": {
                          "colorbar": {
                            "outlinewidth": 0,
                            "ticks": ""
                          }
                        }
                      }
                    ],
                    "bar": [
                      {
                        "error_x": {
                          "color": "#2a3f5f"
                        },
                        "error_y": {
                          "color": "#2a3f5f"
                        },
                        "marker": {
                          "line": {
                            "color": "#E5ECF6",
                            "width": 0.5
                          },
                          "pattern": {
                            "fillmode": "overlay",
                            "size": 10,
                            "solidity": 0.2
                          }
                        },
                        "type": "bar"
                      }
                    ],
                    "scattergeo": [
                      {
                        "type": "scattergeo",
                        "marker": {
                          "colorbar": {
                            "outlinewidth": 0,
                            "ticks": ""
                          }
                        }
                      }
                    ],
                    "scatterpolar": [
                      {
                        "type": "scatterpolar",
                        "marker": {
                          "colorbar": {
                            "outlinewidth": 0,
                            "ticks": ""
                          }
                        }
                      }
                    ],
                    "histogram": [
                      {
                        "marker": {
                          "pattern": {
                            "fillmode": "overlay",
                            "size": 10,
                            "solidity": 0.2
                          }
                        },
                        "type": "histogram"
                      }
                    ],
                    "scattergl": [
                      {
                        "type": "scattergl",
                        "marker": {
                          "colorbar": {
                            "outlinewidth": 0,
                            "ticks": ""
                          }
                        }
                      }
                    ],
                    "scatter3d": [
                      {
                        "type": "scatter3d",
                        "line": {
                          "colorbar": {
                            "outlinewidth": 0,
                            "ticks": ""
                          }
                        },
                        "marker": {
                          "colorbar": {
                            "outlinewidth": 0,
                            "ticks": ""
                          }
                        }
                      }
                    ],
                    "scattermap": [
                      {
                        "type": "scattermap",
                        "marker": {
                          "colorbar": {
                            "outlinewidth": 0,
                            "ticks": ""
                          }
                        }
                      }
                    ],
                    "scattermapbox": [
                      {
                        "type": "scattermapbox",
                        "marker": {
                          "colorbar": {
                            "outlinewidth": 0,
                            "ticks": ""
                          }
                        }
                      }
                    ],
                    "scatterternary": [
                      {
                        "type": "scatterternary",
                        "marker": {
                          "colorbar": {
                            "outlinewidth": 0,
                            "ticks": ""
                          }
                        }
                      }
                    ],
                    "scattercarpet": [
                      {
                        "type": "scattercarpet",
                        "marker": {
                          "colorbar": {
                            "outlinewidth": 0,
                            "ticks": ""
                          }
                        }
                      }
                    ],
                    "carpet": [
                      {
                        "aaxis": {
                          "endlinecolor": "#2a3f5f",
                          "gridcolor": "white",
                          "linecolor": "white",
                          "minorgridcolor": "white",
                          "startlinecolor": "#2a3f5f"
                        },
                        "baxis": {
                          "endlinecolor": "#2a3f5f",
                          "gridcolor": "white",
                          "linecolor": "white",
                          "minorgridcolor": "white",
                          "startlinecolor": "#2a3f5f"
                        },
                        "type": "carpet"
                      }
                    ],
                    "table": [
                      {
                        "cells": {
                          "fill": {
                            "color": "#EBF0F8"
                          },
                          "line": {
                            "color": "white"
                          }
                        },
                        "header": {
                          "fill": {
                            "color": "#C8D4E3"
                          },
                          "line": {
                            "color": "white"
                          }
                        },
                        "type": "table"
                      }
                    ],
                    "barpolar": [
                      {
                        "marker": {
                          "line": {
                            "color": "#E5ECF6",
                            "width": 0.5
                          },
                          "pattern": {
                            "fillmode": "overlay",
                            "size": 10,
                            "solidity": 0.2
                          }
                        },
                        "type": "barpolar"
                      }
                    ],
                    "pie": [
                      {
                        "automargin": true,
                        "type": "pie"
                      }
                    ]
                  },
                  "layout": {
                    "autotypenumbers": "strict",
                    "colorway": [
                      "#636efa",
                      "#EF553B",
                      "#00cc96",
                      "#ab63fa",
                      "#FFA15A",
                      "#19d3f3",
                      "#FF6692",
                      "#B6E880",
                      "#FF97FF",
                      "#FECB52"
                    ],
                    "font": {
                      "color": "#2a3f5f"
                    },
                    "hovermode": "closest",
                    "hoverlabel": {
                      "align": "left"
                    },
                    "paper_bgcolor": "white",
                    "plot_bgcolor": "#E5ECF6",
                    "polar": {
                      "bgcolor": "#E5ECF6",
                      "angularaxis": {
                        "gridcolor": "white",
                        "linecolor": "white",
                        "ticks": ""
                      },
                      "radialaxis": {
                        "gridcolor": "white",
                        "linecolor": "white",
                        "ticks": ""
                      }
                    },
                    "ternary": {
                      "bgcolor": "#E5ECF6",
                      "aaxis": {
                        "gridcolor": "white",
                        "linecolor": "white",
                        "ticks": ""
                      },
                      "baxis": {
                        "gridcolor": "white",
                        "linecolor": "white",
                        "ticks": ""
                      },
                      "caxis": {
                        "gridcolor": "white",
                        "linecolor": "white",
                        "ticks": ""
                      }
                    },
                    "coloraxis": {
                      "colorbar": {
                        "outlinewidth": 0,
                        "ticks": ""
                      }
                    },
                    "colorscale": {
                      "sequential": [
                        [
                          0,
                          "#0d0887"
                        ],
                        [
                          0.1111111111111111,
                          "#46039f"
                        ],
                        [
                          0.2222222222222222,
                          "#7201a8"
                        ],
                        [
                          0.3333333333333333,
                          "#9c179e"
                        ],
                        [
                          0.4444444444444444,
                          "#bd3786"
                        ],
                        [
                          0.5555555555555556,
                          "#d8576b"
                        ],
                        [
                          0.6666666666666666,
                          "#ed7953"
                        ],
                        [
                          0.7777777777777778,
                          "#fb9f3a"
                        ],
                        [
                          0.8888888888888888,
                          "#fdca26"
                        ],
                        [
                          1,
                          "#f0f921"
                        ]
                      ],
                      "sequentialminus": [
                        [
                          0,
                          "#0d0887"
                        ],
                        [
                          0.1111111111111111,
                          "#46039f"
                        ],
                        [
                          0.2222222222222222,
                          "#7201a8"
                        ],
                        [
                          0.3333333333333333,
                          "#9c179e"
                        ],
                        [
                          0.4444444444444444,
                          "#bd3786"
                        ],
                        [
                          0.5555555555555556,
                          "#d8576b"
                        ],
                        [
                          0.6666666666666666,
                          "#ed7953"
                        ],
                        [
                          0.7777777777777778,
                          "#fb9f3a"
                        ],
                        [
                          0.8888888888888888,
                          "#fdca26"
                        ],
                        [
                          1,
                          "#f0f921"
                        ]
                      ],
                      "diverging": [
                        [
                          0,
                          "#8e0152"
                        ],
                        [
                          0.1,
                          "#c51b7d"
                        ],
                        [
                          0.2,
                          "#de77ae"
                        ],
                        [
                          0.3,
                          "#f1b6da"
                        ],
                        [
                          0.4,
                          "#fde0ef"
                        ],
                        [
                          0.5,
                          "#f7f7f7"
                        ],
                        [
                          0.6,
                          "#e6f5d0"
                        ],
                        [
                          0.7,
                          "#b8e186"
                        ],
                        [
                          0.8,
                          "#7fbc41"
                        ],
                        [
                          0.9,
                          "#4d9221"
                        ],
                        [
                          1,
                          "#276419"
                        ]
                      ]
                    },
                    "xaxis": {
                      "gridcolor": "white",
                      "linecolor": "white",
                      "ticks": "",
                      "title": {
                        "standoff": 15
                      },
                      "zerolinecolor": "white",
                      "automargin": true,
                      "zerolinewidth": 2
                    },
                    "yaxis": {
                      "gridcolor": "white",
                      "linecolor": "white",
                      "ticks": "",
                      "title": {
                        "standoff": 15
                      },
                      "zerolinecolor": "white",
                      "automargin": true,
                      "zerolinewidth": 2
                    },
                    "scene": {
                      "xaxis": {
                        "backgroundcolor": "#E5ECF6",
                        "gridcolor": "white",
                        "linecolor": "white",
                        "showbackground": true,
                        "ticks": "",
                        "zerolinecolor": "white",
                        "gridwidth": 2
                      },
                      "yaxis": {
                        "backgroundcolor": "#E5ECF6",
                        "gridcolor": "white",
                        "linecolor": "white",
                        "showbackground": true,
                        "ticks": "",
                        "zerolinecolor": "white",
                        "gridwidth": 2
                      },
                      "zaxis": {
                        "backgroundcolor": "#E5ECF6",
                        "gridcolor": "white",
                        "linecolor": "white",
                        "showbackground": true,
                        "ticks": "",
                        "zerolinecolor": "white",
                        "gridwidth": 2
                      }
                    },
                    "shapedefaults": {
                      "line": {
                        "color": "#2a3f5f"
                      }
                    },
                    "annotationdefaults": {
                      "arrowcolor": "#2a3f5f",
                      "arrowhead": 0,
                      "arrowwidth": 1
                    },
                    "geo": {
                      "bgcolor": "white",
                      "landcolor": "#E5ECF6",
                      "subunitcolor": "white",
                      "showland": true,
                      "showlakes": true,
                      "lakecolor": "white"
                    },
                    "title": {
                      "x": 0.05
                    },
                    "mapbox": {
                      "style": "light"
                    }
                  }
                },
                "xaxis": {
                  "anchor": "y",
                  "domain": [
                    0,
                    1
                  ],
                  "title": {
                    "text": "event_hour"
                  }
                },
                "yaxis": {
                  "anchor": "x",
                  "domain": [
                    0,
                    1
                  ],
                  "title": {
                    "text": "view"
                  }
                },
                "legend": {
                  "tracegroupgap": 0
                },
                "margin": {
                  "t": 60
                },
                "width": 700,
                "height": 400
              },
              "config": {
                "plotlyServerURL": "https://plot.ly"
              }
            },
            "text/html": [
              "<div>            <script src=\"https://cdnjs.cloudflare.com/ajax/libs/mathjax/2.7.5/MathJax.js?config=TeX-AMS-MML_SVG\"></script><script type=\"text/javascript\">if (window.MathJax && window.MathJax.Hub && window.MathJax.Hub.Config) {window.MathJax.Hub.Config({SVG: {font: \"STIX-Web\"}});}</script>                <script type=\"text/javascript\">window.PlotlyConfig = {MathJaxConfig: 'local'};</script>\n",
              "        <script charset=\"utf-8\" src=\"https://cdn.plot.ly/plotly-3.0.1.min.js\" integrity=\"sha256-oy6Be7Eh6eiQFs5M7oXuPxxm9qbJXEtTpfSI93dW16Q=\" crossorigin=\"anonymous\"></script>                <div id=\"d30f3ccc-098a-48e9-840b-d187633d6df7\" class=\"plotly-graph-div\" style=\"height:400px; width:700px;\"></div>            <script type=\"text/javascript\">                window.PLOTLYENV=window.PLOTLYENV || {};                                if (document.getElementById(\"d30f3ccc-098a-48e9-840b-d187633d6df7\")) {                    Plotly.newPlot(                        \"d30f3ccc-098a-48e9-840b-d187633d6df7\",                        [{\"hovertemplate\":\"event_hour=%{x}\\u003cbr\\u003eview=%{y}\\u003cextra\\u003e\\u003c\\u002fextra\\u003e\",\"legendgroup\":\"\",\"line\":{\"color\":\"#0d0887\",\"dash\":\"solid\",\"shape\":\"spline\"},\"marker\":{\"symbol\":\"circle\"},\"mode\":\"lines\",\"name\":\"\",\"orientation\":\"v\",\"showlegend\":false,\"x\":{\"dtype\":\"i4\",\"bdata\":\"AAAAAAEAAAACAAAAAwAAAAQAAAAFAAAABgAAAAcAAAAIAAAACQAAAAoAAAALAAAADAAAAA0AAAAOAAAADwAAABAAAAARAAAAEgAAABMAAAAUAAAAFQAAABYAAAAXAAAA\"},\"xaxis\":\"x\",\"y\":{\"dtype\":\"i4\",\"bdata\":\"MzYAAGAsAABeLwAAekIAAItkAAC6lAAAvskAAMnzAAAdEAEA4h0BANgrAQDEMQEAmDQBAH8yAQBdHgEAJBYBABAWAQA3JAEA1TsBAIRXAQCkOQEAn98AAP6EAAAMTQAA\"},\"yaxis\":\"y\",\"type\":\"scatter\"}],                        {\"template\":{\"data\":{\"histogram2dcontour\":[{\"type\":\"histogram2dcontour\",\"colorbar\":{\"outlinewidth\":0,\"ticks\":\"\"},\"colorscale\":[[0.0,\"#0d0887\"],[0.1111111111111111,\"#46039f\"],[0.2222222222222222,\"#7201a8\"],[0.3333333333333333,\"#9c179e\"],[0.4444444444444444,\"#bd3786\"],[0.5555555555555556,\"#d8576b\"],[0.6666666666666666,\"#ed7953\"],[0.7777777777777778,\"#fb9f3a\"],[0.8888888888888888,\"#fdca26\"],[1.0,\"#f0f921\"]]}],\"choropleth\":[{\"type\":\"choropleth\",\"colorbar\":{\"outlinewidth\":0,\"ticks\":\"\"}}],\"histogram2d\":[{\"type\":\"histogram2d\",\"colorbar\":{\"outlinewidth\":0,\"ticks\":\"\"},\"colorscale\":[[0.0,\"#0d0887\"],[0.1111111111111111,\"#46039f\"],[0.2222222222222222,\"#7201a8\"],[0.3333333333333333,\"#9c179e\"],[0.4444444444444444,\"#bd3786\"],[0.5555555555555556,\"#d8576b\"],[0.6666666666666666,\"#ed7953\"],[0.7777777777777778,\"#fb9f3a\"],[0.8888888888888888,\"#fdca26\"],[1.0,\"#f0f921\"]]}],\"heatmap\":[{\"type\":\"heatmap\",\"colorbar\":{\"outlinewidth\":0,\"ticks\":\"\"},\"colorscale\":[[0.0,\"#0d0887\"],[0.1111111111111111,\"#46039f\"],[0.2222222222222222,\"#7201a8\"],[0.3333333333333333,\"#9c179e\"],[0.4444444444444444,\"#bd3786\"],[0.5555555555555556,\"#d8576b\"],[0.6666666666666666,\"#ed7953\"],[0.7777777777777778,\"#fb9f3a\"],[0.8888888888888888,\"#fdca26\"],[1.0,\"#f0f921\"]]}],\"contourcarpet\":[{\"type\":\"contourcarpet\",\"colorbar\":{\"outlinewidth\":0,\"ticks\":\"\"}}],\"contour\":[{\"type\":\"contour\",\"colorbar\":{\"outlinewidth\":0,\"ticks\":\"\"},\"colorscale\":[[0.0,\"#0d0887\"],[0.1111111111111111,\"#46039f\"],[0.2222222222222222,\"#7201a8\"],[0.3333333333333333,\"#9c179e\"],[0.4444444444444444,\"#bd3786\"],[0.5555555555555556,\"#d8576b\"],[0.6666666666666666,\"#ed7953\"],[0.7777777777777778,\"#fb9f3a\"],[0.8888888888888888,\"#fdca26\"],[1.0,\"#f0f921\"]]}],\"surface\":[{\"type\":\"surface\",\"colorbar\":{\"outlinewidth\":0,\"ticks\":\"\"},\"colorscale\":[[0.0,\"#0d0887\"],[0.1111111111111111,\"#46039f\"],[0.2222222222222222,\"#7201a8\"],[0.3333333333333333,\"#9c179e\"],[0.4444444444444444,\"#bd3786\"],[0.5555555555555556,\"#d8576b\"],[0.6666666666666666,\"#ed7953\"],[0.7777777777777778,\"#fb9f3a\"],[0.8888888888888888,\"#fdca26\"],[1.0,\"#f0f921\"]]}],\"mesh3d\":[{\"type\":\"mesh3d\",\"colorbar\":{\"outlinewidth\":0,\"ticks\":\"\"}}],\"scatter\":[{\"fillpattern\":{\"fillmode\":\"overlay\",\"size\":10,\"solidity\":0.2},\"type\":\"scatter\"}],\"parcoords\":[{\"type\":\"parcoords\",\"line\":{\"colorbar\":{\"outlinewidth\":0,\"ticks\":\"\"}}}],\"scatterpolargl\":[{\"type\":\"scatterpolargl\",\"marker\":{\"colorbar\":{\"outlinewidth\":0,\"ticks\":\"\"}}}],\"bar\":[{\"error_x\":{\"color\":\"#2a3f5f\"},\"error_y\":{\"color\":\"#2a3f5f\"},\"marker\":{\"line\":{\"color\":\"#E5ECF6\",\"width\":0.5},\"pattern\":{\"fillmode\":\"overlay\",\"size\":10,\"solidity\":0.2}},\"type\":\"bar\"}],\"scattergeo\":[{\"type\":\"scattergeo\",\"marker\":{\"colorbar\":{\"outlinewidth\":0,\"ticks\":\"\"}}}],\"scatterpolar\":[{\"type\":\"scatterpolar\",\"marker\":{\"colorbar\":{\"outlinewidth\":0,\"ticks\":\"\"}}}],\"histogram\":[{\"marker\":{\"pattern\":{\"fillmode\":\"overlay\",\"size\":10,\"solidity\":0.2}},\"type\":\"histogram\"}],\"scattergl\":[{\"type\":\"scattergl\",\"marker\":{\"colorbar\":{\"outlinewidth\":0,\"ticks\":\"\"}}}],\"scatter3d\":[{\"type\":\"scatter3d\",\"line\":{\"colorbar\":{\"outlinewidth\":0,\"ticks\":\"\"}},\"marker\":{\"colorbar\":{\"outlinewidth\":0,\"ticks\":\"\"}}}],\"scattermap\":[{\"type\":\"scattermap\",\"marker\":{\"colorbar\":{\"outlinewidth\":0,\"ticks\":\"\"}}}],\"scattermapbox\":[{\"type\":\"scattermapbox\",\"marker\":{\"colorbar\":{\"outlinewidth\":0,\"ticks\":\"\"}}}],\"scatterternary\":[{\"type\":\"scatterternary\",\"marker\":{\"colorbar\":{\"outlinewidth\":0,\"ticks\":\"\"}}}],\"scattercarpet\":[{\"type\":\"scattercarpet\",\"marker\":{\"colorbar\":{\"outlinewidth\":0,\"ticks\":\"\"}}}],\"carpet\":[{\"aaxis\":{\"endlinecolor\":\"#2a3f5f\",\"gridcolor\":\"white\",\"linecolor\":\"white\",\"minorgridcolor\":\"white\",\"startlinecolor\":\"#2a3f5f\"},\"baxis\":{\"endlinecolor\":\"#2a3f5f\",\"gridcolor\":\"white\",\"linecolor\":\"white\",\"minorgridcolor\":\"white\",\"startlinecolor\":\"#2a3f5f\"},\"type\":\"carpet\"}],\"table\":[{\"cells\":{\"fill\":{\"color\":\"#EBF0F8\"},\"line\":{\"color\":\"white\"}},\"header\":{\"fill\":{\"color\":\"#C8D4E3\"},\"line\":{\"color\":\"white\"}},\"type\":\"table\"}],\"barpolar\":[{\"marker\":{\"line\":{\"color\":\"#E5ECF6\",\"width\":0.5},\"pattern\":{\"fillmode\":\"overlay\",\"size\":10,\"solidity\":0.2}},\"type\":\"barpolar\"}],\"pie\":[{\"automargin\":true,\"type\":\"pie\"}]},\"layout\":{\"autotypenumbers\":\"strict\",\"colorway\":[\"#636efa\",\"#EF553B\",\"#00cc96\",\"#ab63fa\",\"#FFA15A\",\"#19d3f3\",\"#FF6692\",\"#B6E880\",\"#FF97FF\",\"#FECB52\"],\"font\":{\"color\":\"#2a3f5f\"},\"hovermode\":\"closest\",\"hoverlabel\":{\"align\":\"left\"},\"paper_bgcolor\":\"white\",\"plot_bgcolor\":\"#E5ECF6\",\"polar\":{\"bgcolor\":\"#E5ECF6\",\"angularaxis\":{\"gridcolor\":\"white\",\"linecolor\":\"white\",\"ticks\":\"\"},\"radialaxis\":{\"gridcolor\":\"white\",\"linecolor\":\"white\",\"ticks\":\"\"}},\"ternary\":{\"bgcolor\":\"#E5ECF6\",\"aaxis\":{\"gridcolor\":\"white\",\"linecolor\":\"white\",\"ticks\":\"\"},\"baxis\":{\"gridcolor\":\"white\",\"linecolor\":\"white\",\"ticks\":\"\"},\"caxis\":{\"gridcolor\":\"white\",\"linecolor\":\"white\",\"ticks\":\"\"}},\"coloraxis\":{\"colorbar\":{\"outlinewidth\":0,\"ticks\":\"\"}},\"colorscale\":{\"sequential\":[[0.0,\"#0d0887\"],[0.1111111111111111,\"#46039f\"],[0.2222222222222222,\"#7201a8\"],[0.3333333333333333,\"#9c179e\"],[0.4444444444444444,\"#bd3786\"],[0.5555555555555556,\"#d8576b\"],[0.6666666666666666,\"#ed7953\"],[0.7777777777777778,\"#fb9f3a\"],[0.8888888888888888,\"#fdca26\"],[1.0,\"#f0f921\"]],\"sequentialminus\":[[0.0,\"#0d0887\"],[0.1111111111111111,\"#46039f\"],[0.2222222222222222,\"#7201a8\"],[0.3333333333333333,\"#9c179e\"],[0.4444444444444444,\"#bd3786\"],[0.5555555555555556,\"#d8576b\"],[0.6666666666666666,\"#ed7953\"],[0.7777777777777778,\"#fb9f3a\"],[0.8888888888888888,\"#fdca26\"],[1.0,\"#f0f921\"]],\"diverging\":[[0,\"#8e0152\"],[0.1,\"#c51b7d\"],[0.2,\"#de77ae\"],[0.3,\"#f1b6da\"],[0.4,\"#fde0ef\"],[0.5,\"#f7f7f7\"],[0.6,\"#e6f5d0\"],[0.7,\"#b8e186\"],[0.8,\"#7fbc41\"],[0.9,\"#4d9221\"],[1,\"#276419\"]]},\"xaxis\":{\"gridcolor\":\"white\",\"linecolor\":\"white\",\"ticks\":\"\",\"title\":{\"standoff\":15},\"zerolinecolor\":\"white\",\"automargin\":true,\"zerolinewidth\":2},\"yaxis\":{\"gridcolor\":\"white\",\"linecolor\":\"white\",\"ticks\":\"\",\"title\":{\"standoff\":15},\"zerolinecolor\":\"white\",\"automargin\":true,\"zerolinewidth\":2},\"scene\":{\"xaxis\":{\"backgroundcolor\":\"#E5ECF6\",\"gridcolor\":\"white\",\"linecolor\":\"white\",\"showbackground\":true,\"ticks\":\"\",\"zerolinecolor\":\"white\",\"gridwidth\":2},\"yaxis\":{\"backgroundcolor\":\"#E5ECF6\",\"gridcolor\":\"white\",\"linecolor\":\"white\",\"showbackground\":true,\"ticks\":\"\",\"zerolinecolor\":\"white\",\"gridwidth\":2},\"zaxis\":{\"backgroundcolor\":\"#E5ECF6\",\"gridcolor\":\"white\",\"linecolor\":\"white\",\"showbackground\":true,\"ticks\":\"\",\"zerolinecolor\":\"white\",\"gridwidth\":2}},\"shapedefaults\":{\"line\":{\"color\":\"#2a3f5f\"}},\"annotationdefaults\":{\"arrowcolor\":\"#2a3f5f\",\"arrowhead\":0,\"arrowwidth\":1},\"geo\":{\"bgcolor\":\"white\",\"landcolor\":\"#E5ECF6\",\"subunitcolor\":\"white\",\"showland\":true,\"showlakes\":true,\"lakecolor\":\"white\"},\"title\":{\"x\":0.05},\"mapbox\":{\"style\":\"light\"}}},\"xaxis\":{\"anchor\":\"y\",\"domain\":[0.0,1.0],\"title\":{\"text\":\"event_hour\"}},\"yaxis\":{\"anchor\":\"x\",\"domain\":[0.0,1.0],\"title\":{\"text\":\"view\"}},\"legend\":{\"tracegroupgap\":0},\"margin\":{\"t\":60},\"width\":700,\"height\":400},                        {\"responsive\": true}                    ).then(function(){\n",
              "                            \n",
              "var gd = document.getElementById('d30f3ccc-098a-48e9-840b-d187633d6df7');\n",
              "var x = new MutationObserver(function (mutations, observer) {{\n",
              "        var display = window.getComputedStyle(gd).display;\n",
              "        if (!display || display === 'none') {{\n",
              "            console.log([gd, 'removed!']);\n",
              "            Plotly.purge(gd);\n",
              "            observer.disconnect();\n",
              "        }}\n",
              "}});\n",
              "\n",
              "// Listen for the removal of the full notebook cells\n",
              "var notebookContainer = gd.closest('#notebook-container');\n",
              "if (notebookContainer) {{\n",
              "    x.observe(notebookContainer, {childList: true});\n",
              "}}\n",
              "\n",
              "// Listen for the clearing of the current output cell\n",
              "var outputEl = gd.closest('.output');\n",
              "if (outputEl) {{\n",
              "    x.observe(outputEl, {childList: true});\n",
              "}}\n",
              "\n",
              "                        })                };            </script>        </div>"
            ]
          },
          "metadata": {}
        }
      ]
    },
    {
      "cell_type": "code",
      "source": [
        "# Hourly trends - view to purchase conversion\n",
        "fig = px.line(hourly_pvt.reset_index(), x='event_hour', y='view_to_purchase', line_shape='spline', color_discrete_sequence=px.colors.sequential.Plasma)\n",
        "fig.update_layout(width=700, height=400)"
      ],
      "metadata": {
        "colab": {
          "base_uri": "https://localhost:8080/",
          "height": 417
        },
        "id": "w6Vi0G0BZmGx",
        "outputId": "d493ee06-2e91-43b5-e39d-91bb57dd3cd4"
      },
      "execution_count": 57,
      "outputs": [
        {
          "output_type": "display_data",
          "data": {
            "application/vnd.plotly.v1+json": {
              "data": [
                {
                  "hovertemplate": "event_hour=%{x}<br>view_to_purchase=%{y}<extra></extra>",
                  "legendgroup": "",
                  "line": {
                    "color": "#0d0887",
                    "dash": "solid",
                    "shape": "spline"
                  },
                  "marker": {
                    "symbol": "circle"
                  },
                  "mode": "lines",
                  "name": "",
                  "orientation": "v",
                  "showlegend": false,
                  "x": {
                    "dtype": "i4",
                    "bdata": "AAAAAAEAAAACAAAAAwAAAAQAAAAFAAAABgAAAAcAAAAIAAAACQAAAAoAAAALAAAADAAAAA0AAAAOAAAADwAAABAAAAARAAAAEgAAABMAAAAUAAAAFQAAABYAAAAXAAAA"
                  },
                  "xaxis": "x",
                  "y": {
                    "dtype": "f8",
                    "bdata": "Xag5CcSFCkBwl3oyfrsMQFARetvuSQdAhoXyv6TMBkClIs+yEvgGQCP0Ge7ONA1AlOtzDa0wDkDYL/AW6BwRQLCXX7R++hFAiiOo/r+MEUD+7fhKMvkSQKxInRn6chNAyxIJFlr/EEBCAYKmWogQQONUhzb1RBFAyLMT9qFyDUArWoE4agoPQAwY1NHrvg5AoaY5YKWVDUBCb03GulgMQOw/jFMB2A9AMys87zpbEUAm6M1866sQQBs9DWsmtA5A"
                  },
                  "yaxis": "y",
                  "type": "scatter"
                }
              ],
              "layout": {
                "template": {
                  "data": {
                    "histogram2dcontour": [
                      {
                        "type": "histogram2dcontour",
                        "colorbar": {
                          "outlinewidth": 0,
                          "ticks": ""
                        },
                        "colorscale": [
                          [
                            0,
                            "#0d0887"
                          ],
                          [
                            0.1111111111111111,
                            "#46039f"
                          ],
                          [
                            0.2222222222222222,
                            "#7201a8"
                          ],
                          [
                            0.3333333333333333,
                            "#9c179e"
                          ],
                          [
                            0.4444444444444444,
                            "#bd3786"
                          ],
                          [
                            0.5555555555555556,
                            "#d8576b"
                          ],
                          [
                            0.6666666666666666,
                            "#ed7953"
                          ],
                          [
                            0.7777777777777778,
                            "#fb9f3a"
                          ],
                          [
                            0.8888888888888888,
                            "#fdca26"
                          ],
                          [
                            1,
                            "#f0f921"
                          ]
                        ]
                      }
                    ],
                    "choropleth": [
                      {
                        "type": "choropleth",
                        "colorbar": {
                          "outlinewidth": 0,
                          "ticks": ""
                        }
                      }
                    ],
                    "histogram2d": [
                      {
                        "type": "histogram2d",
                        "colorbar": {
                          "outlinewidth": 0,
                          "ticks": ""
                        },
                        "colorscale": [
                          [
                            0,
                            "#0d0887"
                          ],
                          [
                            0.1111111111111111,
                            "#46039f"
                          ],
                          [
                            0.2222222222222222,
                            "#7201a8"
                          ],
                          [
                            0.3333333333333333,
                            "#9c179e"
                          ],
                          [
                            0.4444444444444444,
                            "#bd3786"
                          ],
                          [
                            0.5555555555555556,
                            "#d8576b"
                          ],
                          [
                            0.6666666666666666,
                            "#ed7953"
                          ],
                          [
                            0.7777777777777778,
                            "#fb9f3a"
                          ],
                          [
                            0.8888888888888888,
                            "#fdca26"
                          ],
                          [
                            1,
                            "#f0f921"
                          ]
                        ]
                      }
                    ],
                    "heatmap": [
                      {
                        "type": "heatmap",
                        "colorbar": {
                          "outlinewidth": 0,
                          "ticks": ""
                        },
                        "colorscale": [
                          [
                            0,
                            "#0d0887"
                          ],
                          [
                            0.1111111111111111,
                            "#46039f"
                          ],
                          [
                            0.2222222222222222,
                            "#7201a8"
                          ],
                          [
                            0.3333333333333333,
                            "#9c179e"
                          ],
                          [
                            0.4444444444444444,
                            "#bd3786"
                          ],
                          [
                            0.5555555555555556,
                            "#d8576b"
                          ],
                          [
                            0.6666666666666666,
                            "#ed7953"
                          ],
                          [
                            0.7777777777777778,
                            "#fb9f3a"
                          ],
                          [
                            0.8888888888888888,
                            "#fdca26"
                          ],
                          [
                            1,
                            "#f0f921"
                          ]
                        ]
                      }
                    ],
                    "contourcarpet": [
                      {
                        "type": "contourcarpet",
                        "colorbar": {
                          "outlinewidth": 0,
                          "ticks": ""
                        }
                      }
                    ],
                    "contour": [
                      {
                        "type": "contour",
                        "colorbar": {
                          "outlinewidth": 0,
                          "ticks": ""
                        },
                        "colorscale": [
                          [
                            0,
                            "#0d0887"
                          ],
                          [
                            0.1111111111111111,
                            "#46039f"
                          ],
                          [
                            0.2222222222222222,
                            "#7201a8"
                          ],
                          [
                            0.3333333333333333,
                            "#9c179e"
                          ],
                          [
                            0.4444444444444444,
                            "#bd3786"
                          ],
                          [
                            0.5555555555555556,
                            "#d8576b"
                          ],
                          [
                            0.6666666666666666,
                            "#ed7953"
                          ],
                          [
                            0.7777777777777778,
                            "#fb9f3a"
                          ],
                          [
                            0.8888888888888888,
                            "#fdca26"
                          ],
                          [
                            1,
                            "#f0f921"
                          ]
                        ]
                      }
                    ],
                    "surface": [
                      {
                        "type": "surface",
                        "colorbar": {
                          "outlinewidth": 0,
                          "ticks": ""
                        },
                        "colorscale": [
                          [
                            0,
                            "#0d0887"
                          ],
                          [
                            0.1111111111111111,
                            "#46039f"
                          ],
                          [
                            0.2222222222222222,
                            "#7201a8"
                          ],
                          [
                            0.3333333333333333,
                            "#9c179e"
                          ],
                          [
                            0.4444444444444444,
                            "#bd3786"
                          ],
                          [
                            0.5555555555555556,
                            "#d8576b"
                          ],
                          [
                            0.6666666666666666,
                            "#ed7953"
                          ],
                          [
                            0.7777777777777778,
                            "#fb9f3a"
                          ],
                          [
                            0.8888888888888888,
                            "#fdca26"
                          ],
                          [
                            1,
                            "#f0f921"
                          ]
                        ]
                      }
                    ],
                    "mesh3d": [
                      {
                        "type": "mesh3d",
                        "colorbar": {
                          "outlinewidth": 0,
                          "ticks": ""
                        }
                      }
                    ],
                    "scatter": [
                      {
                        "fillpattern": {
                          "fillmode": "overlay",
                          "size": 10,
                          "solidity": 0.2
                        },
                        "type": "scatter"
                      }
                    ],
                    "parcoords": [
                      {
                        "type": "parcoords",
                        "line": {
                          "colorbar": {
                            "outlinewidth": 0,
                            "ticks": ""
                          }
                        }
                      }
                    ],
                    "scatterpolargl": [
                      {
                        "type": "scatterpolargl",
                        "marker": {
                          "colorbar": {
                            "outlinewidth": 0,
                            "ticks": ""
                          }
                        }
                      }
                    ],
                    "bar": [
                      {
                        "error_x": {
                          "color": "#2a3f5f"
                        },
                        "error_y": {
                          "color": "#2a3f5f"
                        },
                        "marker": {
                          "line": {
                            "color": "#E5ECF6",
                            "width": 0.5
                          },
                          "pattern": {
                            "fillmode": "overlay",
                            "size": 10,
                            "solidity": 0.2
                          }
                        },
                        "type": "bar"
                      }
                    ],
                    "scattergeo": [
                      {
                        "type": "scattergeo",
                        "marker": {
                          "colorbar": {
                            "outlinewidth": 0,
                            "ticks": ""
                          }
                        }
                      }
                    ],
                    "scatterpolar": [
                      {
                        "type": "scatterpolar",
                        "marker": {
                          "colorbar": {
                            "outlinewidth": 0,
                            "ticks": ""
                          }
                        }
                      }
                    ],
                    "histogram": [
                      {
                        "marker": {
                          "pattern": {
                            "fillmode": "overlay",
                            "size": 10,
                            "solidity": 0.2
                          }
                        },
                        "type": "histogram"
                      }
                    ],
                    "scattergl": [
                      {
                        "type": "scattergl",
                        "marker": {
                          "colorbar": {
                            "outlinewidth": 0,
                            "ticks": ""
                          }
                        }
                      }
                    ],
                    "scatter3d": [
                      {
                        "type": "scatter3d",
                        "line": {
                          "colorbar": {
                            "outlinewidth": 0,
                            "ticks": ""
                          }
                        },
                        "marker": {
                          "colorbar": {
                            "outlinewidth": 0,
                            "ticks": ""
                          }
                        }
                      }
                    ],
                    "scattermap": [
                      {
                        "type": "scattermap",
                        "marker": {
                          "colorbar": {
                            "outlinewidth": 0,
                            "ticks": ""
                          }
                        }
                      }
                    ],
                    "scattermapbox": [
                      {
                        "type": "scattermapbox",
                        "marker": {
                          "colorbar": {
                            "outlinewidth": 0,
                            "ticks": ""
                          }
                        }
                      }
                    ],
                    "scatterternary": [
                      {
                        "type": "scatterternary",
                        "marker": {
                          "colorbar": {
                            "outlinewidth": 0,
                            "ticks": ""
                          }
                        }
                      }
                    ],
                    "scattercarpet": [
                      {
                        "type": "scattercarpet",
                        "marker": {
                          "colorbar": {
                            "outlinewidth": 0,
                            "ticks": ""
                          }
                        }
                      }
                    ],
                    "carpet": [
                      {
                        "aaxis": {
                          "endlinecolor": "#2a3f5f",
                          "gridcolor": "white",
                          "linecolor": "white",
                          "minorgridcolor": "white",
                          "startlinecolor": "#2a3f5f"
                        },
                        "baxis": {
                          "endlinecolor": "#2a3f5f",
                          "gridcolor": "white",
                          "linecolor": "white",
                          "minorgridcolor": "white",
                          "startlinecolor": "#2a3f5f"
                        },
                        "type": "carpet"
                      }
                    ],
                    "table": [
                      {
                        "cells": {
                          "fill": {
                            "color": "#EBF0F8"
                          },
                          "line": {
                            "color": "white"
                          }
                        },
                        "header": {
                          "fill": {
                            "color": "#C8D4E3"
                          },
                          "line": {
                            "color": "white"
                          }
                        },
                        "type": "table"
                      }
                    ],
                    "barpolar": [
                      {
                        "marker": {
                          "line": {
                            "color": "#E5ECF6",
                            "width": 0.5
                          },
                          "pattern": {
                            "fillmode": "overlay",
                            "size": 10,
                            "solidity": 0.2
                          }
                        },
                        "type": "barpolar"
                      }
                    ],
                    "pie": [
                      {
                        "automargin": true,
                        "type": "pie"
                      }
                    ]
                  },
                  "layout": {
                    "autotypenumbers": "strict",
                    "colorway": [
                      "#636efa",
                      "#EF553B",
                      "#00cc96",
                      "#ab63fa",
                      "#FFA15A",
                      "#19d3f3",
                      "#FF6692",
                      "#B6E880",
                      "#FF97FF",
                      "#FECB52"
                    ],
                    "font": {
                      "color": "#2a3f5f"
                    },
                    "hovermode": "closest",
                    "hoverlabel": {
                      "align": "left"
                    },
                    "paper_bgcolor": "white",
                    "plot_bgcolor": "#E5ECF6",
                    "polar": {
                      "bgcolor": "#E5ECF6",
                      "angularaxis": {
                        "gridcolor": "white",
                        "linecolor": "white",
                        "ticks": ""
                      },
                      "radialaxis": {
                        "gridcolor": "white",
                        "linecolor": "white",
                        "ticks": ""
                      }
                    },
                    "ternary": {
                      "bgcolor": "#E5ECF6",
                      "aaxis": {
                        "gridcolor": "white",
                        "linecolor": "white",
                        "ticks": ""
                      },
                      "baxis": {
                        "gridcolor": "white",
                        "linecolor": "white",
                        "ticks": ""
                      },
                      "caxis": {
                        "gridcolor": "white",
                        "linecolor": "white",
                        "ticks": ""
                      }
                    },
                    "coloraxis": {
                      "colorbar": {
                        "outlinewidth": 0,
                        "ticks": ""
                      }
                    },
                    "colorscale": {
                      "sequential": [
                        [
                          0,
                          "#0d0887"
                        ],
                        [
                          0.1111111111111111,
                          "#46039f"
                        ],
                        [
                          0.2222222222222222,
                          "#7201a8"
                        ],
                        [
                          0.3333333333333333,
                          "#9c179e"
                        ],
                        [
                          0.4444444444444444,
                          "#bd3786"
                        ],
                        [
                          0.5555555555555556,
                          "#d8576b"
                        ],
                        [
                          0.6666666666666666,
                          "#ed7953"
                        ],
                        [
                          0.7777777777777778,
                          "#fb9f3a"
                        ],
                        [
                          0.8888888888888888,
                          "#fdca26"
                        ],
                        [
                          1,
                          "#f0f921"
                        ]
                      ],
                      "sequentialminus": [
                        [
                          0,
                          "#0d0887"
                        ],
                        [
                          0.1111111111111111,
                          "#46039f"
                        ],
                        [
                          0.2222222222222222,
                          "#7201a8"
                        ],
                        [
                          0.3333333333333333,
                          "#9c179e"
                        ],
                        [
                          0.4444444444444444,
                          "#bd3786"
                        ],
                        [
                          0.5555555555555556,
                          "#d8576b"
                        ],
                        [
                          0.6666666666666666,
                          "#ed7953"
                        ],
                        [
                          0.7777777777777778,
                          "#fb9f3a"
                        ],
                        [
                          0.8888888888888888,
                          "#fdca26"
                        ],
                        [
                          1,
                          "#f0f921"
                        ]
                      ],
                      "diverging": [
                        [
                          0,
                          "#8e0152"
                        ],
                        [
                          0.1,
                          "#c51b7d"
                        ],
                        [
                          0.2,
                          "#de77ae"
                        ],
                        [
                          0.3,
                          "#f1b6da"
                        ],
                        [
                          0.4,
                          "#fde0ef"
                        ],
                        [
                          0.5,
                          "#f7f7f7"
                        ],
                        [
                          0.6,
                          "#e6f5d0"
                        ],
                        [
                          0.7,
                          "#b8e186"
                        ],
                        [
                          0.8,
                          "#7fbc41"
                        ],
                        [
                          0.9,
                          "#4d9221"
                        ],
                        [
                          1,
                          "#276419"
                        ]
                      ]
                    },
                    "xaxis": {
                      "gridcolor": "white",
                      "linecolor": "white",
                      "ticks": "",
                      "title": {
                        "standoff": 15
                      },
                      "zerolinecolor": "white",
                      "automargin": true,
                      "zerolinewidth": 2
                    },
                    "yaxis": {
                      "gridcolor": "white",
                      "linecolor": "white",
                      "ticks": "",
                      "title": {
                        "standoff": 15
                      },
                      "zerolinecolor": "white",
                      "automargin": true,
                      "zerolinewidth": 2
                    },
                    "scene": {
                      "xaxis": {
                        "backgroundcolor": "#E5ECF6",
                        "gridcolor": "white",
                        "linecolor": "white",
                        "showbackground": true,
                        "ticks": "",
                        "zerolinecolor": "white",
                        "gridwidth": 2
                      },
                      "yaxis": {
                        "backgroundcolor": "#E5ECF6",
                        "gridcolor": "white",
                        "linecolor": "white",
                        "showbackground": true,
                        "ticks": "",
                        "zerolinecolor": "white",
                        "gridwidth": 2
                      },
                      "zaxis": {
                        "backgroundcolor": "#E5ECF6",
                        "gridcolor": "white",
                        "linecolor": "white",
                        "showbackground": true,
                        "ticks": "",
                        "zerolinecolor": "white",
                        "gridwidth": 2
                      }
                    },
                    "shapedefaults": {
                      "line": {
                        "color": "#2a3f5f"
                      }
                    },
                    "annotationdefaults": {
                      "arrowcolor": "#2a3f5f",
                      "arrowhead": 0,
                      "arrowwidth": 1
                    },
                    "geo": {
                      "bgcolor": "white",
                      "landcolor": "#E5ECF6",
                      "subunitcolor": "white",
                      "showland": true,
                      "showlakes": true,
                      "lakecolor": "white"
                    },
                    "title": {
                      "x": 0.05
                    },
                    "mapbox": {
                      "style": "light"
                    }
                  }
                },
                "xaxis": {
                  "anchor": "y",
                  "domain": [
                    0,
                    1
                  ],
                  "title": {
                    "text": "event_hour"
                  }
                },
                "yaxis": {
                  "anchor": "x",
                  "domain": [
                    0,
                    1
                  ],
                  "title": {
                    "text": "view_to_purchase"
                  }
                },
                "legend": {
                  "tracegroupgap": 0
                },
                "margin": {
                  "t": 60
                },
                "width": 700,
                "height": 400
              },
              "config": {
                "plotlyServerURL": "https://plot.ly"
              }
            },
            "text/html": [
              "<div>            <script src=\"https://cdnjs.cloudflare.com/ajax/libs/mathjax/2.7.5/MathJax.js?config=TeX-AMS-MML_SVG\"></script><script type=\"text/javascript\">if (window.MathJax && window.MathJax.Hub && window.MathJax.Hub.Config) {window.MathJax.Hub.Config({SVG: {font: \"STIX-Web\"}});}</script>                <script type=\"text/javascript\">window.PlotlyConfig = {MathJaxConfig: 'local'};</script>\n",
              "        <script charset=\"utf-8\" src=\"https://cdn.plot.ly/plotly-3.0.1.min.js\" integrity=\"sha256-oy6Be7Eh6eiQFs5M7oXuPxxm9qbJXEtTpfSI93dW16Q=\" crossorigin=\"anonymous\"></script>                <div id=\"5025a708-cfbb-43e6-b799-72740b727566\" class=\"plotly-graph-div\" style=\"height:400px; width:700px;\"></div>            <script type=\"text/javascript\">                window.PLOTLYENV=window.PLOTLYENV || {};                                if (document.getElementById(\"5025a708-cfbb-43e6-b799-72740b727566\")) {                    Plotly.newPlot(                        \"5025a708-cfbb-43e6-b799-72740b727566\",                        [{\"hovertemplate\":\"event_hour=%{x}\\u003cbr\\u003eview_to_purchase=%{y}\\u003cextra\\u003e\\u003c\\u002fextra\\u003e\",\"legendgroup\":\"\",\"line\":{\"color\":\"#0d0887\",\"dash\":\"solid\",\"shape\":\"spline\"},\"marker\":{\"symbol\":\"circle\"},\"mode\":\"lines\",\"name\":\"\",\"orientation\":\"v\",\"showlegend\":false,\"x\":{\"dtype\":\"i4\",\"bdata\":\"AAAAAAEAAAACAAAAAwAAAAQAAAAFAAAABgAAAAcAAAAIAAAACQAAAAoAAAALAAAADAAAAA0AAAAOAAAADwAAABAAAAARAAAAEgAAABMAAAAUAAAAFQAAABYAAAAXAAAA\"},\"xaxis\":\"x\",\"y\":{\"dtype\":\"f8\",\"bdata\":\"Xag5CcSFCkBwl3oyfrsMQFARetvuSQdAhoXyv6TMBkClIs+yEvgGQCP0Ge7ONA1AlOtzDa0wDkDYL\\u002fAW6BwRQLCXX7R++hFAiiOo\\u002fr+MEUD+7fhKMvkSQKxInRn6chNAyxIJFlr\\u002fEEBCAYKmWogQQONUhzb1RBFAyLMT9qFyDUArWoE4agoPQAwY1NHrvg5AoaY5YKWVDUBCb03GulgMQOw\\u002fjFMB2A9AMys87zpbEUAm6M1866sQQBs9DWsmtA5A\"},\"yaxis\":\"y\",\"type\":\"scatter\"}],                        {\"template\":{\"data\":{\"histogram2dcontour\":[{\"type\":\"histogram2dcontour\",\"colorbar\":{\"outlinewidth\":0,\"ticks\":\"\"},\"colorscale\":[[0.0,\"#0d0887\"],[0.1111111111111111,\"#46039f\"],[0.2222222222222222,\"#7201a8\"],[0.3333333333333333,\"#9c179e\"],[0.4444444444444444,\"#bd3786\"],[0.5555555555555556,\"#d8576b\"],[0.6666666666666666,\"#ed7953\"],[0.7777777777777778,\"#fb9f3a\"],[0.8888888888888888,\"#fdca26\"],[1.0,\"#f0f921\"]]}],\"choropleth\":[{\"type\":\"choropleth\",\"colorbar\":{\"outlinewidth\":0,\"ticks\":\"\"}}],\"histogram2d\":[{\"type\":\"histogram2d\",\"colorbar\":{\"outlinewidth\":0,\"ticks\":\"\"},\"colorscale\":[[0.0,\"#0d0887\"],[0.1111111111111111,\"#46039f\"],[0.2222222222222222,\"#7201a8\"],[0.3333333333333333,\"#9c179e\"],[0.4444444444444444,\"#bd3786\"],[0.5555555555555556,\"#d8576b\"],[0.6666666666666666,\"#ed7953\"],[0.7777777777777778,\"#fb9f3a\"],[0.8888888888888888,\"#fdca26\"],[1.0,\"#f0f921\"]]}],\"heatmap\":[{\"type\":\"heatmap\",\"colorbar\":{\"outlinewidth\":0,\"ticks\":\"\"},\"colorscale\":[[0.0,\"#0d0887\"],[0.1111111111111111,\"#46039f\"],[0.2222222222222222,\"#7201a8\"],[0.3333333333333333,\"#9c179e\"],[0.4444444444444444,\"#bd3786\"],[0.5555555555555556,\"#d8576b\"],[0.6666666666666666,\"#ed7953\"],[0.7777777777777778,\"#fb9f3a\"],[0.8888888888888888,\"#fdca26\"],[1.0,\"#f0f921\"]]}],\"contourcarpet\":[{\"type\":\"contourcarpet\",\"colorbar\":{\"outlinewidth\":0,\"ticks\":\"\"}}],\"contour\":[{\"type\":\"contour\",\"colorbar\":{\"outlinewidth\":0,\"ticks\":\"\"},\"colorscale\":[[0.0,\"#0d0887\"],[0.1111111111111111,\"#46039f\"],[0.2222222222222222,\"#7201a8\"],[0.3333333333333333,\"#9c179e\"],[0.4444444444444444,\"#bd3786\"],[0.5555555555555556,\"#d8576b\"],[0.6666666666666666,\"#ed7953\"],[0.7777777777777778,\"#fb9f3a\"],[0.8888888888888888,\"#fdca26\"],[1.0,\"#f0f921\"]]}],\"surface\":[{\"type\":\"surface\",\"colorbar\":{\"outlinewidth\":0,\"ticks\":\"\"},\"colorscale\":[[0.0,\"#0d0887\"],[0.1111111111111111,\"#46039f\"],[0.2222222222222222,\"#7201a8\"],[0.3333333333333333,\"#9c179e\"],[0.4444444444444444,\"#bd3786\"],[0.5555555555555556,\"#d8576b\"],[0.6666666666666666,\"#ed7953\"],[0.7777777777777778,\"#fb9f3a\"],[0.8888888888888888,\"#fdca26\"],[1.0,\"#f0f921\"]]}],\"mesh3d\":[{\"type\":\"mesh3d\",\"colorbar\":{\"outlinewidth\":0,\"ticks\":\"\"}}],\"scatter\":[{\"fillpattern\":{\"fillmode\":\"overlay\",\"size\":10,\"solidity\":0.2},\"type\":\"scatter\"}],\"parcoords\":[{\"type\":\"parcoords\",\"line\":{\"colorbar\":{\"outlinewidth\":0,\"ticks\":\"\"}}}],\"scatterpolargl\":[{\"type\":\"scatterpolargl\",\"marker\":{\"colorbar\":{\"outlinewidth\":0,\"ticks\":\"\"}}}],\"bar\":[{\"error_x\":{\"color\":\"#2a3f5f\"},\"error_y\":{\"color\":\"#2a3f5f\"},\"marker\":{\"line\":{\"color\":\"#E5ECF6\",\"width\":0.5},\"pattern\":{\"fillmode\":\"overlay\",\"size\":10,\"solidity\":0.2}},\"type\":\"bar\"}],\"scattergeo\":[{\"type\":\"scattergeo\",\"marker\":{\"colorbar\":{\"outlinewidth\":0,\"ticks\":\"\"}}}],\"scatterpolar\":[{\"type\":\"scatterpolar\",\"marker\":{\"colorbar\":{\"outlinewidth\":0,\"ticks\":\"\"}}}],\"histogram\":[{\"marker\":{\"pattern\":{\"fillmode\":\"overlay\",\"size\":10,\"solidity\":0.2}},\"type\":\"histogram\"}],\"scattergl\":[{\"type\":\"scattergl\",\"marker\":{\"colorbar\":{\"outlinewidth\":0,\"ticks\":\"\"}}}],\"scatter3d\":[{\"type\":\"scatter3d\",\"line\":{\"colorbar\":{\"outlinewidth\":0,\"ticks\":\"\"}},\"marker\":{\"colorbar\":{\"outlinewidth\":0,\"ticks\":\"\"}}}],\"scattermap\":[{\"type\":\"scattermap\",\"marker\":{\"colorbar\":{\"outlinewidth\":0,\"ticks\":\"\"}}}],\"scattermapbox\":[{\"type\":\"scattermapbox\",\"marker\":{\"colorbar\":{\"outlinewidth\":0,\"ticks\":\"\"}}}],\"scatterternary\":[{\"type\":\"scatterternary\",\"marker\":{\"colorbar\":{\"outlinewidth\":0,\"ticks\":\"\"}}}],\"scattercarpet\":[{\"type\":\"scattercarpet\",\"marker\":{\"colorbar\":{\"outlinewidth\":0,\"ticks\":\"\"}}}],\"carpet\":[{\"aaxis\":{\"endlinecolor\":\"#2a3f5f\",\"gridcolor\":\"white\",\"linecolor\":\"white\",\"minorgridcolor\":\"white\",\"startlinecolor\":\"#2a3f5f\"},\"baxis\":{\"endlinecolor\":\"#2a3f5f\",\"gridcolor\":\"white\",\"linecolor\":\"white\",\"minorgridcolor\":\"white\",\"startlinecolor\":\"#2a3f5f\"},\"type\":\"carpet\"}],\"table\":[{\"cells\":{\"fill\":{\"color\":\"#EBF0F8\"},\"line\":{\"color\":\"white\"}},\"header\":{\"fill\":{\"color\":\"#C8D4E3\"},\"line\":{\"color\":\"white\"}},\"type\":\"table\"}],\"barpolar\":[{\"marker\":{\"line\":{\"color\":\"#E5ECF6\",\"width\":0.5},\"pattern\":{\"fillmode\":\"overlay\",\"size\":10,\"solidity\":0.2}},\"type\":\"barpolar\"}],\"pie\":[{\"automargin\":true,\"type\":\"pie\"}]},\"layout\":{\"autotypenumbers\":\"strict\",\"colorway\":[\"#636efa\",\"#EF553B\",\"#00cc96\",\"#ab63fa\",\"#FFA15A\",\"#19d3f3\",\"#FF6692\",\"#B6E880\",\"#FF97FF\",\"#FECB52\"],\"font\":{\"color\":\"#2a3f5f\"},\"hovermode\":\"closest\",\"hoverlabel\":{\"align\":\"left\"},\"paper_bgcolor\":\"white\",\"plot_bgcolor\":\"#E5ECF6\",\"polar\":{\"bgcolor\":\"#E5ECF6\",\"angularaxis\":{\"gridcolor\":\"white\",\"linecolor\":\"white\",\"ticks\":\"\"},\"radialaxis\":{\"gridcolor\":\"white\",\"linecolor\":\"white\",\"ticks\":\"\"}},\"ternary\":{\"bgcolor\":\"#E5ECF6\",\"aaxis\":{\"gridcolor\":\"white\",\"linecolor\":\"white\",\"ticks\":\"\"},\"baxis\":{\"gridcolor\":\"white\",\"linecolor\":\"white\",\"ticks\":\"\"},\"caxis\":{\"gridcolor\":\"white\",\"linecolor\":\"white\",\"ticks\":\"\"}},\"coloraxis\":{\"colorbar\":{\"outlinewidth\":0,\"ticks\":\"\"}},\"colorscale\":{\"sequential\":[[0.0,\"#0d0887\"],[0.1111111111111111,\"#46039f\"],[0.2222222222222222,\"#7201a8\"],[0.3333333333333333,\"#9c179e\"],[0.4444444444444444,\"#bd3786\"],[0.5555555555555556,\"#d8576b\"],[0.6666666666666666,\"#ed7953\"],[0.7777777777777778,\"#fb9f3a\"],[0.8888888888888888,\"#fdca26\"],[1.0,\"#f0f921\"]],\"sequentialminus\":[[0.0,\"#0d0887\"],[0.1111111111111111,\"#46039f\"],[0.2222222222222222,\"#7201a8\"],[0.3333333333333333,\"#9c179e\"],[0.4444444444444444,\"#bd3786\"],[0.5555555555555556,\"#d8576b\"],[0.6666666666666666,\"#ed7953\"],[0.7777777777777778,\"#fb9f3a\"],[0.8888888888888888,\"#fdca26\"],[1.0,\"#f0f921\"]],\"diverging\":[[0,\"#8e0152\"],[0.1,\"#c51b7d\"],[0.2,\"#de77ae\"],[0.3,\"#f1b6da\"],[0.4,\"#fde0ef\"],[0.5,\"#f7f7f7\"],[0.6,\"#e6f5d0\"],[0.7,\"#b8e186\"],[0.8,\"#7fbc41\"],[0.9,\"#4d9221\"],[1,\"#276419\"]]},\"xaxis\":{\"gridcolor\":\"white\",\"linecolor\":\"white\",\"ticks\":\"\",\"title\":{\"standoff\":15},\"zerolinecolor\":\"white\",\"automargin\":true,\"zerolinewidth\":2},\"yaxis\":{\"gridcolor\":\"white\",\"linecolor\":\"white\",\"ticks\":\"\",\"title\":{\"standoff\":15},\"zerolinecolor\":\"white\",\"automargin\":true,\"zerolinewidth\":2},\"scene\":{\"xaxis\":{\"backgroundcolor\":\"#E5ECF6\",\"gridcolor\":\"white\",\"linecolor\":\"white\",\"showbackground\":true,\"ticks\":\"\",\"zerolinecolor\":\"white\",\"gridwidth\":2},\"yaxis\":{\"backgroundcolor\":\"#E5ECF6\",\"gridcolor\":\"white\",\"linecolor\":\"white\",\"showbackground\":true,\"ticks\":\"\",\"zerolinecolor\":\"white\",\"gridwidth\":2},\"zaxis\":{\"backgroundcolor\":\"#E5ECF6\",\"gridcolor\":\"white\",\"linecolor\":\"white\",\"showbackground\":true,\"ticks\":\"\",\"zerolinecolor\":\"white\",\"gridwidth\":2}},\"shapedefaults\":{\"line\":{\"color\":\"#2a3f5f\"}},\"annotationdefaults\":{\"arrowcolor\":\"#2a3f5f\",\"arrowhead\":0,\"arrowwidth\":1},\"geo\":{\"bgcolor\":\"white\",\"landcolor\":\"#E5ECF6\",\"subunitcolor\":\"white\",\"showland\":true,\"showlakes\":true,\"lakecolor\":\"white\"},\"title\":{\"x\":0.05},\"mapbox\":{\"style\":\"light\"}}},\"xaxis\":{\"anchor\":\"y\",\"domain\":[0.0,1.0],\"title\":{\"text\":\"event_hour\"}},\"yaxis\":{\"anchor\":\"x\",\"domain\":[0.0,1.0],\"title\":{\"text\":\"view_to_purchase\"}},\"legend\":{\"tracegroupgap\":0},\"margin\":{\"t\":60},\"width\":700,\"height\":400},                        {\"responsive\": true}                    ).then(function(){\n",
              "                            \n",
              "var gd = document.getElementById('5025a708-cfbb-43e6-b799-72740b727566');\n",
              "var x = new MutationObserver(function (mutations, observer) {{\n",
              "        var display = window.getComputedStyle(gd).display;\n",
              "        if (!display || display === 'none') {{\n",
              "            console.log([gd, 'removed!']);\n",
              "            Plotly.purge(gd);\n",
              "            observer.disconnect();\n",
              "        }}\n",
              "}});\n",
              "\n",
              "// Listen for the removal of the full notebook cells\n",
              "var notebookContainer = gd.closest('#notebook-container');\n",
              "if (notebookContainer) {{\n",
              "    x.observe(notebookContainer, {childList: true});\n",
              "}}\n",
              "\n",
              "// Listen for the clearing of the current output cell\n",
              "var outputEl = gd.closest('.output');\n",
              "if (outputEl) {{\n",
              "    x.observe(outputEl, {childList: true});\n",
              "}}\n",
              "\n",
              "                        })                };            </script>        </div>"
            ]
          },
          "metadata": {}
        }
      ]
    },
    {
      "cell_type": "code",
      "source": [
        "# kosmekka\n",
        "df_k = df[df['brand'] == 'kosmekka']\n",
        "\n",
        "# Funnel for kosmekka\n",
        "kos_funnel = df_k.groupby(['event_hour', 'event_type', 'product_id'])['user_id'].nunique()\n",
        "kos_funnel_df = kos_funnel.reset_index(name='user_id')\n",
        "kos_pvt = pd.pivot_table(\n",
        "    data=kos_funnel_df, index='event_hour', columns='event_type', values='user_id', aggfunc='sum', fill_value=0)\n",
        "kos_pvt = kos_pvt[['view', 'cart', 'purchase']]\n",
        "\n",
        "kos_pvt['view_to_purchase'] = kos_pvt['purchase'] / kos_pvt['view'] * 100\n",
        "kos_pvt['view_to_cart'] = kos_pvt['cart'] / kos_pvt['view'] * 100\n",
        "kos_pvt['cart_to_purchase'] = kos_pvt['purchase'] / kos_pvt['cart'] * 100\n",
        "\n",
        "kos_pvt.head()"
      ],
      "metadata": {
        "colab": {
          "base_uri": "https://localhost:8080/",
          "height": 238
        },
        "id": "cj-Z8MJrZmI6",
        "outputId": "509faecb-fbf1-4118-f614-196f2839859e"
      },
      "execution_count": 58,
      "outputs": [
        {
          "output_type": "execute_result",
          "data": {
            "text/plain": [
              "event_type  view  cart  purchase  view_to_purchase  view_to_cart  \\\n",
              "event_hour                                                         \n",
              "0             30     0         0               0.0           0.0   \n",
              "1             22     0         0               0.0           0.0   \n",
              "2             34     0         0               0.0           0.0   \n",
              "3             42     0         0               0.0           0.0   \n",
              "4             56     0         0               0.0           0.0   \n",
              "\n",
              "event_type  cart_to_purchase  \n",
              "event_hour                    \n",
              "0                        NaN  \n",
              "1                        NaN  \n",
              "2                        NaN  \n",
              "3                        NaN  \n",
              "4                        NaN  "
            ],
            "text/html": [
              "\n",
              "  <div id=\"df-14fb44c3-291f-41c4-9056-6b9320d7ea5e\" class=\"colab-df-container\">\n",
              "    <div>\n",
              "<style scoped>\n",
              "    .dataframe tbody tr th:only-of-type {\n",
              "        vertical-align: middle;\n",
              "    }\n",
              "\n",
              "    .dataframe tbody tr th {\n",
              "        vertical-align: top;\n",
              "    }\n",
              "\n",
              "    .dataframe thead th {\n",
              "        text-align: right;\n",
              "    }\n",
              "</style>\n",
              "<table border=\"1\" class=\"dataframe\">\n",
              "  <thead>\n",
              "    <tr style=\"text-align: right;\">\n",
              "      <th>event_type</th>\n",
              "      <th>view</th>\n",
              "      <th>cart</th>\n",
              "      <th>purchase</th>\n",
              "      <th>view_to_purchase</th>\n",
              "      <th>view_to_cart</th>\n",
              "      <th>cart_to_purchase</th>\n",
              "    </tr>\n",
              "    <tr>\n",
              "      <th>event_hour</th>\n",
              "      <th></th>\n",
              "      <th></th>\n",
              "      <th></th>\n",
              "      <th></th>\n",
              "      <th></th>\n",
              "      <th></th>\n",
              "    </tr>\n",
              "  </thead>\n",
              "  <tbody>\n",
              "    <tr>\n",
              "      <th>0</th>\n",
              "      <td>30</td>\n",
              "      <td>0</td>\n",
              "      <td>0</td>\n",
              "      <td>0.0</td>\n",
              "      <td>0.0</td>\n",
              "      <td>NaN</td>\n",
              "    </tr>\n",
              "    <tr>\n",
              "      <th>1</th>\n",
              "      <td>22</td>\n",
              "      <td>0</td>\n",
              "      <td>0</td>\n",
              "      <td>0.0</td>\n",
              "      <td>0.0</td>\n",
              "      <td>NaN</td>\n",
              "    </tr>\n",
              "    <tr>\n",
              "      <th>2</th>\n",
              "      <td>34</td>\n",
              "      <td>0</td>\n",
              "      <td>0</td>\n",
              "      <td>0.0</td>\n",
              "      <td>0.0</td>\n",
              "      <td>NaN</td>\n",
              "    </tr>\n",
              "    <tr>\n",
              "      <th>3</th>\n",
              "      <td>42</td>\n",
              "      <td>0</td>\n",
              "      <td>0</td>\n",
              "      <td>0.0</td>\n",
              "      <td>0.0</td>\n",
              "      <td>NaN</td>\n",
              "    </tr>\n",
              "    <tr>\n",
              "      <th>4</th>\n",
              "      <td>56</td>\n",
              "      <td>0</td>\n",
              "      <td>0</td>\n",
              "      <td>0.0</td>\n",
              "      <td>0.0</td>\n",
              "      <td>NaN</td>\n",
              "    </tr>\n",
              "  </tbody>\n",
              "</table>\n",
              "</div>\n",
              "    <div class=\"colab-df-buttons\">\n",
              "\n",
              "  <div class=\"colab-df-container\">\n",
              "    <button class=\"colab-df-convert\" onclick=\"convertToInteractive('df-14fb44c3-291f-41c4-9056-6b9320d7ea5e')\"\n",
              "            title=\"Convert this dataframe to an interactive table.\"\n",
              "            style=\"display:none;\">\n",
              "\n",
              "  <svg xmlns=\"http://www.w3.org/2000/svg\" height=\"24px\" viewBox=\"0 -960 960 960\">\n",
              "    <path d=\"M120-120v-720h720v720H120Zm60-500h600v-160H180v160Zm220 220h160v-160H400v160Zm0 220h160v-160H400v160ZM180-400h160v-160H180v160Zm440 0h160v-160H620v160ZM180-180h160v-160H180v160Zm440 0h160v-160H620v160Z\"/>\n",
              "  </svg>\n",
              "    </button>\n",
              "\n",
              "  <style>\n",
              "    .colab-df-container {\n",
              "      display:flex;\n",
              "      gap: 12px;\n",
              "    }\n",
              "\n",
              "    .colab-df-convert {\n",
              "      background-color: #E8F0FE;\n",
              "      border: none;\n",
              "      border-radius: 50%;\n",
              "      cursor: pointer;\n",
              "      display: none;\n",
              "      fill: #1967D2;\n",
              "      height: 32px;\n",
              "      padding: 0 0 0 0;\n",
              "      width: 32px;\n",
              "    }\n",
              "\n",
              "    .colab-df-convert:hover {\n",
              "      background-color: #E2EBFA;\n",
              "      box-shadow: 0px 1px 2px rgba(60, 64, 67, 0.3), 0px 1px 3px 1px rgba(60, 64, 67, 0.15);\n",
              "      fill: #174EA6;\n",
              "    }\n",
              "\n",
              "    .colab-df-buttons div {\n",
              "      margin-bottom: 4px;\n",
              "    }\n",
              "\n",
              "    [theme=dark] .colab-df-convert {\n",
              "      background-color: #3B4455;\n",
              "      fill: #D2E3FC;\n",
              "    }\n",
              "\n",
              "    [theme=dark] .colab-df-convert:hover {\n",
              "      background-color: #434B5C;\n",
              "      box-shadow: 0px 1px 3px 1px rgba(0, 0, 0, 0.15);\n",
              "      filter: drop-shadow(0px 1px 2px rgba(0, 0, 0, 0.3));\n",
              "      fill: #FFFFFF;\n",
              "    }\n",
              "  </style>\n",
              "\n",
              "    <script>\n",
              "      const buttonEl =\n",
              "        document.querySelector('#df-14fb44c3-291f-41c4-9056-6b9320d7ea5e button.colab-df-convert');\n",
              "      buttonEl.style.display =\n",
              "        google.colab.kernel.accessAllowed ? 'block' : 'none';\n",
              "\n",
              "      async function convertToInteractive(key) {\n",
              "        const element = document.querySelector('#df-14fb44c3-291f-41c4-9056-6b9320d7ea5e');\n",
              "        const dataTable =\n",
              "          await google.colab.kernel.invokeFunction('convertToInteractive',\n",
              "                                                    [key], {});\n",
              "        if (!dataTable) return;\n",
              "\n",
              "        const docLinkHtml = 'Like what you see? Visit the ' +\n",
              "          '<a target=\"_blank\" href=https://colab.research.google.com/notebooks/data_table.ipynb>data table notebook</a>'\n",
              "          + ' to learn more about interactive tables.';\n",
              "        element.innerHTML = '';\n",
              "        dataTable['output_type'] = 'display_data';\n",
              "        await google.colab.output.renderOutput(dataTable, element);\n",
              "        const docLink = document.createElement('div');\n",
              "        docLink.innerHTML = docLinkHtml;\n",
              "        element.appendChild(docLink);\n",
              "      }\n",
              "    </script>\n",
              "  </div>\n",
              "\n",
              "\n",
              "    <div id=\"df-bb6a8dea-dc05-4687-97dd-3779d262c820\">\n",
              "      <button class=\"colab-df-quickchart\" onclick=\"quickchart('df-bb6a8dea-dc05-4687-97dd-3779d262c820')\"\n",
              "                title=\"Suggest charts\"\n",
              "                style=\"display:none;\">\n",
              "\n",
              "<svg xmlns=\"http://www.w3.org/2000/svg\" height=\"24px\"viewBox=\"0 0 24 24\"\n",
              "     width=\"24px\">\n",
              "    <g>\n",
              "        <path d=\"M19 3H5c-1.1 0-2 .9-2 2v14c0 1.1.9 2 2 2h14c1.1 0 2-.9 2-2V5c0-1.1-.9-2-2-2zM9 17H7v-7h2v7zm4 0h-2V7h2v10zm4 0h-2v-4h2v4z\"/>\n",
              "    </g>\n",
              "</svg>\n",
              "      </button>\n",
              "\n",
              "<style>\n",
              "  .colab-df-quickchart {\n",
              "      --bg-color: #E8F0FE;\n",
              "      --fill-color: #1967D2;\n",
              "      --hover-bg-color: #E2EBFA;\n",
              "      --hover-fill-color: #174EA6;\n",
              "      --disabled-fill-color: #AAA;\n",
              "      --disabled-bg-color: #DDD;\n",
              "  }\n",
              "\n",
              "  [theme=dark] .colab-df-quickchart {\n",
              "      --bg-color: #3B4455;\n",
              "      --fill-color: #D2E3FC;\n",
              "      --hover-bg-color: #434B5C;\n",
              "      --hover-fill-color: #FFFFFF;\n",
              "      --disabled-bg-color: #3B4455;\n",
              "      --disabled-fill-color: #666;\n",
              "  }\n",
              "\n",
              "  .colab-df-quickchart {\n",
              "    background-color: var(--bg-color);\n",
              "    border: none;\n",
              "    border-radius: 50%;\n",
              "    cursor: pointer;\n",
              "    display: none;\n",
              "    fill: var(--fill-color);\n",
              "    height: 32px;\n",
              "    padding: 0;\n",
              "    width: 32px;\n",
              "  }\n",
              "\n",
              "  .colab-df-quickchart:hover {\n",
              "    background-color: var(--hover-bg-color);\n",
              "    box-shadow: 0 1px 2px rgba(60, 64, 67, 0.3), 0 1px 3px 1px rgba(60, 64, 67, 0.15);\n",
              "    fill: var(--button-hover-fill-color);\n",
              "  }\n",
              "\n",
              "  .colab-df-quickchart-complete:disabled,\n",
              "  .colab-df-quickchart-complete:disabled:hover {\n",
              "    background-color: var(--disabled-bg-color);\n",
              "    fill: var(--disabled-fill-color);\n",
              "    box-shadow: none;\n",
              "  }\n",
              "\n",
              "  .colab-df-spinner {\n",
              "    border: 2px solid var(--fill-color);\n",
              "    border-color: transparent;\n",
              "    border-bottom-color: var(--fill-color);\n",
              "    animation:\n",
              "      spin 1s steps(1) infinite;\n",
              "  }\n",
              "\n",
              "  @keyframes spin {\n",
              "    0% {\n",
              "      border-color: transparent;\n",
              "      border-bottom-color: var(--fill-color);\n",
              "      border-left-color: var(--fill-color);\n",
              "    }\n",
              "    20% {\n",
              "      border-color: transparent;\n",
              "      border-left-color: var(--fill-color);\n",
              "      border-top-color: var(--fill-color);\n",
              "    }\n",
              "    30% {\n",
              "      border-color: transparent;\n",
              "      border-left-color: var(--fill-color);\n",
              "      border-top-color: var(--fill-color);\n",
              "      border-right-color: var(--fill-color);\n",
              "    }\n",
              "    40% {\n",
              "      border-color: transparent;\n",
              "      border-right-color: var(--fill-color);\n",
              "      border-top-color: var(--fill-color);\n",
              "    }\n",
              "    60% {\n",
              "      border-color: transparent;\n",
              "      border-right-color: var(--fill-color);\n",
              "    }\n",
              "    80% {\n",
              "      border-color: transparent;\n",
              "      border-right-color: var(--fill-color);\n",
              "      border-bottom-color: var(--fill-color);\n",
              "    }\n",
              "    90% {\n",
              "      border-color: transparent;\n",
              "      border-bottom-color: var(--fill-color);\n",
              "    }\n",
              "  }\n",
              "</style>\n",
              "\n",
              "      <script>\n",
              "        async function quickchart(key) {\n",
              "          const quickchartButtonEl =\n",
              "            document.querySelector('#' + key + ' button');\n",
              "          quickchartButtonEl.disabled = true;  // To prevent multiple clicks.\n",
              "          quickchartButtonEl.classList.add('colab-df-spinner');\n",
              "          try {\n",
              "            const charts = await google.colab.kernel.invokeFunction(\n",
              "                'suggestCharts', [key], {});\n",
              "          } catch (error) {\n",
              "            console.error('Error during call to suggestCharts:', error);\n",
              "          }\n",
              "          quickchartButtonEl.classList.remove('colab-df-spinner');\n",
              "          quickchartButtonEl.classList.add('colab-df-quickchart-complete');\n",
              "        }\n",
              "        (() => {\n",
              "          let quickchartButtonEl =\n",
              "            document.querySelector('#df-bb6a8dea-dc05-4687-97dd-3779d262c820 button');\n",
              "          quickchartButtonEl.style.display =\n",
              "            google.colab.kernel.accessAllowed ? 'block' : 'none';\n",
              "        })();\n",
              "      </script>\n",
              "    </div>\n",
              "\n",
              "    </div>\n",
              "  </div>\n"
            ],
            "application/vnd.google.colaboratory.intrinsic+json": {
              "type": "dataframe",
              "variable_name": "kos_pvt",
              "summary": "{\n  \"name\": \"kos_pvt\",\n  \"rows\": 24,\n  \"fields\": [\n    {\n      \"column\": \"event_hour\",\n      \"properties\": {\n        \"dtype\": \"int32\",\n        \"num_unique_values\": 24,\n        \"samples\": [\n          8,\n          16,\n          0\n        ],\n        \"semantic_type\": \"\",\n        \"description\": \"\"\n      }\n    },\n    {\n      \"column\": \"view\",\n      \"properties\": {\n        \"dtype\": \"number\",\n        \"std\": 54,\n        \"min\": 22,\n        \"max\": 181,\n        \"num_unique_values\": 22,\n        \"samples\": [\n          30,\n          172,\n          148\n        ],\n        \"semantic_type\": \"\",\n        \"description\": \"\"\n      }\n    },\n    {\n      \"column\": \"cart\",\n      \"properties\": {\n        \"dtype\": \"number\",\n        \"std\": 1,\n        \"min\": 0,\n        \"max\": 7,\n        \"num_unique_values\": 6,\n        \"samples\": [\n          0,\n          1,\n          3\n        ],\n        \"semantic_type\": \"\",\n        \"description\": \"\"\n      }\n    },\n    {\n      \"column\": \"purchase\",\n      \"properties\": {\n        \"dtype\": \"number\",\n        \"std\": 0,\n        \"min\": 0,\n        \"max\": 2,\n        \"num_unique_values\": 3,\n        \"samples\": [\n          0,\n          1,\n          2\n        ],\n        \"semantic_type\": \"\",\n        \"description\": \"\"\n      }\n    },\n    {\n      \"column\": \"view_to_purchase\",\n      \"properties\": {\n        \"dtype\": \"number\",\n        \"std\": 0.293952135022271,\n        \"min\": 0.0,\n        \"max\": 1.1494252873563218,\n        \"num_unique_values\": 4,\n        \"samples\": [\n          0.7299270072992701,\n          0.628930817610063,\n          0.0\n        ],\n        \"semantic_type\": \"\",\n        \"description\": \"\"\n      }\n    },\n    {\n      \"column\": \"view_to_cart\",\n      \"properties\": {\n        \"dtype\": \"number\",\n        \"std\": 1.1379308880851353,\n        \"min\": 0.0,\n        \"max\": 4.545454545454546,\n        \"num_unique_values\": 15,\n        \"samples\": [\n          1.257861635220126,\n          4.545454545454546,\n          0.0\n        ],\n        \"semantic_type\": \"\",\n        \"description\": \"\"\n      }\n    },\n    {\n      \"column\": \"cart_to_purchase\",\n      \"properties\": {\n        \"dtype\": \"number\",\n        \"std\": 52.15590182556615,\n        \"min\": 0.0,\n        \"max\": 200.0,\n        \"num_unique_values\": 4,\n        \"samples\": [\n          25.0,\n          50.0,\n          0.0\n        ],\n        \"semantic_type\": \"\",\n        \"description\": \"\"\n      }\n    }\n  ]\n}"
            }
          },
          "metadata": {},
          "execution_count": 58
        }
      ]
    },
    {
      "cell_type": "code",
      "source": [
        "# View trend for kosmekka\n",
        "fig = px.line(kos_pvt.reset_index(), x='event_hour', y='view', line_shape='spline', color_discrete_sequence=px.colors.sequential.Plasma)\n",
        "fig.update_layout(width=700, height=400)"
      ],
      "metadata": {
        "colab": {
          "base_uri": "https://localhost:8080/",
          "height": 417
        },
        "id": "jpZwknN_ZsNF",
        "outputId": "052a4e7a-cc17-4c51-9538-cbe9a5503daa"
      },
      "execution_count": 59,
      "outputs": [
        {
          "output_type": "display_data",
          "data": {
            "application/vnd.plotly.v1+json": {
              "data": [
                {
                  "hovertemplate": "event_hour=%{x}<br>view=%{y}<extra></extra>",
                  "legendgroup": "",
                  "line": {
                    "color": "#0d0887",
                    "dash": "solid",
                    "shape": "spline"
                  },
                  "marker": {
                    "symbol": "circle"
                  },
                  "mode": "lines",
                  "name": "",
                  "orientation": "v",
                  "showlegend": false,
                  "x": {
                    "dtype": "i4",
                    "bdata": "AAAAAAEAAAACAAAAAwAAAAQAAAAFAAAABgAAAAcAAAAIAAAACQAAAAoAAAALAAAADAAAAA0AAAAOAAAADwAAABAAAAARAAAAEgAAABMAAAAUAAAAFQAAABYAAAAXAAAA"
                  },
                  "xaxis": "x",
                  "y": {
                    "dtype": "i2",
                    "bdata": "HgAWACIAKgA4AF8AdQCJAJQApQCuAI4AoACsAJ8AmgCUAK8AmgC1AJsAZwBCADAA"
                  },
                  "yaxis": "y",
                  "type": "scatter"
                }
              ],
              "layout": {
                "template": {
                  "data": {
                    "histogram2dcontour": [
                      {
                        "type": "histogram2dcontour",
                        "colorbar": {
                          "outlinewidth": 0,
                          "ticks": ""
                        },
                        "colorscale": [
                          [
                            0,
                            "#0d0887"
                          ],
                          [
                            0.1111111111111111,
                            "#46039f"
                          ],
                          [
                            0.2222222222222222,
                            "#7201a8"
                          ],
                          [
                            0.3333333333333333,
                            "#9c179e"
                          ],
                          [
                            0.4444444444444444,
                            "#bd3786"
                          ],
                          [
                            0.5555555555555556,
                            "#d8576b"
                          ],
                          [
                            0.6666666666666666,
                            "#ed7953"
                          ],
                          [
                            0.7777777777777778,
                            "#fb9f3a"
                          ],
                          [
                            0.8888888888888888,
                            "#fdca26"
                          ],
                          [
                            1,
                            "#f0f921"
                          ]
                        ]
                      }
                    ],
                    "choropleth": [
                      {
                        "type": "choropleth",
                        "colorbar": {
                          "outlinewidth": 0,
                          "ticks": ""
                        }
                      }
                    ],
                    "histogram2d": [
                      {
                        "type": "histogram2d",
                        "colorbar": {
                          "outlinewidth": 0,
                          "ticks": ""
                        },
                        "colorscale": [
                          [
                            0,
                            "#0d0887"
                          ],
                          [
                            0.1111111111111111,
                            "#46039f"
                          ],
                          [
                            0.2222222222222222,
                            "#7201a8"
                          ],
                          [
                            0.3333333333333333,
                            "#9c179e"
                          ],
                          [
                            0.4444444444444444,
                            "#bd3786"
                          ],
                          [
                            0.5555555555555556,
                            "#d8576b"
                          ],
                          [
                            0.6666666666666666,
                            "#ed7953"
                          ],
                          [
                            0.7777777777777778,
                            "#fb9f3a"
                          ],
                          [
                            0.8888888888888888,
                            "#fdca26"
                          ],
                          [
                            1,
                            "#f0f921"
                          ]
                        ]
                      }
                    ],
                    "heatmap": [
                      {
                        "type": "heatmap",
                        "colorbar": {
                          "outlinewidth": 0,
                          "ticks": ""
                        },
                        "colorscale": [
                          [
                            0,
                            "#0d0887"
                          ],
                          [
                            0.1111111111111111,
                            "#46039f"
                          ],
                          [
                            0.2222222222222222,
                            "#7201a8"
                          ],
                          [
                            0.3333333333333333,
                            "#9c179e"
                          ],
                          [
                            0.4444444444444444,
                            "#bd3786"
                          ],
                          [
                            0.5555555555555556,
                            "#d8576b"
                          ],
                          [
                            0.6666666666666666,
                            "#ed7953"
                          ],
                          [
                            0.7777777777777778,
                            "#fb9f3a"
                          ],
                          [
                            0.8888888888888888,
                            "#fdca26"
                          ],
                          [
                            1,
                            "#f0f921"
                          ]
                        ]
                      }
                    ],
                    "contourcarpet": [
                      {
                        "type": "contourcarpet",
                        "colorbar": {
                          "outlinewidth": 0,
                          "ticks": ""
                        }
                      }
                    ],
                    "contour": [
                      {
                        "type": "contour",
                        "colorbar": {
                          "outlinewidth": 0,
                          "ticks": ""
                        },
                        "colorscale": [
                          [
                            0,
                            "#0d0887"
                          ],
                          [
                            0.1111111111111111,
                            "#46039f"
                          ],
                          [
                            0.2222222222222222,
                            "#7201a8"
                          ],
                          [
                            0.3333333333333333,
                            "#9c179e"
                          ],
                          [
                            0.4444444444444444,
                            "#bd3786"
                          ],
                          [
                            0.5555555555555556,
                            "#d8576b"
                          ],
                          [
                            0.6666666666666666,
                            "#ed7953"
                          ],
                          [
                            0.7777777777777778,
                            "#fb9f3a"
                          ],
                          [
                            0.8888888888888888,
                            "#fdca26"
                          ],
                          [
                            1,
                            "#f0f921"
                          ]
                        ]
                      }
                    ],
                    "surface": [
                      {
                        "type": "surface",
                        "colorbar": {
                          "outlinewidth": 0,
                          "ticks": ""
                        },
                        "colorscale": [
                          [
                            0,
                            "#0d0887"
                          ],
                          [
                            0.1111111111111111,
                            "#46039f"
                          ],
                          [
                            0.2222222222222222,
                            "#7201a8"
                          ],
                          [
                            0.3333333333333333,
                            "#9c179e"
                          ],
                          [
                            0.4444444444444444,
                            "#bd3786"
                          ],
                          [
                            0.5555555555555556,
                            "#d8576b"
                          ],
                          [
                            0.6666666666666666,
                            "#ed7953"
                          ],
                          [
                            0.7777777777777778,
                            "#fb9f3a"
                          ],
                          [
                            0.8888888888888888,
                            "#fdca26"
                          ],
                          [
                            1,
                            "#f0f921"
                          ]
                        ]
                      }
                    ],
                    "mesh3d": [
                      {
                        "type": "mesh3d",
                        "colorbar": {
                          "outlinewidth": 0,
                          "ticks": ""
                        }
                      }
                    ],
                    "scatter": [
                      {
                        "fillpattern": {
                          "fillmode": "overlay",
                          "size": 10,
                          "solidity": 0.2
                        },
                        "type": "scatter"
                      }
                    ],
                    "parcoords": [
                      {
                        "type": "parcoords",
                        "line": {
                          "colorbar": {
                            "outlinewidth": 0,
                            "ticks": ""
                          }
                        }
                      }
                    ],
                    "scatterpolargl": [
                      {
                        "type": "scatterpolargl",
                        "marker": {
                          "colorbar": {
                            "outlinewidth": 0,
                            "ticks": ""
                          }
                        }
                      }
                    ],
                    "bar": [
                      {
                        "error_x": {
                          "color": "#2a3f5f"
                        },
                        "error_y": {
                          "color": "#2a3f5f"
                        },
                        "marker": {
                          "line": {
                            "color": "#E5ECF6",
                            "width": 0.5
                          },
                          "pattern": {
                            "fillmode": "overlay",
                            "size": 10,
                            "solidity": 0.2
                          }
                        },
                        "type": "bar"
                      }
                    ],
                    "scattergeo": [
                      {
                        "type": "scattergeo",
                        "marker": {
                          "colorbar": {
                            "outlinewidth": 0,
                            "ticks": ""
                          }
                        }
                      }
                    ],
                    "scatterpolar": [
                      {
                        "type": "scatterpolar",
                        "marker": {
                          "colorbar": {
                            "outlinewidth": 0,
                            "ticks": ""
                          }
                        }
                      }
                    ],
                    "histogram": [
                      {
                        "marker": {
                          "pattern": {
                            "fillmode": "overlay",
                            "size": 10,
                            "solidity": 0.2
                          }
                        },
                        "type": "histogram"
                      }
                    ],
                    "scattergl": [
                      {
                        "type": "scattergl",
                        "marker": {
                          "colorbar": {
                            "outlinewidth": 0,
                            "ticks": ""
                          }
                        }
                      }
                    ],
                    "scatter3d": [
                      {
                        "type": "scatter3d",
                        "line": {
                          "colorbar": {
                            "outlinewidth": 0,
                            "ticks": ""
                          }
                        },
                        "marker": {
                          "colorbar": {
                            "outlinewidth": 0,
                            "ticks": ""
                          }
                        }
                      }
                    ],
                    "scattermap": [
                      {
                        "type": "scattermap",
                        "marker": {
                          "colorbar": {
                            "outlinewidth": 0,
                            "ticks": ""
                          }
                        }
                      }
                    ],
                    "scattermapbox": [
                      {
                        "type": "scattermapbox",
                        "marker": {
                          "colorbar": {
                            "outlinewidth": 0,
                            "ticks": ""
                          }
                        }
                      }
                    ],
                    "scatterternary": [
                      {
                        "type": "scatterternary",
                        "marker": {
                          "colorbar": {
                            "outlinewidth": 0,
                            "ticks": ""
                          }
                        }
                      }
                    ],
                    "scattercarpet": [
                      {
                        "type": "scattercarpet",
                        "marker": {
                          "colorbar": {
                            "outlinewidth": 0,
                            "ticks": ""
                          }
                        }
                      }
                    ],
                    "carpet": [
                      {
                        "aaxis": {
                          "endlinecolor": "#2a3f5f",
                          "gridcolor": "white",
                          "linecolor": "white",
                          "minorgridcolor": "white",
                          "startlinecolor": "#2a3f5f"
                        },
                        "baxis": {
                          "endlinecolor": "#2a3f5f",
                          "gridcolor": "white",
                          "linecolor": "white",
                          "minorgridcolor": "white",
                          "startlinecolor": "#2a3f5f"
                        },
                        "type": "carpet"
                      }
                    ],
                    "table": [
                      {
                        "cells": {
                          "fill": {
                            "color": "#EBF0F8"
                          },
                          "line": {
                            "color": "white"
                          }
                        },
                        "header": {
                          "fill": {
                            "color": "#C8D4E3"
                          },
                          "line": {
                            "color": "white"
                          }
                        },
                        "type": "table"
                      }
                    ],
                    "barpolar": [
                      {
                        "marker": {
                          "line": {
                            "color": "#E5ECF6",
                            "width": 0.5
                          },
                          "pattern": {
                            "fillmode": "overlay",
                            "size": 10,
                            "solidity": 0.2
                          }
                        },
                        "type": "barpolar"
                      }
                    ],
                    "pie": [
                      {
                        "automargin": true,
                        "type": "pie"
                      }
                    ]
                  },
                  "layout": {
                    "autotypenumbers": "strict",
                    "colorway": [
                      "#636efa",
                      "#EF553B",
                      "#00cc96",
                      "#ab63fa",
                      "#FFA15A",
                      "#19d3f3",
                      "#FF6692",
                      "#B6E880",
                      "#FF97FF",
                      "#FECB52"
                    ],
                    "font": {
                      "color": "#2a3f5f"
                    },
                    "hovermode": "closest",
                    "hoverlabel": {
                      "align": "left"
                    },
                    "paper_bgcolor": "white",
                    "plot_bgcolor": "#E5ECF6",
                    "polar": {
                      "bgcolor": "#E5ECF6",
                      "angularaxis": {
                        "gridcolor": "white",
                        "linecolor": "white",
                        "ticks": ""
                      },
                      "radialaxis": {
                        "gridcolor": "white",
                        "linecolor": "white",
                        "ticks": ""
                      }
                    },
                    "ternary": {
                      "bgcolor": "#E5ECF6",
                      "aaxis": {
                        "gridcolor": "white",
                        "linecolor": "white",
                        "ticks": ""
                      },
                      "baxis": {
                        "gridcolor": "white",
                        "linecolor": "white",
                        "ticks": ""
                      },
                      "caxis": {
                        "gridcolor": "white",
                        "linecolor": "white",
                        "ticks": ""
                      }
                    },
                    "coloraxis": {
                      "colorbar": {
                        "outlinewidth": 0,
                        "ticks": ""
                      }
                    },
                    "colorscale": {
                      "sequential": [
                        [
                          0,
                          "#0d0887"
                        ],
                        [
                          0.1111111111111111,
                          "#46039f"
                        ],
                        [
                          0.2222222222222222,
                          "#7201a8"
                        ],
                        [
                          0.3333333333333333,
                          "#9c179e"
                        ],
                        [
                          0.4444444444444444,
                          "#bd3786"
                        ],
                        [
                          0.5555555555555556,
                          "#d8576b"
                        ],
                        [
                          0.6666666666666666,
                          "#ed7953"
                        ],
                        [
                          0.7777777777777778,
                          "#fb9f3a"
                        ],
                        [
                          0.8888888888888888,
                          "#fdca26"
                        ],
                        [
                          1,
                          "#f0f921"
                        ]
                      ],
                      "sequentialminus": [
                        [
                          0,
                          "#0d0887"
                        ],
                        [
                          0.1111111111111111,
                          "#46039f"
                        ],
                        [
                          0.2222222222222222,
                          "#7201a8"
                        ],
                        [
                          0.3333333333333333,
                          "#9c179e"
                        ],
                        [
                          0.4444444444444444,
                          "#bd3786"
                        ],
                        [
                          0.5555555555555556,
                          "#d8576b"
                        ],
                        [
                          0.6666666666666666,
                          "#ed7953"
                        ],
                        [
                          0.7777777777777778,
                          "#fb9f3a"
                        ],
                        [
                          0.8888888888888888,
                          "#fdca26"
                        ],
                        [
                          1,
                          "#f0f921"
                        ]
                      ],
                      "diverging": [
                        [
                          0,
                          "#8e0152"
                        ],
                        [
                          0.1,
                          "#c51b7d"
                        ],
                        [
                          0.2,
                          "#de77ae"
                        ],
                        [
                          0.3,
                          "#f1b6da"
                        ],
                        [
                          0.4,
                          "#fde0ef"
                        ],
                        [
                          0.5,
                          "#f7f7f7"
                        ],
                        [
                          0.6,
                          "#e6f5d0"
                        ],
                        [
                          0.7,
                          "#b8e186"
                        ],
                        [
                          0.8,
                          "#7fbc41"
                        ],
                        [
                          0.9,
                          "#4d9221"
                        ],
                        [
                          1,
                          "#276419"
                        ]
                      ]
                    },
                    "xaxis": {
                      "gridcolor": "white",
                      "linecolor": "white",
                      "ticks": "",
                      "title": {
                        "standoff": 15
                      },
                      "zerolinecolor": "white",
                      "automargin": true,
                      "zerolinewidth": 2
                    },
                    "yaxis": {
                      "gridcolor": "white",
                      "linecolor": "white",
                      "ticks": "",
                      "title": {
                        "standoff": 15
                      },
                      "zerolinecolor": "white",
                      "automargin": true,
                      "zerolinewidth": 2
                    },
                    "scene": {
                      "xaxis": {
                        "backgroundcolor": "#E5ECF6",
                        "gridcolor": "white",
                        "linecolor": "white",
                        "showbackground": true,
                        "ticks": "",
                        "zerolinecolor": "white",
                        "gridwidth": 2
                      },
                      "yaxis": {
                        "backgroundcolor": "#E5ECF6",
                        "gridcolor": "white",
                        "linecolor": "white",
                        "showbackground": true,
                        "ticks": "",
                        "zerolinecolor": "white",
                        "gridwidth": 2
                      },
                      "zaxis": {
                        "backgroundcolor": "#E5ECF6",
                        "gridcolor": "white",
                        "linecolor": "white",
                        "showbackground": true,
                        "ticks": "",
                        "zerolinecolor": "white",
                        "gridwidth": 2
                      }
                    },
                    "shapedefaults": {
                      "line": {
                        "color": "#2a3f5f"
                      }
                    },
                    "annotationdefaults": {
                      "arrowcolor": "#2a3f5f",
                      "arrowhead": 0,
                      "arrowwidth": 1
                    },
                    "geo": {
                      "bgcolor": "white",
                      "landcolor": "#E5ECF6",
                      "subunitcolor": "white",
                      "showland": true,
                      "showlakes": true,
                      "lakecolor": "white"
                    },
                    "title": {
                      "x": 0.05
                    },
                    "mapbox": {
                      "style": "light"
                    }
                  }
                },
                "xaxis": {
                  "anchor": "y",
                  "domain": [
                    0,
                    1
                  ],
                  "title": {
                    "text": "event_hour"
                  }
                },
                "yaxis": {
                  "anchor": "x",
                  "domain": [
                    0,
                    1
                  ],
                  "title": {
                    "text": "view"
                  }
                },
                "legend": {
                  "tracegroupgap": 0
                },
                "margin": {
                  "t": 60
                },
                "width": 700,
                "height": 400
              },
              "config": {
                "plotlyServerURL": "https://plot.ly"
              }
            },
            "text/html": [
              "<div>            <script src=\"https://cdnjs.cloudflare.com/ajax/libs/mathjax/2.7.5/MathJax.js?config=TeX-AMS-MML_SVG\"></script><script type=\"text/javascript\">if (window.MathJax && window.MathJax.Hub && window.MathJax.Hub.Config) {window.MathJax.Hub.Config({SVG: {font: \"STIX-Web\"}});}</script>                <script type=\"text/javascript\">window.PlotlyConfig = {MathJaxConfig: 'local'};</script>\n",
              "        <script charset=\"utf-8\" src=\"https://cdn.plot.ly/plotly-3.0.1.min.js\" integrity=\"sha256-oy6Be7Eh6eiQFs5M7oXuPxxm9qbJXEtTpfSI93dW16Q=\" crossorigin=\"anonymous\"></script>                <div id=\"e945c5af-3d4a-4b35-bb4d-f4f0512f2cbf\" class=\"plotly-graph-div\" style=\"height:400px; width:700px;\"></div>            <script type=\"text/javascript\">                window.PLOTLYENV=window.PLOTLYENV || {};                                if (document.getElementById(\"e945c5af-3d4a-4b35-bb4d-f4f0512f2cbf\")) {                    Plotly.newPlot(                        \"e945c5af-3d4a-4b35-bb4d-f4f0512f2cbf\",                        [{\"hovertemplate\":\"event_hour=%{x}\\u003cbr\\u003eview=%{y}\\u003cextra\\u003e\\u003c\\u002fextra\\u003e\",\"legendgroup\":\"\",\"line\":{\"color\":\"#0d0887\",\"dash\":\"solid\",\"shape\":\"spline\"},\"marker\":{\"symbol\":\"circle\"},\"mode\":\"lines\",\"name\":\"\",\"orientation\":\"v\",\"showlegend\":false,\"x\":{\"dtype\":\"i4\",\"bdata\":\"AAAAAAEAAAACAAAAAwAAAAQAAAAFAAAABgAAAAcAAAAIAAAACQAAAAoAAAALAAAADAAAAA0AAAAOAAAADwAAABAAAAARAAAAEgAAABMAAAAUAAAAFQAAABYAAAAXAAAA\"},\"xaxis\":\"x\",\"y\":{\"dtype\":\"i2\",\"bdata\":\"HgAWACIAKgA4AF8AdQCJAJQApQCuAI4AoACsAJ8AmgCUAK8AmgC1AJsAZwBCADAA\"},\"yaxis\":\"y\",\"type\":\"scatter\"}],                        {\"template\":{\"data\":{\"histogram2dcontour\":[{\"type\":\"histogram2dcontour\",\"colorbar\":{\"outlinewidth\":0,\"ticks\":\"\"},\"colorscale\":[[0.0,\"#0d0887\"],[0.1111111111111111,\"#46039f\"],[0.2222222222222222,\"#7201a8\"],[0.3333333333333333,\"#9c179e\"],[0.4444444444444444,\"#bd3786\"],[0.5555555555555556,\"#d8576b\"],[0.6666666666666666,\"#ed7953\"],[0.7777777777777778,\"#fb9f3a\"],[0.8888888888888888,\"#fdca26\"],[1.0,\"#f0f921\"]]}],\"choropleth\":[{\"type\":\"choropleth\",\"colorbar\":{\"outlinewidth\":0,\"ticks\":\"\"}}],\"histogram2d\":[{\"type\":\"histogram2d\",\"colorbar\":{\"outlinewidth\":0,\"ticks\":\"\"},\"colorscale\":[[0.0,\"#0d0887\"],[0.1111111111111111,\"#46039f\"],[0.2222222222222222,\"#7201a8\"],[0.3333333333333333,\"#9c179e\"],[0.4444444444444444,\"#bd3786\"],[0.5555555555555556,\"#d8576b\"],[0.6666666666666666,\"#ed7953\"],[0.7777777777777778,\"#fb9f3a\"],[0.8888888888888888,\"#fdca26\"],[1.0,\"#f0f921\"]]}],\"heatmap\":[{\"type\":\"heatmap\",\"colorbar\":{\"outlinewidth\":0,\"ticks\":\"\"},\"colorscale\":[[0.0,\"#0d0887\"],[0.1111111111111111,\"#46039f\"],[0.2222222222222222,\"#7201a8\"],[0.3333333333333333,\"#9c179e\"],[0.4444444444444444,\"#bd3786\"],[0.5555555555555556,\"#d8576b\"],[0.6666666666666666,\"#ed7953\"],[0.7777777777777778,\"#fb9f3a\"],[0.8888888888888888,\"#fdca26\"],[1.0,\"#f0f921\"]]}],\"contourcarpet\":[{\"type\":\"contourcarpet\",\"colorbar\":{\"outlinewidth\":0,\"ticks\":\"\"}}],\"contour\":[{\"type\":\"contour\",\"colorbar\":{\"outlinewidth\":0,\"ticks\":\"\"},\"colorscale\":[[0.0,\"#0d0887\"],[0.1111111111111111,\"#46039f\"],[0.2222222222222222,\"#7201a8\"],[0.3333333333333333,\"#9c179e\"],[0.4444444444444444,\"#bd3786\"],[0.5555555555555556,\"#d8576b\"],[0.6666666666666666,\"#ed7953\"],[0.7777777777777778,\"#fb9f3a\"],[0.8888888888888888,\"#fdca26\"],[1.0,\"#f0f921\"]]}],\"surface\":[{\"type\":\"surface\",\"colorbar\":{\"outlinewidth\":0,\"ticks\":\"\"},\"colorscale\":[[0.0,\"#0d0887\"],[0.1111111111111111,\"#46039f\"],[0.2222222222222222,\"#7201a8\"],[0.3333333333333333,\"#9c179e\"],[0.4444444444444444,\"#bd3786\"],[0.5555555555555556,\"#d8576b\"],[0.6666666666666666,\"#ed7953\"],[0.7777777777777778,\"#fb9f3a\"],[0.8888888888888888,\"#fdca26\"],[1.0,\"#f0f921\"]]}],\"mesh3d\":[{\"type\":\"mesh3d\",\"colorbar\":{\"outlinewidth\":0,\"ticks\":\"\"}}],\"scatter\":[{\"fillpattern\":{\"fillmode\":\"overlay\",\"size\":10,\"solidity\":0.2},\"type\":\"scatter\"}],\"parcoords\":[{\"type\":\"parcoords\",\"line\":{\"colorbar\":{\"outlinewidth\":0,\"ticks\":\"\"}}}],\"scatterpolargl\":[{\"type\":\"scatterpolargl\",\"marker\":{\"colorbar\":{\"outlinewidth\":0,\"ticks\":\"\"}}}],\"bar\":[{\"error_x\":{\"color\":\"#2a3f5f\"},\"error_y\":{\"color\":\"#2a3f5f\"},\"marker\":{\"line\":{\"color\":\"#E5ECF6\",\"width\":0.5},\"pattern\":{\"fillmode\":\"overlay\",\"size\":10,\"solidity\":0.2}},\"type\":\"bar\"}],\"scattergeo\":[{\"type\":\"scattergeo\",\"marker\":{\"colorbar\":{\"outlinewidth\":0,\"ticks\":\"\"}}}],\"scatterpolar\":[{\"type\":\"scatterpolar\",\"marker\":{\"colorbar\":{\"outlinewidth\":0,\"ticks\":\"\"}}}],\"histogram\":[{\"marker\":{\"pattern\":{\"fillmode\":\"overlay\",\"size\":10,\"solidity\":0.2}},\"type\":\"histogram\"}],\"scattergl\":[{\"type\":\"scattergl\",\"marker\":{\"colorbar\":{\"outlinewidth\":0,\"ticks\":\"\"}}}],\"scatter3d\":[{\"type\":\"scatter3d\",\"line\":{\"colorbar\":{\"outlinewidth\":0,\"ticks\":\"\"}},\"marker\":{\"colorbar\":{\"outlinewidth\":0,\"ticks\":\"\"}}}],\"scattermap\":[{\"type\":\"scattermap\",\"marker\":{\"colorbar\":{\"outlinewidth\":0,\"ticks\":\"\"}}}],\"scattermapbox\":[{\"type\":\"scattermapbox\",\"marker\":{\"colorbar\":{\"outlinewidth\":0,\"ticks\":\"\"}}}],\"scatterternary\":[{\"type\":\"scatterternary\",\"marker\":{\"colorbar\":{\"outlinewidth\":0,\"ticks\":\"\"}}}],\"scattercarpet\":[{\"type\":\"scattercarpet\",\"marker\":{\"colorbar\":{\"outlinewidth\":0,\"ticks\":\"\"}}}],\"carpet\":[{\"aaxis\":{\"endlinecolor\":\"#2a3f5f\",\"gridcolor\":\"white\",\"linecolor\":\"white\",\"minorgridcolor\":\"white\",\"startlinecolor\":\"#2a3f5f\"},\"baxis\":{\"endlinecolor\":\"#2a3f5f\",\"gridcolor\":\"white\",\"linecolor\":\"white\",\"minorgridcolor\":\"white\",\"startlinecolor\":\"#2a3f5f\"},\"type\":\"carpet\"}],\"table\":[{\"cells\":{\"fill\":{\"color\":\"#EBF0F8\"},\"line\":{\"color\":\"white\"}},\"header\":{\"fill\":{\"color\":\"#C8D4E3\"},\"line\":{\"color\":\"white\"}},\"type\":\"table\"}],\"barpolar\":[{\"marker\":{\"line\":{\"color\":\"#E5ECF6\",\"width\":0.5},\"pattern\":{\"fillmode\":\"overlay\",\"size\":10,\"solidity\":0.2}},\"type\":\"barpolar\"}],\"pie\":[{\"automargin\":true,\"type\":\"pie\"}]},\"layout\":{\"autotypenumbers\":\"strict\",\"colorway\":[\"#636efa\",\"#EF553B\",\"#00cc96\",\"#ab63fa\",\"#FFA15A\",\"#19d3f3\",\"#FF6692\",\"#B6E880\",\"#FF97FF\",\"#FECB52\"],\"font\":{\"color\":\"#2a3f5f\"},\"hovermode\":\"closest\",\"hoverlabel\":{\"align\":\"left\"},\"paper_bgcolor\":\"white\",\"plot_bgcolor\":\"#E5ECF6\",\"polar\":{\"bgcolor\":\"#E5ECF6\",\"angularaxis\":{\"gridcolor\":\"white\",\"linecolor\":\"white\",\"ticks\":\"\"},\"radialaxis\":{\"gridcolor\":\"white\",\"linecolor\":\"white\",\"ticks\":\"\"}},\"ternary\":{\"bgcolor\":\"#E5ECF6\",\"aaxis\":{\"gridcolor\":\"white\",\"linecolor\":\"white\",\"ticks\":\"\"},\"baxis\":{\"gridcolor\":\"white\",\"linecolor\":\"white\",\"ticks\":\"\"},\"caxis\":{\"gridcolor\":\"white\",\"linecolor\":\"white\",\"ticks\":\"\"}},\"coloraxis\":{\"colorbar\":{\"outlinewidth\":0,\"ticks\":\"\"}},\"colorscale\":{\"sequential\":[[0.0,\"#0d0887\"],[0.1111111111111111,\"#46039f\"],[0.2222222222222222,\"#7201a8\"],[0.3333333333333333,\"#9c179e\"],[0.4444444444444444,\"#bd3786\"],[0.5555555555555556,\"#d8576b\"],[0.6666666666666666,\"#ed7953\"],[0.7777777777777778,\"#fb9f3a\"],[0.8888888888888888,\"#fdca26\"],[1.0,\"#f0f921\"]],\"sequentialminus\":[[0.0,\"#0d0887\"],[0.1111111111111111,\"#46039f\"],[0.2222222222222222,\"#7201a8\"],[0.3333333333333333,\"#9c179e\"],[0.4444444444444444,\"#bd3786\"],[0.5555555555555556,\"#d8576b\"],[0.6666666666666666,\"#ed7953\"],[0.7777777777777778,\"#fb9f3a\"],[0.8888888888888888,\"#fdca26\"],[1.0,\"#f0f921\"]],\"diverging\":[[0,\"#8e0152\"],[0.1,\"#c51b7d\"],[0.2,\"#de77ae\"],[0.3,\"#f1b6da\"],[0.4,\"#fde0ef\"],[0.5,\"#f7f7f7\"],[0.6,\"#e6f5d0\"],[0.7,\"#b8e186\"],[0.8,\"#7fbc41\"],[0.9,\"#4d9221\"],[1,\"#276419\"]]},\"xaxis\":{\"gridcolor\":\"white\",\"linecolor\":\"white\",\"ticks\":\"\",\"title\":{\"standoff\":15},\"zerolinecolor\":\"white\",\"automargin\":true,\"zerolinewidth\":2},\"yaxis\":{\"gridcolor\":\"white\",\"linecolor\":\"white\",\"ticks\":\"\",\"title\":{\"standoff\":15},\"zerolinecolor\":\"white\",\"automargin\":true,\"zerolinewidth\":2},\"scene\":{\"xaxis\":{\"backgroundcolor\":\"#E5ECF6\",\"gridcolor\":\"white\",\"linecolor\":\"white\",\"showbackground\":true,\"ticks\":\"\",\"zerolinecolor\":\"white\",\"gridwidth\":2},\"yaxis\":{\"backgroundcolor\":\"#E5ECF6\",\"gridcolor\":\"white\",\"linecolor\":\"white\",\"showbackground\":true,\"ticks\":\"\",\"zerolinecolor\":\"white\",\"gridwidth\":2},\"zaxis\":{\"backgroundcolor\":\"#E5ECF6\",\"gridcolor\":\"white\",\"linecolor\":\"white\",\"showbackground\":true,\"ticks\":\"\",\"zerolinecolor\":\"white\",\"gridwidth\":2}},\"shapedefaults\":{\"line\":{\"color\":\"#2a3f5f\"}},\"annotationdefaults\":{\"arrowcolor\":\"#2a3f5f\",\"arrowhead\":0,\"arrowwidth\":1},\"geo\":{\"bgcolor\":\"white\",\"landcolor\":\"#E5ECF6\",\"subunitcolor\":\"white\",\"showland\":true,\"showlakes\":true,\"lakecolor\":\"white\"},\"title\":{\"x\":0.05},\"mapbox\":{\"style\":\"light\"}}},\"xaxis\":{\"anchor\":\"y\",\"domain\":[0.0,1.0],\"title\":{\"text\":\"event_hour\"}},\"yaxis\":{\"anchor\":\"x\",\"domain\":[0.0,1.0],\"title\":{\"text\":\"view\"}},\"legend\":{\"tracegroupgap\":0},\"margin\":{\"t\":60},\"width\":700,\"height\":400},                        {\"responsive\": true}                    ).then(function(){\n",
              "                            \n",
              "var gd = document.getElementById('e945c5af-3d4a-4b35-bb4d-f4f0512f2cbf');\n",
              "var x = new MutationObserver(function (mutations, observer) {{\n",
              "        var display = window.getComputedStyle(gd).display;\n",
              "        if (!display || display === 'none') {{\n",
              "            console.log([gd, 'removed!']);\n",
              "            Plotly.purge(gd);\n",
              "            observer.disconnect();\n",
              "        }}\n",
              "}});\n",
              "\n",
              "// Listen for the removal of the full notebook cells\n",
              "var notebookContainer = gd.closest('#notebook-container');\n",
              "if (notebookContainer) {{\n",
              "    x.observe(notebookContainer, {childList: true});\n",
              "}}\n",
              "\n",
              "// Listen for the clearing of the current output cell\n",
              "var outputEl = gd.closest('.output');\n",
              "if (outputEl) {{\n",
              "    x.observe(outputEl, {childList: true});\n",
              "}}\n",
              "\n",
              "                        })                };            </script>        </div>"
            ]
          },
          "metadata": {}
        }
      ]
    },
    {
      "cell_type": "code",
      "source": [
        "# view to purchase conversion for kosmekka\n",
        "fig = px.line(kos_pvt.reset_index(), x='event_hour', y='view_to_purchase', line_shape='spline', color_discrete_sequence=px.colors.sequential.Plasma)\n",
        "fig.update_layout(width=700, height=400)"
      ],
      "metadata": {
        "colab": {
          "base_uri": "https://localhost:8080/",
          "height": 417
        },
        "id": "INFtiWRjZsPe",
        "outputId": "5aeb2228-a04b-4c43-c69d-69f5d6a6d87e"
      },
      "execution_count": 60,
      "outputs": [
        {
          "output_type": "display_data",
          "data": {
            "application/vnd.plotly.v1+json": {
              "data": [
                {
                  "hovertemplate": "event_hour=%{x}<br>view_to_purchase=%{y}<extra></extra>",
                  "legendgroup": "",
                  "line": {
                    "color": "#0d0887",
                    "dash": "solid",
                    "shape": "spline"
                  },
                  "marker": {
                    "symbol": "circle"
                  },
                  "mode": "lines",
                  "name": "",
                  "orientation": "v",
                  "showlegend": false,
                  "x": {
                    "dtype": "i4",
                    "bdata": "AAAAAAEAAAACAAAAAwAAAAQAAAAFAAAABgAAAAcAAAAIAAAACQAAAAoAAAALAAAADAAAAA0AAAAOAAAADwAAABAAAAARAAAAEgAAABMAAAAUAAAAFQAAABYAAAAXAAAA"
                  },
                  "xaxis": "x",
                  "y": {
                    "dtype": "f8",
                    "bdata": "AAAAAAAAAAAAAAAAAAAAAAAAAAAAAAAAAAAAAAAAAAAAAAAAAAAAAAAAAAAAAAAAAAAAAAAAAAAcKRrij1vnPwAAAAAAAAAAAAAAAAAAAAC8QCbFC2TyPwAAAAAAAAAAAAAAAAAAAAAAAAAAAAAAAMqdooUzIOQ/AAAAAAAAAAAAAAAAAAAAAAAAAAAAAAAAAAAAAAAAAAAAAAAAAAAAAAAAAAAAAAAAAAAAAAAAAAAAAAAAAAAAAAAAAAAAAAAA"
                  },
                  "yaxis": "y",
                  "type": "scatter"
                }
              ],
              "layout": {
                "template": {
                  "data": {
                    "histogram2dcontour": [
                      {
                        "type": "histogram2dcontour",
                        "colorbar": {
                          "outlinewidth": 0,
                          "ticks": ""
                        },
                        "colorscale": [
                          [
                            0,
                            "#0d0887"
                          ],
                          [
                            0.1111111111111111,
                            "#46039f"
                          ],
                          [
                            0.2222222222222222,
                            "#7201a8"
                          ],
                          [
                            0.3333333333333333,
                            "#9c179e"
                          ],
                          [
                            0.4444444444444444,
                            "#bd3786"
                          ],
                          [
                            0.5555555555555556,
                            "#d8576b"
                          ],
                          [
                            0.6666666666666666,
                            "#ed7953"
                          ],
                          [
                            0.7777777777777778,
                            "#fb9f3a"
                          ],
                          [
                            0.8888888888888888,
                            "#fdca26"
                          ],
                          [
                            1,
                            "#f0f921"
                          ]
                        ]
                      }
                    ],
                    "choropleth": [
                      {
                        "type": "choropleth",
                        "colorbar": {
                          "outlinewidth": 0,
                          "ticks": ""
                        }
                      }
                    ],
                    "histogram2d": [
                      {
                        "type": "histogram2d",
                        "colorbar": {
                          "outlinewidth": 0,
                          "ticks": ""
                        },
                        "colorscale": [
                          [
                            0,
                            "#0d0887"
                          ],
                          [
                            0.1111111111111111,
                            "#46039f"
                          ],
                          [
                            0.2222222222222222,
                            "#7201a8"
                          ],
                          [
                            0.3333333333333333,
                            "#9c179e"
                          ],
                          [
                            0.4444444444444444,
                            "#bd3786"
                          ],
                          [
                            0.5555555555555556,
                            "#d8576b"
                          ],
                          [
                            0.6666666666666666,
                            "#ed7953"
                          ],
                          [
                            0.7777777777777778,
                            "#fb9f3a"
                          ],
                          [
                            0.8888888888888888,
                            "#fdca26"
                          ],
                          [
                            1,
                            "#f0f921"
                          ]
                        ]
                      }
                    ],
                    "heatmap": [
                      {
                        "type": "heatmap",
                        "colorbar": {
                          "outlinewidth": 0,
                          "ticks": ""
                        },
                        "colorscale": [
                          [
                            0,
                            "#0d0887"
                          ],
                          [
                            0.1111111111111111,
                            "#46039f"
                          ],
                          [
                            0.2222222222222222,
                            "#7201a8"
                          ],
                          [
                            0.3333333333333333,
                            "#9c179e"
                          ],
                          [
                            0.4444444444444444,
                            "#bd3786"
                          ],
                          [
                            0.5555555555555556,
                            "#d8576b"
                          ],
                          [
                            0.6666666666666666,
                            "#ed7953"
                          ],
                          [
                            0.7777777777777778,
                            "#fb9f3a"
                          ],
                          [
                            0.8888888888888888,
                            "#fdca26"
                          ],
                          [
                            1,
                            "#f0f921"
                          ]
                        ]
                      }
                    ],
                    "contourcarpet": [
                      {
                        "type": "contourcarpet",
                        "colorbar": {
                          "outlinewidth": 0,
                          "ticks": ""
                        }
                      }
                    ],
                    "contour": [
                      {
                        "type": "contour",
                        "colorbar": {
                          "outlinewidth": 0,
                          "ticks": ""
                        },
                        "colorscale": [
                          [
                            0,
                            "#0d0887"
                          ],
                          [
                            0.1111111111111111,
                            "#46039f"
                          ],
                          [
                            0.2222222222222222,
                            "#7201a8"
                          ],
                          [
                            0.3333333333333333,
                            "#9c179e"
                          ],
                          [
                            0.4444444444444444,
                            "#bd3786"
                          ],
                          [
                            0.5555555555555556,
                            "#d8576b"
                          ],
                          [
                            0.6666666666666666,
                            "#ed7953"
                          ],
                          [
                            0.7777777777777778,
                            "#fb9f3a"
                          ],
                          [
                            0.8888888888888888,
                            "#fdca26"
                          ],
                          [
                            1,
                            "#f0f921"
                          ]
                        ]
                      }
                    ],
                    "surface": [
                      {
                        "type": "surface",
                        "colorbar": {
                          "outlinewidth": 0,
                          "ticks": ""
                        },
                        "colorscale": [
                          [
                            0,
                            "#0d0887"
                          ],
                          [
                            0.1111111111111111,
                            "#46039f"
                          ],
                          [
                            0.2222222222222222,
                            "#7201a8"
                          ],
                          [
                            0.3333333333333333,
                            "#9c179e"
                          ],
                          [
                            0.4444444444444444,
                            "#bd3786"
                          ],
                          [
                            0.5555555555555556,
                            "#d8576b"
                          ],
                          [
                            0.6666666666666666,
                            "#ed7953"
                          ],
                          [
                            0.7777777777777778,
                            "#fb9f3a"
                          ],
                          [
                            0.8888888888888888,
                            "#fdca26"
                          ],
                          [
                            1,
                            "#f0f921"
                          ]
                        ]
                      }
                    ],
                    "mesh3d": [
                      {
                        "type": "mesh3d",
                        "colorbar": {
                          "outlinewidth": 0,
                          "ticks": ""
                        }
                      }
                    ],
                    "scatter": [
                      {
                        "fillpattern": {
                          "fillmode": "overlay",
                          "size": 10,
                          "solidity": 0.2
                        },
                        "type": "scatter"
                      }
                    ],
                    "parcoords": [
                      {
                        "type": "parcoords",
                        "line": {
                          "colorbar": {
                            "outlinewidth": 0,
                            "ticks": ""
                          }
                        }
                      }
                    ],
                    "scatterpolargl": [
                      {
                        "type": "scatterpolargl",
                        "marker": {
                          "colorbar": {
                            "outlinewidth": 0,
                            "ticks": ""
                          }
                        }
                      }
                    ],
                    "bar": [
                      {
                        "error_x": {
                          "color": "#2a3f5f"
                        },
                        "error_y": {
                          "color": "#2a3f5f"
                        },
                        "marker": {
                          "line": {
                            "color": "#E5ECF6",
                            "width": 0.5
                          },
                          "pattern": {
                            "fillmode": "overlay",
                            "size": 10,
                            "solidity": 0.2
                          }
                        },
                        "type": "bar"
                      }
                    ],
                    "scattergeo": [
                      {
                        "type": "scattergeo",
                        "marker": {
                          "colorbar": {
                            "outlinewidth": 0,
                            "ticks": ""
                          }
                        }
                      }
                    ],
                    "scatterpolar": [
                      {
                        "type": "scatterpolar",
                        "marker": {
                          "colorbar": {
                            "outlinewidth": 0,
                            "ticks": ""
                          }
                        }
                      }
                    ],
                    "histogram": [
                      {
                        "marker": {
                          "pattern": {
                            "fillmode": "overlay",
                            "size": 10,
                            "solidity": 0.2
                          }
                        },
                        "type": "histogram"
                      }
                    ],
                    "scattergl": [
                      {
                        "type": "scattergl",
                        "marker": {
                          "colorbar": {
                            "outlinewidth": 0,
                            "ticks": ""
                          }
                        }
                      }
                    ],
                    "scatter3d": [
                      {
                        "type": "scatter3d",
                        "line": {
                          "colorbar": {
                            "outlinewidth": 0,
                            "ticks": ""
                          }
                        },
                        "marker": {
                          "colorbar": {
                            "outlinewidth": 0,
                            "ticks": ""
                          }
                        }
                      }
                    ],
                    "scattermap": [
                      {
                        "type": "scattermap",
                        "marker": {
                          "colorbar": {
                            "outlinewidth": 0,
                            "ticks": ""
                          }
                        }
                      }
                    ],
                    "scattermapbox": [
                      {
                        "type": "scattermapbox",
                        "marker": {
                          "colorbar": {
                            "outlinewidth": 0,
                            "ticks": ""
                          }
                        }
                      }
                    ],
                    "scatterternary": [
                      {
                        "type": "scatterternary",
                        "marker": {
                          "colorbar": {
                            "outlinewidth": 0,
                            "ticks": ""
                          }
                        }
                      }
                    ],
                    "scattercarpet": [
                      {
                        "type": "scattercarpet",
                        "marker": {
                          "colorbar": {
                            "outlinewidth": 0,
                            "ticks": ""
                          }
                        }
                      }
                    ],
                    "carpet": [
                      {
                        "aaxis": {
                          "endlinecolor": "#2a3f5f",
                          "gridcolor": "white",
                          "linecolor": "white",
                          "minorgridcolor": "white",
                          "startlinecolor": "#2a3f5f"
                        },
                        "baxis": {
                          "endlinecolor": "#2a3f5f",
                          "gridcolor": "white",
                          "linecolor": "white",
                          "minorgridcolor": "white",
                          "startlinecolor": "#2a3f5f"
                        },
                        "type": "carpet"
                      }
                    ],
                    "table": [
                      {
                        "cells": {
                          "fill": {
                            "color": "#EBF0F8"
                          },
                          "line": {
                            "color": "white"
                          }
                        },
                        "header": {
                          "fill": {
                            "color": "#C8D4E3"
                          },
                          "line": {
                            "color": "white"
                          }
                        },
                        "type": "table"
                      }
                    ],
                    "barpolar": [
                      {
                        "marker": {
                          "line": {
                            "color": "#E5ECF6",
                            "width": 0.5
                          },
                          "pattern": {
                            "fillmode": "overlay",
                            "size": 10,
                            "solidity": 0.2
                          }
                        },
                        "type": "barpolar"
                      }
                    ],
                    "pie": [
                      {
                        "automargin": true,
                        "type": "pie"
                      }
                    ]
                  },
                  "layout": {
                    "autotypenumbers": "strict",
                    "colorway": [
                      "#636efa",
                      "#EF553B",
                      "#00cc96",
                      "#ab63fa",
                      "#FFA15A",
                      "#19d3f3",
                      "#FF6692",
                      "#B6E880",
                      "#FF97FF",
                      "#FECB52"
                    ],
                    "font": {
                      "color": "#2a3f5f"
                    },
                    "hovermode": "closest",
                    "hoverlabel": {
                      "align": "left"
                    },
                    "paper_bgcolor": "white",
                    "plot_bgcolor": "#E5ECF6",
                    "polar": {
                      "bgcolor": "#E5ECF6",
                      "angularaxis": {
                        "gridcolor": "white",
                        "linecolor": "white",
                        "ticks": ""
                      },
                      "radialaxis": {
                        "gridcolor": "white",
                        "linecolor": "white",
                        "ticks": ""
                      }
                    },
                    "ternary": {
                      "bgcolor": "#E5ECF6",
                      "aaxis": {
                        "gridcolor": "white",
                        "linecolor": "white",
                        "ticks": ""
                      },
                      "baxis": {
                        "gridcolor": "white",
                        "linecolor": "white",
                        "ticks": ""
                      },
                      "caxis": {
                        "gridcolor": "white",
                        "linecolor": "white",
                        "ticks": ""
                      }
                    },
                    "coloraxis": {
                      "colorbar": {
                        "outlinewidth": 0,
                        "ticks": ""
                      }
                    },
                    "colorscale": {
                      "sequential": [
                        [
                          0,
                          "#0d0887"
                        ],
                        [
                          0.1111111111111111,
                          "#46039f"
                        ],
                        [
                          0.2222222222222222,
                          "#7201a8"
                        ],
                        [
                          0.3333333333333333,
                          "#9c179e"
                        ],
                        [
                          0.4444444444444444,
                          "#bd3786"
                        ],
                        [
                          0.5555555555555556,
                          "#d8576b"
                        ],
                        [
                          0.6666666666666666,
                          "#ed7953"
                        ],
                        [
                          0.7777777777777778,
                          "#fb9f3a"
                        ],
                        [
                          0.8888888888888888,
                          "#fdca26"
                        ],
                        [
                          1,
                          "#f0f921"
                        ]
                      ],
                      "sequentialminus": [
                        [
                          0,
                          "#0d0887"
                        ],
                        [
                          0.1111111111111111,
                          "#46039f"
                        ],
                        [
                          0.2222222222222222,
                          "#7201a8"
                        ],
                        [
                          0.3333333333333333,
                          "#9c179e"
                        ],
                        [
                          0.4444444444444444,
                          "#bd3786"
                        ],
                        [
                          0.5555555555555556,
                          "#d8576b"
                        ],
                        [
                          0.6666666666666666,
                          "#ed7953"
                        ],
                        [
                          0.7777777777777778,
                          "#fb9f3a"
                        ],
                        [
                          0.8888888888888888,
                          "#fdca26"
                        ],
                        [
                          1,
                          "#f0f921"
                        ]
                      ],
                      "diverging": [
                        [
                          0,
                          "#8e0152"
                        ],
                        [
                          0.1,
                          "#c51b7d"
                        ],
                        [
                          0.2,
                          "#de77ae"
                        ],
                        [
                          0.3,
                          "#f1b6da"
                        ],
                        [
                          0.4,
                          "#fde0ef"
                        ],
                        [
                          0.5,
                          "#f7f7f7"
                        ],
                        [
                          0.6,
                          "#e6f5d0"
                        ],
                        [
                          0.7,
                          "#b8e186"
                        ],
                        [
                          0.8,
                          "#7fbc41"
                        ],
                        [
                          0.9,
                          "#4d9221"
                        ],
                        [
                          1,
                          "#276419"
                        ]
                      ]
                    },
                    "xaxis": {
                      "gridcolor": "white",
                      "linecolor": "white",
                      "ticks": "",
                      "title": {
                        "standoff": 15
                      },
                      "zerolinecolor": "white",
                      "automargin": true,
                      "zerolinewidth": 2
                    },
                    "yaxis": {
                      "gridcolor": "white",
                      "linecolor": "white",
                      "ticks": "",
                      "title": {
                        "standoff": 15
                      },
                      "zerolinecolor": "white",
                      "automargin": true,
                      "zerolinewidth": 2
                    },
                    "scene": {
                      "xaxis": {
                        "backgroundcolor": "#E5ECF6",
                        "gridcolor": "white",
                        "linecolor": "white",
                        "showbackground": true,
                        "ticks": "",
                        "zerolinecolor": "white",
                        "gridwidth": 2
                      },
                      "yaxis": {
                        "backgroundcolor": "#E5ECF6",
                        "gridcolor": "white",
                        "linecolor": "white",
                        "showbackground": true,
                        "ticks": "",
                        "zerolinecolor": "white",
                        "gridwidth": 2
                      },
                      "zaxis": {
                        "backgroundcolor": "#E5ECF6",
                        "gridcolor": "white",
                        "linecolor": "white",
                        "showbackground": true,
                        "ticks": "",
                        "zerolinecolor": "white",
                        "gridwidth": 2
                      }
                    },
                    "shapedefaults": {
                      "line": {
                        "color": "#2a3f5f"
                      }
                    },
                    "annotationdefaults": {
                      "arrowcolor": "#2a3f5f",
                      "arrowhead": 0,
                      "arrowwidth": 1
                    },
                    "geo": {
                      "bgcolor": "white",
                      "landcolor": "#E5ECF6",
                      "subunitcolor": "white",
                      "showland": true,
                      "showlakes": true,
                      "lakecolor": "white"
                    },
                    "title": {
                      "x": 0.05
                    },
                    "mapbox": {
                      "style": "light"
                    }
                  }
                },
                "xaxis": {
                  "anchor": "y",
                  "domain": [
                    0,
                    1
                  ],
                  "title": {
                    "text": "event_hour"
                  }
                },
                "yaxis": {
                  "anchor": "x",
                  "domain": [
                    0,
                    1
                  ],
                  "title": {
                    "text": "view_to_purchase"
                  }
                },
                "legend": {
                  "tracegroupgap": 0
                },
                "margin": {
                  "t": 60
                },
                "width": 700,
                "height": 400
              },
              "config": {
                "plotlyServerURL": "https://plot.ly"
              }
            },
            "text/html": [
              "<div>            <script src=\"https://cdnjs.cloudflare.com/ajax/libs/mathjax/2.7.5/MathJax.js?config=TeX-AMS-MML_SVG\"></script><script type=\"text/javascript\">if (window.MathJax && window.MathJax.Hub && window.MathJax.Hub.Config) {window.MathJax.Hub.Config({SVG: {font: \"STIX-Web\"}});}</script>                <script type=\"text/javascript\">window.PlotlyConfig = {MathJaxConfig: 'local'};</script>\n",
              "        <script charset=\"utf-8\" src=\"https://cdn.plot.ly/plotly-3.0.1.min.js\" integrity=\"sha256-oy6Be7Eh6eiQFs5M7oXuPxxm9qbJXEtTpfSI93dW16Q=\" crossorigin=\"anonymous\"></script>                <div id=\"195a71e7-3360-4efa-ba47-de0d8c3f00e2\" class=\"plotly-graph-div\" style=\"height:400px; width:700px;\"></div>            <script type=\"text/javascript\">                window.PLOTLYENV=window.PLOTLYENV || {};                                if (document.getElementById(\"195a71e7-3360-4efa-ba47-de0d8c3f00e2\")) {                    Plotly.newPlot(                        \"195a71e7-3360-4efa-ba47-de0d8c3f00e2\",                        [{\"hovertemplate\":\"event_hour=%{x}\\u003cbr\\u003eview_to_purchase=%{y}\\u003cextra\\u003e\\u003c\\u002fextra\\u003e\",\"legendgroup\":\"\",\"line\":{\"color\":\"#0d0887\",\"dash\":\"solid\",\"shape\":\"spline\"},\"marker\":{\"symbol\":\"circle\"},\"mode\":\"lines\",\"name\":\"\",\"orientation\":\"v\",\"showlegend\":false,\"x\":{\"dtype\":\"i4\",\"bdata\":\"AAAAAAEAAAACAAAAAwAAAAQAAAAFAAAABgAAAAcAAAAIAAAACQAAAAoAAAALAAAADAAAAA0AAAAOAAAADwAAABAAAAARAAAAEgAAABMAAAAUAAAAFQAAABYAAAAXAAAA\"},\"xaxis\":\"x\",\"y\":{\"dtype\":\"f8\",\"bdata\":\"AAAAAAAAAAAAAAAAAAAAAAAAAAAAAAAAAAAAAAAAAAAAAAAAAAAAAAAAAAAAAAAAAAAAAAAAAAAcKRrij1vnPwAAAAAAAAAAAAAAAAAAAAC8QCbFC2TyPwAAAAAAAAAAAAAAAAAAAAAAAAAAAAAAAMqdooUzIOQ\\u002fAAAAAAAAAAAAAAAAAAAAAAAAAAAAAAAAAAAAAAAAAAAAAAAAAAAAAAAAAAAAAAAAAAAAAAAAAAAAAAAAAAAAAAAAAAAAAAAA\"},\"yaxis\":\"y\",\"type\":\"scatter\"}],                        {\"template\":{\"data\":{\"histogram2dcontour\":[{\"type\":\"histogram2dcontour\",\"colorbar\":{\"outlinewidth\":0,\"ticks\":\"\"},\"colorscale\":[[0.0,\"#0d0887\"],[0.1111111111111111,\"#46039f\"],[0.2222222222222222,\"#7201a8\"],[0.3333333333333333,\"#9c179e\"],[0.4444444444444444,\"#bd3786\"],[0.5555555555555556,\"#d8576b\"],[0.6666666666666666,\"#ed7953\"],[0.7777777777777778,\"#fb9f3a\"],[0.8888888888888888,\"#fdca26\"],[1.0,\"#f0f921\"]]}],\"choropleth\":[{\"type\":\"choropleth\",\"colorbar\":{\"outlinewidth\":0,\"ticks\":\"\"}}],\"histogram2d\":[{\"type\":\"histogram2d\",\"colorbar\":{\"outlinewidth\":0,\"ticks\":\"\"},\"colorscale\":[[0.0,\"#0d0887\"],[0.1111111111111111,\"#46039f\"],[0.2222222222222222,\"#7201a8\"],[0.3333333333333333,\"#9c179e\"],[0.4444444444444444,\"#bd3786\"],[0.5555555555555556,\"#d8576b\"],[0.6666666666666666,\"#ed7953\"],[0.7777777777777778,\"#fb9f3a\"],[0.8888888888888888,\"#fdca26\"],[1.0,\"#f0f921\"]]}],\"heatmap\":[{\"type\":\"heatmap\",\"colorbar\":{\"outlinewidth\":0,\"ticks\":\"\"},\"colorscale\":[[0.0,\"#0d0887\"],[0.1111111111111111,\"#46039f\"],[0.2222222222222222,\"#7201a8\"],[0.3333333333333333,\"#9c179e\"],[0.4444444444444444,\"#bd3786\"],[0.5555555555555556,\"#d8576b\"],[0.6666666666666666,\"#ed7953\"],[0.7777777777777778,\"#fb9f3a\"],[0.8888888888888888,\"#fdca26\"],[1.0,\"#f0f921\"]]}],\"contourcarpet\":[{\"type\":\"contourcarpet\",\"colorbar\":{\"outlinewidth\":0,\"ticks\":\"\"}}],\"contour\":[{\"type\":\"contour\",\"colorbar\":{\"outlinewidth\":0,\"ticks\":\"\"},\"colorscale\":[[0.0,\"#0d0887\"],[0.1111111111111111,\"#46039f\"],[0.2222222222222222,\"#7201a8\"],[0.3333333333333333,\"#9c179e\"],[0.4444444444444444,\"#bd3786\"],[0.5555555555555556,\"#d8576b\"],[0.6666666666666666,\"#ed7953\"],[0.7777777777777778,\"#fb9f3a\"],[0.8888888888888888,\"#fdca26\"],[1.0,\"#f0f921\"]]}],\"surface\":[{\"type\":\"surface\",\"colorbar\":{\"outlinewidth\":0,\"ticks\":\"\"},\"colorscale\":[[0.0,\"#0d0887\"],[0.1111111111111111,\"#46039f\"],[0.2222222222222222,\"#7201a8\"],[0.3333333333333333,\"#9c179e\"],[0.4444444444444444,\"#bd3786\"],[0.5555555555555556,\"#d8576b\"],[0.6666666666666666,\"#ed7953\"],[0.7777777777777778,\"#fb9f3a\"],[0.8888888888888888,\"#fdca26\"],[1.0,\"#f0f921\"]]}],\"mesh3d\":[{\"type\":\"mesh3d\",\"colorbar\":{\"outlinewidth\":0,\"ticks\":\"\"}}],\"scatter\":[{\"fillpattern\":{\"fillmode\":\"overlay\",\"size\":10,\"solidity\":0.2},\"type\":\"scatter\"}],\"parcoords\":[{\"type\":\"parcoords\",\"line\":{\"colorbar\":{\"outlinewidth\":0,\"ticks\":\"\"}}}],\"scatterpolargl\":[{\"type\":\"scatterpolargl\",\"marker\":{\"colorbar\":{\"outlinewidth\":0,\"ticks\":\"\"}}}],\"bar\":[{\"error_x\":{\"color\":\"#2a3f5f\"},\"error_y\":{\"color\":\"#2a3f5f\"},\"marker\":{\"line\":{\"color\":\"#E5ECF6\",\"width\":0.5},\"pattern\":{\"fillmode\":\"overlay\",\"size\":10,\"solidity\":0.2}},\"type\":\"bar\"}],\"scattergeo\":[{\"type\":\"scattergeo\",\"marker\":{\"colorbar\":{\"outlinewidth\":0,\"ticks\":\"\"}}}],\"scatterpolar\":[{\"type\":\"scatterpolar\",\"marker\":{\"colorbar\":{\"outlinewidth\":0,\"ticks\":\"\"}}}],\"histogram\":[{\"marker\":{\"pattern\":{\"fillmode\":\"overlay\",\"size\":10,\"solidity\":0.2}},\"type\":\"histogram\"}],\"scattergl\":[{\"type\":\"scattergl\",\"marker\":{\"colorbar\":{\"outlinewidth\":0,\"ticks\":\"\"}}}],\"scatter3d\":[{\"type\":\"scatter3d\",\"line\":{\"colorbar\":{\"outlinewidth\":0,\"ticks\":\"\"}},\"marker\":{\"colorbar\":{\"outlinewidth\":0,\"ticks\":\"\"}}}],\"scattermap\":[{\"type\":\"scattermap\",\"marker\":{\"colorbar\":{\"outlinewidth\":0,\"ticks\":\"\"}}}],\"scattermapbox\":[{\"type\":\"scattermapbox\",\"marker\":{\"colorbar\":{\"outlinewidth\":0,\"ticks\":\"\"}}}],\"scatterternary\":[{\"type\":\"scatterternary\",\"marker\":{\"colorbar\":{\"outlinewidth\":0,\"ticks\":\"\"}}}],\"scattercarpet\":[{\"type\":\"scattercarpet\",\"marker\":{\"colorbar\":{\"outlinewidth\":0,\"ticks\":\"\"}}}],\"carpet\":[{\"aaxis\":{\"endlinecolor\":\"#2a3f5f\",\"gridcolor\":\"white\",\"linecolor\":\"white\",\"minorgridcolor\":\"white\",\"startlinecolor\":\"#2a3f5f\"},\"baxis\":{\"endlinecolor\":\"#2a3f5f\",\"gridcolor\":\"white\",\"linecolor\":\"white\",\"minorgridcolor\":\"white\",\"startlinecolor\":\"#2a3f5f\"},\"type\":\"carpet\"}],\"table\":[{\"cells\":{\"fill\":{\"color\":\"#EBF0F8\"},\"line\":{\"color\":\"white\"}},\"header\":{\"fill\":{\"color\":\"#C8D4E3\"},\"line\":{\"color\":\"white\"}},\"type\":\"table\"}],\"barpolar\":[{\"marker\":{\"line\":{\"color\":\"#E5ECF6\",\"width\":0.5},\"pattern\":{\"fillmode\":\"overlay\",\"size\":10,\"solidity\":0.2}},\"type\":\"barpolar\"}],\"pie\":[{\"automargin\":true,\"type\":\"pie\"}]},\"layout\":{\"autotypenumbers\":\"strict\",\"colorway\":[\"#636efa\",\"#EF553B\",\"#00cc96\",\"#ab63fa\",\"#FFA15A\",\"#19d3f3\",\"#FF6692\",\"#B6E880\",\"#FF97FF\",\"#FECB52\"],\"font\":{\"color\":\"#2a3f5f\"},\"hovermode\":\"closest\",\"hoverlabel\":{\"align\":\"left\"},\"paper_bgcolor\":\"white\",\"plot_bgcolor\":\"#E5ECF6\",\"polar\":{\"bgcolor\":\"#E5ECF6\",\"angularaxis\":{\"gridcolor\":\"white\",\"linecolor\":\"white\",\"ticks\":\"\"},\"radialaxis\":{\"gridcolor\":\"white\",\"linecolor\":\"white\",\"ticks\":\"\"}},\"ternary\":{\"bgcolor\":\"#E5ECF6\",\"aaxis\":{\"gridcolor\":\"white\",\"linecolor\":\"white\",\"ticks\":\"\"},\"baxis\":{\"gridcolor\":\"white\",\"linecolor\":\"white\",\"ticks\":\"\"},\"caxis\":{\"gridcolor\":\"white\",\"linecolor\":\"white\",\"ticks\":\"\"}},\"coloraxis\":{\"colorbar\":{\"outlinewidth\":0,\"ticks\":\"\"}},\"colorscale\":{\"sequential\":[[0.0,\"#0d0887\"],[0.1111111111111111,\"#46039f\"],[0.2222222222222222,\"#7201a8\"],[0.3333333333333333,\"#9c179e\"],[0.4444444444444444,\"#bd3786\"],[0.5555555555555556,\"#d8576b\"],[0.6666666666666666,\"#ed7953\"],[0.7777777777777778,\"#fb9f3a\"],[0.8888888888888888,\"#fdca26\"],[1.0,\"#f0f921\"]],\"sequentialminus\":[[0.0,\"#0d0887\"],[0.1111111111111111,\"#46039f\"],[0.2222222222222222,\"#7201a8\"],[0.3333333333333333,\"#9c179e\"],[0.4444444444444444,\"#bd3786\"],[0.5555555555555556,\"#d8576b\"],[0.6666666666666666,\"#ed7953\"],[0.7777777777777778,\"#fb9f3a\"],[0.8888888888888888,\"#fdca26\"],[1.0,\"#f0f921\"]],\"diverging\":[[0,\"#8e0152\"],[0.1,\"#c51b7d\"],[0.2,\"#de77ae\"],[0.3,\"#f1b6da\"],[0.4,\"#fde0ef\"],[0.5,\"#f7f7f7\"],[0.6,\"#e6f5d0\"],[0.7,\"#b8e186\"],[0.8,\"#7fbc41\"],[0.9,\"#4d9221\"],[1,\"#276419\"]]},\"xaxis\":{\"gridcolor\":\"white\",\"linecolor\":\"white\",\"ticks\":\"\",\"title\":{\"standoff\":15},\"zerolinecolor\":\"white\",\"automargin\":true,\"zerolinewidth\":2},\"yaxis\":{\"gridcolor\":\"white\",\"linecolor\":\"white\",\"ticks\":\"\",\"title\":{\"standoff\":15},\"zerolinecolor\":\"white\",\"automargin\":true,\"zerolinewidth\":2},\"scene\":{\"xaxis\":{\"backgroundcolor\":\"#E5ECF6\",\"gridcolor\":\"white\",\"linecolor\":\"white\",\"showbackground\":true,\"ticks\":\"\",\"zerolinecolor\":\"white\",\"gridwidth\":2},\"yaxis\":{\"backgroundcolor\":\"#E5ECF6\",\"gridcolor\":\"white\",\"linecolor\":\"white\",\"showbackground\":true,\"ticks\":\"\",\"zerolinecolor\":\"white\",\"gridwidth\":2},\"zaxis\":{\"backgroundcolor\":\"#E5ECF6\",\"gridcolor\":\"white\",\"linecolor\":\"white\",\"showbackground\":true,\"ticks\":\"\",\"zerolinecolor\":\"white\",\"gridwidth\":2}},\"shapedefaults\":{\"line\":{\"color\":\"#2a3f5f\"}},\"annotationdefaults\":{\"arrowcolor\":\"#2a3f5f\",\"arrowhead\":0,\"arrowwidth\":1},\"geo\":{\"bgcolor\":\"white\",\"landcolor\":\"#E5ECF6\",\"subunitcolor\":\"white\",\"showland\":true,\"showlakes\":true,\"lakecolor\":\"white\"},\"title\":{\"x\":0.05},\"mapbox\":{\"style\":\"light\"}}},\"xaxis\":{\"anchor\":\"y\",\"domain\":[0.0,1.0],\"title\":{\"text\":\"event_hour\"}},\"yaxis\":{\"anchor\":\"x\",\"domain\":[0.0,1.0],\"title\":{\"text\":\"view_to_purchase\"}},\"legend\":{\"tracegroupgap\":0},\"margin\":{\"t\":60},\"width\":700,\"height\":400},                        {\"responsive\": true}                    ).then(function(){\n",
              "                            \n",
              "var gd = document.getElementById('195a71e7-3360-4efa-ba47-de0d8c3f00e2');\n",
              "var x = new MutationObserver(function (mutations, observer) {{\n",
              "        var display = window.getComputedStyle(gd).display;\n",
              "        if (!display || display === 'none') {{\n",
              "            console.log([gd, 'removed!']);\n",
              "            Plotly.purge(gd);\n",
              "            observer.disconnect();\n",
              "        }}\n",
              "}});\n",
              "\n",
              "// Listen for the removal of the full notebook cells\n",
              "var notebookContainer = gd.closest('#notebook-container');\n",
              "if (notebookContainer) {{\n",
              "    x.observe(notebookContainer, {childList: true});\n",
              "}}\n",
              "\n",
              "// Listen for the clearing of the current output cell\n",
              "var outputEl = gd.closest('.output');\n",
              "if (outputEl) {{\n",
              "    x.observe(outputEl, {childList: true});\n",
              "}}\n",
              "\n",
              "                        })                };            </script>        </div>"
            ]
          },
          "metadata": {}
        }
      ]
    },
    {
      "cell_type": "markdown",
      "source": [
        "Since user activity peaks in the evening, the platform could prioritize brands with higher purchase conversion rates during these hours instead of promoting low-performing brands like kosmekka."
      ],
      "metadata": {
        "id": "bwzHDO4Eh1ID"
      }
    },
    {
      "cell_type": "markdown",
      "source": [
        "## **IV. Conclusion**"
      ],
      "metadata": {
        "id": "Fab-17pyOOA4"
      }
    },
    {
      "cell_type": "markdown",
      "source": [
        "### **1. Key Findings**\n",
        "\n",
        "Analysis of the funnel data reveals that, on average, 12% of users who view a product add it to their cart, and about 5% complete a purchase. The view-to-cart conversion rate drops noticeably as product prices increase—from approximately 15% for products priced at 3 or less, down to 8% for those above 8. In contrast, the cart-to-purchase conversion rate is close to 40% for products priced at 3 or less, while it remains steady at around 35% for other price categories. This indicates that, although the rate is slightly higher for lower-priced items, the overall likelihood of completing a purchase after adding an item to the cart is relatively high and stable, regardless of product price. These findings suggest that the main bottleneck lies in encouraging users to add items to their carts—particularly for higher-priced products. User browsing activity peaks around 7 PM, while purchases are most frequently completed at 11 AM, highlighting a temporal gap between product exploration and transaction completion.\n",
        "\n",
        "### **2. Strategic Recommendations**\n",
        "\n",
        "Based on these findings, the platform should prioritize increasing the rate at which users add high-priced items to their carts by leveraging targeted promotions, discounts, or enhanced product visibility. For products priced at 3 or less, where the cart-to-purchase rate is slightly higher, automated reminders about inactive carts can help drive additional purchases.\n",
        "\n",
        "Kosmekka was selected for separate analysis because it attracts a high number of product views but its purchase conversion rate is exceptionally low. The analysis suggests that high prices are a key reason for this low conversion. For brands that receive significant interest but have low sales as a result of high prices, alternative strategies such as creating a dedicated premium section or reallocating exposure to brands that better match user price sensitivity should be considered.\n",
        "\n",
        "In conclusion, directing resources toward motivating users to add items to their carts is expected to have the most significant impact on improving overall sales performance for the platform."
      ],
      "metadata": {
        "id": "JChd7aWKh6OJ"
      }
    }
  ]
}